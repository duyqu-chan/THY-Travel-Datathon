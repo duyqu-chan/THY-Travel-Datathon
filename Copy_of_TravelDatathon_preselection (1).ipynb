{
  "nbformat": 4,
  "nbformat_minor": 0,
  "metadata": {
    "colab": {
      "name": "Copy of TravelDatathon_preselection.ipynb",
      "version": "0.3.2",
      "provenance": [],
      "collapsed_sections": [],
      "toc_visible": true
    },
    "kernelspec": {
      "name": "python3",
      "display_name": "Python 3"
    }
  },
  "cells": [
    {
      "cell_type": "markdown",
      "metadata": {
        "id": "d6umBn88WlMy",
        "colab_type": "text"
      },
      "source": [
        "#THY Travel Datathon Preselection Case Study\n",
        "\n",
        "by Duygu Can, Meriç Pakkan, Şule Kütükde, Neslihan Oflaz\n",
        "\n",
        "\n",
        "Flying passengers can check-in through the web site, applications, kiosks and counters. In this case study content, the train data including the number of seven-month passenger check-in operations is provided. We want you to estimate the number of channels (column Operation_Count) in the csv file attached."
      ]
    },
    {
      "cell_type": "markdown",
      "metadata": {
        "id": "eG0UfrxPXz_H",
        "colab_type": "text"
      },
      "source": [
        "Mount drive to load the data:"
      ]
    },
    {
      "cell_type": "code",
      "metadata": {
        "id": "XsobMdDBWfjX",
        "colab_type": "code",
        "outputId": "c66d9a7e-4f07-4217-b200-4619c4f80443",
        "colab": {
          "base_uri": "https://localhost:8080/",
          "height": 54
        }
      },
      "source": [
        "# Run this cell to mount your Google Drive.\n",
        "from google.colab import drive\n",
        "drive.mount('/content/drive')"
      ],
      "execution_count": 2,
      "outputs": [
        {
          "output_type": "stream",
          "text": [
            "Drive already mounted at /content/drive; to attempt to forcibly remount, call drive.mount(\"/content/drive\", force_remount=True).\n"
          ],
          "name": "stdout"
        }
      ]
    },
    {
      "cell_type": "markdown",
      "metadata": {
        "id": "0kLlbk20ZyIq",
        "colab_type": "text"
      },
      "source": [
        "## Dataset Expolaration"
      ]
    },
    {
      "cell_type": "markdown",
      "metadata": {
        "id": "SCQudbprX5pl",
        "colab_type": "text"
      },
      "source": [
        "Upload the data by reading provided .csv files from Google Drive (change path if needed). There are 808696 samples in the training and 121921 instances in the test sets. Each has 23 features."
      ]
    },
    {
      "cell_type": "code",
      "metadata": {
        "id": "WmZbEAnwYJj6",
        "colab_type": "code",
        "outputId": "679654cf-a7fb-4143-b73a-6f84a86b59a8",
        "colab": {
          "base_uri": "https://localhost:8080/",
          "height": 258
        }
      },
      "source": [
        "import pandas as pd\n",
        "train_df = pd.read_csv(\"/content/drive/My Drive/Travel Datathon/Assessment Data/Assessment Train Data.csv\")\n",
        "result_df = pd.read_csv(\"/content/drive/My Drive/Travel Datathon/Assessment Data/Assessment Result File.csv\")\n",
        "print(train_df.shape)\n",
        "print(result_df.shape)\n",
        "train_df.head()"
      ],
      "execution_count": 3,
      "outputs": [
        {
          "output_type": "stream",
          "text": [
            "(808696, 23)\n",
            "(121921, 23)\n"
          ],
          "name": "stdout"
        },
        {
          "output_type": "execute_result",
          "data": {
            "text/html": [
              "<div>\n",
              "<style scoped>\n",
              "    .dataframe tbody tr th:only-of-type {\n",
              "        vertical-align: middle;\n",
              "    }\n",
              "\n",
              "    .dataframe tbody tr th {\n",
              "        vertical-align: top;\n",
              "    }\n",
              "\n",
              "    .dataframe thead th {\n",
              "        text-align: right;\n",
              "    }\n",
              "</style>\n",
              "<table border=\"1\" class=\"dataframe\">\n",
              "  <thead>\n",
              "    <tr style=\"text-align: right;\">\n",
              "      <th></th>\n",
              "      <th>Departure_YMD_LMT</th>\n",
              "      <th>Operation_YMD_LMT</th>\n",
              "      <th>Departure_Airport</th>\n",
              "      <th>Operation_Airport</th>\n",
              "      <th>Terminal_Number</th>\n",
              "      <th>Terminal_Name</th>\n",
              "      <th>Operation_Initials</th>\n",
              "      <th>Operation_Sonic_Code</th>\n",
              "      <th>Operation_Channel</th>\n",
              "      <th>Passenger_Title</th>\n",
              "      <th>Passenger_Gender</th>\n",
              "      <th>Inbound_Departure_Airport</th>\n",
              "      <th>Outbound_Arrival_Airport</th>\n",
              "      <th>SWC_FLY</th>\n",
              "      <th>Cabin_Class</th>\n",
              "      <th>SWC_FQTV_Member</th>\n",
              "      <th>Passenger_Baggage_Count</th>\n",
              "      <th>Passenger_Baggage_Weight</th>\n",
              "      <th>SWC_Staff</th>\n",
              "      <th>SWC_CIP_Passenger</th>\n",
              "      <th>SWC_VIP_Passenger</th>\n",
              "      <th>SWC_Has_Infant</th>\n",
              "      <th>Operation_Count</th>\n",
              "    </tr>\n",
              "  </thead>\n",
              "  <tbody>\n",
              "    <tr>\n",
              "      <th>0</th>\n",
              "      <td>20190326</td>\n",
              "      <td>20190326</td>\n",
              "      <td>KDT</td>\n",
              "      <td>KDT</td>\n",
              "      <td>?</td>\n",
              "      <td>032363</td>\n",
              "      <td>KS</td>\n",
              "      <td>?</td>\n",
              "      <td>QC</td>\n",
              "      <td>MISTER</td>\n",
              "      <td>M</td>\n",
              "      <td>IST</td>\n",
              "      <td>?</td>\n",
              "      <td>1</td>\n",
              "      <td>Y</td>\n",
              "      <td>1</td>\n",
              "      <td>0</td>\n",
              "      <td>0</td>\n",
              "      <td>0</td>\n",
              "      <td>1</td>\n",
              "      <td>0</td>\n",
              "      <td>0</td>\n",
              "      <td>1</td>\n",
              "    </tr>\n",
              "    <tr>\n",
              "      <th>1</th>\n",
              "      <td>20180321</td>\n",
              "      <td>20180321</td>\n",
              "      <td>KDT</td>\n",
              "      <td>KDT</td>\n",
              "      <td>?</td>\n",
              "      <td>03F960</td>\n",
              "      <td>KS</td>\n",
              "      <td>?</td>\n",
              "      <td>QC</td>\n",
              "      <td>MISTER</td>\n",
              "      <td>M</td>\n",
              "      <td>?</td>\n",
              "      <td>KDT</td>\n",
              "      <td>1</td>\n",
              "      <td>Y</td>\n",
              "      <td>1</td>\n",
              "      <td>0</td>\n",
              "      <td>0</td>\n",
              "      <td>0</td>\n",
              "      <td>1</td>\n",
              "      <td>0</td>\n",
              "      <td>0</td>\n",
              "      <td>1</td>\n",
              "    </tr>\n",
              "    <tr>\n",
              "      <th>2</th>\n",
              "      <td>20190322</td>\n",
              "      <td>20190322</td>\n",
              "      <td>KDT</td>\n",
              "      <td>KDT</td>\n",
              "      <td>?</td>\n",
              "      <td>03AA2P</td>\n",
              "      <td>KS</td>\n",
              "      <td>Y011161</td>\n",
              "      <td>QC</td>\n",
              "      <td>MISTER</td>\n",
              "      <td>M</td>\n",
              "      <td>?</td>\n",
              "      <td>?</td>\n",
              "      <td>1</td>\n",
              "      <td>Y</td>\n",
              "      <td>0</td>\n",
              "      <td>0</td>\n",
              "      <td>0</td>\n",
              "      <td>0</td>\n",
              "      <td>0</td>\n",
              "      <td>0</td>\n",
              "      <td>0</td>\n",
              "      <td>1</td>\n",
              "    </tr>\n",
              "    <tr>\n",
              "      <th>3</th>\n",
              "      <td>20180515</td>\n",
              "      <td>20180515</td>\n",
              "      <td>KDT</td>\n",
              "      <td>KDT</td>\n",
              "      <td>?</td>\n",
              "      <td>0353D0</td>\n",
              "      <td>MK</td>\n",
              "      <td>?</td>\n",
              "      <td>TS</td>\n",
              "      <td>MISTER</td>\n",
              "      <td>M</td>\n",
              "      <td>?</td>\n",
              "      <td>?</td>\n",
              "      <td>1</td>\n",
              "      <td>Y</td>\n",
              "      <td>1</td>\n",
              "      <td>0</td>\n",
              "      <td>0</td>\n",
              "      <td>0</td>\n",
              "      <td>1</td>\n",
              "      <td>0</td>\n",
              "      <td>0</td>\n",
              "      <td>2</td>\n",
              "    </tr>\n",
              "    <tr>\n",
              "      <th>4</th>\n",
              "      <td>20190420</td>\n",
              "      <td>20190420</td>\n",
              "      <td>KDT</td>\n",
              "      <td>KDT</td>\n",
              "      <td>?</td>\n",
              "      <td>03F902</td>\n",
              "      <td>KS</td>\n",
              "      <td>Y013437</td>\n",
              "      <td>QC</td>\n",
              "      <td>MISTER</td>\n",
              "      <td>M</td>\n",
              "      <td>?</td>\n",
              "      <td>?</td>\n",
              "      <td>1</td>\n",
              "      <td>Y</td>\n",
              "      <td>0</td>\n",
              "      <td>0</td>\n",
              "      <td>0</td>\n",
              "      <td>1</td>\n",
              "      <td>0</td>\n",
              "      <td>0</td>\n",
              "      <td>0</td>\n",
              "      <td>1</td>\n",
              "    </tr>\n",
              "  </tbody>\n",
              "</table>\n",
              "</div>"
            ],
            "text/plain": [
              "   Departure_YMD_LMT  Operation_YMD_LMT  ... SWC_Has_Infant Operation_Count\n",
              "0           20190326           20190326  ...              0               1\n",
              "1           20180321           20180321  ...              0               1\n",
              "2           20190322           20190322  ...              0               1\n",
              "3           20180515           20180515  ...              0               2\n",
              "4           20190420           20190420  ...              0               1\n",
              "\n",
              "[5 rows x 23 columns]"
            ]
          },
          "metadata": {
            "tags": []
          },
          "execution_count": 3
        }
      ]
    },
    {
      "cell_type": "markdown",
      "metadata": {
        "id": "4ZY-nm_npgp3",
        "colab_type": "text"
      },
      "source": [
        "Check what data types we have:"
      ]
    },
    {
      "cell_type": "code",
      "metadata": {
        "id": "GLxegNa1pd8G",
        "colab_type": "code",
        "outputId": "5c7354b5-6bef-432f-8da3-a06c698963cd",
        "colab": {
          "base_uri": "https://localhost:8080/",
          "height": 425
        }
      },
      "source": [
        "train_df.dtypes"
      ],
      "execution_count": 4,
      "outputs": [
        {
          "output_type": "execute_result",
          "data": {
            "text/plain": [
              "Departure_YMD_LMT             int64\n",
              "Operation_YMD_LMT             int64\n",
              "Departure_Airport            object\n",
              "Operation_Airport            object\n",
              "Terminal_Number              object\n",
              "Terminal_Name                object\n",
              "Operation_Initials           object\n",
              "Operation_Sonic_Code         object\n",
              "Operation_Channel            object\n",
              "Passenger_Title              object\n",
              "Passenger_Gender             object\n",
              "Inbound_Departure_Airport    object\n",
              "Outbound_Arrival_Airport     object\n",
              "SWC_FLY                       int64\n",
              "Cabin_Class                  object\n",
              "SWC_FQTV_Member               int64\n",
              "Passenger_Baggage_Count       int64\n",
              "Passenger_Baggage_Weight      int64\n",
              "SWC_Staff                     int64\n",
              "SWC_CIP_Passenger             int64\n",
              "SWC_VIP_Passenger             int64\n",
              "SWC_Has_Infant                int64\n",
              "Operation_Count               int64\n",
              "dtype: object"
            ]
          },
          "metadata": {
            "tags": []
          },
          "execution_count": 4
        }
      ]
    },
    {
      "cell_type": "markdown",
      "metadata": {
        "id": "l4_01rsyCmlL",
        "colab_type": "text"
      },
      "source": [
        "In the *Departure_YMD_LMT* and the *Operation_YMD_LMT* colums, date of departure and date of check is stored so it is convenient to convert them to date time objects."
      ]
    },
    {
      "cell_type": "code",
      "metadata": {
        "id": "JU_XBMXRDqOZ",
        "colab_type": "code",
        "colab": {}
      },
      "source": [
        "train_df['Departure_YMD_LMT'] = pd.to_datetime(train_df['Departure_YMD_LMT'], format='%Y%m%d')\n",
        "train_df['Operation_YMD_LMT'] = pd.to_datetime(train_df['Operation_YMD_LMT'], format='%Y%m%d')\n",
        "result_df['Departure_YMD_LMT'] = pd.to_datetime(result_df['Departure_YMD_LMT'], format='%Y%m%d')\n",
        "result_df['Operation_YMD_LMT'] = pd.to_datetime(result_df['Operation_YMD_LMT'], format='%Y%m%d')"
      ],
      "execution_count": 0,
      "outputs": []
    },
    {
      "cell_type": "code",
      "metadata": {
        "id": "Gul7qn8ZEW4Y",
        "colab_type": "code",
        "outputId": "0ea27713-3c77-4a1d-9efc-73bcb17901ee",
        "colab": {
          "base_uri": "https://localhost:8080/",
          "height": 425
        }
      },
      "source": [
        "train_df.dtypes"
      ],
      "execution_count": 6,
      "outputs": [
        {
          "output_type": "execute_result",
          "data": {
            "text/plain": [
              "Departure_YMD_LMT            datetime64[ns]\n",
              "Operation_YMD_LMT            datetime64[ns]\n",
              "Departure_Airport                    object\n",
              "Operation_Airport                    object\n",
              "Terminal_Number                      object\n",
              "Terminal_Name                        object\n",
              "Operation_Initials                   object\n",
              "Operation_Sonic_Code                 object\n",
              "Operation_Channel                    object\n",
              "Passenger_Title                      object\n",
              "Passenger_Gender                     object\n",
              "Inbound_Departure_Airport            object\n",
              "Outbound_Arrival_Airport             object\n",
              "SWC_FLY                               int64\n",
              "Cabin_Class                          object\n",
              "SWC_FQTV_Member                       int64\n",
              "Passenger_Baggage_Count               int64\n",
              "Passenger_Baggage_Weight              int64\n",
              "SWC_Staff                             int64\n",
              "SWC_CIP_Passenger                     int64\n",
              "SWC_VIP_Passenger                     int64\n",
              "SWC_Has_Infant                        int64\n",
              "Operation_Count                       int64\n",
              "dtype: object"
            ]
          },
          "metadata": {
            "tags": []
          },
          "execution_count": 6
        }
      ]
    },
    {
      "cell_type": "code",
      "metadata": {
        "id": "OdDOiwuGFerU",
        "colab_type": "code",
        "outputId": "8046a2ec-c16c-44ae-80dc-e7abba9f173d",
        "colab": {
          "base_uri": "https://localhost:8080/",
          "height": 317
        }
      },
      "source": [
        "train_df.describe()"
      ],
      "execution_count": 7,
      "outputs": [
        {
          "output_type": "execute_result",
          "data": {
            "text/html": [
              "<div>\n",
              "<style scoped>\n",
              "    .dataframe tbody tr th:only-of-type {\n",
              "        vertical-align: middle;\n",
              "    }\n",
              "\n",
              "    .dataframe tbody tr th {\n",
              "        vertical-align: top;\n",
              "    }\n",
              "\n",
              "    .dataframe thead th {\n",
              "        text-align: right;\n",
              "    }\n",
              "</style>\n",
              "<table border=\"1\" class=\"dataframe\">\n",
              "  <thead>\n",
              "    <tr style=\"text-align: right;\">\n",
              "      <th></th>\n",
              "      <th>SWC_FLY</th>\n",
              "      <th>SWC_FQTV_Member</th>\n",
              "      <th>Passenger_Baggage_Count</th>\n",
              "      <th>Passenger_Baggage_Weight</th>\n",
              "      <th>SWC_Staff</th>\n",
              "      <th>SWC_CIP_Passenger</th>\n",
              "      <th>SWC_VIP_Passenger</th>\n",
              "      <th>SWC_Has_Infant</th>\n",
              "      <th>Operation_Count</th>\n",
              "    </tr>\n",
              "  </thead>\n",
              "  <tbody>\n",
              "    <tr>\n",
              "      <th>count</th>\n",
              "      <td>808696.000000</td>\n",
              "      <td>808696.000000</td>\n",
              "      <td>808696.000000</td>\n",
              "      <td>808696.000000</td>\n",
              "      <td>808696.000000</td>\n",
              "      <td>808696.000000</td>\n",
              "      <td>808696.000000</td>\n",
              "      <td>808696.000000</td>\n",
              "      <td>808696.000000</td>\n",
              "    </tr>\n",
              "    <tr>\n",
              "      <th>mean</th>\n",
              "      <td>0.939140</td>\n",
              "      <td>0.359679</td>\n",
              "      <td>0.655413</td>\n",
              "      <td>8.560313</td>\n",
              "      <td>0.029989</td>\n",
              "      <td>0.148156</td>\n",
              "      <td>0.008257</td>\n",
              "      <td>0.011681</td>\n",
              "      <td>1.534792</td>\n",
              "    </tr>\n",
              "    <tr>\n",
              "      <th>std</th>\n",
              "      <td>0.239073</td>\n",
              "      <td>0.479907</td>\n",
              "      <td>0.963677</td>\n",
              "      <td>13.667213</td>\n",
              "      <td>0.170557</td>\n",
              "      <td>0.355255</td>\n",
              "      <td>0.090489</td>\n",
              "      <td>0.107444</td>\n",
              "      <td>2.223746</td>\n",
              "    </tr>\n",
              "    <tr>\n",
              "      <th>min</th>\n",
              "      <td>0.000000</td>\n",
              "      <td>0.000000</td>\n",
              "      <td>0.000000</td>\n",
              "      <td>0.000000</td>\n",
              "      <td>0.000000</td>\n",
              "      <td>0.000000</td>\n",
              "      <td>0.000000</td>\n",
              "      <td>0.000000</td>\n",
              "      <td>1.000000</td>\n",
              "    </tr>\n",
              "    <tr>\n",
              "      <th>25%</th>\n",
              "      <td>1.000000</td>\n",
              "      <td>0.000000</td>\n",
              "      <td>0.000000</td>\n",
              "      <td>0.000000</td>\n",
              "      <td>0.000000</td>\n",
              "      <td>0.000000</td>\n",
              "      <td>0.000000</td>\n",
              "      <td>0.000000</td>\n",
              "      <td>1.000000</td>\n",
              "    </tr>\n",
              "    <tr>\n",
              "      <th>50%</th>\n",
              "      <td>1.000000</td>\n",
              "      <td>0.000000</td>\n",
              "      <td>0.000000</td>\n",
              "      <td>0.000000</td>\n",
              "      <td>0.000000</td>\n",
              "      <td>0.000000</td>\n",
              "      <td>0.000000</td>\n",
              "      <td>0.000000</td>\n",
              "      <td>1.000000</td>\n",
              "    </tr>\n",
              "    <tr>\n",
              "      <th>75%</th>\n",
              "      <td>1.000000</td>\n",
              "      <td>1.000000</td>\n",
              "      <td>1.000000</td>\n",
              "      <td>15.000000</td>\n",
              "      <td>0.000000</td>\n",
              "      <td>0.000000</td>\n",
              "      <td>0.000000</td>\n",
              "      <td>0.000000</td>\n",
              "      <td>1.000000</td>\n",
              "    </tr>\n",
              "    <tr>\n",
              "      <th>max</th>\n",
              "      <td>1.000000</td>\n",
              "      <td>1.000000</td>\n",
              "      <td>54.000000</td>\n",
              "      <td>970.000000</td>\n",
              "      <td>1.000000</td>\n",
              "      <td>1.000000</td>\n",
              "      <td>1.000000</td>\n",
              "      <td>1.000000</td>\n",
              "      <td>129.000000</td>\n",
              "    </tr>\n",
              "  </tbody>\n",
              "</table>\n",
              "</div>"
            ],
            "text/plain": [
              "             SWC_FLY  SWC_FQTV_Member  ...  SWC_Has_Infant  Operation_Count\n",
              "count  808696.000000    808696.000000  ...   808696.000000    808696.000000\n",
              "mean        0.939140         0.359679  ...        0.011681         1.534792\n",
              "std         0.239073         0.479907  ...        0.107444         2.223746\n",
              "min         0.000000         0.000000  ...        0.000000         1.000000\n",
              "25%         1.000000         0.000000  ...        0.000000         1.000000\n",
              "50%         1.000000         0.000000  ...        0.000000         1.000000\n",
              "75%         1.000000         1.000000  ...        0.000000         1.000000\n",
              "max         1.000000         1.000000  ...        1.000000       129.000000\n",
              "\n",
              "[8 rows x 9 columns]"
            ]
          },
          "metadata": {
            "tags": []
          },
          "execution_count": 7
        }
      ]
    },
    {
      "cell_type": "markdown",
      "metadata": {
        "id": "3gnER73WQam2",
        "colab_type": "text"
      },
      "source": [
        "Convert *object* datatype to category when needed."
      ]
    },
    {
      "cell_type": "code",
      "metadata": {
        "id": "5e52srsIdGMK",
        "colab_type": "code",
        "colab": {}
      },
      "source": [
        "for col_name in train_df:\n",
        "    if train_df[col_name].dtype.name == 'object':\n",
        "        train_df[col_name] = train_df[col_name].astype('category')\n",
        "        result_df[col_name] = result_df[col_name].astype('category')"
      ],
      "execution_count": 0,
      "outputs": []
    },
    {
      "cell_type": "code",
      "metadata": {
        "id": "oPj0AJ3UdmfQ",
        "colab_type": "code",
        "outputId": "ea0ed926-9f3c-426b-a904-addf8f88e828",
        "colab": {
          "base_uri": "https://localhost:8080/",
          "height": 425
        }
      },
      "source": [
        "train_df.dtypes"
      ],
      "execution_count": 0,
      "outputs": [
        {
          "output_type": "execute_result",
          "data": {
            "text/plain": [
              "Departure_YMD_LMT            datetime64[ns]\n",
              "Operation_YMD_LMT            datetime64[ns]\n",
              "Departure_Airport                  category\n",
              "Operation_Airport                  category\n",
              "Terminal_Number                    category\n",
              "Terminal_Name                      category\n",
              "Operation_Initials                 category\n",
              "Operation_Sonic_Code               category\n",
              "Operation_Channel                  category\n",
              "Passenger_Title                    category\n",
              "Passenger_Gender                   category\n",
              "Inbound_Departure_Airport          category\n",
              "Outbound_Arrival_Airport           category\n",
              "SWC_FLY                               int64\n",
              "Cabin_Class                        category\n",
              "SWC_FQTV_Member                       int64\n",
              "Passenger_Baggage_Count               int64\n",
              "Passenger_Baggage_Weight              int64\n",
              "SWC_Staff                             int64\n",
              "SWC_CIP_Passenger                     int64\n",
              "SWC_VIP_Passenger                     int64\n",
              "SWC_Has_Infant                        int64\n",
              "Operation_Count                       int64\n",
              "dtype: object"
            ]
          },
          "metadata": {
            "tags": []
          },
          "execution_count": 8
        }
      ]
    },
    {
      "cell_type": "markdown",
      "metadata": {
        "id": "O5J9up0-d8bR",
        "colab_type": "text"
      },
      "source": [
        "See the unique levels of the categorical columns. *Departure Airport* has only one value called \"KDT\". So, it is not informative and should be dropped."
      ]
    },
    {
      "cell_type": "code",
      "metadata": {
        "id": "kEzqrNWEYlL-",
        "colab_type": "code",
        "outputId": "2b80aaa7-4e6f-4be0-fda9-5d79b62083a2",
        "colab": {
          "base_uri": "https://localhost:8080/",
          "height": 561
        }
      },
      "source": [
        "for col_name in train_df.columns:\n",
        "    if train_df[col_name].dtype.name == 'category':\n",
        "        print(col_name, \":\", train_df[col_name].unique())"
      ],
      "execution_count": 0,
      "outputs": [
        {
          "output_type": "stream",
          "text": [
            "Departure_Airport : [KDT]\n",
            "Categories (1, object): [KDT]\n",
            "Operation_Airport : [KDT, IST, ZKG, EST, GZT, ..., HRK, ODS, SOF, KNN, MNL]\n",
            "Length: 143\n",
            "Categories (143, object): [KDT, IST, ZKG, EST, ..., ODS, SOF, KNN, MNL]\n",
            "Terminal_Number : [?, P1, P2]\n",
            "Categories (3, object): [?, P1, P2]\n",
            "Terminal_Name : [032363, 03F960, 03AA2P, 0353D0, 03F902, ..., 0B19C9, 03554A, 0302CA, 035316, 03550B]\n",
            "Length: 2685\n",
            "Categories (2685, object): [032363, 03F960, 03AA2P, 0353D0, ..., 03554A, 0302CA, 035316, 03550B]\n",
            "Operation_Initials : [KS, MK, SC, EY, Q7, ..., NB, YK, RW, OA, JF]\n",
            "Length: 273\n",
            "Categories (272, object): [KS, MK, SC, EY, ..., YK, RW, OA, JF]\n",
            "Operation_Sonic_Code : [?, Y011161, Y013437, Y027434, Y013171, ..., M025037, Y019509, Y036439, Y015916, Y039203]\n",
            "Length: 1614\n",
            "Categories (1614, object): [?, Y011161, Y013437, Y027434, ..., Y019509, Y036439, Y015916,\n",
            "                            Y039203]\n",
            "Operation_Channel : [QC, TS, JW, TW, TY, ..., CC, BD, IR, IA, QR]\n",
            "Length: 13\n",
            "Categories (13, object): [QC, TS, JW, TW, ..., BD, IR, IA, QR]\n",
            "Passenger_Title : [MISTER, MISS, MISSES, ?, DOCTOR, PROFFESOR]\n",
            "Categories (6, object): [MISTER, MISS, MISSES, ?, DOCTOR, PROFFESOR]\n",
            "Passenger_Gender : [M, F, ?, F/INF, M/INF, C, C/INF]\n",
            "Categories (7, object): [M, F, ?, F/INF, M/INF, C, C/INF]\n",
            "Inbound_Departure_Airport : [IST, ?, EST, SKW, HKM, ..., NDG, VKS, VIE, STY, TRU]\n",
            "Length: 27\n",
            "Categories (27, object): [IST, ?, EST, SKW, ..., VKS, VIE, STY, TRU]\n",
            "Outbound_Arrival_Airport : [?, KDT, KMS, KGP, KJI, ..., SPU, PHX, MKK, KKE, YYN]\n",
            "Length: 363\n",
            "Categories (363, object): [?, KDT, KMS, KGP, ..., PHX, MKK, KKE, YYN]\n",
            "Cabin_Class : [Y, ?, C]\n",
            "Categories (3, object): [Y, ?, C]\n"
          ],
          "name": "stdout"
        }
      ]
    },
    {
      "cell_type": "markdown",
      "metadata": {
        "id": "RMErP_yZRG1y",
        "colab_type": "text"
      },
      "source": [
        "Generate *Operation_Channel_Group* as defined in the pdf file."
      ]
    },
    {
      "cell_type": "code",
      "metadata": {
        "id": "M3l1GzRXF3tu",
        "colab_type": "code",
        "outputId": "6a3166d6-e100-4573-faaf-b2c8c9c146a9",
        "colab": {
          "base_uri": "https://localhost:8080/",
          "height": 34
        }
      },
      "source": [
        "dict = {\"JW\": 'Online',\n",
        "        \"TW\": 'Online',\n",
        "        \"TS\": 'Mobile',\n",
        "        \"JM\": 'Mobile',\n",
        "        \"TY\":\"Counter\",\n",
        "        \"QC\":\"Counter\",\n",
        "        \"SC\":\"Kiosks\",\n",
        "        \"IR\":\"Other\",\n",
        "        \"?\":\"Other\",\n",
        "        \"IA\":\"Other\",\n",
        "        \"BD\":\"Other\",\n",
        "        \"CC\":\"Other\",\n",
        "        \"QR\":\"Other\",\n",
        "        \"QP\":\"Other\",\n",
        "        \"QA\":\"Other\"\n",
        "        }\n",
        "train_df['Operation_Channel_Group'] = train_df['Operation_Channel'].map(dict)\n",
        "train_df['Operation_Channel_Group'].unique()"
      ],
      "execution_count": 0,
      "outputs": [
        {
          "output_type": "execute_result",
          "data": {
            "text/plain": [
              "array(['Counter', 'Mobile', 'Online', 'Kiosks', 'Other'], dtype=object)"
            ]
          },
          "metadata": {
            "tags": []
          },
          "execution_count": 10
        }
      ]
    },
    {
      "cell_type": "markdown",
      "metadata": {
        "id": "d-dpsfiZ0F0B",
        "colab_type": "text"
      },
      "source": [
        "Do the same for the test set."
      ]
    },
    {
      "cell_type": "code",
      "metadata": {
        "id": "NM2QHVLm0Lh8",
        "colab_type": "code",
        "outputId": "0becb6fc-958d-4881-f839-04fcb1684614",
        "colab": {
          "base_uri": "https://localhost:8080/",
          "height": 34
        }
      },
      "source": [
        "result_df['Operation_Channel_Group'] = result_df['Operation_Channel'].map(dict)\n",
        "result_df['Operation_Channel_Group'].unique()"
      ],
      "execution_count": 0,
      "outputs": [
        {
          "output_type": "execute_result",
          "data": {
            "text/plain": [
              "array(['Mobile', 'Counter', 'Online', 'Kiosks', 'Other'], dtype=object)"
            ]
          },
          "metadata": {
            "tags": []
          },
          "execution_count": 11
        }
      ]
    },
    {
      "cell_type": "markdown",
      "metadata": {
        "id": "unO5SdRzycc_",
        "colab_type": "text"
      },
      "source": [
        "### Missing Value Handling\n",
        "\n",
        "Column percentage of null values in the training and test sets are printed below. At first glance,there are only null values in the *Operation Initials* column, however some unknown values are encoded as \"?\" in the datasets."
      ]
    },
    {
      "cell_type": "code",
      "metadata": {
        "id": "uAipyZEz4-sw",
        "colab_type": "code",
        "outputId": "2b3415fb-6cfb-49d0-876f-0de8a91d725a",
        "colab": {
          "base_uri": "https://localhost:8080/",
          "height": 442
        }
      },
      "source": [
        "(train_df.isnull().mean()*100).round(4)"
      ],
      "execution_count": 0,
      "outputs": [
        {
          "output_type": "execute_result",
          "data": {
            "text/plain": [
              "Departure_YMD_LMT            0.0000\n",
              "Operation_YMD_LMT            0.0000\n",
              "Departure_Airport            0.0000\n",
              "Operation_Airport            0.0000\n",
              "Terminal_Number              0.0000\n",
              "Terminal_Name                0.0000\n",
              "Operation_Initials           0.0156\n",
              "Operation_Sonic_Code         0.0000\n",
              "Operation_Channel            0.0000\n",
              "Passenger_Title              0.0000\n",
              "Passenger_Gender             0.0000\n",
              "Inbound_Departure_Airport    0.0000\n",
              "Outbound_Arrival_Airport     0.0000\n",
              "SWC_FLY                      0.0000\n",
              "Cabin_Class                  0.0000\n",
              "SWC_FQTV_Member              0.0000\n",
              "Passenger_Baggage_Count      0.0000\n",
              "Passenger_Baggage_Weight     0.0000\n",
              "SWC_Staff                    0.0000\n",
              "SWC_CIP_Passenger            0.0000\n",
              "SWC_VIP_Passenger            0.0000\n",
              "SWC_Has_Infant               0.0000\n",
              "Operation_Count              0.0000\n",
              "Operation_Channel_Group      0.0000\n",
              "dtype: float64"
            ]
          },
          "metadata": {
            "tags": []
          },
          "execution_count": 12
        }
      ]
    },
    {
      "cell_type": "code",
      "metadata": {
        "id": "Z9h6GsY65I5L",
        "colab_type": "code",
        "outputId": "2ef06938-931b-4174-c53c-57905ef646e8",
        "colab": {
          "base_uri": "https://localhost:8080/",
          "height": 442
        }
      },
      "source": [
        "(result_df.isnull().mean()*100).round(4)"
      ],
      "execution_count": 0,
      "outputs": [
        {
          "output_type": "execute_result",
          "data": {
            "text/plain": [
              "Departure_YMD_LMT            0.0000\n",
              "Operation_YMD_LMT            0.0000\n",
              "Departure_Airport            0.0000\n",
              "Operation_Airport            0.0000\n",
              "Terminal_Number              0.0000\n",
              "Terminal_Name                0.0000\n",
              "Operation_Initials           0.0033\n",
              "Operation_Sonic_Code         0.0000\n",
              "Operation_Channel            0.0000\n",
              "Passenger_Title              0.0000\n",
              "Passenger_Gender             0.0000\n",
              "Inbound_Departure_Airport    0.0000\n",
              "Outbound_Arrival_Airport     0.0000\n",
              "SWC_FLY                      0.0000\n",
              "Cabin_Class                  0.0000\n",
              "SWC_FQTV_Member              0.0000\n",
              "Passenger_Baggage_Count      0.0000\n",
              "Passenger_Baggage_Weight     0.0000\n",
              "SWC_Staff                    0.0000\n",
              "SWC_CIP_Passenger            0.0000\n",
              "SWC_VIP_Passenger            0.0000\n",
              "SWC_Has_Infant               0.0000\n",
              "Operation_Count              0.0000\n",
              "Operation_Channel_Group      0.0000\n",
              "dtype: float64"
            ]
          },
          "metadata": {
            "tags": []
          },
          "execution_count": 13
        }
      ]
    },
    {
      "cell_type": "markdown",
      "metadata": {
        "id": "jLbD741tyefs",
        "colab_type": "text"
      },
      "source": [
        "Column based \"?\" occurance percentages in the training set:"
      ]
    },
    {
      "cell_type": "code",
      "metadata": {
        "id": "7CHS7T5Q6k_a",
        "colab_type": "code",
        "outputId": "e12acaa4-7c0a-4f00-a070-2b553c5a7e19",
        "colab": {
          "base_uri": "https://localhost:8080/",
          "height": 170
        }
      },
      "source": [
        "import numpy as np\n",
        "def unknown_perc(df):\n",
        "  print(\"Column Name\\t Percentage\")\n",
        "  for col_name in df.columns:\n",
        "        if df[col_name].dtype.name == 'category' and (df[col_name] == \"?\").any():\n",
        "          count = df[col_name].value_counts(dropna=False)['?']\n",
        "          percentage = (count/len(df)*100).round(3)\n",
        "          print(col_name,\"\\t\", percentage)\n",
        "  return\n",
        "        \n",
        "unknown_perc(train_df)"
      ],
      "execution_count": 0,
      "outputs": [
        {
          "output_type": "stream",
          "text": [
            "Column Name\t Percentage\n",
            "Terminal_Number \t 90.618\n",
            "Operation_Sonic_Code \t 78.927\n",
            "Operation_Channel \t 2.112\n",
            "Passenger_Title \t 2.331\n",
            "Passenger_Gender \t 3.902\n",
            "Inbound_Departure_Airport \t 91.338\n",
            "Outbound_Arrival_Airport \t 64.422\n",
            "Cabin_Class \t 3.409\n"
          ],
          "name": "stdout"
        }
      ]
    },
    {
      "cell_type": "markdown",
      "metadata": {
        "id": "6AM6L2Bpyw-G",
        "colab_type": "text"
      },
      "source": [
        "Column based \"?\" occurance percentages in the test set:"
      ]
    },
    {
      "cell_type": "code",
      "metadata": {
        "id": "2UDEAA0LxKfX",
        "colab_type": "code",
        "outputId": "002abd61-8c70-4568-f0bb-93550689e968",
        "colab": {
          "base_uri": "https://localhost:8080/",
          "height": 153
        }
      },
      "source": [
        "unknown_perc(result_df)"
      ],
      "execution_count": 0,
      "outputs": [
        {
          "output_type": "stream",
          "text": [
            "Column Name\t Percentage\n",
            "Terminal_Number \t 91.39\n",
            "Operation_Sonic_Code \t 54.39\n",
            "Operation_Channel \t 0.871\n",
            "Passenger_Title \t 2.762\n",
            "Passenger_Gender \t 0.076\n",
            "Inbound_Departure_Airport \t 94.52\n",
            "Outbound_Arrival_Airport \t 65.008\n"
          ],
          "name": "stdout"
        }
      ]
    },
    {
      "cell_type": "markdown",
      "metadata": {
        "id": "FFsQhdoCmip7",
        "colab_type": "text"
      },
      "source": [
        "Convert \"?\" to NA when needed. Apart from *Inbound_Departure_Airport* and *Outbound_Arrival_Airport*, \"?\" is printed for unknown values (missing). For those specific columns \"?\" means that there is no inbound or outbound flight (direct flight), so they are encoded as a seperate class called *Unknown*."
      ]
    },
    {
      "cell_type": "code",
      "metadata": {
        "id": "_f4FdP8Ymaxw",
        "colab_type": "code",
        "colab": {}
      },
      "source": [
        "import numpy as np\n",
        "train_df['Terminal_Number'] = train_df['Terminal_Number'].replace('?', np.nan)\n",
        "train_df['Operation_Channel'] = train_df['Operation_Channel'].replace('?', np.nan)\n",
        "train_df['Passenger_Title'] = train_df['Passenger_Title'].replace('?', np.nan)\n",
        "train_df['Passenger_Gender'] = train_df['Passenger_Gender'].replace('?', np.nan)\n",
        "train_df['Inbound_Departure_Airport'] = train_df['Inbound_Departure_Airport'].replace('?', \"Unknown\")\n",
        "train_df['Outbound_Arrival_Airport'] = train_df['Outbound_Arrival_Airport'].replace('?', \"Unknown\")\n",
        "train_df['Cabin_Class'] = train_df['Cabin_Class'].replace('?', np.nan)\n",
        "\n",
        "result_df['Terminal_Number'] = result_df['Terminal_Number'].replace('?', np.nan)\n",
        "result_df['Operation_Channel'] = result_df['Operation_Channel'].replace('?', np.nan)\n",
        "result_df['Passenger_Title'] = result_df['Passenger_Title'].replace('?', np.nan)\n",
        "result_df['Passenger_Gender'] = result_df['Passenger_Gender'].replace('?', np.nan)\n",
        "result_df['Inbound_Departure_Airport'] = result_df['Inbound_Departure_Airport'].replace('?', \"Unknown\")\n",
        "result_df['Outbound_Arrival_Airport'] = result_df['Outbound_Arrival_Airport'].replace('?', \"Unknown\")\n",
        "result_df['Cabin_Class'] = result_df['Cabin_Class'].replace('?', np.nan)"
      ],
      "execution_count": 0,
      "outputs": []
    },
    {
      "cell_type": "markdown",
      "metadata": {
        "id": "nplxsMXMAnXY",
        "colab_type": "text"
      },
      "source": [
        "Now, the new missing value percentages for the training set becomes:"
      ]
    },
    {
      "cell_type": "code",
      "metadata": {
        "id": "CwmBM3TkrjrK",
        "colab_type": "code",
        "outputId": "9fdfb4ad-087b-44aa-b4cb-d11fa8adf0b1",
        "colab": {
          "base_uri": "https://localhost:8080/",
          "height": 442
        }
      },
      "source": [
        "(train_df.isnull().mean()*100)#.round(4)"
      ],
      "execution_count": 0,
      "outputs": [
        {
          "output_type": "execute_result",
          "data": {
            "text/plain": [
              "Departure_YMD_LMT             0.000000\n",
              "Operation_YMD_LMT             0.000000\n",
              "Departure_Airport             0.000000\n",
              "Operation_Airport             0.000000\n",
              "Terminal_Number              90.617612\n",
              "Terminal_Name                 0.000000\n",
              "Operation_Initials            0.015581\n",
              "Operation_Sonic_Code          0.000000\n",
              "Operation_Channel             2.112289\n",
              "Passenger_Title               2.330666\n",
              "Passenger_Gender              3.902455\n",
              "Inbound_Departure_Airport     0.000000\n",
              "Outbound_Arrival_Airport      0.000000\n",
              "SWC_FLY                       0.000000\n",
              "Cabin_Class                   3.409316\n",
              "SWC_FQTV_Member               0.000000\n",
              "Passenger_Baggage_Count       0.000000\n",
              "Passenger_Baggage_Weight      0.000000\n",
              "SWC_Staff                     0.000000\n",
              "SWC_CIP_Passenger             0.000000\n",
              "SWC_VIP_Passenger             0.000000\n",
              "SWC_Has_Infant                0.000000\n",
              "Operation_Count               0.000000\n",
              "Operation_Channel_Group       0.000000\n",
              "dtype: float64"
            ]
          },
          "metadata": {
            "tags": []
          },
          "execution_count": 20
        }
      ]
    },
    {
      "cell_type": "markdown",
      "metadata": {
        "id": "aSMbF8qEA4M7",
        "colab_type": "text"
      },
      "source": [
        "and for the test set the result is:"
      ]
    },
    {
      "cell_type": "code",
      "metadata": {
        "id": "CINMBpV7A8pG",
        "colab_type": "code",
        "outputId": "8a6c8c67-4c91-4421-ceba-94eb9618a300",
        "colab": {
          "base_uri": "https://localhost:8080/",
          "height": 442
        }
      },
      "source": [
        "(result_df.isnull().mean()*100)#.round(4)"
      ],
      "execution_count": 0,
      "outputs": [
        {
          "output_type": "execute_result",
          "data": {
            "text/plain": [
              "Departure_YMD_LMT             0.000000\n",
              "Operation_YMD_LMT             0.000000\n",
              "Departure_Airport             0.000000\n",
              "Operation_Airport             0.000000\n",
              "Terminal_Number              91.390327\n",
              "Terminal_Name                 0.000000\n",
              "Operation_Initials            0.003281\n",
              "Operation_Sonic_Code          0.000000\n",
              "Operation_Channel             0.871056\n",
              "Passenger_Title               2.761624\n",
              "Passenger_Gender              0.076279\n",
              "Inbound_Departure_Airport     0.000000\n",
              "Outbound_Arrival_Airport      0.000000\n",
              "SWC_FLY                       0.000000\n",
              "Cabin_Class                   0.000000\n",
              "SWC_FQTV_Member               0.000000\n",
              "Passenger_Baggage_Count       0.000000\n",
              "Passenger_Baggage_Weight      0.000000\n",
              "SWC_Staff                     0.000000\n",
              "SWC_CIP_Passenger             0.000000\n",
              "SWC_VIP_Passenger             0.000000\n",
              "SWC_Has_Infant                0.000000\n",
              "Operation_Count               0.000000\n",
              "Operation_Channel_Group       0.000000\n",
              "dtype: float64"
            ]
          },
          "metadata": {
            "tags": []
          },
          "execution_count": 21
        }
      ]
    },
    {
      "cell_type": "markdown",
      "metadata": {
        "id": "Pe1XXORnVqGy",
        "colab_type": "text"
      },
      "source": [
        "Notice that *Terminal_Number* has a missing value ratio over 90%. With a ratio this high, we cannot impute missing values correctly. This column should be dropped, as well as *Departure_Airport* column.\n"
      ]
    },
    {
      "cell_type": "code",
      "metadata": {
        "id": "w843hKQbB9Bs",
        "colab_type": "code",
        "colab": {}
      },
      "source": [
        "train_df2 = train_df.copy()\n",
        "result_df2 = result_df.copy()\n",
        "train_df2 = train_df2.drop(columns = [\"Terminal_Number\", \"Departure_Airport\"])\n",
        "result_df2 = result_df2.drop(columns = [\"Terminal_Number\", \"Departure_Airport\"])"
      ],
      "execution_count": 0,
      "outputs": []
    },
    {
      "cell_type": "markdown",
      "metadata": {
        "id": "xk-1-hjj__o9",
        "colab_type": "text"
      },
      "source": [
        "Ahad date and time\n"
      ]
    },
    {
      "cell_type": "code",
      "metadata": {
        "id": "A1HsP8qyAD8c",
        "colab_type": "code",
        "colab": {
          "base_uri": "https://localhost:8080/",
          "height": 51
        },
        "outputId": "adfb5766-3fb2-4e95-e89a-af04ead63881"
      },
      "source": [
        "pip install python-dateutil\n"
      ],
      "execution_count": 8,
      "outputs": [
        {
          "output_type": "stream",
          "text": [
            "Requirement already satisfied: python-dateutil in /usr/local/lib/python3.6/dist-packages (2.5.3)\n",
            "Requirement already satisfied: six>=1.5 in /usr/local/lib/python3.6/dist-packages (from python-dateutil) (1.12.0)\n"
          ],
          "name": "stdout"
        }
      ]
    },
    {
      "cell_type": "code",
      "metadata": {
        "id": "C479sGgmANuR",
        "colab_type": "code",
        "colab": {}
      },
      "source": [
        "from dateutil import parser"
      ],
      "execution_count": 0,
      "outputs": []
    },
    {
      "cell_type": "code",
      "metadata": {
        "id": "drts3T8JDOLQ",
        "colab_type": "code",
        "colab": {}
      },
      "source": [
        "train_df3 = train_df.copy()\n",
        "result_df3 = result_df.copy()"
      ],
      "execution_count": 0,
      "outputs": []
    },
    {
      "cell_type": "code",
      "metadata": {
        "id": "Hz37KcPYGd-d",
        "colab_type": "code",
        "colab": {}
      },
      "source": [
        "train_df3.insert(3,'weekday','mon')\n",
        "train_df3['weekday'] = df['date_given'].dt.weekday_name\n",
        "print(df)"
      ],
      "execution_count": 0,
      "outputs": []
    },
    {
      "cell_type": "code",
      "metadata": {
        "id": "qmv-WuF7DSaQ",
        "colab_type": "code",
        "colab": {
          "base_uri": "https://localhost:8080/",
          "height": 241
        },
        "outputId": "fa1e2888-414a-4236-af9d-d9c79d6010c2"
      },
      "source": [
        "train_df3.insert(5,'Month Operation','mon')\n",
        "#train_df3 = train_df3.drop(columns = ['weekday1'])\n",
        "train_df3.head()"
      ],
      "execution_count": 39,
      "outputs": [
        {
          "output_type": "execute_result",
          "data": {
            "text/html": [
              "<div>\n",
              "<style scoped>\n",
              "    .dataframe tbody tr th:only-of-type {\n",
              "        vertical-align: middle;\n",
              "    }\n",
              "\n",
              "    .dataframe tbody tr th {\n",
              "        vertical-align: top;\n",
              "    }\n",
              "\n",
              "    .dataframe thead th {\n",
              "        text-align: right;\n",
              "    }\n",
              "</style>\n",
              "<table border=\"1\" class=\"dataframe\">\n",
              "  <thead>\n",
              "    <tr style=\"text-align: right;\">\n",
              "      <th></th>\n",
              "      <th>Departure_YMD_LMT</th>\n",
              "      <th>weekday Departure</th>\n",
              "      <th>Month Departure</th>\n",
              "      <th>Operation_YMD_LMT</th>\n",
              "      <th>weekday Operation</th>\n",
              "      <th>Month Operation</th>\n",
              "      <th>Departure_Airport</th>\n",
              "      <th>Operation_Airport</th>\n",
              "      <th>Terminal_Number</th>\n",
              "      <th>Terminal_Name</th>\n",
              "      <th>Operation_Initials</th>\n",
              "      <th>Operation_Sonic_Code</th>\n",
              "      <th>Operation_Channel</th>\n",
              "      <th>Passenger_Title</th>\n",
              "      <th>Passenger_Gender</th>\n",
              "      <th>Inbound_Departure_Airport</th>\n",
              "      <th>Outbound_Arrival_Airport</th>\n",
              "      <th>SWC_FLY</th>\n",
              "      <th>Cabin_Class</th>\n",
              "      <th>SWC_FQTV_Member</th>\n",
              "      <th>Passenger_Baggage_Count</th>\n",
              "      <th>Passenger_Baggage_Weight</th>\n",
              "      <th>SWC_Staff</th>\n",
              "      <th>SWC_CIP_Passenger</th>\n",
              "      <th>SWC_VIP_Passenger</th>\n",
              "      <th>SWC_Has_Infant</th>\n",
              "      <th>Operation_Count</th>\n",
              "    </tr>\n",
              "  </thead>\n",
              "  <tbody>\n",
              "    <tr>\n",
              "      <th>0</th>\n",
              "      <td>2019-03-26</td>\n",
              "      <td>Tuesday</td>\n",
              "      <td>3</td>\n",
              "      <td>2019-03-26</td>\n",
              "      <td>Tuesday</td>\n",
              "      <td>mon</td>\n",
              "      <td>KDT</td>\n",
              "      <td>KDT</td>\n",
              "      <td>?</td>\n",
              "      <td>032363</td>\n",
              "      <td>KS</td>\n",
              "      <td>?</td>\n",
              "      <td>QC</td>\n",
              "      <td>MISTER</td>\n",
              "      <td>M</td>\n",
              "      <td>IST</td>\n",
              "      <td>?</td>\n",
              "      <td>1</td>\n",
              "      <td>Y</td>\n",
              "      <td>1</td>\n",
              "      <td>0</td>\n",
              "      <td>0</td>\n",
              "      <td>0</td>\n",
              "      <td>1</td>\n",
              "      <td>0</td>\n",
              "      <td>0</td>\n",
              "      <td>1</td>\n",
              "    </tr>\n",
              "    <tr>\n",
              "      <th>1</th>\n",
              "      <td>2018-03-21</td>\n",
              "      <td>Wednesday</td>\n",
              "      <td>3</td>\n",
              "      <td>2018-03-21</td>\n",
              "      <td>Wednesday</td>\n",
              "      <td>mon</td>\n",
              "      <td>KDT</td>\n",
              "      <td>KDT</td>\n",
              "      <td>?</td>\n",
              "      <td>03F960</td>\n",
              "      <td>KS</td>\n",
              "      <td>?</td>\n",
              "      <td>QC</td>\n",
              "      <td>MISTER</td>\n",
              "      <td>M</td>\n",
              "      <td>?</td>\n",
              "      <td>KDT</td>\n",
              "      <td>1</td>\n",
              "      <td>Y</td>\n",
              "      <td>1</td>\n",
              "      <td>0</td>\n",
              "      <td>0</td>\n",
              "      <td>0</td>\n",
              "      <td>1</td>\n",
              "      <td>0</td>\n",
              "      <td>0</td>\n",
              "      <td>1</td>\n",
              "    </tr>\n",
              "    <tr>\n",
              "      <th>2</th>\n",
              "      <td>2019-03-22</td>\n",
              "      <td>Friday</td>\n",
              "      <td>3</td>\n",
              "      <td>2019-03-22</td>\n",
              "      <td>Friday</td>\n",
              "      <td>mon</td>\n",
              "      <td>KDT</td>\n",
              "      <td>KDT</td>\n",
              "      <td>?</td>\n",
              "      <td>03AA2P</td>\n",
              "      <td>KS</td>\n",
              "      <td>Y011161</td>\n",
              "      <td>QC</td>\n",
              "      <td>MISTER</td>\n",
              "      <td>M</td>\n",
              "      <td>?</td>\n",
              "      <td>?</td>\n",
              "      <td>1</td>\n",
              "      <td>Y</td>\n",
              "      <td>0</td>\n",
              "      <td>0</td>\n",
              "      <td>0</td>\n",
              "      <td>0</td>\n",
              "      <td>0</td>\n",
              "      <td>0</td>\n",
              "      <td>0</td>\n",
              "      <td>1</td>\n",
              "    </tr>\n",
              "    <tr>\n",
              "      <th>3</th>\n",
              "      <td>2018-05-15</td>\n",
              "      <td>Tuesday</td>\n",
              "      <td>5</td>\n",
              "      <td>2018-05-15</td>\n",
              "      <td>Tuesday</td>\n",
              "      <td>mon</td>\n",
              "      <td>KDT</td>\n",
              "      <td>KDT</td>\n",
              "      <td>?</td>\n",
              "      <td>0353D0</td>\n",
              "      <td>MK</td>\n",
              "      <td>?</td>\n",
              "      <td>TS</td>\n",
              "      <td>MISTER</td>\n",
              "      <td>M</td>\n",
              "      <td>?</td>\n",
              "      <td>?</td>\n",
              "      <td>1</td>\n",
              "      <td>Y</td>\n",
              "      <td>1</td>\n",
              "      <td>0</td>\n",
              "      <td>0</td>\n",
              "      <td>0</td>\n",
              "      <td>1</td>\n",
              "      <td>0</td>\n",
              "      <td>0</td>\n",
              "      <td>2</td>\n",
              "    </tr>\n",
              "    <tr>\n",
              "      <th>4</th>\n",
              "      <td>2019-04-20</td>\n",
              "      <td>Saturday</td>\n",
              "      <td>4</td>\n",
              "      <td>2019-04-20</td>\n",
              "      <td>Saturday</td>\n",
              "      <td>mon</td>\n",
              "      <td>KDT</td>\n",
              "      <td>KDT</td>\n",
              "      <td>?</td>\n",
              "      <td>03F902</td>\n",
              "      <td>KS</td>\n",
              "      <td>Y013437</td>\n",
              "      <td>QC</td>\n",
              "      <td>MISTER</td>\n",
              "      <td>M</td>\n",
              "      <td>?</td>\n",
              "      <td>?</td>\n",
              "      <td>1</td>\n",
              "      <td>Y</td>\n",
              "      <td>0</td>\n",
              "      <td>0</td>\n",
              "      <td>0</td>\n",
              "      <td>1</td>\n",
              "      <td>0</td>\n",
              "      <td>0</td>\n",
              "      <td>0</td>\n",
              "      <td>1</td>\n",
              "    </tr>\n",
              "  </tbody>\n",
              "</table>\n",
              "</div>"
            ],
            "text/plain": [
              "  Departure_YMD_LMT weekday Departure  ...  SWC_Has_Infant Operation_Count\n",
              "0        2019-03-26           Tuesday  ...               0               1\n",
              "1        2018-03-21         Wednesday  ...               0               1\n",
              "2        2019-03-22            Friday  ...               0               1\n",
              "3        2018-05-15           Tuesday  ...               0               2\n",
              "4        2019-04-20          Saturday  ...               0               1\n",
              "\n",
              "[5 rows x 27 columns]"
            ]
          },
          "metadata": {
            "tags": []
          },
          "execution_count": 39
        }
      ]
    },
    {
      "cell_type": "markdown",
      "metadata": {
        "id": "JO2xXD7aF3Rs",
        "colab_type": "text"
      },
      "source": [
        ""
      ]
    },
    {
      "cell_type": "code",
      "metadata": {
        "id": "wBzXZETfIQ1w",
        "colab_type": "code",
        "colab": {}
      },
      "source": [
        "train_df3['weekday Departure'] = train_df3['Departure_YMD_LMT'].dt.weekday_name\n",
        "train_df3['weekday Operation'] = train_df3['Departure_YMD_LMT'].dt.weekday_name"
      ],
      "execution_count": 0,
      "outputs": []
    },
    {
      "cell_type": "code",
      "metadata": {
        "id": "NJF5nvDQLAJe",
        "colab_type": "code",
        "colab": {
          "base_uri": "https://localhost:8080/",
          "height": 241
        },
        "outputId": "b64ca92c-dd7f-4a96-f47b-bd92ab05e311"
      },
      "source": [
        "#train_df3['Month Operation'] = pd.DatetimeIndex(train_df3['Operation_YMD_LMT']).month\n",
        "train_df3.head()"
      ],
      "execution_count": 40,
      "outputs": [
        {
          "output_type": "execute_result",
          "data": {
            "text/html": [
              "<div>\n",
              "<style scoped>\n",
              "    .dataframe tbody tr th:only-of-type {\n",
              "        vertical-align: middle;\n",
              "    }\n",
              "\n",
              "    .dataframe tbody tr th {\n",
              "        vertical-align: top;\n",
              "    }\n",
              "\n",
              "    .dataframe thead th {\n",
              "        text-align: right;\n",
              "    }\n",
              "</style>\n",
              "<table border=\"1\" class=\"dataframe\">\n",
              "  <thead>\n",
              "    <tr style=\"text-align: right;\">\n",
              "      <th></th>\n",
              "      <th>Departure_YMD_LMT</th>\n",
              "      <th>weekday Departure</th>\n",
              "      <th>Month Departure</th>\n",
              "      <th>Operation_YMD_LMT</th>\n",
              "      <th>weekday Operation</th>\n",
              "      <th>Month Operation</th>\n",
              "      <th>Departure_Airport</th>\n",
              "      <th>Operation_Airport</th>\n",
              "      <th>Terminal_Number</th>\n",
              "      <th>Terminal_Name</th>\n",
              "      <th>Operation_Initials</th>\n",
              "      <th>Operation_Sonic_Code</th>\n",
              "      <th>Operation_Channel</th>\n",
              "      <th>Passenger_Title</th>\n",
              "      <th>Passenger_Gender</th>\n",
              "      <th>Inbound_Departure_Airport</th>\n",
              "      <th>Outbound_Arrival_Airport</th>\n",
              "      <th>SWC_FLY</th>\n",
              "      <th>Cabin_Class</th>\n",
              "      <th>SWC_FQTV_Member</th>\n",
              "      <th>Passenger_Baggage_Count</th>\n",
              "      <th>Passenger_Baggage_Weight</th>\n",
              "      <th>SWC_Staff</th>\n",
              "      <th>SWC_CIP_Passenger</th>\n",
              "      <th>SWC_VIP_Passenger</th>\n",
              "      <th>SWC_Has_Infant</th>\n",
              "      <th>Operation_Count</th>\n",
              "    </tr>\n",
              "  </thead>\n",
              "  <tbody>\n",
              "    <tr>\n",
              "      <th>0</th>\n",
              "      <td>2019-03-26</td>\n",
              "      <td>Tuesday</td>\n",
              "      <td>3</td>\n",
              "      <td>2019-03-26</td>\n",
              "      <td>Tuesday</td>\n",
              "      <td>3</td>\n",
              "      <td>KDT</td>\n",
              "      <td>KDT</td>\n",
              "      <td>?</td>\n",
              "      <td>032363</td>\n",
              "      <td>KS</td>\n",
              "      <td>?</td>\n",
              "      <td>QC</td>\n",
              "      <td>MISTER</td>\n",
              "      <td>M</td>\n",
              "      <td>IST</td>\n",
              "      <td>?</td>\n",
              "      <td>1</td>\n",
              "      <td>Y</td>\n",
              "      <td>1</td>\n",
              "      <td>0</td>\n",
              "      <td>0</td>\n",
              "      <td>0</td>\n",
              "      <td>1</td>\n",
              "      <td>0</td>\n",
              "      <td>0</td>\n",
              "      <td>1</td>\n",
              "    </tr>\n",
              "    <tr>\n",
              "      <th>1</th>\n",
              "      <td>2018-03-21</td>\n",
              "      <td>Wednesday</td>\n",
              "      <td>3</td>\n",
              "      <td>2018-03-21</td>\n",
              "      <td>Wednesday</td>\n",
              "      <td>3</td>\n",
              "      <td>KDT</td>\n",
              "      <td>KDT</td>\n",
              "      <td>?</td>\n",
              "      <td>03F960</td>\n",
              "      <td>KS</td>\n",
              "      <td>?</td>\n",
              "      <td>QC</td>\n",
              "      <td>MISTER</td>\n",
              "      <td>M</td>\n",
              "      <td>?</td>\n",
              "      <td>KDT</td>\n",
              "      <td>1</td>\n",
              "      <td>Y</td>\n",
              "      <td>1</td>\n",
              "      <td>0</td>\n",
              "      <td>0</td>\n",
              "      <td>0</td>\n",
              "      <td>1</td>\n",
              "      <td>0</td>\n",
              "      <td>0</td>\n",
              "      <td>1</td>\n",
              "    </tr>\n",
              "    <tr>\n",
              "      <th>2</th>\n",
              "      <td>2019-03-22</td>\n",
              "      <td>Friday</td>\n",
              "      <td>3</td>\n",
              "      <td>2019-03-22</td>\n",
              "      <td>Friday</td>\n",
              "      <td>3</td>\n",
              "      <td>KDT</td>\n",
              "      <td>KDT</td>\n",
              "      <td>?</td>\n",
              "      <td>03AA2P</td>\n",
              "      <td>KS</td>\n",
              "      <td>Y011161</td>\n",
              "      <td>QC</td>\n",
              "      <td>MISTER</td>\n",
              "      <td>M</td>\n",
              "      <td>?</td>\n",
              "      <td>?</td>\n",
              "      <td>1</td>\n",
              "      <td>Y</td>\n",
              "      <td>0</td>\n",
              "      <td>0</td>\n",
              "      <td>0</td>\n",
              "      <td>0</td>\n",
              "      <td>0</td>\n",
              "      <td>0</td>\n",
              "      <td>0</td>\n",
              "      <td>1</td>\n",
              "    </tr>\n",
              "    <tr>\n",
              "      <th>3</th>\n",
              "      <td>2018-05-15</td>\n",
              "      <td>Tuesday</td>\n",
              "      <td>5</td>\n",
              "      <td>2018-05-15</td>\n",
              "      <td>Tuesday</td>\n",
              "      <td>5</td>\n",
              "      <td>KDT</td>\n",
              "      <td>KDT</td>\n",
              "      <td>?</td>\n",
              "      <td>0353D0</td>\n",
              "      <td>MK</td>\n",
              "      <td>?</td>\n",
              "      <td>TS</td>\n",
              "      <td>MISTER</td>\n",
              "      <td>M</td>\n",
              "      <td>?</td>\n",
              "      <td>?</td>\n",
              "      <td>1</td>\n",
              "      <td>Y</td>\n",
              "      <td>1</td>\n",
              "      <td>0</td>\n",
              "      <td>0</td>\n",
              "      <td>0</td>\n",
              "      <td>1</td>\n",
              "      <td>0</td>\n",
              "      <td>0</td>\n",
              "      <td>2</td>\n",
              "    </tr>\n",
              "    <tr>\n",
              "      <th>4</th>\n",
              "      <td>2019-04-20</td>\n",
              "      <td>Saturday</td>\n",
              "      <td>4</td>\n",
              "      <td>2019-04-20</td>\n",
              "      <td>Saturday</td>\n",
              "      <td>4</td>\n",
              "      <td>KDT</td>\n",
              "      <td>KDT</td>\n",
              "      <td>?</td>\n",
              "      <td>03F902</td>\n",
              "      <td>KS</td>\n",
              "      <td>Y013437</td>\n",
              "      <td>QC</td>\n",
              "      <td>MISTER</td>\n",
              "      <td>M</td>\n",
              "      <td>?</td>\n",
              "      <td>?</td>\n",
              "      <td>1</td>\n",
              "      <td>Y</td>\n",
              "      <td>0</td>\n",
              "      <td>0</td>\n",
              "      <td>0</td>\n",
              "      <td>1</td>\n",
              "      <td>0</td>\n",
              "      <td>0</td>\n",
              "      <td>0</td>\n",
              "      <td>1</td>\n",
              "    </tr>\n",
              "  </tbody>\n",
              "</table>\n",
              "</div>"
            ],
            "text/plain": [
              "  Departure_YMD_LMT weekday Departure  ...  SWC_Has_Infant Operation_Count\n",
              "0        2019-03-26           Tuesday  ...               0               1\n",
              "1        2018-03-21         Wednesday  ...               0               1\n",
              "2        2019-03-22            Friday  ...               0               1\n",
              "3        2018-05-15           Tuesday  ...               0               2\n",
              "4        2019-04-20          Saturday  ...               0               1\n",
              "\n",
              "[5 rows x 27 columns]"
            ]
          },
          "metadata": {
            "tags": []
          },
          "execution_count": 40
        }
      ]
    }
  ]
}