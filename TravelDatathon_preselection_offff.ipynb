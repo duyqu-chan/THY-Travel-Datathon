{
  "nbformat": 4,
  "nbformat_minor": 0,
  "metadata": {
    "colab": {
      "name": "TravelDatathon_preselection",
      "version": "0.3.2",
      "provenance": [],
      "collapsed_sections": [],
      "toc_visible": true,
      "machine_shape": "hm",
      "include_colab_link": true
    },
    "kernelspec": {
      "name": "python3",
      "display_name": "Python 3"
    }
  },
  "cells": [
    {
      "cell_type": "markdown",
      "metadata": {
        "id": "view-in-github",
        "colab_type": "text"
      },
      "source": [
        "<a href=\"https://colab.research.google.com/github/duyqu-chan/THY-Travel-Datathon/blob/development/TravelDatathon_preselection_offff.ipynb\" target=\"_parent\"><img src=\"https://colab.research.google.com/assets/colab-badge.svg\" alt=\"Open In Colab\"/></a>"
      ]
    },
    {
      "cell_type": "markdown",
      "metadata": {
        "id": "d6umBn88WlMy",
        "colab_type": "text"
      },
      "source": [
        "#THY Travel Datathon Preselection Case Study\n",
        "\n",
        "by Duygu Can, Meriç Pakkan, Neslihan Oflaz, Ahad Khaleghi Ardabili, Akın Erdem\n",
        "\n",
        "\n",
        "Flying passengers can check-in through the web site, applications, kiosks and counters. In this case study content, the train data including the number of seven-month passenger check-in operations is provided. We want you to estimate the number of channels (column Operation_Count) in the csv file attached."
      ]
    },
    {
      "cell_type": "markdown",
      "metadata": {
        "id": "eG0UfrxPXz_H",
        "colab_type": "text"
      },
      "source": [
        "Mount drive to load the data:"
      ]
    },
    {
      "cell_type": "code",
      "metadata": {
        "id": "XsobMdDBWfjX",
        "colab_type": "code",
        "outputId": "eed467d5-99e9-44c2-c2bc-4027e2b028ad",
        "colab": {
          "base_uri": "https://localhost:8080/",
          "height": 54
        }
      },
      "source": [
        "# Run this cell to mount your Google Drive.\n",
        "from google.colab import drive\n",
        "drive.mount('/content/drive')"
      ],
      "execution_count": 125,
      "outputs": [
        {
          "output_type": "stream",
          "text": [
            "Drive already mounted at /content/drive; to attempt to forcibly remount, call drive.mount(\"/content/drive\", force_remount=True).\n"
          ],
          "name": "stdout"
        }
      ]
    },
    {
      "cell_type": "markdown",
      "metadata": {
        "id": "0kLlbk20ZyIq",
        "colab_type": "text"
      },
      "source": [
        "## Dataset Expolaration"
      ]
    },
    {
      "cell_type": "markdown",
      "metadata": {
        "id": "SCQudbprX5pl",
        "colab_type": "text"
      },
      "source": [
        "Upload the data by reading provided .csv files from Google Drive (change path if needed). There are 808696 samples in the training and 121921 instances in the test sets. Each has 23 features."
      ]
    },
    {
      "cell_type": "code",
      "metadata": {
        "id": "WmZbEAnwYJj6",
        "colab_type": "code",
        "outputId": "8a3bd26e-f10c-44c1-e51b-bb1cc80daa0c",
        "colab": {
          "base_uri": "https://localhost:8080/",
          "height": 258
        }
      },
      "source": [
        "import pandas as pd\n",
        "train_df = pd.read_csv(\"/content/drive/My Drive/Travel Datathon/Assessment Data/Assessment Train Data.csv\")\n",
        "result_df = pd.read_csv(\"/content/drive/My Drive/Travel Datathon/Assessment Data/Assessment Result File.csv\")\n",
        "print(train_df.shape)\n",
        "print(result_df.shape)\n",
        "train_df.head()"
      ],
      "execution_count": 126,
      "outputs": [
        {
          "output_type": "stream",
          "text": [
            "(808696, 23)\n",
            "(121921, 23)\n"
          ],
          "name": "stdout"
        },
        {
          "output_type": "execute_result",
          "data": {
            "text/html": [
              "<div>\n",
              "<style scoped>\n",
              "    .dataframe tbody tr th:only-of-type {\n",
              "        vertical-align: middle;\n",
              "    }\n",
              "\n",
              "    .dataframe tbody tr th {\n",
              "        vertical-align: top;\n",
              "    }\n",
              "\n",
              "    .dataframe thead th {\n",
              "        text-align: right;\n",
              "    }\n",
              "</style>\n",
              "<table border=\"1\" class=\"dataframe\">\n",
              "  <thead>\n",
              "    <tr style=\"text-align: right;\">\n",
              "      <th></th>\n",
              "      <th>Departure_YMD_LMT</th>\n",
              "      <th>Operation_YMD_LMT</th>\n",
              "      <th>Departure_Airport</th>\n",
              "      <th>Operation_Airport</th>\n",
              "      <th>Terminal_Number</th>\n",
              "      <th>Terminal_Name</th>\n",
              "      <th>Operation_Initials</th>\n",
              "      <th>Operation_Sonic_Code</th>\n",
              "      <th>Operation_Channel</th>\n",
              "      <th>Passenger_Title</th>\n",
              "      <th>Passenger_Gender</th>\n",
              "      <th>Inbound_Departure_Airport</th>\n",
              "      <th>Outbound_Arrival_Airport</th>\n",
              "      <th>SWC_FLY</th>\n",
              "      <th>Cabin_Class</th>\n",
              "      <th>SWC_FQTV_Member</th>\n",
              "      <th>Passenger_Baggage_Count</th>\n",
              "      <th>Passenger_Baggage_Weight</th>\n",
              "      <th>SWC_Staff</th>\n",
              "      <th>SWC_CIP_Passenger</th>\n",
              "      <th>SWC_VIP_Passenger</th>\n",
              "      <th>SWC_Has_Infant</th>\n",
              "      <th>Operation_Count</th>\n",
              "    </tr>\n",
              "  </thead>\n",
              "  <tbody>\n",
              "    <tr>\n",
              "      <th>0</th>\n",
              "      <td>20190326</td>\n",
              "      <td>20190326</td>\n",
              "      <td>KDT</td>\n",
              "      <td>KDT</td>\n",
              "      <td>?</td>\n",
              "      <td>032363</td>\n",
              "      <td>KS</td>\n",
              "      <td>?</td>\n",
              "      <td>QC</td>\n",
              "      <td>MISTER</td>\n",
              "      <td>M</td>\n",
              "      <td>IST</td>\n",
              "      <td>?</td>\n",
              "      <td>1</td>\n",
              "      <td>Y</td>\n",
              "      <td>1</td>\n",
              "      <td>0</td>\n",
              "      <td>0</td>\n",
              "      <td>0</td>\n",
              "      <td>1</td>\n",
              "      <td>0</td>\n",
              "      <td>0</td>\n",
              "      <td>1</td>\n",
              "    </tr>\n",
              "    <tr>\n",
              "      <th>1</th>\n",
              "      <td>20180321</td>\n",
              "      <td>20180321</td>\n",
              "      <td>KDT</td>\n",
              "      <td>KDT</td>\n",
              "      <td>?</td>\n",
              "      <td>03F960</td>\n",
              "      <td>KS</td>\n",
              "      <td>?</td>\n",
              "      <td>QC</td>\n",
              "      <td>MISTER</td>\n",
              "      <td>M</td>\n",
              "      <td>?</td>\n",
              "      <td>KDT</td>\n",
              "      <td>1</td>\n",
              "      <td>Y</td>\n",
              "      <td>1</td>\n",
              "      <td>0</td>\n",
              "      <td>0</td>\n",
              "      <td>0</td>\n",
              "      <td>1</td>\n",
              "      <td>0</td>\n",
              "      <td>0</td>\n",
              "      <td>1</td>\n",
              "    </tr>\n",
              "    <tr>\n",
              "      <th>2</th>\n",
              "      <td>20190322</td>\n",
              "      <td>20190322</td>\n",
              "      <td>KDT</td>\n",
              "      <td>KDT</td>\n",
              "      <td>?</td>\n",
              "      <td>03AA2P</td>\n",
              "      <td>KS</td>\n",
              "      <td>Y011161</td>\n",
              "      <td>QC</td>\n",
              "      <td>MISTER</td>\n",
              "      <td>M</td>\n",
              "      <td>?</td>\n",
              "      <td>?</td>\n",
              "      <td>1</td>\n",
              "      <td>Y</td>\n",
              "      <td>0</td>\n",
              "      <td>0</td>\n",
              "      <td>0</td>\n",
              "      <td>0</td>\n",
              "      <td>0</td>\n",
              "      <td>0</td>\n",
              "      <td>0</td>\n",
              "      <td>1</td>\n",
              "    </tr>\n",
              "    <tr>\n",
              "      <th>3</th>\n",
              "      <td>20180515</td>\n",
              "      <td>20180515</td>\n",
              "      <td>KDT</td>\n",
              "      <td>KDT</td>\n",
              "      <td>?</td>\n",
              "      <td>0353D0</td>\n",
              "      <td>MK</td>\n",
              "      <td>?</td>\n",
              "      <td>TS</td>\n",
              "      <td>MISTER</td>\n",
              "      <td>M</td>\n",
              "      <td>?</td>\n",
              "      <td>?</td>\n",
              "      <td>1</td>\n",
              "      <td>Y</td>\n",
              "      <td>1</td>\n",
              "      <td>0</td>\n",
              "      <td>0</td>\n",
              "      <td>0</td>\n",
              "      <td>1</td>\n",
              "      <td>0</td>\n",
              "      <td>0</td>\n",
              "      <td>2</td>\n",
              "    </tr>\n",
              "    <tr>\n",
              "      <th>4</th>\n",
              "      <td>20190420</td>\n",
              "      <td>20190420</td>\n",
              "      <td>KDT</td>\n",
              "      <td>KDT</td>\n",
              "      <td>?</td>\n",
              "      <td>03F902</td>\n",
              "      <td>KS</td>\n",
              "      <td>Y013437</td>\n",
              "      <td>QC</td>\n",
              "      <td>MISTER</td>\n",
              "      <td>M</td>\n",
              "      <td>?</td>\n",
              "      <td>?</td>\n",
              "      <td>1</td>\n",
              "      <td>Y</td>\n",
              "      <td>0</td>\n",
              "      <td>0</td>\n",
              "      <td>0</td>\n",
              "      <td>1</td>\n",
              "      <td>0</td>\n",
              "      <td>0</td>\n",
              "      <td>0</td>\n",
              "      <td>1</td>\n",
              "    </tr>\n",
              "  </tbody>\n",
              "</table>\n",
              "</div>"
            ],
            "text/plain": [
              "   Departure_YMD_LMT  Operation_YMD_LMT  ... SWC_Has_Infant Operation_Count\n",
              "0           20190326           20190326  ...              0               1\n",
              "1           20180321           20180321  ...              0               1\n",
              "2           20190322           20190322  ...              0               1\n",
              "3           20180515           20180515  ...              0               2\n",
              "4           20190420           20190420  ...              0               1\n",
              "\n",
              "[5 rows x 23 columns]"
            ]
          },
          "metadata": {
            "tags": []
          },
          "execution_count": 126
        }
      ]
    },
    {
      "cell_type": "markdown",
      "metadata": {
        "id": "4ZY-nm_npgp3",
        "colab_type": "text"
      },
      "source": [
        "Check what data types we have:"
      ]
    },
    {
      "cell_type": "code",
      "metadata": {
        "id": "GLxegNa1pd8G",
        "colab_type": "code",
        "outputId": "271381b6-5ba6-4a09-81ee-c79149d750f3",
        "colab": {
          "base_uri": "https://localhost:8080/",
          "height": 425
        }
      },
      "source": [
        "train_df.dtypes"
      ],
      "execution_count": 127,
      "outputs": [
        {
          "output_type": "execute_result",
          "data": {
            "text/plain": [
              "Departure_YMD_LMT             int64\n",
              "Operation_YMD_LMT             int64\n",
              "Departure_Airport            object\n",
              "Operation_Airport            object\n",
              "Terminal_Number              object\n",
              "Terminal_Name                object\n",
              "Operation_Initials           object\n",
              "Operation_Sonic_Code         object\n",
              "Operation_Channel            object\n",
              "Passenger_Title              object\n",
              "Passenger_Gender             object\n",
              "Inbound_Departure_Airport    object\n",
              "Outbound_Arrival_Airport     object\n",
              "SWC_FLY                       int64\n",
              "Cabin_Class                  object\n",
              "SWC_FQTV_Member               int64\n",
              "Passenger_Baggage_Count       int64\n",
              "Passenger_Baggage_Weight      int64\n",
              "SWC_Staff                     int64\n",
              "SWC_CIP_Passenger             int64\n",
              "SWC_VIP_Passenger             int64\n",
              "SWC_Has_Infant                int64\n",
              "Operation_Count               int64\n",
              "dtype: object"
            ]
          },
          "metadata": {
            "tags": []
          },
          "execution_count": 127
        }
      ]
    },
    {
      "cell_type": "markdown",
      "metadata": {
        "id": "l4_01rsyCmlL",
        "colab_type": "text"
      },
      "source": [
        "In the *Departure_YMD_LMT* and the *Operation_YMD_LMT* colums, date of departure and date of check is stored so it is convenient to convert them to date time objects."
      ]
    },
    {
      "cell_type": "code",
      "metadata": {
        "id": "JU_XBMXRDqOZ",
        "colab_type": "code",
        "colab": {}
      },
      "source": [
        "train_df['Departure_YMD_LMT'] = pd.to_datetime(train_df['Departure_YMD_LMT'], format='%Y%m%d')\n",
        "train_df['Operation_YMD_LMT'] = pd.to_datetime(train_df['Operation_YMD_LMT'], format='%Y%m%d')\n",
        "result_df['Departure_YMD_LMT'] = pd.to_datetime(result_df['Departure_YMD_LMT'], format='%Y%m%d')\n",
        "result_df['Operation_YMD_LMT'] = pd.to_datetime(result_df['Operation_YMD_LMT'], format='%Y%m%d')"
      ],
      "execution_count": 0,
      "outputs": []
    },
    {
      "cell_type": "code",
      "metadata": {
        "id": "Gul7qn8ZEW4Y",
        "colab_type": "code",
        "outputId": "c0496d54-df2a-423d-f105-406a3ea92a6c",
        "colab": {
          "base_uri": "https://localhost:8080/",
          "height": 425
        }
      },
      "source": [
        "train_df.dtypes"
      ],
      "execution_count": 129,
      "outputs": [
        {
          "output_type": "execute_result",
          "data": {
            "text/plain": [
              "Departure_YMD_LMT            datetime64[ns]\n",
              "Operation_YMD_LMT            datetime64[ns]\n",
              "Departure_Airport                    object\n",
              "Operation_Airport                    object\n",
              "Terminal_Number                      object\n",
              "Terminal_Name                        object\n",
              "Operation_Initials                   object\n",
              "Operation_Sonic_Code                 object\n",
              "Operation_Channel                    object\n",
              "Passenger_Title                      object\n",
              "Passenger_Gender                     object\n",
              "Inbound_Departure_Airport            object\n",
              "Outbound_Arrival_Airport             object\n",
              "SWC_FLY                               int64\n",
              "Cabin_Class                          object\n",
              "SWC_FQTV_Member                       int64\n",
              "Passenger_Baggage_Count               int64\n",
              "Passenger_Baggage_Weight              int64\n",
              "SWC_Staff                             int64\n",
              "SWC_CIP_Passenger                     int64\n",
              "SWC_VIP_Passenger                     int64\n",
              "SWC_Has_Infant                        int64\n",
              "Operation_Count                       int64\n",
              "dtype: object"
            ]
          },
          "metadata": {
            "tags": []
          },
          "execution_count": 129
        }
      ]
    },
    {
      "cell_type": "code",
      "metadata": {
        "id": "OdDOiwuGFerU",
        "colab_type": "code",
        "outputId": "469f92cc-82cb-4a33-ea5c-5126028c3f58",
        "colab": {
          "base_uri": "https://localhost:8080/",
          "height": 317
        }
      },
      "source": [
        "train_df.describe()"
      ],
      "execution_count": 130,
      "outputs": [
        {
          "output_type": "execute_result",
          "data": {
            "text/html": [
              "<div>\n",
              "<style scoped>\n",
              "    .dataframe tbody tr th:only-of-type {\n",
              "        vertical-align: middle;\n",
              "    }\n",
              "\n",
              "    .dataframe tbody tr th {\n",
              "        vertical-align: top;\n",
              "    }\n",
              "\n",
              "    .dataframe thead th {\n",
              "        text-align: right;\n",
              "    }\n",
              "</style>\n",
              "<table border=\"1\" class=\"dataframe\">\n",
              "  <thead>\n",
              "    <tr style=\"text-align: right;\">\n",
              "      <th></th>\n",
              "      <th>SWC_FLY</th>\n",
              "      <th>SWC_FQTV_Member</th>\n",
              "      <th>Passenger_Baggage_Count</th>\n",
              "      <th>Passenger_Baggage_Weight</th>\n",
              "      <th>SWC_Staff</th>\n",
              "      <th>SWC_CIP_Passenger</th>\n",
              "      <th>SWC_VIP_Passenger</th>\n",
              "      <th>SWC_Has_Infant</th>\n",
              "      <th>Operation_Count</th>\n",
              "    </tr>\n",
              "  </thead>\n",
              "  <tbody>\n",
              "    <tr>\n",
              "      <th>count</th>\n",
              "      <td>808696.000000</td>\n",
              "      <td>808696.000000</td>\n",
              "      <td>808696.000000</td>\n",
              "      <td>808696.000000</td>\n",
              "      <td>808696.000000</td>\n",
              "      <td>808696.000000</td>\n",
              "      <td>808696.000000</td>\n",
              "      <td>808696.000000</td>\n",
              "      <td>808696.000000</td>\n",
              "    </tr>\n",
              "    <tr>\n",
              "      <th>mean</th>\n",
              "      <td>0.939140</td>\n",
              "      <td>0.359679</td>\n",
              "      <td>0.655413</td>\n",
              "      <td>8.560313</td>\n",
              "      <td>0.029989</td>\n",
              "      <td>0.148156</td>\n",
              "      <td>0.008257</td>\n",
              "      <td>0.011681</td>\n",
              "      <td>1.534792</td>\n",
              "    </tr>\n",
              "    <tr>\n",
              "      <th>std</th>\n",
              "      <td>0.239073</td>\n",
              "      <td>0.479907</td>\n",
              "      <td>0.963677</td>\n",
              "      <td>13.667213</td>\n",
              "      <td>0.170557</td>\n",
              "      <td>0.355255</td>\n",
              "      <td>0.090489</td>\n",
              "      <td>0.107444</td>\n",
              "      <td>2.223746</td>\n",
              "    </tr>\n",
              "    <tr>\n",
              "      <th>min</th>\n",
              "      <td>0.000000</td>\n",
              "      <td>0.000000</td>\n",
              "      <td>0.000000</td>\n",
              "      <td>0.000000</td>\n",
              "      <td>0.000000</td>\n",
              "      <td>0.000000</td>\n",
              "      <td>0.000000</td>\n",
              "      <td>0.000000</td>\n",
              "      <td>1.000000</td>\n",
              "    </tr>\n",
              "    <tr>\n",
              "      <th>25%</th>\n",
              "      <td>1.000000</td>\n",
              "      <td>0.000000</td>\n",
              "      <td>0.000000</td>\n",
              "      <td>0.000000</td>\n",
              "      <td>0.000000</td>\n",
              "      <td>0.000000</td>\n",
              "      <td>0.000000</td>\n",
              "      <td>0.000000</td>\n",
              "      <td>1.000000</td>\n",
              "    </tr>\n",
              "    <tr>\n",
              "      <th>50%</th>\n",
              "      <td>1.000000</td>\n",
              "      <td>0.000000</td>\n",
              "      <td>0.000000</td>\n",
              "      <td>0.000000</td>\n",
              "      <td>0.000000</td>\n",
              "      <td>0.000000</td>\n",
              "      <td>0.000000</td>\n",
              "      <td>0.000000</td>\n",
              "      <td>1.000000</td>\n",
              "    </tr>\n",
              "    <tr>\n",
              "      <th>75%</th>\n",
              "      <td>1.000000</td>\n",
              "      <td>1.000000</td>\n",
              "      <td>1.000000</td>\n",
              "      <td>15.000000</td>\n",
              "      <td>0.000000</td>\n",
              "      <td>0.000000</td>\n",
              "      <td>0.000000</td>\n",
              "      <td>0.000000</td>\n",
              "      <td>1.000000</td>\n",
              "    </tr>\n",
              "    <tr>\n",
              "      <th>max</th>\n",
              "      <td>1.000000</td>\n",
              "      <td>1.000000</td>\n",
              "      <td>54.000000</td>\n",
              "      <td>970.000000</td>\n",
              "      <td>1.000000</td>\n",
              "      <td>1.000000</td>\n",
              "      <td>1.000000</td>\n",
              "      <td>1.000000</td>\n",
              "      <td>129.000000</td>\n",
              "    </tr>\n",
              "  </tbody>\n",
              "</table>\n",
              "</div>"
            ],
            "text/plain": [
              "             SWC_FLY  SWC_FQTV_Member  ...  SWC_Has_Infant  Operation_Count\n",
              "count  808696.000000    808696.000000  ...   808696.000000    808696.000000\n",
              "mean        0.939140         0.359679  ...        0.011681         1.534792\n",
              "std         0.239073         0.479907  ...        0.107444         2.223746\n",
              "min         0.000000         0.000000  ...        0.000000         1.000000\n",
              "25%         1.000000         0.000000  ...        0.000000         1.000000\n",
              "50%         1.000000         0.000000  ...        0.000000         1.000000\n",
              "75%         1.000000         1.000000  ...        0.000000         1.000000\n",
              "max         1.000000         1.000000  ...        1.000000       129.000000\n",
              "\n",
              "[8 rows x 9 columns]"
            ]
          },
          "metadata": {
            "tags": []
          },
          "execution_count": 130
        }
      ]
    },
    {
      "cell_type": "markdown",
      "metadata": {
        "id": "3gnER73WQam2",
        "colab_type": "text"
      },
      "source": [
        "Convert *object* datatype to category when needed."
      ]
    },
    {
      "cell_type": "code",
      "metadata": {
        "id": "5e52srsIdGMK",
        "colab_type": "code",
        "colab": {}
      },
      "source": [
        "for col_name in train_df.columns:\n",
        "    if train_df[col_name].dtype.name == 'object':\n",
        "        train_df[col_name] = train_df[col_name].astype('category')\n",
        "        result_df[col_name] = result_df[col_name].astype('category')"
      ],
      "execution_count": 0,
      "outputs": []
    },
    {
      "cell_type": "code",
      "metadata": {
        "id": "oPj0AJ3UdmfQ",
        "colab_type": "code",
        "outputId": "44737cd6-2a83-45e7-e61f-35a4bdf2dcab",
        "colab": {
          "base_uri": "https://localhost:8080/",
          "height": 425
        }
      },
      "source": [
        "train_df.dtypes"
      ],
      "execution_count": 132,
      "outputs": [
        {
          "output_type": "execute_result",
          "data": {
            "text/plain": [
              "Departure_YMD_LMT            datetime64[ns]\n",
              "Operation_YMD_LMT            datetime64[ns]\n",
              "Departure_Airport                  category\n",
              "Operation_Airport                  category\n",
              "Terminal_Number                    category\n",
              "Terminal_Name                      category\n",
              "Operation_Initials                 category\n",
              "Operation_Sonic_Code               category\n",
              "Operation_Channel                  category\n",
              "Passenger_Title                    category\n",
              "Passenger_Gender                   category\n",
              "Inbound_Departure_Airport          category\n",
              "Outbound_Arrival_Airport           category\n",
              "SWC_FLY                               int64\n",
              "Cabin_Class                        category\n",
              "SWC_FQTV_Member                       int64\n",
              "Passenger_Baggage_Count               int64\n",
              "Passenger_Baggage_Weight              int64\n",
              "SWC_Staff                             int64\n",
              "SWC_CIP_Passenger                     int64\n",
              "SWC_VIP_Passenger                     int64\n",
              "SWC_Has_Infant                        int64\n",
              "Operation_Count                       int64\n",
              "dtype: object"
            ]
          },
          "metadata": {
            "tags": []
          },
          "execution_count": 132
        }
      ]
    },
    {
      "cell_type": "markdown",
      "metadata": {
        "id": "O5J9up0-d8bR",
        "colab_type": "text"
      },
      "source": [
        "See the unique levels of the categorical columns. *Departure Airport* has only one value called \"KDT\". So, it is not informative and should be dropped."
      ]
    },
    {
      "cell_type": "code",
      "metadata": {
        "id": "kEzqrNWEYlL-",
        "colab_type": "code",
        "outputId": "b7d951b3-75ae-4542-f671-73e4bb5bc9fc",
        "colab": {
          "base_uri": "https://localhost:8080/",
          "height": 561
        }
      },
      "source": [
        "for col_name in train_df.columns:\n",
        "    if train_df[col_name].dtype.name == 'category':\n",
        "        print(col_name, \":\", train_df[col_name].unique())"
      ],
      "execution_count": 133,
      "outputs": [
        {
          "output_type": "stream",
          "text": [
            "Departure_Airport : [KDT]\n",
            "Categories (1, object): [KDT]\n",
            "Operation_Airport : [KDT, IST, ZKG, EST, GZT, ..., HRK, ODS, SOF, KNN, MNL]\n",
            "Length: 143\n",
            "Categories (143, object): [KDT, IST, ZKG, EST, ..., ODS, SOF, KNN, MNL]\n",
            "Terminal_Number : [?, P1, P2]\n",
            "Categories (3, object): [?, P1, P2]\n",
            "Terminal_Name : [032363, 03F960, 03AA2P, 0353D0, 03F902, ..., 0B19C9, 03554A, 0302CA, 035316, 03550B]\n",
            "Length: 2685\n",
            "Categories (2685, object): [032363, 03F960, 03AA2P, 0353D0, ..., 03554A, 0302CA, 035316, 03550B]\n",
            "Operation_Initials : [KS, MK, SC, EY, Q7, ..., NB, YK, RW, OA, JF]\n",
            "Length: 273\n",
            "Categories (272, object): [KS, MK, SC, EY, ..., YK, RW, OA, JF]\n",
            "Operation_Sonic_Code : [?, Y011161, Y013437, Y027434, Y013171, ..., M025037, Y019509, Y036439, Y015916, Y039203]\n",
            "Length: 1614\n",
            "Categories (1614, object): [?, Y011161, Y013437, Y027434, ..., Y019509, Y036439, Y015916,\n",
            "                            Y039203]\n",
            "Operation_Channel : [QC, TS, JW, TW, TY, ..., CC, BD, IR, IA, QR]\n",
            "Length: 13\n",
            "Categories (13, object): [QC, TS, JW, TW, ..., BD, IR, IA, QR]\n",
            "Passenger_Title : [MISTER, MISS, MISSES, ?, DOCTOR, PROFFESOR]\n",
            "Categories (6, object): [MISTER, MISS, MISSES, ?, DOCTOR, PROFFESOR]\n",
            "Passenger_Gender : [M, F, ?, F/INF, M/INF, C, C/INF]\n",
            "Categories (7, object): [M, F, ?, F/INF, M/INF, C, C/INF]\n",
            "Inbound_Departure_Airport : [IST, ?, EST, SKW, HKM, ..., NDG, VKS, VIE, STY, TRU]\n",
            "Length: 27\n",
            "Categories (27, object): [IST, ?, EST, SKW, ..., VKS, VIE, STY, TRU]\n",
            "Outbound_Arrival_Airport : [?, KDT, KMS, KGP, KJI, ..., SPU, PHX, MKK, KKE, YYN]\n",
            "Length: 363\n",
            "Categories (363, object): [?, KDT, KMS, KGP, ..., PHX, MKK, KKE, YYN]\n",
            "Cabin_Class : [Y, ?, C]\n",
            "Categories (3, object): [Y, ?, C]\n"
          ],
          "name": "stdout"
        }
      ]
    },
    {
      "cell_type": "markdown",
      "metadata": {
        "id": "RMErP_yZRG1y",
        "colab_type": "text"
      },
      "source": [
        "Generate *Operation_Channel_Group* as defined in the pdf file."
      ]
    },
    {
      "cell_type": "code",
      "metadata": {
        "id": "M3l1GzRXF3tu",
        "colab_type": "code",
        "outputId": "56e71ada-56ee-421b-8293-3d814d152a09",
        "colab": {
          "base_uri": "https://localhost:8080/",
          "height": 34
        }
      },
      "source": [
        "dict = {\"JW\": 'Online',\n",
        "        \"TW\": 'Online',\n",
        "        \"TS\": 'Mobile',\n",
        "        \"JM\": 'Mobile',\n",
        "        \"TY\":\"Counter\",\n",
        "        \"QC\":\"Counter\",\n",
        "        \"SC\":\"Kiosks\",\n",
        "        \"IR\":\"Other\",\n",
        "        \"?\":\"Other\",\n",
        "        \"IA\":\"Other\",\n",
        "        \"BD\":\"Other\",\n",
        "        \"CC\":\"Other\",\n",
        "        \"QR\":\"Other\",\n",
        "        \"QP\":\"Other\",\n",
        "        \"QA\":\"Other\"\n",
        "        }\n",
        "train_df['Operation_Channel_Group'] = train_df['Operation_Channel'].map(dict)\n",
        "train_df['Operation_Channel_Group'].unique()"
      ],
      "execution_count": 134,
      "outputs": [
        {
          "output_type": "execute_result",
          "data": {
            "text/plain": [
              "array(['Counter', 'Mobile', 'Online', 'Kiosks', 'Other'], dtype=object)"
            ]
          },
          "metadata": {
            "tags": []
          },
          "execution_count": 134
        }
      ]
    },
    {
      "cell_type": "markdown",
      "metadata": {
        "id": "d-dpsfiZ0F0B",
        "colab_type": "text"
      },
      "source": [
        "Do the same for the test set."
      ]
    },
    {
      "cell_type": "code",
      "metadata": {
        "id": "NM2QHVLm0Lh8",
        "colab_type": "code",
        "outputId": "60a7e841-f9c6-453d-9d48-d1bb38797173",
        "colab": {
          "base_uri": "https://localhost:8080/",
          "height": 34
        }
      },
      "source": [
        "result_df['Operation_Channel_Group'] = result_df['Operation_Channel'].map(dict)\n",
        "result_df['Operation_Channel_Group'].unique()"
      ],
      "execution_count": 135,
      "outputs": [
        {
          "output_type": "execute_result",
          "data": {
            "text/plain": [
              "array(['Mobile', 'Counter', 'Online', 'Kiosks', 'Other'], dtype=object)"
            ]
          },
          "metadata": {
            "tags": []
          },
          "execution_count": 135
        }
      ]
    },
    {
      "cell_type": "markdown",
      "metadata": {
        "id": "hHcQ08xGLCUe",
        "colab_type": "text"
      },
      "source": [
        "Change data type to category"
      ]
    },
    {
      "cell_type": "code",
      "metadata": {
        "id": "LgqgfLW2K7TD",
        "colab_type": "code",
        "colab": {}
      },
      "source": [
        "train_df[\"Operation_Channel_Group\"] = train_df[\"Operation_Channel_Group\"].astype('category')\n",
        "result_df[\"Operation_Channel_Group\"] = result_df[\"Operation_Channel_Group\"].astype('category')"
      ],
      "execution_count": 0,
      "outputs": []
    },
    {
      "cell_type": "markdown",
      "metadata": {
        "id": "unO5SdRzycc_",
        "colab_type": "text"
      },
      "source": [
        "### Missing Value Handling\n",
        "\n",
        "Column percentage of null values in the training and test sets are printed below. At first glance,there are only null values in the *Operation Initials* column, however some unknown values are encoded as \"?\" in the datasets."
      ]
    },
    {
      "cell_type": "code",
      "metadata": {
        "id": "uAipyZEz4-sw",
        "colab_type": "code",
        "outputId": "23d01b2b-ccd1-4bf8-82ec-767aeb2932b2",
        "colab": {
          "base_uri": "https://localhost:8080/",
          "height": 0
        }
      },
      "source": [
        "(train_df.isnull().mean()*100).round(4)"
      ],
      "execution_count": 137,
      "outputs": [
        {
          "output_type": "execute_result",
          "data": {
            "text/plain": [
              "Departure_YMD_LMT            0.0000\n",
              "Operation_YMD_LMT            0.0000\n",
              "Departure_Airport            0.0000\n",
              "Operation_Airport            0.0000\n",
              "Terminal_Number              0.0000\n",
              "Terminal_Name                0.0000\n",
              "Operation_Initials           0.0156\n",
              "Operation_Sonic_Code         0.0000\n",
              "Operation_Channel            0.0000\n",
              "Passenger_Title              0.0000\n",
              "Passenger_Gender             0.0000\n",
              "Inbound_Departure_Airport    0.0000\n",
              "Outbound_Arrival_Airport     0.0000\n",
              "SWC_FLY                      0.0000\n",
              "Cabin_Class                  0.0000\n",
              "SWC_FQTV_Member              0.0000\n",
              "Passenger_Baggage_Count      0.0000\n",
              "Passenger_Baggage_Weight     0.0000\n",
              "SWC_Staff                    0.0000\n",
              "SWC_CIP_Passenger            0.0000\n",
              "SWC_VIP_Passenger            0.0000\n",
              "SWC_Has_Infant               0.0000\n",
              "Operation_Count              0.0000\n",
              "Operation_Channel_Group      0.0000\n",
              "dtype: float64"
            ]
          },
          "metadata": {
            "tags": []
          },
          "execution_count": 137
        }
      ]
    },
    {
      "cell_type": "code",
      "metadata": {
        "id": "Z9h6GsY65I5L",
        "colab_type": "code",
        "outputId": "81bb7322-3413-42a9-c0cf-638d25738af7",
        "colab": {
          "base_uri": "https://localhost:8080/",
          "height": 0
        }
      },
      "source": [
        "(result_df.isnull().mean()*100).round(4)"
      ],
      "execution_count": 138,
      "outputs": [
        {
          "output_type": "execute_result",
          "data": {
            "text/plain": [
              "Departure_YMD_LMT            0.0000\n",
              "Operation_YMD_LMT            0.0000\n",
              "Departure_Airport            0.0000\n",
              "Operation_Airport            0.0000\n",
              "Terminal_Number              0.0000\n",
              "Terminal_Name                0.0000\n",
              "Operation_Initials           0.0033\n",
              "Operation_Sonic_Code         0.0000\n",
              "Operation_Channel            0.0000\n",
              "Passenger_Title              0.0000\n",
              "Passenger_Gender             0.0000\n",
              "Inbound_Departure_Airport    0.0000\n",
              "Outbound_Arrival_Airport     0.0000\n",
              "SWC_FLY                      0.0000\n",
              "Cabin_Class                  0.0000\n",
              "SWC_FQTV_Member              0.0000\n",
              "Passenger_Baggage_Count      0.0000\n",
              "Passenger_Baggage_Weight     0.0000\n",
              "SWC_Staff                    0.0000\n",
              "SWC_CIP_Passenger            0.0000\n",
              "SWC_VIP_Passenger            0.0000\n",
              "SWC_Has_Infant               0.0000\n",
              "Operation_Count              0.0000\n",
              "Operation_Channel_Group      0.0000\n",
              "dtype: float64"
            ]
          },
          "metadata": {
            "tags": []
          },
          "execution_count": 138
        }
      ]
    },
    {
      "cell_type": "markdown",
      "metadata": {
        "id": "jLbD741tyefs",
        "colab_type": "text"
      },
      "source": [
        "Column based \"?\" occurance percentages in the training set:"
      ]
    },
    {
      "cell_type": "code",
      "metadata": {
        "id": "7CHS7T5Q6k_a",
        "colab_type": "code",
        "outputId": "7fb5fb86-3def-43f7-e549-f2bd3b26a517",
        "colab": {
          "base_uri": "https://localhost:8080/",
          "height": 0
        }
      },
      "source": [
        "import numpy as np\n",
        "def unknown_perc(df):\n",
        "  print(\"Column Name\\t Percentage\")\n",
        "  for col_name in df.columns:\n",
        "        if df[col_name].dtype.name == 'category' and (df[col_name] == \"?\").any():\n",
        "          count = df[col_name].value_counts(dropna=False)['?']\n",
        "          percentage = (count/len(df)*100).round(3)\n",
        "          print(col_name,\"\\t\", percentage)\n",
        "  return\n",
        "        \n",
        "unknown_perc(train_df)"
      ],
      "execution_count": 139,
      "outputs": [
        {
          "output_type": "stream",
          "text": [
            "Column Name\t Percentage\n",
            "Terminal_Number \t 90.618\n",
            "Operation_Sonic_Code \t 78.927\n",
            "Operation_Channel \t 2.112\n",
            "Passenger_Title \t 2.331\n",
            "Passenger_Gender \t 3.902\n",
            "Inbound_Departure_Airport \t 91.338\n",
            "Outbound_Arrival_Airport \t 64.422\n",
            "Cabin_Class \t 3.409\n"
          ],
          "name": "stdout"
        }
      ]
    },
    {
      "cell_type": "markdown",
      "metadata": {
        "id": "6AM6L2Bpyw-G",
        "colab_type": "text"
      },
      "source": [
        "Column based \"?\" occurance percentages in the test set:"
      ]
    },
    {
      "cell_type": "code",
      "metadata": {
        "id": "2UDEAA0LxKfX",
        "colab_type": "code",
        "outputId": "62891c42-3138-486d-96aa-b3a168824680",
        "colab": {
          "base_uri": "https://localhost:8080/",
          "height": 0
        }
      },
      "source": [
        "unknown_perc(result_df)"
      ],
      "execution_count": 140,
      "outputs": [
        {
          "output_type": "stream",
          "text": [
            "Column Name\t Percentage\n",
            "Terminal_Number \t 91.39\n",
            "Operation_Sonic_Code \t 54.39\n",
            "Operation_Channel \t 0.871\n",
            "Passenger_Title \t 2.762\n",
            "Passenger_Gender \t 0.076\n",
            "Inbound_Departure_Airport \t 94.52\n",
            "Outbound_Arrival_Airport \t 65.008\n"
          ],
          "name": "stdout"
        }
      ]
    },
    {
      "cell_type": "markdown",
      "metadata": {
        "id": "fkRjgKgzCFbu",
        "colab_type": "text"
      },
      "source": [
        "#### Generating Flags\n",
        "\n",
        "\n",
        "Let's transform Operation_Sonic_Code to Operation_Sonic_Code_Flag  in order to see if these variables are null or not. We choose to do this since there are so many different classes for these variables.\n",
        "\n",
        "\n",
        "\n",
        "---\n",
        "\n",
        "Depreciated: Terminal_Name to Terminal_Name_Flag\n",
        "\n",
        "\n",
        "---\n",
        "\n"
      ]
    },
    {
      "cell_type": "code",
      "metadata": {
        "id": "b4PaXdgyEfUX",
        "colab_type": "code",
        "colab": {}
      },
      "source": [
        "train_df['Operation_Sonic_Code_Flag'] = np.where(train_df['Operation_Sonic_Code']=='?', '0', '1')\n",
        "train_df['Operation_Sonic_Code_Flag'] = train_df['Operation_Sonic_Code_Flag'].astype(int)\n",
        "#train_df['Terminal_Number_Flag'] = np.where(train_df['Terminal_Number']=='?', '0', '1')\n",
        "#train_df['Terminal_Number_Flag'] = train_df['Terminal_Number_Flag'].astype(int)\n",
        "result_df['Operation_Sonic_Code_Flag'] = np.where(result_df['Operation_Sonic_Code']=='?', '0', '1')\n",
        "result_df['Operation_Sonic_Code_Flag'] = result_df['Operation_Sonic_Code_Flag'].astype(int)\n",
        "#result_df['Terminal_Number_Flag'] = np.where(result_df['Terminal_Number']=='?', '0', '1')\n",
        "#result_df['Terminal_Number_Flag'] = result_df['Terminal_Number_Flag'].astype(int)"
      ],
      "execution_count": 0,
      "outputs": []
    },
    {
      "cell_type": "markdown",
      "metadata": {
        "id": "FFsQhdoCmip7",
        "colab_type": "text"
      },
      "source": [
        "Convert \"?\" to NA when needed. Apart from *Inbound_Departure_Airport* and *Outbound_Arrival_Airport*, \"?\" is printed for unknown values (missing). For those specific columns \"?\" means that there is no inbound or outbound flight (direct flight), so they are encoded as a seperate class called *Unknown*."
      ]
    },
    {
      "cell_type": "code",
      "metadata": {
        "id": "_f4FdP8Ymaxw",
        "colab_type": "code",
        "colab": {}
      },
      "source": [
        "import numpy as np\n",
        "#train_df['Terminal_Number'] = train_df['Terminal_Number'].replace('?', np.nan)\n",
        "#train_df['Operation_Channel'] = train_df['Operation_Channel'].replace('?', np.nan)\n",
        "train_df['Passenger_Title'] = train_df['Passenger_Title'].replace('?', np.nan)\n",
        "train_df['Passenger_Gender'] = train_df['Passenger_Gender'].replace('?', np.nan)\n",
        "train_df['Inbound_Departure_Airport'] = train_df['Inbound_Departure_Airport'].replace('?', \"Unknown\")\n",
        "train_df['Outbound_Arrival_Airport'] = train_df['Outbound_Arrival_Airport'].replace('?', \"Unknown\")\n",
        "train_df['Cabin_Class'] = train_df['Cabin_Class'].replace('?', np.nan)\n",
        "train_df[\"Operation_Initials\"] = train_df[\"Operation_Initials\"].replace(\"?\",np.nan)\n",
        "train_df[\"Operation_Sonic_Code\"] = train_df[\"Operation_Sonic_Code\"].replace(\"?\",np.nan)\n",
        "\n",
        "#result_df['Terminal_Number'] = result_df['Terminal_Number'].replace('?', np.nan)\n",
        "#result_df['Operation_Channel'] = result_df['Operation_Channel'].replace('?', np.nan)\n",
        "result_df['Passenger_Title'] = result_df['Passenger_Title'].replace('?', np.nan)\n",
        "result_df['Passenger_Gender'] = result_df['Passenger_Gender'].replace('?', np.nan)\n",
        "result_df['Inbound_Departure_Airport'] = result_df['Inbound_Departure_Airport'].replace('?', \"Unknown\")\n",
        "result_df['Outbound_Arrival_Airport'] = result_df['Outbound_Arrival_Airport'].replace('?', \"Unknown\")\n",
        "result_df['Cabin_Class'] = result_df['Cabin_Class'].replace('?', np.nan)\n",
        "result_df[\"Operation_Initials\"] = train_df[\"Operation_Initials\"].replace(\"?\",np.nan)\n",
        "result_df[\"Operation_Sonic_Code\"] = result_df[\"Operation_Sonic_Code\"].replace(\"?\",np.nan)"
      ],
      "execution_count": 0,
      "outputs": []
    },
    {
      "cell_type": "markdown",
      "metadata": {
        "id": "nplxsMXMAnXY",
        "colab_type": "text"
      },
      "source": [
        "Now, the new missing value percentages for the training set becomes:"
      ]
    },
    {
      "cell_type": "code",
      "metadata": {
        "id": "CwmBM3TkrjrK",
        "colab_type": "code",
        "outputId": "ad9c6dd6-c563-45b4-f681-0daa7c75c994",
        "colab": {
          "base_uri": "https://localhost:8080/",
          "height": 0
        }
      },
      "source": [
        "(train_df.isnull().mean()*100).round(4)"
      ],
      "execution_count": 143,
      "outputs": [
        {
          "output_type": "execute_result",
          "data": {
            "text/plain": [
              "Departure_YMD_LMT             0.0000\n",
              "Operation_YMD_LMT             0.0000\n",
              "Departure_Airport             0.0000\n",
              "Operation_Airport             0.0000\n",
              "Terminal_Number               0.0000\n",
              "Terminal_Name                 0.0000\n",
              "Operation_Initials            0.0156\n",
              "Operation_Sonic_Code         78.9266\n",
              "Operation_Channel             0.0000\n",
              "Passenger_Title               2.3307\n",
              "Passenger_Gender              3.9025\n",
              "Inbound_Departure_Airport     0.0000\n",
              "Outbound_Arrival_Airport      0.0000\n",
              "SWC_FLY                       0.0000\n",
              "Cabin_Class                   3.4093\n",
              "SWC_FQTV_Member               0.0000\n",
              "Passenger_Baggage_Count       0.0000\n",
              "Passenger_Baggage_Weight      0.0000\n",
              "SWC_Staff                     0.0000\n",
              "SWC_CIP_Passenger             0.0000\n",
              "SWC_VIP_Passenger             0.0000\n",
              "SWC_Has_Infant                0.0000\n",
              "Operation_Count               0.0000\n",
              "Operation_Channel_Group       0.0000\n",
              "Operation_Sonic_Code_Flag     0.0000\n",
              "dtype: float64"
            ]
          },
          "metadata": {
            "tags": []
          },
          "execution_count": 143
        }
      ]
    },
    {
      "cell_type": "markdown",
      "metadata": {
        "id": "aSMbF8qEA4M7",
        "colab_type": "text"
      },
      "source": [
        "and for the test set the result is:"
      ]
    },
    {
      "cell_type": "code",
      "metadata": {
        "id": "CINMBpV7A8pG",
        "colab_type": "code",
        "outputId": "9f165ed8-6330-4a6f-b6ad-29203689fa5d",
        "colab": {
          "base_uri": "https://localhost:8080/",
          "height": 0
        }
      },
      "source": [
        "(result_df.isnull().mean()*100).round(4)"
      ],
      "execution_count": 144,
      "outputs": [
        {
          "output_type": "execute_result",
          "data": {
            "text/plain": [
              "Departure_YMD_LMT             0.0000\n",
              "Operation_YMD_LMT             0.0000\n",
              "Departure_Airport             0.0000\n",
              "Operation_Airport             0.0000\n",
              "Terminal_Number               0.0000\n",
              "Terminal_Name                 0.0000\n",
              "Operation_Initials            0.0180\n",
              "Operation_Sonic_Code         54.3901\n",
              "Operation_Channel             0.0000\n",
              "Passenger_Title               2.7616\n",
              "Passenger_Gender              0.0763\n",
              "Inbound_Departure_Airport     0.0000\n",
              "Outbound_Arrival_Airport      0.0000\n",
              "SWC_FLY                       0.0000\n",
              "Cabin_Class                   0.0000\n",
              "SWC_FQTV_Member               0.0000\n",
              "Passenger_Baggage_Count       0.0000\n",
              "Passenger_Baggage_Weight      0.0000\n",
              "SWC_Staff                     0.0000\n",
              "SWC_CIP_Passenger             0.0000\n",
              "SWC_VIP_Passenger             0.0000\n",
              "SWC_Has_Infant                0.0000\n",
              "Operation_Count               0.0000\n",
              "Operation_Channel_Group       0.0000\n",
              "Operation_Sonic_Code_Flag     0.0000\n",
              "dtype: float64"
            ]
          },
          "metadata": {
            "tags": []
          },
          "execution_count": 144
        }
      ]
    },
    {
      "cell_type": "markdown",
      "metadata": {
        "id": "2rroaK2-3ruv",
        "colab_type": "text"
      },
      "source": [
        "### Dropping Uninformative Features"
      ]
    },
    {
      "cell_type": "markdown",
      "metadata": {
        "id": "Pe1XXORnVqGy",
        "colab_type": "text"
      },
      "source": [
        "Notice that *Operation Sonic Code*  has a missing value ratio of 79% and for *Terminal Number* column this ratio is even higher (>90%). With a ratio this high, we cannot impute missing values correctly. These columns should be dropped, along with the *Departure_Airport* column. \n",
        "\n",
        "\n",
        "\n",
        "---\n",
        "\n",
        "Later we decided to keep *Terminal Number* since it shows high correlation whether the passenger flies or not (SWC_FLY). We thought that even this column composed of values mostly unknown, it can be stil informative.\n",
        "\n",
        "\n",
        "---\n",
        "\n",
        "\n"
      ]
    },
    {
      "cell_type": "code",
      "metadata": {
        "id": "w843hKQbB9Bs",
        "colab_type": "code",
        "colab": {}
      },
      "source": [
        "#train_df2 = train_df.copy()\n",
        "#result_df2 = result_df.copy()\n",
        "train_df = train_df.drop(columns = [ \"Departure_Airport\", \"Operation_Sonic_Code\"]) #\"Terminal_Number\", \n",
        "result_df = result_df.drop(columns = [\"Departure_Airport\", \"Operation_Sonic_Code\"]) #\"Terminal_Number\", "
      ],
      "execution_count": 0,
      "outputs": []
    },
    {
      "cell_type": "markdown",
      "metadata": {
        "id": "egMg7CVHWqy-",
        "colab_type": "text"
      },
      "source": [
        "#### Imputing Passenger Gender\n",
        "\n",
        "First, we used *Passenger Title* to impute missing values in the gender column. We replaced unknown genders whose titles are *MISTER*, *MISS* and *MISSES* with male and females, respectively. Later, we decided *Operation Channel Group* based imputation for the rest. So we grouped the dataframe by this column and found most frequent observations for the *Passenger Gender* column."
      ]
    },
    {
      "cell_type": "code",
      "metadata": {
        "id": "2aqNrg2SCFM7",
        "colab_type": "code",
        "outputId": "2435879d-fc53-4ee6-93ad-df6774fe0aad",
        "colab": {
          "base_uri": "https://localhost:8080/",
          "height": 0
        }
      },
      "source": [
        "# Replace missing values whose titles are MISTER with M\n",
        "train_df.loc[(train_df.Passenger_Gender.isna() ) & (train_df.Passenger_Title=='MISTER'),\"Passenger_Gender\"] = \"M\"\n",
        "result_df.loc[(result_df.Passenger_Gender.isna() ) & (result_df.Passenger_Title=='MISTER'),\"Passenger_Gender\"] = \"M\"\n",
        "\n",
        "# Replace missing values whose titles are MISS or MISSES with F\n",
        "train_df.loc[(train_df.Passenger_Gender.isna() ) & ((train_df.Passenger_Title=='MISS') | (train_df.Passenger_Title=='MISSES')) ,\"Passenger_Gender\"] = \"F\"\n",
        "result_df.loc[(result_df.Passenger_Gender.isna() ) & ((result_df.Passenger_Title=='MISS') | (result_df.Passenger_Title=='MISSES')) ,\"Passenger_Gender\"] = \"F\"\n",
        "\n",
        "sum(train_df[\"Passenger_Gender\"].isnull())"
      ],
      "execution_count": 146,
      "outputs": [
        {
          "output_type": "execute_result",
          "data": {
            "text/plain": [
              "981"
            ]
          },
          "metadata": {
            "tags": []
          },
          "execution_count": 146
        }
      ]
    },
    {
      "cell_type": "markdown",
      "metadata": {
        "id": "ycXeXhyjIUoL",
        "colab_type": "text"
      },
      "source": [
        "There are 981 missing values left in the gender column. We checked channel group based gender distribution and found that the most frequent gender is male for every channel"
      ]
    },
    {
      "cell_type": "code",
      "metadata": {
        "id": "RO2DoYwAW564",
        "colab_type": "code",
        "outputId": "62078f05-a255-4ce5-97f3-bb5dc22c5ceb",
        "colab": {
          "base_uri": "https://localhost:8080/",
          "height": 0
        }
      },
      "source": [
        "train_df.groupby(\"Operation_Channel_Group\")['Passenger_Gender'].apply(lambda x: x.value_counts().index[0])#.reset_index()"
      ],
      "execution_count": 147,
      "outputs": [
        {
          "output_type": "execute_result",
          "data": {
            "text/plain": [
              "Operation_Channel_Group\n",
              "Counter    M\n",
              "Kiosks     M\n",
              "Mobile     M\n",
              "Online     M\n",
              "Other      M\n",
              "Name: Passenger_Gender, dtype: object"
            ]
          },
          "metadata": {
            "tags": []
          },
          "execution_count": 147
        }
      ]
    },
    {
      "cell_type": "code",
      "metadata": {
        "id": "S038IZzsZeP_",
        "colab_type": "code",
        "outputId": "c97fe33a-1923-4c3b-ae15-494ea9d3cbbc",
        "colab": {
          "base_uri": "https://localhost:8080/",
          "height": 0
        }
      },
      "source": [
        "train_df.groupby(\"Operation_Channel_Group\")['Passenger_Gender'].apply(lambda x: x.value_counts())"
      ],
      "execution_count": 148,
      "outputs": [
        {
          "output_type": "execute_result",
          "data": {
            "text/plain": [
              "Operation_Channel_Group       \n",
              "Counter                  M        237238\n",
              "                         F        140313\n",
              "                         C         11334\n",
              "                         F/INF      1984\n",
              "                         M/INF      1187\n",
              "                         C/INF         6\n",
              "                         ?             0\n",
              "Kiosks                   M         27454\n",
              "                         F         13975\n",
              "                         C          1143\n",
              "                         F/INF       139\n",
              "                         M/INF        99\n",
              "                         C/INF         0\n",
              "                         ?             0\n",
              "Mobile                   M         91209\n",
              "                         F         62979\n",
              "                         C          4621\n",
              "                         F/INF       548\n",
              "                         M/INF       380\n",
              "                         C/INF         0\n",
              "                         ?             0\n",
              "Online                   M        104584\n",
              "                         F         82430\n",
              "                         C          6055\n",
              "                         F/INF       692\n",
              "                         M/INF       408\n",
              "                         C/INF         0\n",
              "                         ?             0\n",
              "Other                    M         10206\n",
              "                         F          8093\n",
              "                         C           487\n",
              "                         F/INF       101\n",
              "                         M/INF        50\n",
              "                         C/INF         0\n",
              "                         ?             0\n",
              "Name: Passenger_Gender, dtype: int64"
            ]
          },
          "metadata": {
            "tags": []
          },
          "execution_count": 148
        }
      ]
    },
    {
      "cell_type": "code",
      "metadata": {
        "id": "NbFrmcungJex",
        "colab_type": "code",
        "outputId": "57b4876c-2a5a-42cb-b6bf-15f6d3db5e5d",
        "colab": {
          "base_uri": "https://localhost:8080/",
          "height": 0
        }
      },
      "source": [
        "result_df.groupby(\"Operation_Channel_Group\")['Passenger_Gender'].apply(lambda x: x.value_counts())"
      ],
      "execution_count": 149,
      "outputs": [
        {
          "output_type": "execute_result",
          "data": {
            "text/plain": [
              "Operation_Channel_Group   \n",
              "Counter                  M    32131\n",
              "                         F    23568\n",
              "                         C     3107\n",
              "                         ?        0\n",
              "Kiosks                   M     4364\n",
              "                         F     2458\n",
              "                         C      275\n",
              "                         ?        0\n",
              "Mobile                   M    13059\n",
              "                         F    10883\n",
              "                         C     1129\n",
              "                         ?        0\n",
              "Online                   M    14682\n",
              "                         F    13371\n",
              "                         C     1445\n",
              "                         ?        0\n",
              "Other                    M      679\n",
              "                         F      585\n",
              "                         C       92\n",
              "                         ?        0\n",
              "Name: Passenger_Gender, dtype: int64"
            ]
          },
          "metadata": {
            "tags": []
          },
          "execution_count": 149
        }
      ]
    },
    {
      "cell_type": "markdown",
      "metadata": {
        "id": "4_NAbcajX7S_",
        "colab_type": "text"
      },
      "source": [
        "Since most common gender for all channel groups is male, we imputed missing gender values with \"M\"."
      ]
    },
    {
      "cell_type": "code",
      "metadata": {
        "id": "mthkiXm6YOMQ",
        "colab_type": "code",
        "outputId": "3cae59d5-6ca2-460c-fee6-f63af8512eba",
        "colab": {
          "base_uri": "https://localhost:8080/",
          "height": 0
        }
      },
      "source": [
        "train_df['Passenger_Gender'] = train_df['Passenger_Gender'].replace(np.nan, \"M\")\n",
        "train_df['Passenger_Gender'].unique()"
      ],
      "execution_count": 150,
      "outputs": [
        {
          "output_type": "execute_result",
          "data": {
            "text/plain": [
              "[M, F, F/INF, M/INF, C, C/INF]\n",
              "Categories (6, object): [M, F, F/INF, M/INF, C, C/INF]"
            ]
          },
          "metadata": {
            "tags": []
          },
          "execution_count": 150
        }
      ]
    },
    {
      "cell_type": "code",
      "metadata": {
        "id": "UcXgdApsgRJn",
        "colab_type": "code",
        "outputId": "b55dd373-f263-4972-e199-34d20bdd48cb",
        "colab": {
          "base_uri": "https://localhost:8080/",
          "height": 0
        }
      },
      "source": [
        "result_df['Passenger_Gender'] = train_df['Passenger_Gender'].replace(np.nan, \"M\")\n",
        "result_df['Passenger_Gender'].unique()"
      ],
      "execution_count": 151,
      "outputs": [
        {
          "output_type": "execute_result",
          "data": {
            "text/plain": [
              "[M, F, F/INF, M/INF, C, C/INF]\n",
              "Categories (6, object): [M, F, F/INF, M/INF, C, C/INF]"
            ]
          },
          "metadata": {
            "tags": []
          },
          "execution_count": 151
        }
      ]
    },
    {
      "cell_type": "markdown",
      "metadata": {
        "id": "GsGg4v3wbntJ",
        "colab_type": "text"
      },
      "source": [
        "#### Imputing Passenger Title\n",
        "\n",
        "Again, Operation Channel Group based imputation is employed. \"MISTER\" is most common tittle so we employed all the missin values with that."
      ]
    },
    {
      "cell_type": "code",
      "metadata": {
        "id": "KVG7j7b8eMzB",
        "colab_type": "code",
        "outputId": "abb31742-c16c-46e7-fba6-9546de6aa167",
        "colab": {
          "base_uri": "https://localhost:8080/",
          "height": 0
        }
      },
      "source": [
        "train_df.groupby(\"Operation_Channel_Group\")['Passenger_Title'].apply(lambda x: x.value_counts())"
      ],
      "execution_count": 152,
      "outputs": [
        {
          "output_type": "execute_result",
          "data": {
            "text/plain": [
              "Operation_Channel_Group           \n",
              "Counter                  MISTER       230324\n",
              "                         MISS         107506\n",
              "                         MISSES        42584\n",
              "                         DOCTOR          157\n",
              "                         PROFFESOR        10\n",
              "                         ?                 0\n",
              "Kiosks                   MISTER        26821\n",
              "                         MISS          10749\n",
              "                         MISSES         3910\n",
              "                         DOCTOR            9\n",
              "                         PROFFESOR         1\n",
              "                         ?                 0\n",
              "Mobile                   MISTER        92083\n",
              "                         MISS          48132\n",
              "                         MISSES        17537\n",
              "                         DOCTOR           62\n",
              "                         PROFFESOR         3\n",
              "                         ?                 0\n",
              "Online                   MISTER       105085\n",
              "                         MISS          63692\n",
              "                         MISSES        22288\n",
              "                         DOCTOR           91\n",
              "                         PROFFESOR         5\n",
              "                         ?                 0\n",
              "Other                    MISTER        10353\n",
              "                         MISS           6110\n",
              "                         MISSES         2329\n",
              "                         DOCTOR            6\n",
              "                         PROFFESOR         1\n",
              "                         ?                 0\n",
              "Name: Passenger_Title, dtype: int64"
            ]
          },
          "metadata": {
            "tags": []
          },
          "execution_count": 152
        }
      ]
    },
    {
      "cell_type": "code",
      "metadata": {
        "id": "aEL6pDtTghn-",
        "colab_type": "code",
        "outputId": "fcdbda98-bcab-469e-9a93-73b370612012",
        "colab": {
          "base_uri": "https://localhost:8080/",
          "height": 0
        }
      },
      "source": [
        "result_df.groupby(\"Operation_Channel_Group\")['Passenger_Title'].apply(lambda x: x.value_counts())"
      ],
      "execution_count": 153,
      "outputs": [
        {
          "output_type": "execute_result",
          "data": {
            "text/plain": [
              "Operation_Channel_Group           \n",
              "Counter                  MISTER       31512\n",
              "                         MISS         20004\n",
              "                         MISSES        5053\n",
              "                         DOCTOR          22\n",
              "                         PROFFESOR        6\n",
              "                         ?                0\n",
              "Kiosks                   MISTER        4260\n",
              "                         MISS          2087\n",
              "                         MISSES         502\n",
              "                         DOCTOR           2\n",
              "                         PROFFESOR        0\n",
              "                         ?                0\n",
              "Mobile                   MISTER       13275\n",
              "                         MISS          9310\n",
              "                         MISSES        2116\n",
              "                         DOCTOR           6\n",
              "                         PROFFESOR        0\n",
              "                         ?                0\n",
              "Online                   MISTER       14972\n",
              "                         MISS         11525\n",
              "                         MISSES        2535\n",
              "                         DOCTOR          11\n",
              "                         PROFFESOR        1\n",
              "                         ?                0\n",
              "Other                    MISTER         724\n",
              "                         MISS           626\n",
              "                         MISSES           5\n",
              "                         PROFFESOR        0\n",
              "                         DOCTOR           0\n",
              "                         ?                0\n",
              "Name: Passenger_Title, dtype: int64"
            ]
          },
          "metadata": {
            "tags": []
          },
          "execution_count": 153
        }
      ]
    },
    {
      "cell_type": "code",
      "metadata": {
        "id": "ZN7ATCdElSgI",
        "colab_type": "code",
        "outputId": "9a43b33b-7381-4859-b153-71cccb077501",
        "colab": {
          "base_uri": "https://localhost:8080/",
          "height": 0
        }
      },
      "source": [
        "train_df['Passenger_Title'] = train_df['Passenger_Title'].replace(np.nan, \"MISTER\")\n",
        "train_df['Passenger_Title'].unique()"
      ],
      "execution_count": 154,
      "outputs": [
        {
          "output_type": "execute_result",
          "data": {
            "text/plain": [
              "[MISTER, MISS, MISSES, DOCTOR, PROFFESOR]\n",
              "Categories (5, object): [MISTER, MISS, MISSES, DOCTOR, PROFFESOR]"
            ]
          },
          "metadata": {
            "tags": []
          },
          "execution_count": 154
        }
      ]
    },
    {
      "cell_type": "code",
      "metadata": {
        "id": "ZbPfQGIulcFK",
        "colab_type": "code",
        "outputId": "beba1c9d-2a20-480c-bc56-2714c5c796b5",
        "colab": {
          "base_uri": "https://localhost:8080/",
          "height": 0
        }
      },
      "source": [
        "result_df['Passenger_Title'] = result_df['Passenger_Title'].replace(np.nan, \"MISTER\")\n",
        "result_df['Passenger_Title'].unique()"
      ],
      "execution_count": 155,
      "outputs": [
        {
          "output_type": "execute_result",
          "data": {
            "text/plain": [
              "[MISS, MISTER, MISSES, DOCTOR, PROFFESOR]\n",
              "Categories (5, object): [MISS, MISTER, MISSES, DOCTOR, PROFFESOR]"
            ]
          },
          "metadata": {
            "tags": []
          },
          "execution_count": 155
        }
      ]
    },
    {
      "cell_type": "markdown",
      "metadata": {
        "id": "cwp0gNe6oc0D",
        "colab_type": "text"
      },
      "source": [
        "#### Imputing Cabin Class\n",
        "Most common class is economy class for all channel groups so we imputed missing values with it."
      ]
    },
    {
      "cell_type": "code",
      "metadata": {
        "id": "IVFNYI92qPs9",
        "colab_type": "code",
        "outputId": "1069b284-b699-42a2-96fd-bef28ff2fd53",
        "colab": {
          "base_uri": "https://localhost:8080/",
          "height": 0
        }
      },
      "source": [
        "train_df.groupby(\"Operation_Channel_Group\")['Cabin_Class'].apply(lambda x: x.value_counts())"
      ],
      "execution_count": 156,
      "outputs": [
        {
          "output_type": "execute_result",
          "data": {
            "text/plain": [
              "Operation_Channel_Group   \n",
              "Counter                  Y    359878\n",
              "                         C     24154\n",
              "                         ?         0\n",
              "Kiosks                   Y     40963\n",
              "                         C       784\n",
              "                         ?         0\n",
              "Mobile                   Y    141832\n",
              "                         C     10066\n",
              "                         ?         0\n",
              "Online                   Y    177436\n",
              "                         C      8563\n",
              "                         ?         0\n",
              "Other                    Y     15258\n",
              "                         C      2191\n",
              "                         ?         0\n",
              "Name: Cabin_Class, dtype: int64"
            ]
          },
          "metadata": {
            "tags": []
          },
          "execution_count": 156
        }
      ]
    },
    {
      "cell_type": "code",
      "metadata": {
        "id": "OsAmymphAuah",
        "colab_type": "code",
        "outputId": "514e8020-1df0-445e-9932-e2a290d4b00a",
        "colab": {
          "base_uri": "https://localhost:8080/",
          "height": 0
        }
      },
      "source": [
        "train_df[\"Cabin_Class\"].unique()"
      ],
      "execution_count": 157,
      "outputs": [
        {
          "output_type": "execute_result",
          "data": {
            "text/plain": [
              "[Y, NaN, C]\n",
              "Categories (2, object): [Y, C]"
            ]
          },
          "metadata": {
            "tags": []
          },
          "execution_count": 157
        }
      ]
    },
    {
      "cell_type": "code",
      "metadata": {
        "id": "UxmTIOb9pm_V",
        "colab_type": "code",
        "outputId": "e1fdfb6b-2af7-4e11-a3ea-a826ab9ccc72",
        "colab": {
          "base_uri": "https://localhost:8080/",
          "height": 0
        }
      },
      "source": [
        "result_df.groupby(\"Operation_Channel_Group\")['Cabin_Class'].apply(lambda x: x.value_counts())"
      ],
      "execution_count": 158,
      "outputs": [
        {
          "output_type": "execute_result",
          "data": {
            "text/plain": [
              "Operation_Channel_Group   \n",
              "Counter                  Y    55315\n",
              "                         C     3506\n",
              "Kiosks                   Y     6964\n",
              "                         C      136\n",
              "Mobile                   Y    23169\n",
              "                         C     1912\n",
              "Online                   Y    28342\n",
              "                         C     1165\n",
              "Other                    Y     1029\n",
              "                         C      383\n",
              "Name: Cabin_Class, dtype: int64"
            ]
          },
          "metadata": {
            "tags": []
          },
          "execution_count": 158
        }
      ]
    },
    {
      "cell_type": "code",
      "metadata": {
        "id": "-vksq8jTwPMG",
        "colab_type": "code",
        "outputId": "1751948a-9979-454a-d7e9-a083bbca7edf",
        "colab": {
          "base_uri": "https://localhost:8080/",
          "height": 0
        }
      },
      "source": [
        "train_df['Cabin_Class'] = train_df['Cabin_Class'].replace(np.nan, \"Y\")\n",
        "train_df['Cabin_Class'].unique()"
      ],
      "execution_count": 159,
      "outputs": [
        {
          "output_type": "execute_result",
          "data": {
            "text/plain": [
              "[Y, C]\n",
              "Categories (2, object): [Y, C]"
            ]
          },
          "metadata": {
            "tags": []
          },
          "execution_count": 159
        }
      ]
    },
    {
      "cell_type": "code",
      "metadata": {
        "id": "4YTu787QwPBr",
        "colab_type": "code",
        "outputId": "c1f63a36-4a06-4087-dd67-137321fc211e",
        "colab": {
          "base_uri": "https://localhost:8080/",
          "height": 0
        }
      },
      "source": [
        "result_df['Cabin_Class'] = result_df['Cabin_Class'].replace(np.nan, \"Y\")\n",
        "result_df['Cabin_Class'].unique()"
      ],
      "execution_count": 160,
      "outputs": [
        {
          "output_type": "execute_result",
          "data": {
            "text/plain": [
              "[Y, C]\n",
              "Categories (2, object): [Y, C]"
            ]
          },
          "metadata": {
            "tags": []
          },
          "execution_count": 160
        }
      ]
    },
    {
      "cell_type": "markdown",
      "metadata": {
        "id": "l5Ym3TE5xX2y",
        "colab_type": "text"
      },
      "source": [
        "#### Imputing Operation Initials\n",
        "\n",
        "The most frequent *Operation Initials* observed in different channel groups for the training and the test set are given below."
      ]
    },
    {
      "cell_type": "code",
      "metadata": {
        "id": "Pnvv-Qavxfje",
        "colab_type": "code",
        "outputId": "7122095c-4cad-4232-d995-3fc367049aeb",
        "colab": {
          "base_uri": "https://localhost:8080/",
          "height": 0
        }
      },
      "source": [
        "train_df.groupby(\"Operation_Channel_Group\")['Operation_Initials'].apply(lambda x: x.value_counts().index[0])"
      ],
      "execution_count": 161,
      "outputs": [
        {
          "output_type": "execute_result",
          "data": {
            "text/plain": [
              "Operation_Channel_Group\n",
              "Counter    KS\n",
              "Kiosks     SC\n",
              "Mobile     MK\n",
              "Online     MK\n",
              "Other      MK\n",
              "Name: Operation_Initials, dtype: object"
            ]
          },
          "metadata": {
            "tags": []
          },
          "execution_count": 161
        }
      ]
    },
    {
      "cell_type": "code",
      "metadata": {
        "id": "gzCXzTUvALKC",
        "colab_type": "code",
        "outputId": "c2861432-f8e6-4166-ae0b-50d15357f310",
        "colab": {
          "base_uri": "https://localhost:8080/",
          "height": 0
        }
      },
      "source": [
        "result_df.groupby(\"Operation_Channel_Group\")['Operation_Initials'].apply(lambda x: x.value_counts().index[0])"
      ],
      "execution_count": 162,
      "outputs": [
        {
          "output_type": "execute_result",
          "data": {
            "text/plain": [
              "Operation_Channel_Group\n",
              "Counter    KS\n",
              "Kiosks     KS\n",
              "Mobile     KS\n",
              "Online     KS\n",
              "Other      KS\n",
              "Name: Operation_Initials, dtype: object"
            ]
          },
          "metadata": {
            "tags": []
          },
          "execution_count": 162
        }
      ]
    },
    {
      "cell_type": "markdown",
      "metadata": {
        "id": "ibhXNfsaAUFu",
        "colab_type": "text"
      },
      "source": [
        "The most frequent initials observed in each channel group is \"KS\" for test set so we replaced NA values with it."
      ]
    },
    {
      "cell_type": "code",
      "metadata": {
        "id": "4NApKi8rAkix",
        "colab_type": "code",
        "outputId": "5a32fb9b-eda3-4161-f047-127dff5d270c",
        "colab": {
          "base_uri": "https://localhost:8080/",
          "height": 0
        }
      },
      "source": [
        "result_df['Operation_Initials'] = result_df['Operation_Initials'].replace(np.nan, \"KS\")\n",
        "result_df['Operation_Initials'].unique()"
      ],
      "execution_count": 163,
      "outputs": [
        {
          "output_type": "execute_result",
          "data": {
            "text/plain": [
              "[KS, MK, SC, EY, Q7, ..., SA, O3, VO, ZF, AX]\n",
              "Length: 123\n",
              "Categories (123, object): [KS, MK, SC, EY, ..., O3, VO, ZF, AX]"
            ]
          },
          "metadata": {
            "tags": []
          },
          "execution_count": 163
        }
      ]
    },
    {
      "cell_type": "markdown",
      "metadata": {
        "id": "TPZqMS_BAx-Y",
        "colab_type": "text"
      },
      "source": [
        "However, we need to impute missing values differently for different channels for the training set."
      ]
    },
    {
      "cell_type": "code",
      "metadata": {
        "id": "mCV4rYaB5DcD",
        "colab_type": "code",
        "colab": {}
      },
      "source": [
        "train_df.loc[(train_df.Operation_Channel_Group == \"Counter\") & (train_df.Operation_Initials.isna()),\"Operation_Initials\"] = \"KS\"\n",
        "train_df.loc[(train_df.Operation_Channel_Group == \"Kiosks\") & (train_df.Operation_Initials.isna()),\"Operation_Initials\"] = \"SC\"\n",
        "train_df.loc[(train_df.Operation_Channel_Group != \"Kiosks\") & (train_df.Operation_Channel_Group != \"Counter\") & (train_df.Operation_Initials.isna()),\"Operation_Initials\"] = \"MK\""
      ],
      "execution_count": 0,
      "outputs": []
    },
    {
      "cell_type": "markdown",
      "metadata": {
        "id": "vb0dM8WjcpJh",
        "colab_type": "text"
      },
      "source": [
        "## Feature Generation"
      ]
    },
    {
      "cell_type": "markdown",
      "metadata": {
        "id": "PUD2-XzlMggF",
        "colab_type": "text"
      },
      "source": [
        "### Early Check-in & Early Check-in Status\n",
        "\n",
        "We generate another variable to see if people checked in on-time or not. The date is given as days, so how many days there are between the flight and the check-in is added as a variable."
      ]
    },
    {
      "cell_type": "code",
      "metadata": {
        "id": "oqeDf5HEMuP1",
        "colab_type": "code",
        "outputId": "33bce39b-b2bf-4bb2-fa31-6d1dfa4a7532",
        "colab": {
          "base_uri": "https://localhost:8080/",
          "height": 0
        }
      },
      "source": [
        "train_df['Early_Check_In'] = (train_df.Departure_YMD_LMT - train_df.Operation_YMD_LMT)\n",
        "train_df['Early_Check_In'] = (train_df['Early_Check_In']/86400000000000).astype(int)\n",
        "train_df['Early_Check_In'].unique()"
      ],
      "execution_count": 165,
      "outputs": [
        {
          "output_type": "execute_result",
          "data": {
            "text/plain": [
              "array([   0,    1,    2, 7033,    3,   -1, 7391, 7366, 7367, 7010, 7072,\n",
              "       7037, 7092, 7105, 7057, 7418, 7426, 7388, 7440, 7008, 7443, 7405,\n",
              "       7002, 7016, 7415, 7384, 7100, 7455, 7386, 7067, 7378, 7101, 7398,\n",
              "       7000, 7036, 7431, 7396, 7012, 7454, 7441, 7098, 7371, 7420, 7089,\n",
              "       7438, 7390, 7028, 7108, 7372, 7047, 7422, 7379, 7096, 7409, 7404,\n",
              "       7374, 7004, 7013, 7410, 7020, 7088, 7083, 7056, 7102, 7024, 7370,\n",
              "       7095, 7110, 7051, 7049, 7109, 7421, 7414, 7063, 7452, 7376, 7424,\n",
              "       7034, 7039, 7429, 6999, 7394, 7040, 7041, 7077, 7053, 7411, 7086,\n",
              "       7419, 7406, 7369, 7006, 7045, 7385, 7023, 7019, 7069, 7081, 7044,\n",
              "       7423, 7011, 7437, 7058, 7005, 7087, 7115, 7070, 7027, 7368, 7381,\n",
              "       7425, 7074, 7389, 7025, 7054, 7076, 7380, 7106, 7432, 7449, 7387,\n",
              "       7445, 7022, 7413, 7382, 7401, 7062, 7075, 7048, 7393, 7090, 7392,\n",
              "       7094, 7377, 7364, 7065, 7375, 7453, 7107, 7018, 7064, 7383, 7055,\n",
              "       7046, 7038, 7031, 7365, 7042, 7442, 7026, 7417, 7116, 7084, 7017,\n",
              "       7014, 7097, 7451])"
            ]
          },
          "metadata": {
            "tags": []
          },
          "execution_count": 165
        }
      ]
    },
    {
      "cell_type": "markdown",
      "metadata": {
        "id": "2dtlQ7QNNq3b",
        "colab_type": "text"
      },
      "source": [
        "There are some peculiar cases where check-in made 7000 days before in 1999!"
      ]
    },
    {
      "cell_type": "code",
      "metadata": {
        "id": "sdapddLzOHO7",
        "colab_type": "code",
        "outputId": "069e2151-ec46-4585-8d11-df8948633207",
        "colab": {
          "base_uri": "https://localhost:8080/",
          "height": 0
        }
      },
      "source": [
        "train_df[train_df['Early_Check_In']>100].sort_values('Operation_YMD_LMT')"
      ],
      "execution_count": 166,
      "outputs": [
        {
          "output_type": "execute_result",
          "data": {
            "text/html": [
              "<div>\n",
              "<style scoped>\n",
              "    .dataframe tbody tr th:only-of-type {\n",
              "        vertical-align: middle;\n",
              "    }\n",
              "\n",
              "    .dataframe tbody tr th {\n",
              "        vertical-align: top;\n",
              "    }\n",
              "\n",
              "    .dataframe thead th {\n",
              "        text-align: right;\n",
              "    }\n",
              "</style>\n",
              "<table border=\"1\" class=\"dataframe\">\n",
              "  <thead>\n",
              "    <tr style=\"text-align: right;\">\n",
              "      <th></th>\n",
              "      <th>Departure_YMD_LMT</th>\n",
              "      <th>Operation_YMD_LMT</th>\n",
              "      <th>Operation_Airport</th>\n",
              "      <th>Terminal_Number</th>\n",
              "      <th>Terminal_Name</th>\n",
              "      <th>Operation_Initials</th>\n",
              "      <th>Operation_Channel</th>\n",
              "      <th>Passenger_Title</th>\n",
              "      <th>Passenger_Gender</th>\n",
              "      <th>Inbound_Departure_Airport</th>\n",
              "      <th>Outbound_Arrival_Airport</th>\n",
              "      <th>SWC_FLY</th>\n",
              "      <th>Cabin_Class</th>\n",
              "      <th>SWC_FQTV_Member</th>\n",
              "      <th>Passenger_Baggage_Count</th>\n",
              "      <th>Passenger_Baggage_Weight</th>\n",
              "      <th>SWC_Staff</th>\n",
              "      <th>SWC_CIP_Passenger</th>\n",
              "      <th>SWC_VIP_Passenger</th>\n",
              "      <th>SWC_Has_Infant</th>\n",
              "      <th>Operation_Count</th>\n",
              "      <th>Operation_Channel_Group</th>\n",
              "      <th>Operation_Sonic_Code_Flag</th>\n",
              "      <th>Early_Check_In</th>\n",
              "    </tr>\n",
              "  </thead>\n",
              "  <tbody>\n",
              "    <tr>\n",
              "      <th>469</th>\n",
              "      <td>2018-04-04</td>\n",
              "      <td>1999-01-01</td>\n",
              "      <td>TJV</td>\n",
              "      <td>?</td>\n",
              "      <td>03F9C5</td>\n",
              "      <td>KS</td>\n",
              "      <td>QC</td>\n",
              "      <td>MISTER</td>\n",
              "      <td>M</td>\n",
              "      <td>EST</td>\n",
              "      <td>Unknown</td>\n",
              "      <td>1</td>\n",
              "      <td>Y</td>\n",
              "      <td>1</td>\n",
              "      <td>0</td>\n",
              "      <td>0</td>\n",
              "      <td>0</td>\n",
              "      <td>0</td>\n",
              "      <td>0</td>\n",
              "      <td>0</td>\n",
              "      <td>2</td>\n",
              "      <td>Counter</td>\n",
              "      <td>0</td>\n",
              "      <td>7033</td>\n",
              "    </tr>\n",
              "    <tr>\n",
              "      <th>555391</th>\n",
              "      <td>2019-04-21</td>\n",
              "      <td>1999-01-01</td>\n",
              "      <td>JED</td>\n",
              "      <td>?</td>\n",
              "      <td>096D33</td>\n",
              "      <td>AJ</td>\n",
              "      <td>TY</td>\n",
              "      <td>MISSES</td>\n",
              "      <td>F</td>\n",
              "      <td>JED</td>\n",
              "      <td>Unknown</td>\n",
              "      <td>1</td>\n",
              "      <td>Y</td>\n",
              "      <td>0</td>\n",
              "      <td>1</td>\n",
              "      <td>10</td>\n",
              "      <td>0</td>\n",
              "      <td>0</td>\n",
              "      <td>0</td>\n",
              "      <td>0</td>\n",
              "      <td>1</td>\n",
              "      <td>Counter</td>\n",
              "      <td>0</td>\n",
              "      <td>7415</td>\n",
              "    </tr>\n",
              "    <tr>\n",
              "      <th>553128</th>\n",
              "      <td>2019-04-16</td>\n",
              "      <td>1999-01-01</td>\n",
              "      <td>JED</td>\n",
              "      <td>?</td>\n",
              "      <td>095C12</td>\n",
              "      <td>AZ</td>\n",
              "      <td>TY</td>\n",
              "      <td>MISTER</td>\n",
              "      <td>M</td>\n",
              "      <td>JED</td>\n",
              "      <td>Unknown</td>\n",
              "      <td>1</td>\n",
              "      <td>Y</td>\n",
              "      <td>1</td>\n",
              "      <td>3</td>\n",
              "      <td>35</td>\n",
              "      <td>0</td>\n",
              "      <td>1</td>\n",
              "      <td>0</td>\n",
              "      <td>0</td>\n",
              "      <td>1</td>\n",
              "      <td>Counter</td>\n",
              "      <td>0</td>\n",
              "      <td>7410</td>\n",
              "    </tr>\n",
              "    <tr>\n",
              "      <th>551608</th>\n",
              "      <td>2019-03-17</td>\n",
              "      <td>1999-01-01</td>\n",
              "      <td>ISL</td>\n",
              "      <td>?</td>\n",
              "      <td>03293A</td>\n",
              "      <td>KS</td>\n",
              "      <td>QC</td>\n",
              "      <td>MISTER</td>\n",
              "      <td>M</td>\n",
              "      <td>Unknown</td>\n",
              "      <td>Unknown</td>\n",
              "      <td>1</td>\n",
              "      <td>Y</td>\n",
              "      <td>0</td>\n",
              "      <td>2</td>\n",
              "      <td>28</td>\n",
              "      <td>0</td>\n",
              "      <td>0</td>\n",
              "      <td>0</td>\n",
              "      <td>0</td>\n",
              "      <td>1</td>\n",
              "      <td>Counter</td>\n",
              "      <td>1</td>\n",
              "      <td>7380</td>\n",
              "    </tr>\n",
              "    <tr>\n",
              "      <th>551287</th>\n",
              "      <td>2019-03-14</td>\n",
              "      <td>1999-01-01</td>\n",
              "      <td>ISL</td>\n",
              "      <td>?</td>\n",
              "      <td>035443</td>\n",
              "      <td>MK</td>\n",
              "      <td>TS</td>\n",
              "      <td>MISTER</td>\n",
              "      <td>M</td>\n",
              "      <td>Unknown</td>\n",
              "      <td>Unknown</td>\n",
              "      <td>1</td>\n",
              "      <td>Y</td>\n",
              "      <td>0</td>\n",
              "      <td>0</td>\n",
              "      <td>0</td>\n",
              "      <td>0</td>\n",
              "      <td>0</td>\n",
              "      <td>0</td>\n",
              "      <td>0</td>\n",
              "      <td>1</td>\n",
              "      <td>Mobile</td>\n",
              "      <td>0</td>\n",
              "      <td>7377</td>\n",
              "    </tr>\n",
              "    <tr>\n",
              "      <th>550406</th>\n",
              "      <td>2018-03-29</td>\n",
              "      <td>1999-01-01</td>\n",
              "      <td>TJV</td>\n",
              "      <td>?</td>\n",
              "      <td>0B3F66</td>\n",
              "      <td>KS</td>\n",
              "      <td>TY</td>\n",
              "      <td>MISS</td>\n",
              "      <td>F</td>\n",
              "      <td>Unknown</td>\n",
              "      <td>Unknown</td>\n",
              "      <td>1</td>\n",
              "      <td>Y</td>\n",
              "      <td>0</td>\n",
              "      <td>1</td>\n",
              "      <td>13</td>\n",
              "      <td>1</td>\n",
              "      <td>0</td>\n",
              "      <td>0</td>\n",
              "      <td>0</td>\n",
              "      <td>1</td>\n",
              "      <td>Counter</td>\n",
              "      <td>0</td>\n",
              "      <td>7027</td>\n",
              "    </tr>\n",
              "    <tr>\n",
              "      <th>549936</th>\n",
              "      <td>2019-05-31</td>\n",
              "      <td>1999-01-01</td>\n",
              "      <td>KWI</td>\n",
              "      <td>?</td>\n",
              "      <td>03237P</td>\n",
              "      <td>LK</td>\n",
              "      <td>QC</td>\n",
              "      <td>MISS</td>\n",
              "      <td>F</td>\n",
              "      <td>KWI</td>\n",
              "      <td>Unknown</td>\n",
              "      <td>1</td>\n",
              "      <td>Y</td>\n",
              "      <td>0</td>\n",
              "      <td>0</td>\n",
              "      <td>0</td>\n",
              "      <td>0</td>\n",
              "      <td>0</td>\n",
              "      <td>0</td>\n",
              "      <td>0</td>\n",
              "      <td>2</td>\n",
              "      <td>Counter</td>\n",
              "      <td>0</td>\n",
              "      <td>7455</td>\n",
              "    </tr>\n",
              "    <tr>\n",
              "      <th>547407</th>\n",
              "      <td>2018-06-04</td>\n",
              "      <td>1999-01-01</td>\n",
              "      <td>VKO</td>\n",
              "      <td>?</td>\n",
              "      <td>03543P</td>\n",
              "      <td>MK</td>\n",
              "      <td>TS</td>\n",
              "      <td>MISTER</td>\n",
              "      <td>M</td>\n",
              "      <td>EST</td>\n",
              "      <td>Unknown</td>\n",
              "      <td>1</td>\n",
              "      <td>Y</td>\n",
              "      <td>1</td>\n",
              "      <td>1</td>\n",
              "      <td>8</td>\n",
              "      <td>0</td>\n",
              "      <td>0</td>\n",
              "      <td>0</td>\n",
              "      <td>0</td>\n",
              "      <td>1</td>\n",
              "      <td>Mobile</td>\n",
              "      <td>0</td>\n",
              "      <td>7094</td>\n",
              "    </tr>\n",
              "    <tr>\n",
              "      <th>543253</th>\n",
              "      <td>2019-04-10</td>\n",
              "      <td>1999-01-01</td>\n",
              "      <td>TJV</td>\n",
              "      <td>P2</td>\n",
              "      <td>03F901</td>\n",
              "      <td>KS</td>\n",
              "      <td>QC</td>\n",
              "      <td>MISTER</td>\n",
              "      <td>M</td>\n",
              "      <td>Unknown</td>\n",
              "      <td>NKV</td>\n",
              "      <td>1</td>\n",
              "      <td>Y</td>\n",
              "      <td>0</td>\n",
              "      <td>1</td>\n",
              "      <td>7</td>\n",
              "      <td>0</td>\n",
              "      <td>0</td>\n",
              "      <td>0</td>\n",
              "      <td>0</td>\n",
              "      <td>1</td>\n",
              "      <td>Counter</td>\n",
              "      <td>1</td>\n",
              "      <td>7404</td>\n",
              "    </tr>\n",
              "    <tr>\n",
              "      <th>541138</th>\n",
              "      <td>2018-03-12</td>\n",
              "      <td>1999-01-01</td>\n",
              "      <td>TTS</td>\n",
              "      <td>P1</td>\n",
              "      <td>03294D</td>\n",
              "      <td>NU</td>\n",
              "      <td>QC</td>\n",
              "      <td>MISTER</td>\n",
              "      <td>M</td>\n",
              "      <td>IST</td>\n",
              "      <td>KSY</td>\n",
              "      <td>0</td>\n",
              "      <td>Y</td>\n",
              "      <td>0</td>\n",
              "      <td>0</td>\n",
              "      <td>0</td>\n",
              "      <td>0</td>\n",
              "      <td>0</td>\n",
              "      <td>0</td>\n",
              "      <td>0</td>\n",
              "      <td>1</td>\n",
              "      <td>Counter</td>\n",
              "      <td>0</td>\n",
              "      <td>7010</td>\n",
              "    </tr>\n",
              "    <tr>\n",
              "      <th>536708</th>\n",
              "      <td>2018-03-18</td>\n",
              "      <td>1999-01-01</td>\n",
              "      <td>MED</td>\n",
              "      <td>?</td>\n",
              "      <td>0329PC</td>\n",
              "      <td>WA</td>\n",
              "      <td>QC</td>\n",
              "      <td>MISTER</td>\n",
              "      <td>M</td>\n",
              "      <td>MED</td>\n",
              "      <td>Unknown</td>\n",
              "      <td>1</td>\n",
              "      <td>Y</td>\n",
              "      <td>0</td>\n",
              "      <td>0</td>\n",
              "      <td>0</td>\n",
              "      <td>0</td>\n",
              "      <td>0</td>\n",
              "      <td>0</td>\n",
              "      <td>0</td>\n",
              "      <td>1</td>\n",
              "      <td>Counter</td>\n",
              "      <td>0</td>\n",
              "      <td>7016</td>\n",
              "    </tr>\n",
              "    <tr>\n",
              "      <th>535795</th>\n",
              "      <td>2018-03-15</td>\n",
              "      <td>1999-01-01</td>\n",
              "      <td>OGU</td>\n",
              "      <td>P1</td>\n",
              "      <td>0323B2</td>\n",
              "      <td>HV</td>\n",
              "      <td>QC</td>\n",
              "      <td>MISTER</td>\n",
              "      <td>M</td>\n",
              "      <td>EST</td>\n",
              "      <td>OGU</td>\n",
              "      <td>1</td>\n",
              "      <td>Y</td>\n",
              "      <td>1</td>\n",
              "      <td>0</td>\n",
              "      <td>0</td>\n",
              "      <td>0</td>\n",
              "      <td>0</td>\n",
              "      <td>0</td>\n",
              "      <td>0</td>\n",
              "      <td>1</td>\n",
              "      <td>Counter</td>\n",
              "      <td>1</td>\n",
              "      <td>7013</td>\n",
              "    </tr>\n",
              "    <tr>\n",
              "      <th>533869</th>\n",
              "      <td>2019-03-29</td>\n",
              "      <td>1999-01-01</td>\n",
              "      <td>ISL</td>\n",
              "      <td>?</td>\n",
              "      <td>032962</td>\n",
              "      <td>KS</td>\n",
              "      <td>QC</td>\n",
              "      <td>MISTER</td>\n",
              "      <td>M</td>\n",
              "      <td>Unknown</td>\n",
              "      <td>Unknown</td>\n",
              "      <td>1</td>\n",
              "      <td>Y</td>\n",
              "      <td>0</td>\n",
              "      <td>1</td>\n",
              "      <td>16</td>\n",
              "      <td>0</td>\n",
              "      <td>0</td>\n",
              "      <td>0</td>\n",
              "      <td>0</td>\n",
              "      <td>1</td>\n",
              "      <td>Counter</td>\n",
              "      <td>1</td>\n",
              "      <td>7392</td>\n",
              "    </tr>\n",
              "    <tr>\n",
              "      <th>531810</th>\n",
              "      <td>2018-03-21</td>\n",
              "      <td>1999-01-01</td>\n",
              "      <td>DUS</td>\n",
              "      <td>?</td>\n",
              "      <td>03F95A</td>\n",
              "      <td>JM</td>\n",
              "      <td>QC</td>\n",
              "      <td>MISTER</td>\n",
              "      <td>M</td>\n",
              "      <td>IST</td>\n",
              "      <td>DUS</td>\n",
              "      <td>1</td>\n",
              "      <td>Y</td>\n",
              "      <td>0</td>\n",
              "      <td>0</td>\n",
              "      <td>0</td>\n",
              "      <td>0</td>\n",
              "      <td>0</td>\n",
              "      <td>0</td>\n",
              "      <td>0</td>\n",
              "      <td>1</td>\n",
              "      <td>Counter</td>\n",
              "      <td>0</td>\n",
              "      <td>7019</td>\n",
              "    </tr>\n",
              "    <tr>\n",
              "      <th>530144</th>\n",
              "      <td>2019-04-15</td>\n",
              "      <td>1999-01-01</td>\n",
              "      <td>VIE</td>\n",
              "      <td>?</td>\n",
              "      <td>0302F3</td>\n",
              "      <td>MK</td>\n",
              "      <td>TW</td>\n",
              "      <td>MISTER</td>\n",
              "      <td>M</td>\n",
              "      <td>SKW</td>\n",
              "      <td>GVK</td>\n",
              "      <td>1</td>\n",
              "      <td>Y</td>\n",
              "      <td>0</td>\n",
              "      <td>0</td>\n",
              "      <td>0</td>\n",
              "      <td>0</td>\n",
              "      <td>0</td>\n",
              "      <td>0</td>\n",
              "      <td>0</td>\n",
              "      <td>1</td>\n",
              "      <td>Online</td>\n",
              "      <td>0</td>\n",
              "      <td>7409</td>\n",
              "    </tr>\n",
              "    <tr>\n",
              "      <th>528408</th>\n",
              "      <td>2019-03-24</td>\n",
              "      <td>1999-01-01</td>\n",
              "      <td>ISL</td>\n",
              "      <td>?</td>\n",
              "      <td>03F9AD</td>\n",
              "      <td>KS</td>\n",
              "      <td>QC</td>\n",
              "      <td>MISTER</td>\n",
              "      <td>M</td>\n",
              "      <td>SKW</td>\n",
              "      <td>Unknown</td>\n",
              "      <td>1</td>\n",
              "      <td>Y</td>\n",
              "      <td>0</td>\n",
              "      <td>0</td>\n",
              "      <td>0</td>\n",
              "      <td>0</td>\n",
              "      <td>0</td>\n",
              "      <td>0</td>\n",
              "      <td>0</td>\n",
              "      <td>1</td>\n",
              "      <td>Counter</td>\n",
              "      <td>1</td>\n",
              "      <td>7387</td>\n",
              "    </tr>\n",
              "    <tr>\n",
              "      <th>527719</th>\n",
              "      <td>2019-03-23</td>\n",
              "      <td>1999-01-01</td>\n",
              "      <td>JED</td>\n",
              "      <td>?</td>\n",
              "      <td>095C13</td>\n",
              "      <td>JS</td>\n",
              "      <td>TY</td>\n",
              "      <td>MISSES</td>\n",
              "      <td>F</td>\n",
              "      <td>JED</td>\n",
              "      <td>Unknown</td>\n",
              "      <td>1</td>\n",
              "      <td>Y</td>\n",
              "      <td>0</td>\n",
              "      <td>0</td>\n",
              "      <td>0</td>\n",
              "      <td>0</td>\n",
              "      <td>0</td>\n",
              "      <td>0</td>\n",
              "      <td>0</td>\n",
              "      <td>1</td>\n",
              "      <td>Counter</td>\n",
              "      <td>0</td>\n",
              "      <td>7386</td>\n",
              "    </tr>\n",
              "    <tr>\n",
              "      <th>527384</th>\n",
              "      <td>2018-06-06</td>\n",
              "      <td>1999-01-01</td>\n",
              "      <td>GVK</td>\n",
              "      <td>P1</td>\n",
              "      <td>03F39C</td>\n",
              "      <td>KO</td>\n",
              "      <td>QC</td>\n",
              "      <td>MISTER</td>\n",
              "      <td>M</td>\n",
              "      <td>IST</td>\n",
              "      <td>Unknown</td>\n",
              "      <td>0</td>\n",
              "      <td>Y</td>\n",
              "      <td>1</td>\n",
              "      <td>0</td>\n",
              "      <td>0</td>\n",
              "      <td>0</td>\n",
              "      <td>0</td>\n",
              "      <td>0</td>\n",
              "      <td>0</td>\n",
              "      <td>1</td>\n",
              "      <td>Counter</td>\n",
              "      <td>0</td>\n",
              "      <td>7096</td>\n",
              "    </tr>\n",
              "    <tr>\n",
              "      <th>524905</th>\n",
              "      <td>2018-05-16</td>\n",
              "      <td>1999-01-01</td>\n",
              "      <td>DXT</td>\n",
              "      <td>?</td>\n",
              "      <td>000000</td>\n",
              "      <td>||</td>\n",
              "      <td>IA</td>\n",
              "      <td>MISTER</td>\n",
              "      <td>M</td>\n",
              "      <td>IST</td>\n",
              "      <td>DXT</td>\n",
              "      <td>1</td>\n",
              "      <td>Y</td>\n",
              "      <td>0</td>\n",
              "      <td>0</td>\n",
              "      <td>0</td>\n",
              "      <td>0</td>\n",
              "      <td>0</td>\n",
              "      <td>0</td>\n",
              "      <td>0</td>\n",
              "      <td>1</td>\n",
              "      <td>Other</td>\n",
              "      <td>0</td>\n",
              "      <td>7075</td>\n",
              "    </tr>\n",
              "    <tr>\n",
              "      <th>522922</th>\n",
              "      <td>2018-06-16</td>\n",
              "      <td>1999-01-01</td>\n",
              "      <td>NPH</td>\n",
              "      <td>?</td>\n",
              "      <td>0323P1</td>\n",
              "      <td>3W</td>\n",
              "      <td>QC</td>\n",
              "      <td>MISS</td>\n",
              "      <td>F</td>\n",
              "      <td>IST</td>\n",
              "      <td>Unknown</td>\n",
              "      <td>1</td>\n",
              "      <td>Y</td>\n",
              "      <td>0</td>\n",
              "      <td>1</td>\n",
              "      <td>15</td>\n",
              "      <td>0</td>\n",
              "      <td>0</td>\n",
              "      <td>0</td>\n",
              "      <td>0</td>\n",
              "      <td>1</td>\n",
              "      <td>Counter</td>\n",
              "      <td>0</td>\n",
              "      <td>7106</td>\n",
              "    </tr>\n",
              "    <tr>\n",
              "      <th>522899</th>\n",
              "      <td>2019-04-19</td>\n",
              "      <td>1999-01-01</td>\n",
              "      <td>OGU</td>\n",
              "      <td>?</td>\n",
              "      <td>032927</td>\n",
              "      <td>HV</td>\n",
              "      <td>QC</td>\n",
              "      <td>MISTER</td>\n",
              "      <td>M</td>\n",
              "      <td>IST</td>\n",
              "      <td>OGU</td>\n",
              "      <td>1</td>\n",
              "      <td>Y</td>\n",
              "      <td>0</td>\n",
              "      <td>0</td>\n",
              "      <td>0</td>\n",
              "      <td>0</td>\n",
              "      <td>0</td>\n",
              "      <td>0</td>\n",
              "      <td>0</td>\n",
              "      <td>1</td>\n",
              "      <td>Counter</td>\n",
              "      <td>1</td>\n",
              "      <td>7413</td>\n",
              "    </tr>\n",
              "    <tr>\n",
              "      <th>519394</th>\n",
              "      <td>2018-04-04</td>\n",
              "      <td>1999-01-01</td>\n",
              "      <td>VNE</td>\n",
              "      <td>?</td>\n",
              "      <td>03FD7A</td>\n",
              "      <td>FK</td>\n",
              "      <td>QC</td>\n",
              "      <td>MISTER</td>\n",
              "      <td>M</td>\n",
              "      <td>IST</td>\n",
              "      <td>GZT</td>\n",
              "      <td>1</td>\n",
              "      <td>Y</td>\n",
              "      <td>1</td>\n",
              "      <td>1</td>\n",
              "      <td>19</td>\n",
              "      <td>0</td>\n",
              "      <td>1</td>\n",
              "      <td>0</td>\n",
              "      <td>0</td>\n",
              "      <td>1</td>\n",
              "      <td>Counter</td>\n",
              "      <td>0</td>\n",
              "      <td>7033</td>\n",
              "    </tr>\n",
              "    <tr>\n",
              "      <th>515578</th>\n",
              "      <td>2018-05-31</td>\n",
              "      <td>1999-01-01</td>\n",
              "      <td>VKR</td>\n",
              "      <td>?</td>\n",
              "      <td>0302F6</td>\n",
              "      <td>MK</td>\n",
              "      <td>TW</td>\n",
              "      <td>MISTER</td>\n",
              "      <td>M</td>\n",
              "      <td>IST</td>\n",
              "      <td>Unknown</td>\n",
              "      <td>1</td>\n",
              "      <td>Y</td>\n",
              "      <td>1</td>\n",
              "      <td>1</td>\n",
              "      <td>14</td>\n",
              "      <td>0</td>\n",
              "      <td>0</td>\n",
              "      <td>0</td>\n",
              "      <td>0</td>\n",
              "      <td>1</td>\n",
              "      <td>Online</td>\n",
              "      <td>0</td>\n",
              "      <td>7090</td>\n",
              "    </tr>\n",
              "    <tr>\n",
              "      <th>514514</th>\n",
              "      <td>2018-03-18</td>\n",
              "      <td>1999-01-01</td>\n",
              "      <td>MED</td>\n",
              "      <td>?</td>\n",
              "      <td>0323FB</td>\n",
              "      <td>RM</td>\n",
              "      <td>QC</td>\n",
              "      <td>MISTER</td>\n",
              "      <td>M</td>\n",
              "      <td>MED</td>\n",
              "      <td>Unknown</td>\n",
              "      <td>1</td>\n",
              "      <td>Y</td>\n",
              "      <td>0</td>\n",
              "      <td>5</td>\n",
              "      <td>76</td>\n",
              "      <td>0</td>\n",
              "      <td>0</td>\n",
              "      <td>0</td>\n",
              "      <td>0</td>\n",
              "      <td>1</td>\n",
              "      <td>Counter</td>\n",
              "      <td>0</td>\n",
              "      <td>7016</td>\n",
              "    </tr>\n",
              "    <tr>\n",
              "      <th>513878</th>\n",
              "      <td>2018-03-18</td>\n",
              "      <td>1999-01-01</td>\n",
              "      <td>MED</td>\n",
              "      <td>?</td>\n",
              "      <td>032A04</td>\n",
              "      <td>AL</td>\n",
              "      <td>QC</td>\n",
              "      <td>MISTER</td>\n",
              "      <td>M</td>\n",
              "      <td>MED</td>\n",
              "      <td>Unknown</td>\n",
              "      <td>1</td>\n",
              "      <td>Y</td>\n",
              "      <td>0</td>\n",
              "      <td>5</td>\n",
              "      <td>71</td>\n",
              "      <td>0</td>\n",
              "      <td>0</td>\n",
              "      <td>0</td>\n",
              "      <td>0</td>\n",
              "      <td>1</td>\n",
              "      <td>Counter</td>\n",
              "      <td>0</td>\n",
              "      <td>7016</td>\n",
              "    </tr>\n",
              "    <tr>\n",
              "      <th>513569</th>\n",
              "      <td>2018-06-05</td>\n",
              "      <td>1999-01-01</td>\n",
              "      <td>NPH</td>\n",
              "      <td>?</td>\n",
              "      <td>0302F9</td>\n",
              "      <td>MK</td>\n",
              "      <td>TW</td>\n",
              "      <td>MISTER</td>\n",
              "      <td>M</td>\n",
              "      <td>IST</td>\n",
              "      <td>NPH</td>\n",
              "      <td>1</td>\n",
              "      <td>C</td>\n",
              "      <td>1</td>\n",
              "      <td>0</td>\n",
              "      <td>0</td>\n",
              "      <td>0</td>\n",
              "      <td>1</td>\n",
              "      <td>0</td>\n",
              "      <td>0</td>\n",
              "      <td>1</td>\n",
              "      <td>Online</td>\n",
              "      <td>0</td>\n",
              "      <td>7095</td>\n",
              "    </tr>\n",
              "    <tr>\n",
              "      <th>557084</th>\n",
              "      <td>2018-03-15</td>\n",
              "      <td>1999-01-01</td>\n",
              "      <td>OGU</td>\n",
              "      <td>?</td>\n",
              "      <td>0323B2</td>\n",
              "      <td>HV</td>\n",
              "      <td>QC</td>\n",
              "      <td>MISTER</td>\n",
              "      <td>M</td>\n",
              "      <td>EST</td>\n",
              "      <td>OGU</td>\n",
              "      <td>1</td>\n",
              "      <td>Y</td>\n",
              "      <td>1</td>\n",
              "      <td>1</td>\n",
              "      <td>10</td>\n",
              "      <td>0</td>\n",
              "      <td>0</td>\n",
              "      <td>0</td>\n",
              "      <td>0</td>\n",
              "      <td>1</td>\n",
              "      <td>Counter</td>\n",
              "      <td>0</td>\n",
              "      <td>7013</td>\n",
              "    </tr>\n",
              "    <tr>\n",
              "      <th>557351</th>\n",
              "      <td>2018-06-05</td>\n",
              "      <td>1999-01-01</td>\n",
              "      <td>KRN</td>\n",
              "      <td>P1</td>\n",
              "      <td>0329CC</td>\n",
              "      <td>RY</td>\n",
              "      <td>QC</td>\n",
              "      <td>MISTER</td>\n",
              "      <td>M</td>\n",
              "      <td>IST</td>\n",
              "      <td>Unknown</td>\n",
              "      <td>0</td>\n",
              "      <td>Y</td>\n",
              "      <td>1</td>\n",
              "      <td>0</td>\n",
              "      <td>0</td>\n",
              "      <td>0</td>\n",
              "      <td>0</td>\n",
              "      <td>0</td>\n",
              "      <td>0</td>\n",
              "      <td>1</td>\n",
              "      <td>Counter</td>\n",
              "      <td>0</td>\n",
              "      <td>7095</td>\n",
              "    </tr>\n",
              "    <tr>\n",
              "      <th>563037</th>\n",
              "      <td>2019-03-17</td>\n",
              "      <td>1999-01-01</td>\n",
              "      <td>ISL</td>\n",
              "      <td>P1</td>\n",
              "      <td>032A4A</td>\n",
              "      <td>KS</td>\n",
              "      <td>QC</td>\n",
              "      <td>MISSES</td>\n",
              "      <td>F</td>\n",
              "      <td>ISL</td>\n",
              "      <td>Unknown</td>\n",
              "      <td>0</td>\n",
              "      <td>Y</td>\n",
              "      <td>0</td>\n",
              "      <td>0</td>\n",
              "      <td>0</td>\n",
              "      <td>0</td>\n",
              "      <td>0</td>\n",
              "      <td>0</td>\n",
              "      <td>0</td>\n",
              "      <td>1</td>\n",
              "      <td>Counter</td>\n",
              "      <td>1</td>\n",
              "      <td>7380</td>\n",
              "    </tr>\n",
              "    <tr>\n",
              "      <th>564697</th>\n",
              "      <td>2019-04-02</td>\n",
              "      <td>1999-01-01</td>\n",
              "      <td>NDG</td>\n",
              "      <td>?</td>\n",
              "      <td>03FD4C</td>\n",
              "      <td>DY</td>\n",
              "      <td>QC</td>\n",
              "      <td>MISTER</td>\n",
              "      <td>M</td>\n",
              "      <td>IST</td>\n",
              "      <td>IST</td>\n",
              "      <td>1</td>\n",
              "      <td>Y</td>\n",
              "      <td>0</td>\n",
              "      <td>0</td>\n",
              "      <td>0</td>\n",
              "      <td>0</td>\n",
              "      <td>0</td>\n",
              "      <td>0</td>\n",
              "      <td>0</td>\n",
              "      <td>1</td>\n",
              "      <td>Counter</td>\n",
              "      <td>0</td>\n",
              "      <td>7396</td>\n",
              "    </tr>\n",
              "    <tr>\n",
              "      <th>...</th>\n",
              "      <td>...</td>\n",
              "      <td>...</td>\n",
              "      <td>...</td>\n",
              "      <td>...</td>\n",
              "      <td>...</td>\n",
              "      <td>...</td>\n",
              "      <td>...</td>\n",
              "      <td>...</td>\n",
              "      <td>...</td>\n",
              "      <td>...</td>\n",
              "      <td>...</td>\n",
              "      <td>...</td>\n",
              "      <td>...</td>\n",
              "      <td>...</td>\n",
              "      <td>...</td>\n",
              "      <td>...</td>\n",
              "      <td>...</td>\n",
              "      <td>...</td>\n",
              "      <td>...</td>\n",
              "      <td>...</td>\n",
              "      <td>...</td>\n",
              "      <td>...</td>\n",
              "      <td>...</td>\n",
              "      <td>...</td>\n",
              "    </tr>\n",
              "    <tr>\n",
              "      <th>243798</th>\n",
              "      <td>2019-05-31</td>\n",
              "      <td>1999-01-01</td>\n",
              "      <td>KWI</td>\n",
              "      <td>?</td>\n",
              "      <td>0323BP</td>\n",
              "      <td>LK</td>\n",
              "      <td>QC</td>\n",
              "      <td>MISTER</td>\n",
              "      <td>M</td>\n",
              "      <td>KWI</td>\n",
              "      <td>Unknown</td>\n",
              "      <td>1</td>\n",
              "      <td>Y</td>\n",
              "      <td>0</td>\n",
              "      <td>1</td>\n",
              "      <td>32</td>\n",
              "      <td>0</td>\n",
              "      <td>0</td>\n",
              "      <td>0</td>\n",
              "      <td>0</td>\n",
              "      <td>1</td>\n",
              "      <td>Counter</td>\n",
              "      <td>0</td>\n",
              "      <td>7455</td>\n",
              "    </tr>\n",
              "    <tr>\n",
              "      <th>248149</th>\n",
              "      <td>2018-03-22</td>\n",
              "      <td>1999-01-01</td>\n",
              "      <td>MUN</td>\n",
              "      <td>?</td>\n",
              "      <td>03233C</td>\n",
              "      <td>WA</td>\n",
              "      <td>QC</td>\n",
              "      <td>MISTER</td>\n",
              "      <td>M</td>\n",
              "      <td>IST</td>\n",
              "      <td>MUN</td>\n",
              "      <td>1</td>\n",
              "      <td>Y</td>\n",
              "      <td>1</td>\n",
              "      <td>0</td>\n",
              "      <td>0</td>\n",
              "      <td>0</td>\n",
              "      <td>0</td>\n",
              "      <td>0</td>\n",
              "      <td>0</td>\n",
              "      <td>2</td>\n",
              "      <td>Counter</td>\n",
              "      <td>0</td>\n",
              "      <td>7020</td>\n",
              "    </tr>\n",
              "    <tr>\n",
              "      <th>302115</th>\n",
              "      <td>2018-04-05</td>\n",
              "      <td>1999-01-01</td>\n",
              "      <td>MXP</td>\n",
              "      <td>?</td>\n",
              "      <td>0323A7</td>\n",
              "      <td>KM</td>\n",
              "      <td>QC</td>\n",
              "      <td>MISTER</td>\n",
              "      <td>M</td>\n",
              "      <td>IST</td>\n",
              "      <td>MXP</td>\n",
              "      <td>1</td>\n",
              "      <td>Y</td>\n",
              "      <td>1</td>\n",
              "      <td>0</td>\n",
              "      <td>0</td>\n",
              "      <td>0</td>\n",
              "      <td>0</td>\n",
              "      <td>0</td>\n",
              "      <td>0</td>\n",
              "      <td>1</td>\n",
              "      <td>Counter</td>\n",
              "      <td>0</td>\n",
              "      <td>7034</td>\n",
              "    </tr>\n",
              "    <tr>\n",
              "      <th>301086</th>\n",
              "      <td>2019-04-16</td>\n",
              "      <td>1999-01-01</td>\n",
              "      <td>JED</td>\n",
              "      <td>P1</td>\n",
              "      <td>095513</td>\n",
              "      <td>9A</td>\n",
              "      <td>TY</td>\n",
              "      <td>MISTER</td>\n",
              "      <td>M</td>\n",
              "      <td>JED</td>\n",
              "      <td>Unknown</td>\n",
              "      <td>0</td>\n",
              "      <td>Y</td>\n",
              "      <td>1</td>\n",
              "      <td>0</td>\n",
              "      <td>0</td>\n",
              "      <td>0</td>\n",
              "      <td>0</td>\n",
              "      <td>0</td>\n",
              "      <td>0</td>\n",
              "      <td>1</td>\n",
              "      <td>Counter</td>\n",
              "      <td>0</td>\n",
              "      <td>7410</td>\n",
              "    </tr>\n",
              "    <tr>\n",
              "      <th>298210</th>\n",
              "      <td>2018-06-15</td>\n",
              "      <td>1999-01-01</td>\n",
              "      <td>KWI</td>\n",
              "      <td>?</td>\n",
              "      <td>032A23</td>\n",
              "      <td>JN</td>\n",
              "      <td>QC</td>\n",
              "      <td>MISS</td>\n",
              "      <td>F</td>\n",
              "      <td>KWI</td>\n",
              "      <td>Unknown</td>\n",
              "      <td>1</td>\n",
              "      <td>Y</td>\n",
              "      <td>0</td>\n",
              "      <td>2</td>\n",
              "      <td>26</td>\n",
              "      <td>0</td>\n",
              "      <td>0</td>\n",
              "      <td>0</td>\n",
              "      <td>0</td>\n",
              "      <td>1</td>\n",
              "      <td>Counter</td>\n",
              "      <td>0</td>\n",
              "      <td>7105</td>\n",
              "    </tr>\n",
              "    <tr>\n",
              "      <th>295500</th>\n",
              "      <td>2019-05-19</td>\n",
              "      <td>1999-01-01</td>\n",
              "      <td>GYD</td>\n",
              "      <td>?</td>\n",
              "      <td>0B129B</td>\n",
              "      <td>OS</td>\n",
              "      <td>TY</td>\n",
              "      <td>MISTER</td>\n",
              "      <td>M</td>\n",
              "      <td>Unknown</td>\n",
              "      <td>GYD</td>\n",
              "      <td>1</td>\n",
              "      <td>Y</td>\n",
              "      <td>0</td>\n",
              "      <td>1</td>\n",
              "      <td>13</td>\n",
              "      <td>0</td>\n",
              "      <td>0</td>\n",
              "      <td>0</td>\n",
              "      <td>0</td>\n",
              "      <td>1</td>\n",
              "      <td>Counter</td>\n",
              "      <td>0</td>\n",
              "      <td>7443</td>\n",
              "    </tr>\n",
              "    <tr>\n",
              "      <th>292299</th>\n",
              "      <td>2019-03-22</td>\n",
              "      <td>1999-01-01</td>\n",
              "      <td>OGU</td>\n",
              "      <td>?</td>\n",
              "      <td>03FD49</td>\n",
              "      <td>HV</td>\n",
              "      <td>QC</td>\n",
              "      <td>MISTER</td>\n",
              "      <td>M</td>\n",
              "      <td>SKW</td>\n",
              "      <td>OGU</td>\n",
              "      <td>1</td>\n",
              "      <td>Y</td>\n",
              "      <td>0</td>\n",
              "      <td>1</td>\n",
              "      <td>2</td>\n",
              "      <td>0</td>\n",
              "      <td>0</td>\n",
              "      <td>0</td>\n",
              "      <td>0</td>\n",
              "      <td>1</td>\n",
              "      <td>Counter</td>\n",
              "      <td>1</td>\n",
              "      <td>7385</td>\n",
              "    </tr>\n",
              "    <tr>\n",
              "      <th>284685</th>\n",
              "      <td>2019-05-31</td>\n",
              "      <td>1999-01-01</td>\n",
              "      <td>KWI</td>\n",
              "      <td>?</td>\n",
              "      <td>032A06</td>\n",
              "      <td>ND</td>\n",
              "      <td>QC</td>\n",
              "      <td>MISTER</td>\n",
              "      <td>M</td>\n",
              "      <td>KWI</td>\n",
              "      <td>TZX</td>\n",
              "      <td>1</td>\n",
              "      <td>Y</td>\n",
              "      <td>0</td>\n",
              "      <td>0</td>\n",
              "      <td>0</td>\n",
              "      <td>0</td>\n",
              "      <td>0</td>\n",
              "      <td>0</td>\n",
              "      <td>0</td>\n",
              "      <td>3</td>\n",
              "      <td>Counter</td>\n",
              "      <td>0</td>\n",
              "      <td>7455</td>\n",
              "    </tr>\n",
              "    <tr>\n",
              "      <th>283996</th>\n",
              "      <td>2018-04-11</td>\n",
              "      <td>1999-01-01</td>\n",
              "      <td>VIE</td>\n",
              "      <td>P1</td>\n",
              "      <td>032A64</td>\n",
              "      <td>AM</td>\n",
              "      <td>QC</td>\n",
              "      <td>MISTER</td>\n",
              "      <td>M</td>\n",
              "      <td>IST</td>\n",
              "      <td>VIE</td>\n",
              "      <td>0</td>\n",
              "      <td>Y</td>\n",
              "      <td>1</td>\n",
              "      <td>0</td>\n",
              "      <td>0</td>\n",
              "      <td>0</td>\n",
              "      <td>0</td>\n",
              "      <td>0</td>\n",
              "      <td>0</td>\n",
              "      <td>1</td>\n",
              "      <td>Counter</td>\n",
              "      <td>0</td>\n",
              "      <td>7040</td>\n",
              "    </tr>\n",
              "    <tr>\n",
              "      <th>281868</th>\n",
              "      <td>2018-03-01</td>\n",
              "      <td>1999-01-01</td>\n",
              "      <td>OGU</td>\n",
              "      <td>?</td>\n",
              "      <td>035447</td>\n",
              "      <td>MK</td>\n",
              "      <td>TS</td>\n",
              "      <td>MISTER</td>\n",
              "      <td>M</td>\n",
              "      <td>EST</td>\n",
              "      <td>OGU</td>\n",
              "      <td>1</td>\n",
              "      <td>Y</td>\n",
              "      <td>0</td>\n",
              "      <td>0</td>\n",
              "      <td>0</td>\n",
              "      <td>0</td>\n",
              "      <td>0</td>\n",
              "      <td>0</td>\n",
              "      <td>0</td>\n",
              "      <td>1</td>\n",
              "      <td>Mobile</td>\n",
              "      <td>0</td>\n",
              "      <td>6999</td>\n",
              "    </tr>\n",
              "    <tr>\n",
              "      <th>281847</th>\n",
              "      <td>2018-04-16</td>\n",
              "      <td>1999-01-01</td>\n",
              "      <td>KUH</td>\n",
              "      <td>P1</td>\n",
              "      <td>03023P</td>\n",
              "      <td>MK</td>\n",
              "      <td>TW</td>\n",
              "      <td>MISTER</td>\n",
              "      <td>M</td>\n",
              "      <td>IST</td>\n",
              "      <td>Unknown</td>\n",
              "      <td>0</td>\n",
              "      <td>Y</td>\n",
              "      <td>1</td>\n",
              "      <td>0</td>\n",
              "      <td>0</td>\n",
              "      <td>0</td>\n",
              "      <td>0</td>\n",
              "      <td>0</td>\n",
              "      <td>0</td>\n",
              "      <td>1</td>\n",
              "      <td>Online</td>\n",
              "      <td>0</td>\n",
              "      <td>7045</td>\n",
              "    </tr>\n",
              "    <tr>\n",
              "      <th>280297</th>\n",
              "      <td>2019-04-10</td>\n",
              "      <td>1999-01-01</td>\n",
              "      <td>ISL</td>\n",
              "      <td>?</td>\n",
              "      <td>0D0411</td>\n",
              "      <td>FC</td>\n",
              "      <td>?</td>\n",
              "      <td>MISSES</td>\n",
              "      <td>F</td>\n",
              "      <td>Unknown</td>\n",
              "      <td>Unknown</td>\n",
              "      <td>1</td>\n",
              "      <td>Y</td>\n",
              "      <td>1</td>\n",
              "      <td>0</td>\n",
              "      <td>0</td>\n",
              "      <td>0</td>\n",
              "      <td>0</td>\n",
              "      <td>0</td>\n",
              "      <td>0</td>\n",
              "      <td>1</td>\n",
              "      <td>Other</td>\n",
              "      <td>1</td>\n",
              "      <td>7404</td>\n",
              "    </tr>\n",
              "    <tr>\n",
              "      <th>279551</th>\n",
              "      <td>2018-03-08</td>\n",
              "      <td>1999-01-01</td>\n",
              "      <td>DUS</td>\n",
              "      <td>?</td>\n",
              "      <td>035443</td>\n",
              "      <td>MK</td>\n",
              "      <td>TS</td>\n",
              "      <td>MISTER</td>\n",
              "      <td>M</td>\n",
              "      <td>IST</td>\n",
              "      <td>SZF</td>\n",
              "      <td>1</td>\n",
              "      <td>Y</td>\n",
              "      <td>1</td>\n",
              "      <td>1</td>\n",
              "      <td>7</td>\n",
              "      <td>0</td>\n",
              "      <td>0</td>\n",
              "      <td>0</td>\n",
              "      <td>0</td>\n",
              "      <td>1</td>\n",
              "      <td>Mobile</td>\n",
              "      <td>0</td>\n",
              "      <td>7006</td>\n",
              "    </tr>\n",
              "    <tr>\n",
              "      <th>279139</th>\n",
              "      <td>2018-05-13</td>\n",
              "      <td>1999-01-01</td>\n",
              "      <td>DTV</td>\n",
              "      <td>?</td>\n",
              "      <td>000000</td>\n",
              "      <td>||</td>\n",
              "      <td>IA</td>\n",
              "      <td>MISTER</td>\n",
              "      <td>M</td>\n",
              "      <td>IST</td>\n",
              "      <td>DTV</td>\n",
              "      <td>1</td>\n",
              "      <td>Y</td>\n",
              "      <td>0</td>\n",
              "      <td>1</td>\n",
              "      <td>17</td>\n",
              "      <td>0</td>\n",
              "      <td>0</td>\n",
              "      <td>0</td>\n",
              "      <td>0</td>\n",
              "      <td>1</td>\n",
              "      <td>Other</td>\n",
              "      <td>0</td>\n",
              "      <td>7072</td>\n",
              "    </tr>\n",
              "    <tr>\n",
              "      <th>245970</th>\n",
              "      <td>2019-03-21</td>\n",
              "      <td>1999-01-01</td>\n",
              "      <td>NDG</td>\n",
              "      <td>?</td>\n",
              "      <td>03539P</td>\n",
              "      <td>MK</td>\n",
              "      <td>TS</td>\n",
              "      <td>MISTER</td>\n",
              "      <td>M</td>\n",
              "      <td>SKW</td>\n",
              "      <td>NDG</td>\n",
              "      <td>1</td>\n",
              "      <td>Y</td>\n",
              "      <td>0</td>\n",
              "      <td>0</td>\n",
              "      <td>0</td>\n",
              "      <td>0</td>\n",
              "      <td>0</td>\n",
              "      <td>0</td>\n",
              "      <td>0</td>\n",
              "      <td>1</td>\n",
              "      <td>Mobile</td>\n",
              "      <td>0</td>\n",
              "      <td>7384</td>\n",
              "    </tr>\n",
              "    <tr>\n",
              "      <th>271244</th>\n",
              "      <td>2019-03-07</td>\n",
              "      <td>1999-01-01</td>\n",
              "      <td>TJV</td>\n",
              "      <td>?</td>\n",
              "      <td>0B6C1P</td>\n",
              "      <td>KS</td>\n",
              "      <td>TY</td>\n",
              "      <td>MISTER</td>\n",
              "      <td>M</td>\n",
              "      <td>Unknown</td>\n",
              "      <td>Unknown</td>\n",
              "      <td>1</td>\n",
              "      <td>Y</td>\n",
              "      <td>1</td>\n",
              "      <td>1</td>\n",
              "      <td>2</td>\n",
              "      <td>0</td>\n",
              "      <td>0</td>\n",
              "      <td>0</td>\n",
              "      <td>0</td>\n",
              "      <td>1</td>\n",
              "      <td>Counter</td>\n",
              "      <td>1</td>\n",
              "      <td>7370</td>\n",
              "    </tr>\n",
              "    <tr>\n",
              "      <th>267573</th>\n",
              "      <td>2019-03-07</td>\n",
              "      <td>1999-01-01</td>\n",
              "      <td>VKO</td>\n",
              "      <td>?</td>\n",
              "      <td>03F39P</td>\n",
              "      <td>RQ</td>\n",
              "      <td>QC</td>\n",
              "      <td>MISTER</td>\n",
              "      <td>M</td>\n",
              "      <td>ISL</td>\n",
              "      <td>Unknown</td>\n",
              "      <td>1</td>\n",
              "      <td>Y</td>\n",
              "      <td>0</td>\n",
              "      <td>0</td>\n",
              "      <td>0</td>\n",
              "      <td>0</td>\n",
              "      <td>0</td>\n",
              "      <td>0</td>\n",
              "      <td>0</td>\n",
              "      <td>1</td>\n",
              "      <td>Counter</td>\n",
              "      <td>0</td>\n",
              "      <td>7370</td>\n",
              "    </tr>\n",
              "    <tr>\n",
              "      <th>266021</th>\n",
              "      <td>2019-03-06</td>\n",
              "      <td>1999-01-01</td>\n",
              "      <td>ISL</td>\n",
              "      <td>?</td>\n",
              "      <td>035443</td>\n",
              "      <td>MK</td>\n",
              "      <td>TS</td>\n",
              "      <td>MISTER</td>\n",
              "      <td>M</td>\n",
              "      <td>ISL</td>\n",
              "      <td>Unknown</td>\n",
              "      <td>1</td>\n",
              "      <td>Y</td>\n",
              "      <td>1</td>\n",
              "      <td>0</td>\n",
              "      <td>0</td>\n",
              "      <td>0</td>\n",
              "      <td>0</td>\n",
              "      <td>0</td>\n",
              "      <td>0</td>\n",
              "      <td>1</td>\n",
              "      <td>Mobile</td>\n",
              "      <td>0</td>\n",
              "      <td>7369</td>\n",
              "    </tr>\n",
              "    <tr>\n",
              "      <th>261604</th>\n",
              "      <td>2018-05-30</td>\n",
              "      <td>1999-01-01</td>\n",
              "      <td>TLQ</td>\n",
              "      <td>?</td>\n",
              "      <td>03F932</td>\n",
              "      <td>FV</td>\n",
              "      <td>QC</td>\n",
              "      <td>MISTER</td>\n",
              "      <td>M</td>\n",
              "      <td>IST</td>\n",
              "      <td>Unknown</td>\n",
              "      <td>1</td>\n",
              "      <td>Y</td>\n",
              "      <td>1</td>\n",
              "      <td>1</td>\n",
              "      <td>16</td>\n",
              "      <td>0</td>\n",
              "      <td>0</td>\n",
              "      <td>0</td>\n",
              "      <td>0</td>\n",
              "      <td>1</td>\n",
              "      <td>Counter</td>\n",
              "      <td>0</td>\n",
              "      <td>7089</td>\n",
              "    </tr>\n",
              "    <tr>\n",
              "      <th>261581</th>\n",
              "      <td>2019-04-12</td>\n",
              "      <td>1999-01-01</td>\n",
              "      <td>GYD</td>\n",
              "      <td>?</td>\n",
              "      <td>03FDP1</td>\n",
              "      <td>VY</td>\n",
              "      <td>QC</td>\n",
              "      <td>MISSES</td>\n",
              "      <td>F</td>\n",
              "      <td>IST</td>\n",
              "      <td>GYD</td>\n",
              "      <td>1</td>\n",
              "      <td>Y</td>\n",
              "      <td>0</td>\n",
              "      <td>0</td>\n",
              "      <td>0</td>\n",
              "      <td>0</td>\n",
              "      <td>0</td>\n",
              "      <td>0</td>\n",
              "      <td>0</td>\n",
              "      <td>1</td>\n",
              "      <td>Counter</td>\n",
              "      <td>0</td>\n",
              "      <td>7406</td>\n",
              "    </tr>\n",
              "    <tr>\n",
              "      <th>259651</th>\n",
              "      <td>2018-05-30</td>\n",
              "      <td>1999-01-01</td>\n",
              "      <td>OGU</td>\n",
              "      <td>?</td>\n",
              "      <td>03F39C</td>\n",
              "      <td>HV</td>\n",
              "      <td>QC</td>\n",
              "      <td>MISTER</td>\n",
              "      <td>M</td>\n",
              "      <td>SKW</td>\n",
              "      <td>OGU</td>\n",
              "      <td>1</td>\n",
              "      <td>Y</td>\n",
              "      <td>0</td>\n",
              "      <td>0</td>\n",
              "      <td>0</td>\n",
              "      <td>0</td>\n",
              "      <td>0</td>\n",
              "      <td>0</td>\n",
              "      <td>0</td>\n",
              "      <td>1</td>\n",
              "      <td>Counter</td>\n",
              "      <td>0</td>\n",
              "      <td>7089</td>\n",
              "    </tr>\n",
              "    <tr>\n",
              "      <th>258235</th>\n",
              "      <td>2019-03-27</td>\n",
              "      <td>1999-01-01</td>\n",
              "      <td>NDG</td>\n",
              "      <td>?</td>\n",
              "      <td>03523F</td>\n",
              "      <td>SC</td>\n",
              "      <td>SC</td>\n",
              "      <td>MISTER</td>\n",
              "      <td>M</td>\n",
              "      <td>IST</td>\n",
              "      <td>Unknown</td>\n",
              "      <td>1</td>\n",
              "      <td>Y</td>\n",
              "      <td>0</td>\n",
              "      <td>0</td>\n",
              "      <td>0</td>\n",
              "      <td>0</td>\n",
              "      <td>0</td>\n",
              "      <td>0</td>\n",
              "      <td>0</td>\n",
              "      <td>1</td>\n",
              "      <td>Kiosks</td>\n",
              "      <td>0</td>\n",
              "      <td>7390</td>\n",
              "    </tr>\n",
              "    <tr>\n",
              "      <th>257975</th>\n",
              "      <td>2018-06-19</td>\n",
              "      <td>1999-01-01</td>\n",
              "      <td>VIE</td>\n",
              "      <td>P1</td>\n",
              "      <td>035414</td>\n",
              "      <td>MK</td>\n",
              "      <td>TS</td>\n",
              "      <td>MISTER</td>\n",
              "      <td>M</td>\n",
              "      <td>IST</td>\n",
              "      <td>IST</td>\n",
              "      <td>0</td>\n",
              "      <td>Y</td>\n",
              "      <td>1</td>\n",
              "      <td>2</td>\n",
              "      <td>13</td>\n",
              "      <td>0</td>\n",
              "      <td>0</td>\n",
              "      <td>0</td>\n",
              "      <td>0</td>\n",
              "      <td>1</td>\n",
              "      <td>Mobile</td>\n",
              "      <td>0</td>\n",
              "      <td>7109</td>\n",
              "    </tr>\n",
              "    <tr>\n",
              "      <th>257870</th>\n",
              "      <td>2019-03-16</td>\n",
              "      <td>1999-01-01</td>\n",
              "      <td>ISL</td>\n",
              "      <td>?</td>\n",
              "      <td>03523F</td>\n",
              "      <td>SC</td>\n",
              "      <td>SC</td>\n",
              "      <td>MISTER</td>\n",
              "      <td>M</td>\n",
              "      <td>ISL</td>\n",
              "      <td>Unknown</td>\n",
              "      <td>1</td>\n",
              "      <td>Y</td>\n",
              "      <td>1</td>\n",
              "      <td>0</td>\n",
              "      <td>0</td>\n",
              "      <td>0</td>\n",
              "      <td>0</td>\n",
              "      <td>0</td>\n",
              "      <td>0</td>\n",
              "      <td>1</td>\n",
              "      <td>Kiosks</td>\n",
              "      <td>0</td>\n",
              "      <td>7379</td>\n",
              "    </tr>\n",
              "    <tr>\n",
              "      <th>254816</th>\n",
              "      <td>2018-06-20</td>\n",
              "      <td>1999-01-01</td>\n",
              "      <td>MED</td>\n",
              "      <td>?</td>\n",
              "      <td>03FD3F</td>\n",
              "      <td>KA</td>\n",
              "      <td>QC</td>\n",
              "      <td>MISSES</td>\n",
              "      <td>F</td>\n",
              "      <td>MED</td>\n",
              "      <td>KDK</td>\n",
              "      <td>1</td>\n",
              "      <td>Y</td>\n",
              "      <td>0</td>\n",
              "      <td>4</td>\n",
              "      <td>55</td>\n",
              "      <td>0</td>\n",
              "      <td>0</td>\n",
              "      <td>0</td>\n",
              "      <td>0</td>\n",
              "      <td>1</td>\n",
              "      <td>Counter</td>\n",
              "      <td>0</td>\n",
              "      <td>7110</td>\n",
              "    </tr>\n",
              "    <tr>\n",
              "      <th>253816</th>\n",
              "      <td>2018-06-15</td>\n",
              "      <td>1999-01-01</td>\n",
              "      <td>KWI</td>\n",
              "      <td>?</td>\n",
              "      <td>03F3AF</td>\n",
              "      <td>AN</td>\n",
              "      <td>QC</td>\n",
              "      <td>MISS</td>\n",
              "      <td>F</td>\n",
              "      <td>KWI</td>\n",
              "      <td>TZX</td>\n",
              "      <td>1</td>\n",
              "      <td>Y</td>\n",
              "      <td>0</td>\n",
              "      <td>0</td>\n",
              "      <td>0</td>\n",
              "      <td>0</td>\n",
              "      <td>0</td>\n",
              "      <td>0</td>\n",
              "      <td>0</td>\n",
              "      <td>1</td>\n",
              "      <td>Counter</td>\n",
              "      <td>0</td>\n",
              "      <td>7105</td>\n",
              "    </tr>\n",
              "    <tr>\n",
              "      <th>252809</th>\n",
              "      <td>2019-03-21</td>\n",
              "      <td>1999-01-01</td>\n",
              "      <td>TJV</td>\n",
              "      <td>?</td>\n",
              "      <td>032931</td>\n",
              "      <td>KS</td>\n",
              "      <td>QC</td>\n",
              "      <td>MISTER</td>\n",
              "      <td>M</td>\n",
              "      <td>Unknown</td>\n",
              "      <td>TJV</td>\n",
              "      <td>1</td>\n",
              "      <td>Y</td>\n",
              "      <td>1</td>\n",
              "      <td>0</td>\n",
              "      <td>0</td>\n",
              "      <td>0</td>\n",
              "      <td>1</td>\n",
              "      <td>0</td>\n",
              "      <td>0</td>\n",
              "      <td>1</td>\n",
              "      <td>Counter</td>\n",
              "      <td>1</td>\n",
              "      <td>7384</td>\n",
              "    </tr>\n",
              "    <tr>\n",
              "      <th>251237</th>\n",
              "      <td>2019-04-15</td>\n",
              "      <td>1999-01-01</td>\n",
              "      <td>PRG</td>\n",
              "      <td>P1</td>\n",
              "      <td>03FDDF</td>\n",
              "      <td>NK</td>\n",
              "      <td>QC</td>\n",
              "      <td>MISTER</td>\n",
              "      <td>M</td>\n",
              "      <td>IST</td>\n",
              "      <td>Unknown</td>\n",
              "      <td>1</td>\n",
              "      <td>Y</td>\n",
              "      <td>1</td>\n",
              "      <td>1</td>\n",
              "      <td>15</td>\n",
              "      <td>0</td>\n",
              "      <td>0</td>\n",
              "      <td>0</td>\n",
              "      <td>0</td>\n",
              "      <td>1</td>\n",
              "      <td>Counter</td>\n",
              "      <td>0</td>\n",
              "      <td>7409</td>\n",
              "    </tr>\n",
              "    <tr>\n",
              "      <th>269293</th>\n",
              "      <td>2018-03-26</td>\n",
              "      <td>1999-01-01</td>\n",
              "      <td>MUN</td>\n",
              "      <td>?</td>\n",
              "      <td>000000</td>\n",
              "      <td>||</td>\n",
              "      <td>IA</td>\n",
              "      <td>MISTER</td>\n",
              "      <td>M</td>\n",
              "      <td>MUN</td>\n",
              "      <td>IKD</td>\n",
              "      <td>1</td>\n",
              "      <td>C</td>\n",
              "      <td>0</td>\n",
              "      <td>0</td>\n",
              "      <td>0</td>\n",
              "      <td>0</td>\n",
              "      <td>0</td>\n",
              "      <td>1</td>\n",
              "      <td>0</td>\n",
              "      <td>1</td>\n",
              "      <td>Other</td>\n",
              "      <td>0</td>\n",
              "      <td>7024</td>\n",
              "    </tr>\n",
              "    <tr>\n",
              "      <th>808162</th>\n",
              "      <td>2018-03-10</td>\n",
              "      <td>1999-01-01</td>\n",
              "      <td>VIE</td>\n",
              "      <td>P1</td>\n",
              "      <td>09553C</td>\n",
              "      <td>EM</td>\n",
              "      <td>TY</td>\n",
              "      <td>MISTER</td>\n",
              "      <td>M</td>\n",
              "      <td>IST</td>\n",
              "      <td>Unknown</td>\n",
              "      <td>0</td>\n",
              "      <td>Y</td>\n",
              "      <td>0</td>\n",
              "      <td>0</td>\n",
              "      <td>0</td>\n",
              "      <td>0</td>\n",
              "      <td>0</td>\n",
              "      <td>0</td>\n",
              "      <td>0</td>\n",
              "      <td>1</td>\n",
              "      <td>Counter</td>\n",
              "      <td>0</td>\n",
              "      <td>7008</td>\n",
              "    </tr>\n",
              "  </tbody>\n",
              "</table>\n",
              "<p>477 rows × 24 columns</p>\n",
              "</div>"
            ],
            "text/plain": [
              "       Departure_YMD_LMT  ... Early_Check_In\n",
              "469           2018-04-04  ...           7033\n",
              "555391        2019-04-21  ...           7415\n",
              "553128        2019-04-16  ...           7410\n",
              "551608        2019-03-17  ...           7380\n",
              "551287        2019-03-14  ...           7377\n",
              "550406        2018-03-29  ...           7027\n",
              "549936        2019-05-31  ...           7455\n",
              "547407        2018-06-04  ...           7094\n",
              "543253        2019-04-10  ...           7404\n",
              "541138        2018-03-12  ...           7010\n",
              "536708        2018-03-18  ...           7016\n",
              "535795        2018-03-15  ...           7013\n",
              "533869        2019-03-29  ...           7392\n",
              "531810        2018-03-21  ...           7019\n",
              "530144        2019-04-15  ...           7409\n",
              "528408        2019-03-24  ...           7387\n",
              "527719        2019-03-23  ...           7386\n",
              "527384        2018-06-06  ...           7096\n",
              "524905        2018-05-16  ...           7075\n",
              "522922        2018-06-16  ...           7106\n",
              "522899        2019-04-19  ...           7413\n",
              "519394        2018-04-04  ...           7033\n",
              "515578        2018-05-31  ...           7090\n",
              "514514        2018-03-18  ...           7016\n",
              "513878        2018-03-18  ...           7016\n",
              "513569        2018-06-05  ...           7095\n",
              "557084        2018-03-15  ...           7013\n",
              "557351        2018-06-05  ...           7095\n",
              "563037        2019-03-17  ...           7380\n",
              "564697        2019-04-02  ...           7396\n",
              "...                  ...  ...            ...\n",
              "243798        2019-05-31  ...           7455\n",
              "248149        2018-03-22  ...           7020\n",
              "302115        2018-04-05  ...           7034\n",
              "301086        2019-04-16  ...           7410\n",
              "298210        2018-06-15  ...           7105\n",
              "295500        2019-05-19  ...           7443\n",
              "292299        2019-03-22  ...           7385\n",
              "284685        2019-05-31  ...           7455\n",
              "283996        2018-04-11  ...           7040\n",
              "281868        2018-03-01  ...           6999\n",
              "281847        2018-04-16  ...           7045\n",
              "280297        2019-04-10  ...           7404\n",
              "279551        2018-03-08  ...           7006\n",
              "279139        2018-05-13  ...           7072\n",
              "245970        2019-03-21  ...           7384\n",
              "271244        2019-03-07  ...           7370\n",
              "267573        2019-03-07  ...           7370\n",
              "266021        2019-03-06  ...           7369\n",
              "261604        2018-05-30  ...           7089\n",
              "261581        2019-04-12  ...           7406\n",
              "259651        2018-05-30  ...           7089\n",
              "258235        2019-03-27  ...           7390\n",
              "257975        2018-06-19  ...           7109\n",
              "257870        2019-03-16  ...           7379\n",
              "254816        2018-06-20  ...           7110\n",
              "253816        2018-06-15  ...           7105\n",
              "252809        2019-03-21  ...           7384\n",
              "251237        2019-04-15  ...           7409\n",
              "269293        2018-03-26  ...           7024\n",
              "808162        2018-03-10  ...           7008\n",
              "\n",
              "[477 rows x 24 columns]"
            ]
          },
          "metadata": {
            "tags": []
          },
          "execution_count": 166
        }
      ]
    },
    {
      "cell_type": "markdown",
      "metadata": {
        "id": "WorjhS29RZlo",
        "colab_type": "text"
      },
      "source": [
        "We replaced the check-in day as early, on-time and peculiar."
      ]
    },
    {
      "cell_type": "code",
      "metadata": {
        "id": "v_zaLveCRqjl",
        "colab_type": "code",
        "colab": {}
      },
      "source": [
        "train_df.loc[train_df.Early_Check_In > 100, 'Early_Check_In_Status'] = 'Peculiar'\n",
        "train_df.loc[(train_df.Early_Check_In == 0) | (train_df.Early_Check_In == -1), 'Early_Check_In_Status'] = 'On-time'\n",
        "train_df.loc[(train_df.Early_Check_In == 1) | (train_df.Early_Check_In == 2) | (train_df.Early_Check_In == 3), 'Early_Check_In_Status'] = 'Early'"
      ],
      "execution_count": 0,
      "outputs": []
    },
    {
      "cell_type": "markdown",
      "metadata": {
        "id": "1HYwYqwVSWbM",
        "colab_type": "text"
      },
      "source": [
        "Do the same for the result set."
      ]
    },
    {
      "cell_type": "code",
      "metadata": {
        "id": "HtHSktQbScqJ",
        "colab_type": "code",
        "colab": {}
      },
      "source": [
        "result_df['Early_Check_In'] = (result_df.Departure_YMD_LMT - result_df.Operation_YMD_LMT)\n",
        "result_df['Early_Check_In'] = (result_df['Early_Check_In']/86400000000000).astype(int)\n",
        "result_df.loc[result_df.Early_Check_In > 100, 'Early_Check_In_Status'] = 'Peculiar'\n",
        "result_df.loc[(result_df.Early_Check_In == 0) | (result_df.Early_Check_In == -1), 'Early_Check_In_Status'] = 'On-time'\n",
        "result_df.loc[(result_df.Early_Check_In == 1) | (result_df.Early_Check_In == 2) | (result_df.Early_Check_In == 3), 'Early_Check_In_Status'] = 'Early'"
      ],
      "execution_count": 0,
      "outputs": []
    },
    {
      "cell_type": "markdown",
      "metadata": {
        "id": "wtCU50W6Wf-F",
        "colab_type": "text"
      },
      "source": [
        "The flights with no inbound and no outbound terminal are direct flights so we generated a new colum to label those flights"
      ]
    },
    {
      "cell_type": "code",
      "metadata": {
        "id": "TAxU-lnlVd3d",
        "colab_type": "code",
        "colab": {}
      },
      "source": [
        "train_df['Direct_Flight'] = np.where((train_df.Inbound_Departure_Airport == 'Unknown') & (train_df.Outbound_Arrival_Airport == 'Unknown'), 1, 0)\n",
        "result_df['Direct_Flight'] = np.where((result_df.Inbound_Departure_Airport == 'Unknown') & (result_df.Outbound_Arrival_Airport == 'Unknown'), 1, 0)"
      ],
      "execution_count": 0,
      "outputs": []
    },
    {
      "cell_type": "markdown",
      "metadata": {
        "id": "XysO0DT6NlHl",
        "colab_type": "text"
      },
      "source": [
        "### Check-in Inbound & Check-in Outbound\n",
        "\n",
        "The number of different values in Operation_Airport is very high. We think that, whether the Operation_Airport is the same airport with the Inbound_Departure_Airport or the Outbound_Arrival_Airport, is an important feature. So Checkin_Outbound and Operation_Outbound variables indicate if the check-in operation is done at either the Inbound_Departure_Airport or the Outbound_Arrival_Airport. \n",
        "\n"
      ]
    },
    {
      "cell_type": "code",
      "metadata": {
        "id": "J7oJsUC-NXWF",
        "colab_type": "code",
        "colab": {}
      },
      "source": [
        "train_df.loc[(train_df.Operation_Airport == train_df.Inbound_Departure_Airport), 'Checkin_Inbound'] = 1\n",
        "train_df['Checkin_Inbound'] = train_df['Checkin_Inbound'].replace(np.nan, 0)\n",
        "\n",
        "result_df.loc[(result_df.Operation_Airport == result_df.Inbound_Departure_Airport), 'Checkin_Inbound'] = 1\n",
        "result_df['Checkin_Inbound'] = result_df['Checkin_Inbound'].replace(np.nan, 0)\n",
        "\n",
        "\n",
        "\n",
        "train_df.loc[(train_df.Operation_Airport == train_df.Outbound_Arrival_Airport), 'Checkin_Outbound'] = 1\n",
        "train_df['Checkin_Outbound'] = train_df['Checkin_Outbound'].replace(np.nan, 0)\n",
        "\n",
        "result_df.loc[(result_df.Operation_Airport == result_df.Outbound_Arrival_Airport), 'Checkin_Outbound'] = 1\n",
        "result_df['Checkin_Outbound'] = result_df['Checkin_Outbound'].replace(np.nan, 0)\n"
      ],
      "execution_count": 0,
      "outputs": []
    },
    {
      "cell_type": "markdown",
      "metadata": {
        "id": "9Aa6_RLeWzGb",
        "colab_type": "text"
      },
      "source": [
        "### Operation Airport Reduced\n",
        "We now reduce the number of different values in Operation_Airport variable for the most frequent ones since there is a huge drop after *EST* airport."
      ]
    },
    {
      "cell_type": "code",
      "metadata": {
        "id": "284WPAQnW0dw",
        "colab_type": "code",
        "outputId": "d2f44e41-76f7-484d-ee17-8981ad435ae5",
        "colab": {
          "base_uri": "https://localhost:8080/",
          "height": 0
        }
      },
      "source": [
        "train_df.groupby('Operation_Airport').count().sort_values('Operation_Initials', ascending=False).head(10)\n"
      ],
      "execution_count": 171,
      "outputs": [
        {
          "output_type": "execute_result",
          "data": {
            "text/html": [
              "<div>\n",
              "<style scoped>\n",
              "    .dataframe tbody tr th:only-of-type {\n",
              "        vertical-align: middle;\n",
              "    }\n",
              "\n",
              "    .dataframe tbody tr th {\n",
              "        vertical-align: top;\n",
              "    }\n",
              "\n",
              "    .dataframe thead th {\n",
              "        text-align: right;\n",
              "    }\n",
              "</style>\n",
              "<table border=\"1\" class=\"dataframe\">\n",
              "  <thead>\n",
              "    <tr style=\"text-align: right;\">\n",
              "      <th></th>\n",
              "      <th>Departure_YMD_LMT</th>\n",
              "      <th>Operation_YMD_LMT</th>\n",
              "      <th>Terminal_Number</th>\n",
              "      <th>Terminal_Name</th>\n",
              "      <th>Operation_Initials</th>\n",
              "      <th>Operation_Channel</th>\n",
              "      <th>Passenger_Title</th>\n",
              "      <th>Passenger_Gender</th>\n",
              "      <th>Inbound_Departure_Airport</th>\n",
              "      <th>Outbound_Arrival_Airport</th>\n",
              "      <th>SWC_FLY</th>\n",
              "      <th>Cabin_Class</th>\n",
              "      <th>SWC_FQTV_Member</th>\n",
              "      <th>Passenger_Baggage_Count</th>\n",
              "      <th>Passenger_Baggage_Weight</th>\n",
              "      <th>SWC_Staff</th>\n",
              "      <th>SWC_CIP_Passenger</th>\n",
              "      <th>SWC_VIP_Passenger</th>\n",
              "      <th>SWC_Has_Infant</th>\n",
              "      <th>Operation_Count</th>\n",
              "      <th>Operation_Channel_Group</th>\n",
              "      <th>Operation_Sonic_Code_Flag</th>\n",
              "      <th>Early_Check_In</th>\n",
              "      <th>Early_Check_In_Status</th>\n",
              "      <th>Direct_Flight</th>\n",
              "      <th>Checkin_Inbound</th>\n",
              "      <th>Checkin_Outbound</th>\n",
              "    </tr>\n",
              "    <tr>\n",
              "      <th>Operation_Airport</th>\n",
              "      <th></th>\n",
              "      <th></th>\n",
              "      <th></th>\n",
              "      <th></th>\n",
              "      <th></th>\n",
              "      <th></th>\n",
              "      <th></th>\n",
              "      <th></th>\n",
              "      <th></th>\n",
              "      <th></th>\n",
              "      <th></th>\n",
              "      <th></th>\n",
              "      <th></th>\n",
              "      <th></th>\n",
              "      <th></th>\n",
              "      <th></th>\n",
              "      <th></th>\n",
              "      <th></th>\n",
              "      <th></th>\n",
              "      <th></th>\n",
              "      <th></th>\n",
              "      <th></th>\n",
              "      <th></th>\n",
              "      <th></th>\n",
              "      <th></th>\n",
              "      <th></th>\n",
              "      <th></th>\n",
              "    </tr>\n",
              "  </thead>\n",
              "  <tbody>\n",
              "    <tr>\n",
              "      <th>KDT</th>\n",
              "      <td>785903</td>\n",
              "      <td>785903</td>\n",
              "      <td>785903</td>\n",
              "      <td>785903</td>\n",
              "      <td>785903</td>\n",
              "      <td>785903</td>\n",
              "      <td>785903</td>\n",
              "      <td>785903</td>\n",
              "      <td>785903</td>\n",
              "      <td>785903</td>\n",
              "      <td>785903</td>\n",
              "      <td>785903</td>\n",
              "      <td>785903</td>\n",
              "      <td>785903</td>\n",
              "      <td>785903</td>\n",
              "      <td>785903</td>\n",
              "      <td>785903</td>\n",
              "      <td>785903</td>\n",
              "      <td>785903</td>\n",
              "      <td>785903</td>\n",
              "      <td>785903</td>\n",
              "      <td>785903</td>\n",
              "      <td>785903</td>\n",
              "      <td>785903</td>\n",
              "      <td>785903</td>\n",
              "      <td>785903</td>\n",
              "      <td>785903</td>\n",
              "    </tr>\n",
              "    <tr>\n",
              "      <th>IST</th>\n",
              "      <td>10621</td>\n",
              "      <td>10621</td>\n",
              "      <td>10621</td>\n",
              "      <td>10621</td>\n",
              "      <td>10621</td>\n",
              "      <td>10621</td>\n",
              "      <td>10621</td>\n",
              "      <td>10621</td>\n",
              "      <td>10621</td>\n",
              "      <td>10621</td>\n",
              "      <td>10621</td>\n",
              "      <td>10621</td>\n",
              "      <td>10621</td>\n",
              "      <td>10621</td>\n",
              "      <td>10621</td>\n",
              "      <td>10621</td>\n",
              "      <td>10621</td>\n",
              "      <td>10621</td>\n",
              "      <td>10621</td>\n",
              "      <td>10621</td>\n",
              "      <td>10621</td>\n",
              "      <td>10621</td>\n",
              "      <td>10621</td>\n",
              "      <td>10621</td>\n",
              "      <td>10621</td>\n",
              "      <td>10621</td>\n",
              "      <td>10621</td>\n",
              "    </tr>\n",
              "    <tr>\n",
              "      <th>SKW</th>\n",
              "      <td>5647</td>\n",
              "      <td>5647</td>\n",
              "      <td>5647</td>\n",
              "      <td>5647</td>\n",
              "      <td>5647</td>\n",
              "      <td>5647</td>\n",
              "      <td>5647</td>\n",
              "      <td>5647</td>\n",
              "      <td>5647</td>\n",
              "      <td>5647</td>\n",
              "      <td>5647</td>\n",
              "      <td>5647</td>\n",
              "      <td>5647</td>\n",
              "      <td>5647</td>\n",
              "      <td>5647</td>\n",
              "      <td>5647</td>\n",
              "      <td>5647</td>\n",
              "      <td>5647</td>\n",
              "      <td>5647</td>\n",
              "      <td>5647</td>\n",
              "      <td>5647</td>\n",
              "      <td>5647</td>\n",
              "      <td>5647</td>\n",
              "      <td>5647</td>\n",
              "      <td>5647</td>\n",
              "      <td>5647</td>\n",
              "      <td>5647</td>\n",
              "    </tr>\n",
              "    <tr>\n",
              "      <th>EST</th>\n",
              "      <td>4697</td>\n",
              "      <td>4697</td>\n",
              "      <td>4697</td>\n",
              "      <td>4697</td>\n",
              "      <td>4697</td>\n",
              "      <td>4697</td>\n",
              "      <td>4697</td>\n",
              "      <td>4697</td>\n",
              "      <td>4697</td>\n",
              "      <td>4697</td>\n",
              "      <td>4697</td>\n",
              "      <td>4697</td>\n",
              "      <td>4697</td>\n",
              "      <td>4697</td>\n",
              "      <td>4697</td>\n",
              "      <td>4697</td>\n",
              "      <td>4697</td>\n",
              "      <td>4697</td>\n",
              "      <td>4697</td>\n",
              "      <td>4697</td>\n",
              "      <td>4697</td>\n",
              "      <td>4697</td>\n",
              "      <td>4697</td>\n",
              "      <td>4697</td>\n",
              "      <td>4697</td>\n",
              "      <td>4697</td>\n",
              "      <td>4697</td>\n",
              "    </tr>\n",
              "    <tr>\n",
              "      <th>TZX</th>\n",
              "      <td>114</td>\n",
              "      <td>114</td>\n",
              "      <td>114</td>\n",
              "      <td>114</td>\n",
              "      <td>114</td>\n",
              "      <td>114</td>\n",
              "      <td>114</td>\n",
              "      <td>114</td>\n",
              "      <td>114</td>\n",
              "      <td>114</td>\n",
              "      <td>114</td>\n",
              "      <td>114</td>\n",
              "      <td>114</td>\n",
              "      <td>114</td>\n",
              "      <td>114</td>\n",
              "      <td>114</td>\n",
              "      <td>114</td>\n",
              "      <td>114</td>\n",
              "      <td>114</td>\n",
              "      <td>114</td>\n",
              "      <td>114</td>\n",
              "      <td>114</td>\n",
              "      <td>114</td>\n",
              "      <td>114</td>\n",
              "      <td>114</td>\n",
              "      <td>114</td>\n",
              "      <td>114</td>\n",
              "    </tr>\n",
              "    <tr>\n",
              "      <th>GZT</th>\n",
              "      <td>89</td>\n",
              "      <td>89</td>\n",
              "      <td>89</td>\n",
              "      <td>89</td>\n",
              "      <td>89</td>\n",
              "      <td>89</td>\n",
              "      <td>89</td>\n",
              "      <td>89</td>\n",
              "      <td>89</td>\n",
              "      <td>89</td>\n",
              "      <td>89</td>\n",
              "      <td>89</td>\n",
              "      <td>89</td>\n",
              "      <td>89</td>\n",
              "      <td>89</td>\n",
              "      <td>89</td>\n",
              "      <td>89</td>\n",
              "      <td>89</td>\n",
              "      <td>89</td>\n",
              "      <td>89</td>\n",
              "      <td>89</td>\n",
              "      <td>89</td>\n",
              "      <td>89</td>\n",
              "      <td>89</td>\n",
              "      <td>89</td>\n",
              "      <td>89</td>\n",
              "      <td>89</td>\n",
              "    </tr>\n",
              "    <tr>\n",
              "      <th>ERZ</th>\n",
              "      <td>88</td>\n",
              "      <td>88</td>\n",
              "      <td>88</td>\n",
              "      <td>88</td>\n",
              "      <td>88</td>\n",
              "      <td>88</td>\n",
              "      <td>88</td>\n",
              "      <td>88</td>\n",
              "      <td>88</td>\n",
              "      <td>88</td>\n",
              "      <td>88</td>\n",
              "      <td>88</td>\n",
              "      <td>88</td>\n",
              "      <td>88</td>\n",
              "      <td>88</td>\n",
              "      <td>88</td>\n",
              "      <td>88</td>\n",
              "      <td>88</td>\n",
              "      <td>88</td>\n",
              "      <td>88</td>\n",
              "      <td>88</td>\n",
              "      <td>88</td>\n",
              "      <td>88</td>\n",
              "      <td>88</td>\n",
              "      <td>88</td>\n",
              "      <td>88</td>\n",
              "      <td>88</td>\n",
              "    </tr>\n",
              "    <tr>\n",
              "      <th>KYT</th>\n",
              "      <td>69</td>\n",
              "      <td>69</td>\n",
              "      <td>69</td>\n",
              "      <td>69</td>\n",
              "      <td>69</td>\n",
              "      <td>69</td>\n",
              "      <td>69</td>\n",
              "      <td>69</td>\n",
              "      <td>69</td>\n",
              "      <td>69</td>\n",
              "      <td>69</td>\n",
              "      <td>69</td>\n",
              "      <td>69</td>\n",
              "      <td>69</td>\n",
              "      <td>69</td>\n",
              "      <td>69</td>\n",
              "      <td>69</td>\n",
              "      <td>69</td>\n",
              "      <td>69</td>\n",
              "      <td>69</td>\n",
              "      <td>69</td>\n",
              "      <td>69</td>\n",
              "      <td>69</td>\n",
              "      <td>69</td>\n",
              "      <td>69</td>\n",
              "      <td>69</td>\n",
              "      <td>69</td>\n",
              "    </tr>\n",
              "    <tr>\n",
              "      <th>TLV</th>\n",
              "      <td>61</td>\n",
              "      <td>61</td>\n",
              "      <td>61</td>\n",
              "      <td>61</td>\n",
              "      <td>61</td>\n",
              "      <td>61</td>\n",
              "      <td>61</td>\n",
              "      <td>61</td>\n",
              "      <td>61</td>\n",
              "      <td>61</td>\n",
              "      <td>61</td>\n",
              "      <td>61</td>\n",
              "      <td>61</td>\n",
              "      <td>61</td>\n",
              "      <td>61</td>\n",
              "      <td>61</td>\n",
              "      <td>61</td>\n",
              "      <td>61</td>\n",
              "      <td>61</td>\n",
              "      <td>61</td>\n",
              "      <td>61</td>\n",
              "      <td>61</td>\n",
              "      <td>61</td>\n",
              "      <td>61</td>\n",
              "      <td>61</td>\n",
              "      <td>61</td>\n",
              "      <td>61</td>\n",
              "    </tr>\n",
              "    <tr>\n",
              "      <th>KSR</th>\n",
              "      <td>60</td>\n",
              "      <td>60</td>\n",
              "      <td>60</td>\n",
              "      <td>60</td>\n",
              "      <td>60</td>\n",
              "      <td>60</td>\n",
              "      <td>60</td>\n",
              "      <td>60</td>\n",
              "      <td>60</td>\n",
              "      <td>60</td>\n",
              "      <td>60</td>\n",
              "      <td>60</td>\n",
              "      <td>60</td>\n",
              "      <td>60</td>\n",
              "      <td>60</td>\n",
              "      <td>60</td>\n",
              "      <td>60</td>\n",
              "      <td>60</td>\n",
              "      <td>60</td>\n",
              "      <td>60</td>\n",
              "      <td>60</td>\n",
              "      <td>60</td>\n",
              "      <td>60</td>\n",
              "      <td>60</td>\n",
              "      <td>60</td>\n",
              "      <td>60</td>\n",
              "      <td>60</td>\n",
              "    </tr>\n",
              "  </tbody>\n",
              "</table>\n",
              "</div>"
            ],
            "text/plain": [
              "                   Departure_YMD_LMT  ...  Checkin_Outbound\n",
              "Operation_Airport                     ...                  \n",
              "KDT                           785903  ...            785903\n",
              "IST                            10621  ...             10621\n",
              "SKW                             5647  ...              5647\n",
              "EST                             4697  ...              4697\n",
              "TZX                              114  ...               114\n",
              "GZT                               89  ...                89\n",
              "ERZ                               88  ...                88\n",
              "KYT                               69  ...                69\n",
              "TLV                               61  ...                61\n",
              "KSR                               60  ...                60\n",
              "\n",
              "[10 rows x 27 columns]"
            ]
          },
          "metadata": {
            "tags": []
          },
          "execution_count": 171
        }
      ]
    },
    {
      "cell_type": "markdown",
      "metadata": {
        "id": "fDjyJK3YXWPJ",
        "colab_type": "text"
      },
      "source": [
        "The same most frequent 4 airports (KDT, IST, SKW, EST) found in the test set."
      ]
    },
    {
      "cell_type": "code",
      "metadata": {
        "id": "pjyeKekDXW2T",
        "colab_type": "code",
        "outputId": "467f1bcc-1e4c-4d4a-f3c4-e9320645dec8",
        "colab": {
          "base_uri": "https://localhost:8080/",
          "height": 0
        }
      },
      "source": [
        "result_df.groupby('Operation_Airport').count().sort_values('Operation_Initials', ascending=False).head(10)\n"
      ],
      "execution_count": 172,
      "outputs": [
        {
          "output_type": "execute_result",
          "data": {
            "text/html": [
              "<div>\n",
              "<style scoped>\n",
              "    .dataframe tbody tr th:only-of-type {\n",
              "        vertical-align: middle;\n",
              "    }\n",
              "\n",
              "    .dataframe tbody tr th {\n",
              "        vertical-align: top;\n",
              "    }\n",
              "\n",
              "    .dataframe thead th {\n",
              "        text-align: right;\n",
              "    }\n",
              "</style>\n",
              "<table border=\"1\" class=\"dataframe\">\n",
              "  <thead>\n",
              "    <tr style=\"text-align: right;\">\n",
              "      <th></th>\n",
              "      <th>Departure_YMD_LMT</th>\n",
              "      <th>Operation_YMD_LMT</th>\n",
              "      <th>Terminal_Number</th>\n",
              "      <th>Terminal_Name</th>\n",
              "      <th>Operation_Initials</th>\n",
              "      <th>Operation_Channel</th>\n",
              "      <th>Passenger_Title</th>\n",
              "      <th>Passenger_Gender</th>\n",
              "      <th>Inbound_Departure_Airport</th>\n",
              "      <th>Outbound_Arrival_Airport</th>\n",
              "      <th>SWC_FLY</th>\n",
              "      <th>Cabin_Class</th>\n",
              "      <th>SWC_FQTV_Member</th>\n",
              "      <th>Passenger_Baggage_Count</th>\n",
              "      <th>Passenger_Baggage_Weight</th>\n",
              "      <th>SWC_Staff</th>\n",
              "      <th>SWC_CIP_Passenger</th>\n",
              "      <th>SWC_VIP_Passenger</th>\n",
              "      <th>SWC_Has_Infant</th>\n",
              "      <th>Operation_Count</th>\n",
              "      <th>Operation_Channel_Group</th>\n",
              "      <th>Operation_Sonic_Code_Flag</th>\n",
              "      <th>Early_Check_In</th>\n",
              "      <th>Early_Check_In_Status</th>\n",
              "      <th>Direct_Flight</th>\n",
              "      <th>Checkin_Inbound</th>\n",
              "      <th>Checkin_Outbound</th>\n",
              "    </tr>\n",
              "    <tr>\n",
              "      <th>Operation_Airport</th>\n",
              "      <th></th>\n",
              "      <th></th>\n",
              "      <th></th>\n",
              "      <th></th>\n",
              "      <th></th>\n",
              "      <th></th>\n",
              "      <th></th>\n",
              "      <th></th>\n",
              "      <th></th>\n",
              "      <th></th>\n",
              "      <th></th>\n",
              "      <th></th>\n",
              "      <th></th>\n",
              "      <th></th>\n",
              "      <th></th>\n",
              "      <th></th>\n",
              "      <th></th>\n",
              "      <th></th>\n",
              "      <th></th>\n",
              "      <th></th>\n",
              "      <th></th>\n",
              "      <th></th>\n",
              "      <th></th>\n",
              "      <th></th>\n",
              "      <th></th>\n",
              "      <th></th>\n",
              "      <th></th>\n",
              "    </tr>\n",
              "  </thead>\n",
              "  <tbody>\n",
              "    <tr>\n",
              "      <th>KDT</th>\n",
              "      <td>119390</td>\n",
              "      <td>119390</td>\n",
              "      <td>119390</td>\n",
              "      <td>119390</td>\n",
              "      <td>119390</td>\n",
              "      <td>119390</td>\n",
              "      <td>119390</td>\n",
              "      <td>119390</td>\n",
              "      <td>119390</td>\n",
              "      <td>119390</td>\n",
              "      <td>119390</td>\n",
              "      <td>119390</td>\n",
              "      <td>119390</td>\n",
              "      <td>119390</td>\n",
              "      <td>119390</td>\n",
              "      <td>119390</td>\n",
              "      <td>119390</td>\n",
              "      <td>119390</td>\n",
              "      <td>119390</td>\n",
              "      <td>119390</td>\n",
              "      <td>119390</td>\n",
              "      <td>119390</td>\n",
              "      <td>119390</td>\n",
              "      <td>119390</td>\n",
              "      <td>119390</td>\n",
              "      <td>119390</td>\n",
              "      <td>119390</td>\n",
              "    </tr>\n",
              "    <tr>\n",
              "      <th>IST</th>\n",
              "      <td>1144</td>\n",
              "      <td>1144</td>\n",
              "      <td>1144</td>\n",
              "      <td>1144</td>\n",
              "      <td>1144</td>\n",
              "      <td>1144</td>\n",
              "      <td>1144</td>\n",
              "      <td>1144</td>\n",
              "      <td>1144</td>\n",
              "      <td>1144</td>\n",
              "      <td>1144</td>\n",
              "      <td>1144</td>\n",
              "      <td>1144</td>\n",
              "      <td>1144</td>\n",
              "      <td>1144</td>\n",
              "      <td>1144</td>\n",
              "      <td>1144</td>\n",
              "      <td>1144</td>\n",
              "      <td>1144</td>\n",
              "      <td>1144</td>\n",
              "      <td>1144</td>\n",
              "      <td>1144</td>\n",
              "      <td>1144</td>\n",
              "      <td>1144</td>\n",
              "      <td>1144</td>\n",
              "      <td>1144</td>\n",
              "      <td>1144</td>\n",
              "    </tr>\n",
              "    <tr>\n",
              "      <th>SKW</th>\n",
              "      <td>565</td>\n",
              "      <td>565</td>\n",
              "      <td>565</td>\n",
              "      <td>565</td>\n",
              "      <td>565</td>\n",
              "      <td>565</td>\n",
              "      <td>565</td>\n",
              "      <td>565</td>\n",
              "      <td>565</td>\n",
              "      <td>565</td>\n",
              "      <td>565</td>\n",
              "      <td>565</td>\n",
              "      <td>565</td>\n",
              "      <td>565</td>\n",
              "      <td>565</td>\n",
              "      <td>565</td>\n",
              "      <td>565</td>\n",
              "      <td>565</td>\n",
              "      <td>565</td>\n",
              "      <td>565</td>\n",
              "      <td>565</td>\n",
              "      <td>565</td>\n",
              "      <td>565</td>\n",
              "      <td>565</td>\n",
              "      <td>565</td>\n",
              "      <td>565</td>\n",
              "      <td>565</td>\n",
              "    </tr>\n",
              "    <tr>\n",
              "      <th>EST</th>\n",
              "      <td>326</td>\n",
              "      <td>326</td>\n",
              "      <td>326</td>\n",
              "      <td>326</td>\n",
              "      <td>326</td>\n",
              "      <td>326</td>\n",
              "      <td>326</td>\n",
              "      <td>326</td>\n",
              "      <td>326</td>\n",
              "      <td>326</td>\n",
              "      <td>326</td>\n",
              "      <td>326</td>\n",
              "      <td>326</td>\n",
              "      <td>326</td>\n",
              "      <td>326</td>\n",
              "      <td>326</td>\n",
              "      <td>326</td>\n",
              "      <td>326</td>\n",
              "      <td>326</td>\n",
              "      <td>326</td>\n",
              "      <td>326</td>\n",
              "      <td>326</td>\n",
              "      <td>326</td>\n",
              "      <td>326</td>\n",
              "      <td>326</td>\n",
              "      <td>326</td>\n",
              "      <td>326</td>\n",
              "    </tr>\n",
              "    <tr>\n",
              "      <th>ENN</th>\n",
              "      <td>89</td>\n",
              "      <td>89</td>\n",
              "      <td>89</td>\n",
              "      <td>89</td>\n",
              "      <td>89</td>\n",
              "      <td>89</td>\n",
              "      <td>89</td>\n",
              "      <td>89</td>\n",
              "      <td>89</td>\n",
              "      <td>89</td>\n",
              "      <td>89</td>\n",
              "      <td>89</td>\n",
              "      <td>89</td>\n",
              "      <td>89</td>\n",
              "      <td>89</td>\n",
              "      <td>89</td>\n",
              "      <td>89</td>\n",
              "      <td>89</td>\n",
              "      <td>89</td>\n",
              "      <td>89</td>\n",
              "      <td>89</td>\n",
              "      <td>89</td>\n",
              "      <td>89</td>\n",
              "      <td>89</td>\n",
              "      <td>89</td>\n",
              "      <td>89</td>\n",
              "      <td>89</td>\n",
              "    </tr>\n",
              "    <tr>\n",
              "      <th>MED</th>\n",
              "      <td>77</td>\n",
              "      <td>77</td>\n",
              "      <td>77</td>\n",
              "      <td>77</td>\n",
              "      <td>77</td>\n",
              "      <td>77</td>\n",
              "      <td>77</td>\n",
              "      <td>77</td>\n",
              "      <td>77</td>\n",
              "      <td>77</td>\n",
              "      <td>77</td>\n",
              "      <td>77</td>\n",
              "      <td>77</td>\n",
              "      <td>77</td>\n",
              "      <td>77</td>\n",
              "      <td>77</td>\n",
              "      <td>77</td>\n",
              "      <td>77</td>\n",
              "      <td>77</td>\n",
              "      <td>77</td>\n",
              "      <td>77</td>\n",
              "      <td>77</td>\n",
              "      <td>77</td>\n",
              "      <td>77</td>\n",
              "      <td>77</td>\n",
              "      <td>77</td>\n",
              "      <td>77</td>\n",
              "    </tr>\n",
              "    <tr>\n",
              "      <th>TLV</th>\n",
              "      <td>70</td>\n",
              "      <td>70</td>\n",
              "      <td>70</td>\n",
              "      <td>70</td>\n",
              "      <td>70</td>\n",
              "      <td>70</td>\n",
              "      <td>70</td>\n",
              "      <td>70</td>\n",
              "      <td>70</td>\n",
              "      <td>70</td>\n",
              "      <td>70</td>\n",
              "      <td>70</td>\n",
              "      <td>70</td>\n",
              "      <td>70</td>\n",
              "      <td>70</td>\n",
              "      <td>70</td>\n",
              "      <td>70</td>\n",
              "      <td>70</td>\n",
              "      <td>70</td>\n",
              "      <td>70</td>\n",
              "      <td>70</td>\n",
              "      <td>70</td>\n",
              "      <td>70</td>\n",
              "      <td>70</td>\n",
              "      <td>70</td>\n",
              "      <td>70</td>\n",
              "      <td>70</td>\n",
              "    </tr>\n",
              "    <tr>\n",
              "      <th>KWI</th>\n",
              "      <td>39</td>\n",
              "      <td>39</td>\n",
              "      <td>39</td>\n",
              "      <td>39</td>\n",
              "      <td>39</td>\n",
              "      <td>39</td>\n",
              "      <td>39</td>\n",
              "      <td>39</td>\n",
              "      <td>39</td>\n",
              "      <td>39</td>\n",
              "      <td>39</td>\n",
              "      <td>39</td>\n",
              "      <td>39</td>\n",
              "      <td>39</td>\n",
              "      <td>39</td>\n",
              "      <td>39</td>\n",
              "      <td>39</td>\n",
              "      <td>39</td>\n",
              "      <td>39</td>\n",
              "      <td>39</td>\n",
              "      <td>39</td>\n",
              "      <td>39</td>\n",
              "      <td>39</td>\n",
              "      <td>39</td>\n",
              "      <td>39</td>\n",
              "      <td>39</td>\n",
              "      <td>39</td>\n",
              "    </tr>\n",
              "    <tr>\n",
              "      <th>HKM</th>\n",
              "      <td>31</td>\n",
              "      <td>31</td>\n",
              "      <td>31</td>\n",
              "      <td>31</td>\n",
              "      <td>31</td>\n",
              "      <td>31</td>\n",
              "      <td>31</td>\n",
              "      <td>31</td>\n",
              "      <td>31</td>\n",
              "      <td>31</td>\n",
              "      <td>31</td>\n",
              "      <td>31</td>\n",
              "      <td>31</td>\n",
              "      <td>31</td>\n",
              "      <td>31</td>\n",
              "      <td>31</td>\n",
              "      <td>31</td>\n",
              "      <td>31</td>\n",
              "      <td>31</td>\n",
              "      <td>31</td>\n",
              "      <td>31</td>\n",
              "      <td>31</td>\n",
              "      <td>31</td>\n",
              "      <td>31</td>\n",
              "      <td>31</td>\n",
              "      <td>31</td>\n",
              "      <td>31</td>\n",
              "    </tr>\n",
              "    <tr>\n",
              "      <th>TZX</th>\n",
              "      <td>20</td>\n",
              "      <td>20</td>\n",
              "      <td>20</td>\n",
              "      <td>20</td>\n",
              "      <td>20</td>\n",
              "      <td>20</td>\n",
              "      <td>20</td>\n",
              "      <td>20</td>\n",
              "      <td>20</td>\n",
              "      <td>20</td>\n",
              "      <td>20</td>\n",
              "      <td>20</td>\n",
              "      <td>20</td>\n",
              "      <td>20</td>\n",
              "      <td>20</td>\n",
              "      <td>20</td>\n",
              "      <td>20</td>\n",
              "      <td>20</td>\n",
              "      <td>20</td>\n",
              "      <td>20</td>\n",
              "      <td>20</td>\n",
              "      <td>20</td>\n",
              "      <td>20</td>\n",
              "      <td>20</td>\n",
              "      <td>20</td>\n",
              "      <td>20</td>\n",
              "      <td>20</td>\n",
              "    </tr>\n",
              "  </tbody>\n",
              "</table>\n",
              "</div>"
            ],
            "text/plain": [
              "                   Departure_YMD_LMT  ...  Checkin_Outbound\n",
              "Operation_Airport                     ...                  \n",
              "KDT                           119390  ...            119390\n",
              "IST                             1144  ...              1144\n",
              "SKW                              565  ...               565\n",
              "EST                              326  ...               326\n",
              "ENN                               89  ...                89\n",
              "MED                               77  ...                77\n",
              "TLV                               70  ...                70\n",
              "KWI                               39  ...                39\n",
              "HKM                               31  ...                31\n",
              "TZX                               20  ...                20\n",
              "\n",
              "[10 rows x 27 columns]"
            ]
          },
          "metadata": {
            "tags": []
          },
          "execution_count": 172
        }
      ]
    },
    {
      "cell_type": "markdown",
      "metadata": {
        "id": "cMbnF6IaX3Uf",
        "colab_type": "text"
      },
      "source": [
        "The occurences of most frequent values are far different for the first 4 values. They are the same airport for both train and test data. So, any airport other than these 4 is replaced with \"OTHERS\"."
      ]
    },
    {
      "cell_type": "code",
      "metadata": {
        "id": "EOtz21cwX5IR",
        "colab_type": "code",
        "colab": {}
      },
      "source": [
        "train_df['Operation_Airport_Reduced'] = np.where((train_df.Operation_Airport == 'KDT') | (train_df.Operation_Airport == 'IST') | (train_df.Operation_Airport == 'SKW') | (train_df.Operation_Airport == 'EST'), train_df.Operation_Airport, 'OTHERS')\n",
        "result_df['Operation_Airport_Reduced'] = np.where((result_df.Operation_Airport == 'KDT') | (result_df.Operation_Airport == 'IST') | (result_df.Operation_Airport == 'SKW') | (result_df.Operation_Airport == 'EST'), result_df.Operation_Airport, 'OTHERS')"
      ],
      "execution_count": 0,
      "outputs": []
    },
    {
      "cell_type": "markdown",
      "metadata": {
        "id": "LvlPttUSYTNY",
        "colab_type": "text"
      },
      "source": [
        "### Operation Initials Reduced\n",
        "\n",
        "We followed the same grouping scheme for the Operation_Initials column. There is a huge drop after LK company in terms of count."
      ]
    },
    {
      "cell_type": "code",
      "metadata": {
        "id": "x-53u2rlYnOD",
        "colab_type": "code",
        "outputId": "aae8a22b-596f-47bd-ec6c-086e19d03f34",
        "colab": {
          "base_uri": "https://localhost:8080/",
          "height": 0
        }
      },
      "source": [
        "train_df.groupby('Operation_Initials').count().sort_values('Operation_Airport', ascending=False).head(10)"
      ],
      "execution_count": 174,
      "outputs": [
        {
          "output_type": "execute_result",
          "data": {
            "text/html": [
              "<div>\n",
              "<style scoped>\n",
              "    .dataframe tbody tr th:only-of-type {\n",
              "        vertical-align: middle;\n",
              "    }\n",
              "\n",
              "    .dataframe tbody tr th {\n",
              "        vertical-align: top;\n",
              "    }\n",
              "\n",
              "    .dataframe thead th {\n",
              "        text-align: right;\n",
              "    }\n",
              "</style>\n",
              "<table border=\"1\" class=\"dataframe\">\n",
              "  <thead>\n",
              "    <tr style=\"text-align: right;\">\n",
              "      <th></th>\n",
              "      <th>Departure_YMD_LMT</th>\n",
              "      <th>Operation_YMD_LMT</th>\n",
              "      <th>Operation_Airport</th>\n",
              "      <th>Terminal_Number</th>\n",
              "      <th>Terminal_Name</th>\n",
              "      <th>Operation_Channel</th>\n",
              "      <th>Passenger_Title</th>\n",
              "      <th>Passenger_Gender</th>\n",
              "      <th>Inbound_Departure_Airport</th>\n",
              "      <th>Outbound_Arrival_Airport</th>\n",
              "      <th>SWC_FLY</th>\n",
              "      <th>Cabin_Class</th>\n",
              "      <th>SWC_FQTV_Member</th>\n",
              "      <th>Passenger_Baggage_Count</th>\n",
              "      <th>Passenger_Baggage_Weight</th>\n",
              "      <th>SWC_Staff</th>\n",
              "      <th>SWC_CIP_Passenger</th>\n",
              "      <th>SWC_VIP_Passenger</th>\n",
              "      <th>SWC_Has_Infant</th>\n",
              "      <th>Operation_Count</th>\n",
              "      <th>Operation_Channel_Group</th>\n",
              "      <th>Operation_Sonic_Code_Flag</th>\n",
              "      <th>Early_Check_In</th>\n",
              "      <th>Early_Check_In_Status</th>\n",
              "      <th>Direct_Flight</th>\n",
              "      <th>Checkin_Inbound</th>\n",
              "      <th>Checkin_Outbound</th>\n",
              "      <th>Operation_Airport_Reduced</th>\n",
              "    </tr>\n",
              "    <tr>\n",
              "      <th>Operation_Initials</th>\n",
              "      <th></th>\n",
              "      <th></th>\n",
              "      <th></th>\n",
              "      <th></th>\n",
              "      <th></th>\n",
              "      <th></th>\n",
              "      <th></th>\n",
              "      <th></th>\n",
              "      <th></th>\n",
              "      <th></th>\n",
              "      <th></th>\n",
              "      <th></th>\n",
              "      <th></th>\n",
              "      <th></th>\n",
              "      <th></th>\n",
              "      <th></th>\n",
              "      <th></th>\n",
              "      <th></th>\n",
              "      <th></th>\n",
              "      <th></th>\n",
              "      <th></th>\n",
              "      <th></th>\n",
              "      <th></th>\n",
              "      <th></th>\n",
              "      <th></th>\n",
              "      <th></th>\n",
              "      <th></th>\n",
              "      <th></th>\n",
              "    </tr>\n",
              "  </thead>\n",
              "  <tbody>\n",
              "    <tr>\n",
              "      <th>KS</th>\n",
              "      <td>390596</td>\n",
              "      <td>390596</td>\n",
              "      <td>390596</td>\n",
              "      <td>390596</td>\n",
              "      <td>390596</td>\n",
              "      <td>390596</td>\n",
              "      <td>390596</td>\n",
              "      <td>390596</td>\n",
              "      <td>390596</td>\n",
              "      <td>390596</td>\n",
              "      <td>390596</td>\n",
              "      <td>390596</td>\n",
              "      <td>390596</td>\n",
              "      <td>390596</td>\n",
              "      <td>390596</td>\n",
              "      <td>390596</td>\n",
              "      <td>390596</td>\n",
              "      <td>390596</td>\n",
              "      <td>390596</td>\n",
              "      <td>390596</td>\n",
              "      <td>390596</td>\n",
              "      <td>390596</td>\n",
              "      <td>390596</td>\n",
              "      <td>390596</td>\n",
              "      <td>390596</td>\n",
              "      <td>390596</td>\n",
              "      <td>390596</td>\n",
              "      <td>390596</td>\n",
              "    </tr>\n",
              "    <tr>\n",
              "      <th>MK</th>\n",
              "      <td>360434</td>\n",
              "      <td>360434</td>\n",
              "      <td>360434</td>\n",
              "      <td>360434</td>\n",
              "      <td>360434</td>\n",
              "      <td>360434</td>\n",
              "      <td>360434</td>\n",
              "      <td>360434</td>\n",
              "      <td>360434</td>\n",
              "      <td>360434</td>\n",
              "      <td>360434</td>\n",
              "      <td>360434</td>\n",
              "      <td>360434</td>\n",
              "      <td>360434</td>\n",
              "      <td>360434</td>\n",
              "      <td>360434</td>\n",
              "      <td>360434</td>\n",
              "      <td>360434</td>\n",
              "      <td>360434</td>\n",
              "      <td>360434</td>\n",
              "      <td>360434</td>\n",
              "      <td>360434</td>\n",
              "      <td>360434</td>\n",
              "      <td>360434</td>\n",
              "      <td>360434</td>\n",
              "      <td>360434</td>\n",
              "      <td>360434</td>\n",
              "      <td>360434</td>\n",
              "    </tr>\n",
              "    <tr>\n",
              "      <th>SC</th>\n",
              "      <td>42707</td>\n",
              "      <td>42707</td>\n",
              "      <td>42707</td>\n",
              "      <td>42707</td>\n",
              "      <td>42707</td>\n",
              "      <td>42707</td>\n",
              "      <td>42707</td>\n",
              "      <td>42707</td>\n",
              "      <td>42707</td>\n",
              "      <td>42707</td>\n",
              "      <td>42707</td>\n",
              "      <td>42707</td>\n",
              "      <td>42707</td>\n",
              "      <td>42707</td>\n",
              "      <td>42707</td>\n",
              "      <td>42707</td>\n",
              "      <td>42707</td>\n",
              "      <td>42707</td>\n",
              "      <td>42707</td>\n",
              "      <td>42707</td>\n",
              "      <td>42707</td>\n",
              "      <td>42707</td>\n",
              "      <td>42707</td>\n",
              "      <td>42707</td>\n",
              "      <td>42707</td>\n",
              "      <td>42707</td>\n",
              "      <td>42707</td>\n",
              "      <td>42707</td>\n",
              "    </tr>\n",
              "    <tr>\n",
              "      <th>Q7</th>\n",
              "      <td>7559</td>\n",
              "      <td>7559</td>\n",
              "      <td>7559</td>\n",
              "      <td>7559</td>\n",
              "      <td>7559</td>\n",
              "      <td>7559</td>\n",
              "      <td>7559</td>\n",
              "      <td>7559</td>\n",
              "      <td>7559</td>\n",
              "      <td>7559</td>\n",
              "      <td>7559</td>\n",
              "      <td>7559</td>\n",
              "      <td>7559</td>\n",
              "      <td>7559</td>\n",
              "      <td>7559</td>\n",
              "      <td>7559</td>\n",
              "      <td>7559</td>\n",
              "      <td>7559</td>\n",
              "      <td>7559</td>\n",
              "      <td>7559</td>\n",
              "      <td>7559</td>\n",
              "      <td>7559</td>\n",
              "      <td>7559</td>\n",
              "      <td>7559</td>\n",
              "      <td>7559</td>\n",
              "      <td>7559</td>\n",
              "      <td>7559</td>\n",
              "      <td>7559</td>\n",
              "    </tr>\n",
              "    <tr>\n",
              "      <th>EY</th>\n",
              "      <td>1780</td>\n",
              "      <td>1780</td>\n",
              "      <td>1780</td>\n",
              "      <td>1780</td>\n",
              "      <td>1780</td>\n",
              "      <td>1780</td>\n",
              "      <td>1780</td>\n",
              "      <td>1780</td>\n",
              "      <td>1780</td>\n",
              "      <td>1780</td>\n",
              "      <td>1780</td>\n",
              "      <td>1780</td>\n",
              "      <td>1780</td>\n",
              "      <td>1780</td>\n",
              "      <td>1780</td>\n",
              "      <td>1780</td>\n",
              "      <td>1780</td>\n",
              "      <td>1780</td>\n",
              "      <td>1780</td>\n",
              "      <td>1780</td>\n",
              "      <td>1780</td>\n",
              "      <td>1780</td>\n",
              "      <td>1780</td>\n",
              "      <td>1780</td>\n",
              "      <td>1780</td>\n",
              "      <td>1780</td>\n",
              "      <td>1780</td>\n",
              "      <td>1780</td>\n",
              "    </tr>\n",
              "    <tr>\n",
              "      <th>LK</th>\n",
              "      <td>1239</td>\n",
              "      <td>1239</td>\n",
              "      <td>1239</td>\n",
              "      <td>1239</td>\n",
              "      <td>1239</td>\n",
              "      <td>1239</td>\n",
              "      <td>1239</td>\n",
              "      <td>1239</td>\n",
              "      <td>1239</td>\n",
              "      <td>1239</td>\n",
              "      <td>1239</td>\n",
              "      <td>1239</td>\n",
              "      <td>1239</td>\n",
              "      <td>1239</td>\n",
              "      <td>1239</td>\n",
              "      <td>1239</td>\n",
              "      <td>1239</td>\n",
              "      <td>1239</td>\n",
              "      <td>1239</td>\n",
              "      <td>1239</td>\n",
              "      <td>1239</td>\n",
              "      <td>1239</td>\n",
              "      <td>1239</td>\n",
              "      <td>1239</td>\n",
              "      <td>1239</td>\n",
              "      <td>1239</td>\n",
              "      <td>1239</td>\n",
              "      <td>1239</td>\n",
              "    </tr>\n",
              "    <tr>\n",
              "      <th>YM</th>\n",
              "      <td>481</td>\n",
              "      <td>481</td>\n",
              "      <td>481</td>\n",
              "      <td>481</td>\n",
              "      <td>481</td>\n",
              "      <td>481</td>\n",
              "      <td>481</td>\n",
              "      <td>481</td>\n",
              "      <td>481</td>\n",
              "      <td>481</td>\n",
              "      <td>481</td>\n",
              "      <td>481</td>\n",
              "      <td>481</td>\n",
              "      <td>481</td>\n",
              "      <td>481</td>\n",
              "      <td>481</td>\n",
              "      <td>481</td>\n",
              "      <td>481</td>\n",
              "      <td>481</td>\n",
              "      <td>481</td>\n",
              "      <td>481</td>\n",
              "      <td>481</td>\n",
              "      <td>481</td>\n",
              "      <td>481</td>\n",
              "      <td>481</td>\n",
              "      <td>481</td>\n",
              "      <td>481</td>\n",
              "      <td>481</td>\n",
              "    </tr>\n",
              "    <tr>\n",
              "      <th>CB</th>\n",
              "      <td>336</td>\n",
              "      <td>336</td>\n",
              "      <td>336</td>\n",
              "      <td>336</td>\n",
              "      <td>336</td>\n",
              "      <td>336</td>\n",
              "      <td>336</td>\n",
              "      <td>336</td>\n",
              "      <td>336</td>\n",
              "      <td>336</td>\n",
              "      <td>336</td>\n",
              "      <td>336</td>\n",
              "      <td>336</td>\n",
              "      <td>336</td>\n",
              "      <td>336</td>\n",
              "      <td>336</td>\n",
              "      <td>336</td>\n",
              "      <td>336</td>\n",
              "      <td>336</td>\n",
              "      <td>336</td>\n",
              "      <td>336</td>\n",
              "      <td>336</td>\n",
              "      <td>336</td>\n",
              "      <td>336</td>\n",
              "      <td>336</td>\n",
              "      <td>336</td>\n",
              "      <td>336</td>\n",
              "      <td>336</td>\n",
              "    </tr>\n",
              "    <tr>\n",
              "      <th>FY</th>\n",
              "      <td>317</td>\n",
              "      <td>317</td>\n",
              "      <td>317</td>\n",
              "      <td>317</td>\n",
              "      <td>317</td>\n",
              "      <td>317</td>\n",
              "      <td>317</td>\n",
              "      <td>317</td>\n",
              "      <td>317</td>\n",
              "      <td>317</td>\n",
              "      <td>317</td>\n",
              "      <td>317</td>\n",
              "      <td>317</td>\n",
              "      <td>317</td>\n",
              "      <td>317</td>\n",
              "      <td>317</td>\n",
              "      <td>317</td>\n",
              "      <td>317</td>\n",
              "      <td>317</td>\n",
              "      <td>317</td>\n",
              "      <td>317</td>\n",
              "      <td>317</td>\n",
              "      <td>317</td>\n",
              "      <td>317</td>\n",
              "      <td>317</td>\n",
              "      <td>317</td>\n",
              "      <td>317</td>\n",
              "      <td>317</td>\n",
              "    </tr>\n",
              "    <tr>\n",
              "      <th>HV</th>\n",
              "      <td>277</td>\n",
              "      <td>277</td>\n",
              "      <td>277</td>\n",
              "      <td>277</td>\n",
              "      <td>277</td>\n",
              "      <td>277</td>\n",
              "      <td>277</td>\n",
              "      <td>277</td>\n",
              "      <td>277</td>\n",
              "      <td>277</td>\n",
              "      <td>277</td>\n",
              "      <td>277</td>\n",
              "      <td>277</td>\n",
              "      <td>277</td>\n",
              "      <td>277</td>\n",
              "      <td>277</td>\n",
              "      <td>277</td>\n",
              "      <td>277</td>\n",
              "      <td>277</td>\n",
              "      <td>277</td>\n",
              "      <td>277</td>\n",
              "      <td>277</td>\n",
              "      <td>277</td>\n",
              "      <td>277</td>\n",
              "      <td>277</td>\n",
              "      <td>277</td>\n",
              "      <td>277</td>\n",
              "      <td>277</td>\n",
              "    </tr>\n",
              "  </tbody>\n",
              "</table>\n",
              "</div>"
            ],
            "text/plain": [
              "                    Departure_YMD_LMT  ...  Operation_Airport_Reduced\n",
              "Operation_Initials                     ...                           \n",
              "KS                             390596  ...                     390596\n",
              "MK                             360434  ...                     360434\n",
              "SC                              42707  ...                      42707\n",
              "Q7                               7559  ...                       7559\n",
              "EY                               1780  ...                       1780\n",
              "LK                               1239  ...                       1239\n",
              "YM                                481  ...                        481\n",
              "CB                                336  ...                        336\n",
              "FY                                317  ...                        317\n",
              "HV                                277  ...                        277\n",
              "\n",
              "[10 rows x 28 columns]"
            ]
          },
          "metadata": {
            "tags": []
          },
          "execution_count": 174
        }
      ]
    },
    {
      "cell_type": "code",
      "metadata": {
        "id": "tHhekB0ma5K5",
        "colab_type": "code",
        "outputId": "b1a9ddb8-9cf4-405f-9553-a4ae0e4cd2d1",
        "colab": {
          "base_uri": "https://localhost:8080/",
          "height": 0
        }
      },
      "source": [
        "result_df.groupby('Operation_Initials').count().sort_values('Operation_Airport', ascending=False).head(10)\n"
      ],
      "execution_count": 175,
      "outputs": [
        {
          "output_type": "execute_result",
          "data": {
            "text/html": [
              "<div>\n",
              "<style scoped>\n",
              "    .dataframe tbody tr th:only-of-type {\n",
              "        vertical-align: middle;\n",
              "    }\n",
              "\n",
              "    .dataframe tbody tr th {\n",
              "        vertical-align: top;\n",
              "    }\n",
              "\n",
              "    .dataframe thead th {\n",
              "        text-align: right;\n",
              "    }\n",
              "</style>\n",
              "<table border=\"1\" class=\"dataframe\">\n",
              "  <thead>\n",
              "    <tr style=\"text-align: right;\">\n",
              "      <th></th>\n",
              "      <th>Departure_YMD_LMT</th>\n",
              "      <th>Operation_YMD_LMT</th>\n",
              "      <th>Operation_Airport</th>\n",
              "      <th>Terminal_Number</th>\n",
              "      <th>Terminal_Name</th>\n",
              "      <th>Operation_Channel</th>\n",
              "      <th>Passenger_Title</th>\n",
              "      <th>Passenger_Gender</th>\n",
              "      <th>Inbound_Departure_Airport</th>\n",
              "      <th>Outbound_Arrival_Airport</th>\n",
              "      <th>SWC_FLY</th>\n",
              "      <th>Cabin_Class</th>\n",
              "      <th>SWC_FQTV_Member</th>\n",
              "      <th>Passenger_Baggage_Count</th>\n",
              "      <th>Passenger_Baggage_Weight</th>\n",
              "      <th>SWC_Staff</th>\n",
              "      <th>SWC_CIP_Passenger</th>\n",
              "      <th>SWC_VIP_Passenger</th>\n",
              "      <th>SWC_Has_Infant</th>\n",
              "      <th>Operation_Count</th>\n",
              "      <th>Operation_Channel_Group</th>\n",
              "      <th>Operation_Sonic_Code_Flag</th>\n",
              "      <th>Early_Check_In</th>\n",
              "      <th>Early_Check_In_Status</th>\n",
              "      <th>Direct_Flight</th>\n",
              "      <th>Checkin_Inbound</th>\n",
              "      <th>Checkin_Outbound</th>\n",
              "      <th>Operation_Airport_Reduced</th>\n",
              "    </tr>\n",
              "    <tr>\n",
              "      <th>Operation_Initials</th>\n",
              "      <th></th>\n",
              "      <th></th>\n",
              "      <th></th>\n",
              "      <th></th>\n",
              "      <th></th>\n",
              "      <th></th>\n",
              "      <th></th>\n",
              "      <th></th>\n",
              "      <th></th>\n",
              "      <th></th>\n",
              "      <th></th>\n",
              "      <th></th>\n",
              "      <th></th>\n",
              "      <th></th>\n",
              "      <th></th>\n",
              "      <th></th>\n",
              "      <th></th>\n",
              "      <th></th>\n",
              "      <th></th>\n",
              "      <th></th>\n",
              "      <th></th>\n",
              "      <th></th>\n",
              "      <th></th>\n",
              "      <th></th>\n",
              "      <th></th>\n",
              "      <th></th>\n",
              "      <th></th>\n",
              "      <th></th>\n",
              "    </tr>\n",
              "  </thead>\n",
              "  <tbody>\n",
              "    <tr>\n",
              "      <th>KS</th>\n",
              "      <td>59017</td>\n",
              "      <td>59017</td>\n",
              "      <td>59017</td>\n",
              "      <td>59017</td>\n",
              "      <td>59017</td>\n",
              "      <td>59017</td>\n",
              "      <td>59017</td>\n",
              "      <td>59017</td>\n",
              "      <td>59017</td>\n",
              "      <td>59017</td>\n",
              "      <td>59017</td>\n",
              "      <td>59017</td>\n",
              "      <td>59017</td>\n",
              "      <td>59017</td>\n",
              "      <td>59017</td>\n",
              "      <td>59017</td>\n",
              "      <td>59017</td>\n",
              "      <td>59017</td>\n",
              "      <td>59017</td>\n",
              "      <td>59017</td>\n",
              "      <td>59017</td>\n",
              "      <td>59017</td>\n",
              "      <td>59017</td>\n",
              "      <td>59017</td>\n",
              "      <td>59017</td>\n",
              "      <td>59017</td>\n",
              "      <td>59017</td>\n",
              "      <td>59017</td>\n",
              "    </tr>\n",
              "    <tr>\n",
              "      <th>MK</th>\n",
              "      <td>54227</td>\n",
              "      <td>54227</td>\n",
              "      <td>54227</td>\n",
              "      <td>54227</td>\n",
              "      <td>54227</td>\n",
              "      <td>54227</td>\n",
              "      <td>54227</td>\n",
              "      <td>54227</td>\n",
              "      <td>54227</td>\n",
              "      <td>54227</td>\n",
              "      <td>54227</td>\n",
              "      <td>54227</td>\n",
              "      <td>54227</td>\n",
              "      <td>54227</td>\n",
              "      <td>54227</td>\n",
              "      <td>54227</td>\n",
              "      <td>54227</td>\n",
              "      <td>54227</td>\n",
              "      <td>54227</td>\n",
              "      <td>54227</td>\n",
              "      <td>54227</td>\n",
              "      <td>54227</td>\n",
              "      <td>54227</td>\n",
              "      <td>54227</td>\n",
              "      <td>54227</td>\n",
              "      <td>54227</td>\n",
              "      <td>54227</td>\n",
              "      <td>54227</td>\n",
              "    </tr>\n",
              "    <tr>\n",
              "      <th>SC</th>\n",
              "      <td>6449</td>\n",
              "      <td>6449</td>\n",
              "      <td>6449</td>\n",
              "      <td>6449</td>\n",
              "      <td>6449</td>\n",
              "      <td>6449</td>\n",
              "      <td>6449</td>\n",
              "      <td>6449</td>\n",
              "      <td>6449</td>\n",
              "      <td>6449</td>\n",
              "      <td>6449</td>\n",
              "      <td>6449</td>\n",
              "      <td>6449</td>\n",
              "      <td>6449</td>\n",
              "      <td>6449</td>\n",
              "      <td>6449</td>\n",
              "      <td>6449</td>\n",
              "      <td>6449</td>\n",
              "      <td>6449</td>\n",
              "      <td>6449</td>\n",
              "      <td>6449</td>\n",
              "      <td>6449</td>\n",
              "      <td>6449</td>\n",
              "      <td>6449</td>\n",
              "      <td>6449</td>\n",
              "      <td>6449</td>\n",
              "      <td>6449</td>\n",
              "      <td>6449</td>\n",
              "    </tr>\n",
              "    <tr>\n",
              "      <th>Q7</th>\n",
              "      <td>1148</td>\n",
              "      <td>1148</td>\n",
              "      <td>1148</td>\n",
              "      <td>1148</td>\n",
              "      <td>1148</td>\n",
              "      <td>1148</td>\n",
              "      <td>1148</td>\n",
              "      <td>1148</td>\n",
              "      <td>1148</td>\n",
              "      <td>1148</td>\n",
              "      <td>1148</td>\n",
              "      <td>1148</td>\n",
              "      <td>1148</td>\n",
              "      <td>1148</td>\n",
              "      <td>1148</td>\n",
              "      <td>1148</td>\n",
              "      <td>1148</td>\n",
              "      <td>1148</td>\n",
              "      <td>1148</td>\n",
              "      <td>1148</td>\n",
              "      <td>1148</td>\n",
              "      <td>1148</td>\n",
              "      <td>1148</td>\n",
              "      <td>1148</td>\n",
              "      <td>1148</td>\n",
              "      <td>1148</td>\n",
              "      <td>1148</td>\n",
              "      <td>1148</td>\n",
              "    </tr>\n",
              "    <tr>\n",
              "      <th>EY</th>\n",
              "      <td>255</td>\n",
              "      <td>255</td>\n",
              "      <td>255</td>\n",
              "      <td>255</td>\n",
              "      <td>255</td>\n",
              "      <td>255</td>\n",
              "      <td>255</td>\n",
              "      <td>255</td>\n",
              "      <td>255</td>\n",
              "      <td>255</td>\n",
              "      <td>255</td>\n",
              "      <td>255</td>\n",
              "      <td>255</td>\n",
              "      <td>255</td>\n",
              "      <td>255</td>\n",
              "      <td>255</td>\n",
              "      <td>255</td>\n",
              "      <td>255</td>\n",
              "      <td>255</td>\n",
              "      <td>255</td>\n",
              "      <td>255</td>\n",
              "      <td>255</td>\n",
              "      <td>255</td>\n",
              "      <td>255</td>\n",
              "      <td>255</td>\n",
              "      <td>255</td>\n",
              "      <td>255</td>\n",
              "      <td>255</td>\n",
              "    </tr>\n",
              "    <tr>\n",
              "      <th>LK</th>\n",
              "      <td>175</td>\n",
              "      <td>175</td>\n",
              "      <td>175</td>\n",
              "      <td>175</td>\n",
              "      <td>175</td>\n",
              "      <td>175</td>\n",
              "      <td>175</td>\n",
              "      <td>175</td>\n",
              "      <td>175</td>\n",
              "      <td>175</td>\n",
              "      <td>175</td>\n",
              "      <td>175</td>\n",
              "      <td>175</td>\n",
              "      <td>175</td>\n",
              "      <td>175</td>\n",
              "      <td>175</td>\n",
              "      <td>175</td>\n",
              "      <td>175</td>\n",
              "      <td>175</td>\n",
              "      <td>175</td>\n",
              "      <td>175</td>\n",
              "      <td>175</td>\n",
              "      <td>175</td>\n",
              "      <td>175</td>\n",
              "      <td>175</td>\n",
              "      <td>175</td>\n",
              "      <td>175</td>\n",
              "      <td>175</td>\n",
              "    </tr>\n",
              "    <tr>\n",
              "      <th>YM</th>\n",
              "      <td>72</td>\n",
              "      <td>72</td>\n",
              "      <td>72</td>\n",
              "      <td>72</td>\n",
              "      <td>72</td>\n",
              "      <td>72</td>\n",
              "      <td>72</td>\n",
              "      <td>72</td>\n",
              "      <td>72</td>\n",
              "      <td>72</td>\n",
              "      <td>72</td>\n",
              "      <td>72</td>\n",
              "      <td>72</td>\n",
              "      <td>72</td>\n",
              "      <td>72</td>\n",
              "      <td>72</td>\n",
              "      <td>72</td>\n",
              "      <td>72</td>\n",
              "      <td>72</td>\n",
              "      <td>72</td>\n",
              "      <td>72</td>\n",
              "      <td>72</td>\n",
              "      <td>72</td>\n",
              "      <td>72</td>\n",
              "      <td>72</td>\n",
              "      <td>72</td>\n",
              "      <td>72</td>\n",
              "      <td>72</td>\n",
              "    </tr>\n",
              "    <tr>\n",
              "      <th>FY</th>\n",
              "      <td>53</td>\n",
              "      <td>53</td>\n",
              "      <td>53</td>\n",
              "      <td>53</td>\n",
              "      <td>53</td>\n",
              "      <td>53</td>\n",
              "      <td>53</td>\n",
              "      <td>53</td>\n",
              "      <td>53</td>\n",
              "      <td>53</td>\n",
              "      <td>53</td>\n",
              "      <td>53</td>\n",
              "      <td>53</td>\n",
              "      <td>53</td>\n",
              "      <td>53</td>\n",
              "      <td>53</td>\n",
              "      <td>53</td>\n",
              "      <td>53</td>\n",
              "      <td>53</td>\n",
              "      <td>53</td>\n",
              "      <td>53</td>\n",
              "      <td>53</td>\n",
              "      <td>53</td>\n",
              "      <td>53</td>\n",
              "      <td>53</td>\n",
              "      <td>53</td>\n",
              "      <td>53</td>\n",
              "      <td>53</td>\n",
              "    </tr>\n",
              "    <tr>\n",
              "      <th>BO</th>\n",
              "      <td>50</td>\n",
              "      <td>50</td>\n",
              "      <td>50</td>\n",
              "      <td>50</td>\n",
              "      <td>50</td>\n",
              "      <td>50</td>\n",
              "      <td>50</td>\n",
              "      <td>50</td>\n",
              "      <td>50</td>\n",
              "      <td>50</td>\n",
              "      <td>50</td>\n",
              "      <td>50</td>\n",
              "      <td>50</td>\n",
              "      <td>50</td>\n",
              "      <td>50</td>\n",
              "      <td>50</td>\n",
              "      <td>50</td>\n",
              "      <td>50</td>\n",
              "      <td>50</td>\n",
              "      <td>50</td>\n",
              "      <td>50</td>\n",
              "      <td>50</td>\n",
              "      <td>50</td>\n",
              "      <td>50</td>\n",
              "      <td>50</td>\n",
              "      <td>50</td>\n",
              "      <td>50</td>\n",
              "      <td>50</td>\n",
              "    </tr>\n",
              "    <tr>\n",
              "      <th>CB</th>\n",
              "      <td>50</td>\n",
              "      <td>50</td>\n",
              "      <td>50</td>\n",
              "      <td>50</td>\n",
              "      <td>50</td>\n",
              "      <td>50</td>\n",
              "      <td>50</td>\n",
              "      <td>50</td>\n",
              "      <td>50</td>\n",
              "      <td>50</td>\n",
              "      <td>50</td>\n",
              "      <td>50</td>\n",
              "      <td>50</td>\n",
              "      <td>50</td>\n",
              "      <td>50</td>\n",
              "      <td>50</td>\n",
              "      <td>50</td>\n",
              "      <td>50</td>\n",
              "      <td>50</td>\n",
              "      <td>50</td>\n",
              "      <td>50</td>\n",
              "      <td>50</td>\n",
              "      <td>50</td>\n",
              "      <td>50</td>\n",
              "      <td>50</td>\n",
              "      <td>50</td>\n",
              "      <td>50</td>\n",
              "      <td>50</td>\n",
              "    </tr>\n",
              "  </tbody>\n",
              "</table>\n",
              "</div>"
            ],
            "text/plain": [
              "                    Departure_YMD_LMT  ...  Operation_Airport_Reduced\n",
              "Operation_Initials                     ...                           \n",
              "KS                              59017  ...                      59017\n",
              "MK                              54227  ...                      54227\n",
              "SC                               6449  ...                       6449\n",
              "Q7                               1148  ...                       1148\n",
              "EY                                255  ...                        255\n",
              "LK                                175  ...                        175\n",
              "YM                                 72  ...                         72\n",
              "FY                                 53  ...                         53\n",
              "BO                                 50  ...                         50\n",
              "CB                                 50  ...                         50\n",
              "\n",
              "[10 rows x 28 columns]"
            ]
          },
          "metadata": {
            "tags": []
          },
          "execution_count": 175
        }
      ]
    },
    {
      "cell_type": "markdown",
      "metadata": {
        "id": "uONxfEgsaxuN",
        "colab_type": "text"
      },
      "source": [
        "The 6 most frequent values differ significantly from the others. The same pattern in the training set is shared with the test set.  We replace the others with \"OTHERS\" and kept the most frequent ones."
      ]
    },
    {
      "cell_type": "code",
      "metadata": {
        "id": "lXeLYNIubT05",
        "colab_type": "code",
        "colab": {}
      },
      "source": [
        "train_df['Operation_Initials_Reduced'] = np.where((train_df.Operation_Initials == 'KS') | (train_df.Operation_Initials == 'MK') | (train_df.Operation_Initials == 'SC') | (train_df.Operation_Initials == 'Q7') | (train_df.Operation_Initials == 'EY') | (train_df.Operation_Initials == 'LK'), train_df.Operation_Initials, 'OTHERS')\n",
        "result_df['Operation_Initials_Reduced'] = np.where((result_df.Operation_Initials == 'KS') | (result_df.Operation_Initials == 'MK') | (result_df.Operation_Initials == 'SC') | (result_df.Operation_Initials == 'Q7') | (result_df.Operation_Initials == 'EY') | (result_df.Operation_Initials == 'LK'), result_df.Operation_Initials, 'OTHERS')\n"
      ],
      "execution_count": 0,
      "outputs": []
    },
    {
      "cell_type": "code",
      "metadata": {
        "id": "hpEvN1Z-bxHz",
        "colab_type": "code",
        "outputId": "d77758b9-9940-42df-c452-bbc50806cef4",
        "colab": {
          "base_uri": "https://localhost:8080/",
          "height": 0
        }
      },
      "source": [
        "train_df.groupby('Operation_Initials_Reduced').count().sort_values('Operation_Airport', ascending=False).head(10)"
      ],
      "execution_count": 177,
      "outputs": [
        {
          "output_type": "execute_result",
          "data": {
            "text/html": [
              "<div>\n",
              "<style scoped>\n",
              "    .dataframe tbody tr th:only-of-type {\n",
              "        vertical-align: middle;\n",
              "    }\n",
              "\n",
              "    .dataframe tbody tr th {\n",
              "        vertical-align: top;\n",
              "    }\n",
              "\n",
              "    .dataframe thead th {\n",
              "        text-align: right;\n",
              "    }\n",
              "</style>\n",
              "<table border=\"1\" class=\"dataframe\">\n",
              "  <thead>\n",
              "    <tr style=\"text-align: right;\">\n",
              "      <th></th>\n",
              "      <th>Departure_YMD_LMT</th>\n",
              "      <th>Operation_YMD_LMT</th>\n",
              "      <th>Operation_Airport</th>\n",
              "      <th>Terminal_Number</th>\n",
              "      <th>Terminal_Name</th>\n",
              "      <th>Operation_Initials</th>\n",
              "      <th>Operation_Channel</th>\n",
              "      <th>Passenger_Title</th>\n",
              "      <th>Passenger_Gender</th>\n",
              "      <th>Inbound_Departure_Airport</th>\n",
              "      <th>Outbound_Arrival_Airport</th>\n",
              "      <th>SWC_FLY</th>\n",
              "      <th>Cabin_Class</th>\n",
              "      <th>SWC_FQTV_Member</th>\n",
              "      <th>Passenger_Baggage_Count</th>\n",
              "      <th>Passenger_Baggage_Weight</th>\n",
              "      <th>SWC_Staff</th>\n",
              "      <th>SWC_CIP_Passenger</th>\n",
              "      <th>SWC_VIP_Passenger</th>\n",
              "      <th>SWC_Has_Infant</th>\n",
              "      <th>Operation_Count</th>\n",
              "      <th>Operation_Channel_Group</th>\n",
              "      <th>Operation_Sonic_Code_Flag</th>\n",
              "      <th>Early_Check_In</th>\n",
              "      <th>Early_Check_In_Status</th>\n",
              "      <th>Direct_Flight</th>\n",
              "      <th>Checkin_Inbound</th>\n",
              "      <th>Checkin_Outbound</th>\n",
              "      <th>Operation_Airport_Reduced</th>\n",
              "    </tr>\n",
              "    <tr>\n",
              "      <th>Operation_Initials_Reduced</th>\n",
              "      <th></th>\n",
              "      <th></th>\n",
              "      <th></th>\n",
              "      <th></th>\n",
              "      <th></th>\n",
              "      <th></th>\n",
              "      <th></th>\n",
              "      <th></th>\n",
              "      <th></th>\n",
              "      <th></th>\n",
              "      <th></th>\n",
              "      <th></th>\n",
              "      <th></th>\n",
              "      <th></th>\n",
              "      <th></th>\n",
              "      <th></th>\n",
              "      <th></th>\n",
              "      <th></th>\n",
              "      <th></th>\n",
              "      <th></th>\n",
              "      <th></th>\n",
              "      <th></th>\n",
              "      <th></th>\n",
              "      <th></th>\n",
              "      <th></th>\n",
              "      <th></th>\n",
              "      <th></th>\n",
              "      <th></th>\n",
              "      <th></th>\n",
              "    </tr>\n",
              "  </thead>\n",
              "  <tbody>\n",
              "    <tr>\n",
              "      <th>KS</th>\n",
              "      <td>390596</td>\n",
              "      <td>390596</td>\n",
              "      <td>390596</td>\n",
              "      <td>390596</td>\n",
              "      <td>390596</td>\n",
              "      <td>390596</td>\n",
              "      <td>390596</td>\n",
              "      <td>390596</td>\n",
              "      <td>390596</td>\n",
              "      <td>390596</td>\n",
              "      <td>390596</td>\n",
              "      <td>390596</td>\n",
              "      <td>390596</td>\n",
              "      <td>390596</td>\n",
              "      <td>390596</td>\n",
              "      <td>390596</td>\n",
              "      <td>390596</td>\n",
              "      <td>390596</td>\n",
              "      <td>390596</td>\n",
              "      <td>390596</td>\n",
              "      <td>390596</td>\n",
              "      <td>390596</td>\n",
              "      <td>390596</td>\n",
              "      <td>390596</td>\n",
              "      <td>390596</td>\n",
              "      <td>390596</td>\n",
              "      <td>390596</td>\n",
              "      <td>390596</td>\n",
              "      <td>390596</td>\n",
              "    </tr>\n",
              "    <tr>\n",
              "      <th>MK</th>\n",
              "      <td>360434</td>\n",
              "      <td>360434</td>\n",
              "      <td>360434</td>\n",
              "      <td>360434</td>\n",
              "      <td>360434</td>\n",
              "      <td>360434</td>\n",
              "      <td>360434</td>\n",
              "      <td>360434</td>\n",
              "      <td>360434</td>\n",
              "      <td>360434</td>\n",
              "      <td>360434</td>\n",
              "      <td>360434</td>\n",
              "      <td>360434</td>\n",
              "      <td>360434</td>\n",
              "      <td>360434</td>\n",
              "      <td>360434</td>\n",
              "      <td>360434</td>\n",
              "      <td>360434</td>\n",
              "      <td>360434</td>\n",
              "      <td>360434</td>\n",
              "      <td>360434</td>\n",
              "      <td>360434</td>\n",
              "      <td>360434</td>\n",
              "      <td>360434</td>\n",
              "      <td>360434</td>\n",
              "      <td>360434</td>\n",
              "      <td>360434</td>\n",
              "      <td>360434</td>\n",
              "      <td>360434</td>\n",
              "    </tr>\n",
              "    <tr>\n",
              "      <th>SC</th>\n",
              "      <td>42707</td>\n",
              "      <td>42707</td>\n",
              "      <td>42707</td>\n",
              "      <td>42707</td>\n",
              "      <td>42707</td>\n",
              "      <td>42707</td>\n",
              "      <td>42707</td>\n",
              "      <td>42707</td>\n",
              "      <td>42707</td>\n",
              "      <td>42707</td>\n",
              "      <td>42707</td>\n",
              "      <td>42707</td>\n",
              "      <td>42707</td>\n",
              "      <td>42707</td>\n",
              "      <td>42707</td>\n",
              "      <td>42707</td>\n",
              "      <td>42707</td>\n",
              "      <td>42707</td>\n",
              "      <td>42707</td>\n",
              "      <td>42707</td>\n",
              "      <td>42707</td>\n",
              "      <td>42707</td>\n",
              "      <td>42707</td>\n",
              "      <td>42707</td>\n",
              "      <td>42707</td>\n",
              "      <td>42707</td>\n",
              "      <td>42707</td>\n",
              "      <td>42707</td>\n",
              "      <td>42707</td>\n",
              "    </tr>\n",
              "    <tr>\n",
              "      <th>Q7</th>\n",
              "      <td>7559</td>\n",
              "      <td>7559</td>\n",
              "      <td>7559</td>\n",
              "      <td>7559</td>\n",
              "      <td>7559</td>\n",
              "      <td>7559</td>\n",
              "      <td>7559</td>\n",
              "      <td>7559</td>\n",
              "      <td>7559</td>\n",
              "      <td>7559</td>\n",
              "      <td>7559</td>\n",
              "      <td>7559</td>\n",
              "      <td>7559</td>\n",
              "      <td>7559</td>\n",
              "      <td>7559</td>\n",
              "      <td>7559</td>\n",
              "      <td>7559</td>\n",
              "      <td>7559</td>\n",
              "      <td>7559</td>\n",
              "      <td>7559</td>\n",
              "      <td>7559</td>\n",
              "      <td>7559</td>\n",
              "      <td>7559</td>\n",
              "      <td>7559</td>\n",
              "      <td>7559</td>\n",
              "      <td>7559</td>\n",
              "      <td>7559</td>\n",
              "      <td>7559</td>\n",
              "      <td>7559</td>\n",
              "    </tr>\n",
              "    <tr>\n",
              "      <th>OTHERS</th>\n",
              "      <td>4381</td>\n",
              "      <td>4381</td>\n",
              "      <td>4381</td>\n",
              "      <td>4381</td>\n",
              "      <td>4381</td>\n",
              "      <td>4381</td>\n",
              "      <td>4381</td>\n",
              "      <td>4381</td>\n",
              "      <td>4381</td>\n",
              "      <td>4381</td>\n",
              "      <td>4381</td>\n",
              "      <td>4381</td>\n",
              "      <td>4381</td>\n",
              "      <td>4381</td>\n",
              "      <td>4381</td>\n",
              "      <td>4381</td>\n",
              "      <td>4381</td>\n",
              "      <td>4381</td>\n",
              "      <td>4381</td>\n",
              "      <td>4381</td>\n",
              "      <td>4381</td>\n",
              "      <td>4381</td>\n",
              "      <td>4381</td>\n",
              "      <td>4381</td>\n",
              "      <td>4381</td>\n",
              "      <td>4381</td>\n",
              "      <td>4381</td>\n",
              "      <td>4381</td>\n",
              "      <td>4381</td>\n",
              "    </tr>\n",
              "    <tr>\n",
              "      <th>EY</th>\n",
              "      <td>1780</td>\n",
              "      <td>1780</td>\n",
              "      <td>1780</td>\n",
              "      <td>1780</td>\n",
              "      <td>1780</td>\n",
              "      <td>1780</td>\n",
              "      <td>1780</td>\n",
              "      <td>1780</td>\n",
              "      <td>1780</td>\n",
              "      <td>1780</td>\n",
              "      <td>1780</td>\n",
              "      <td>1780</td>\n",
              "      <td>1780</td>\n",
              "      <td>1780</td>\n",
              "      <td>1780</td>\n",
              "      <td>1780</td>\n",
              "      <td>1780</td>\n",
              "      <td>1780</td>\n",
              "      <td>1780</td>\n",
              "      <td>1780</td>\n",
              "      <td>1780</td>\n",
              "      <td>1780</td>\n",
              "      <td>1780</td>\n",
              "      <td>1780</td>\n",
              "      <td>1780</td>\n",
              "      <td>1780</td>\n",
              "      <td>1780</td>\n",
              "      <td>1780</td>\n",
              "      <td>1780</td>\n",
              "    </tr>\n",
              "    <tr>\n",
              "      <th>LK</th>\n",
              "      <td>1239</td>\n",
              "      <td>1239</td>\n",
              "      <td>1239</td>\n",
              "      <td>1239</td>\n",
              "      <td>1239</td>\n",
              "      <td>1239</td>\n",
              "      <td>1239</td>\n",
              "      <td>1239</td>\n",
              "      <td>1239</td>\n",
              "      <td>1239</td>\n",
              "      <td>1239</td>\n",
              "      <td>1239</td>\n",
              "      <td>1239</td>\n",
              "      <td>1239</td>\n",
              "      <td>1239</td>\n",
              "      <td>1239</td>\n",
              "      <td>1239</td>\n",
              "      <td>1239</td>\n",
              "      <td>1239</td>\n",
              "      <td>1239</td>\n",
              "      <td>1239</td>\n",
              "      <td>1239</td>\n",
              "      <td>1239</td>\n",
              "      <td>1239</td>\n",
              "      <td>1239</td>\n",
              "      <td>1239</td>\n",
              "      <td>1239</td>\n",
              "      <td>1239</td>\n",
              "      <td>1239</td>\n",
              "    </tr>\n",
              "  </tbody>\n",
              "</table>\n",
              "</div>"
            ],
            "text/plain": [
              "                            Departure_YMD_LMT  ...  Operation_Airport_Reduced\n",
              "Operation_Initials_Reduced                     ...                           \n",
              "KS                                     390596  ...                     390596\n",
              "MK                                     360434  ...                     360434\n",
              "SC                                      42707  ...                      42707\n",
              "Q7                                       7559  ...                       7559\n",
              "OTHERS                                   4381  ...                       4381\n",
              "EY                                       1780  ...                       1780\n",
              "LK                                       1239  ...                       1239\n",
              "\n",
              "[7 rows x 29 columns]"
            ]
          },
          "metadata": {
            "tags": []
          },
          "execution_count": 177
        }
      ]
    },
    {
      "cell_type": "markdown",
      "metadata": {
        "id": "k9ymmU2zl2DA",
        "colab_type": "text"
      },
      "source": [
        "### Inbound_Departure_Airport_Reduced\n",
        "\n",
        "The most common *Inbound Departure Airports* are unknowns (those with no inbound flight), IST, SKW and EST for the test and the training set both. So we kept those and grouped the others as OTHERS. "
      ]
    },
    {
      "cell_type": "code",
      "metadata": {
        "id": "-0Hy6fudl__8",
        "colab_type": "code",
        "outputId": "0808c3a1-a9c8-4257-d824-cd9d6548ba31",
        "colab": {
          "base_uri": "https://localhost:8080/",
          "height": 0
        }
      },
      "source": [
        "train_df.groupby('Inbound_Departure_Airport').count().sort_values('Operation_Airport', ascending=False).head(10)"
      ],
      "execution_count": 178,
      "outputs": [
        {
          "output_type": "execute_result",
          "data": {
            "text/html": [
              "<div>\n",
              "<style scoped>\n",
              "    .dataframe tbody tr th:only-of-type {\n",
              "        vertical-align: middle;\n",
              "    }\n",
              "\n",
              "    .dataframe tbody tr th {\n",
              "        vertical-align: top;\n",
              "    }\n",
              "\n",
              "    .dataframe thead th {\n",
              "        text-align: right;\n",
              "    }\n",
              "</style>\n",
              "<table border=\"1\" class=\"dataframe\">\n",
              "  <thead>\n",
              "    <tr style=\"text-align: right;\">\n",
              "      <th></th>\n",
              "      <th>Departure_YMD_LMT</th>\n",
              "      <th>Operation_YMD_LMT</th>\n",
              "      <th>Operation_Airport</th>\n",
              "      <th>Terminal_Number</th>\n",
              "      <th>Terminal_Name</th>\n",
              "      <th>Operation_Initials</th>\n",
              "      <th>Operation_Channel</th>\n",
              "      <th>Passenger_Title</th>\n",
              "      <th>Passenger_Gender</th>\n",
              "      <th>Outbound_Arrival_Airport</th>\n",
              "      <th>SWC_FLY</th>\n",
              "      <th>Cabin_Class</th>\n",
              "      <th>SWC_FQTV_Member</th>\n",
              "      <th>Passenger_Baggage_Count</th>\n",
              "      <th>Passenger_Baggage_Weight</th>\n",
              "      <th>SWC_Staff</th>\n",
              "      <th>SWC_CIP_Passenger</th>\n",
              "      <th>SWC_VIP_Passenger</th>\n",
              "      <th>SWC_Has_Infant</th>\n",
              "      <th>Operation_Count</th>\n",
              "      <th>Operation_Channel_Group</th>\n",
              "      <th>Operation_Sonic_Code_Flag</th>\n",
              "      <th>Early_Check_In</th>\n",
              "      <th>Early_Check_In_Status</th>\n",
              "      <th>Direct_Flight</th>\n",
              "      <th>Checkin_Inbound</th>\n",
              "      <th>Checkin_Outbound</th>\n",
              "      <th>Operation_Airport_Reduced</th>\n",
              "      <th>Operation_Initials_Reduced</th>\n",
              "    </tr>\n",
              "    <tr>\n",
              "      <th>Inbound_Departure_Airport</th>\n",
              "      <th></th>\n",
              "      <th></th>\n",
              "      <th></th>\n",
              "      <th></th>\n",
              "      <th></th>\n",
              "      <th></th>\n",
              "      <th></th>\n",
              "      <th></th>\n",
              "      <th></th>\n",
              "      <th></th>\n",
              "      <th></th>\n",
              "      <th></th>\n",
              "      <th></th>\n",
              "      <th></th>\n",
              "      <th></th>\n",
              "      <th></th>\n",
              "      <th></th>\n",
              "      <th></th>\n",
              "      <th></th>\n",
              "      <th></th>\n",
              "      <th></th>\n",
              "      <th></th>\n",
              "      <th></th>\n",
              "      <th></th>\n",
              "      <th></th>\n",
              "      <th></th>\n",
              "      <th></th>\n",
              "      <th></th>\n",
              "      <th></th>\n",
              "    </tr>\n",
              "  </thead>\n",
              "  <tbody>\n",
              "    <tr>\n",
              "      <th>Unknown</th>\n",
              "      <td>738646</td>\n",
              "      <td>738646</td>\n",
              "      <td>738646</td>\n",
              "      <td>738646</td>\n",
              "      <td>738646</td>\n",
              "      <td>738646</td>\n",
              "      <td>738646</td>\n",
              "      <td>738646</td>\n",
              "      <td>738646</td>\n",
              "      <td>738646</td>\n",
              "      <td>738646</td>\n",
              "      <td>738646</td>\n",
              "      <td>738646</td>\n",
              "      <td>738646</td>\n",
              "      <td>738646</td>\n",
              "      <td>738646</td>\n",
              "      <td>738646</td>\n",
              "      <td>738646</td>\n",
              "      <td>738646</td>\n",
              "      <td>738646</td>\n",
              "      <td>738646</td>\n",
              "      <td>738646</td>\n",
              "      <td>738646</td>\n",
              "      <td>738646</td>\n",
              "      <td>738646</td>\n",
              "      <td>738646</td>\n",
              "      <td>738646</td>\n",
              "      <td>738646</td>\n",
              "      <td>738646</td>\n",
              "    </tr>\n",
              "    <tr>\n",
              "      <th>IST</th>\n",
              "      <td>33814</td>\n",
              "      <td>33814</td>\n",
              "      <td>33814</td>\n",
              "      <td>33814</td>\n",
              "      <td>33814</td>\n",
              "      <td>33814</td>\n",
              "      <td>33814</td>\n",
              "      <td>33814</td>\n",
              "      <td>33814</td>\n",
              "      <td>33814</td>\n",
              "      <td>33814</td>\n",
              "      <td>33814</td>\n",
              "      <td>33814</td>\n",
              "      <td>33814</td>\n",
              "      <td>33814</td>\n",
              "      <td>33814</td>\n",
              "      <td>33814</td>\n",
              "      <td>33814</td>\n",
              "      <td>33814</td>\n",
              "      <td>33814</td>\n",
              "      <td>33814</td>\n",
              "      <td>33814</td>\n",
              "      <td>33814</td>\n",
              "      <td>33814</td>\n",
              "      <td>33814</td>\n",
              "      <td>33814</td>\n",
              "      <td>33814</td>\n",
              "      <td>33814</td>\n",
              "      <td>33814</td>\n",
              "    </tr>\n",
              "    <tr>\n",
              "      <th>SKW</th>\n",
              "      <td>21757</td>\n",
              "      <td>21757</td>\n",
              "      <td>21757</td>\n",
              "      <td>21757</td>\n",
              "      <td>21757</td>\n",
              "      <td>21757</td>\n",
              "      <td>21757</td>\n",
              "      <td>21757</td>\n",
              "      <td>21757</td>\n",
              "      <td>21757</td>\n",
              "      <td>21757</td>\n",
              "      <td>21757</td>\n",
              "      <td>21757</td>\n",
              "      <td>21757</td>\n",
              "      <td>21757</td>\n",
              "      <td>21757</td>\n",
              "      <td>21757</td>\n",
              "      <td>21757</td>\n",
              "      <td>21757</td>\n",
              "      <td>21757</td>\n",
              "      <td>21757</td>\n",
              "      <td>21757</td>\n",
              "      <td>21757</td>\n",
              "      <td>21757</td>\n",
              "      <td>21757</td>\n",
              "      <td>21757</td>\n",
              "      <td>21757</td>\n",
              "      <td>21757</td>\n",
              "      <td>21757</td>\n",
              "    </tr>\n",
              "    <tr>\n",
              "      <th>EST</th>\n",
              "      <td>14130</td>\n",
              "      <td>14130</td>\n",
              "      <td>14130</td>\n",
              "      <td>14130</td>\n",
              "      <td>14130</td>\n",
              "      <td>14130</td>\n",
              "      <td>14130</td>\n",
              "      <td>14130</td>\n",
              "      <td>14130</td>\n",
              "      <td>14130</td>\n",
              "      <td>14130</td>\n",
              "      <td>14130</td>\n",
              "      <td>14130</td>\n",
              "      <td>14130</td>\n",
              "      <td>14130</td>\n",
              "      <td>14130</td>\n",
              "      <td>14130</td>\n",
              "      <td>14130</td>\n",
              "      <td>14130</td>\n",
              "      <td>14130</td>\n",
              "      <td>14130</td>\n",
              "      <td>14130</td>\n",
              "      <td>14130</td>\n",
              "      <td>14130</td>\n",
              "      <td>14130</td>\n",
              "      <td>14130</td>\n",
              "      <td>14130</td>\n",
              "      <td>14130</td>\n",
              "      <td>14130</td>\n",
              "    </tr>\n",
              "    <tr>\n",
              "      <th>ISL</th>\n",
              "      <td>47</td>\n",
              "      <td>47</td>\n",
              "      <td>47</td>\n",
              "      <td>47</td>\n",
              "      <td>47</td>\n",
              "      <td>47</td>\n",
              "      <td>47</td>\n",
              "      <td>47</td>\n",
              "      <td>47</td>\n",
              "      <td>47</td>\n",
              "      <td>47</td>\n",
              "      <td>47</td>\n",
              "      <td>47</td>\n",
              "      <td>47</td>\n",
              "      <td>47</td>\n",
              "      <td>47</td>\n",
              "      <td>47</td>\n",
              "      <td>47</td>\n",
              "      <td>47</td>\n",
              "      <td>47</td>\n",
              "      <td>47</td>\n",
              "      <td>47</td>\n",
              "      <td>47</td>\n",
              "      <td>47</td>\n",
              "      <td>47</td>\n",
              "      <td>47</td>\n",
              "      <td>47</td>\n",
              "      <td>47</td>\n",
              "      <td>47</td>\n",
              "    </tr>\n",
              "    <tr>\n",
              "      <th>JED</th>\n",
              "      <td>46</td>\n",
              "      <td>46</td>\n",
              "      <td>46</td>\n",
              "      <td>46</td>\n",
              "      <td>46</td>\n",
              "      <td>46</td>\n",
              "      <td>46</td>\n",
              "      <td>46</td>\n",
              "      <td>46</td>\n",
              "      <td>46</td>\n",
              "      <td>46</td>\n",
              "      <td>46</td>\n",
              "      <td>46</td>\n",
              "      <td>46</td>\n",
              "      <td>46</td>\n",
              "      <td>46</td>\n",
              "      <td>46</td>\n",
              "      <td>46</td>\n",
              "      <td>46</td>\n",
              "      <td>46</td>\n",
              "      <td>46</td>\n",
              "      <td>46</td>\n",
              "      <td>46</td>\n",
              "      <td>46</td>\n",
              "      <td>46</td>\n",
              "      <td>46</td>\n",
              "      <td>46</td>\n",
              "      <td>46</td>\n",
              "      <td>46</td>\n",
              "    </tr>\n",
              "    <tr>\n",
              "      <th>MUN</th>\n",
              "      <td>42</td>\n",
              "      <td>42</td>\n",
              "      <td>42</td>\n",
              "      <td>42</td>\n",
              "      <td>42</td>\n",
              "      <td>42</td>\n",
              "      <td>42</td>\n",
              "      <td>42</td>\n",
              "      <td>42</td>\n",
              "      <td>42</td>\n",
              "      <td>42</td>\n",
              "      <td>42</td>\n",
              "      <td>42</td>\n",
              "      <td>42</td>\n",
              "      <td>42</td>\n",
              "      <td>42</td>\n",
              "      <td>42</td>\n",
              "      <td>42</td>\n",
              "      <td>42</td>\n",
              "      <td>42</td>\n",
              "      <td>42</td>\n",
              "      <td>42</td>\n",
              "      <td>42</td>\n",
              "      <td>42</td>\n",
              "      <td>42</td>\n",
              "      <td>42</td>\n",
              "      <td>42</td>\n",
              "      <td>42</td>\n",
              "      <td>42</td>\n",
              "    </tr>\n",
              "    <tr>\n",
              "      <th>KWI</th>\n",
              "      <td>32</td>\n",
              "      <td>32</td>\n",
              "      <td>32</td>\n",
              "      <td>32</td>\n",
              "      <td>32</td>\n",
              "      <td>32</td>\n",
              "      <td>32</td>\n",
              "      <td>32</td>\n",
              "      <td>32</td>\n",
              "      <td>32</td>\n",
              "      <td>32</td>\n",
              "      <td>32</td>\n",
              "      <td>32</td>\n",
              "      <td>32</td>\n",
              "      <td>32</td>\n",
              "      <td>32</td>\n",
              "      <td>32</td>\n",
              "      <td>32</td>\n",
              "      <td>32</td>\n",
              "      <td>32</td>\n",
              "      <td>32</td>\n",
              "      <td>32</td>\n",
              "      <td>32</td>\n",
              "      <td>32</td>\n",
              "      <td>32</td>\n",
              "      <td>32</td>\n",
              "      <td>32</td>\n",
              "      <td>32</td>\n",
              "      <td>32</td>\n",
              "    </tr>\n",
              "    <tr>\n",
              "      <th>ENN</th>\n",
              "      <td>28</td>\n",
              "      <td>28</td>\n",
              "      <td>28</td>\n",
              "      <td>28</td>\n",
              "      <td>28</td>\n",
              "      <td>28</td>\n",
              "      <td>28</td>\n",
              "      <td>28</td>\n",
              "      <td>28</td>\n",
              "      <td>28</td>\n",
              "      <td>28</td>\n",
              "      <td>28</td>\n",
              "      <td>28</td>\n",
              "      <td>28</td>\n",
              "      <td>28</td>\n",
              "      <td>28</td>\n",
              "      <td>28</td>\n",
              "      <td>28</td>\n",
              "      <td>28</td>\n",
              "      <td>28</td>\n",
              "      <td>28</td>\n",
              "      <td>28</td>\n",
              "      <td>28</td>\n",
              "      <td>28</td>\n",
              "      <td>28</td>\n",
              "      <td>28</td>\n",
              "      <td>28</td>\n",
              "      <td>28</td>\n",
              "      <td>28</td>\n",
              "    </tr>\n",
              "    <tr>\n",
              "      <th>KDK</th>\n",
              "      <td>26</td>\n",
              "      <td>26</td>\n",
              "      <td>26</td>\n",
              "      <td>26</td>\n",
              "      <td>26</td>\n",
              "      <td>26</td>\n",
              "      <td>26</td>\n",
              "      <td>26</td>\n",
              "      <td>26</td>\n",
              "      <td>26</td>\n",
              "      <td>26</td>\n",
              "      <td>26</td>\n",
              "      <td>26</td>\n",
              "      <td>26</td>\n",
              "      <td>26</td>\n",
              "      <td>26</td>\n",
              "      <td>26</td>\n",
              "      <td>26</td>\n",
              "      <td>26</td>\n",
              "      <td>26</td>\n",
              "      <td>26</td>\n",
              "      <td>26</td>\n",
              "      <td>26</td>\n",
              "      <td>26</td>\n",
              "      <td>26</td>\n",
              "      <td>26</td>\n",
              "      <td>26</td>\n",
              "      <td>26</td>\n",
              "      <td>26</td>\n",
              "    </tr>\n",
              "  </tbody>\n",
              "</table>\n",
              "</div>"
            ],
            "text/plain": [
              "                           Departure_YMD_LMT  ...  Operation_Initials_Reduced\n",
              "Inbound_Departure_Airport                     ...                            \n",
              "Unknown                               738646  ...                      738646\n",
              "IST                                    33814  ...                       33814\n",
              "SKW                                    21757  ...                       21757\n",
              "EST                                    14130  ...                       14130\n",
              "ISL                                       47  ...                          47\n",
              "JED                                       46  ...                          46\n",
              "MUN                                       42  ...                          42\n",
              "KWI                                       32  ...                          32\n",
              "ENN                                       28  ...                          28\n",
              "KDK                                       26  ...                          26\n",
              "\n",
              "[10 rows x 29 columns]"
            ]
          },
          "metadata": {
            "tags": []
          },
          "execution_count": 178
        }
      ]
    },
    {
      "cell_type": "code",
      "metadata": {
        "id": "-77cur3DmZQV",
        "colab_type": "code",
        "outputId": "06458a8c-68b7-41a7-a7d4-1bfed4b6f50f",
        "colab": {
          "base_uri": "https://localhost:8080/",
          "height": 0
        }
      },
      "source": [
        "result_df.groupby('Inbound_Departure_Airport').count().sort_values('Operation_Airport', ascending=False).head(10)"
      ],
      "execution_count": 179,
      "outputs": [
        {
          "output_type": "execute_result",
          "data": {
            "text/html": [
              "<div>\n",
              "<style scoped>\n",
              "    .dataframe tbody tr th:only-of-type {\n",
              "        vertical-align: middle;\n",
              "    }\n",
              "\n",
              "    .dataframe tbody tr th {\n",
              "        vertical-align: top;\n",
              "    }\n",
              "\n",
              "    .dataframe thead th {\n",
              "        text-align: right;\n",
              "    }\n",
              "</style>\n",
              "<table border=\"1\" class=\"dataframe\">\n",
              "  <thead>\n",
              "    <tr style=\"text-align: right;\">\n",
              "      <th></th>\n",
              "      <th>Departure_YMD_LMT</th>\n",
              "      <th>Operation_YMD_LMT</th>\n",
              "      <th>Operation_Airport</th>\n",
              "      <th>Terminal_Number</th>\n",
              "      <th>Terminal_Name</th>\n",
              "      <th>Operation_Initials</th>\n",
              "      <th>Operation_Channel</th>\n",
              "      <th>Passenger_Title</th>\n",
              "      <th>Passenger_Gender</th>\n",
              "      <th>Outbound_Arrival_Airport</th>\n",
              "      <th>SWC_FLY</th>\n",
              "      <th>Cabin_Class</th>\n",
              "      <th>SWC_FQTV_Member</th>\n",
              "      <th>Passenger_Baggage_Count</th>\n",
              "      <th>Passenger_Baggage_Weight</th>\n",
              "      <th>SWC_Staff</th>\n",
              "      <th>SWC_CIP_Passenger</th>\n",
              "      <th>SWC_VIP_Passenger</th>\n",
              "      <th>SWC_Has_Infant</th>\n",
              "      <th>Operation_Count</th>\n",
              "      <th>Operation_Channel_Group</th>\n",
              "      <th>Operation_Sonic_Code_Flag</th>\n",
              "      <th>Early_Check_In</th>\n",
              "      <th>Early_Check_In_Status</th>\n",
              "      <th>Direct_Flight</th>\n",
              "      <th>Checkin_Inbound</th>\n",
              "      <th>Checkin_Outbound</th>\n",
              "      <th>Operation_Airport_Reduced</th>\n",
              "      <th>Operation_Initials_Reduced</th>\n",
              "    </tr>\n",
              "    <tr>\n",
              "      <th>Inbound_Departure_Airport</th>\n",
              "      <th></th>\n",
              "      <th></th>\n",
              "      <th></th>\n",
              "      <th></th>\n",
              "      <th></th>\n",
              "      <th></th>\n",
              "      <th></th>\n",
              "      <th></th>\n",
              "      <th></th>\n",
              "      <th></th>\n",
              "      <th></th>\n",
              "      <th></th>\n",
              "      <th></th>\n",
              "      <th></th>\n",
              "      <th></th>\n",
              "      <th></th>\n",
              "      <th></th>\n",
              "      <th></th>\n",
              "      <th></th>\n",
              "      <th></th>\n",
              "      <th></th>\n",
              "      <th></th>\n",
              "      <th></th>\n",
              "      <th></th>\n",
              "      <th></th>\n",
              "      <th></th>\n",
              "      <th></th>\n",
              "      <th></th>\n",
              "      <th></th>\n",
              "    </tr>\n",
              "  </thead>\n",
              "  <tbody>\n",
              "    <tr>\n",
              "      <th>Unknown</th>\n",
              "      <td>115240</td>\n",
              "      <td>115240</td>\n",
              "      <td>115240</td>\n",
              "      <td>115240</td>\n",
              "      <td>115240</td>\n",
              "      <td>115240</td>\n",
              "      <td>115240</td>\n",
              "      <td>115240</td>\n",
              "      <td>115240</td>\n",
              "      <td>115240</td>\n",
              "      <td>115240</td>\n",
              "      <td>115240</td>\n",
              "      <td>115240</td>\n",
              "      <td>115240</td>\n",
              "      <td>115240</td>\n",
              "      <td>115240</td>\n",
              "      <td>115240</td>\n",
              "      <td>115240</td>\n",
              "      <td>115240</td>\n",
              "      <td>115240</td>\n",
              "      <td>115240</td>\n",
              "      <td>115240</td>\n",
              "      <td>115240</td>\n",
              "      <td>115240</td>\n",
              "      <td>115240</td>\n",
              "      <td>115240</td>\n",
              "      <td>115240</td>\n",
              "      <td>115240</td>\n",
              "      <td>115240</td>\n",
              "    </tr>\n",
              "    <tr>\n",
              "      <th>IST</th>\n",
              "      <td>3440</td>\n",
              "      <td>3440</td>\n",
              "      <td>3440</td>\n",
              "      <td>3440</td>\n",
              "      <td>3440</td>\n",
              "      <td>3440</td>\n",
              "      <td>3440</td>\n",
              "      <td>3440</td>\n",
              "      <td>3440</td>\n",
              "      <td>3440</td>\n",
              "      <td>3440</td>\n",
              "      <td>3440</td>\n",
              "      <td>3440</td>\n",
              "      <td>3440</td>\n",
              "      <td>3440</td>\n",
              "      <td>3440</td>\n",
              "      <td>3440</td>\n",
              "      <td>3440</td>\n",
              "      <td>3440</td>\n",
              "      <td>3440</td>\n",
              "      <td>3440</td>\n",
              "      <td>3440</td>\n",
              "      <td>3440</td>\n",
              "      <td>3440</td>\n",
              "      <td>3440</td>\n",
              "      <td>3440</td>\n",
              "      <td>3440</td>\n",
              "      <td>3440</td>\n",
              "      <td>3440</td>\n",
              "    </tr>\n",
              "    <tr>\n",
              "      <th>SKW</th>\n",
              "      <td>2384</td>\n",
              "      <td>2384</td>\n",
              "      <td>2384</td>\n",
              "      <td>2384</td>\n",
              "      <td>2384</td>\n",
              "      <td>2384</td>\n",
              "      <td>2384</td>\n",
              "      <td>2384</td>\n",
              "      <td>2384</td>\n",
              "      <td>2384</td>\n",
              "      <td>2384</td>\n",
              "      <td>2384</td>\n",
              "      <td>2384</td>\n",
              "      <td>2384</td>\n",
              "      <td>2384</td>\n",
              "      <td>2384</td>\n",
              "      <td>2384</td>\n",
              "      <td>2384</td>\n",
              "      <td>2384</td>\n",
              "      <td>2384</td>\n",
              "      <td>2384</td>\n",
              "      <td>2384</td>\n",
              "      <td>2384</td>\n",
              "      <td>2384</td>\n",
              "      <td>2384</td>\n",
              "      <td>2384</td>\n",
              "      <td>2384</td>\n",
              "      <td>2384</td>\n",
              "      <td>2384</td>\n",
              "    </tr>\n",
              "    <tr>\n",
              "      <th>EST</th>\n",
              "      <td>514</td>\n",
              "      <td>514</td>\n",
              "      <td>514</td>\n",
              "      <td>514</td>\n",
              "      <td>514</td>\n",
              "      <td>514</td>\n",
              "      <td>514</td>\n",
              "      <td>514</td>\n",
              "      <td>514</td>\n",
              "      <td>514</td>\n",
              "      <td>514</td>\n",
              "      <td>514</td>\n",
              "      <td>514</td>\n",
              "      <td>514</td>\n",
              "      <td>514</td>\n",
              "      <td>514</td>\n",
              "      <td>514</td>\n",
              "      <td>514</td>\n",
              "      <td>514</td>\n",
              "      <td>514</td>\n",
              "      <td>514</td>\n",
              "      <td>514</td>\n",
              "      <td>514</td>\n",
              "      <td>514</td>\n",
              "      <td>514</td>\n",
              "      <td>514</td>\n",
              "      <td>514</td>\n",
              "      <td>514</td>\n",
              "      <td>514</td>\n",
              "    </tr>\n",
              "    <tr>\n",
              "      <th>ENN</th>\n",
              "      <td>91</td>\n",
              "      <td>91</td>\n",
              "      <td>91</td>\n",
              "      <td>91</td>\n",
              "      <td>91</td>\n",
              "      <td>91</td>\n",
              "      <td>91</td>\n",
              "      <td>91</td>\n",
              "      <td>91</td>\n",
              "      <td>91</td>\n",
              "      <td>91</td>\n",
              "      <td>91</td>\n",
              "      <td>91</td>\n",
              "      <td>91</td>\n",
              "      <td>91</td>\n",
              "      <td>91</td>\n",
              "      <td>91</td>\n",
              "      <td>91</td>\n",
              "      <td>91</td>\n",
              "      <td>91</td>\n",
              "      <td>91</td>\n",
              "      <td>91</td>\n",
              "      <td>91</td>\n",
              "      <td>91</td>\n",
              "      <td>91</td>\n",
              "      <td>91</td>\n",
              "      <td>91</td>\n",
              "      <td>91</td>\n",
              "      <td>91</td>\n",
              "    </tr>\n",
              "    <tr>\n",
              "      <th>MED</th>\n",
              "      <td>77</td>\n",
              "      <td>77</td>\n",
              "      <td>77</td>\n",
              "      <td>77</td>\n",
              "      <td>77</td>\n",
              "      <td>77</td>\n",
              "      <td>77</td>\n",
              "      <td>77</td>\n",
              "      <td>77</td>\n",
              "      <td>77</td>\n",
              "      <td>77</td>\n",
              "      <td>77</td>\n",
              "      <td>77</td>\n",
              "      <td>77</td>\n",
              "      <td>77</td>\n",
              "      <td>77</td>\n",
              "      <td>77</td>\n",
              "      <td>77</td>\n",
              "      <td>77</td>\n",
              "      <td>77</td>\n",
              "      <td>77</td>\n",
              "      <td>77</td>\n",
              "      <td>77</td>\n",
              "      <td>77</td>\n",
              "      <td>77</td>\n",
              "      <td>77</td>\n",
              "      <td>77</td>\n",
              "      <td>77</td>\n",
              "      <td>77</td>\n",
              "    </tr>\n",
              "    <tr>\n",
              "      <th>TLV</th>\n",
              "      <td>69</td>\n",
              "      <td>69</td>\n",
              "      <td>69</td>\n",
              "      <td>69</td>\n",
              "      <td>69</td>\n",
              "      <td>69</td>\n",
              "      <td>69</td>\n",
              "      <td>69</td>\n",
              "      <td>69</td>\n",
              "      <td>69</td>\n",
              "      <td>69</td>\n",
              "      <td>69</td>\n",
              "      <td>69</td>\n",
              "      <td>69</td>\n",
              "      <td>69</td>\n",
              "      <td>69</td>\n",
              "      <td>69</td>\n",
              "      <td>69</td>\n",
              "      <td>69</td>\n",
              "      <td>69</td>\n",
              "      <td>69</td>\n",
              "      <td>69</td>\n",
              "      <td>69</td>\n",
              "      <td>69</td>\n",
              "      <td>69</td>\n",
              "      <td>69</td>\n",
              "      <td>69</td>\n",
              "      <td>69</td>\n",
              "      <td>69</td>\n",
              "    </tr>\n",
              "    <tr>\n",
              "      <th>KWI</th>\n",
              "      <td>40</td>\n",
              "      <td>40</td>\n",
              "      <td>40</td>\n",
              "      <td>40</td>\n",
              "      <td>40</td>\n",
              "      <td>40</td>\n",
              "      <td>40</td>\n",
              "      <td>40</td>\n",
              "      <td>40</td>\n",
              "      <td>40</td>\n",
              "      <td>40</td>\n",
              "      <td>40</td>\n",
              "      <td>40</td>\n",
              "      <td>40</td>\n",
              "      <td>40</td>\n",
              "      <td>40</td>\n",
              "      <td>40</td>\n",
              "      <td>40</td>\n",
              "      <td>40</td>\n",
              "      <td>40</td>\n",
              "      <td>40</td>\n",
              "      <td>40</td>\n",
              "      <td>40</td>\n",
              "      <td>40</td>\n",
              "      <td>40</td>\n",
              "      <td>40</td>\n",
              "      <td>40</td>\n",
              "      <td>40</td>\n",
              "      <td>40</td>\n",
              "    </tr>\n",
              "    <tr>\n",
              "      <th>HKM</th>\n",
              "      <td>25</td>\n",
              "      <td>25</td>\n",
              "      <td>25</td>\n",
              "      <td>25</td>\n",
              "      <td>25</td>\n",
              "      <td>25</td>\n",
              "      <td>25</td>\n",
              "      <td>25</td>\n",
              "      <td>25</td>\n",
              "      <td>25</td>\n",
              "      <td>25</td>\n",
              "      <td>25</td>\n",
              "      <td>25</td>\n",
              "      <td>25</td>\n",
              "      <td>25</td>\n",
              "      <td>25</td>\n",
              "      <td>25</td>\n",
              "      <td>25</td>\n",
              "      <td>25</td>\n",
              "      <td>25</td>\n",
              "      <td>25</td>\n",
              "      <td>25</td>\n",
              "      <td>25</td>\n",
              "      <td>25</td>\n",
              "      <td>25</td>\n",
              "      <td>25</td>\n",
              "      <td>25</td>\n",
              "      <td>25</td>\n",
              "      <td>25</td>\n",
              "    </tr>\n",
              "    <tr>\n",
              "      <th>TXL</th>\n",
              "      <td>12</td>\n",
              "      <td>12</td>\n",
              "      <td>12</td>\n",
              "      <td>12</td>\n",
              "      <td>12</td>\n",
              "      <td>12</td>\n",
              "      <td>12</td>\n",
              "      <td>12</td>\n",
              "      <td>12</td>\n",
              "      <td>12</td>\n",
              "      <td>12</td>\n",
              "      <td>12</td>\n",
              "      <td>12</td>\n",
              "      <td>12</td>\n",
              "      <td>12</td>\n",
              "      <td>12</td>\n",
              "      <td>12</td>\n",
              "      <td>12</td>\n",
              "      <td>12</td>\n",
              "      <td>12</td>\n",
              "      <td>12</td>\n",
              "      <td>12</td>\n",
              "      <td>12</td>\n",
              "      <td>12</td>\n",
              "      <td>12</td>\n",
              "      <td>12</td>\n",
              "      <td>12</td>\n",
              "      <td>12</td>\n",
              "      <td>12</td>\n",
              "    </tr>\n",
              "  </tbody>\n",
              "</table>\n",
              "</div>"
            ],
            "text/plain": [
              "                           Departure_YMD_LMT  ...  Operation_Initials_Reduced\n",
              "Inbound_Departure_Airport                     ...                            \n",
              "Unknown                               115240  ...                      115240\n",
              "IST                                     3440  ...                        3440\n",
              "SKW                                     2384  ...                        2384\n",
              "EST                                      514  ...                         514\n",
              "ENN                                       91  ...                          91\n",
              "MED                                       77  ...                          77\n",
              "TLV                                       69  ...                          69\n",
              "KWI                                       40  ...                          40\n",
              "HKM                                       25  ...                          25\n",
              "TXL                                       12  ...                          12\n",
              "\n",
              "[10 rows x 29 columns]"
            ]
          },
          "metadata": {
            "tags": []
          },
          "execution_count": 179
        }
      ]
    },
    {
      "cell_type": "code",
      "metadata": {
        "id": "5vhrnhgnmlSa",
        "colab_type": "code",
        "colab": {}
      },
      "source": [
        "train_df['Inbound_Departure_Airport_Reduced'] = np.where((train_df.Inbound_Departure_Airport == 'Unknown') | (train_df.Inbound_Departure_Airport == 'IST') | (train_df.Inbound_Departure_Airport == 'SKW') | (train_df.Inbound_Departure_Airport == 'EST'), train_df.Inbound_Departure_Airport, 'OTHERS')\n",
        "result_df['Inbound_Departure_Airport_Reduced'] = np.where((result_df.Inbound_Departure_Airport == 'Unknown') | (result_df.Inbound_Departure_Airport == 'IST') | (result_df.Inbound_Departure_Airport == 'SKW') | (result_df.Inbound_Departure_Airport == 'EST'), result_df.Inbound_Departure_Airport, 'OTHERS')"
      ],
      "execution_count": 0,
      "outputs": []
    },
    {
      "cell_type": "markdown",
      "metadata": {
        "id": "sCaCIlC8nFqg",
        "colab_type": "text"
      },
      "source": [
        "### Outbound Arrival Airport Reduced\n",
        "\n",
        "The most common *Outbound Departure Airports* are unknowns (those with no outbound flight) and KDT for the test and the training set both. So we kept those and grouped the others as OTHERS."
      ]
    },
    {
      "cell_type": "code",
      "metadata": {
        "id": "4HWcqsLJnRxi",
        "colab_type": "code",
        "outputId": "2819067f-fc84-4675-ab63-9655a292555c",
        "colab": {
          "base_uri": "https://localhost:8080/",
          "height": 0
        }
      },
      "source": [
        "train_df.groupby('Outbound_Arrival_Airport').count().sort_values('Operation_Airport', ascending=False).head(10)"
      ],
      "execution_count": 181,
      "outputs": [
        {
          "output_type": "execute_result",
          "data": {
            "text/html": [
              "<div>\n",
              "<style scoped>\n",
              "    .dataframe tbody tr th:only-of-type {\n",
              "        vertical-align: middle;\n",
              "    }\n",
              "\n",
              "    .dataframe tbody tr th {\n",
              "        vertical-align: top;\n",
              "    }\n",
              "\n",
              "    .dataframe thead th {\n",
              "        text-align: right;\n",
              "    }\n",
              "</style>\n",
              "<table border=\"1\" class=\"dataframe\">\n",
              "  <thead>\n",
              "    <tr style=\"text-align: right;\">\n",
              "      <th></th>\n",
              "      <th>Departure_YMD_LMT</th>\n",
              "      <th>Operation_YMD_LMT</th>\n",
              "      <th>Operation_Airport</th>\n",
              "      <th>Terminal_Number</th>\n",
              "      <th>Terminal_Name</th>\n",
              "      <th>Operation_Initials</th>\n",
              "      <th>Operation_Channel</th>\n",
              "      <th>Passenger_Title</th>\n",
              "      <th>Passenger_Gender</th>\n",
              "      <th>Inbound_Departure_Airport</th>\n",
              "      <th>SWC_FLY</th>\n",
              "      <th>Cabin_Class</th>\n",
              "      <th>SWC_FQTV_Member</th>\n",
              "      <th>Passenger_Baggage_Count</th>\n",
              "      <th>Passenger_Baggage_Weight</th>\n",
              "      <th>SWC_Staff</th>\n",
              "      <th>SWC_CIP_Passenger</th>\n",
              "      <th>SWC_VIP_Passenger</th>\n",
              "      <th>SWC_Has_Infant</th>\n",
              "      <th>Operation_Count</th>\n",
              "      <th>Operation_Channel_Group</th>\n",
              "      <th>Operation_Sonic_Code_Flag</th>\n",
              "      <th>Early_Check_In</th>\n",
              "      <th>Early_Check_In_Status</th>\n",
              "      <th>Direct_Flight</th>\n",
              "      <th>Checkin_Inbound</th>\n",
              "      <th>Checkin_Outbound</th>\n",
              "      <th>Operation_Airport_Reduced</th>\n",
              "      <th>Operation_Initials_Reduced</th>\n",
              "      <th>Inbound_Departure_Airport_Reduced</th>\n",
              "    </tr>\n",
              "    <tr>\n",
              "      <th>Outbound_Arrival_Airport</th>\n",
              "      <th></th>\n",
              "      <th></th>\n",
              "      <th></th>\n",
              "      <th></th>\n",
              "      <th></th>\n",
              "      <th></th>\n",
              "      <th></th>\n",
              "      <th></th>\n",
              "      <th></th>\n",
              "      <th></th>\n",
              "      <th></th>\n",
              "      <th></th>\n",
              "      <th></th>\n",
              "      <th></th>\n",
              "      <th></th>\n",
              "      <th></th>\n",
              "      <th></th>\n",
              "      <th></th>\n",
              "      <th></th>\n",
              "      <th></th>\n",
              "      <th></th>\n",
              "      <th></th>\n",
              "      <th></th>\n",
              "      <th></th>\n",
              "      <th></th>\n",
              "      <th></th>\n",
              "      <th></th>\n",
              "      <th></th>\n",
              "      <th></th>\n",
              "      <th></th>\n",
              "    </tr>\n",
              "  </thead>\n",
              "  <tbody>\n",
              "    <tr>\n",
              "      <th>Unknown</th>\n",
              "      <td>520977</td>\n",
              "      <td>520977</td>\n",
              "      <td>520977</td>\n",
              "      <td>520977</td>\n",
              "      <td>520977</td>\n",
              "      <td>520977</td>\n",
              "      <td>520977</td>\n",
              "      <td>520977</td>\n",
              "      <td>520977</td>\n",
              "      <td>520977</td>\n",
              "      <td>520977</td>\n",
              "      <td>520977</td>\n",
              "      <td>520977</td>\n",
              "      <td>520977</td>\n",
              "      <td>520977</td>\n",
              "      <td>520977</td>\n",
              "      <td>520977</td>\n",
              "      <td>520977</td>\n",
              "      <td>520977</td>\n",
              "      <td>520977</td>\n",
              "      <td>520977</td>\n",
              "      <td>520977</td>\n",
              "      <td>520977</td>\n",
              "      <td>520977</td>\n",
              "      <td>520977</td>\n",
              "      <td>520977</td>\n",
              "      <td>520977</td>\n",
              "      <td>520977</td>\n",
              "      <td>520977</td>\n",
              "      <td>520977</td>\n",
              "    </tr>\n",
              "    <tr>\n",
              "      <th>KDT</th>\n",
              "      <td>35109</td>\n",
              "      <td>35109</td>\n",
              "      <td>35109</td>\n",
              "      <td>35109</td>\n",
              "      <td>35109</td>\n",
              "      <td>35109</td>\n",
              "      <td>35109</td>\n",
              "      <td>35109</td>\n",
              "      <td>35109</td>\n",
              "      <td>35109</td>\n",
              "      <td>35109</td>\n",
              "      <td>35109</td>\n",
              "      <td>35109</td>\n",
              "      <td>35109</td>\n",
              "      <td>35109</td>\n",
              "      <td>35109</td>\n",
              "      <td>35109</td>\n",
              "      <td>35109</td>\n",
              "      <td>35109</td>\n",
              "      <td>35109</td>\n",
              "      <td>35109</td>\n",
              "      <td>35109</td>\n",
              "      <td>35109</td>\n",
              "      <td>35109</td>\n",
              "      <td>35109</td>\n",
              "      <td>35109</td>\n",
              "      <td>35109</td>\n",
              "      <td>35109</td>\n",
              "      <td>35109</td>\n",
              "      <td>35109</td>\n",
              "    </tr>\n",
              "    <tr>\n",
              "      <th>ERZ</th>\n",
              "      <td>8691</td>\n",
              "      <td>8691</td>\n",
              "      <td>8691</td>\n",
              "      <td>8691</td>\n",
              "      <td>8691</td>\n",
              "      <td>8691</td>\n",
              "      <td>8691</td>\n",
              "      <td>8691</td>\n",
              "      <td>8691</td>\n",
              "      <td>8691</td>\n",
              "      <td>8691</td>\n",
              "      <td>8691</td>\n",
              "      <td>8691</td>\n",
              "      <td>8691</td>\n",
              "      <td>8691</td>\n",
              "      <td>8691</td>\n",
              "      <td>8691</td>\n",
              "      <td>8691</td>\n",
              "      <td>8691</td>\n",
              "      <td>8691</td>\n",
              "      <td>8691</td>\n",
              "      <td>8691</td>\n",
              "      <td>8691</td>\n",
              "      <td>8691</td>\n",
              "      <td>8691</td>\n",
              "      <td>8691</td>\n",
              "      <td>8691</td>\n",
              "      <td>8691</td>\n",
              "      <td>8691</td>\n",
              "      <td>8691</td>\n",
              "    </tr>\n",
              "    <tr>\n",
              "      <th>TZX</th>\n",
              "      <td>6433</td>\n",
              "      <td>6433</td>\n",
              "      <td>6433</td>\n",
              "      <td>6433</td>\n",
              "      <td>6433</td>\n",
              "      <td>6433</td>\n",
              "      <td>6433</td>\n",
              "      <td>6433</td>\n",
              "      <td>6433</td>\n",
              "      <td>6433</td>\n",
              "      <td>6433</td>\n",
              "      <td>6433</td>\n",
              "      <td>6433</td>\n",
              "      <td>6433</td>\n",
              "      <td>6433</td>\n",
              "      <td>6433</td>\n",
              "      <td>6433</td>\n",
              "      <td>6433</td>\n",
              "      <td>6433</td>\n",
              "      <td>6433</td>\n",
              "      <td>6433</td>\n",
              "      <td>6433</td>\n",
              "      <td>6433</td>\n",
              "      <td>6433</td>\n",
              "      <td>6433</td>\n",
              "      <td>6433</td>\n",
              "      <td>6433</td>\n",
              "      <td>6433</td>\n",
              "      <td>6433</td>\n",
              "      <td>6433</td>\n",
              "    </tr>\n",
              "    <tr>\n",
              "      <th>ERN</th>\n",
              "      <td>6034</td>\n",
              "      <td>6034</td>\n",
              "      <td>6034</td>\n",
              "      <td>6034</td>\n",
              "      <td>6034</td>\n",
              "      <td>6034</td>\n",
              "      <td>6034</td>\n",
              "      <td>6034</td>\n",
              "      <td>6034</td>\n",
              "      <td>6034</td>\n",
              "      <td>6034</td>\n",
              "      <td>6034</td>\n",
              "      <td>6034</td>\n",
              "      <td>6034</td>\n",
              "      <td>6034</td>\n",
              "      <td>6034</td>\n",
              "      <td>6034</td>\n",
              "      <td>6034</td>\n",
              "      <td>6034</td>\n",
              "      <td>6034</td>\n",
              "      <td>6034</td>\n",
              "      <td>6034</td>\n",
              "      <td>6034</td>\n",
              "      <td>6034</td>\n",
              "      <td>6034</td>\n",
              "      <td>6034</td>\n",
              "      <td>6034</td>\n",
              "      <td>6034</td>\n",
              "      <td>6034</td>\n",
              "      <td>6034</td>\n",
              "    </tr>\n",
              "    <tr>\n",
              "      <th>NKT</th>\n",
              "      <td>5702</td>\n",
              "      <td>5702</td>\n",
              "      <td>5702</td>\n",
              "      <td>5702</td>\n",
              "      <td>5702</td>\n",
              "      <td>5702</td>\n",
              "      <td>5702</td>\n",
              "      <td>5702</td>\n",
              "      <td>5702</td>\n",
              "      <td>5702</td>\n",
              "      <td>5702</td>\n",
              "      <td>5702</td>\n",
              "      <td>5702</td>\n",
              "      <td>5702</td>\n",
              "      <td>5702</td>\n",
              "      <td>5702</td>\n",
              "      <td>5702</td>\n",
              "      <td>5702</td>\n",
              "      <td>5702</td>\n",
              "      <td>5702</td>\n",
              "      <td>5702</td>\n",
              "      <td>5702</td>\n",
              "      <td>5702</td>\n",
              "      <td>5702</td>\n",
              "      <td>5702</td>\n",
              "      <td>5702</td>\n",
              "      <td>5702</td>\n",
              "      <td>5702</td>\n",
              "      <td>5702</td>\n",
              "      <td>5702</td>\n",
              "    </tr>\n",
              "    <tr>\n",
              "      <th>MXP</th>\n",
              "      <td>5121</td>\n",
              "      <td>5121</td>\n",
              "      <td>5121</td>\n",
              "      <td>5121</td>\n",
              "      <td>5121</td>\n",
              "      <td>5121</td>\n",
              "      <td>5121</td>\n",
              "      <td>5121</td>\n",
              "      <td>5121</td>\n",
              "      <td>5121</td>\n",
              "      <td>5121</td>\n",
              "      <td>5121</td>\n",
              "      <td>5121</td>\n",
              "      <td>5121</td>\n",
              "      <td>5121</td>\n",
              "      <td>5121</td>\n",
              "      <td>5121</td>\n",
              "      <td>5121</td>\n",
              "      <td>5121</td>\n",
              "      <td>5121</td>\n",
              "      <td>5121</td>\n",
              "      <td>5121</td>\n",
              "      <td>5121</td>\n",
              "      <td>5121</td>\n",
              "      <td>5121</td>\n",
              "      <td>5121</td>\n",
              "      <td>5121</td>\n",
              "      <td>5121</td>\n",
              "      <td>5121</td>\n",
              "      <td>5121</td>\n",
              "    </tr>\n",
              "    <tr>\n",
              "      <th>GZT</th>\n",
              "      <td>5075</td>\n",
              "      <td>5075</td>\n",
              "      <td>5075</td>\n",
              "      <td>5075</td>\n",
              "      <td>5075</td>\n",
              "      <td>5075</td>\n",
              "      <td>5075</td>\n",
              "      <td>5075</td>\n",
              "      <td>5075</td>\n",
              "      <td>5075</td>\n",
              "      <td>5075</td>\n",
              "      <td>5075</td>\n",
              "      <td>5075</td>\n",
              "      <td>5075</td>\n",
              "      <td>5075</td>\n",
              "      <td>5075</td>\n",
              "      <td>5075</td>\n",
              "      <td>5075</td>\n",
              "      <td>5075</td>\n",
              "      <td>5075</td>\n",
              "      <td>5075</td>\n",
              "      <td>5075</td>\n",
              "      <td>5075</td>\n",
              "      <td>5075</td>\n",
              "      <td>5075</td>\n",
              "      <td>5075</td>\n",
              "      <td>5075</td>\n",
              "      <td>5075</td>\n",
              "      <td>5075</td>\n",
              "      <td>5075</td>\n",
              "    </tr>\n",
              "    <tr>\n",
              "      <th>NDG</th>\n",
              "      <td>4451</td>\n",
              "      <td>4451</td>\n",
              "      <td>4451</td>\n",
              "      <td>4451</td>\n",
              "      <td>4451</td>\n",
              "      <td>4451</td>\n",
              "      <td>4451</td>\n",
              "      <td>4451</td>\n",
              "      <td>4451</td>\n",
              "      <td>4451</td>\n",
              "      <td>4451</td>\n",
              "      <td>4451</td>\n",
              "      <td>4451</td>\n",
              "      <td>4451</td>\n",
              "      <td>4451</td>\n",
              "      <td>4451</td>\n",
              "      <td>4451</td>\n",
              "      <td>4451</td>\n",
              "      <td>4451</td>\n",
              "      <td>4451</td>\n",
              "      <td>4451</td>\n",
              "      <td>4451</td>\n",
              "      <td>4451</td>\n",
              "      <td>4451</td>\n",
              "      <td>4451</td>\n",
              "      <td>4451</td>\n",
              "      <td>4451</td>\n",
              "      <td>4451</td>\n",
              "      <td>4451</td>\n",
              "      <td>4451</td>\n",
              "    </tr>\n",
              "    <tr>\n",
              "      <th>OGU</th>\n",
              "      <td>4350</td>\n",
              "      <td>4350</td>\n",
              "      <td>4350</td>\n",
              "      <td>4350</td>\n",
              "      <td>4350</td>\n",
              "      <td>4350</td>\n",
              "      <td>4350</td>\n",
              "      <td>4350</td>\n",
              "      <td>4350</td>\n",
              "      <td>4350</td>\n",
              "      <td>4350</td>\n",
              "      <td>4350</td>\n",
              "      <td>4350</td>\n",
              "      <td>4350</td>\n",
              "      <td>4350</td>\n",
              "      <td>4350</td>\n",
              "      <td>4350</td>\n",
              "      <td>4350</td>\n",
              "      <td>4350</td>\n",
              "      <td>4350</td>\n",
              "      <td>4350</td>\n",
              "      <td>4350</td>\n",
              "      <td>4350</td>\n",
              "      <td>4350</td>\n",
              "      <td>4350</td>\n",
              "      <td>4350</td>\n",
              "      <td>4350</td>\n",
              "      <td>4350</td>\n",
              "      <td>4350</td>\n",
              "      <td>4350</td>\n",
              "    </tr>\n",
              "  </tbody>\n",
              "</table>\n",
              "</div>"
            ],
            "text/plain": [
              "                          Departure_YMD_LMT  ...  Inbound_Departure_Airport_Reduced\n",
              "Outbound_Arrival_Airport                     ...                                   \n",
              "Unknown                              520977  ...                             520977\n",
              "KDT                                   35109  ...                              35109\n",
              "ERZ                                    8691  ...                               8691\n",
              "TZX                                    6433  ...                               6433\n",
              "ERN                                    6034  ...                               6034\n",
              "NKT                                    5702  ...                               5702\n",
              "MXP                                    5121  ...                               5121\n",
              "GZT                                    5075  ...                               5075\n",
              "NDG                                    4451  ...                               4451\n",
              "OGU                                    4350  ...                               4350\n",
              "\n",
              "[10 rows x 30 columns]"
            ]
          },
          "metadata": {
            "tags": []
          },
          "execution_count": 181
        }
      ]
    },
    {
      "cell_type": "code",
      "metadata": {
        "id": "HTq6wrcioGav",
        "colab_type": "code",
        "outputId": "2e9742bd-b907-4ee7-f379-676d0b2e5e08",
        "colab": {
          "base_uri": "https://localhost:8080/",
          "height": 0
        }
      },
      "source": [
        "result_df.groupby('Outbound_Arrival_Airport').count().sort_values('Operation_Airport', ascending=False).head(10)"
      ],
      "execution_count": 182,
      "outputs": [
        {
          "output_type": "execute_result",
          "data": {
            "text/html": [
              "<div>\n",
              "<style scoped>\n",
              "    .dataframe tbody tr th:only-of-type {\n",
              "        vertical-align: middle;\n",
              "    }\n",
              "\n",
              "    .dataframe tbody tr th {\n",
              "        vertical-align: top;\n",
              "    }\n",
              "\n",
              "    .dataframe thead th {\n",
              "        text-align: right;\n",
              "    }\n",
              "</style>\n",
              "<table border=\"1\" class=\"dataframe\">\n",
              "  <thead>\n",
              "    <tr style=\"text-align: right;\">\n",
              "      <th></th>\n",
              "      <th>Departure_YMD_LMT</th>\n",
              "      <th>Operation_YMD_LMT</th>\n",
              "      <th>Operation_Airport</th>\n",
              "      <th>Terminal_Number</th>\n",
              "      <th>Terminal_Name</th>\n",
              "      <th>Operation_Initials</th>\n",
              "      <th>Operation_Channel</th>\n",
              "      <th>Passenger_Title</th>\n",
              "      <th>Passenger_Gender</th>\n",
              "      <th>Inbound_Departure_Airport</th>\n",
              "      <th>SWC_FLY</th>\n",
              "      <th>Cabin_Class</th>\n",
              "      <th>SWC_FQTV_Member</th>\n",
              "      <th>Passenger_Baggage_Count</th>\n",
              "      <th>Passenger_Baggage_Weight</th>\n",
              "      <th>SWC_Staff</th>\n",
              "      <th>SWC_CIP_Passenger</th>\n",
              "      <th>SWC_VIP_Passenger</th>\n",
              "      <th>SWC_Has_Infant</th>\n",
              "      <th>Operation_Count</th>\n",
              "      <th>Operation_Channel_Group</th>\n",
              "      <th>Operation_Sonic_Code_Flag</th>\n",
              "      <th>Early_Check_In</th>\n",
              "      <th>Early_Check_In_Status</th>\n",
              "      <th>Direct_Flight</th>\n",
              "      <th>Checkin_Inbound</th>\n",
              "      <th>Checkin_Outbound</th>\n",
              "      <th>Operation_Airport_Reduced</th>\n",
              "      <th>Operation_Initials_Reduced</th>\n",
              "      <th>Inbound_Departure_Airport_Reduced</th>\n",
              "    </tr>\n",
              "    <tr>\n",
              "      <th>Outbound_Arrival_Airport</th>\n",
              "      <th></th>\n",
              "      <th></th>\n",
              "      <th></th>\n",
              "      <th></th>\n",
              "      <th></th>\n",
              "      <th></th>\n",
              "      <th></th>\n",
              "      <th></th>\n",
              "      <th></th>\n",
              "      <th></th>\n",
              "      <th></th>\n",
              "      <th></th>\n",
              "      <th></th>\n",
              "      <th></th>\n",
              "      <th></th>\n",
              "      <th></th>\n",
              "      <th></th>\n",
              "      <th></th>\n",
              "      <th></th>\n",
              "      <th></th>\n",
              "      <th></th>\n",
              "      <th></th>\n",
              "      <th></th>\n",
              "      <th></th>\n",
              "      <th></th>\n",
              "      <th></th>\n",
              "      <th></th>\n",
              "      <th></th>\n",
              "      <th></th>\n",
              "      <th></th>\n",
              "    </tr>\n",
              "  </thead>\n",
              "  <tbody>\n",
              "    <tr>\n",
              "      <th>Unknown</th>\n",
              "      <td>79259</td>\n",
              "      <td>79259</td>\n",
              "      <td>79259</td>\n",
              "      <td>79259</td>\n",
              "      <td>79259</td>\n",
              "      <td>79259</td>\n",
              "      <td>79259</td>\n",
              "      <td>79259</td>\n",
              "      <td>79259</td>\n",
              "      <td>79259</td>\n",
              "      <td>79259</td>\n",
              "      <td>79259</td>\n",
              "      <td>79259</td>\n",
              "      <td>79259</td>\n",
              "      <td>79259</td>\n",
              "      <td>79259</td>\n",
              "      <td>79259</td>\n",
              "      <td>79259</td>\n",
              "      <td>79259</td>\n",
              "      <td>79259</td>\n",
              "      <td>79259</td>\n",
              "      <td>79259</td>\n",
              "      <td>79259</td>\n",
              "      <td>79259</td>\n",
              "      <td>79259</td>\n",
              "      <td>79259</td>\n",
              "      <td>79259</td>\n",
              "      <td>79259</td>\n",
              "      <td>79259</td>\n",
              "      <td>79259</td>\n",
              "    </tr>\n",
              "    <tr>\n",
              "      <th>KDT</th>\n",
              "      <td>3590</td>\n",
              "      <td>3590</td>\n",
              "      <td>3590</td>\n",
              "      <td>3590</td>\n",
              "      <td>3590</td>\n",
              "      <td>3590</td>\n",
              "      <td>3590</td>\n",
              "      <td>3590</td>\n",
              "      <td>3590</td>\n",
              "      <td>3590</td>\n",
              "      <td>3590</td>\n",
              "      <td>3590</td>\n",
              "      <td>3590</td>\n",
              "      <td>3590</td>\n",
              "      <td>3590</td>\n",
              "      <td>3590</td>\n",
              "      <td>3590</td>\n",
              "      <td>3590</td>\n",
              "      <td>3590</td>\n",
              "      <td>3590</td>\n",
              "      <td>3590</td>\n",
              "      <td>3590</td>\n",
              "      <td>3590</td>\n",
              "      <td>3590</td>\n",
              "      <td>3590</td>\n",
              "      <td>3590</td>\n",
              "      <td>3590</td>\n",
              "      <td>3590</td>\n",
              "      <td>3590</td>\n",
              "      <td>3590</td>\n",
              "    </tr>\n",
              "    <tr>\n",
              "      <th>ERZ</th>\n",
              "      <td>1415</td>\n",
              "      <td>1415</td>\n",
              "      <td>1415</td>\n",
              "      <td>1415</td>\n",
              "      <td>1415</td>\n",
              "      <td>1415</td>\n",
              "      <td>1415</td>\n",
              "      <td>1415</td>\n",
              "      <td>1415</td>\n",
              "      <td>1415</td>\n",
              "      <td>1415</td>\n",
              "      <td>1415</td>\n",
              "      <td>1415</td>\n",
              "      <td>1415</td>\n",
              "      <td>1415</td>\n",
              "      <td>1415</td>\n",
              "      <td>1415</td>\n",
              "      <td>1415</td>\n",
              "      <td>1415</td>\n",
              "      <td>1415</td>\n",
              "      <td>1415</td>\n",
              "      <td>1415</td>\n",
              "      <td>1415</td>\n",
              "      <td>1415</td>\n",
              "      <td>1415</td>\n",
              "      <td>1415</td>\n",
              "      <td>1415</td>\n",
              "      <td>1415</td>\n",
              "      <td>1415</td>\n",
              "      <td>1415</td>\n",
              "    </tr>\n",
              "    <tr>\n",
              "      <th>EST</th>\n",
              "      <td>1352</td>\n",
              "      <td>1352</td>\n",
              "      <td>1352</td>\n",
              "      <td>1352</td>\n",
              "      <td>1352</td>\n",
              "      <td>1352</td>\n",
              "      <td>1352</td>\n",
              "      <td>1352</td>\n",
              "      <td>1352</td>\n",
              "      <td>1352</td>\n",
              "      <td>1352</td>\n",
              "      <td>1352</td>\n",
              "      <td>1352</td>\n",
              "      <td>1352</td>\n",
              "      <td>1352</td>\n",
              "      <td>1352</td>\n",
              "      <td>1352</td>\n",
              "      <td>1352</td>\n",
              "      <td>1352</td>\n",
              "      <td>1352</td>\n",
              "      <td>1352</td>\n",
              "      <td>1352</td>\n",
              "      <td>1352</td>\n",
              "      <td>1352</td>\n",
              "      <td>1352</td>\n",
              "      <td>1352</td>\n",
              "      <td>1352</td>\n",
              "      <td>1352</td>\n",
              "      <td>1352</td>\n",
              "      <td>1352</td>\n",
              "    </tr>\n",
              "    <tr>\n",
              "      <th>OGU</th>\n",
              "      <td>1076</td>\n",
              "      <td>1076</td>\n",
              "      <td>1076</td>\n",
              "      <td>1076</td>\n",
              "      <td>1076</td>\n",
              "      <td>1076</td>\n",
              "      <td>1076</td>\n",
              "      <td>1076</td>\n",
              "      <td>1076</td>\n",
              "      <td>1076</td>\n",
              "      <td>1076</td>\n",
              "      <td>1076</td>\n",
              "      <td>1076</td>\n",
              "      <td>1076</td>\n",
              "      <td>1076</td>\n",
              "      <td>1076</td>\n",
              "      <td>1076</td>\n",
              "      <td>1076</td>\n",
              "      <td>1076</td>\n",
              "      <td>1076</td>\n",
              "      <td>1076</td>\n",
              "      <td>1076</td>\n",
              "      <td>1076</td>\n",
              "      <td>1076</td>\n",
              "      <td>1076</td>\n",
              "      <td>1076</td>\n",
              "      <td>1076</td>\n",
              "      <td>1076</td>\n",
              "      <td>1076</td>\n",
              "      <td>1076</td>\n",
              "    </tr>\n",
              "    <tr>\n",
              "      <th>TZX</th>\n",
              "      <td>1060</td>\n",
              "      <td>1060</td>\n",
              "      <td>1060</td>\n",
              "      <td>1060</td>\n",
              "      <td>1060</td>\n",
              "      <td>1060</td>\n",
              "      <td>1060</td>\n",
              "      <td>1060</td>\n",
              "      <td>1060</td>\n",
              "      <td>1060</td>\n",
              "      <td>1060</td>\n",
              "      <td>1060</td>\n",
              "      <td>1060</td>\n",
              "      <td>1060</td>\n",
              "      <td>1060</td>\n",
              "      <td>1060</td>\n",
              "      <td>1060</td>\n",
              "      <td>1060</td>\n",
              "      <td>1060</td>\n",
              "      <td>1060</td>\n",
              "      <td>1060</td>\n",
              "      <td>1060</td>\n",
              "      <td>1060</td>\n",
              "      <td>1060</td>\n",
              "      <td>1060</td>\n",
              "      <td>1060</td>\n",
              "      <td>1060</td>\n",
              "      <td>1060</td>\n",
              "      <td>1060</td>\n",
              "      <td>1060</td>\n",
              "    </tr>\n",
              "    <tr>\n",
              "      <th>NKT</th>\n",
              "      <td>884</td>\n",
              "      <td>884</td>\n",
              "      <td>884</td>\n",
              "      <td>884</td>\n",
              "      <td>884</td>\n",
              "      <td>884</td>\n",
              "      <td>884</td>\n",
              "      <td>884</td>\n",
              "      <td>884</td>\n",
              "      <td>884</td>\n",
              "      <td>884</td>\n",
              "      <td>884</td>\n",
              "      <td>884</td>\n",
              "      <td>884</td>\n",
              "      <td>884</td>\n",
              "      <td>884</td>\n",
              "      <td>884</td>\n",
              "      <td>884</td>\n",
              "      <td>884</td>\n",
              "      <td>884</td>\n",
              "      <td>884</td>\n",
              "      <td>884</td>\n",
              "      <td>884</td>\n",
              "      <td>884</td>\n",
              "      <td>884</td>\n",
              "      <td>884</td>\n",
              "      <td>884</td>\n",
              "      <td>884</td>\n",
              "      <td>884</td>\n",
              "      <td>884</td>\n",
              "    </tr>\n",
              "    <tr>\n",
              "      <th>LHR</th>\n",
              "      <td>779</td>\n",
              "      <td>779</td>\n",
              "      <td>779</td>\n",
              "      <td>779</td>\n",
              "      <td>779</td>\n",
              "      <td>779</td>\n",
              "      <td>779</td>\n",
              "      <td>779</td>\n",
              "      <td>779</td>\n",
              "      <td>779</td>\n",
              "      <td>779</td>\n",
              "      <td>779</td>\n",
              "      <td>779</td>\n",
              "      <td>779</td>\n",
              "      <td>779</td>\n",
              "      <td>779</td>\n",
              "      <td>779</td>\n",
              "      <td>779</td>\n",
              "      <td>779</td>\n",
              "      <td>779</td>\n",
              "      <td>779</td>\n",
              "      <td>779</td>\n",
              "      <td>779</td>\n",
              "      <td>779</td>\n",
              "      <td>779</td>\n",
              "      <td>779</td>\n",
              "      <td>779</td>\n",
              "      <td>779</td>\n",
              "      <td>779</td>\n",
              "      <td>779</td>\n",
              "    </tr>\n",
              "    <tr>\n",
              "      <th>SZF</th>\n",
              "      <td>741</td>\n",
              "      <td>741</td>\n",
              "      <td>741</td>\n",
              "      <td>741</td>\n",
              "      <td>741</td>\n",
              "      <td>741</td>\n",
              "      <td>741</td>\n",
              "      <td>741</td>\n",
              "      <td>741</td>\n",
              "      <td>741</td>\n",
              "      <td>741</td>\n",
              "      <td>741</td>\n",
              "      <td>741</td>\n",
              "      <td>741</td>\n",
              "      <td>741</td>\n",
              "      <td>741</td>\n",
              "      <td>741</td>\n",
              "      <td>741</td>\n",
              "      <td>741</td>\n",
              "      <td>741</td>\n",
              "      <td>741</td>\n",
              "      <td>741</td>\n",
              "      <td>741</td>\n",
              "      <td>741</td>\n",
              "      <td>741</td>\n",
              "      <td>741</td>\n",
              "      <td>741</td>\n",
              "      <td>741</td>\n",
              "      <td>741</td>\n",
              "      <td>741</td>\n",
              "    </tr>\n",
              "    <tr>\n",
              "      <th>MXP</th>\n",
              "      <td>740</td>\n",
              "      <td>740</td>\n",
              "      <td>740</td>\n",
              "      <td>740</td>\n",
              "      <td>740</td>\n",
              "      <td>740</td>\n",
              "      <td>740</td>\n",
              "      <td>740</td>\n",
              "      <td>740</td>\n",
              "      <td>740</td>\n",
              "      <td>740</td>\n",
              "      <td>740</td>\n",
              "      <td>740</td>\n",
              "      <td>740</td>\n",
              "      <td>740</td>\n",
              "      <td>740</td>\n",
              "      <td>740</td>\n",
              "      <td>740</td>\n",
              "      <td>740</td>\n",
              "      <td>740</td>\n",
              "      <td>740</td>\n",
              "      <td>740</td>\n",
              "      <td>740</td>\n",
              "      <td>740</td>\n",
              "      <td>740</td>\n",
              "      <td>740</td>\n",
              "      <td>740</td>\n",
              "      <td>740</td>\n",
              "      <td>740</td>\n",
              "      <td>740</td>\n",
              "    </tr>\n",
              "  </tbody>\n",
              "</table>\n",
              "</div>"
            ],
            "text/plain": [
              "                          Departure_YMD_LMT  ...  Inbound_Departure_Airport_Reduced\n",
              "Outbound_Arrival_Airport                     ...                                   \n",
              "Unknown                               79259  ...                              79259\n",
              "KDT                                    3590  ...                               3590\n",
              "ERZ                                    1415  ...                               1415\n",
              "EST                                    1352  ...                               1352\n",
              "OGU                                    1076  ...                               1076\n",
              "TZX                                    1060  ...                               1060\n",
              "NKT                                     884  ...                                884\n",
              "LHR                                     779  ...                                779\n",
              "SZF                                     741  ...                                741\n",
              "MXP                                     740  ...                                740\n",
              "\n",
              "[10 rows x 30 columns]"
            ]
          },
          "metadata": {
            "tags": []
          },
          "execution_count": 182
        }
      ]
    },
    {
      "cell_type": "code",
      "metadata": {
        "id": "sthvdOsqnk2V",
        "colab_type": "code",
        "colab": {}
      },
      "source": [
        "train_df['Outbound_Arrival_Airport_Reduced'] = np.where((train_df.Outbound_Arrival_Airport == 'Unknown') | (train_df.Outbound_Arrival_Airport == 'KDT'), train_df.Outbound_Arrival_Airport, 'OTHERS')\n",
        "result_df['Outbound_Arrival_Airport_Reduced'] = np.where((result_df.Outbound_Arrival_Airport == 'Unknown') | (result_df.Outbound_Arrival_Airport == 'KDT'), result_df.Outbound_Arrival_Airport, 'OTHERS')"
      ],
      "execution_count": 0,
      "outputs": []
    },
    {
      "cell_type": "markdown",
      "metadata": {
        "id": "CywhuSD1Zxg-",
        "colab_type": "text"
      },
      "source": [
        "### Weekend\n",
        "\n",
        "We thought that may be week of day, weekend/weekday information might be usefull. Weekend days are encoded as 1 in the *Weekend* column."
      ]
    },
    {
      "cell_type": "code",
      "metadata": {
        "id": "akDymq3AeIfj",
        "colab_type": "code",
        "colab": {}
      },
      "source": [
        "import datetime\n",
        "train_df['Weekend'] = [x in [5,6] for x in train_df.Departure_YMD_LMT.dt.weekday]\n",
        "train_df['Weekend'] = train_df['Weekend'].replace(True, int(1))\n",
        "train_df['Weekend'] = train_df['Weekend'].replace(False, int(0))\n",
        "result_df['Weekend'] = [x in [5,6] for x in result_df.Departure_YMD_LMT.dt.weekday]\n",
        "result_df['Weekend'] = result_df['Weekend'].replace(True, int(1))\n",
        "result_df['Weekend'] = result_df['Weekend'].replace(False, int(0))"
      ],
      "execution_count": 0,
      "outputs": []
    },
    {
      "cell_type": "code",
      "metadata": {
        "id": "HKKUix3-EWJi",
        "colab_type": "code",
        "outputId": "58d11e2a-b5d3-4e01-d7c3-879b7ada38ec",
        "colab": {
          "base_uri": "https://localhost:8080/",
          "height": 0
        }
      },
      "source": [
        "train_df.Weekend.head()"
      ],
      "execution_count": 185,
      "outputs": [
        {
          "output_type": "execute_result",
          "data": {
            "text/plain": [
              "0    0.0\n",
              "1    0.0\n",
              "2    0.0\n",
              "3    0.0\n",
              "4    1.0\n",
              "Name: Weekend, dtype: float64"
            ]
          },
          "metadata": {
            "tags": []
          },
          "execution_count": 185
        }
      ]
    },
    {
      "cell_type": "markdown",
      "metadata": {
        "id": "LWXVCZVQB00s",
        "colab_type": "text"
      },
      "source": [
        "### Departure Day\n",
        "\n",
        "Generate *Departure Day* column:"
      ]
    },
    {
      "cell_type": "code",
      "metadata": {
        "id": "L4JvhincBJ5c",
        "colab_type": "code",
        "outputId": "c3de126e-5df0-41c2-ea44-db0585881e1f",
        "colab": {
          "base_uri": "https://localhost:8080/",
          "height": 0
        }
      },
      "source": [
        "train_df['Departure Day'] = train_df['Departure_YMD_LMT'].dt.weekday_name\n",
        "\n",
        "result_df['Departure Day'] = result_df['Departure_YMD_LMT'].dt.weekday_name\n",
        "\n",
        "train_df['Departure Day'].head()"
      ],
      "execution_count": 186,
      "outputs": [
        {
          "output_type": "execute_result",
          "data": {
            "text/plain": [
              "0      Tuesday\n",
              "1    Wednesday\n",
              "2       Friday\n",
              "3      Tuesday\n",
              "4     Saturday\n",
              "Name: Departure Day, dtype: object"
            ]
          },
          "metadata": {
            "tags": []
          },
          "execution_count": 186
        }
      ]
    },
    {
      "cell_type": "markdown",
      "metadata": {
        "id": "tLlVcAyPe2GB",
        "colab_type": "text"
      },
      "source": [
        "### Day of Month"
      ]
    },
    {
      "cell_type": "code",
      "metadata": {
        "id": "RXH84nITHWub",
        "colab_type": "code",
        "outputId": "57341828-dfc1-4fa5-afa3-540d792645a0",
        "colab": {
          "base_uri": "https://localhost:8080/",
          "height": 0
        }
      },
      "source": [
        "train_df.insert(1,'Day_of_Month','foo')\n",
        "train_df['Day_of_Month'] = train_df['Departure_YMD_LMT'].dt.day\n",
        "\n",
        "result_df.insert(1,'Day_of_Month','foo')\n",
        "result_df['Day_of_Month'] = result_df['Departure_YMD_LMT'].dt.day\n",
        "\n",
        "train_df['Day_of_Month'].head()"
      ],
      "execution_count": 187,
      "outputs": [
        {
          "output_type": "execute_result",
          "data": {
            "text/plain": [
              "0    26\n",
              "1    21\n",
              "2    22\n",
              "3    15\n",
              "4    20\n",
              "Name: Day_of_Month, dtype: int64"
            ]
          },
          "metadata": {
            "tags": []
          },
          "execution_count": 187
        }
      ]
    },
    {
      "cell_type": "markdown",
      "metadata": {
        "id": "ltshc6kDIQJy",
        "colab_type": "text"
      },
      "source": [
        "### Economy Class\n",
        "\n",
        "Transform categorical *Cabin Class* column to binary variable."
      ]
    },
    {
      "cell_type": "code",
      "metadata": {
        "id": "MO6IJgPmIaD5",
        "colab_type": "code",
        "outputId": "ed8b94f9-616a-4df9-9b01-f2907bc70676",
        "colab": {
          "base_uri": "https://localhost:8080/",
          "height": 0
        }
      },
      "source": [
        "dict = {\"Y\": 1,\n",
        "        \"C\": 0\n",
        "        }\n",
        "train_df['Economy_Class'] = train_df['Cabin_Class'].map(dict)\n",
        "train_df = train_df.drop(\"Cabin_Class\", axis = 1)\n",
        "result_df['Economy_Class'] = result_df['Cabin_Class'].map(dict)\n",
        "result_df = result_df.drop(\"Cabin_Class\", axis = 1)\n",
        "train_df['Economy_Class'].unique()"
      ],
      "execution_count": 188,
      "outputs": [
        {
          "output_type": "execute_result",
          "data": {
            "text/plain": [
              "array([1, 0])"
            ]
          },
          "metadata": {
            "tags": []
          },
          "execution_count": 188
        }
      ]
    },
    {
      "cell_type": "markdown",
      "metadata": {
        "id": "spdigLH_bTof",
        "colab_type": "text"
      },
      "source": [
        "#### Lightly Flying Passengers\n",
        "\n",
        "New feature is generated for lightly flying passengers since this case seems like a predictor for the operation count."
      ]
    },
    {
      "cell_type": "code",
      "metadata": {
        "id": "k2JgtOb0bZED",
        "colab_type": "code",
        "colab": {}
      },
      "source": [
        "train_df['Fly_Light'] = np.where(train_df['Passenger_Baggage_Count']==0, 1, 0)\n",
        "result_df['Fly_Light'] = np.where(result_df['Passenger_Baggage_Count']==0, 1, 0)"
      ],
      "execution_count": 0,
      "outputs": []
    },
    {
      "cell_type": "markdown",
      "metadata": {
        "id": "xXQYc2l4kjxX",
        "colab_type": "text"
      },
      "source": [
        "### Drop Unnecessary Columns"
      ]
    },
    {
      "cell_type": "code",
      "metadata": {
        "id": "rDInMBCqkqXa",
        "colab_type": "code",
        "colab": {}
      },
      "source": [
        "train_df = train_df.drop(columns = [\"Departure_YMD_LMT\", \n",
        "                                    \"Operation_YMD_LMT\", \n",
        "                                    \"Operation_Initials\", \n",
        "                                    \"Operation_Airport\",\n",
        "                                    \"Inbound_Departure_Airport\",\n",
        "                                    \"Outbound_Arrival_Airport\",\n",
        "                                    \"Terminal_Name\",\n",
        "                                    \"Early_Check_In\"], axis =1) "
      ],
      "execution_count": 0,
      "outputs": []
    },
    {
      "cell_type": "markdown",
      "metadata": {
        "id": "PRVOF_Xhunel",
        "colab_type": "text"
      },
      "source": [
        "## Encoding Categorical Features"
      ]
    },
    {
      "cell_type": "markdown",
      "metadata": {
        "id": "9PJeh-H0oyMw",
        "colab_type": "text"
      },
      "source": [
        "Convert objects to category"
      ]
    },
    {
      "cell_type": "code",
      "metadata": {
        "id": "ClYRXhuDhri_",
        "colab_type": "code",
        "colab": {}
      },
      "source": [
        "for col_name in train_df.columns:\n",
        "    if train_df[col_name].dtype.name == 'object':\n",
        "        train_df[col_name] = train_df[col_name].astype('category')\n",
        "        result_df[col_name] = result_df[col_name].astype('category')"
      ],
      "execution_count": 0,
      "outputs": []
    },
    {
      "cell_type": "code",
      "metadata": {
        "id": "lS4UMDYIumpJ",
        "colab_type": "code",
        "outputId": "ee470536-9c69-40e6-e9cb-d8d6c137ff7f",
        "colab": {
          "base_uri": "https://localhost:8080/",
          "height": 0
        }
      },
      "source": [
        "train_df.dtypes"
      ],
      "execution_count": 192,
      "outputs": [
        {
          "output_type": "execute_result",
          "data": {
            "text/plain": [
              "Day_of_Month                            int64\n",
              "Terminal_Number                      category\n",
              "Operation_Channel                    category\n",
              "Passenger_Title                      category\n",
              "Passenger_Gender                     category\n",
              "SWC_FLY                                 int64\n",
              "SWC_FQTV_Member                         int64\n",
              "Passenger_Baggage_Count                 int64\n",
              "Passenger_Baggage_Weight                int64\n",
              "SWC_Staff                               int64\n",
              "SWC_CIP_Passenger                       int64\n",
              "SWC_VIP_Passenger                       int64\n",
              "SWC_Has_Infant                          int64\n",
              "Operation_Count                         int64\n",
              "Operation_Channel_Group              category\n",
              "Operation_Sonic_Code_Flag               int64\n",
              "Early_Check_In_Status                category\n",
              "Direct_Flight                           int64\n",
              "Checkin_Inbound                       float64\n",
              "Checkin_Outbound                      float64\n",
              "Operation_Airport_Reduced            category\n",
              "Operation_Initials_Reduced           category\n",
              "Inbound_Departure_Airport_Reduced    category\n",
              "Outbound_Arrival_Airport_Reduced     category\n",
              "Weekend                               float64\n",
              "Departure Day                        category\n",
              "Economy_Class                           int64\n",
              "Fly_Light                               int64\n",
              "dtype: object"
            ]
          },
          "metadata": {
            "tags": []
          },
          "execution_count": 192
        }
      ]
    },
    {
      "cell_type": "markdown",
      "metadata": {
        "id": "jTCZbJCUxdWX",
        "colab_type": "text"
      },
      "source": [
        "Encode categorical columns"
      ]
    },
    {
      "cell_type": "code",
      "metadata": {
        "id": "Bn7AH7VXwQbm",
        "colab_type": "code",
        "outputId": "7954ad5e-9386-4f48-dd44-6d2d06722ea8",
        "colab": {
          "base_uri": "https://localhost:8080/",
          "height": 0
        }
      },
      "source": [
        "train_onehot = train_df.copy()\n",
        "#train_onehot.drop(columns = [\"Operation_Initials\", \"Terminal_Name\"], axis =1)\n",
        "result_onehot = result_df.copy()\n",
        "for cols in train_df.columns: #leave as traidf!!!\n",
        "  if train_onehot[cols].dtype.name == 'category':\n",
        "    print(cols)\n",
        "    one_hot = pd.get_dummies(train_df[cols], prefix = cols)\n",
        "    train_onehot = train_onehot.drop(cols,axis = 1)\n",
        "    train_onehot = train_onehot.join(one_hot)\n",
        "  "
      ],
      "execution_count": 193,
      "outputs": [
        {
          "output_type": "stream",
          "text": [
            "Terminal_Number\n",
            "Operation_Channel\n",
            "Passenger_Title\n",
            "Passenger_Gender\n",
            "Operation_Channel_Group\n",
            "Early_Check_In_Status\n",
            "Operation_Airport_Reduced\n",
            "Operation_Initials_Reduced\n",
            "Inbound_Departure_Airport_Reduced\n",
            "Outbound_Arrival_Airport_Reduced\n",
            "Departure Day\n"
          ],
          "name": "stdout"
        }
      ]
    },
    {
      "cell_type": "code",
      "metadata": {
        "id": "EZkxjtnb1vEm",
        "colab_type": "code",
        "outputId": "e7feeed0-7073-4d14-a8d8-a1bbd239b5bd",
        "colab": {
          "base_uri": "https://localhost:8080/",
          "height": 0
        }
      },
      "source": [
        "train_onehot.columns"
      ],
      "execution_count": 194,
      "outputs": [
        {
          "output_type": "execute_result",
          "data": {
            "text/plain": [
              "Index(['Day_of_Month', 'SWC_FLY', 'SWC_FQTV_Member', 'Passenger_Baggage_Count',\n",
              "       'Passenger_Baggage_Weight', 'SWC_Staff', 'SWC_CIP_Passenger',\n",
              "       'SWC_VIP_Passenger', 'SWC_Has_Infant', 'Operation_Count',\n",
              "       'Operation_Sonic_Code_Flag', 'Direct_Flight', 'Checkin_Inbound',\n",
              "       'Checkin_Outbound', 'Weekend', 'Economy_Class', 'Fly_Light',\n",
              "       'Terminal_Number_?', 'Terminal_Number_P1', 'Terminal_Number_P2',\n",
              "       'Operation_Channel_?', 'Operation_Channel_BD', 'Operation_Channel_CC',\n",
              "       'Operation_Channel_IA', 'Operation_Channel_IR', 'Operation_Channel_JM',\n",
              "       'Operation_Channel_JW', 'Operation_Channel_QC', 'Operation_Channel_QR',\n",
              "       'Operation_Channel_SC', 'Operation_Channel_TS', 'Operation_Channel_TW',\n",
              "       'Operation_Channel_TY', 'Passenger_Title_?', 'Passenger_Title_DOCTOR',\n",
              "       'Passenger_Title_MISS', 'Passenger_Title_MISSES',\n",
              "       'Passenger_Title_MISTER', 'Passenger_Title_PROFFESOR',\n",
              "       'Passenger_Gender_?', 'Passenger_Gender_C', 'Passenger_Gender_C/INF',\n",
              "       'Passenger_Gender_F', 'Passenger_Gender_F/INF', 'Passenger_Gender_M',\n",
              "       'Passenger_Gender_M/INF', 'Operation_Channel_Group_Counter',\n",
              "       'Operation_Channel_Group_Kiosks', 'Operation_Channel_Group_Mobile',\n",
              "       'Operation_Channel_Group_Online', 'Operation_Channel_Group_Other',\n",
              "       'Early_Check_In_Status_Early', 'Early_Check_In_Status_On-time',\n",
              "       'Early_Check_In_Status_Peculiar', 'Operation_Airport_Reduced_EST',\n",
              "       'Operation_Airport_Reduced_IST', 'Operation_Airport_Reduced_KDT',\n",
              "       'Operation_Airport_Reduced_OTHERS', 'Operation_Airport_Reduced_SKW',\n",
              "       'Operation_Initials_Reduced_EY', 'Operation_Initials_Reduced_KS',\n",
              "       'Operation_Initials_Reduced_LK', 'Operation_Initials_Reduced_MK',\n",
              "       'Operation_Initials_Reduced_OTHERS', 'Operation_Initials_Reduced_Q7',\n",
              "       'Operation_Initials_Reduced_SC',\n",
              "       'Inbound_Departure_Airport_Reduced_EST',\n",
              "       'Inbound_Departure_Airport_Reduced_IST',\n",
              "       'Inbound_Departure_Airport_Reduced_OTHERS',\n",
              "       'Inbound_Departure_Airport_Reduced_SKW',\n",
              "       'Inbound_Departure_Airport_Reduced_Unknown',\n",
              "       'Outbound_Arrival_Airport_Reduced_KDT',\n",
              "       'Outbound_Arrival_Airport_Reduced_OTHERS',\n",
              "       'Outbound_Arrival_Airport_Reduced_Unknown', 'Departure Day_Friday',\n",
              "       'Departure Day_Monday', 'Departure Day_Saturday',\n",
              "       'Departure Day_Sunday', 'Departure Day_Thursday',\n",
              "       'Departure Day_Tuesday', 'Departure Day_Wednesday'],\n",
              "      dtype='object')"
            ]
          },
          "metadata": {
            "tags": []
          },
          "execution_count": 194
        }
      ]
    },
    {
      "cell_type": "markdown",
      "metadata": {
        "id": "i_yP2l6mMJ08",
        "colab_type": "text"
      },
      "source": [
        "## Correlation Matrix"
      ]
    },
    {
      "cell_type": "markdown",
      "metadata": {
        "id": "12hiawVHIPe6",
        "colab_type": "text"
      },
      "source": [
        "Upon observing correlation matrix, we first noticed that *Passenger Baggage Count* is highly correlated with *Passenger Baggage Weight*. These columns are multicollinear, so we are going to include our model only one of them. We decided to continue with *Passenger Baggage Count* since we later observed that this feature has a higher importance weight. Lightly flying passengers with no baggages negatively correlates with baggage count and weight related columns, as expected. CIP's with high commercial value tend to belong a loyalty program."
      ]
    },
    {
      "cell_type": "code",
      "metadata": {
        "id": "35cGI-2CNamg",
        "colab_type": "code",
        "outputId": "240a8c46-f4dc-4f54-b561-97805a6e58c0",
        "colab": {
          "base_uri": "https://localhost:8080/",
          "height": 0
        }
      },
      "source": [
        "import seaborn as sns\n",
        "corr = train_df.corr()\n",
        "sns.heatmap(corr, \n",
        "            xticklabels=corr.columns.values,\n",
        "            yticklabels=corr.columns.values)"
      ],
      "execution_count": 195,
      "outputs": [
        {
          "output_type": "execute_result",
          "data": {
            "text/plain": [
              "<matplotlib.axes._subplots.AxesSubplot at 0x7f569345bd30>"
            ]
          },
          "metadata": {
            "tags": []
          },
          "execution_count": 195
        },
        {
          "output_type": "display_data",
          "data": {
            "image/png": "[encoded data removed]",
            "text/plain": [
              "<Figure size 576x720 with 2 Axes>"
            ]
          },
          "metadata": {
            "tags": []
          }
        }
      ]
    },
    {
      "cell_type": "markdown",
      "metadata": {
        "id": "jlb4JUGrW70Q",
        "colab_type": "text"
      },
      "source": [
        "## Visualization"
      ]
    },
    {
      "cell_type": "markdown",
      "metadata": {
        "id": "TMogDZ-haAyU",
        "colab_type": "text"
      },
      "source": [
        "Curious behavior of the operation count:\n",
        "Below we see the *Operation Count* distribution. It is positive skewed. A high majority of the passengers does 1 operation, the population is localized under 20 operations. There is an outlier with 129 operations."
      ]
    },
    {
      "cell_type": "code",
      "metadata": {
        "id": "tcA_A05Fh_MR",
        "colab_type": "code",
        "outputId": "027fc4d3-ab26-470d-b1ea-81726dd42ccb",
        "colab": {
          "base_uri": "https://localhost:8080/",
          "height": 0
        }
      },
      "source": [
        "import matplotlib.pyplot as plt\n",
        "fig, ax = plt.subplots(1, 1,figsize=(10, 8))\n",
        "train_df[\"Operation_Count\"].hist(bins=500, color=\"blue\", ax=ax)\n"
      ],
      "execution_count": 196,
      "outputs": [
        {
          "output_type": "execute_result",
          "data": {
            "text/plain": [
              "<matplotlib.axes._subplots.AxesSubplot at 0x7f567b481160>"
            ]
          },
          "metadata": {
            "tags": []
          },
          "execution_count": 196
        },
        {
          "output_type": "display_data",
          "data": {
            "image/png": "[encoded data removed]",
            "text/plain": [
              "<Figure size 720x576 with 1 Axes>"
            ]
          },
          "metadata": {
            "tags": []
          }
        }
      ]
    },
    {
      "cell_type": "markdown",
      "metadata": {
        "id": "3Vr9h6rAZcnJ",
        "colab_type": "text"
      },
      "source": [
        "Operation count distributed uniformly over days of the week. Fridays are slightly a little busier than the others (?)."
      ]
    },
    {
      "cell_type": "code",
      "metadata": {
        "id": "3LXVhjPTY10a",
        "colab_type": "code",
        "outputId": "580dc3bf-055c-4ee2-cfb3-e971fe302196",
        "colab": {
          "base_uri": "https://localhost:8080/",
          "height": 0
        }
      },
      "source": [
        "import seaborn as sns\n",
        "sns.barplot(x='Departure Day',y='Operation_Count',data=train_df)"
      ],
      "execution_count": 197,
      "outputs": [
        {
          "output_type": "execute_result",
          "data": {
            "text/plain": [
              "<matplotlib.axes._subplots.AxesSubplot at 0x7f567b4467b8>"
            ]
          },
          "metadata": {
            "tags": []
          },
          "execution_count": 197
        },
        {
          "output_type": "display_data",
          "data": {
            "image/png": "[encoded data removed]",
            "text/plain": [
              "<Figure size 576x720 with 1 Axes>"
            ]
          },
          "metadata": {
            "tags": []
          }
        }
      ]
    },
    {
      "cell_type": "markdown",
      "metadata": {
        "id": "MaDi7cGxaSQx",
        "colab_type": "text"
      },
      "source": [
        "Uniform distribution in the operation count among weekend flag. So, there is no difference in number of operations during weekdays and the weekends."
      ]
    },
    {
      "cell_type": "code",
      "metadata": {
        "id": "hlYCsTtnaTHt",
        "colab_type": "code",
        "outputId": "c5177ee3-2feb-42f7-94c3-e33b4fa42964",
        "colab": {
          "base_uri": "https://localhost:8080/",
          "height": 0
        }
      },
      "source": [
        "sns.barplot(x='Weekend',y='Operation_Count',data=train_df)"
      ],
      "execution_count": 198,
      "outputs": [
        {
          "output_type": "execute_result",
          "data": {
            "text/plain": [
              "<matplotlib.axes._subplots.AxesSubplot at 0x7f567addc978>"
            ]
          },
          "metadata": {
            "tags": []
          },
          "execution_count": 198
        },
        {
          "output_type": "display_data",
          "data": {
            "image/png": "[encoded data removed]",
            "text/plain": [
              "<Figure size 576x720 with 1 Axes>"
            ]
          },
          "metadata": {
            "tags": []
          }
        }
      ]
    },
    {
      "cell_type": "markdown",
      "metadata": {
        "id": "TxVlEE5dbK-3",
        "colab_type": "text"
      },
      "source": [
        "Direct flight seems to be an importan predictor of the operation count."
      ]
    },
    {
      "cell_type": "code",
      "metadata": {
        "id": "QPzr0Gu5bKWc",
        "colab_type": "code",
        "colab": {
          "base_uri": "https://localhost:8080/",
          "height": 0
        },
        "outputId": "ee364e45-9d53-4a1a-b22c-2e43daf9cb45"
      },
      "source": [
        "sns.barplot(x='Direct_Flight',y='Operation_Count',data=train_df)"
      ],
      "execution_count": 199,
      "outputs": [
        {
          "output_type": "execute_result",
          "data": {
            "text/plain": [
              "<matplotlib.axes._subplots.AxesSubplot at 0x7f567aea0470>"
            ]
          },
          "metadata": {
            "tags": []
          },
          "execution_count": 199
        },
        {
          "output_type": "display_data",
          "data": {
            "image/png": "[encoded data removed]",
            "text/plain": [
              "<Figure size 576x720 with 1 Axes>"
            ]
          },
          "metadata": {
            "tags": []
          }
        }
      ]
    },
    {
      "cell_type": "markdown",
      "metadata": {
        "id": "QKB8DDXAbks-",
        "colab_type": "text"
      },
      "source": [
        "Passenger_Baggage_Count"
      ]
    },
    {
      "cell_type": "code",
      "metadata": {
        "id": "Lvz2rSdObn9j",
        "colab_type": "code",
        "colab": {
          "base_uri": "https://localhost:8080/",
          "height": 0
        },
        "outputId": "16c553aa-3989-4b86-f29a-97721b3ff920"
      },
      "source": [
        "sns.barplot(x='Passenger_Baggage_Count',y='Operation_Count',data=train_df)"
      ],
      "execution_count": 200,
      "outputs": [
        {
          "output_type": "execute_result",
          "data": {
            "text/plain": [
              "<matplotlib.axes._subplots.AxesSubplot at 0x7f567aed87f0>"
            ]
          },
          "metadata": {
            "tags": []
          },
          "execution_count": 200
        },
        {
          "output_type": "display_data",
          "data": {
            "image/png": "[encoded data removed]",
            "text/plain": [
              "<Figure size 576x720 with 1 Axes>"
            ]
          },
          "metadata": {
            "tags": []
          }
        }
      ]
    },
    {
      "cell_type": "code",
      "metadata": {
        "id": "i2-fQZQSeH-w",
        "colab_type": "code",
        "colab": {
          "base_uri": "https://localhost:8080/",
          "height": 0
        },
        "outputId": "53e078a6-3b72-42d4-8df9-99f160dd063a"
      },
      "source": [
        "sns.barplot(x='Fly_Light',y='Operation_Count',data=train_df)"
      ],
      "execution_count": 201,
      "outputs": [
        {
          "output_type": "execute_result",
          "data": {
            "text/plain": [
              "<matplotlib.axes._subplots.AxesSubplot at 0x7f567ac626a0>"
            ]
          },
          "metadata": {
            "tags": []
          },
          "execution_count": 201
        },
        {
          "output_type": "display_data",
          "data": {
            "image/png": "[encoded data removed]",
            "text/plain": [
              "<Figure size 576x720 with 1 Axes>"
            ]
          },
          "metadata": {
            "tags": []
          }
        }
      ]
    },
    {
      "cell_type": "code",
      "metadata": {
        "id": "HhFEa_YTctDg",
        "colab_type": "code",
        "colab": {
          "base_uri": "https://localhost:8080/",
          "height": 0
        },
        "outputId": "32d616f4-58d5-4af9-a565-15a129268823"
      },
      "source": [
        "sns.distplot(train_df['Passenger_Baggage_Weight'])"
      ],
      "execution_count": 202,
      "outputs": [
        {
          "output_type": "execute_result",
          "data": {
            "text/plain": [
              "<matplotlib.axes._subplots.AxesSubplot at 0x7f567ac317b8>"
            ]
          },
          "metadata": {
            "tags": []
          },
          "execution_count": 202
        },
        {
          "output_type": "display_data",
          "data": {
            "image/png": "[encoded data removed]",
            "text/plain": [
              "<Figure size 576x720 with 1 Axes>"
            ]
          },
          "metadata": {
            "tags": []
          }
        }
      ]
    },
    {
      "cell_type": "markdown",
      "metadata": {
        "id": "ljbwi0pUiLYp",
        "colab_type": "text"
      },
      "source": [
        "## Feature Importance\n",
        "\n",
        "Since no strong correlation with the target is found within the data, an automatic feature selection method is employed. Light GBM, is a greadient boosted tree based algorithm. Differing from other three based algorithms, it grows the trees vertically, i.e. it chooses the leaf with maximum loss and grows the tree from there. Details of this algorithm can be found in references.\n",
        "\n",
        "\n",
        "\n",
        "Important Features:\n",
        "---\n",
        "\n",
        "+ Day_of_Month\n",
        "+\tSWC_FQTV_Member\n",
        "+\tPassenger_Baggage_Count\n",
        "+\tDirect_Flight\n",
        "+\tEarly_Check_In_Status_Early\n",
        "+\tEconomy_Class\n",
        "+\tSWC_CIP_Passenger\n",
        "+\tTerminal_Number_?\n",
        "+\tPassenger_Gender_M\n",
        "+\tOperation_Initials_Reduced_MK\n",
        "+\tOperation_Channel_TS"
      ]
    },
    {
      "cell_type": "code",
      "metadata": {
        "id": "5C723jIGnITf",
        "colab_type": "code",
        "outputId": "3ea1fd79-a55b-45c1-e386-1efa35854eed",
        "colab": {
          "base_uri": "https://localhost:8080/",
          "height": 0
        }
      },
      "source": [
        "import lightgbm as lgb\n",
        "\n",
        "#train_onehot = train_onehot.drop(columns = [\"Departure_YMD_LMT\", \"Operation_YMD_LMT\", \"Operation_Initials\", \"Operation_Airport\"], axis =1)\n",
        "target = train_onehot[\"Operation_Count\"]\n",
        "train = train_onehot.drop([\"Operation_Count\"], axis = 1)\n",
        "#lightGBM model fit\n",
        "gbm = lgb.LGBMRegressor()\n",
        "gbm.fit(train, target)\n",
        "gbm.booster_.feature_importance()\n",
        "\"\"\n",
        "# importance of each attribute\n",
        "fea_imp_ = pd.DataFrame({'cols':train.columns, 'fea_imp':gbm.feature_importances_})\n",
        "fea_imp_.loc[fea_imp_.fea_imp > 0].sort_values(by=['fea_imp'], ascending = False)"
      ],
      "execution_count": 203,
      "outputs": [
        {
          "output_type": "execute_result",
          "data": {
            "text/html": [
              "<div>\n",
              "<style scoped>\n",
              "    .dataframe tbody tr th:only-of-type {\n",
              "        vertical-align: middle;\n",
              "    }\n",
              "\n",
              "    .dataframe tbody tr th {\n",
              "        vertical-align: top;\n",
              "    }\n",
              "\n",
              "    .dataframe thead th {\n",
              "        text-align: right;\n",
              "    }\n",
              "</style>\n",
              "<table border=\"1\" class=\"dataframe\">\n",
              "  <thead>\n",
              "    <tr style=\"text-align: right;\">\n",
              "      <th></th>\n",
              "      <th>cols</th>\n",
              "      <th>fea_imp</th>\n",
              "    </tr>\n",
              "  </thead>\n",
              "  <tbody>\n",
              "    <tr>\n",
              "      <th>0</th>\n",
              "      <td>Day_of_Month</td>\n",
              "      <td>373</td>\n",
              "    </tr>\n",
              "    <tr>\n",
              "      <th>2</th>\n",
              "      <td>SWC_FQTV_Member</td>\n",
              "      <td>202</td>\n",
              "    </tr>\n",
              "    <tr>\n",
              "      <th>3</th>\n",
              "      <td>Passenger_Baggage_Count</td>\n",
              "      <td>170</td>\n",
              "    </tr>\n",
              "    <tr>\n",
              "      <th>10</th>\n",
              "      <td>Direct_Flight</td>\n",
              "      <td>158</td>\n",
              "    </tr>\n",
              "    <tr>\n",
              "      <th>50</th>\n",
              "      <td>Early_Check_In_Status_Early</td>\n",
              "      <td>126</td>\n",
              "    </tr>\n",
              "    <tr>\n",
              "      <th>14</th>\n",
              "      <td>Economy_Class</td>\n",
              "      <td>116</td>\n",
              "    </tr>\n",
              "    <tr>\n",
              "      <th>6</th>\n",
              "      <td>SWC_CIP_Passenger</td>\n",
              "      <td>114</td>\n",
              "    </tr>\n",
              "    <tr>\n",
              "      <th>16</th>\n",
              "      <td>Terminal_Number_?</td>\n",
              "      <td>111</td>\n",
              "    </tr>\n",
              "    <tr>\n",
              "      <th>43</th>\n",
              "      <td>Passenger_Gender_M</td>\n",
              "      <td>100</td>\n",
              "    </tr>\n",
              "    <tr>\n",
              "      <th>61</th>\n",
              "      <td>Operation_Initials_Reduced_MK</td>\n",
              "      <td>95</td>\n",
              "    </tr>\n",
              "    <tr>\n",
              "      <th>29</th>\n",
              "      <td>Operation_Channel_TS</td>\n",
              "      <td>87</td>\n",
              "    </tr>\n",
              "    <tr>\n",
              "      <th>64</th>\n",
              "      <td>Operation_Initials_Reduced_SC</td>\n",
              "      <td>58</td>\n",
              "    </tr>\n",
              "    <tr>\n",
              "      <th>34</th>\n",
              "      <td>Passenger_Title_MISS</td>\n",
              "      <td>58</td>\n",
              "    </tr>\n",
              "    <tr>\n",
              "      <th>5</th>\n",
              "      <td>SWC_Staff</td>\n",
              "      <td>53</td>\n",
              "    </tr>\n",
              "    <tr>\n",
              "      <th>8</th>\n",
              "      <td>SWC_Has_Infant</td>\n",
              "      <td>50</td>\n",
              "    </tr>\n",
              "    <tr>\n",
              "      <th>7</th>\n",
              "      <td>SWC_VIP_Passenger</td>\n",
              "      <td>49</td>\n",
              "    </tr>\n",
              "    <tr>\n",
              "      <th>76</th>\n",
              "      <td>Departure Day_Sunday</td>\n",
              "      <td>46</td>\n",
              "    </tr>\n",
              "    <tr>\n",
              "      <th>74</th>\n",
              "      <td>Departure Day_Monday</td>\n",
              "      <td>45</td>\n",
              "    </tr>\n",
              "    <tr>\n",
              "      <th>9</th>\n",
              "      <td>Operation_Sonic_Code_Flag</td>\n",
              "      <td>44</td>\n",
              "    </tr>\n",
              "    <tr>\n",
              "      <th>21</th>\n",
              "      <td>Operation_Channel_CC</td>\n",
              "      <td>43</td>\n",
              "    </tr>\n",
              "    <tr>\n",
              "      <th>71</th>\n",
              "      <td>Outbound_Arrival_Airport_Reduced_OTHERS</td>\n",
              "      <td>42</td>\n",
              "    </tr>\n",
              "    <tr>\n",
              "      <th>35</th>\n",
              "      <td>Passenger_Title_MISSES</td>\n",
              "      <td>41</td>\n",
              "    </tr>\n",
              "    <tr>\n",
              "      <th>24</th>\n",
              "      <td>Operation_Channel_JM</td>\n",
              "      <td>39</td>\n",
              "    </tr>\n",
              "    <tr>\n",
              "      <th>25</th>\n",
              "      <td>Operation_Channel_JW</td>\n",
              "      <td>38</td>\n",
              "    </tr>\n",
              "    <tr>\n",
              "      <th>39</th>\n",
              "      <td>Passenger_Gender_C</td>\n",
              "      <td>38</td>\n",
              "    </tr>\n",
              "    <tr>\n",
              "      <th>28</th>\n",
              "      <td>Operation_Channel_SC</td>\n",
              "      <td>38</td>\n",
              "    </tr>\n",
              "    <tr>\n",
              "      <th>36</th>\n",
              "      <td>Passenger_Title_MISTER</td>\n",
              "      <td>37</td>\n",
              "    </tr>\n",
              "    <tr>\n",
              "      <th>41</th>\n",
              "      <td>Passenger_Gender_F</td>\n",
              "      <td>36</td>\n",
              "    </tr>\n",
              "    <tr>\n",
              "      <th>1</th>\n",
              "      <td>SWC_FLY</td>\n",
              "      <td>35</td>\n",
              "    </tr>\n",
              "    <tr>\n",
              "      <th>70</th>\n",
              "      <td>Outbound_Arrival_Airport_Reduced_KDT</td>\n",
              "      <td>35</td>\n",
              "    </tr>\n",
              "    <tr>\n",
              "      <th>...</th>\n",
              "      <td>...</td>\n",
              "      <td>...</td>\n",
              "    </tr>\n",
              "    <tr>\n",
              "      <th>55</th>\n",
              "      <td>Operation_Airport_Reduced_KDT</td>\n",
              "      <td>29</td>\n",
              "    </tr>\n",
              "    <tr>\n",
              "      <th>31</th>\n",
              "      <td>Operation_Channel_TY</td>\n",
              "      <td>29</td>\n",
              "    </tr>\n",
              "    <tr>\n",
              "      <th>63</th>\n",
              "      <td>Operation_Initials_Reduced_Q7</td>\n",
              "      <td>27</td>\n",
              "    </tr>\n",
              "    <tr>\n",
              "      <th>79</th>\n",
              "      <td>Departure Day_Wednesday</td>\n",
              "      <td>26</td>\n",
              "    </tr>\n",
              "    <tr>\n",
              "      <th>20</th>\n",
              "      <td>Operation_Channel_BD</td>\n",
              "      <td>26</td>\n",
              "    </tr>\n",
              "    <tr>\n",
              "      <th>26</th>\n",
              "      <td>Operation_Channel_QC</td>\n",
              "      <td>23</td>\n",
              "    </tr>\n",
              "    <tr>\n",
              "      <th>4</th>\n",
              "      <td>Passenger_Baggage_Weight</td>\n",
              "      <td>22</td>\n",
              "    </tr>\n",
              "    <tr>\n",
              "      <th>78</th>\n",
              "      <td>Departure Day_Tuesday</td>\n",
              "      <td>21</td>\n",
              "    </tr>\n",
              "    <tr>\n",
              "      <th>45</th>\n",
              "      <td>Operation_Channel_Group_Counter</td>\n",
              "      <td>18</td>\n",
              "    </tr>\n",
              "    <tr>\n",
              "      <th>77</th>\n",
              "      <td>Departure Day_Thursday</td>\n",
              "      <td>17</td>\n",
              "    </tr>\n",
              "    <tr>\n",
              "      <th>30</th>\n",
              "      <td>Operation_Channel_TW</td>\n",
              "      <td>16</td>\n",
              "    </tr>\n",
              "    <tr>\n",
              "      <th>18</th>\n",
              "      <td>Terminal_Number_P2</td>\n",
              "      <td>16</td>\n",
              "    </tr>\n",
              "    <tr>\n",
              "      <th>69</th>\n",
              "      <td>Inbound_Departure_Airport_Reduced_Unknown</td>\n",
              "      <td>15</td>\n",
              "    </tr>\n",
              "    <tr>\n",
              "      <th>19</th>\n",
              "      <td>Operation_Channel_?</td>\n",
              "      <td>15</td>\n",
              "    </tr>\n",
              "    <tr>\n",
              "      <th>47</th>\n",
              "      <td>Operation_Channel_Group_Mobile</td>\n",
              "      <td>15</td>\n",
              "    </tr>\n",
              "    <tr>\n",
              "      <th>62</th>\n",
              "      <td>Operation_Initials_Reduced_OTHERS</td>\n",
              "      <td>10</td>\n",
              "    </tr>\n",
              "    <tr>\n",
              "      <th>49</th>\n",
              "      <td>Operation_Channel_Group_Other</td>\n",
              "      <td>9</td>\n",
              "    </tr>\n",
              "    <tr>\n",
              "      <th>48</th>\n",
              "      <td>Operation_Channel_Group_Online</td>\n",
              "      <td>8</td>\n",
              "    </tr>\n",
              "    <tr>\n",
              "      <th>65</th>\n",
              "      <td>Inbound_Departure_Airport_Reduced_EST</td>\n",
              "      <td>8</td>\n",
              "    </tr>\n",
              "    <tr>\n",
              "      <th>12</th>\n",
              "      <td>Checkin_Outbound</td>\n",
              "      <td>7</td>\n",
              "    </tr>\n",
              "    <tr>\n",
              "      <th>58</th>\n",
              "      <td>Operation_Initials_Reduced_EY</td>\n",
              "      <td>7</td>\n",
              "    </tr>\n",
              "    <tr>\n",
              "      <th>42</th>\n",
              "      <td>Passenger_Gender_F/INF</td>\n",
              "      <td>6</td>\n",
              "    </tr>\n",
              "    <tr>\n",
              "      <th>33</th>\n",
              "      <td>Passenger_Title_DOCTOR</td>\n",
              "      <td>6</td>\n",
              "    </tr>\n",
              "    <tr>\n",
              "      <th>44</th>\n",
              "      <td>Passenger_Gender_M/INF</td>\n",
              "      <td>5</td>\n",
              "    </tr>\n",
              "    <tr>\n",
              "      <th>66</th>\n",
              "      <td>Inbound_Departure_Airport_Reduced_IST</td>\n",
              "      <td>3</td>\n",
              "    </tr>\n",
              "    <tr>\n",
              "      <th>72</th>\n",
              "      <td>Outbound_Arrival_Airport_Reduced_Unknown</td>\n",
              "      <td>3</td>\n",
              "    </tr>\n",
              "    <tr>\n",
              "      <th>57</th>\n",
              "      <td>Operation_Airport_Reduced_SKW</td>\n",
              "      <td>3</td>\n",
              "    </tr>\n",
              "    <tr>\n",
              "      <th>15</th>\n",
              "      <td>Fly_Light</td>\n",
              "      <td>2</td>\n",
              "    </tr>\n",
              "    <tr>\n",
              "      <th>51</th>\n",
              "      <td>Early_Check_In_Status_On-time</td>\n",
              "      <td>2</td>\n",
              "    </tr>\n",
              "    <tr>\n",
              "      <th>56</th>\n",
              "      <td>Operation_Airport_Reduced_OTHERS</td>\n",
              "      <td>1</td>\n",
              "    </tr>\n",
              "  </tbody>\n",
              "</table>\n",
              "<p>64 rows × 2 columns</p>\n",
              "</div>"
            ],
            "text/plain": [
              "                                         cols  fea_imp\n",
              "0                                Day_of_Month      373\n",
              "2                             SWC_FQTV_Member      202\n",
              "3                     Passenger_Baggage_Count      170\n",
              "10                              Direct_Flight      158\n",
              "50                Early_Check_In_Status_Early      126\n",
              "14                              Economy_Class      116\n",
              "6                           SWC_CIP_Passenger      114\n",
              "16                          Terminal_Number_?      111\n",
              "43                         Passenger_Gender_M      100\n",
              "61              Operation_Initials_Reduced_MK       95\n",
              "29                       Operation_Channel_TS       87\n",
              "64              Operation_Initials_Reduced_SC       58\n",
              "34                       Passenger_Title_MISS       58\n",
              "5                                   SWC_Staff       53\n",
              "8                              SWC_Has_Infant       50\n",
              "7                           SWC_VIP_Passenger       49\n",
              "76                       Departure Day_Sunday       46\n",
              "74                       Departure Day_Monday       45\n",
              "9                   Operation_Sonic_Code_Flag       44\n",
              "21                       Operation_Channel_CC       43\n",
              "71    Outbound_Arrival_Airport_Reduced_OTHERS       42\n",
              "35                     Passenger_Title_MISSES       41\n",
              "24                       Operation_Channel_JM       39\n",
              "25                       Operation_Channel_JW       38\n",
              "39                         Passenger_Gender_C       38\n",
              "28                       Operation_Channel_SC       38\n",
              "36                     Passenger_Title_MISTER       37\n",
              "41                         Passenger_Gender_F       36\n",
              "1                                     SWC_FLY       35\n",
              "70       Outbound_Arrival_Airport_Reduced_KDT       35\n",
              "..                                        ...      ...\n",
              "55              Operation_Airport_Reduced_KDT       29\n",
              "31                       Operation_Channel_TY       29\n",
              "63              Operation_Initials_Reduced_Q7       27\n",
              "79                    Departure Day_Wednesday       26\n",
              "20                       Operation_Channel_BD       26\n",
              "26                       Operation_Channel_QC       23\n",
              "4                    Passenger_Baggage_Weight       22\n",
              "78                      Departure Day_Tuesday       21\n",
              "45            Operation_Channel_Group_Counter       18\n",
              "77                     Departure Day_Thursday       17\n",
              "30                       Operation_Channel_TW       16\n",
              "18                         Terminal_Number_P2       16\n",
              "69  Inbound_Departure_Airport_Reduced_Unknown       15\n",
              "19                        Operation_Channel_?       15\n",
              "47             Operation_Channel_Group_Mobile       15\n",
              "62          Operation_Initials_Reduced_OTHERS       10\n",
              "49              Operation_Channel_Group_Other        9\n",
              "48             Operation_Channel_Group_Online        8\n",
              "65      Inbound_Departure_Airport_Reduced_EST        8\n",
              "12                           Checkin_Outbound        7\n",
              "58              Operation_Initials_Reduced_EY        7\n",
              "42                     Passenger_Gender_F/INF        6\n",
              "33                     Passenger_Title_DOCTOR        6\n",
              "44                     Passenger_Gender_M/INF        5\n",
              "66      Inbound_Departure_Airport_Reduced_IST        3\n",
              "72   Outbound_Arrival_Airport_Reduced_Unknown        3\n",
              "57              Operation_Airport_Reduced_SKW        3\n",
              "15                                  Fly_Light        2\n",
              "51              Early_Check_In_Status_On-time        2\n",
              "56           Operation_Airport_Reduced_OTHERS        1\n",
              "\n",
              "[64 rows x 2 columns]"
            ]
          },
          "metadata": {
            "tags": []
          },
          "execution_count": 203
        }
      ]
    },
    {
      "cell_type": "markdown",
      "metadata": {
        "id": "_s5-SDtkXAx5",
        "colab_type": "text"
      },
      "source": [
        "## Train/Validation/Test Split"
      ]
    },
    {
      "cell_type": "code",
      "metadata": {
        "id": "Mhpd6YAMXFT4",
        "colab_type": "code",
        "outputId": "34116af8-4148-4551-b48e-5cf3b1a0ba0b",
        "colab": {
          "base_uri": "https://localhost:8080/",
          "height": 119
        }
      },
      "source": [
        "from sklearn.model_selection import train_test_split\n",
        "# define target\n",
        "y = train_onehot.Operation_Count\n",
        "# define features\n",
        "X = train_onehot.drop(columns = [\"Operation_Count\"])\n",
        "# stratified sampling\n",
        "X_train, X_test, y_train, y_test = train_test_split(X, y, test_size=0.20, random_state=42) # stratify=X_train.Operation_Channel_Group, \n",
        "X_train, X_val, y_train, y_val = train_test_split(X_train, y_train, test_size=0.20, random_state=42)\n",
        "print('Training Features Shape:', X_train.shape)\n",
        "print('Training Labels Shape:', y_train.shape)\n",
        "print('Validation Features Shape:', X_val.shape)\n",
        "print('Validation Labels Shape:', y_val.shape)\n",
        "print('Testing Features Shape:', X_test.shape)\n",
        "print('Testing Labels Shape:', y_test.shape)"
      ],
      "execution_count": 204,
      "outputs": [
        {
          "output_type": "stream",
          "text": [
            "Training Features Shape: (517564, 80)\n",
            "Training Labels Shape: (517564,)\n",
            "Validation Features Shape: (129392, 80)\n",
            "Validation Labels Shape: (129392,)\n",
            "Testing Features Shape: (161740, 80)\n",
            "Testing Labels Shape: (161740,)\n"
          ],
          "name": "stdout"
        }
      ]
    },
    {
      "cell_type": "markdown",
      "metadata": {
        "id": "5SfWVU9Vm568",
        "colab_type": "text"
      },
      "source": [
        "## Feature Normalization\n",
        "\n",
        "Not needed for DT based algorithms"
      ]
    },
    {
      "cell_type": "markdown",
      "metadata": {
        "id": "MxuVUweJoh8p",
        "colab_type": "text"
      },
      "source": [
        ""
      ]
    },
    {
      "cell_type": "markdown",
      "metadata": {
        "id": "Vj6z6YnlYktH",
        "colab_type": "text"
      },
      "source": [
        "## Model Building\n",
        "\n",
        "### Baseline Model: Random Forest\n",
        "\n",
        "We first used all the features avaible."
      ]
    },
    {
      "cell_type": "markdown",
      "metadata": {
        "id": "c37J6m7FvQFu",
        "colab_type": "text"
      },
      "source": [
        "### MP Model:"
      ]
    },
    {
      "cell_type": "markdown",
      "metadata": {
        "id": "-NyjZ0ghpRsg",
        "colab_type": "text"
      },
      "source": [
        "We see that y values are dominated by '1's. Our first aim is to classify the y values as '1's and 'others'.  Then we will use linear regression to find a relation among 'others'.\n"
      ]
    },
    {
      "cell_type": "markdown",
      "metadata": {
        "id": "Vy2iSKMT1oEG",
        "colab_type": "text"
      },
      "source": [
        "#### Training and Validation of the model"
      ]
    },
    {
      "cell_type": "markdown",
      "metadata": {
        "id": "jQGzLN1CvF1H",
        "colab_type": "text"
      },
      "source": [
        "**PART 1: Classification**"
      ]
    },
    {
      "cell_type": "markdown",
      "metadata": {
        "id": "UStuJnsmsoBf",
        "colab_type": "text"
      },
      "source": [
        "The values that are different than '1' are set to zero \n",
        "\n"
      ]
    },
    {
      "cell_type": "code",
      "metadata": {
        "id": "h8GpObNO7XfM",
        "colab_type": "code",
        "colab": {}
      },
      "source": [
        "y_train_log = np.where(y_train == 1, 1, 0)\n",
        "y_val_log = np.where(y_val == 1, 1, 0)\n",
        "y_test_log = np.where(y_test == 1, 1, 0)"
      ],
      "execution_count": 0,
      "outputs": []
    },
    {
      "cell_type": "markdown",
      "metadata": {
        "id": "zhsLSg-wt4ED",
        "colab_type": "text"
      },
      "source": [
        "Logistic Regression is employed:"
      ]
    },
    {
      "cell_type": "code",
      "metadata": {
        "id": "meXC-UVw7rAq",
        "colab_type": "code",
        "outputId": "07f22dae-ab45-4393-90bd-f254c7d13a2b",
        "colab": {
          "base_uri": "https://localhost:8080/",
          "height": 156
        }
      },
      "source": [
        "from sklearn.linear_model import LogisticRegression\n",
        "\n",
        "logreg = LogisticRegression()\n",
        "logreg.fit(X_train, y_train_log)"
      ],
      "execution_count": 206,
      "outputs": [
        {
          "output_type": "stream",
          "text": [
            "/usr/local/lib/python3.6/dist-packages/sklearn/linear_model/logistic.py:432: FutureWarning: Default solver will be changed to 'lbfgs' in 0.22. Specify a solver to silence this warning.\n",
            "  FutureWarning)\n"
          ],
          "name": "stderr"
        },
        {
          "output_type": "execute_result",
          "data": {
            "text/plain": [
              "LogisticRegression(C=1.0, class_weight=None, dual=False, fit_intercept=True,\n",
              "                   intercept_scaling=1, l1_ratio=None, max_iter=100,\n",
              "                   multi_class='warn', n_jobs=None, penalty='l2',\n",
              "                   random_state=None, solver='warn', tol=0.0001, verbose=0,\n",
              "                   warm_start=False)"
            ]
          },
          "metadata": {
            "tags": []
          },
          "execution_count": 206
        }
      ]
    },
    {
      "cell_type": "markdown",
      "metadata": {
        "id": "r00CjMTdtl_H",
        "colab_type": "text"
      },
      "source": [
        "*Validation for Part 1:*"
      ]
    },
    {
      "cell_type": "markdown",
      "metadata": {
        "id": "ziOUogVQulwq",
        "colab_type": "text"
      },
      "source": [
        "A new column is created to encode the first prediction for validation data. "
      ]
    },
    {
      "cell_type": "markdown",
      "metadata": {
        "id": "tc2ZLUVtxiNP",
        "colab_type": "text"
      },
      "source": [
        ""
      ]
    },
    {
      "cell_type": "code",
      "metadata": {
        "id": "xqRY7E69-C6i",
        "colab_type": "code",
        "colab": {}
      },
      "source": [
        "X_val['Prediction1'] = logreg.predict(X_val)\n",
        "y_val_log_pred=X_val['Prediction1']"
      ],
      "execution_count": 0,
      "outputs": []
    },
    {
      "cell_type": "markdown",
      "metadata": {
        "id": "x988FDbjvdET",
        "colab_type": "text"
      },
      "source": [
        " **PART 2 : LINEAR REGRESSION**"
      ]
    },
    {
      "cell_type": "markdown",
      "metadata": {
        "id": "JmdXXfHXBqN6",
        "colab_type": "text"
      },
      "source": [
        "In this part, we will train the data set corresponding to y values different than 1.\n",
        "\n",
        "\n",
        "\n",
        "\n",
        "\n"
      ]
    },
    {
      "cell_type": "code",
      "metadata": {
        "id": "4ahiXpyoBpo4",
        "colab_type": "code",
        "colab": {}
      },
      "source": [
        "X_train_multi = X_train[y_train_log == 0]\n",
        "y_train_multi = y_train[y_train_log == 0]\n",
        "\n",
        "X_val_multi = X_val[y_val_log_pred == 0]\n",
        "y_val_multi = y_val[y_val_log_pred == 0]"
      ],
      "execution_count": 0,
      "outputs": []
    },
    {
      "cell_type": "markdown",
      "metadata": {
        "id": "NihMb3yTylMN",
        "colab_type": "text"
      },
      "source": [
        "Lasso regression is used"
      ]
    },
    {
      "cell_type": "code",
      "metadata": {
        "id": "ToKFcseu-Yy9",
        "colab_type": "code",
        "outputId": "858643e1-2c6a-4410-8efe-e61130af3571",
        "colab": {
          "base_uri": "https://localhost:8080/",
          "height": 105
        }
      },
      "source": [
        "from sklearn.linear_model import LinearRegression\n",
        "from sklearn.linear_model import RidgeCV, LassoCV, Ridge, Lasso\n",
        "\n",
        "reg = LassoCV()\n",
        "reg.fit(X_train_multi, y_train_multi)\n",
        "print(\"Best alpha using built-in LassoCV: %f\" % reg.alpha_)\n",
        "print(\"Best score using built-in LassoCV: %f\" %reg.score(X,y))\n",
        "coef = pd.Series(reg.coef_, index = X.columns)\n",
        "\n",
        "\n",
        "#regressor = LinearRegression()  \n",
        "#regressor.fit(X_train_multi, y_train_multi) #training the algorithm"
      ],
      "execution_count": 209,
      "outputs": [
        {
          "output_type": "stream",
          "text": [
            "/usr/local/lib/python3.6/dist-packages/sklearn/model_selection/_split.py:1978: FutureWarning: The default value of cv will change from 3 to 5 in version 0.22. Specify it explicitly to silence this warning.\n",
            "  warnings.warn(CV_WARNING, FutureWarning)\n"
          ],
          "name": "stderr"
        },
        {
          "output_type": "stream",
          "text": [
            "Best alpha using built-in LassoCV: 0.002810\n",
            "Best score using built-in LassoCV: -0.407558\n"
          ],
          "name": "stdout"
        }
      ]
    },
    {
      "cell_type": "code",
      "metadata": {
        "id": "fcFTlVlPXIE2",
        "colab_type": "code",
        "colab": {
          "base_uri": "https://localhost:8080/",
          "height": 34
        },
        "outputId": "813b5cdf-bbd4-4818-8960-82ca0aa99718"
      },
      "source": [
        "print(\"Lasso picked \" + str(sum(coef != 0)) + \" variables and eliminated the other \" +  str(sum(coef == 0)) + \" variables\")"
      ],
      "execution_count": 210,
      "outputs": [
        {
          "output_type": "stream",
          "text": [
            "Lasso picked 40 variables and eliminated the other 40 variables\n"
          ],
          "name": "stdout"
        }
      ]
    },
    {
      "cell_type": "markdown",
      "metadata": {
        "id": "hEpr2NZ6y4rB",
        "colab_type": "text"
      },
      "source": [
        "Feature importance:"
      ]
    },
    {
      "cell_type": "code",
      "metadata": {
        "id": "YE7ceB4rXN5C",
        "colab_type": "code",
        "colab": {
          "base_uri": "https://localhost:8080/",
          "height": 624
        },
        "outputId": "3d1e944b-c769-4776-e64f-88b9b7ad6c05"
      },
      "source": [
        "imp_coef = coef.sort_values()\n",
        "import matplotlib\n",
        "matplotlib.rcParams['figure.figsize'] = (8.0, 10.0)\n",
        "imp_coef.plot(kind = \"barh\")\n",
        "plt.title(\"Feature importance using Lasso Model\")"
      ],
      "execution_count": 211,
      "outputs": [
        {
          "output_type": "execute_result",
          "data": {
            "text/plain": [
              "Text(0.5, 1.0, 'Feature importance using Lasso Model')"
            ]
          },
          "metadata": {
            "tags": []
          },
          "execution_count": 211
        },
        {
          "output_type": "display_data",
          "data": {
            "image/png": "[encoded data removed]",
            "text/plain": [
              "<Figure size 576x720 with 1 Axes>"
            ]
          },
          "metadata": {
            "tags": []
          }
        }
      ]
    },
    {
      "cell_type": "markdown",
      "metadata": {
        "id": "-KjBqpa3y9O3",
        "colab_type": "text"
      },
      "source": [
        "Columns are chosen according to above Lasso model"
      ]
    },
    {
      "cell_type": "code",
      "metadata": {
        "id": "Jqw7NSrLXgWO",
        "colab_type": "code",
        "colab": {}
      },
      "source": [
        "cols = ['Fly_Light', 'Operation_Initials_Reduced_SC', 'Direct_Flight', 'Operation_Initials_Reduced_EY', 'Economy_Class', 'Passenger_Gender_M', \n",
        "        'Inbound_Departure_Airport_Reduced_Unknown', 'Early_Check_In_Status_Early', 'Operation_Channel_TS', 'SWC_FLY']"
      ],
      "execution_count": 0,
      "outputs": []
    },
    {
      "cell_type": "code",
      "metadata": {
        "id": "b59e28maYf_f",
        "colab_type": "code",
        "colab": {}
      },
      "source": [
        "X_train_multi = X_train_multi[cols]\n",
        "X_val_multi = X_val[cols]"
      ],
      "execution_count": 0,
      "outputs": []
    },
    {
      "cell_type": "markdown",
      "metadata": {
        "id": "vFHUiux3zSvo",
        "colab_type": "text"
      },
      "source": [
        "Chosen columns are used in linear regression:"
      ]
    },
    {
      "cell_type": "code",
      "metadata": {
        "id": "10Mz6YYyYrSp",
        "colab_type": "code",
        "colab": {}
      },
      "source": [
        "regressor = LinearRegression()  \n",
        "regressor.fit(X_train_multi, y_train_multi) #training the algorithm\n",
        "\n",
        "X_val['Prediction2'] = regressor.predict(X_val_multi)"
      ],
      "execution_count": 0,
      "outputs": []
    },
    {
      "cell_type": "code",
      "metadata": {
        "id": "MulCixNZjeVa",
        "colab_type": "code",
        "colab": {}
      },
      "source": [
        "X_val['Prediction2'] = X_val['Prediction2'].round()\n",
        "y_val_multi_pred= X_val['Prediction2']"
      ],
      "execution_count": 0,
      "outputs": []
    },
    {
      "cell_type": "markdown",
      "metadata": {
        "id": "0DNoi_9Jzq-K",
        "colab_type": "text"
      },
      "source": [
        "Data type is changed to integer:"
      ]
    },
    {
      "cell_type": "code",
      "metadata": {
        "id": "lenlZDGxmPHM",
        "colab_type": "code",
        "colab": {}
      },
      "source": [
        "X_val['Prediction2'] = X_val['Prediction2'].astype('int64')"
      ],
      "execution_count": 0,
      "outputs": []
    },
    {
      "cell_type": "markdown",
      "metadata": {
        "id": "qnjo-vWj0GXt",
        "colab_type": "text"
      },
      "source": [
        "Final prediction combining the previus results are encoded in a third column called Prediction_fin"
      ]
    },
    {
      "cell_type": "code",
      "metadata": {
        "id": "KLzzUCRhkpxP",
        "colab_type": "code",
        "colab": {}
      },
      "source": [
        "X_val['Prediction_fin'] = np.where((X_val.Prediction1 == 1), 1, X_val.Prediction2)"
      ],
      "execution_count": 0,
      "outputs": []
    },
    {
      "cell_type": "code",
      "metadata": {
        "id": "nniA3k7_lAdm",
        "colab_type": "code",
        "colab": {}
      },
      "source": [
        "X_val['Prediction_fin'] = X_val['Prediction_fin'].astype('int64')"
      ],
      "execution_count": 0,
      "outputs": []
    },
    {
      "cell_type": "markdown",
      "metadata": {
        "id": "vr_0gVKB03Sk",
        "colab_type": "text"
      },
      "source": [
        "Accuracy check:"
      ]
    },
    {
      "cell_type": "code",
      "metadata": {
        "id": "aX9BZ7pDWOXL",
        "colab_type": "code",
        "outputId": "69cc478b-cbc9-4e8c-bf15-b7e5e0e80f4e",
        "colab": {
          "base_uri": "https://localhost:8080/",
          "height": 34
        }
      },
      "source": [
        "from sklearn.metrics import accuracy_score\n",
        "\n",
        "score = accuracy_score(X_val['Prediction_fin'], y_val)\n",
        "score\n"
      ],
      "execution_count": 219,
      "outputs": [
        {
          "output_type": "execute_result",
          "data": {
            "text/plain": [
              "0.796123407938667"
            ]
          },
          "metadata": {
            "tags": []
          },
          "execution_count": 219
        }
      ]
    },
    {
      "cell_type": "markdown",
      "metadata": {
        "id": "eL4Der4r1TAt",
        "colab_type": "text"
      },
      "source": [
        "Error etc."
      ]
    },
    {
      "cell_type": "code",
      "metadata": {
        "id": "481hCUOMMJxg",
        "colab_type": "code",
        "colab": {
          "base_uri": "https://localhost:8080/",
          "height": 51
        },
        "outputId": "d7c6ba30-7fc8-42cd-d7f7-3ff99d64c1df"
      },
      "source": [
        "# Calculate the absolute errors\n",
        "errors = abs(X_val['Prediction_fin'] - y_val)\n",
        "# Print out the mean absolute error (mae)\n",
        "print('Mean Absolute Error:', round(np.mean(errors), 2), 'degrees.')\n",
        "# Calculate mean absolute percentage error (MAPE)\n",
        "mape = 100 * (errors / y_val)\n",
        "# Calculate and display accuracy\n",
        "accuracy = 100 - np.mean(mape)\n",
        "print('Accuracy:', round(accuracy, 2), '%.')"
      ],
      "execution_count": 220,
      "outputs": [
        {
          "output_type": "stream",
          "text": [
            "Mean Absolute Error: 0.57 degrees.\n",
            "Accuracy: 74.9 %.\n"
          ],
          "name": "stdout"
        }
      ]
    },
    {
      "cell_type": "markdown",
      "metadata": {
        "id": "7H05xAUwYusL",
        "colab_type": "text"
      },
      "source": [
        "## Test and Evaluation\n",
        "\n"
      ]
    },
    {
      "cell_type": "markdown",
      "metadata": {
        "id": "5yb7Oe9l2PvZ",
        "colab_type": "text"
      },
      "source": [
        "Applying same staps on the test data"
      ]
    },
    {
      "cell_type": "markdown",
      "metadata": {
        "id": "vtU1lhC12391",
        "colab_type": "text"
      },
      "source": [
        ""
      ]
    },
    {
      "cell_type": "code",
      "metadata": {
        "id": "s5gMeIc025TF",
        "colab_type": "code",
        "colab": {
          "base_uri": "https://localhost:8080/",
          "height": 139
        },
        "outputId": "ccc6b250-c21b-4a18-faf5-8410289ca154"
      },
      "source": [
        "X_test['Prediction1'] = logreg.predict(X_test)\n",
        "y_test_log_pred=X_test['Prediction1']"
      ],
      "execution_count": 222,
      "outputs": [
        {
          "output_type": "stream",
          "text": [
            "/usr/local/lib/python3.6/dist-packages/ipykernel_launcher.py:1: SettingWithCopyWarning: \n",
            "A value is trying to be set on a copy of a slice from a DataFrame.\n",
            "Try using .loc[row_indexer,col_indexer] = value instead\n",
            "\n",
            "See the caveats in the documentation: http://pandas.pydata.org/pandas-docs/stable/indexing.html#indexing-view-versus-copy\n",
            "  \"\"\"Entry point for launching an IPython kernel.\n"
          ],
          "name": "stderr"
        }
      ]
    },
    {
      "cell_type": "code",
      "metadata": {
        "id": "TTaSW4cN5XJU",
        "colab_type": "code",
        "colab": {}
      },
      "source": [
        "X_test_multi = X_test[cols]"
      ],
      "execution_count": 0,
      "outputs": []
    },
    {
      "cell_type": "code",
      "metadata": {
        "id": "xqNIY_ni4Aoj",
        "colab_type": "code",
        "colab": {
          "base_uri": "https://localhost:8080/",
          "height": 139
        },
        "outputId": "0a61fa8f-f203-4e2a-f8b5-d2e2f42c3cd6"
      },
      "source": [
        "X_test['Prediction2'] = regressor.predict(X_test_multi)"
      ],
      "execution_count": 232,
      "outputs": [
        {
          "output_type": "stream",
          "text": [
            "/usr/local/lib/python3.6/dist-packages/ipykernel_launcher.py:1: SettingWithCopyWarning: \n",
            "A value is trying to be set on a copy of a slice from a DataFrame.\n",
            "Try using .loc[row_indexer,col_indexer] = value instead\n",
            "\n",
            "See the caveats in the documentation: http://pandas.pydata.org/pandas-docs/stable/indexing.html#indexing-view-versus-copy\n",
            "  \"\"\"Entry point for launching an IPython kernel.\n"
          ],
          "name": "stderr"
        }
      ]
    },
    {
      "cell_type": "code",
      "metadata": {
        "id": "lzfbHHiq7pdb",
        "colab_type": "code",
        "colab": {
          "base_uri": "https://localhost:8080/",
          "height": 139
        },
        "outputId": "d5b62ab0-3fb6-4b16-8812-f9d4526c91ed"
      },
      "source": [
        "X_test['Prediction2'] = X_test['Prediction2'].round()\n",
        "y_test_multi_pred= X_test['Prediction2']"
      ],
      "execution_count": 233,
      "outputs": [
        {
          "output_type": "stream",
          "text": [
            "/usr/local/lib/python3.6/dist-packages/ipykernel_launcher.py:1: SettingWithCopyWarning: \n",
            "A value is trying to be set on a copy of a slice from a DataFrame.\n",
            "Try using .loc[row_indexer,col_indexer] = value instead\n",
            "\n",
            "See the caveats in the documentation: http://pandas.pydata.org/pandas-docs/stable/indexing.html#indexing-view-versus-copy\n",
            "  \"\"\"Entry point for launching an IPython kernel.\n"
          ],
          "name": "stderr"
        }
      ]
    },
    {
      "cell_type": "code",
      "metadata": {
        "id": "sZcXqW6w70iH",
        "colab_type": "code",
        "colab": {
          "base_uri": "https://localhost:8080/",
          "height": 139
        },
        "outputId": "dccc7fc3-53ca-4e10-bc55-c6d5442dcbda"
      },
      "source": [
        "X_test['Prediction2'] = X_test['Prediction2'].astype('int64')"
      ],
      "execution_count": 234,
      "outputs": [
        {
          "output_type": "stream",
          "text": [
            "/usr/local/lib/python3.6/dist-packages/ipykernel_launcher.py:1: SettingWithCopyWarning: \n",
            "A value is trying to be set on a copy of a slice from a DataFrame.\n",
            "Try using .loc[row_indexer,col_indexer] = value instead\n",
            "\n",
            "See the caveats in the documentation: http://pandas.pydata.org/pandas-docs/stable/indexing.html#indexing-view-versus-copy\n",
            "  \"\"\"Entry point for launching an IPython kernel.\n"
          ],
          "name": "stderr"
        }
      ]
    },
    {
      "cell_type": "code",
      "metadata": {
        "id": "2OYdYEiX79VF",
        "colab_type": "code",
        "colab": {
          "base_uri": "https://localhost:8080/",
          "height": 139
        },
        "outputId": "b4282844-3e14-42d8-9853-ac4cb87848e2"
      },
      "source": [
        "X_test['Prediction_finito'] = np.where((X_test.Prediction1 == 1), 1, X_test.Prediction2)"
      ],
      "execution_count": 235,
      "outputs": [
        {
          "output_type": "stream",
          "text": [
            "/usr/local/lib/python3.6/dist-packages/ipykernel_launcher.py:1: SettingWithCopyWarning: \n",
            "A value is trying to be set on a copy of a slice from a DataFrame.\n",
            "Try using .loc[row_indexer,col_indexer] = value instead\n",
            "\n",
            "See the caveats in the documentation: http://pandas.pydata.org/pandas-docs/stable/indexing.html#indexing-view-versus-copy\n",
            "  \"\"\"Entry point for launching an IPython kernel.\n"
          ],
          "name": "stderr"
        }
      ]
    },
    {
      "cell_type": "code",
      "metadata": {
        "id": "Y6U9kMzh8WW_",
        "colab_type": "code",
        "colab": {
          "base_uri": "https://localhost:8080/",
          "height": 139
        },
        "outputId": "ca621105-eb0f-467b-b1e5-656ea9890b26"
      },
      "source": [
        "X_test['Prediction_finito'] = X_test['Prediction_finito'].astype('int64')"
      ],
      "execution_count": 236,
      "outputs": [
        {
          "output_type": "stream",
          "text": [
            "/usr/local/lib/python3.6/dist-packages/ipykernel_launcher.py:1: SettingWithCopyWarning: \n",
            "A value is trying to be set on a copy of a slice from a DataFrame.\n",
            "Try using .loc[row_indexer,col_indexer] = value instead\n",
            "\n",
            "See the caveats in the documentation: http://pandas.pydata.org/pandas-docs/stable/indexing.html#indexing-view-versus-copy\n",
            "  \"\"\"Entry point for launching an IPython kernel.\n"
          ],
          "name": "stderr"
        }
      ]
    },
    {
      "cell_type": "code",
      "metadata": {
        "id": "47CirK6c8eGd",
        "colab_type": "code",
        "colab": {
          "base_uri": "https://localhost:8080/",
          "height": 51
        },
        "outputId": "9301e814-a44d-45a2-bb66-d0fff3749444"
      },
      "source": [
        "# Calculate the absolute errors\n",
        "errors = abs(X_test['Prediction_finito'] - y_test)\n",
        "# Print out the mean absolute error (mae)\n",
        "print('Mean Absolute Error:', round(np.mean(errors), 2), 'degrees.')\n",
        "# Calculate mean absolute percentage error (MAPE)\n",
        "mape = 100 * (errors / y_test)\n",
        "# Calculate and display accuracy\n",
        "accuracy = 100 - np.mean(mape)\n",
        "print('Accuracy:', round(accuracy, 2), '%.')"
      ],
      "execution_count": 237,
      "outputs": [
        {
          "output_type": "stream",
          "text": [
            "Mean Absolute Error: 0.58 degrees.\n",
            "Accuracy: 74.35 %.\n"
          ],
          "name": "stdout"
        }
      ]
    },
    {
      "cell_type": "markdown",
      "metadata": {
        "id": "bfB_Ran6ZInu",
        "colab_type": "text"
      },
      "source": [
        "## Prediction\n",
        "\n",
        "on result_df"
      ]
    },
    {
      "cell_type": "code",
      "metadata": {
        "id": "_9xVp7mm_2u0",
        "colab_type": "code",
        "colab": {}
      },
      "source": [
        "result_df = result_df.drop(columns = [\"Departure_YMD_LMT\", \n",
        "                                    \"Operation_YMD_LMT\", \n",
        "                                    \"Operation_Initials\", \n",
        "                                    \"Operation_Airport\",\n",
        "                                    \"Inbound_Departure_Airport\",\n",
        "                                    \"Outbound_Arrival_Airport\",\n",
        "                                    \"Terminal_Name\",\n",
        "                                    \"Early_Check_In\",\n",
        "                                       \"Operation_Count\"], axis =1)"
      ],
      "execution_count": 0,
      "outputs": []
    },
    {
      "cell_type": "code",
      "metadata": {
        "id": "2825neU2AC7d",
        "colab_type": "code",
        "colab": {
          "base_uri": "https://localhost:8080/",
          "height": 204
        },
        "outputId": "ea337c89-6825-4f2b-e6cd-4645a320e7b1"
      },
      "source": [
        "result_onehot = result_df.copy()\n",
        "for cols in result_df.columns: #leave as train_df!!!\n",
        "  if result_onehot[cols].dtype.name == 'category':\n",
        "    print(cols)\n",
        "    one_hot = pd.get_dummies(train_df[cols], prefix = cols)\n",
        "    result_onehot = result_onehot.drop(cols,axis = 1)\n",
        "    result_onehot = result_onehot.join(one_hot)\n"
      ],
      "execution_count": 239,
      "outputs": [
        {
          "output_type": "stream",
          "text": [
            "Terminal_Number\n",
            "Operation_Channel\n",
            "Passenger_Title\n",
            "Passenger_Gender\n",
            "Operation_Channel_Group\n",
            "Early_Check_In_Status\n",
            "Operation_Airport_Reduced\n",
            "Operation_Initials_Reduced\n",
            "Inbound_Departure_Airport_Reduced\n",
            "Outbound_Arrival_Airport_Reduced\n",
            "Departure Day\n"
          ],
          "name": "stdout"
        }
      ]
    },
    {
      "cell_type": "code",
      "metadata": {
        "id": "0ckSHAWzATaw",
        "colab_type": "code",
        "colab": {}
      },
      "source": [
        "result_onehot['Prediction1'] = logreg.predict(result_onehot)\n"
      ],
      "execution_count": 0,
      "outputs": []
    },
    {
      "cell_type": "code",
      "metadata": {
        "id": "KVvWZFqqATVO",
        "colab_type": "code",
        "colab": {}
      },
      "source": [
        "result_onehot_multi = result_onehot[cols]"
      ],
      "execution_count": 0,
      "outputs": []
    },
    {
      "cell_type": "code",
      "metadata": {
        "id": "-AUJ0wd6ATUU",
        "colab_type": "code",
        "colab": {
          "base_uri": "https://localhost:8080/",
          "height": 360
        },
        "outputId": "bd6fc555-57e6-480d-8898-fa42ed50cee9"
      },
      "source": [
        "result_onehot['Prediction2'] = regressor.predict(result_onehot_multi)"
      ],
      "execution_count": 250,
      "outputs": [
        {
          "output_type": "error",
          "ename": "ValueError",
          "evalue": "ignored",
          "traceback": [
            "\u001b[0;31m---------------------------------------------------------------------------\u001b[0m",
            "\u001b[0;31mValueError\u001b[0m                                Traceback (most recent call last)",
            "\u001b[0;32m<ipython-input-250-63a8fc41a774>\u001b[0m in \u001b[0;36m<module>\u001b[0;34m()\u001b[0m\n\u001b[0;32m----> 1\u001b[0;31m \u001b[0mresult_onehot\u001b[0m\u001b[0;34m[\u001b[0m\u001b[0;34m'Prediction2'\u001b[0m\u001b[0;34m]\u001b[0m \u001b[0;34m=\u001b[0m \u001b[0mregressor\u001b[0m\u001b[0;34m.\u001b[0m\u001b[0mpredict\u001b[0m\u001b[0;34m(\u001b[0m\u001b[0mresult_onehot_multi\u001b[0m\u001b[0;34m)\u001b[0m\u001b[0;34m\u001b[0m\u001b[0;34m\u001b[0m\u001b[0m\n\u001b[0m",
            "\u001b[0;32m/usr/local/lib/python3.6/dist-packages/sklearn/linear_model/base.py\u001b[0m in \u001b[0;36mpredict\u001b[0;34m(self, X)\u001b[0m\n\u001b[1;32m    219\u001b[0m             \u001b[0mReturns\u001b[0m \u001b[0mpredicted\u001b[0m \u001b[0mvalues\u001b[0m\u001b[0;34m.\u001b[0m\u001b[0;34m\u001b[0m\u001b[0;34m\u001b[0m\u001b[0m\n\u001b[1;32m    220\u001b[0m         \"\"\"\n\u001b[0;32m--> 221\u001b[0;31m         \u001b[0;32mreturn\u001b[0m \u001b[0mself\u001b[0m\u001b[0;34m.\u001b[0m\u001b[0m_decision_function\u001b[0m\u001b[0;34m(\u001b[0m\u001b[0mX\u001b[0m\u001b[0;34m)\u001b[0m\u001b[0;34m\u001b[0m\u001b[0;34m\u001b[0m\u001b[0m\n\u001b[0m\u001b[1;32m    222\u001b[0m \u001b[0;34m\u001b[0m\u001b[0m\n\u001b[1;32m    223\u001b[0m     \u001b[0m_preprocess_data\u001b[0m \u001b[0;34m=\u001b[0m \u001b[0mstaticmethod\u001b[0m\u001b[0;34m(\u001b[0m\u001b[0m_preprocess_data\u001b[0m\u001b[0;34m)\u001b[0m\u001b[0;34m\u001b[0m\u001b[0;34m\u001b[0m\u001b[0m\n",
            "\u001b[0;32m/usr/local/lib/python3.6/dist-packages/sklearn/linear_model/base.py\u001b[0m in \u001b[0;36m_decision_function\u001b[0;34m(self, X)\u001b[0m\n\u001b[1;32m    202\u001b[0m         \u001b[0mcheck_is_fitted\u001b[0m\u001b[0;34m(\u001b[0m\u001b[0mself\u001b[0m\u001b[0;34m,\u001b[0m \u001b[0;34m\"coef_\"\u001b[0m\u001b[0;34m)\u001b[0m\u001b[0;34m\u001b[0m\u001b[0;34m\u001b[0m\u001b[0m\n\u001b[1;32m    203\u001b[0m \u001b[0;34m\u001b[0m\u001b[0m\n\u001b[0;32m--> 204\u001b[0;31m         \u001b[0mX\u001b[0m \u001b[0;34m=\u001b[0m \u001b[0mcheck_array\u001b[0m\u001b[0;34m(\u001b[0m\u001b[0mX\u001b[0m\u001b[0;34m,\u001b[0m \u001b[0maccept_sparse\u001b[0m\u001b[0;34m=\u001b[0m\u001b[0;34m[\u001b[0m\u001b[0;34m'csr'\u001b[0m\u001b[0;34m,\u001b[0m \u001b[0;34m'csc'\u001b[0m\u001b[0;34m,\u001b[0m \u001b[0;34m'coo'\u001b[0m\u001b[0;34m]\u001b[0m\u001b[0;34m)\u001b[0m\u001b[0;34m\u001b[0m\u001b[0;34m\u001b[0m\u001b[0m\n\u001b[0m\u001b[1;32m    205\u001b[0m         return safe_sparse_dot(X, self.coef_.T,\n\u001b[1;32m    206\u001b[0m                                dense_output=True) + self.intercept_\n",
            "\u001b[0;32m/usr/local/lib/python3.6/dist-packages/sklearn/utils/validation.py\u001b[0m in \u001b[0;36mcheck_array\u001b[0;34m(array, accept_sparse, accept_large_sparse, dtype, order, copy, force_all_finite, ensure_2d, allow_nd, ensure_min_samples, ensure_min_features, warn_on_dtype, estimator)\u001b[0m\n\u001b[1;32m    519\u001b[0m                     \u001b[0;34m\"Reshape your data either using array.reshape(-1, 1) if \"\u001b[0m\u001b[0;34m\u001b[0m\u001b[0;34m\u001b[0m\u001b[0m\n\u001b[1;32m    520\u001b[0m                     \u001b[0;34m\"your data has a single feature or array.reshape(1, -1) \"\u001b[0m\u001b[0;34m\u001b[0m\u001b[0;34m\u001b[0m\u001b[0m\n\u001b[0;32m--> 521\u001b[0;31m                     \"if it contains a single sample.\".format(array))\n\u001b[0m\u001b[1;32m    522\u001b[0m \u001b[0;34m\u001b[0m\u001b[0m\n\u001b[1;32m    523\u001b[0m         \u001b[0;31m# in the future np.flexible dtypes will be handled like object dtypes\u001b[0m\u001b[0;34m\u001b[0m\u001b[0;34m\u001b[0m\u001b[0;34m\u001b[0m\u001b[0m\n",
            "\u001b[0;31mValueError\u001b[0m: Expected 2D array, got 1D array instead:\narray=[0 0 1 ... 1 0 0].\nReshape your data either using array.reshape(-1, 1) if your data has a single feature or array.reshape(1, -1) if it contains a single sample."
          ]
        }
      ]
    },
    {
      "cell_type": "code",
      "metadata": {
        "id": "B05zemH5ATPg",
        "colab_type": "code",
        "colab": {}
      },
      "source": [
        ""
      ],
      "execution_count": 0,
      "outputs": []
    },
    {
      "cell_type": "code",
      "metadata": {
        "id": "I50ChWuQATOr",
        "colab_type": "code",
        "colab": {}
      },
      "source": [
        ""
      ],
      "execution_count": 0,
      "outputs": []
    },
    {
      "cell_type": "markdown",
      "metadata": {
        "id": "E2NSDVEbZNKJ",
        "colab_type": "text"
      },
      "source": [
        "## Submission"
      ]
    },
    {
      "cell_type": "markdown",
      "metadata": {
        "id": "JO2xXD7aF3Rs",
        "colab_type": "text"
      },
      "source": [
        "## References\n",
        "\n",
        "\n",
        "1.   [Impute Missing Values](https://jamesrledoux.com/code/imputation)\n",
        "2.   [Is it better to drop or impute values from data sets when applying ML, or would it be better to label them as 'missing' for categorical variables?](https://www.quora.com/Is-it-better-to-drop-or-impute-values-from-data-sets-when-applying-ML-or-would-it-be-better-to-label-them-as-missing-for-categorical-variables)\n",
        "\n"
      ]
    }
  ]
}