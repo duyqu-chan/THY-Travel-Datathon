{
  "nbformat": 4,
  "nbformat_minor": 0,
  "metadata": {
    "colab": {
      "name": "TravelDatathon_preselection.ipynb",
      "version": "0.3.2",
      "provenance": [],
      "collapsed_sections": [],
      "toc_visible": true,
      "include_colab_link": true
    },
    "kernelspec": {
      "name": "python3",
      "display_name": "Python 3"
    }
  },
  "cells": [
    {
      "cell_type": "markdown",
      "metadata": {
        "id": "view-in-github",
        "colab_type": "text"
      },
      "source": [
        "<a href=\"https://colab.research.google.com/github/duyqu-chan/THY-Travel-Datathon/blob/master/TravelDatathon_preselection_no_v1.ipynb\" target=\"_parent\"><img src=\"https://colab.research.google.com/assets/colab-badge.svg\" alt=\"Open In Colab\"/></a>"
      ]
    },
    {
      "cell_type": "markdown",
      "metadata": {
        "id": "d6umBn88WlMy",
        "colab_type": "text"
      },
      "source": [
        "#THY Travel Datathon Preselection Case Study\n",
        "\n",
        "by Duygu Can, Meriç Pakkan, Neslihan Oflaz\n",
        "\n",
        "\n",
        "Flying passengers can check-in through the web site, applications, kiosks and counters. In this case study content, the train data including the number of seven-month passenger check-in operations is provided. We want you to estimate the number of channels (column Operation_Count) in the csv file attached."
      ]
    },
    {
      "cell_type": "markdown",
      "metadata": {
        "id": "eG0UfrxPXz_H",
        "colab_type": "text"
      },
      "source": [
        "Mount drive to load the data:"
      ]
    },
    {
      "cell_type": "code",
      "metadata": {
        "id": "XsobMdDBWfjX",
        "colab_type": "code",
        "outputId": "0d461311-e33a-497a-b778-7c5103e98a7e",
        "colab": {
          "base_uri": "https://localhost:8080/",
          "height": 54
        }
      },
      "source": [
        "# Run this cell to mount your Google Drive.\n",
        "from google.colab import drive\n",
        "drive.mount('/content/drive')"
      ],
      "execution_count": 58,
      "outputs": [
        {
          "output_type": "stream",
          "text": [
            "Drive already mounted at /content/drive; to attempt to forcibly remount, call drive.mount(\"/content/drive\", force_remount=True).\n"
          ],
          "name": "stdout"
        }
      ]
    },
    {
      "cell_type": "markdown",
      "metadata": {
        "id": "0kLlbk20ZyIq",
        "colab_type": "text"
      },
      "source": [
        "## Dataset Expolaration"
      ]
    },
    {
      "cell_type": "markdown",
      "metadata": {
        "id": "SCQudbprX5pl",
        "colab_type": "text"
      },
      "source": [
        "Upload the data by reading provided .csv files from Google Drive (change path if needed). There are 808696 samples in the training and 121921 instances in the test sets. Each has 23 features."
      ]
    },
    {
      "cell_type": "code",
      "metadata": {
        "id": "WmZbEAnwYJj6",
        "colab_type": "code",
        "outputId": "68755ed6-3201-496c-8188-6d27c1f27c0a",
        "colab": {
          "base_uri": "https://localhost:8080/",
          "height": 258
        }
      },
      "source": [
        "import pandas as pd\n",
        "train_df = pd.read_csv(\"/content/drive/My Drive/Travel Datathon/Assessment Data/Assessment Train Data.csv\")\n",
        "result_df = pd.read_csv(\"/content/drive/My Drive/Travel Datathon/Assessment Data/Assessment Result File.csv\")\n",
        "print(train_df.shape)\n",
        "print(result_df.shape)\n",
        "train_df.head()"
      ],
      "execution_count": 59,
      "outputs": [
        {
          "output_type": "stream",
          "text": [
            "(808696, 23)\n",
            "(121921, 23)\n"
          ],
          "name": "stdout"
        },
        {
          "output_type": "execute_result",
          "data": {
            "text/html": [
              "<div>\n",
              "<style scoped>\n",
              "    .dataframe tbody tr th:only-of-type {\n",
              "        vertical-align: middle;\n",
              "    }\n",
              "\n",
              "    .dataframe tbody tr th {\n",
              "        vertical-align: top;\n",
              "    }\n",
              "\n",
              "    .dataframe thead th {\n",
              "        text-align: right;\n",
              "    }\n",
              "</style>\n",
              "<table border=\"1\" class=\"dataframe\">\n",
              "  <thead>\n",
              "    <tr style=\"text-align: right;\">\n",
              "      <th></th>\n",
              "      <th>Departure_YMD_LMT</th>\n",
              "      <th>Operation_YMD_LMT</th>\n",
              "      <th>Departure_Airport</th>\n",
              "      <th>Operation_Airport</th>\n",
              "      <th>Terminal_Number</th>\n",
              "      <th>Terminal_Name</th>\n",
              "      <th>Operation_Initials</th>\n",
              "      <th>Operation_Sonic_Code</th>\n",
              "      <th>Operation_Channel</th>\n",
              "      <th>Passenger_Title</th>\n",
              "      <th>Passenger_Gender</th>\n",
              "      <th>Inbound_Departure_Airport</th>\n",
              "      <th>Outbound_Arrival_Airport</th>\n",
              "      <th>SWC_FLY</th>\n",
              "      <th>Cabin_Class</th>\n",
              "      <th>SWC_FQTV_Member</th>\n",
              "      <th>Passenger_Baggage_Count</th>\n",
              "      <th>Passenger_Baggage_Weight</th>\n",
              "      <th>SWC_Staff</th>\n",
              "      <th>SWC_CIP_Passenger</th>\n",
              "      <th>SWC_VIP_Passenger</th>\n",
              "      <th>SWC_Has_Infant</th>\n",
              "      <th>Operation_Count</th>\n",
              "    </tr>\n",
              "  </thead>\n",
              "  <tbody>\n",
              "    <tr>\n",
              "      <th>0</th>\n",
              "      <td>20190326</td>\n",
              "      <td>20190326</td>\n",
              "      <td>KDT</td>\n",
              "      <td>KDT</td>\n",
              "      <td>?</td>\n",
              "      <td>032363</td>\n",
              "      <td>KS</td>\n",
              "      <td>?</td>\n",
              "      <td>QC</td>\n",
              "      <td>MISTER</td>\n",
              "      <td>M</td>\n",
              "      <td>IST</td>\n",
              "      <td>?</td>\n",
              "      <td>1</td>\n",
              "      <td>Y</td>\n",
              "      <td>1</td>\n",
              "      <td>0</td>\n",
              "      <td>0</td>\n",
              "      <td>0</td>\n",
              "      <td>1</td>\n",
              "      <td>0</td>\n",
              "      <td>0</td>\n",
              "      <td>1</td>\n",
              "    </tr>\n",
              "    <tr>\n",
              "      <th>1</th>\n",
              "      <td>20180321</td>\n",
              "      <td>20180321</td>\n",
              "      <td>KDT</td>\n",
              "      <td>KDT</td>\n",
              "      <td>?</td>\n",
              "      <td>03F960</td>\n",
              "      <td>KS</td>\n",
              "      <td>?</td>\n",
              "      <td>QC</td>\n",
              "      <td>MISTER</td>\n",
              "      <td>M</td>\n",
              "      <td>?</td>\n",
              "      <td>KDT</td>\n",
              "      <td>1</td>\n",
              "      <td>Y</td>\n",
              "      <td>1</td>\n",
              "      <td>0</td>\n",
              "      <td>0</td>\n",
              "      <td>0</td>\n",
              "      <td>1</td>\n",
              "      <td>0</td>\n",
              "      <td>0</td>\n",
              "      <td>1</td>\n",
              "    </tr>\n",
              "    <tr>\n",
              "      <th>2</th>\n",
              "      <td>20190322</td>\n",
              "      <td>20190322</td>\n",
              "      <td>KDT</td>\n",
              "      <td>KDT</td>\n",
              "      <td>?</td>\n",
              "      <td>03AA2P</td>\n",
              "      <td>KS</td>\n",
              "      <td>Y011161</td>\n",
              "      <td>QC</td>\n",
              "      <td>MISTER</td>\n",
              "      <td>M</td>\n",
              "      <td>?</td>\n",
              "      <td>?</td>\n",
              "      <td>1</td>\n",
              "      <td>Y</td>\n",
              "      <td>0</td>\n",
              "      <td>0</td>\n",
              "      <td>0</td>\n",
              "      <td>0</td>\n",
              "      <td>0</td>\n",
              "      <td>0</td>\n",
              "      <td>0</td>\n",
              "      <td>1</td>\n",
              "    </tr>\n",
              "    <tr>\n",
              "      <th>3</th>\n",
              "      <td>20180515</td>\n",
              "      <td>20180515</td>\n",
              "      <td>KDT</td>\n",
              "      <td>KDT</td>\n",
              "      <td>?</td>\n",
              "      <td>0353D0</td>\n",
              "      <td>MK</td>\n",
              "      <td>?</td>\n",
              "      <td>TS</td>\n",
              "      <td>MISTER</td>\n",
              "      <td>M</td>\n",
              "      <td>?</td>\n",
              "      <td>?</td>\n",
              "      <td>1</td>\n",
              "      <td>Y</td>\n",
              "      <td>1</td>\n",
              "      <td>0</td>\n",
              "      <td>0</td>\n",
              "      <td>0</td>\n",
              "      <td>1</td>\n",
              "      <td>0</td>\n",
              "      <td>0</td>\n",
              "      <td>2</td>\n",
              "    </tr>\n",
              "    <tr>\n",
              "      <th>4</th>\n",
              "      <td>20190420</td>\n",
              "      <td>20190420</td>\n",
              "      <td>KDT</td>\n",
              "      <td>KDT</td>\n",
              "      <td>?</td>\n",
              "      <td>03F902</td>\n",
              "      <td>KS</td>\n",
              "      <td>Y013437</td>\n",
              "      <td>QC</td>\n",
              "      <td>MISTER</td>\n",
              "      <td>M</td>\n",
              "      <td>?</td>\n",
              "      <td>?</td>\n",
              "      <td>1</td>\n",
              "      <td>Y</td>\n",
              "      <td>0</td>\n",
              "      <td>0</td>\n",
              "      <td>0</td>\n",
              "      <td>1</td>\n",
              "      <td>0</td>\n",
              "      <td>0</td>\n",
              "      <td>0</td>\n",
              "      <td>1</td>\n",
              "    </tr>\n",
              "  </tbody>\n",
              "</table>\n",
              "</div>"
            ],
            "text/plain": [
              "   Departure_YMD_LMT  Operation_YMD_LMT  ... SWC_Has_Infant Operation_Count\n",
              "0           20190326           20190326  ...              0               1\n",
              "1           20180321           20180321  ...              0               1\n",
              "2           20190322           20190322  ...              0               1\n",
              "3           20180515           20180515  ...              0               2\n",
              "4           20190420           20190420  ...              0               1\n",
              "\n",
              "[5 rows x 23 columns]"
            ]
          },
          "metadata": {
            "tags": []
          },
          "execution_count": 59
        }
      ]
    },
    {
      "cell_type": "markdown",
      "metadata": {
        "id": "4ZY-nm_npgp3",
        "colab_type": "text"
      },
      "source": [
        "Check what data types we have:"
      ]
    },
    {
      "cell_type": "code",
      "metadata": {
        "id": "GLxegNa1pd8G",
        "colab_type": "code",
        "outputId": "f2f913fb-2bad-4125-bdc9-9f3799c349c5",
        "colab": {
          "base_uri": "https://localhost:8080/",
          "height": 425
        }
      },
      "source": [
        "train_df.dtypes"
      ],
      "execution_count": 60,
      "outputs": [
        {
          "output_type": "execute_result",
          "data": {
            "text/plain": [
              "Departure_YMD_LMT             int64\n",
              "Operation_YMD_LMT             int64\n",
              "Departure_Airport            object\n",
              "Operation_Airport            object\n",
              "Terminal_Number              object\n",
              "Terminal_Name                object\n",
              "Operation_Initials           object\n",
              "Operation_Sonic_Code         object\n",
              "Operation_Channel            object\n",
              "Passenger_Title              object\n",
              "Passenger_Gender             object\n",
              "Inbound_Departure_Airport    object\n",
              "Outbound_Arrival_Airport     object\n",
              "SWC_FLY                       int64\n",
              "Cabin_Class                  object\n",
              "SWC_FQTV_Member               int64\n",
              "Passenger_Baggage_Count       int64\n",
              "Passenger_Baggage_Weight      int64\n",
              "SWC_Staff                     int64\n",
              "SWC_CIP_Passenger             int64\n",
              "SWC_VIP_Passenger             int64\n",
              "SWC_Has_Infant                int64\n",
              "Operation_Count               int64\n",
              "dtype: object"
            ]
          },
          "metadata": {
            "tags": []
          },
          "execution_count": 60
        }
      ]
    },
    {
      "cell_type": "markdown",
      "metadata": {
        "id": "l4_01rsyCmlL",
        "colab_type": "text"
      },
      "source": [
        "In the *Departure_YMD_LMT* and the *Operation_YMD_LMT* colums, date of departure and date of check is stored so it is convenient to convert them to date time objects."
      ]
    },
    {
      "cell_type": "code",
      "metadata": {
        "id": "JU_XBMXRDqOZ",
        "colab_type": "code",
        "colab": {}
      },
      "source": [
        "train_df['Departure_YMD_LMT'] = pd.to_datetime(train_df['Departure_YMD_LMT'], format='%Y%m%d')\n",
        "train_df['Operation_YMD_LMT'] = pd.to_datetime(train_df['Operation_YMD_LMT'], format='%Y%m%d')\n",
        "result_df['Departure_YMD_LMT'] = pd.to_datetime(result_df['Departure_YMD_LMT'], format='%Y%m%d')\n",
        "result_df['Operation_YMD_LMT'] = pd.to_datetime(result_df['Operation_YMD_LMT'], format='%Y%m%d')"
      ],
      "execution_count": 0,
      "outputs": []
    },
    {
      "cell_type": "code",
      "metadata": {
        "id": "Gul7qn8ZEW4Y",
        "colab_type": "code",
        "outputId": "434476c2-fd8a-434a-938a-6a5201a039ac",
        "colab": {
          "base_uri": "https://localhost:8080/",
          "height": 425
        }
      },
      "source": [
        "train_df.dtypes"
      ],
      "execution_count": 62,
      "outputs": [
        {
          "output_type": "execute_result",
          "data": {
            "text/plain": [
              "Departure_YMD_LMT            datetime64[ns]\n",
              "Operation_YMD_LMT            datetime64[ns]\n",
              "Departure_Airport                    object\n",
              "Operation_Airport                    object\n",
              "Terminal_Number                      object\n",
              "Terminal_Name                        object\n",
              "Operation_Initials                   object\n",
              "Operation_Sonic_Code                 object\n",
              "Operation_Channel                    object\n",
              "Passenger_Title                      object\n",
              "Passenger_Gender                     object\n",
              "Inbound_Departure_Airport            object\n",
              "Outbound_Arrival_Airport             object\n",
              "SWC_FLY                               int64\n",
              "Cabin_Class                          object\n",
              "SWC_FQTV_Member                       int64\n",
              "Passenger_Baggage_Count               int64\n",
              "Passenger_Baggage_Weight              int64\n",
              "SWC_Staff                             int64\n",
              "SWC_CIP_Passenger                     int64\n",
              "SWC_VIP_Passenger                     int64\n",
              "SWC_Has_Infant                        int64\n",
              "Operation_Count                       int64\n",
              "dtype: object"
            ]
          },
          "metadata": {
            "tags": []
          },
          "execution_count": 62
        }
      ]
    },
    {
      "cell_type": "code",
      "metadata": {
        "id": "OdDOiwuGFerU",
        "colab_type": "code",
        "outputId": "da217063-be63-44ab-a81b-e93fb50b991b",
        "colab": {
          "base_uri": "https://localhost:8080/",
          "height": 317
        }
      },
      "source": [
        "train_df.describe()"
      ],
      "execution_count": 63,
      "outputs": [
        {
          "output_type": "execute_result",
          "data": {
            "text/html": [
              "<div>\n",
              "<style scoped>\n",
              "    .dataframe tbody tr th:only-of-type {\n",
              "        vertical-align: middle;\n",
              "    }\n",
              "\n",
              "    .dataframe tbody tr th {\n",
              "        vertical-align: top;\n",
              "    }\n",
              "\n",
              "    .dataframe thead th {\n",
              "        text-align: right;\n",
              "    }\n",
              "</style>\n",
              "<table border=\"1\" class=\"dataframe\">\n",
              "  <thead>\n",
              "    <tr style=\"text-align: right;\">\n",
              "      <th></th>\n",
              "      <th>SWC_FLY</th>\n",
              "      <th>SWC_FQTV_Member</th>\n",
              "      <th>Passenger_Baggage_Count</th>\n",
              "      <th>Passenger_Baggage_Weight</th>\n",
              "      <th>SWC_Staff</th>\n",
              "      <th>SWC_CIP_Passenger</th>\n",
              "      <th>SWC_VIP_Passenger</th>\n",
              "      <th>SWC_Has_Infant</th>\n",
              "      <th>Operation_Count</th>\n",
              "    </tr>\n",
              "  </thead>\n",
              "  <tbody>\n",
              "    <tr>\n",
              "      <th>count</th>\n",
              "      <td>808696.000000</td>\n",
              "      <td>808696.000000</td>\n",
              "      <td>808696.000000</td>\n",
              "      <td>808696.000000</td>\n",
              "      <td>808696.000000</td>\n",
              "      <td>808696.000000</td>\n",
              "      <td>808696.000000</td>\n",
              "      <td>808696.000000</td>\n",
              "      <td>808696.000000</td>\n",
              "    </tr>\n",
              "    <tr>\n",
              "      <th>mean</th>\n",
              "      <td>0.939140</td>\n",
              "      <td>0.359679</td>\n",
              "      <td>0.655413</td>\n",
              "      <td>8.560313</td>\n",
              "      <td>0.029989</td>\n",
              "      <td>0.148156</td>\n",
              "      <td>0.008257</td>\n",
              "      <td>0.011681</td>\n",
              "      <td>1.534792</td>\n",
              "    </tr>\n",
              "    <tr>\n",
              "      <th>std</th>\n",
              "      <td>0.239073</td>\n",
              "      <td>0.479907</td>\n",
              "      <td>0.963677</td>\n",
              "      <td>13.667213</td>\n",
              "      <td>0.170557</td>\n",
              "      <td>0.355255</td>\n",
              "      <td>0.090489</td>\n",
              "      <td>0.107444</td>\n",
              "      <td>2.223746</td>\n",
              "    </tr>\n",
              "    <tr>\n",
              "      <th>min</th>\n",
              "      <td>0.000000</td>\n",
              "      <td>0.000000</td>\n",
              "      <td>0.000000</td>\n",
              "      <td>0.000000</td>\n",
              "      <td>0.000000</td>\n",
              "      <td>0.000000</td>\n",
              "      <td>0.000000</td>\n",
              "      <td>0.000000</td>\n",
              "      <td>1.000000</td>\n",
              "    </tr>\n",
              "    <tr>\n",
              "      <th>25%</th>\n",
              "      <td>1.000000</td>\n",
              "      <td>0.000000</td>\n",
              "      <td>0.000000</td>\n",
              "      <td>0.000000</td>\n",
              "      <td>0.000000</td>\n",
              "      <td>0.000000</td>\n",
              "      <td>0.000000</td>\n",
              "      <td>0.000000</td>\n",
              "      <td>1.000000</td>\n",
              "    </tr>\n",
              "    <tr>\n",
              "      <th>50%</th>\n",
              "      <td>1.000000</td>\n",
              "      <td>0.000000</td>\n",
              "      <td>0.000000</td>\n",
              "      <td>0.000000</td>\n",
              "      <td>0.000000</td>\n",
              "      <td>0.000000</td>\n",
              "      <td>0.000000</td>\n",
              "      <td>0.000000</td>\n",
              "      <td>1.000000</td>\n",
              "    </tr>\n",
              "    <tr>\n",
              "      <th>75%</th>\n",
              "      <td>1.000000</td>\n",
              "      <td>1.000000</td>\n",
              "      <td>1.000000</td>\n",
              "      <td>15.000000</td>\n",
              "      <td>0.000000</td>\n",
              "      <td>0.000000</td>\n",
              "      <td>0.000000</td>\n",
              "      <td>0.000000</td>\n",
              "      <td>1.000000</td>\n",
              "    </tr>\n",
              "    <tr>\n",
              "      <th>max</th>\n",
              "      <td>1.000000</td>\n",
              "      <td>1.000000</td>\n",
              "      <td>54.000000</td>\n",
              "      <td>970.000000</td>\n",
              "      <td>1.000000</td>\n",
              "      <td>1.000000</td>\n",
              "      <td>1.000000</td>\n",
              "      <td>1.000000</td>\n",
              "      <td>129.000000</td>\n",
              "    </tr>\n",
              "  </tbody>\n",
              "</table>\n",
              "</div>"
            ],
            "text/plain": [
              "             SWC_FLY  SWC_FQTV_Member  ...  SWC_Has_Infant  Operation_Count\n",
              "count  808696.000000    808696.000000  ...   808696.000000    808696.000000\n",
              "mean        0.939140         0.359679  ...        0.011681         1.534792\n",
              "std         0.239073         0.479907  ...        0.107444         2.223746\n",
              "min         0.000000         0.000000  ...        0.000000         1.000000\n",
              "25%         1.000000         0.000000  ...        0.000000         1.000000\n",
              "50%         1.000000         0.000000  ...        0.000000         1.000000\n",
              "75%         1.000000         1.000000  ...        0.000000         1.000000\n",
              "max         1.000000         1.000000  ...        1.000000       129.000000\n",
              "\n",
              "[8 rows x 9 columns]"
            ]
          },
          "metadata": {
            "tags": []
          },
          "execution_count": 63
        }
      ]
    },
    {
      "cell_type": "markdown",
      "metadata": {
        "id": "3gnER73WQam2",
        "colab_type": "text"
      },
      "source": [
        "Convert *object* datatype to category when needed."
      ]
    },
    {
      "cell_type": "code",
      "metadata": {
        "id": "5e52srsIdGMK",
        "colab_type": "code",
        "colab": {}
      },
      "source": [
        "for col_name in train_df.columns:\n",
        "    if train_df[col_name].dtype.name == 'object':\n",
        "        train_df[col_name] = train_df[col_name].astype('category')\n",
        "        result_df[col_name] = result_df[col_name].astype('category')"
      ],
      "execution_count": 0,
      "outputs": []
    },
    {
      "cell_type": "code",
      "metadata": {
        "id": "oPj0AJ3UdmfQ",
        "colab_type": "code",
        "outputId": "7749413f-7d41-41a2-9ce6-c9ab1c85e1bf",
        "colab": {
          "base_uri": "https://localhost:8080/",
          "height": 425
        }
      },
      "source": [
        "train_df.dtypes"
      ],
      "execution_count": 65,
      "outputs": [
        {
          "output_type": "execute_result",
          "data": {
            "text/plain": [
              "Departure_YMD_LMT            datetime64[ns]\n",
              "Operation_YMD_LMT            datetime64[ns]\n",
              "Departure_Airport                  category\n",
              "Operation_Airport                  category\n",
              "Terminal_Number                    category\n",
              "Terminal_Name                      category\n",
              "Operation_Initials                 category\n",
              "Operation_Sonic_Code               category\n",
              "Operation_Channel                  category\n",
              "Passenger_Title                    category\n",
              "Passenger_Gender                   category\n",
              "Inbound_Departure_Airport          category\n",
              "Outbound_Arrival_Airport           category\n",
              "SWC_FLY                               int64\n",
              "Cabin_Class                        category\n",
              "SWC_FQTV_Member                       int64\n",
              "Passenger_Baggage_Count               int64\n",
              "Passenger_Baggage_Weight              int64\n",
              "SWC_Staff                             int64\n",
              "SWC_CIP_Passenger                     int64\n",
              "SWC_VIP_Passenger                     int64\n",
              "SWC_Has_Infant                        int64\n",
              "Operation_Count                       int64\n",
              "dtype: object"
            ]
          },
          "metadata": {
            "tags": []
          },
          "execution_count": 65
        }
      ]
    },
    {
      "cell_type": "markdown",
      "metadata": {
        "id": "O5J9up0-d8bR",
        "colab_type": "text"
      },
      "source": [
        "See the unique levels of the categorical columns. *Departure Airport* has only one value called \"KDT\". So, it is not informative and should be dropped."
      ]
    },
    {
      "cell_type": "code",
      "metadata": {
        "id": "kEzqrNWEYlL-",
        "colab_type": "code",
        "outputId": "8d152396-ebfc-4831-890e-429c816574c2",
        "colab": {
          "base_uri": "https://localhost:8080/",
          "height": 561
        }
      },
      "source": [
        "for col_name in train_df.columns:\n",
        "    if train_df[col_name].dtype.name == 'category':\n",
        "        print(col_name, \":\", train_df[col_name].unique())"
      ],
      "execution_count": 66,
      "outputs": [
        {
          "output_type": "stream",
          "text": [
            "Departure_Airport : [KDT]\n",
            "Categories (1, object): [KDT]\n",
            "Operation_Airport : [KDT, IST, ZKG, EST, GZT, ..., HRK, ODS, SOF, KNN, MNL]\n",
            "Length: 143\n",
            "Categories (143, object): [KDT, IST, ZKG, EST, ..., ODS, SOF, KNN, MNL]\n",
            "Terminal_Number : [?, P1, P2]\n",
            "Categories (3, object): [?, P1, P2]\n",
            "Terminal_Name : [032363, 03F960, 03AA2P, 0353D0, 03F902, ..., 0B19C9, 03554A, 0302CA, 035316, 03550B]\n",
            "Length: 2685\n",
            "Categories (2685, object): [032363, 03F960, 03AA2P, 0353D0, ..., 03554A, 0302CA, 035316, 03550B]\n",
            "Operation_Initials : [KS, MK, SC, EY, Q7, ..., NB, YK, RW, OA, JF]\n",
            "Length: 273\n",
            "Categories (272, object): [KS, MK, SC, EY, ..., YK, RW, OA, JF]\n",
            "Operation_Sonic_Code : [?, Y011161, Y013437, Y027434, Y013171, ..., M025037, Y019509, Y036439, Y015916, Y039203]\n",
            "Length: 1614\n",
            "Categories (1614, object): [?, Y011161, Y013437, Y027434, ..., Y019509, Y036439, Y015916,\n",
            "                            Y039203]\n",
            "Operation_Channel : [QC, TS, JW, TW, TY, ..., CC, BD, IR, IA, QR]\n",
            "Length: 13\n",
            "Categories (13, object): [QC, TS, JW, TW, ..., BD, IR, IA, QR]\n",
            "Passenger_Title : [MISTER, MISS, MISSES, ?, DOCTOR, PROFFESOR]\n",
            "Categories (6, object): [MISTER, MISS, MISSES, ?, DOCTOR, PROFFESOR]\n",
            "Passenger_Gender : [M, F, ?, F/INF, M/INF, C, C/INF]\n",
            "Categories (7, object): [M, F, ?, F/INF, M/INF, C, C/INF]\n",
            "Inbound_Departure_Airport : [IST, ?, EST, SKW, HKM, ..., NDG, VKS, VIE, STY, TRU]\n",
            "Length: 27\n",
            "Categories (27, object): [IST, ?, EST, SKW, ..., VKS, VIE, STY, TRU]\n",
            "Outbound_Arrival_Airport : [?, KDT, KMS, KGP, KJI, ..., SPU, PHX, MKK, KKE, YYN]\n",
            "Length: 363\n",
            "Categories (363, object): [?, KDT, KMS, KGP, ..., PHX, MKK, KKE, YYN]\n",
            "Cabin_Class : [Y, ?, C]\n",
            "Categories (3, object): [Y, ?, C]\n"
          ],
          "name": "stdout"
        }
      ]
    },
    {
      "cell_type": "markdown",
      "metadata": {
        "id": "RMErP_yZRG1y",
        "colab_type": "text"
      },
      "source": [
        "Generate *Operation_Channel_Group* as defined in the pdf file."
      ]
    },
    {
      "cell_type": "code",
      "metadata": {
        "id": "M3l1GzRXF3tu",
        "colab_type": "code",
        "outputId": "9a505628-15bd-42b9-d537-ae2ec964891d",
        "colab": {
          "base_uri": "https://localhost:8080/",
          "height": 34
        }
      },
      "source": [
        "dict = {\"JW\": 'Online',\n",
        "        \"TW\": 'Online',\n",
        "        \"TS\": 'Mobile',\n",
        "        \"JM\": 'Mobile',\n",
        "        \"TY\":\"Counter\",\n",
        "        \"QC\":\"Counter\",\n",
        "        \"SC\":\"Kiosks\",\n",
        "        \"IR\":\"Other\",\n",
        "        \"?\":\"Other\",\n",
        "        \"IA\":\"Other\",\n",
        "        \"BD\":\"Other\",\n",
        "        \"CC\":\"Other\",\n",
        "        \"QR\":\"Other\",\n",
        "        \"QP\":\"Other\",\n",
        "        \"QA\":\"Other\"\n",
        "        }\n",
        "train_df['Operation_Channel_Group'] = train_df['Operation_Channel'].map(dict)\n",
        "train_df['Operation_Channel_Group'].unique()"
      ],
      "execution_count": 67,
      "outputs": [
        {
          "output_type": "execute_result",
          "data": {
            "text/plain": [
              "array(['Counter', 'Mobile', 'Online', 'Kiosks', 'Other'], dtype=object)"
            ]
          },
          "metadata": {
            "tags": []
          },
          "execution_count": 67
        }
      ]
    },
    {
      "cell_type": "markdown",
      "metadata": {
        "id": "d-dpsfiZ0F0B",
        "colab_type": "text"
      },
      "source": [
        "Do the same for the test set."
      ]
    },
    {
      "cell_type": "code",
      "metadata": {
        "id": "NM2QHVLm0Lh8",
        "colab_type": "code",
        "outputId": "d1063443-3e33-4f7c-edb0-ddbb3c2d695b",
        "colab": {
          "base_uri": "https://localhost:8080/",
          "height": 34
        }
      },
      "source": [
        "result_df['Operation_Channel_Group'] = result_df['Operation_Channel'].map(dict)\n",
        "result_df['Operation_Channel_Group'].unique()"
      ],
      "execution_count": 68,
      "outputs": [
        {
          "output_type": "execute_result",
          "data": {
            "text/plain": [
              "array(['Mobile', 'Counter', 'Online', 'Kiosks', 'Other'], dtype=object)"
            ]
          },
          "metadata": {
            "tags": []
          },
          "execution_count": 68
        }
      ]
    },
    {
      "cell_type": "markdown",
      "metadata": {
        "id": "unO5SdRzycc_",
        "colab_type": "text"
      },
      "source": [
        "### Missing Value Handling\n",
        "\n",
        "Column percentage of null values in the training and test sets are printed below. At first glance,there are only null values in the *Operation Initials* column, however some unknown values are encoded as \"?\" in the datasets."
      ]
    },
    {
      "cell_type": "code",
      "metadata": {
        "id": "uAipyZEz4-sw",
        "colab_type": "code",
        "outputId": "44722913-669a-4f6b-b082-2965b29c31ab",
        "colab": {
          "base_uri": "https://localhost:8080/",
          "height": 442
        }
      },
      "source": [
        "(train_df.isnull().mean()*100).round(4)"
      ],
      "execution_count": 69,
      "outputs": [
        {
          "output_type": "execute_result",
          "data": {
            "text/plain": [
              "Departure_YMD_LMT            0.0000\n",
              "Operation_YMD_LMT            0.0000\n",
              "Departure_Airport            0.0000\n",
              "Operation_Airport            0.0000\n",
              "Terminal_Number              0.0000\n",
              "Terminal_Name                0.0000\n",
              "Operation_Initials           0.0156\n",
              "Operation_Sonic_Code         0.0000\n",
              "Operation_Channel            0.0000\n",
              "Passenger_Title              0.0000\n",
              "Passenger_Gender             0.0000\n",
              "Inbound_Departure_Airport    0.0000\n",
              "Outbound_Arrival_Airport     0.0000\n",
              "SWC_FLY                      0.0000\n",
              "Cabin_Class                  0.0000\n",
              "SWC_FQTV_Member              0.0000\n",
              "Passenger_Baggage_Count      0.0000\n",
              "Passenger_Baggage_Weight     0.0000\n",
              "SWC_Staff                    0.0000\n",
              "SWC_CIP_Passenger            0.0000\n",
              "SWC_VIP_Passenger            0.0000\n",
              "SWC_Has_Infant               0.0000\n",
              "Operation_Count              0.0000\n",
              "Operation_Channel_Group      0.0000\n",
              "dtype: float64"
            ]
          },
          "metadata": {
            "tags": []
          },
          "execution_count": 69
        }
      ]
    },
    {
      "cell_type": "code",
      "metadata": {
        "id": "Z9h6GsY65I5L",
        "colab_type": "code",
        "outputId": "5e2d401a-82a7-4c76-cc5b-80c8ca4893fc",
        "colab": {
          "base_uri": "https://localhost:8080/",
          "height": 442
        }
      },
      "source": [
        "(result_df.isnull().mean()*100).round(4)"
      ],
      "execution_count": 70,
      "outputs": [
        {
          "output_type": "execute_result",
          "data": {
            "text/plain": [
              "Departure_YMD_LMT            0.0000\n",
              "Operation_YMD_LMT            0.0000\n",
              "Departure_Airport            0.0000\n",
              "Operation_Airport            0.0000\n",
              "Terminal_Number              0.0000\n",
              "Terminal_Name                0.0000\n",
              "Operation_Initials           0.0033\n",
              "Operation_Sonic_Code         0.0000\n",
              "Operation_Channel            0.0000\n",
              "Passenger_Title              0.0000\n",
              "Passenger_Gender             0.0000\n",
              "Inbound_Departure_Airport    0.0000\n",
              "Outbound_Arrival_Airport     0.0000\n",
              "SWC_FLY                      0.0000\n",
              "Cabin_Class                  0.0000\n",
              "SWC_FQTV_Member              0.0000\n",
              "Passenger_Baggage_Count      0.0000\n",
              "Passenger_Baggage_Weight     0.0000\n",
              "SWC_Staff                    0.0000\n",
              "SWC_CIP_Passenger            0.0000\n",
              "SWC_VIP_Passenger            0.0000\n",
              "SWC_Has_Infant               0.0000\n",
              "Operation_Count              0.0000\n",
              "Operation_Channel_Group      0.0000\n",
              "dtype: float64"
            ]
          },
          "metadata": {
            "tags": []
          },
          "execution_count": 70
        }
      ]
    },
    {
      "cell_type": "markdown",
      "metadata": {
        "id": "jLbD741tyefs",
        "colab_type": "text"
      },
      "source": [
        "Column based \"?\" occurance percentages in the training set:"
      ]
    },
    {
      "cell_type": "code",
      "metadata": {
        "id": "7CHS7T5Q6k_a",
        "colab_type": "code",
        "outputId": "95c8363e-9c1d-4b88-f93e-ea3074692a8c",
        "colab": {
          "base_uri": "https://localhost:8080/",
          "height": 170
        }
      },
      "source": [
        "import numpy as np\n",
        "def unknown_perc(df):\n",
        "  print(\"Column Name\\t Percentage\")\n",
        "  for col_name in df.columns:\n",
        "        if df[col_name].dtype.name == 'category' and (df[col_name] == \"?\").any():\n",
        "          count = df[col_name].value_counts(dropna=False)['?']\n",
        "          percentage = (count/len(df)*100).round(3)\n",
        "          print(col_name,\"\\t\", percentage)\n",
        "  return\n",
        "        \n",
        "unknown_perc(train_df)"
      ],
      "execution_count": 71,
      "outputs": [
        {
          "output_type": "stream",
          "text": [
            "Column Name\t Percentage\n",
            "Terminal_Number \t 90.618\n",
            "Operation_Sonic_Code \t 78.927\n",
            "Operation_Channel \t 2.112\n",
            "Passenger_Title \t 2.331\n",
            "Passenger_Gender \t 3.902\n",
            "Inbound_Departure_Airport \t 91.338\n",
            "Outbound_Arrival_Airport \t 64.422\n",
            "Cabin_Class \t 3.409\n"
          ],
          "name": "stdout"
        }
      ]
    },
    {
      "cell_type": "markdown",
      "metadata": {
        "id": "6AM6L2Bpyw-G",
        "colab_type": "text"
      },
      "source": [
        "Column based \"?\" occurance percentages in the test set:"
      ]
    },
    {
      "cell_type": "code",
      "metadata": {
        "id": "2UDEAA0LxKfX",
        "colab_type": "code",
        "outputId": "c38c09f4-a72d-4392-febe-f6db2f3d659e",
        "colab": {
          "base_uri": "https://localhost:8080/",
          "height": 153
        }
      },
      "source": [
        "unknown_perc(result_df)"
      ],
      "execution_count": 72,
      "outputs": [
        {
          "output_type": "stream",
          "text": [
            "Column Name\t Percentage\n",
            "Terminal_Number \t 91.39\n",
            "Operation_Sonic_Code \t 54.39\n",
            "Operation_Channel \t 0.871\n",
            "Passenger_Title \t 2.762\n",
            "Passenger_Gender \t 0.076\n",
            "Inbound_Departure_Airport \t 94.52\n",
            "Outbound_Arrival_Airport \t 65.008\n"
          ],
          "name": "stdout"
        }
      ]
    },
    {
      "cell_type": "markdown",
      "metadata": {
        "id": "FFsQhdoCmip7",
        "colab_type": "text"
      },
      "source": [
        "Convert \"?\" to NA when needed. Apart from *Inbound_Departure_Airport* and *Outbound_Arrival_Airport*, \"?\" is printed for unknown values (missing). For those specific columns \"?\" means that there is no inbound or outbound flight (direct flight), so they are encoded as a seperate class called *Unknown*."
      ]
    },
    {
      "cell_type": "code",
      "metadata": {
        "id": "_f4FdP8Ymaxw",
        "colab_type": "code",
        "colab": {}
      },
      "source": [
        "import numpy as np\n",
        "train_df['Terminal_Number'] = train_df['Terminal_Number'].replace('?', np.nan)\n",
        "train_df['Operation_Channel'] = train_df['Operation_Channel'].replace('?', np.nan)\n",
        "train_df['Passenger_Title'] = train_df['Passenger_Title'].replace('?', np.nan)\n",
        "train_df['Passenger_Gender'] = train_df['Passenger_Gender'].replace('?', np.nan)\n",
        "train_df['Inbound_Departure_Airport'] = train_df['Inbound_Departure_Airport'].replace('?', \"Unknown\")\n",
        "train_df['Outbound_Arrival_Airport'] = train_df['Outbound_Arrival_Airport'].replace('?', \"Unknown\")\n",
        "train_df['Cabin_Class'] = train_df['Cabin_Class'].replace('?', np.nan)\n",
        "train_df[\"Operation_Initials\"] = train_df[\"Operation_Initials\"].replace(\"?\",np.nan)\n",
        "train_df[\"Operation_Sonic_Code\"] = train_df[\"Operation_Sonic_Code\"].replace(\"?\",np.nan)\n",
        "\n",
        "result_df['Terminal_Number'] = result_df['Terminal_Number'].replace('?', np.nan)\n",
        "result_df['Operation_Channel'] = result_df['Operation_Channel'].replace('?', np.nan)\n",
        "result_df['Passenger_Title'] = result_df['Passenger_Title'].replace('?', np.nan)\n",
        "result_df['Passenger_Gender'] = result_df['Passenger_Gender'].replace('?', np.nan)\n",
        "result_df['Inbound_Departure_Airport'] = result_df['Inbound_Departure_Airport'].replace('?', \"Unknown\")\n",
        "result_df['Outbound_Arrival_Airport'] = result_df['Outbound_Arrival_Airport'].replace('?', \"Unknown\")\n",
        "result_df['Cabin_Class'] = result_df['Cabin_Class'].replace('?', np.nan)\n",
        "result_df[\"Operation_Initials\"] = train_df[\"Operation_Initials\"].replace(\"?\",np.nan)\n",
        "result_df[\"Operation_Sonic_Code\"] = result_df[\"Operation_Sonic_Code\"].replace(\"?\",np.nan)"
      ],
      "execution_count": 0,
      "outputs": []
    },
    {
      "cell_type": "markdown",
      "metadata": {
        "id": "nplxsMXMAnXY",
        "colab_type": "text"
      },
      "source": [
        "Now, the new missing value percentages for the training set becomes:"
      ]
    },
    {
      "cell_type": "code",
      "metadata": {
        "id": "CwmBM3TkrjrK",
        "colab_type": "code",
        "outputId": "0ac78865-f064-4fc3-d644-870dd7844a92",
        "colab": {
          "base_uri": "https://localhost:8080/",
          "height": 442
        }
      },
      "source": [
        "(train_df.isnull().mean()*100).round(4)"
      ],
      "execution_count": 75,
      "outputs": [
        {
          "output_type": "execute_result",
          "data": {
            "text/plain": [
              "Departure_YMD_LMT             0.0000\n",
              "Operation_YMD_LMT             0.0000\n",
              "Departure_Airport             0.0000\n",
              "Operation_Airport             0.0000\n",
              "Terminal_Number              90.6176\n",
              "Terminal_Name                 0.0000\n",
              "Operation_Initials            0.0156\n",
              "Operation_Sonic_Code         78.9266\n",
              "Operation_Channel             2.1123\n",
              "Passenger_Title               2.3307\n",
              "Passenger_Gender              3.9025\n",
              "Inbound_Departure_Airport     0.0000\n",
              "Outbound_Arrival_Airport      0.0000\n",
              "SWC_FLY                       0.0000\n",
              "Cabin_Class                   3.4093\n",
              "SWC_FQTV_Member               0.0000\n",
              "Passenger_Baggage_Count       0.0000\n",
              "Passenger_Baggage_Weight      0.0000\n",
              "SWC_Staff                     0.0000\n",
              "SWC_CIP_Passenger             0.0000\n",
              "SWC_VIP_Passenger             0.0000\n",
              "SWC_Has_Infant                0.0000\n",
              "Operation_Count               0.0000\n",
              "Operation_Channel_Group       0.0000\n",
              "dtype: float64"
            ]
          },
          "metadata": {
            "tags": []
          },
          "execution_count": 75
        }
      ]
    },
    {
      "cell_type": "markdown",
      "metadata": {
        "id": "aSMbF8qEA4M7",
        "colab_type": "text"
      },
      "source": [
        "and for the test set the result is:"
      ]
    },
    {
      "cell_type": "code",
      "metadata": {
        "id": "CINMBpV7A8pG",
        "colab_type": "code",
        "outputId": "678e94ae-d091-4584-8ee5-bf961f949e21",
        "colab": {
          "base_uri": "https://localhost:8080/",
          "height": 442
        }
      },
      "source": [
        "(result_df.isnull().mean()*100).round(4)"
      ],
      "execution_count": 76,
      "outputs": [
        {
          "output_type": "execute_result",
          "data": {
            "text/plain": [
              "Departure_YMD_LMT             0.0000\n",
              "Operation_YMD_LMT             0.0000\n",
              "Departure_Airport             0.0000\n",
              "Operation_Airport             0.0000\n",
              "Terminal_Number              91.3903\n",
              "Terminal_Name                 0.0000\n",
              "Operation_Initials            0.0180\n",
              "Operation_Sonic_Code         54.3901\n",
              "Operation_Channel             0.8711\n",
              "Passenger_Title               2.7616\n",
              "Passenger_Gender              0.0763\n",
              "Inbound_Departure_Airport     0.0000\n",
              "Outbound_Arrival_Airport      0.0000\n",
              "SWC_FLY                       0.0000\n",
              "Cabin_Class                   0.0000\n",
              "SWC_FQTV_Member               0.0000\n",
              "Passenger_Baggage_Count       0.0000\n",
              "Passenger_Baggage_Weight      0.0000\n",
              "SWC_Staff                     0.0000\n",
              "SWC_CIP_Passenger             0.0000\n",
              "SWC_VIP_Passenger             0.0000\n",
              "SWC_Has_Infant                0.0000\n",
              "Operation_Count               0.0000\n",
              "Operation_Channel_Group       0.0000\n",
              "dtype: float64"
            ]
          },
          "metadata": {
            "tags": []
          },
          "execution_count": 76
        }
      ]
    },
    {
      "cell_type": "markdown",
      "metadata": {
        "id": "2rroaK2-3ruv",
        "colab_type": "text"
      },
      "source": [
        "### Dropping Uninformative Features"
      ]
    },
    {
      "cell_type": "markdown",
      "metadata": {
        "id": "Pe1XXORnVqGy",
        "colab_type": "text"
      },
      "source": [
        "Notice that *Operation Sonic Code*  has a missing value ratio of 79% and for *Terminal Number* column this ratio is even higher (>90%). With a ratio this high, we cannot impute missing values correctly. These columns should be dropped, along with the *Departure_Airport* column.\n"
      ]
    },
    {
      "cell_type": "code",
      "metadata": {
        "id": "w843hKQbB9Bs",
        "colab_type": "code",
        "colab": {
          "base_uri": "https://localhost:8080/",
          "height": 323
        },
        "outputId": "aa3d00d2-037e-4c7b-b2d2-8aefa5687805"
      },
      "source": [
        "#train_df2 = train_df.copy()\n",
        "#result_df2 = result_df.copy()\n",
        "train_df = train_df.drop([\"Terminal_Number\", \"Departure_Airport\", \"Operation_Sonic_Code\"])\n",
        "result_df = result_df.drop( [\"Terminal_Number\", \"Departure_Airport\", \"Operation_Sonic_Code\"])"
      ],
      "execution_count": 79,
      "outputs": [
        {
          "output_type": "error",
          "ename": "KeyError",
          "evalue": "ignored",
          "traceback": [
            "\u001b[0;31m---------------------------------------------------------------------------\u001b[0m",
            "\u001b[0;31mKeyError\u001b[0m                                  Traceback (most recent call last)",
            "\u001b[0;32m<ipython-input-79-79fc94ef93b7>\u001b[0m in \u001b[0;36m<module>\u001b[0;34m()\u001b[0m\n\u001b[0;32m----> 1\u001b[0;31m \u001b[0mtrain_df\u001b[0m \u001b[0;34m=\u001b[0m \u001b[0mtrain_df\u001b[0m\u001b[0;34m.\u001b[0m\u001b[0mdrop\u001b[0m\u001b[0;34m(\u001b[0m\u001b[0;34m[\u001b[0m\u001b[0;34m\"Terminal_Number\"\u001b[0m\u001b[0;34m,\u001b[0m \u001b[0;34m\"Departure_Airport\"\u001b[0m\u001b[0;34m,\u001b[0m \u001b[0;34m\"Operation_Sonic_Code\"\u001b[0m\u001b[0;34m]\u001b[0m\u001b[0;34m)\u001b[0m\u001b[0;34m\u001b[0m\u001b[0;34m\u001b[0m\u001b[0m\n\u001b[0m\u001b[1;32m      2\u001b[0m \u001b[0mresult_df\u001b[0m \u001b[0;34m=\u001b[0m \u001b[0mresult_df\u001b[0m\u001b[0;34m.\u001b[0m\u001b[0mdrop\u001b[0m\u001b[0;34m(\u001b[0m \u001b[0;34m[\u001b[0m\u001b[0;34m\"Terminal_Number\"\u001b[0m\u001b[0;34m,\u001b[0m \u001b[0;34m\"Departure_Airport\"\u001b[0m\u001b[0;34m,\u001b[0m \u001b[0;34m\"Operation_Sonic_Code\"\u001b[0m\u001b[0;34m]\u001b[0m\u001b[0;34m)\u001b[0m\u001b[0;34m\u001b[0m\u001b[0;34m\u001b[0m\u001b[0m\n",
            "\u001b[0;32m/usr/local/lib/python3.6/dist-packages/pandas/core/frame.py\u001b[0m in \u001b[0;36mdrop\u001b[0;34m(self, labels, axis, index, columns, level, inplace, errors)\u001b[0m\n\u001b[1;32m   3938\u001b[0m                                            \u001b[0mindex\u001b[0m\u001b[0;34m=\u001b[0m\u001b[0mindex\u001b[0m\u001b[0;34m,\u001b[0m \u001b[0mcolumns\u001b[0m\u001b[0;34m=\u001b[0m\u001b[0mcolumns\u001b[0m\u001b[0;34m,\u001b[0m\u001b[0;34m\u001b[0m\u001b[0;34m\u001b[0m\u001b[0m\n\u001b[1;32m   3939\u001b[0m                                            \u001b[0mlevel\u001b[0m\u001b[0;34m=\u001b[0m\u001b[0mlevel\u001b[0m\u001b[0;34m,\u001b[0m \u001b[0minplace\u001b[0m\u001b[0;34m=\u001b[0m\u001b[0minplace\u001b[0m\u001b[0;34m,\u001b[0m\u001b[0;34m\u001b[0m\u001b[0;34m\u001b[0m\u001b[0m\n\u001b[0;32m-> 3940\u001b[0;31m                                            errors=errors)\n\u001b[0m\u001b[1;32m   3941\u001b[0m \u001b[0;34m\u001b[0m\u001b[0m\n\u001b[1;32m   3942\u001b[0m     @rewrite_axis_style_signature('mapper', [('copy', True),\n",
            "\u001b[0;32m/usr/local/lib/python3.6/dist-packages/pandas/core/generic.py\u001b[0m in \u001b[0;36mdrop\u001b[0;34m(self, labels, axis, index, columns, level, inplace, errors)\u001b[0m\n\u001b[1;32m   3778\u001b[0m         \u001b[0;32mfor\u001b[0m \u001b[0maxis\u001b[0m\u001b[0;34m,\u001b[0m \u001b[0mlabels\u001b[0m \u001b[0;32min\u001b[0m \u001b[0maxes\u001b[0m\u001b[0;34m.\u001b[0m\u001b[0mitems\u001b[0m\u001b[0;34m(\u001b[0m\u001b[0;34m)\u001b[0m\u001b[0;34m:\u001b[0m\u001b[0;34m\u001b[0m\u001b[0;34m\u001b[0m\u001b[0m\n\u001b[1;32m   3779\u001b[0m             \u001b[0;32mif\u001b[0m \u001b[0mlabels\u001b[0m \u001b[0;32mis\u001b[0m \u001b[0;32mnot\u001b[0m \u001b[0;32mNone\u001b[0m\u001b[0;34m:\u001b[0m\u001b[0;34m\u001b[0m\u001b[0;34m\u001b[0m\u001b[0m\n\u001b[0;32m-> 3780\u001b[0;31m                 \u001b[0mobj\u001b[0m \u001b[0;34m=\u001b[0m \u001b[0mobj\u001b[0m\u001b[0;34m.\u001b[0m\u001b[0m_drop_axis\u001b[0m\u001b[0;34m(\u001b[0m\u001b[0mlabels\u001b[0m\u001b[0;34m,\u001b[0m \u001b[0maxis\u001b[0m\u001b[0;34m,\u001b[0m \u001b[0mlevel\u001b[0m\u001b[0;34m=\u001b[0m\u001b[0mlevel\u001b[0m\u001b[0;34m,\u001b[0m \u001b[0merrors\u001b[0m\u001b[0;34m=\u001b[0m\u001b[0merrors\u001b[0m\u001b[0;34m)\u001b[0m\u001b[0;34m\u001b[0m\u001b[0;34m\u001b[0m\u001b[0m\n\u001b[0m\u001b[1;32m   3781\u001b[0m \u001b[0;34m\u001b[0m\u001b[0m\n\u001b[1;32m   3782\u001b[0m         \u001b[0;32mif\u001b[0m \u001b[0minplace\u001b[0m\u001b[0;34m:\u001b[0m\u001b[0;34m\u001b[0m\u001b[0;34m\u001b[0m\u001b[0m\n",
            "\u001b[0;32m/usr/local/lib/python3.6/dist-packages/pandas/core/generic.py\u001b[0m in \u001b[0;36m_drop_axis\u001b[0;34m(self, labels, axis, level, errors)\u001b[0m\n\u001b[1;32m   3810\u001b[0m                 \u001b[0mnew_axis\u001b[0m \u001b[0;34m=\u001b[0m \u001b[0maxis\u001b[0m\u001b[0;34m.\u001b[0m\u001b[0mdrop\u001b[0m\u001b[0;34m(\u001b[0m\u001b[0mlabels\u001b[0m\u001b[0;34m,\u001b[0m \u001b[0mlevel\u001b[0m\u001b[0;34m=\u001b[0m\u001b[0mlevel\u001b[0m\u001b[0;34m,\u001b[0m \u001b[0merrors\u001b[0m\u001b[0;34m=\u001b[0m\u001b[0merrors\u001b[0m\u001b[0;34m)\u001b[0m\u001b[0;34m\u001b[0m\u001b[0;34m\u001b[0m\u001b[0m\n\u001b[1;32m   3811\u001b[0m             \u001b[0;32melse\u001b[0m\u001b[0;34m:\u001b[0m\u001b[0;34m\u001b[0m\u001b[0;34m\u001b[0m\u001b[0m\n\u001b[0;32m-> 3812\u001b[0;31m                 \u001b[0mnew_axis\u001b[0m \u001b[0;34m=\u001b[0m \u001b[0maxis\u001b[0m\u001b[0;34m.\u001b[0m\u001b[0mdrop\u001b[0m\u001b[0;34m(\u001b[0m\u001b[0mlabels\u001b[0m\u001b[0;34m,\u001b[0m \u001b[0merrors\u001b[0m\u001b[0;34m=\u001b[0m\u001b[0merrors\u001b[0m\u001b[0;34m)\u001b[0m\u001b[0;34m\u001b[0m\u001b[0;34m\u001b[0m\u001b[0m\n\u001b[0m\u001b[1;32m   3813\u001b[0m             \u001b[0mresult\u001b[0m \u001b[0;34m=\u001b[0m \u001b[0mself\u001b[0m\u001b[0;34m.\u001b[0m\u001b[0mreindex\u001b[0m\u001b[0;34m(\u001b[0m\u001b[0;34m**\u001b[0m\u001b[0;34m{\u001b[0m\u001b[0maxis_name\u001b[0m\u001b[0;34m:\u001b[0m \u001b[0mnew_axis\u001b[0m\u001b[0;34m}\u001b[0m\u001b[0;34m)\u001b[0m\u001b[0;34m\u001b[0m\u001b[0;34m\u001b[0m\u001b[0m\n\u001b[1;32m   3814\u001b[0m \u001b[0;34m\u001b[0m\u001b[0m\n",
            "\u001b[0;32m/usr/local/lib/python3.6/dist-packages/pandas/core/indexes/base.py\u001b[0m in \u001b[0;36mdrop\u001b[0;34m(self, labels, errors)\u001b[0m\n\u001b[1;32m   4963\u001b[0m             \u001b[0;32mif\u001b[0m \u001b[0merrors\u001b[0m \u001b[0;34m!=\u001b[0m \u001b[0;34m'ignore'\u001b[0m\u001b[0;34m:\u001b[0m\u001b[0;34m\u001b[0m\u001b[0;34m\u001b[0m\u001b[0m\n\u001b[1;32m   4964\u001b[0m                 raise KeyError(\n\u001b[0;32m-> 4965\u001b[0;31m                     '{} not found in axis'.format(labels[mask]))\n\u001b[0m\u001b[1;32m   4966\u001b[0m             \u001b[0mindexer\u001b[0m \u001b[0;34m=\u001b[0m \u001b[0mindexer\u001b[0m\u001b[0;34m[\u001b[0m\u001b[0;34m~\u001b[0m\u001b[0mmask\u001b[0m\u001b[0;34m]\u001b[0m\u001b[0;34m\u001b[0m\u001b[0;34m\u001b[0m\u001b[0m\n\u001b[1;32m   4967\u001b[0m         \u001b[0;32mreturn\u001b[0m \u001b[0mself\u001b[0m\u001b[0;34m.\u001b[0m\u001b[0mdelete\u001b[0m\u001b[0;34m(\u001b[0m\u001b[0mindexer\u001b[0m\u001b[0;34m)\u001b[0m\u001b[0;34m\u001b[0m\u001b[0;34m\u001b[0m\u001b[0m\n",
            "\u001b[0;31mKeyError\u001b[0m: \"['Terminal_Number' 'Departure_Airport' 'Operation_Sonic_Code'] not found in axis\""
          ]
        }
      ]
    },
    {
      "cell_type": "markdown",
      "metadata": {
        "id": "qZZ_yYLiwbjN",
        "colab_type": "text"
      },
      "source": [
        ""
      ]
    },
    {
      "cell_type": "code",
      "metadata": {
        "id": "EFdQXLxY4qC5",
        "colab_type": "code",
        "colab": {
          "base_uri": "https://localhost:8080/",
          "height": 34
        },
        "outputId": "ae56bdfc-a38e-4fc8-e490-763f1dd50429"
      },
      "source": [
        "\n",
        "sum(train_df[\"Passenger_Gender\"].isnull())\n"
      ],
      "execution_count": 87,
      "outputs": [
        {
          "output_type": "execute_result",
          "data": {
            "text/plain": [
              "31559"
            ]
          },
          "metadata": {
            "tags": []
          },
          "execution_count": 87
        }
      ]
    },
    {
      "cell_type": "markdown",
      "metadata": {
        "colab_type": "text",
        "id": "nSMi79X3wb5y"
      },
      "source": [
        "#### Replacing '?' in  Passenger_Gender based upon Passenger_*Title*\n",
        "\n"
      ]
    },
    {
      "cell_type": "code",
      "metadata": {
        "id": "xMpEJnP5w21z",
        "colab_type": "code",
        "colab": {
          "base_uri": "https://localhost:8080/",
          "height": 34
        },
        "outputId": "92c746aa-bb55-41ae-9114-e2db6eefd6c1"
      },
      "source": [
        "\n",
        "\n",
        "train_df.loc[(train_df.Passenger_Gender.isna() ) & (train_df.Passenger_Title=='MISTER'),\"Passenger_Gender\"] = \"M\"\n",
        "\n",
        "sum(train_df[\"Passenger_Gender\"].isnull())\n",
        "\n",
        "\n",
        "\n",
        "train_df.loc[(train_df.Passenger_Gender.isna() ) & ((train_df.Passenger_Title=='MISS') | (train_df.Passenger_Title=='MISSES')) ,\"Passenger_Gender\"] = \"F\"\n",
        "\n",
        "sum(train_df[\"Passenger_Gender\"].isnull())\n",
        "\n",
        "\n"
      ],
      "execution_count": 95,
      "outputs": [
        {
          "output_type": "execute_result",
          "data": {
            "text/plain": [
              "981"
            ]
          },
          "metadata": {
            "tags": []
          },
          "execution_count": 95
        }
      ]
    },
    {
      "cell_type": "markdown",
      "metadata": {
        "id": "egMg7CVHWqy-",
        "colab_type": "text"
      },
      "source": [
        "#### Imputing Passenger Gender\n",
        "\n",
        "We decided *Operation Channel Group* based imputation. So we grouped the dataframe by this column and found most frequent observations for the *Passenger Gender* column."
      ]
    },
    {
      "cell_type": "code",
      "metadata": {
        "id": "RO2DoYwAW564",
        "colab_type": "code",
        "colab": {}
      },
      "source": [
        "train_df.groupby(\"Operation_Channel_Group\")['Passenger_Gender'].apply(lambda x: x.value_counts().index[0])#.reset_index()"
      ],
      "execution_count": 0,
      "outputs": []
    },
    {
      "cell_type": "code",
      "metadata": {
        "id": "S038IZzsZeP_",
        "colab_type": "code",
        "outputId": "76ba5b88-410a-4bc4-88c0-0dd2eff258c4",
        "colab": {
          "base_uri": "https://localhost:8080/",
          "height": 646
        }
      },
      "source": [
        "train_df.groupby(\"Operation_Channel_Group\")['Passenger_Gender'].apply(lambda x: x.value_counts())"
      ],
      "execution_count": 0,
      "outputs": [
        {
          "output_type": "execute_result",
          "data": {
            "text/plain": [
              "Operation_Channel_Group       \n",
              "Counter                  M        230665\n",
              "                         F        137716\n",
              "                         C         11334\n",
              "                         F/INF      1984\n",
              "                         M/INF      1187\n",
              "                         C/INF         6\n",
              "                         ?             0\n",
              "Kiosks                   M         26539\n",
              "                         F         13608\n",
              "                         C          1143\n",
              "                         F/INF       139\n",
              "                         M/INF        99\n",
              "                         C/INF         0\n",
              "                         ?             0\n",
              "Mobile                   M         85490\n",
              "                         F         59806\n",
              "                         C          4621\n",
              "                         F/INF       548\n",
              "                         M/INF       380\n",
              "                         C/INF         0\n",
              "                         ?             0\n",
              "Online                   M         98716\n",
              "                         F         78770\n",
              "                         C          6055\n",
              "                         F/INF       692\n",
              "                         M/INF       408\n",
              "                         C/INF         0\n",
              "                         ?             0\n",
              "Other                    M          9313\n",
              "                         F          7280\n",
              "                         C           487\n",
              "                         F/INF       101\n",
              "                         M/INF        50\n",
              "                         C/INF         0\n",
              "                         ?             0\n",
              "Name: Passenger_Gender, dtype: int64"
            ]
          },
          "metadata": {
            "tags": []
          },
          "execution_count": 23
        }
      ]
    },
    {
      "cell_type": "code",
      "metadata": {
        "id": "NbFrmcungJex",
        "colab_type": "code",
        "outputId": "3b4b3872-913f-40df-aa77-9604bc99873a",
        "colab": {
          "base_uri": "https://localhost:8080/",
          "height": 391
        }
      },
      "source": [
        "result_df.groupby(\"Operation_Channel_Group\")['Passenger_Gender'].apply(lambda x: x.value_counts())"
      ],
      "execution_count": 0,
      "outputs": [
        {
          "output_type": "execute_result",
          "data": {
            "text/plain": [
              "Operation_Channel_Group   \n",
              "Counter                  M    32131\n",
              "                         F    23568\n",
              "                         C     3107\n",
              "                         ?        0\n",
              "Kiosks                   M     4364\n",
              "                         F     2458\n",
              "                         C      275\n",
              "                         ?        0\n",
              "Mobile                   M    13059\n",
              "                         F    10883\n",
              "                         C     1129\n",
              "                         ?        0\n",
              "Online                   M    14682\n",
              "                         F    13371\n",
              "                         C     1445\n",
              "                         ?        0\n",
              "Other                    M      679\n",
              "                         F      585\n",
              "                         C       92\n",
              "                         ?        0\n",
              "Name: Passenger_Gender, dtype: int64"
            ]
          },
          "metadata": {
            "tags": []
          },
          "execution_count": 24
        }
      ]
    },
    {
      "cell_type": "markdown",
      "metadata": {
        "id": "4_NAbcajX7S_",
        "colab_type": "text"
      },
      "source": [
        "Since most common gender for all channel groups is male, we imputed missing gender values with \"M\"."
      ]
    },
    {
      "cell_type": "code",
      "metadata": {
        "id": "mthkiXm6YOMQ",
        "colab_type": "code",
        "outputId": "c9f2ff04-4858-4d84-daa0-df2d2a832bc1",
        "colab": {
          "base_uri": "https://localhost:8080/",
          "height": 51
        }
      },
      "source": [
        "train_df['Passenger_Gender'] = train_df['Passenger_Gender'].replace(np.nan, \"M\")\n",
        "train_df['Passenger_Gender'].unique()"
      ],
      "execution_count": 0,
      "outputs": [
        {
          "output_type": "execute_result",
          "data": {
            "text/plain": [
              "[M, F, F/INF, M/INF, C, C/INF]\n",
              "Categories (6, object): [M, F, F/INF, M/INF, C, C/INF]"
            ]
          },
          "metadata": {
            "tags": []
          },
          "execution_count": 25
        }
      ]
    },
    {
      "cell_type": "code",
      "metadata": {
        "id": "UcXgdApsgRJn",
        "colab_type": "code",
        "outputId": "7838bb11-d11f-469c-f007-326088e9cc40",
        "colab": {
          "base_uri": "https://localhost:8080/",
          "height": 51
        }
      },
      "source": [
        "result_df['Passenger_Gender'] = train_df['Passenger_Gender'].replace(np.nan, \"M\")\n",
        "result_df['Passenger_Gender'].unique()"
      ],
      "execution_count": 0,
      "outputs": [
        {
          "output_type": "execute_result",
          "data": {
            "text/plain": [
              "[M, F, F/INF, M/INF, C, C/INF]\n",
              "Categories (6, object): [M, F, F/INF, M/INF, C, C/INF]"
            ]
          },
          "metadata": {
            "tags": []
          },
          "execution_count": 26
        }
      ]
    },
    {
      "cell_type": "markdown",
      "metadata": {
        "id": "GsGg4v3wbntJ",
        "colab_type": "text"
      },
      "source": [
        "#### Imputing Passenger Title\n",
        "\n",
        "Again, Operation Channel Group based imputation is employed. \"MISTER\" is most common tittle so we employed all the missin values with that."
      ]
    },
    {
      "cell_type": "code",
      "metadata": {
        "id": "KVG7j7b8eMzB",
        "colab_type": "code",
        "outputId": "26f025dd-4c14-4152-8b69-2fab570a36e0",
        "colab": {
          "base_uri": "https://localhost:8080/",
          "height": 561
        }
      },
      "source": [
        "train_df.groupby(\"Operation_Channel_Group\")['Passenger_Title'].apply(lambda x: x.value_counts())"
      ],
      "execution_count": 0,
      "outputs": [
        {
          "output_type": "execute_result",
          "data": {
            "text/plain": [
              "Operation_Channel_Group           \n",
              "Counter                  MISTER       230324\n",
              "                         MISS         107506\n",
              "                         MISSES        42584\n",
              "                         DOCTOR          157\n",
              "                         PROFFESOR        10\n",
              "                         ?                 0\n",
              "Kiosks                   MISTER        26821\n",
              "                         MISS          10749\n",
              "                         MISSES         3910\n",
              "                         DOCTOR            9\n",
              "                         PROFFESOR         1\n",
              "                         ?                 0\n",
              "Mobile                   MISTER        92083\n",
              "                         MISS          48132\n",
              "                         MISSES        17537\n",
              "                         DOCTOR           62\n",
              "                         PROFFESOR         3\n",
              "                         ?                 0\n",
              "Online                   MISTER       105085\n",
              "                         MISS          63692\n",
              "                         MISSES        22288\n",
              "                         DOCTOR           91\n",
              "                         PROFFESOR         5\n",
              "                         ?                 0\n",
              "Other                    MISTER        10353\n",
              "                         MISS           6110\n",
              "                         MISSES         2329\n",
              "                         DOCTOR            6\n",
              "                         PROFFESOR         1\n",
              "                         ?                 0\n",
              "Name: Passenger_Title, dtype: int64"
            ]
          },
          "metadata": {
            "tags": []
          },
          "execution_count": 27
        }
      ]
    },
    {
      "cell_type": "code",
      "metadata": {
        "id": "aEL6pDtTghn-",
        "colab_type": "code",
        "outputId": "038c7372-178e-43ef-aac0-8781139ebaf7",
        "colab": {
          "base_uri": "https://localhost:8080/",
          "height": 561
        }
      },
      "source": [
        "result_df.groupby(\"Operation_Channel_Group\")['Passenger_Title'].apply(lambda x: x.value_counts())"
      ],
      "execution_count": 0,
      "outputs": [
        {
          "output_type": "execute_result",
          "data": {
            "text/plain": [
              "Operation_Channel_Group           \n",
              "Counter                  MISTER       31512\n",
              "                         MISS         20004\n",
              "                         MISSES        5053\n",
              "                         DOCTOR          22\n",
              "                         PROFFESOR        6\n",
              "                         ?                0\n",
              "Kiosks                   MISTER        4260\n",
              "                         MISS          2087\n",
              "                         MISSES         502\n",
              "                         DOCTOR           2\n",
              "                         PROFFESOR        0\n",
              "                         ?                0\n",
              "Mobile                   MISTER       13275\n",
              "                         MISS          9310\n",
              "                         MISSES        2116\n",
              "                         DOCTOR           6\n",
              "                         PROFFESOR        0\n",
              "                         ?                0\n",
              "Online                   MISTER       14972\n",
              "                         MISS         11525\n",
              "                         MISSES        2535\n",
              "                         DOCTOR          11\n",
              "                         PROFFESOR        1\n",
              "                         ?                0\n",
              "Other                    MISTER         724\n",
              "                         MISS           626\n",
              "                         MISSES           5\n",
              "                         PROFFESOR        0\n",
              "                         DOCTOR           0\n",
              "                         ?                0\n",
              "Name: Passenger_Title, dtype: int64"
            ]
          },
          "metadata": {
            "tags": []
          },
          "execution_count": 28
        }
      ]
    },
    {
      "cell_type": "code",
      "metadata": {
        "id": "ZN7ATCdElSgI",
        "colab_type": "code",
        "outputId": "8748167f-7173-427b-c30d-81b7632c5f34",
        "colab": {
          "base_uri": "https://localhost:8080/",
          "height": 51
        }
      },
      "source": [
        "train_df['Passenger_Title'] = train_df['Passenger_Title'].replace(np.nan, \"MISTER\")\n",
        "train_df['Passenger_Title'].unique()"
      ],
      "execution_count": 0,
      "outputs": [
        {
          "output_type": "execute_result",
          "data": {
            "text/plain": [
              "[MISTER, MISS, MISSES, DOCTOR, PROFFESOR]\n",
              "Categories (5, object): [MISTER, MISS, MISSES, DOCTOR, PROFFESOR]"
            ]
          },
          "metadata": {
            "tags": []
          },
          "execution_count": 29
        }
      ]
    },
    {
      "cell_type": "code",
      "metadata": {
        "id": "ZbPfQGIulcFK",
        "colab_type": "code",
        "outputId": "2784cd27-9476-4c09-cfbe-7a27c5a58f86",
        "colab": {
          "base_uri": "https://localhost:8080/",
          "height": 51
        }
      },
      "source": [
        "result_df['Passenger_Title'] = result_df['Passenger_Title'].replace(np.nan, \"MISTER\")\n",
        "result_df['Passenger_Title'].unique()"
      ],
      "execution_count": 0,
      "outputs": [
        {
          "output_type": "execute_result",
          "data": {
            "text/plain": [
              "[MISS, MISTER, MISSES, DOCTOR, PROFFESOR]\n",
              "Categories (5, object): [MISS, MISTER, MISSES, DOCTOR, PROFFESOR]"
            ]
          },
          "metadata": {
            "tags": []
          },
          "execution_count": 30
        }
      ]
    },
    {
      "cell_type": "markdown",
      "metadata": {
        "id": "cwp0gNe6oc0D",
        "colab_type": "text"
      },
      "source": [
        "#### Imputing Cabin Class\n",
        "Most common class is economy class for all channel groups so we imputed missing values with it."
      ]
    },
    {
      "cell_type": "code",
      "metadata": {
        "id": "IVFNYI92qPs9",
        "colab_type": "code",
        "outputId": "7aa82167-511c-40e6-b53a-b3ef2c5bd173",
        "colab": {
          "base_uri": "https://localhost:8080/",
          "height": 306
        }
      },
      "source": [
        "train_df.groupby(\"Operation_Channel_Group\")['Cabin_Class'].apply(lambda x: x.value_counts())"
      ],
      "execution_count": 0,
      "outputs": [
        {
          "output_type": "execute_result",
          "data": {
            "text/plain": [
              "Operation_Channel_Group   \n",
              "Counter                  Y    359878\n",
              "                         C     24154\n",
              "                         ?         0\n",
              "Kiosks                   Y     40963\n",
              "                         C       784\n",
              "                         ?         0\n",
              "Mobile                   Y    141832\n",
              "                         C     10066\n",
              "                         ?         0\n",
              "Online                   Y    177436\n",
              "                         C      8563\n",
              "                         ?         0\n",
              "Other                    Y     15258\n",
              "                         C      2191\n",
              "                         ?         0\n",
              "Name: Cabin_Class, dtype: int64"
            ]
          },
          "metadata": {
            "tags": []
          },
          "execution_count": 31
        }
      ]
    },
    {
      "cell_type": "code",
      "metadata": {
        "id": "UxmTIOb9pm_V",
        "colab_type": "code",
        "outputId": "99e7dc6d-df53-488e-e6fa-f78a56f3a7a0",
        "colab": {
          "base_uri": "https://localhost:8080/",
          "height": 221
        }
      },
      "source": [
        "result_df.groupby(\"Operation_Channel_Group\")['Cabin_Class'].apply(lambda x: x.value_counts())"
      ],
      "execution_count": 0,
      "outputs": [
        {
          "output_type": "execute_result",
          "data": {
            "text/plain": [
              "Operation_Channel_Group   \n",
              "Counter                  Y    55315\n",
              "                         C     3506\n",
              "Kiosks                   Y     6964\n",
              "                         C      136\n",
              "Mobile                   Y    23169\n",
              "                         C     1912\n",
              "Online                   Y    28342\n",
              "                         C     1165\n",
              "Other                    Y     1029\n",
              "                         C      383\n",
              "Name: Cabin_Class, dtype: int64"
            ]
          },
          "metadata": {
            "tags": []
          },
          "execution_count": 33
        }
      ]
    },
    {
      "cell_type": "code",
      "metadata": {
        "id": "-vksq8jTwPMG",
        "colab_type": "code",
        "outputId": "4c4ef4d9-c6a7-4050-db99-1de871da9376",
        "colab": {
          "base_uri": "https://localhost:8080/",
          "height": 51
        }
      },
      "source": [
        "train_df['Cabin_Class'] = train_df['Cabin_Class'].replace(np.nan, \"Y\")\n",
        "train_df['Cabin_Class'].unique()"
      ],
      "execution_count": 0,
      "outputs": [
        {
          "output_type": "execute_result",
          "data": {
            "text/plain": [
              "[Y, C]\n",
              "Categories (2, object): [Y, C]"
            ]
          },
          "metadata": {
            "tags": []
          },
          "execution_count": 34
        }
      ]
    },
    {
      "cell_type": "code",
      "metadata": {
        "id": "4YTu787QwPBr",
        "colab_type": "code",
        "outputId": "ba051ef6-4746-4756-bed4-9fe7f96f2e23",
        "colab": {
          "base_uri": "https://localhost:8080/",
          "height": 51
        }
      },
      "source": [
        "result_df['Cabin_Class'] = result_df['Cabin_Class'].replace(np.nan, \"Y\")\n",
        "result_df['Cabin_Class'].unique()"
      ],
      "execution_count": 0,
      "outputs": [
        {
          "output_type": "execute_result",
          "data": {
            "text/plain": [
              "[Y, C]\n",
              "Categories (2, object): [Y, C]"
            ]
          },
          "metadata": {
            "tags": []
          },
          "execution_count": 35
        }
      ]
    },
    {
      "cell_type": "markdown",
      "metadata": {
        "id": "l5Ym3TE5xX2y",
        "colab_type": "text"
      },
      "source": [
        "#### Imputing Operation Initials\n",
        "\n",
        "The most frequent *Operation Initials* observed in different channel groups for the training and the test set are given below."
      ]
    },
    {
      "cell_type": "code",
      "metadata": {
        "id": "Pnvv-Qavxfje",
        "colab_type": "code",
        "outputId": "0fbf49ae-c76a-4cad-85d0-61243d5c5231",
        "colab": {
          "base_uri": "https://localhost:8080/",
          "height": 136
        }
      },
      "source": [
        "train_df.groupby(\"Operation_Channel_Group\")['Operation_Initials'].apply(lambda x: x.value_counts().index[0])"
      ],
      "execution_count": 0,
      "outputs": [
        {
          "output_type": "execute_result",
          "data": {
            "text/plain": [
              "Operation_Channel_Group\n",
              "Counter    KS\n",
              "Kiosks     SC\n",
              "Mobile     MK\n",
              "Online     MK\n",
              "Other      MK\n",
              "Name: Operation_Initials, dtype: object"
            ]
          },
          "metadata": {
            "tags": []
          },
          "execution_count": 38
        }
      ]
    },
    {
      "cell_type": "code",
      "metadata": {
        "id": "gzCXzTUvALKC",
        "colab_type": "code",
        "outputId": "c7a9c0c0-498e-4ca8-e547-5025e8dc26d1",
        "colab": {
          "base_uri": "https://localhost:8080/",
          "height": 136
        }
      },
      "source": [
        "result_df.groupby(\"Operation_Channel_Group\")['Operation_Initials'].apply(lambda x: x.value_counts().index[0])"
      ],
      "execution_count": 0,
      "outputs": [
        {
          "output_type": "execute_result",
          "data": {
            "text/plain": [
              "Operation_Channel_Group\n",
              "Counter    KS\n",
              "Kiosks     KS\n",
              "Mobile     KS\n",
              "Online     KS\n",
              "Other      KS\n",
              "Name: Operation_Initials, dtype: object"
            ]
          },
          "metadata": {
            "tags": []
          },
          "execution_count": 39
        }
      ]
    },
    {
      "cell_type": "markdown",
      "metadata": {
        "id": "ibhXNfsaAUFu",
        "colab_type": "text"
      },
      "source": [
        "The most frequent initials observed in each channel group is \"KS\" for test set so we replaced NA values with it."
      ]
    },
    {
      "cell_type": "code",
      "metadata": {
        "id": "4NApKi8rAkix",
        "colab_type": "code",
        "outputId": "09c1c7c8-cf4f-4b52-8b1c-01c2900888ad",
        "colab": {
          "base_uri": "https://localhost:8080/",
          "height": 68
        }
      },
      "source": [
        "result_df['Operation_Initials'] = result_df['Operation_Initials'].replace(np.nan, \"KS\")\n",
        "result_df['Operation_Initials'].unique()"
      ],
      "execution_count": 0,
      "outputs": [
        {
          "output_type": "execute_result",
          "data": {
            "text/plain": [
              "[KS, MK, SC, EY, Q7, ..., SA, O3, VO, ZF, AX]\n",
              "Length: 123\n",
              "Categories (123, object): [KS, MK, SC, EY, ..., O3, VO, ZF, AX]"
            ]
          },
          "metadata": {
            "tags": []
          },
          "execution_count": 40
        }
      ]
    },
    {
      "cell_type": "markdown",
      "metadata": {
        "id": "TPZqMS_BAx-Y",
        "colab_type": "text"
      },
      "source": [
        "However, we need to impute missing values differently for different channels for the training set."
      ]
    },
    {
      "cell_type": "code",
      "metadata": {
        "id": "zgpuNUaCA9RB",
        "colab_type": "code",
        "colab": {}
      },
      "source": [
        "for i in range(len(train_df)): #loop over operation initials\n",
        "  if train_df.Operation_Channel_Group[i] == \"Counter\" and train_df.Operation_Initials[i] == np.nan:\n",
        "    print(train_df.Operation_Channel_Group[i],train_df.Operation_Initials[i])\n",
        "    "
      ],
      "execution_count": 0,
      "outputs": []
    },
    {
      "cell_type": "code",
      "metadata": {
        "id": "tcA_A05Fh_MR",
        "colab_type": "code",
        "outputId": "61598fb2-21ad-4868-94e3-214008cfd609",
        "colab": {
          "base_uri": "https://localhost:8080/",
          "height": 503
        }
      },
      "source": [
        "import matplotlib.pyplot as plt\n",
        "fig, ax = plt.subplots(1, 1,figsize=(10, 8))\n",
        "train_df[\"Operation_Count\"].hist(bins=500, color=\"blue\", ax=ax)\n"
      ],
      "execution_count": 0,
      "outputs": [
        {
          "output_type": "execute_result",
          "data": {
            "text/plain": [
              "<matplotlib.axes._subplots.AxesSubplot at 0x7f4d9cd85a20>"
            ]
          },
          "metadata": {
            "tags": []
          },
          "execution_count": 29
        },
        {
          "output_type": "display_data",
          "data": {
            "image/png": "[encoded data removed]",
            "text/plain": [
              "<Figure size 720x576 with 1 Axes>"
            ]
          },
          "metadata": {
            "tags": []
          }
        }
      ]
    },
    {
      "cell_type": "markdown",
      "metadata": {
        "id": "XhJu2Xc2tCQi",
        "colab_type": "text"
      },
      "source": [
        "# For Neslihan\n",
        " \n",
        "To impute missing categorical data according to some distribution\n"
      ]
    },
    {
      "cell_type": "code",
      "metadata": {
        "id": "eR9vD9Uvh_IZ",
        "colab_type": "code",
        "outputId": "69fc4f99-84f9-4554-e0b3-ae32a9ed3c43",
        "colab": {
          "base_uri": "https://localhost:8080/",
          "height": 697
        }
      },
      "source": [
        "df = pd.read_csv(\"/content/drive/My Drive/Travel Datathon/Assessment Data/Assessment Train Data.csv\")\n",
        "df['Departure_YMD_LMT'] = pd.to_datetime(train_df['Departure_YMD_LMT'], format='%Y%m%d')\n",
        "df['Operation_YMD_LMT'] = pd.to_datetime(train_df['Operation_YMD_LMT'], format='%Y%m%d')\n",
        "for col_name in df.columns:\n",
        "    if df[col_name].dtype.name == 'object':\n",
        "        df[col_name] = df[col_name].astype('category')\n",
        "        #result_df[col_name] = result_df[col_name].astype('category')\n",
        "dict = {\"JW\": 'Online',\n",
        "        \"TW\": 'Online',\n",
        "        \"TS\": 'Mobile',\n",
        "        \"JM\": 'Mobile',\n",
        "        \"TY\":\"Counter\",\n",
        "        \"QC\":\"Counter\",\n",
        "        \"SC\":\"Kiosks\",\n",
        "        \"IR\":\"Other\",\n",
        "        \"?\":\"Other\",\n",
        "        \"IA\":\"Other\",\n",
        "        \"BD\":\"Other\",\n",
        "        \"CC\":\"Other\",\n",
        "        \"QR\":\"Other\",\n",
        "        \"QP\":\"Other\",\n",
        "        \"QA\":\"Other\"\n",
        "        }\n",
        "df['Operation_Channel_Group'] = df['Operation_Channel'].map(dict)\n",
        "#df = df.drop(columns = [\"Terminal_Number\", \"Departure_Airport\"])\n",
        "\n",
        "import numpy as np\n",
        "train_df['Terminal_Number'] = train_df['Terminal_Number'].replace('?', np.nan)\n",
        "train_df['Operation_Channel'] = train_df['Operation_Channel'].replace('?', np.nan)\n",
        "train_df['Passenger_Title'] = train_df['Passenger_Title'].replace('?', np.nan)\n",
        "train_df['Passenger_Gender'] = train_df['Passenger_Gender'].replace('?', np.nan)\n",
        "train_df['Inbound_Departure_Airport'] = train_df['Inbound_Departure_Airport'].replace('?', \"Unknown\")\n",
        "train_df['Outbound_Arrival_Airport'] = train_df['Outbound_Arrival_Airport'].replace('?', \"Unknown\")\n",
        "train_df['Cabin_Class'] = train_df['Cabin_Class'].replace('?', np.nan)\n",
        "column = df[\"Passenger_Title\"]\n",
        "df.groupby(\"Operation_Channel_Group\")['Passenger_Title'].apply(lambda x: x.value_counts())\n"
      ],
      "execution_count": 0,
      "outputs": [
        {
          "output_type": "error",
          "ename": "KeyError",
          "evalue": "ignored",
          "traceback": [
            "\u001b[0;31m---------------------------------------------------------------------------\u001b[0m",
            "\u001b[0;31mKeyError\u001b[0m                                  Traceback (most recent call last)",
            "\u001b[0;32m/usr/local/lib/python3.6/dist-packages/pandas/core/indexes/base.py\u001b[0m in \u001b[0;36mget_loc\u001b[0;34m(self, key, method, tolerance)\u001b[0m\n\u001b[1;32m   2656\u001b[0m             \u001b[0;32mtry\u001b[0m\u001b[0;34m:\u001b[0m\u001b[0;34m\u001b[0m\u001b[0;34m\u001b[0m\u001b[0m\n\u001b[0;32m-> 2657\u001b[0;31m                 \u001b[0;32mreturn\u001b[0m \u001b[0mself\u001b[0m\u001b[0;34m.\u001b[0m\u001b[0m_engine\u001b[0m\u001b[0;34m.\u001b[0m\u001b[0mget_loc\u001b[0m\u001b[0;34m(\u001b[0m\u001b[0mkey\u001b[0m\u001b[0;34m)\u001b[0m\u001b[0;34m\u001b[0m\u001b[0;34m\u001b[0m\u001b[0m\n\u001b[0m\u001b[1;32m   2658\u001b[0m             \u001b[0;32mexcept\u001b[0m \u001b[0mKeyError\u001b[0m\u001b[0;34m:\u001b[0m\u001b[0;34m\u001b[0m\u001b[0;34m\u001b[0m\u001b[0m\n",
            "\u001b[0;32mpandas/_libs/index.pyx\u001b[0m in \u001b[0;36mpandas._libs.index.IndexEngine.get_loc\u001b[0;34m()\u001b[0m\n",
            "\u001b[0;32mpandas/_libs/index.pyx\u001b[0m in \u001b[0;36mpandas._libs.index.IndexEngine.get_loc\u001b[0;34m()\u001b[0m\n",
            "\u001b[0;32mpandas/_libs/hashtable_class_helper.pxi\u001b[0m in \u001b[0;36mpandas._libs.hashtable.PyObjectHashTable.get_item\u001b[0;34m()\u001b[0m\n",
            "\u001b[0;32mpandas/_libs/hashtable_class_helper.pxi\u001b[0m in \u001b[0;36mpandas._libs.hashtable.PyObjectHashTable.get_item\u001b[0;34m()\u001b[0m\n",
            "\u001b[0;31mKeyError\u001b[0m: 'Terminal_Number'",
            "\nDuring handling of the above exception, another exception occurred:\n",
            "\u001b[0;31mKeyError\u001b[0m                                  Traceback (most recent call last)",
            "\u001b[0;32m<ipython-input-44-e3c632dd41cd>\u001b[0m in \u001b[0;36m<module>\u001b[0;34m()\u001b[0m\n\u001b[1;32m     26\u001b[0m \u001b[0;34m\u001b[0m\u001b[0m\n\u001b[1;32m     27\u001b[0m \u001b[0;32mimport\u001b[0m \u001b[0mnumpy\u001b[0m \u001b[0;32mas\u001b[0m \u001b[0mnp\u001b[0m\u001b[0;34m\u001b[0m\u001b[0;34m\u001b[0m\u001b[0m\n\u001b[0;32m---> 28\u001b[0;31m \u001b[0mtrain_df\u001b[0m\u001b[0;34m[\u001b[0m\u001b[0;34m'Terminal_Number'\u001b[0m\u001b[0;34m]\u001b[0m \u001b[0;34m=\u001b[0m \u001b[0mtrain_df\u001b[0m\u001b[0;34m[\u001b[0m\u001b[0;34m'Terminal_Number'\u001b[0m\u001b[0;34m]\u001b[0m\u001b[0;34m.\u001b[0m\u001b[0mreplace\u001b[0m\u001b[0;34m(\u001b[0m\u001b[0;34m'?'\u001b[0m\u001b[0;34m,\u001b[0m \u001b[0mnp\u001b[0m\u001b[0;34m.\u001b[0m\u001b[0mnan\u001b[0m\u001b[0;34m)\u001b[0m\u001b[0;34m\u001b[0m\u001b[0;34m\u001b[0m\u001b[0m\n\u001b[0m\u001b[1;32m     29\u001b[0m \u001b[0mtrain_df\u001b[0m\u001b[0;34m[\u001b[0m\u001b[0;34m'Operation_Channel'\u001b[0m\u001b[0;34m]\u001b[0m \u001b[0;34m=\u001b[0m \u001b[0mtrain_df\u001b[0m\u001b[0;34m[\u001b[0m\u001b[0;34m'Operation_Channel'\u001b[0m\u001b[0;34m]\u001b[0m\u001b[0;34m.\u001b[0m\u001b[0mreplace\u001b[0m\u001b[0;34m(\u001b[0m\u001b[0;34m'?'\u001b[0m\u001b[0;34m,\u001b[0m \u001b[0mnp\u001b[0m\u001b[0;34m.\u001b[0m\u001b[0mnan\u001b[0m\u001b[0;34m)\u001b[0m\u001b[0;34m\u001b[0m\u001b[0;34m\u001b[0m\u001b[0m\n\u001b[1;32m     30\u001b[0m \u001b[0mtrain_df\u001b[0m\u001b[0;34m[\u001b[0m\u001b[0;34m'Passenger_Title'\u001b[0m\u001b[0;34m]\u001b[0m \u001b[0;34m=\u001b[0m \u001b[0mtrain_df\u001b[0m\u001b[0;34m[\u001b[0m\u001b[0;34m'Passenger_Title'\u001b[0m\u001b[0;34m]\u001b[0m\u001b[0;34m.\u001b[0m\u001b[0mreplace\u001b[0m\u001b[0;34m(\u001b[0m\u001b[0;34m'?'\u001b[0m\u001b[0;34m,\u001b[0m \u001b[0mnp\u001b[0m\u001b[0;34m.\u001b[0m\u001b[0mnan\u001b[0m\u001b[0;34m)\u001b[0m\u001b[0;34m\u001b[0m\u001b[0;34m\u001b[0m\u001b[0m\n",
            "\u001b[0;32m/usr/local/lib/python3.6/dist-packages/pandas/core/frame.py\u001b[0m in \u001b[0;36m__getitem__\u001b[0;34m(self, key)\u001b[0m\n\u001b[1;32m   2925\u001b[0m             \u001b[0;32mif\u001b[0m \u001b[0mself\u001b[0m\u001b[0;34m.\u001b[0m\u001b[0mcolumns\u001b[0m\u001b[0;34m.\u001b[0m\u001b[0mnlevels\u001b[0m \u001b[0;34m>\u001b[0m \u001b[0;36m1\u001b[0m\u001b[0;34m:\u001b[0m\u001b[0;34m\u001b[0m\u001b[0;34m\u001b[0m\u001b[0m\n\u001b[1;32m   2926\u001b[0m                 \u001b[0;32mreturn\u001b[0m \u001b[0mself\u001b[0m\u001b[0;34m.\u001b[0m\u001b[0m_getitem_multilevel\u001b[0m\u001b[0;34m(\u001b[0m\u001b[0mkey\u001b[0m\u001b[0;34m)\u001b[0m\u001b[0;34m\u001b[0m\u001b[0;34m\u001b[0m\u001b[0m\n\u001b[0;32m-> 2927\u001b[0;31m             \u001b[0mindexer\u001b[0m \u001b[0;34m=\u001b[0m \u001b[0mself\u001b[0m\u001b[0;34m.\u001b[0m\u001b[0mcolumns\u001b[0m\u001b[0;34m.\u001b[0m\u001b[0mget_loc\u001b[0m\u001b[0;34m(\u001b[0m\u001b[0mkey\u001b[0m\u001b[0;34m)\u001b[0m\u001b[0;34m\u001b[0m\u001b[0;34m\u001b[0m\u001b[0m\n\u001b[0m\u001b[1;32m   2928\u001b[0m             \u001b[0;32mif\u001b[0m \u001b[0mis_integer\u001b[0m\u001b[0;34m(\u001b[0m\u001b[0mindexer\u001b[0m\u001b[0;34m)\u001b[0m\u001b[0;34m:\u001b[0m\u001b[0;34m\u001b[0m\u001b[0;34m\u001b[0m\u001b[0m\n\u001b[1;32m   2929\u001b[0m                 \u001b[0mindexer\u001b[0m \u001b[0;34m=\u001b[0m \u001b[0;34m[\u001b[0m\u001b[0mindexer\u001b[0m\u001b[0;34m]\u001b[0m\u001b[0;34m\u001b[0m\u001b[0;34m\u001b[0m\u001b[0m\n",
            "\u001b[0;32m/usr/local/lib/python3.6/dist-packages/pandas/core/indexes/base.py\u001b[0m in \u001b[0;36mget_loc\u001b[0;34m(self, key, method, tolerance)\u001b[0m\n\u001b[1;32m   2657\u001b[0m                 \u001b[0;32mreturn\u001b[0m \u001b[0mself\u001b[0m\u001b[0;34m.\u001b[0m\u001b[0m_engine\u001b[0m\u001b[0;34m.\u001b[0m\u001b[0mget_loc\u001b[0m\u001b[0;34m(\u001b[0m\u001b[0mkey\u001b[0m\u001b[0;34m)\u001b[0m\u001b[0;34m\u001b[0m\u001b[0;34m\u001b[0m\u001b[0m\n\u001b[1;32m   2658\u001b[0m             \u001b[0;32mexcept\u001b[0m \u001b[0mKeyError\u001b[0m\u001b[0;34m:\u001b[0m\u001b[0;34m\u001b[0m\u001b[0;34m\u001b[0m\u001b[0m\n\u001b[0;32m-> 2659\u001b[0;31m                 \u001b[0;32mreturn\u001b[0m \u001b[0mself\u001b[0m\u001b[0;34m.\u001b[0m\u001b[0m_engine\u001b[0m\u001b[0;34m.\u001b[0m\u001b[0mget_loc\u001b[0m\u001b[0;34m(\u001b[0m\u001b[0mself\u001b[0m\u001b[0;34m.\u001b[0m\u001b[0m_maybe_cast_indexer\u001b[0m\u001b[0;34m(\u001b[0m\u001b[0mkey\u001b[0m\u001b[0;34m)\u001b[0m\u001b[0;34m)\u001b[0m\u001b[0;34m\u001b[0m\u001b[0;34m\u001b[0m\u001b[0m\n\u001b[0m\u001b[1;32m   2660\u001b[0m         \u001b[0mindexer\u001b[0m \u001b[0;34m=\u001b[0m \u001b[0mself\u001b[0m\u001b[0;34m.\u001b[0m\u001b[0mget_indexer\u001b[0m\u001b[0;34m(\u001b[0m\u001b[0;34m[\u001b[0m\u001b[0mkey\u001b[0m\u001b[0;34m]\u001b[0m\u001b[0;34m,\u001b[0m \u001b[0mmethod\u001b[0m\u001b[0;34m=\u001b[0m\u001b[0mmethod\u001b[0m\u001b[0;34m,\u001b[0m \u001b[0mtolerance\u001b[0m\u001b[0;34m=\u001b[0m\u001b[0mtolerance\u001b[0m\u001b[0;34m)\u001b[0m\u001b[0;34m\u001b[0m\u001b[0;34m\u001b[0m\u001b[0m\n\u001b[1;32m   2661\u001b[0m         \u001b[0;32mif\u001b[0m \u001b[0mindexer\u001b[0m\u001b[0;34m.\u001b[0m\u001b[0mndim\u001b[0m \u001b[0;34m>\u001b[0m \u001b[0;36m1\u001b[0m \u001b[0;32mor\u001b[0m \u001b[0mindexer\u001b[0m\u001b[0;34m.\u001b[0m\u001b[0msize\u001b[0m \u001b[0;34m>\u001b[0m \u001b[0;36m1\u001b[0m\u001b[0;34m:\u001b[0m\u001b[0;34m\u001b[0m\u001b[0;34m\u001b[0m\u001b[0m\n",
            "\u001b[0;32mpandas/_libs/index.pyx\u001b[0m in \u001b[0;36mpandas._libs.index.IndexEngine.get_loc\u001b[0;34m()\u001b[0m\n",
            "\u001b[0;32mpandas/_libs/index.pyx\u001b[0m in \u001b[0;36mpandas._libs.index.IndexEngine.get_loc\u001b[0;34m()\u001b[0m\n",
            "\u001b[0;32mpandas/_libs/hashtable_class_helper.pxi\u001b[0m in \u001b[0;36mpandas._libs.hashtable.PyObjectHashTable.get_item\u001b[0;34m()\u001b[0m\n",
            "\u001b[0;32mpandas/_libs/hashtable_class_helper.pxi\u001b[0m in \u001b[0;36mpandas._libs.hashtable.PyObjectHashTable.get_item\u001b[0;34m()\u001b[0m\n",
            "\u001b[0;31mKeyError\u001b[0m: 'Terminal_Number'"
          ]
        }
      ]
    },
    {
      "cell_type": "code",
      "metadata": {
        "id": "b6czOBkgh-7G",
        "colab_type": "code",
        "outputId": "a8886f8c-80b1-4f64-c18d-799335395e98",
        "colab": {
          "base_uri": "https://localhost:8080/",
          "height": 561
        }
      },
      "source": [
        "df.groupby(\"Operation_Channel_Group\")['Passenger_Title'].apply(lambda x: x.value_counts())"
      ],
      "execution_count": 0,
      "outputs": [
        {
          "output_type": "execute_result",
          "data": {
            "text/plain": [
              "Operation_Channel_Group           \n",
              "Counter                  MISTER       230324\n",
              "                         MISS         107506\n",
              "                         MISSES        42584\n",
              "                         ?             11753\n",
              "                         DOCTOR          157\n",
              "                         PROFFESOR        10\n",
              "Kiosks                   MISTER        26821\n",
              "                         MISS          10749\n",
              "                         MISSES         3910\n",
              "                         ?              1354\n",
              "                         DOCTOR            9\n",
              "                         PROFFESOR         1\n",
              "Mobile                   MISTER        92083\n",
              "                         MISS          48132\n",
              "                         MISSES        17537\n",
              "                         ?              2031\n",
              "                         DOCTOR           62\n",
              "                         PROFFESOR         3\n",
              "Online                   MISTER       105085\n",
              "                         MISS          63692\n",
              "                         MISSES        22288\n",
              "                         ?              3190\n",
              "                         DOCTOR           91\n",
              "                         PROFFESOR         5\n",
              "Other                    MISTER        10353\n",
              "                         MISS           6110\n",
              "                         MISSES         2329\n",
              "                         ?               520\n",
              "                         DOCTOR            6\n",
              "                         PROFFESOR         1\n",
              "Name: Passenger_Title, dtype: int64"
            ]
          },
          "metadata": {
            "tags": []
          },
          "execution_count": 42
        }
      ]
    },
    {
      "cell_type": "markdown",
      "metadata": {
        "id": "xZ2hNsQqeyF5",
        "colab_type": "text"
      },
      "source": [
        ""
      ]
    },
    {
      "cell_type": "markdown",
      "metadata": {
        "id": "JO2xXD7aF3Rs",
        "colab_type": "text"
      },
      "source": [
        "## References\n",
        "\n",
        "\n",
        "1.   [Impute Missing Values](https://jamesrledoux.com/code/imputation)\n",
        "2.   [Is it better to drop or impute values from data sets when applying ML, or would it be better to label them as 'missing' for categorical variables?](https://www.quora.com/Is-it-better-to-drop-or-impute-values-from-data-sets-when-applying-ML-or-would-it-be-better-to-label-them-as-missing-for-categorical-variables)\n",
        "\n"
      ]
    }
  ]
}