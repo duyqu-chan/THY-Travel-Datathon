{
  "nbformat": 4,
  "nbformat_minor": 0,
  "metadata": {
    "colab": {
      "name": "TravelDatathon_preselection_24082019.ipynb",
      "version": "0.3.2",
      "provenance": [],
      "collapsed_sections": [],
      "toc_visible": true,
      "machine_shape": "hm"
    },
    "kernelspec": {
      "name": "python3",
      "display_name": "Python 3"
    },
    "language_info": {
      "codemirror_mode": {
        "name": "ipython",
        "version": 3
      },
      "file_extension": ".py",
      "mimetype": "text/x-python",
      "name": "python",
      "nbconvert_exporter": "python",
      "pygments_lexer": "ipython3",
      "version": "3.7.3"
    },
    "accelerator": "GPU"
  },
  "cells": [
    {
      "cell_type": "markdown",
      "metadata": {
        "colab_type": "text",
        "id": "view-in-github"
      },
      "source": [
        "<a href=\"https://colab.research.google.com/github/duyqu-chan/THY-Travel-Datathon/blob/master/TravelDatathon_preselection_24082019.ipynb\" target=\"_parent\"><img src=\"https://colab.research.google.com/assets/colab-badge.svg\" alt=\"Open In Colab\"/></a>"
      ]
    },
    {
      "cell_type": "markdown",
      "metadata": {
        "colab_type": "text",
        "id": "d6umBn88WlMy"
      },
      "source": [
        "#THY Travel Datathon Preselection Case Study\n",
        "\n",
        "by Duygu Can, Meriç Pakkan, Neslihan Oflaz, Ahad Khaleghi Ardabili, Akın Erdem\n",
        "\n",
        "\n",
        "Flying passengers can check-in through the web site, applications, kiosks and counters. In this case study content, the train data including the number of seven-month passenger check-in operations is provided. We want you to estimate the number of channels (column Operation_Count) in the csv file attached."
      ]
    },
    {
      "cell_type": "markdown",
      "metadata": {
        "colab_type": "text",
        "id": "eG0UfrxPXz_H"
      },
      "source": [
        "Mount drive to load the data:"
      ]
    },
    {
      "cell_type": "code",
      "metadata": {
        "colab_type": "code",
        "id": "XsobMdDBWfjX",
        "outputId": "e39e1019-32a0-4a5f-bf0d-b68e974fbcbe",
        "colab": {
          "base_uri": "https://localhost:8080/",
          "height": 54
        }
      },
      "source": [
        "# Run this cell to mount your Google Drive.\n",
        "from google.colab import drive\n",
        "drive.mount('/content/drive')"
      ],
      "execution_count": 1,
      "outputs": [
        {
          "output_type": "stream",
          "text": [
            "Drive already mounted at /content/drive; to attempt to forcibly remount, call drive.mount(\"/content/drive\", force_remount=True).\n"
          ],
          "name": "stdout"
        }
      ]
    },
    {
      "cell_type": "markdown",
      "metadata": {
        "colab_type": "text",
        "id": "0kLlbk20ZyIq"
      },
      "source": [
        "## Dataset Expolaration"
      ]
    },
    {
      "cell_type": "markdown",
      "metadata": {
        "colab_type": "text",
        "id": "SCQudbprX5pl"
      },
      "source": [
        "Upload the data by reading provided .csv files from Google Drive (change path if needed). There are 808696 samples in the training and 121921 instances in the test sets. Each has 23 features."
      ]
    },
    {
      "cell_type": "code",
      "metadata": {
        "colab_type": "code",
        "id": "WmZbEAnwYJj6",
        "outputId": "6a312f01-43f9-45e8-ec87-52e917c58825",
        "colab": {
          "base_uri": "https://localhost:8080/",
          "height": 258
        }
      },
      "source": [
        "import pandas as pd\n",
        "train_df = pd.read_csv(\"/content/drive/My Drive/Travel Datathon/Assessment Data/Assessment Train Data.csv\")\n",
        "result_df = pd.read_csv(\"/content/drive/My Drive/Travel Datathon/Assessment Data/Assessment Result File.csv\")\n",
        "print(train_df.shape)\n",
        "print(result_df.shape)\n",
        "train_df.head()"
      ],
      "execution_count": 2,
      "outputs": [
        {
          "output_type": "stream",
          "text": [
            "(808696, 23)\n",
            "(121921, 23)\n"
          ],
          "name": "stdout"
        },
        {
          "output_type": "execute_result",
          "data": {
            "text/html": [
              "<div>\n",
              "<style scoped>\n",
              "    .dataframe tbody tr th:only-of-type {\n",
              "        vertical-align: middle;\n",
              "    }\n",
              "\n",
              "    .dataframe tbody tr th {\n",
              "        vertical-align: top;\n",
              "    }\n",
              "\n",
              "    .dataframe thead th {\n",
              "        text-align: right;\n",
              "    }\n",
              "</style>\n",
              "<table border=\"1\" class=\"dataframe\">\n",
              "  <thead>\n",
              "    <tr style=\"text-align: right;\">\n",
              "      <th></th>\n",
              "      <th>Departure_YMD_LMT</th>\n",
              "      <th>Operation_YMD_LMT</th>\n",
              "      <th>Departure_Airport</th>\n",
              "      <th>Operation_Airport</th>\n",
              "      <th>Terminal_Number</th>\n",
              "      <th>Terminal_Name</th>\n",
              "      <th>Operation_Initials</th>\n",
              "      <th>Operation_Sonic_Code</th>\n",
              "      <th>Operation_Channel</th>\n",
              "      <th>Passenger_Title</th>\n",
              "      <th>Passenger_Gender</th>\n",
              "      <th>Inbound_Departure_Airport</th>\n",
              "      <th>Outbound_Arrival_Airport</th>\n",
              "      <th>SWC_FLY</th>\n",
              "      <th>Cabin_Class</th>\n",
              "      <th>SWC_FQTV_Member</th>\n",
              "      <th>Passenger_Baggage_Count</th>\n",
              "      <th>Passenger_Baggage_Weight</th>\n",
              "      <th>SWC_Staff</th>\n",
              "      <th>SWC_CIP_Passenger</th>\n",
              "      <th>SWC_VIP_Passenger</th>\n",
              "      <th>SWC_Has_Infant</th>\n",
              "      <th>Operation_Count</th>\n",
              "    </tr>\n",
              "  </thead>\n",
              "  <tbody>\n",
              "    <tr>\n",
              "      <th>0</th>\n",
              "      <td>20190326</td>\n",
              "      <td>20190326</td>\n",
              "      <td>KDT</td>\n",
              "      <td>KDT</td>\n",
              "      <td>?</td>\n",
              "      <td>032363</td>\n",
              "      <td>KS</td>\n",
              "      <td>?</td>\n",
              "      <td>QC</td>\n",
              "      <td>MISTER</td>\n",
              "      <td>M</td>\n",
              "      <td>IST</td>\n",
              "      <td>?</td>\n",
              "      <td>1</td>\n",
              "      <td>Y</td>\n",
              "      <td>1</td>\n",
              "      <td>0</td>\n",
              "      <td>0</td>\n",
              "      <td>0</td>\n",
              "      <td>1</td>\n",
              "      <td>0</td>\n",
              "      <td>0</td>\n",
              "      <td>1</td>\n",
              "    </tr>\n",
              "    <tr>\n",
              "      <th>1</th>\n",
              "      <td>20180321</td>\n",
              "      <td>20180321</td>\n",
              "      <td>KDT</td>\n",
              "      <td>KDT</td>\n",
              "      <td>?</td>\n",
              "      <td>03F960</td>\n",
              "      <td>KS</td>\n",
              "      <td>?</td>\n",
              "      <td>QC</td>\n",
              "      <td>MISTER</td>\n",
              "      <td>M</td>\n",
              "      <td>?</td>\n",
              "      <td>KDT</td>\n",
              "      <td>1</td>\n",
              "      <td>Y</td>\n",
              "      <td>1</td>\n",
              "      <td>0</td>\n",
              "      <td>0</td>\n",
              "      <td>0</td>\n",
              "      <td>1</td>\n",
              "      <td>0</td>\n",
              "      <td>0</td>\n",
              "      <td>1</td>\n",
              "    </tr>\n",
              "    <tr>\n",
              "      <th>2</th>\n",
              "      <td>20190322</td>\n",
              "      <td>20190322</td>\n",
              "      <td>KDT</td>\n",
              "      <td>KDT</td>\n",
              "      <td>?</td>\n",
              "      <td>03AA2P</td>\n",
              "      <td>KS</td>\n",
              "      <td>Y011161</td>\n",
              "      <td>QC</td>\n",
              "      <td>MISTER</td>\n",
              "      <td>M</td>\n",
              "      <td>?</td>\n",
              "      <td>?</td>\n",
              "      <td>1</td>\n",
              "      <td>Y</td>\n",
              "      <td>0</td>\n",
              "      <td>0</td>\n",
              "      <td>0</td>\n",
              "      <td>0</td>\n",
              "      <td>0</td>\n",
              "      <td>0</td>\n",
              "      <td>0</td>\n",
              "      <td>1</td>\n",
              "    </tr>\n",
              "    <tr>\n",
              "      <th>3</th>\n",
              "      <td>20180515</td>\n",
              "      <td>20180515</td>\n",
              "      <td>KDT</td>\n",
              "      <td>KDT</td>\n",
              "      <td>?</td>\n",
              "      <td>0353D0</td>\n",
              "      <td>MK</td>\n",
              "      <td>?</td>\n",
              "      <td>TS</td>\n",
              "      <td>MISTER</td>\n",
              "      <td>M</td>\n",
              "      <td>?</td>\n",
              "      <td>?</td>\n",
              "      <td>1</td>\n",
              "      <td>Y</td>\n",
              "      <td>1</td>\n",
              "      <td>0</td>\n",
              "      <td>0</td>\n",
              "      <td>0</td>\n",
              "      <td>1</td>\n",
              "      <td>0</td>\n",
              "      <td>0</td>\n",
              "      <td>2</td>\n",
              "    </tr>\n",
              "    <tr>\n",
              "      <th>4</th>\n",
              "      <td>20190420</td>\n",
              "      <td>20190420</td>\n",
              "      <td>KDT</td>\n",
              "      <td>KDT</td>\n",
              "      <td>?</td>\n",
              "      <td>03F902</td>\n",
              "      <td>KS</td>\n",
              "      <td>Y013437</td>\n",
              "      <td>QC</td>\n",
              "      <td>MISTER</td>\n",
              "      <td>M</td>\n",
              "      <td>?</td>\n",
              "      <td>?</td>\n",
              "      <td>1</td>\n",
              "      <td>Y</td>\n",
              "      <td>0</td>\n",
              "      <td>0</td>\n",
              "      <td>0</td>\n",
              "      <td>1</td>\n",
              "      <td>0</td>\n",
              "      <td>0</td>\n",
              "      <td>0</td>\n",
              "      <td>1</td>\n",
              "    </tr>\n",
              "  </tbody>\n",
              "</table>\n",
              "</div>"
            ],
            "text/plain": [
              "   Departure_YMD_LMT  Operation_YMD_LMT  ... SWC_Has_Infant Operation_Count\n",
              "0           20190326           20190326  ...              0               1\n",
              "1           20180321           20180321  ...              0               1\n",
              "2           20190322           20190322  ...              0               1\n",
              "3           20180515           20180515  ...              0               2\n",
              "4           20190420           20190420  ...              0               1\n",
              "\n",
              "[5 rows x 23 columns]"
            ]
          },
          "metadata": {
            "tags": []
          },
          "execution_count": 2
        }
      ]
    },
    {
      "cell_type": "markdown",
      "metadata": {
        "colab_type": "text",
        "id": "4ZY-nm_npgp3"
      },
      "source": [
        "Check what data types we have:"
      ]
    },
    {
      "cell_type": "code",
      "metadata": {
        "colab_type": "code",
        "id": "GLxegNa1pd8G",
        "outputId": "27053713-bf0a-473e-c238-a5bb23886970",
        "colab": {
          "base_uri": "https://localhost:8080/",
          "height": 425
        }
      },
      "source": [
        "train_df.dtypes"
      ],
      "execution_count": 4,
      "outputs": [
        {
          "output_type": "execute_result",
          "data": {
            "text/plain": [
              "Departure_YMD_LMT             int64\n",
              "Operation_YMD_LMT             int64\n",
              "Departure_Airport            object\n",
              "Operation_Airport            object\n",
              "Terminal_Number              object\n",
              "Terminal_Name                object\n",
              "Operation_Initials           object\n",
              "Operation_Sonic_Code         object\n",
              "Operation_Channel            object\n",
              "Passenger_Title              object\n",
              "Passenger_Gender             object\n",
              "Inbound_Departure_Airport    object\n",
              "Outbound_Arrival_Airport     object\n",
              "SWC_FLY                       int64\n",
              "Cabin_Class                  object\n",
              "SWC_FQTV_Member               int64\n",
              "Passenger_Baggage_Count       int64\n",
              "Passenger_Baggage_Weight      int64\n",
              "SWC_Staff                     int64\n",
              "SWC_CIP_Passenger             int64\n",
              "SWC_VIP_Passenger             int64\n",
              "SWC_Has_Infant                int64\n",
              "Operation_Count               int64\n",
              "dtype: object"
            ]
          },
          "metadata": {
            "tags": []
          },
          "execution_count": 4
        }
      ]
    },
    {
      "cell_type": "markdown",
      "metadata": {
        "colab_type": "text",
        "id": "l4_01rsyCmlL"
      },
      "source": [
        "In the *Departure_YMD_LMT* and the *Operation_YMD_LMT* colums, date of departure and date of check is stored so it is convenient to convert them to date time objects."
      ]
    },
    {
      "cell_type": "code",
      "metadata": {
        "colab_type": "code",
        "id": "JU_XBMXRDqOZ",
        "colab": {}
      },
      "source": [
        "train_df['Departure_YMD_LMT'] = pd.to_datetime(train_df['Departure_YMD_LMT'], format='%Y%m%d')\n",
        "train_df['Operation_YMD_LMT'] = pd.to_datetime(train_df['Operation_YMD_LMT'], format='%Y%m%d')\n",
        "result_df['Departure_YMD_LMT'] = pd.to_datetime(result_df['Departure_YMD_LMT'], format='%Y%m%d')\n",
        "result_df['Operation_YMD_LMT'] = pd.to_datetime(result_df['Operation_YMD_LMT'], format='%Y%m%d')"
      ],
      "execution_count": 0,
      "outputs": []
    },
    {
      "cell_type": "code",
      "metadata": {
        "colab_type": "code",
        "id": "Gul7qn8ZEW4Y",
        "outputId": "6a1b83a3-ae20-46a1-e987-ed2574677aba",
        "colab": {
          "base_uri": "https://localhost:8080/",
          "height": 425
        }
      },
      "source": [
        "train_df.dtypes"
      ],
      "execution_count": 5,
      "outputs": [
        {
          "output_type": "execute_result",
          "data": {
            "text/plain": [
              "Departure_YMD_LMT            datetime64[ns]\n",
              "Operation_YMD_LMT            datetime64[ns]\n",
              "Departure_Airport                    object\n",
              "Operation_Airport                    object\n",
              "Terminal_Number                      object\n",
              "Terminal_Name                        object\n",
              "Operation_Initials                   object\n",
              "Operation_Sonic_Code                 object\n",
              "Operation_Channel                    object\n",
              "Passenger_Title                      object\n",
              "Passenger_Gender                     object\n",
              "Inbound_Departure_Airport            object\n",
              "Outbound_Arrival_Airport             object\n",
              "SWC_FLY                               int64\n",
              "Cabin_Class                          object\n",
              "SWC_FQTV_Member                       int64\n",
              "Passenger_Baggage_Count               int64\n",
              "Passenger_Baggage_Weight              int64\n",
              "SWC_Staff                             int64\n",
              "SWC_CIP_Passenger                     int64\n",
              "SWC_VIP_Passenger                     int64\n",
              "SWC_Has_Infant                        int64\n",
              "Operation_Count                       int64\n",
              "dtype: object"
            ]
          },
          "metadata": {
            "tags": []
          },
          "execution_count": 5
        }
      ]
    },
    {
      "cell_type": "code",
      "metadata": {
        "colab_type": "code",
        "id": "OdDOiwuGFerU",
        "outputId": "4f3d541a-1b35-48f3-f87d-5015b5637264",
        "colab": {
          "base_uri": "https://localhost:8080/",
          "height": 317
        }
      },
      "source": [
        "train_df.describe()"
      ],
      "execution_count": 6,
      "outputs": [
        {
          "output_type": "execute_result",
          "data": {
            "text/html": [
              "<div>\n",
              "<style scoped>\n",
              "    .dataframe tbody tr th:only-of-type {\n",
              "        vertical-align: middle;\n",
              "    }\n",
              "\n",
              "    .dataframe tbody tr th {\n",
              "        vertical-align: top;\n",
              "    }\n",
              "\n",
              "    .dataframe thead th {\n",
              "        text-align: right;\n",
              "    }\n",
              "</style>\n",
              "<table border=\"1\" class=\"dataframe\">\n",
              "  <thead>\n",
              "    <tr style=\"text-align: right;\">\n",
              "      <th></th>\n",
              "      <th>SWC_FLY</th>\n",
              "      <th>SWC_FQTV_Member</th>\n",
              "      <th>Passenger_Baggage_Count</th>\n",
              "      <th>Passenger_Baggage_Weight</th>\n",
              "      <th>SWC_Staff</th>\n",
              "      <th>SWC_CIP_Passenger</th>\n",
              "      <th>SWC_VIP_Passenger</th>\n",
              "      <th>SWC_Has_Infant</th>\n",
              "      <th>Operation_Count</th>\n",
              "    </tr>\n",
              "  </thead>\n",
              "  <tbody>\n",
              "    <tr>\n",
              "      <th>count</th>\n",
              "      <td>808696.000000</td>\n",
              "      <td>808696.000000</td>\n",
              "      <td>808696.000000</td>\n",
              "      <td>808696.000000</td>\n",
              "      <td>808696.000000</td>\n",
              "      <td>808696.000000</td>\n",
              "      <td>808696.000000</td>\n",
              "      <td>808696.000000</td>\n",
              "      <td>808696.000000</td>\n",
              "    </tr>\n",
              "    <tr>\n",
              "      <th>mean</th>\n",
              "      <td>0.939140</td>\n",
              "      <td>0.359679</td>\n",
              "      <td>0.655413</td>\n",
              "      <td>8.560313</td>\n",
              "      <td>0.029989</td>\n",
              "      <td>0.148156</td>\n",
              "      <td>0.008257</td>\n",
              "      <td>0.011681</td>\n",
              "      <td>1.534792</td>\n",
              "    </tr>\n",
              "    <tr>\n",
              "      <th>std</th>\n",
              "      <td>0.239073</td>\n",
              "      <td>0.479907</td>\n",
              "      <td>0.963677</td>\n",
              "      <td>13.667213</td>\n",
              "      <td>0.170557</td>\n",
              "      <td>0.355255</td>\n",
              "      <td>0.090489</td>\n",
              "      <td>0.107444</td>\n",
              "      <td>2.223746</td>\n",
              "    </tr>\n",
              "    <tr>\n",
              "      <th>min</th>\n",
              "      <td>0.000000</td>\n",
              "      <td>0.000000</td>\n",
              "      <td>0.000000</td>\n",
              "      <td>0.000000</td>\n",
              "      <td>0.000000</td>\n",
              "      <td>0.000000</td>\n",
              "      <td>0.000000</td>\n",
              "      <td>0.000000</td>\n",
              "      <td>1.000000</td>\n",
              "    </tr>\n",
              "    <tr>\n",
              "      <th>25%</th>\n",
              "      <td>1.000000</td>\n",
              "      <td>0.000000</td>\n",
              "      <td>0.000000</td>\n",
              "      <td>0.000000</td>\n",
              "      <td>0.000000</td>\n",
              "      <td>0.000000</td>\n",
              "      <td>0.000000</td>\n",
              "      <td>0.000000</td>\n",
              "      <td>1.000000</td>\n",
              "    </tr>\n",
              "    <tr>\n",
              "      <th>50%</th>\n",
              "      <td>1.000000</td>\n",
              "      <td>0.000000</td>\n",
              "      <td>0.000000</td>\n",
              "      <td>0.000000</td>\n",
              "      <td>0.000000</td>\n",
              "      <td>0.000000</td>\n",
              "      <td>0.000000</td>\n",
              "      <td>0.000000</td>\n",
              "      <td>1.000000</td>\n",
              "    </tr>\n",
              "    <tr>\n",
              "      <th>75%</th>\n",
              "      <td>1.000000</td>\n",
              "      <td>1.000000</td>\n",
              "      <td>1.000000</td>\n",
              "      <td>15.000000</td>\n",
              "      <td>0.000000</td>\n",
              "      <td>0.000000</td>\n",
              "      <td>0.000000</td>\n",
              "      <td>0.000000</td>\n",
              "      <td>1.000000</td>\n",
              "    </tr>\n",
              "    <tr>\n",
              "      <th>max</th>\n",
              "      <td>1.000000</td>\n",
              "      <td>1.000000</td>\n",
              "      <td>54.000000</td>\n",
              "      <td>970.000000</td>\n",
              "      <td>1.000000</td>\n",
              "      <td>1.000000</td>\n",
              "      <td>1.000000</td>\n",
              "      <td>1.000000</td>\n",
              "      <td>129.000000</td>\n",
              "    </tr>\n",
              "  </tbody>\n",
              "</table>\n",
              "</div>"
            ],
            "text/plain": [
              "             SWC_FLY  SWC_FQTV_Member  ...  SWC_Has_Infant  Operation_Count\n",
              "count  808696.000000    808696.000000  ...   808696.000000    808696.000000\n",
              "mean        0.939140         0.359679  ...        0.011681         1.534792\n",
              "std         0.239073         0.479907  ...        0.107444         2.223746\n",
              "min         0.000000         0.000000  ...        0.000000         1.000000\n",
              "25%         1.000000         0.000000  ...        0.000000         1.000000\n",
              "50%         1.000000         0.000000  ...        0.000000         1.000000\n",
              "75%         1.000000         1.000000  ...        0.000000         1.000000\n",
              "max         1.000000         1.000000  ...        1.000000       129.000000\n",
              "\n",
              "[8 rows x 9 columns]"
            ]
          },
          "metadata": {
            "tags": []
          },
          "execution_count": 6
        }
      ]
    },
    {
      "cell_type": "markdown",
      "metadata": {
        "colab_type": "text",
        "id": "3gnER73WQam2"
      },
      "source": [
        "Convert *object* datatype to category when needed."
      ]
    },
    {
      "cell_type": "code",
      "metadata": {
        "colab_type": "code",
        "id": "5e52srsIdGMK",
        "colab": {}
      },
      "source": [
        "for col_name in train_df.columns:\n",
        "    if train_df[col_name].dtype.name == 'object':\n",
        "        train_df[col_name] = train_df[col_name].astype('category')\n",
        "        result_df[col_name] = result_df[col_name].astype('category')"
      ],
      "execution_count": 0,
      "outputs": []
    },
    {
      "cell_type": "code",
      "metadata": {
        "colab_type": "code",
        "id": "oPj0AJ3UdmfQ",
        "outputId": "61a8fb7e-5cde-488d-c9a5-af998b7fe3c6",
        "colab": {
          "base_uri": "https://localhost:8080/",
          "height": 425
        }
      },
      "source": [
        "train_df.dtypes"
      ],
      "execution_count": 8,
      "outputs": [
        {
          "output_type": "execute_result",
          "data": {
            "text/plain": [
              "Departure_YMD_LMT            datetime64[ns]\n",
              "Operation_YMD_LMT            datetime64[ns]\n",
              "Departure_Airport                  category\n",
              "Operation_Airport                  category\n",
              "Terminal_Number                    category\n",
              "Terminal_Name                      category\n",
              "Operation_Initials                 category\n",
              "Operation_Sonic_Code               category\n",
              "Operation_Channel                  category\n",
              "Passenger_Title                    category\n",
              "Passenger_Gender                   category\n",
              "Inbound_Departure_Airport          category\n",
              "Outbound_Arrival_Airport           category\n",
              "SWC_FLY                               int64\n",
              "Cabin_Class                        category\n",
              "SWC_FQTV_Member                       int64\n",
              "Passenger_Baggage_Count               int64\n",
              "Passenger_Baggage_Weight              int64\n",
              "SWC_Staff                             int64\n",
              "SWC_CIP_Passenger                     int64\n",
              "SWC_VIP_Passenger                     int64\n",
              "SWC_Has_Infant                        int64\n",
              "Operation_Count                       int64\n",
              "dtype: object"
            ]
          },
          "metadata": {
            "tags": []
          },
          "execution_count": 8
        }
      ]
    },
    {
      "cell_type": "markdown",
      "metadata": {
        "colab_type": "text",
        "id": "O5J9up0-d8bR"
      },
      "source": [
        "See the unique levels of the categorical columns. *Departure Airport* has only one value called \"KDT\". So, it is not informative and should be dropped."
      ]
    },
    {
      "cell_type": "code",
      "metadata": {
        "colab_type": "code",
        "id": "kEzqrNWEYlL-",
        "outputId": "e5337092-1351-4b8f-a39c-ef4e9edf7569",
        "colab": {
          "base_uri": "https://localhost:8080/",
          "height": 561
        }
      },
      "source": [
        "for col_name in train_df.columns:\n",
        "    if train_df[col_name].dtype.name == 'category':\n",
        "        print(col_name, \":\", train_df[col_name].unique())"
      ],
      "execution_count": 5,
      "outputs": [
        {
          "output_type": "stream",
          "text": [
            "Departure_Airport : [KDT]\n",
            "Categories (1, object): [KDT]\n",
            "Operation_Airport : [KDT, IST, ZKG, EST, GZT, ..., HRK, ODS, SOF, KNN, MNL]\n",
            "Length: 143\n",
            "Categories (143, object): [KDT, IST, ZKG, EST, ..., ODS, SOF, KNN, MNL]\n",
            "Terminal_Number : [?, P1, P2]\n",
            "Categories (3, object): [?, P1, P2]\n",
            "Terminal_Name : [032363, 03F960, 03AA2P, 0353D0, 03F902, ..., 0B19C9, 03554A, 0302CA, 035316, 03550B]\n",
            "Length: 2685\n",
            "Categories (2685, object): [032363, 03F960, 03AA2P, 0353D0, ..., 03554A, 0302CA, 035316, 03550B]\n",
            "Operation_Initials : [KS, MK, SC, EY, Q7, ..., NB, YK, RW, OA, JF]\n",
            "Length: 273\n",
            "Categories (272, object): [KS, MK, SC, EY, ..., YK, RW, OA, JF]\n",
            "Operation_Sonic_Code : [?, Y011161, Y013437, Y027434, Y013171, ..., M025037, Y019509, Y036439, Y015916, Y039203]\n",
            "Length: 1614\n",
            "Categories (1614, object): [?, Y011161, Y013437, Y027434, ..., Y019509, Y036439, Y015916,\n",
            "                            Y039203]\n",
            "Operation_Channel : [QC, TS, JW, TW, TY, ..., CC, BD, IR, IA, QR]\n",
            "Length: 13\n",
            "Categories (13, object): [QC, TS, JW, TW, ..., BD, IR, IA, QR]\n",
            "Passenger_Title : [MISTER, MISS, MISSES, ?, DOCTOR, PROFFESOR]\n",
            "Categories (6, object): [MISTER, MISS, MISSES, ?, DOCTOR, PROFFESOR]\n",
            "Passenger_Gender : [M, F, ?, F/INF, M/INF, C, C/INF]\n",
            "Categories (7, object): [M, F, ?, F/INF, M/INF, C, C/INF]\n",
            "Inbound_Departure_Airport : [IST, ?, EST, SKW, HKM, ..., NDG, VKS, VIE, STY, TRU]\n",
            "Length: 27\n",
            "Categories (27, object): [IST, ?, EST, SKW, ..., VKS, VIE, STY, TRU]\n",
            "Outbound_Arrival_Airport : [?, KDT, KMS, KGP, KJI, ..., SPU, PHX, MKK, KKE, YYN]\n",
            "Length: 363\n",
            "Categories (363, object): [?, KDT, KMS, KGP, ..., PHX, MKK, KKE, YYN]\n",
            "Cabin_Class : [Y, ?, C]\n",
            "Categories (3, object): [Y, ?, C]\n"
          ],
          "name": "stdout"
        }
      ]
    },
    {
      "cell_type": "markdown",
      "metadata": {
        "colab_type": "text",
        "id": "RMErP_yZRG1y"
      },
      "source": [
        "Generate *Operation_Channel_Group* as defined in the pdf file."
      ]
    },
    {
      "cell_type": "code",
      "metadata": {
        "colab_type": "code",
        "id": "M3l1GzRXF3tu",
        "outputId": "e3aed1e1-c5ba-4008-f3ad-da8df93b9324",
        "colab": {
          "base_uri": "https://localhost:8080/",
          "height": 34
        }
      },
      "source": [
        "dict = {\"JW\": 'Online',\n",
        "        \"TW\": 'Online',\n",
        "        \"TS\": 'Mobile',\n",
        "        \"JM\": 'Mobile',\n",
        "        \"TY\":\"Counter\",\n",
        "        \"QC\":\"Counter\",\n",
        "        \"SC\":\"Kiosks\",\n",
        "        \"IR\":\"Other\",\n",
        "        \"?\":\"Other\",\n",
        "        \"IA\":\"Other\",\n",
        "        \"BD\":\"Other\",\n",
        "        \"CC\":\"Other\",\n",
        "        \"QR\":\"Other\",\n",
        "        \"QP\":\"Other\",\n",
        "        \"QA\":\"Other\"\n",
        "        }\n",
        "train_df['Operation_Channel_Group'] = train_df['Operation_Channel'].map(dict)\n",
        "train_df['Operation_Channel_Group'].unique()"
      ],
      "execution_count": 6,
      "outputs": [
        {
          "output_type": "execute_result",
          "data": {
            "text/plain": [
              "array(['Counter', 'Mobile', 'Online', 'Kiosks', 'Other'], dtype=object)"
            ]
          },
          "metadata": {
            "tags": []
          },
          "execution_count": 6
        }
      ]
    },
    {
      "cell_type": "markdown",
      "metadata": {
        "colab_type": "text",
        "id": "d-dpsfiZ0F0B"
      },
      "source": [
        "Do the same for the test set."
      ]
    },
    {
      "cell_type": "code",
      "metadata": {
        "colab_type": "code",
        "id": "NM2QHVLm0Lh8",
        "outputId": "66a8a011-a686-4c35-813f-d4393fe2e3f0",
        "colab": {
          "base_uri": "https://localhost:8080/",
          "height": 34
        }
      },
      "source": [
        "result_df['Operation_Channel_Group'] = result_df['Operation_Channel'].map(dict)\n",
        "result_df['Operation_Channel_Group'].unique()"
      ],
      "execution_count": 7,
      "outputs": [
        {
          "output_type": "execute_result",
          "data": {
            "text/plain": [
              "array(['Mobile', 'Counter', 'Online', 'Kiosks', 'Other'], dtype=object)"
            ]
          },
          "metadata": {
            "tags": []
          },
          "execution_count": 7
        }
      ]
    },
    {
      "cell_type": "markdown",
      "metadata": {
        "colab_type": "text",
        "id": "hHcQ08xGLCUe"
      },
      "source": [
        "Change data type to category"
      ]
    },
    {
      "cell_type": "code",
      "metadata": {
        "colab_type": "code",
        "id": "LgqgfLW2K7TD",
        "colab": {}
      },
      "source": [
        "train_df[\"Operation_Channel_Group\"] = train_df[\"Operation_Channel_Group\"].astype('category')\n",
        "result_df[\"Operation_Channel_Group\"] = result_df[\"Operation_Channel_Group\"].astype('category')"
      ],
      "execution_count": 0,
      "outputs": []
    },
    {
      "cell_type": "markdown",
      "metadata": {
        "colab_type": "text",
        "id": "unO5SdRzycc_"
      },
      "source": [
        "### Missing Value Handling\n",
        "\n",
        "Column percentage of null values in the training and test sets are printed below. At first glance,there are only null values in the *Operation Initials* column, however some unknown values are encoded as \"?\" in the datasets."
      ]
    },
    {
      "cell_type": "code",
      "metadata": {
        "colab_type": "code",
        "id": "uAipyZEz4-sw",
        "outputId": "196b2d66-50b2-4e23-b890-337c61f44183",
        "colab": {
          "base_uri": "https://localhost:8080/",
          "height": 442
        }
      },
      "source": [
        "(train_df.isnull().mean()*100).round(4)"
      ],
      "execution_count": 9,
      "outputs": [
        {
          "output_type": "execute_result",
          "data": {
            "text/plain": [
              "Departure_YMD_LMT            0.0000\n",
              "Operation_YMD_LMT            0.0000\n",
              "Departure_Airport            0.0000\n",
              "Operation_Airport            0.0000\n",
              "Terminal_Number              0.0000\n",
              "Terminal_Name                0.0000\n",
              "Operation_Initials           0.0156\n",
              "Operation_Sonic_Code         0.0000\n",
              "Operation_Channel            0.0000\n",
              "Passenger_Title              0.0000\n",
              "Passenger_Gender             0.0000\n",
              "Inbound_Departure_Airport    0.0000\n",
              "Outbound_Arrival_Airport     0.0000\n",
              "SWC_FLY                      0.0000\n",
              "Cabin_Class                  0.0000\n",
              "SWC_FQTV_Member              0.0000\n",
              "Passenger_Baggage_Count      0.0000\n",
              "Passenger_Baggage_Weight     0.0000\n",
              "SWC_Staff                    0.0000\n",
              "SWC_CIP_Passenger            0.0000\n",
              "SWC_VIP_Passenger            0.0000\n",
              "SWC_Has_Infant               0.0000\n",
              "Operation_Count              0.0000\n",
              "Operation_Channel_Group      0.0000\n",
              "dtype: float64"
            ]
          },
          "metadata": {
            "tags": []
          },
          "execution_count": 9
        }
      ]
    },
    {
      "cell_type": "code",
      "metadata": {
        "colab_type": "code",
        "id": "Z9h6GsY65I5L",
        "outputId": "48a6d545-8cc6-47cd-aa6a-d3bc8a60e9bb",
        "colab": {
          "base_uri": "https://localhost:8080/",
          "height": 442
        }
      },
      "source": [
        "(result_df.isnull().mean()*100).round(4)"
      ],
      "execution_count": 10,
      "outputs": [
        {
          "output_type": "execute_result",
          "data": {
            "text/plain": [
              "Departure_YMD_LMT            0.0000\n",
              "Operation_YMD_LMT            0.0000\n",
              "Departure_Airport            0.0000\n",
              "Operation_Airport            0.0000\n",
              "Terminal_Number              0.0000\n",
              "Terminal_Name                0.0000\n",
              "Operation_Initials           0.0033\n",
              "Operation_Sonic_Code         0.0000\n",
              "Operation_Channel            0.0000\n",
              "Passenger_Title              0.0000\n",
              "Passenger_Gender             0.0000\n",
              "Inbound_Departure_Airport    0.0000\n",
              "Outbound_Arrival_Airport     0.0000\n",
              "SWC_FLY                      0.0000\n",
              "Cabin_Class                  0.0000\n",
              "SWC_FQTV_Member              0.0000\n",
              "Passenger_Baggage_Count      0.0000\n",
              "Passenger_Baggage_Weight     0.0000\n",
              "SWC_Staff                    0.0000\n",
              "SWC_CIP_Passenger            0.0000\n",
              "SWC_VIP_Passenger            0.0000\n",
              "SWC_Has_Infant               0.0000\n",
              "Operation_Count              0.0000\n",
              "Operation_Channel_Group      0.0000\n",
              "dtype: float64"
            ]
          },
          "metadata": {
            "tags": []
          },
          "execution_count": 10
        }
      ]
    },
    {
      "cell_type": "markdown",
      "metadata": {
        "colab_type": "text",
        "id": "jLbD741tyefs"
      },
      "source": [
        "Column based \"?\" occurance percentages in the training set:"
      ]
    },
    {
      "cell_type": "code",
      "metadata": {
        "colab_type": "code",
        "id": "7CHS7T5Q6k_a",
        "outputId": "acb3ade5-5529-48d5-d9be-93ee0516a130",
        "colab": {
          "base_uri": "https://localhost:8080/",
          "height": 170
        }
      },
      "source": [
        "import numpy as np\n",
        "def unknown_perc(df):\n",
        "  print(\"Column Name\\t Percentage\")\n",
        "  for col_name in df.columns:\n",
        "        if df[col_name].dtype.name == 'category' and (df[col_name] == \"?\").any():\n",
        "          count = df[col_name].value_counts(dropna=False)['?']\n",
        "          percentage = (count/len(df)*100).round(3)\n",
        "          print(col_name,\"\\t\", percentage)\n",
        "  return\n",
        "        \n",
        "unknown_perc(train_df)"
      ],
      "execution_count": 11,
      "outputs": [
        {
          "output_type": "stream",
          "text": [
            "Column Name\t Percentage\n",
            "Terminal_Number \t 90.618\n",
            "Operation_Sonic_Code \t 78.927\n",
            "Operation_Channel \t 2.112\n",
            "Passenger_Title \t 2.331\n",
            "Passenger_Gender \t 3.902\n",
            "Inbound_Departure_Airport \t 91.338\n",
            "Outbound_Arrival_Airport \t 64.422\n",
            "Cabin_Class \t 3.409\n"
          ],
          "name": "stdout"
        }
      ]
    },
    {
      "cell_type": "markdown",
      "metadata": {
        "colab_type": "text",
        "id": "6AM6L2Bpyw-G"
      },
      "source": [
        "Column based \"?\" occurance percentages in the test set:"
      ]
    },
    {
      "cell_type": "code",
      "metadata": {
        "colab_type": "code",
        "id": "2UDEAA0LxKfX",
        "outputId": "5e60b464-b879-4acf-b87d-8b482f5ec55c",
        "colab": {
          "base_uri": "https://localhost:8080/",
          "height": 153
        }
      },
      "source": [
        "unknown_perc(result_df)"
      ],
      "execution_count": 15,
      "outputs": [
        {
          "output_type": "stream",
          "text": [
            "Column Name\t Percentage\n",
            "Terminal_Number \t 91.39\n",
            "Operation_Sonic_Code \t 54.39\n",
            "Operation_Channel \t 0.871\n",
            "Passenger_Title \t 2.762\n",
            "Passenger_Gender \t 0.076\n",
            "Inbound_Departure_Airport \t 94.52\n",
            "Outbound_Arrival_Airport \t 65.008\n"
          ],
          "name": "stdout"
        }
      ]
    },
    {
      "cell_type": "markdown",
      "metadata": {
        "colab_type": "text",
        "id": "fkRjgKgzCFbu"
      },
      "source": [
        "#### Generating Flags\n",
        "\n",
        "\n",
        "Let's transform Operation_Sonic_Code to Operation_Sonic_Code_Flag and Terminal_Name to Terminal_Name_Flag in order to see if these variables are null or not. We choose to do this since there are so many different classes for these variables."
      ]
    },
    {
      "cell_type": "code",
      "metadata": {
        "colab_type": "code",
        "id": "b4PaXdgyEfUX",
        "colab": {}
      },
      "source": [
        "train_df['Operation_Sonic_Code_Flag'] = np.where(train_df['Operation_Sonic_Code']=='?', '0', '1')\n",
        "train_df['Operation_Sonic_Code_Flag'] = train_df['Operation_Sonic_Code_Flag'].astype(int)\n",
        "train_df['Terminal_Number_Flag'] = np.where(train_df['Terminal_Number']=='?', '0', '1')\n",
        "train_df['Terminal_Number_Flag'] = train_df['Terminal_Number_Flag'].astype(int)\n",
        "result_df['Operation_Sonic_Code_Flag'] = np.where(result_df['Operation_Sonic_Code']=='?', '0', '1')\n",
        "result_df['Operation_Sonic_Code_Flag'] = result_df['Operation_Sonic_Code_Flag'].astype(int)\n",
        "result_df['Terminal_Number_Flag'] = np.where(result_df['Terminal_Number']=='?', '0', '1')\n",
        "result_df['Terminal_Number_Flag'] = result_df['Terminal_Number_Flag'].astype(int)"
      ],
      "execution_count": 0,
      "outputs": []
    },
    {
      "cell_type": "markdown",
      "metadata": {
        "colab_type": "text",
        "id": "FFsQhdoCmip7"
      },
      "source": [
        "Convert \"?\" to NA when needed. Apart from *Inbound_Departure_Airport* and *Outbound_Arrival_Airport*, \"?\" is printed for unknown values (missing). For those specific columns \"?\" means that there is no inbound or outbound flight (direct flight), so they are encoded as a seperate class called *Unknown*."
      ]
    },
    {
      "cell_type": "code",
      "metadata": {
        "colab_type": "code",
        "id": "_f4FdP8Ymaxw",
        "colab": {}
      },
      "source": [
        "import numpy as np\n",
        "train_df['Terminal_Number'] = train_df['Terminal_Number'].replace('?', np.nan)\n",
        "#train_df['Operation_Channel'] = train_df['Operation_Channel'].replace('?', np.nan)\n",
        "train_df['Passenger_Title'] = train_df['Passenger_Title'].replace('?', np.nan)\n",
        "train_df['Passenger_Gender'] = train_df['Passenger_Gender'].replace('?', np.nan)\n",
        "train_df['Inbound_Departure_Airport'] = train_df['Inbound_Departure_Airport'].replace('?', \"Unknown\")\n",
        "train_df['Outbound_Arrival_Airport'] = train_df['Outbound_Arrival_Airport'].replace('?', \"Unknown\")\n",
        "train_df['Cabin_Class'] = train_df['Cabin_Class'].replace('?', np.nan)\n",
        "train_df[\"Operation_Initials\"] = train_df[\"Operation_Initials\"].replace(\"?\",np.nan)\n",
        "train_df[\"Operation_Sonic_Code\"] = train_df[\"Operation_Sonic_Code\"].replace(\"?\",np.nan)\n",
        "\n",
        "result_df['Terminal_Number'] = result_df['Terminal_Number'].replace('?', np.nan)\n",
        "#result_df['Operation_Channel'] = result_df['Operation_Channel'].replace('?', np.nan)\n",
        "result_df['Passenger_Title'] = result_df['Passenger_Title'].replace('?', np.nan)\n",
        "result_df['Passenger_Gender'] = result_df['Passenger_Gender'].replace('?', np.nan)\n",
        "result_df['Inbound_Departure_Airport'] = result_df['Inbound_Departure_Airport'].replace('?', \"Unknown\")\n",
        "result_df['Outbound_Arrival_Airport'] = result_df['Outbound_Arrival_Airport'].replace('?', \"Unknown\")\n",
        "result_df['Cabin_Class'] = result_df['Cabin_Class'].replace('?', np.nan)\n",
        "result_df[\"Operation_Initials\"] = train_df[\"Operation_Initials\"].replace(\"?\",np.nan)\n",
        "result_df[\"Operation_Sonic_Code\"] = result_df[\"Operation_Sonic_Code\"].replace(\"?\",np.nan)"
      ],
      "execution_count": 0,
      "outputs": []
    },
    {
      "cell_type": "markdown",
      "metadata": {
        "colab_type": "text",
        "id": "nplxsMXMAnXY"
      },
      "source": [
        "Now, the new missing value percentages for the training set becomes:"
      ]
    },
    {
      "cell_type": "code",
      "metadata": {
        "colab_type": "code",
        "id": "CwmBM3TkrjrK",
        "outputId": "ea2d0b3b-e5eb-43ae-9944-5dbc3d0743d3",
        "colab": {
          "base_uri": "https://localhost:8080/",
          "height": 476
        }
      },
      "source": [
        "(train_df.isnull().mean()*100).round(4)"
      ],
      "execution_count": 14,
      "outputs": [
        {
          "output_type": "execute_result",
          "data": {
            "text/plain": [
              "Departure_YMD_LMT             0.0000\n",
              "Operation_YMD_LMT             0.0000\n",
              "Departure_Airport             0.0000\n",
              "Operation_Airport             0.0000\n",
              "Terminal_Number              90.6176\n",
              "Terminal_Name                 0.0000\n",
              "Operation_Initials            0.0156\n",
              "Operation_Sonic_Code         78.9266\n",
              "Operation_Channel             0.0000\n",
              "Passenger_Title               2.3307\n",
              "Passenger_Gender              3.9025\n",
              "Inbound_Departure_Airport     0.0000\n",
              "Outbound_Arrival_Airport      0.0000\n",
              "SWC_FLY                       0.0000\n",
              "Cabin_Class                   3.4093\n",
              "SWC_FQTV_Member               0.0000\n",
              "Passenger_Baggage_Count       0.0000\n",
              "Passenger_Baggage_Weight      0.0000\n",
              "SWC_Staff                     0.0000\n",
              "SWC_CIP_Passenger             0.0000\n",
              "SWC_VIP_Passenger             0.0000\n",
              "SWC_Has_Infant                0.0000\n",
              "Operation_Count               0.0000\n",
              "Operation_Channel_Group       0.0000\n",
              "Operation_Sonic_Code_Flag     0.0000\n",
              "Terminal_Number_Flag          0.0000\n",
              "dtype: float64"
            ]
          },
          "metadata": {
            "tags": []
          },
          "execution_count": 14
        }
      ]
    },
    {
      "cell_type": "markdown",
      "metadata": {
        "colab_type": "text",
        "id": "aSMbF8qEA4M7"
      },
      "source": [
        "and for the test set the result is:"
      ]
    },
    {
      "cell_type": "code",
      "metadata": {
        "colab_type": "code",
        "id": "CINMBpV7A8pG",
        "outputId": "aeaafe33-6de4-47a5-cd62-ed18223d5c50",
        "colab": {
          "base_uri": "https://localhost:8080/",
          "height": 476
        }
      },
      "source": [
        "(result_df.isnull().mean()*100).round(4)"
      ],
      "execution_count": 15,
      "outputs": [
        {
          "output_type": "execute_result",
          "data": {
            "text/plain": [
              "Departure_YMD_LMT             0.0000\n",
              "Operation_YMD_LMT             0.0000\n",
              "Departure_Airport             0.0000\n",
              "Operation_Airport             0.0000\n",
              "Terminal_Number              91.3903\n",
              "Terminal_Name                 0.0000\n",
              "Operation_Initials            0.0180\n",
              "Operation_Sonic_Code         54.3901\n",
              "Operation_Channel             0.0000\n",
              "Passenger_Title               2.7616\n",
              "Passenger_Gender              0.0763\n",
              "Inbound_Departure_Airport     0.0000\n",
              "Outbound_Arrival_Airport      0.0000\n",
              "SWC_FLY                       0.0000\n",
              "Cabin_Class                   0.0000\n",
              "SWC_FQTV_Member               0.0000\n",
              "Passenger_Baggage_Count       0.0000\n",
              "Passenger_Baggage_Weight      0.0000\n",
              "SWC_Staff                     0.0000\n",
              "SWC_CIP_Passenger             0.0000\n",
              "SWC_VIP_Passenger             0.0000\n",
              "SWC_Has_Infant                0.0000\n",
              "Operation_Count               0.0000\n",
              "Operation_Channel_Group       0.0000\n",
              "Operation_Sonic_Code_Flag     0.0000\n",
              "Terminal_Number_Flag          0.0000\n",
              "dtype: float64"
            ]
          },
          "metadata": {
            "tags": []
          },
          "execution_count": 15
        }
      ]
    },
    {
      "cell_type": "markdown",
      "metadata": {
        "colab_type": "text",
        "id": "2rroaK2-3ruv"
      },
      "source": [
        "### Dropping Uninformative Features"
      ]
    },
    {
      "cell_type": "markdown",
      "metadata": {
        "colab_type": "text",
        "id": "Pe1XXORnVqGy"
      },
      "source": [
        "Notice that *Operation Sonic Code*  has a missing value ratio of 79% and for *Terminal Number* column this ratio is even higher (>90%). With a ratio this high, we cannot impute missing values correctly. These columns should be dropped, along with the *Departure_Airport* column.\n"
      ]
    },
    {
      "cell_type": "code",
      "metadata": {
        "colab_type": "code",
        "id": "w843hKQbB9Bs",
        "colab": {}
      },
      "source": [
        "#train_df2 = train_df.copy()\n",
        "#result_df2 = result_df.copy()\n",
        "train_df = train_df.drop(columns = [\"Terminal_Number\", \"Departure_Airport\", \"Operation_Sonic_Code\"])\n",
        "result_df = result_df.drop(columns = [\"Terminal_Number\", \"Departure_Airport\", \"Operation_Sonic_Code\"])"
      ],
      "execution_count": 0,
      "outputs": []
    },
    {
      "cell_type": "markdown",
      "metadata": {
        "colab_type": "text",
        "id": "egMg7CVHWqy-"
      },
      "source": [
        "#### Imputing Passenger Gender\n",
        "\n",
        "First, we used *Passenger Title* to impute missing values in the gender column. We replaced unknown genders whose titles are *MISTER*, *MISS* and *MISSES* with male and females, respectively. Later, we decided *Operation Channel Group* based imputation for the rest. So we grouped the dataframe by this column and found most frequent observations for the *Passenger Gender* column."
      ]
    },
    {
      "cell_type": "code",
      "metadata": {
        "colab_type": "code",
        "id": "2aqNrg2SCFM7",
        "outputId": "ccdd08f4-a78e-4c29-d453-05199fc5ece0",
        "colab": {
          "base_uri": "https://localhost:8080/",
          "height": 34
        }
      },
      "source": [
        "# Replace missing values whose titles are MISTER with M\n",
        "train_df.loc[(train_df.Passenger_Gender.isna() ) & (train_df.Passenger_Title=='MISTER'),\"Passenger_Gender\"] = \"M\"\n",
        "result_df.loc[(result_df.Passenger_Gender.isna() ) & (result_df.Passenger_Title=='MISTER'),\"Passenger_Gender\"] = \"M\"\n",
        "\n",
        "# Replace missing values whose titles are MISS or MISSES with F\n",
        "train_df.loc[(train_df.Passenger_Gender.isna() ) & ((train_df.Passenger_Title=='MISS') | (train_df.Passenger_Title=='MISSES')) ,\"Passenger_Gender\"] = \"F\"\n",
        "result_df.loc[(result_df.Passenger_Gender.isna() ) & ((result_df.Passenger_Title=='MISS') | (result_df.Passenger_Title=='MISSES')) ,\"Passenger_Gender\"] = \"F\"\n",
        "\n",
        "sum(train_df[\"Passenger_Gender\"].isnull())"
      ],
      "execution_count": 17,
      "outputs": [
        {
          "output_type": "execute_result",
          "data": {
            "text/plain": [
              "981"
            ]
          },
          "metadata": {
            "tags": []
          },
          "execution_count": 17
        }
      ]
    },
    {
      "cell_type": "markdown",
      "metadata": {
        "colab_type": "text",
        "id": "ycXeXhyjIUoL"
      },
      "source": [
        "There are 981 missing values left in the gender column. We checked channel group based gender distribution and found that the most frequent gender is male for every channel"
      ]
    },
    {
      "cell_type": "code",
      "metadata": {
        "colab_type": "code",
        "id": "RO2DoYwAW564",
        "outputId": "d32cb40b-32f6-4f07-aa87-f6047dd1b265",
        "colab": {
          "base_uri": "https://localhost:8080/",
          "height": 136
        }
      },
      "source": [
        "train_df.groupby(\"Operation_Channel_Group\")['Passenger_Gender'].apply(lambda x: x.value_counts().index[0])#.reset_index()"
      ],
      "execution_count": 18,
      "outputs": [
        {
          "output_type": "execute_result",
          "data": {
            "text/plain": [
              "Operation_Channel_Group\n",
              "Counter    M\n",
              "Kiosks     M\n",
              "Mobile     M\n",
              "Online     M\n",
              "Other      M\n",
              "Name: Passenger_Gender, dtype: object"
            ]
          },
          "metadata": {
            "tags": []
          },
          "execution_count": 18
        }
      ]
    },
    {
      "cell_type": "code",
      "metadata": {
        "colab_type": "code",
        "id": "S038IZzsZeP_",
        "outputId": "63822e47-647a-4159-b851-be6e650241f2",
        "colab": {
          "base_uri": "https://localhost:8080/",
          "height": 646
        }
      },
      "source": [
        "train_df.groupby(\"Operation_Channel_Group\")['Passenger_Gender'].apply(lambda x: x.value_counts())"
      ],
      "execution_count": 19,
      "outputs": [
        {
          "output_type": "execute_result",
          "data": {
            "text/plain": [
              "Operation_Channel_Group       \n",
              "Counter                  M        237238\n",
              "                         F        140313\n",
              "                         C         11334\n",
              "                         F/INF      1984\n",
              "                         M/INF      1187\n",
              "                         C/INF         6\n",
              "                         ?             0\n",
              "Kiosks                   M         27454\n",
              "                         F         13975\n",
              "                         C          1143\n",
              "                         F/INF       139\n",
              "                         M/INF        99\n",
              "                         C/INF         0\n",
              "                         ?             0\n",
              "Mobile                   M         91209\n",
              "                         F         62979\n",
              "                         C          4621\n",
              "                         F/INF       548\n",
              "                         M/INF       380\n",
              "                         C/INF         0\n",
              "                         ?             0\n",
              "Online                   M        104584\n",
              "                         F         82430\n",
              "                         C          6055\n",
              "                         F/INF       692\n",
              "                         M/INF       408\n",
              "                         C/INF         0\n",
              "                         ?             0\n",
              "Other                    M         10206\n",
              "                         F          8093\n",
              "                         C           487\n",
              "                         F/INF       101\n",
              "                         M/INF        50\n",
              "                         C/INF         0\n",
              "                         ?             0\n",
              "Name: Passenger_Gender, dtype: int64"
            ]
          },
          "metadata": {
            "tags": []
          },
          "execution_count": 19
        }
      ]
    },
    {
      "cell_type": "code",
      "metadata": {
        "colab_type": "code",
        "id": "NbFrmcungJex",
        "outputId": "897a9084-021d-4210-f560-1f805bb1071f",
        "colab": {
          "base_uri": "https://localhost:8080/",
          "height": 391
        }
      },
      "source": [
        "result_df.groupby(\"Operation_Channel_Group\")['Passenger_Gender'].apply(lambda x: x.value_counts())"
      ],
      "execution_count": 20,
      "outputs": [
        {
          "output_type": "execute_result",
          "data": {
            "text/plain": [
              "Operation_Channel_Group   \n",
              "Counter                  M    32131\n",
              "                         F    23568\n",
              "                         C     3107\n",
              "                         ?        0\n",
              "Kiosks                   M     4364\n",
              "                         F     2458\n",
              "                         C      275\n",
              "                         ?        0\n",
              "Mobile                   M    13059\n",
              "                         F    10883\n",
              "                         C     1129\n",
              "                         ?        0\n",
              "Online                   M    14682\n",
              "                         F    13371\n",
              "                         C     1445\n",
              "                         ?        0\n",
              "Other                    M      679\n",
              "                         F      585\n",
              "                         C       92\n",
              "                         ?        0\n",
              "Name: Passenger_Gender, dtype: int64"
            ]
          },
          "metadata": {
            "tags": []
          },
          "execution_count": 20
        }
      ]
    },
    {
      "cell_type": "markdown",
      "metadata": {
        "colab_type": "text",
        "id": "4_NAbcajX7S_"
      },
      "source": [
        "Since most common gender for all channel groups is male, we imputed missing gender values with \"M\"."
      ]
    },
    {
      "cell_type": "code",
      "metadata": {
        "colab_type": "code",
        "id": "mthkiXm6YOMQ",
        "outputId": "050e795e-4d0b-444a-ac63-1c470e850f6d",
        "colab": {
          "base_uri": "https://localhost:8080/",
          "height": 51
        }
      },
      "source": [
        "train_df['Passenger_Gender'] = train_df['Passenger_Gender'].replace(np.nan, \"M\")\n",
        "train_df['Passenger_Gender'].unique()"
      ],
      "execution_count": 21,
      "outputs": [
        {
          "output_type": "execute_result",
          "data": {
            "text/plain": [
              "[M, F, F/INF, M/INF, C, C/INF]\n",
              "Categories (6, object): [M, F, F/INF, M/INF, C, C/INF]"
            ]
          },
          "metadata": {
            "tags": []
          },
          "execution_count": 21
        }
      ]
    },
    {
      "cell_type": "code",
      "metadata": {
        "colab_type": "code",
        "id": "UcXgdApsgRJn",
        "outputId": "f7f4f2df-3fe8-448a-b7e4-63ce9b0f2d3a",
        "colab": {
          "base_uri": "https://localhost:8080/",
          "height": 51
        }
      },
      "source": [
        "result_df['Passenger_Gender'] = train_df['Passenger_Gender'].replace(np.nan, \"M\")\n",
        "result_df['Passenger_Gender'].unique()"
      ],
      "execution_count": 22,
      "outputs": [
        {
          "output_type": "execute_result",
          "data": {
            "text/plain": [
              "[M, F, F/INF, M/INF, C, C/INF]\n",
              "Categories (6, object): [M, F, F/INF, M/INF, C, C/INF]"
            ]
          },
          "metadata": {
            "tags": []
          },
          "execution_count": 22
        }
      ]
    },
    {
      "cell_type": "markdown",
      "metadata": {
        "colab_type": "text",
        "id": "GsGg4v3wbntJ"
      },
      "source": [
        "#### Imputing Passenger Title\n",
        "\n",
        "Again, Operation Channel Group based imputation is employed. \"MISTER\" is most common tittle so we employed all the missin values with that."
      ]
    },
    {
      "cell_type": "code",
      "metadata": {
        "colab_type": "code",
        "id": "KVG7j7b8eMzB",
        "outputId": "b9bd2b6e-7045-4421-cddf-d6fd55fb7ce8",
        "colab": {
          "base_uri": "https://localhost:8080/",
          "height": 561
        }
      },
      "source": [
        "train_df.groupby(\"Operation_Channel_Group\")['Passenger_Title'].apply(lambda x: x.value_counts())"
      ],
      "execution_count": 23,
      "outputs": [
        {
          "output_type": "execute_result",
          "data": {
            "text/plain": [
              "Operation_Channel_Group           \n",
              "Counter                  MISTER       230324\n",
              "                         MISS         107506\n",
              "                         MISSES        42584\n",
              "                         DOCTOR          157\n",
              "                         PROFFESOR        10\n",
              "                         ?                 0\n",
              "Kiosks                   MISTER        26821\n",
              "                         MISS          10749\n",
              "                         MISSES         3910\n",
              "                         DOCTOR            9\n",
              "                         PROFFESOR         1\n",
              "                         ?                 0\n",
              "Mobile                   MISTER        92083\n",
              "                         MISS          48132\n",
              "                         MISSES        17537\n",
              "                         DOCTOR           62\n",
              "                         PROFFESOR         3\n",
              "                         ?                 0\n",
              "Online                   MISTER       105085\n",
              "                         MISS          63692\n",
              "                         MISSES        22288\n",
              "                         DOCTOR           91\n",
              "                         PROFFESOR         5\n",
              "                         ?                 0\n",
              "Other                    MISTER        10353\n",
              "                         MISS           6110\n",
              "                         MISSES         2329\n",
              "                         DOCTOR            6\n",
              "                         PROFFESOR         1\n",
              "                         ?                 0\n",
              "Name: Passenger_Title, dtype: int64"
            ]
          },
          "metadata": {
            "tags": []
          },
          "execution_count": 23
        }
      ]
    },
    {
      "cell_type": "code",
      "metadata": {
        "colab_type": "code",
        "id": "aEL6pDtTghn-",
        "outputId": "76f07aaa-e923-44fe-fe2c-75513a24e89d",
        "colab": {
          "base_uri": "https://localhost:8080/",
          "height": 561
        }
      },
      "source": [
        "result_df.groupby(\"Operation_Channel_Group\")['Passenger_Title'].apply(lambda x: x.value_counts())"
      ],
      "execution_count": 24,
      "outputs": [
        {
          "output_type": "execute_result",
          "data": {
            "text/plain": [
              "Operation_Channel_Group           \n",
              "Counter                  MISTER       31512\n",
              "                         MISS         20004\n",
              "                         MISSES        5053\n",
              "                         DOCTOR          22\n",
              "                         PROFFESOR        6\n",
              "                         ?                0\n",
              "Kiosks                   MISTER        4260\n",
              "                         MISS          2087\n",
              "                         MISSES         502\n",
              "                         DOCTOR           2\n",
              "                         PROFFESOR        0\n",
              "                         ?                0\n",
              "Mobile                   MISTER       13275\n",
              "                         MISS          9310\n",
              "                         MISSES        2116\n",
              "                         DOCTOR           6\n",
              "                         PROFFESOR        0\n",
              "                         ?                0\n",
              "Online                   MISTER       14972\n",
              "                         MISS         11525\n",
              "                         MISSES        2535\n",
              "                         DOCTOR          11\n",
              "                         PROFFESOR        1\n",
              "                         ?                0\n",
              "Other                    MISTER         724\n",
              "                         MISS           626\n",
              "                         MISSES           5\n",
              "                         PROFFESOR        0\n",
              "                         DOCTOR           0\n",
              "                         ?                0\n",
              "Name: Passenger_Title, dtype: int64"
            ]
          },
          "metadata": {
            "tags": []
          },
          "execution_count": 24
        }
      ]
    },
    {
      "cell_type": "code",
      "metadata": {
        "colab_type": "code",
        "id": "ZN7ATCdElSgI",
        "outputId": "2f6b4930-1dfd-4966-9e52-3b4f5c9129d7",
        "colab": {
          "base_uri": "https://localhost:8080/",
          "height": 51
        }
      },
      "source": [
        "train_df['Passenger_Title'] = train_df['Passenger_Title'].replace(np.nan, \"MISTER\")\n",
        "train_df['Passenger_Title'].unique()"
      ],
      "execution_count": 25,
      "outputs": [
        {
          "output_type": "execute_result",
          "data": {
            "text/plain": [
              "[MISTER, MISS, MISSES, DOCTOR, PROFFESOR]\n",
              "Categories (5, object): [MISTER, MISS, MISSES, DOCTOR, PROFFESOR]"
            ]
          },
          "metadata": {
            "tags": []
          },
          "execution_count": 25
        }
      ]
    },
    {
      "cell_type": "code",
      "metadata": {
        "colab_type": "code",
        "id": "ZbPfQGIulcFK",
        "outputId": "b7013fda-b5af-4d69-884d-a8f2e490b520",
        "colab": {
          "base_uri": "https://localhost:8080/",
          "height": 51
        }
      },
      "source": [
        "result_df['Passenger_Title'] = result_df['Passenger_Title'].replace(np.nan, \"MISTER\")\n",
        "result_df['Passenger_Title'].unique()"
      ],
      "execution_count": 26,
      "outputs": [
        {
          "output_type": "execute_result",
          "data": {
            "text/plain": [
              "[MISS, MISTER, MISSES, DOCTOR, PROFFESOR]\n",
              "Categories (5, object): [MISS, MISTER, MISSES, DOCTOR, PROFFESOR]"
            ]
          },
          "metadata": {
            "tags": []
          },
          "execution_count": 26
        }
      ]
    },
    {
      "cell_type": "markdown",
      "metadata": {
        "colab_type": "text",
        "id": "cwp0gNe6oc0D"
      },
      "source": [
        "#### Imputing Cabin Class\n",
        "Most common class is economy class for all channel groups so we imputed missing values with it."
      ]
    },
    {
      "cell_type": "code",
      "metadata": {
        "colab_type": "code",
        "id": "IVFNYI92qPs9",
        "outputId": "45f1ea44-681d-4282-cb68-d0e2e52308f1",
        "colab": {
          "base_uri": "https://localhost:8080/",
          "height": 306
        }
      },
      "source": [
        "train_df.groupby(\"Operation_Channel_Group\")['Cabin_Class'].apply(lambda x: x.value_counts())"
      ],
      "execution_count": 27,
      "outputs": [
        {
          "output_type": "execute_result",
          "data": {
            "text/plain": [
              "Operation_Channel_Group   \n",
              "Counter                  Y    359878\n",
              "                         C     24154\n",
              "                         ?         0\n",
              "Kiosks                   Y     40963\n",
              "                         C       784\n",
              "                         ?         0\n",
              "Mobile                   Y    141832\n",
              "                         C     10066\n",
              "                         ?         0\n",
              "Online                   Y    177436\n",
              "                         C      8563\n",
              "                         ?         0\n",
              "Other                    Y     15258\n",
              "                         C      2191\n",
              "                         ?         0\n",
              "Name: Cabin_Class, dtype: int64"
            ]
          },
          "metadata": {
            "tags": []
          },
          "execution_count": 27
        }
      ]
    },
    {
      "cell_type": "code",
      "metadata": {
        "colab_type": "code",
        "id": "UxmTIOb9pm_V",
        "outputId": "5255718a-3e8c-42e5-e1c4-70843a463b9b",
        "colab": {
          "base_uri": "https://localhost:8080/",
          "height": 221
        }
      },
      "source": [
        "result_df.groupby(\"Operation_Channel_Group\")['Cabin_Class'].apply(lambda x: x.value_counts())"
      ],
      "execution_count": 28,
      "outputs": [
        {
          "output_type": "execute_result",
          "data": {
            "text/plain": [
              "Operation_Channel_Group   \n",
              "Counter                  Y    55315\n",
              "                         C     3506\n",
              "Kiosks                   Y     6964\n",
              "                         C      136\n",
              "Mobile                   Y    23169\n",
              "                         C     1912\n",
              "Online                   Y    28342\n",
              "                         C     1165\n",
              "Other                    Y     1029\n",
              "                         C      383\n",
              "Name: Cabin_Class, dtype: int64"
            ]
          },
          "metadata": {
            "tags": []
          },
          "execution_count": 28
        }
      ]
    },
    {
      "cell_type": "code",
      "metadata": {
        "colab_type": "code",
        "id": "-vksq8jTwPMG",
        "outputId": "936b3b91-557d-4987-b81e-f02c8010af13",
        "colab": {
          "base_uri": "https://localhost:8080/",
          "height": 51
        }
      },
      "source": [
        "train_df['Cabin_Class'] = train_df['Cabin_Class'].replace(np.nan, \"Y\")\n",
        "train_df['Cabin_Class'].unique()"
      ],
      "execution_count": 29,
      "outputs": [
        {
          "output_type": "execute_result",
          "data": {
            "text/plain": [
              "[Y, C]\n",
              "Categories (2, object): [Y, C]"
            ]
          },
          "metadata": {
            "tags": []
          },
          "execution_count": 29
        }
      ]
    },
    {
      "cell_type": "code",
      "metadata": {
        "colab_type": "code",
        "id": "4YTu787QwPBr",
        "outputId": "fc5e6bdc-8f9e-4c69-963a-d7e3ef3d8c58",
        "colab": {
          "base_uri": "https://localhost:8080/",
          "height": 51
        }
      },
      "source": [
        "result_df['Cabin_Class'] = result_df['Cabin_Class'].replace(np.nan, \"Y\")\n",
        "result_df['Cabin_Class'].unique()"
      ],
      "execution_count": 30,
      "outputs": [
        {
          "output_type": "execute_result",
          "data": {
            "text/plain": [
              "[Y, C]\n",
              "Categories (2, object): [Y, C]"
            ]
          },
          "metadata": {
            "tags": []
          },
          "execution_count": 30
        }
      ]
    },
    {
      "cell_type": "markdown",
      "metadata": {
        "colab_type": "text",
        "id": "l5Ym3TE5xX2y"
      },
      "source": [
        "#### Imputing Operation Initials\n",
        "\n",
        "The most frequent *Operation Initials* observed in different channel groups for the training and the test set are given below."
      ]
    },
    {
      "cell_type": "code",
      "metadata": {
        "colab_type": "code",
        "id": "Pnvv-Qavxfje",
        "outputId": "cc89dabf-8df6-4608-e880-b3d785ece66a",
        "colab": {
          "base_uri": "https://localhost:8080/",
          "height": 136
        }
      },
      "source": [
        "train_df.groupby(\"Operation_Channel_Group\")['Operation_Initials'].apply(lambda x: x.value_counts().index[0])"
      ],
      "execution_count": 31,
      "outputs": [
        {
          "output_type": "execute_result",
          "data": {
            "text/plain": [
              "Operation_Channel_Group\n",
              "Counter    KS\n",
              "Kiosks     SC\n",
              "Mobile     MK\n",
              "Online     MK\n",
              "Other      MK\n",
              "Name: Operation_Initials, dtype: object"
            ]
          },
          "metadata": {
            "tags": []
          },
          "execution_count": 31
        }
      ]
    },
    {
      "cell_type": "code",
      "metadata": {
        "colab_type": "code",
        "id": "gzCXzTUvALKC",
        "outputId": "431f10c4-95e5-4b59-c0a1-76d2fe8e015d",
        "colab": {
          "base_uri": "https://localhost:8080/",
          "height": 136
        }
      },
      "source": [
        "result_df.groupby(\"Operation_Channel_Group\")['Operation_Initials'].apply(lambda x: x.value_counts().index[0])"
      ],
      "execution_count": 32,
      "outputs": [
        {
          "output_type": "execute_result",
          "data": {
            "text/plain": [
              "Operation_Channel_Group\n",
              "Counter    KS\n",
              "Kiosks     KS\n",
              "Mobile     KS\n",
              "Online     KS\n",
              "Other      KS\n",
              "Name: Operation_Initials, dtype: object"
            ]
          },
          "metadata": {
            "tags": []
          },
          "execution_count": 32
        }
      ]
    },
    {
      "cell_type": "markdown",
      "metadata": {
        "colab_type": "text",
        "id": "ibhXNfsaAUFu"
      },
      "source": [
        "The most frequent initials observed in each channel group is \"KS\" for test set so we replaced NA values with it."
      ]
    },
    {
      "cell_type": "code",
      "metadata": {
        "colab_type": "code",
        "id": "4NApKi8rAkix",
        "outputId": "80f79512-de5d-4bd3-9f23-de0a5ea3b932",
        "colab": {
          "base_uri": "https://localhost:8080/",
          "height": 68
        }
      },
      "source": [
        "result_df['Operation_Initials'] = result_df['Operation_Initials'].replace(np.nan, \"KS\")\n",
        "result_df['Operation_Initials'].unique()"
      ],
      "execution_count": 33,
      "outputs": [
        {
          "output_type": "execute_result",
          "data": {
            "text/plain": [
              "[KS, MK, SC, EY, Q7, ..., SA, O3, VO, ZF, AX]\n",
              "Length: 123\n",
              "Categories (123, object): [KS, MK, SC, EY, ..., O3, VO, ZF, AX]"
            ]
          },
          "metadata": {
            "tags": []
          },
          "execution_count": 33
        }
      ]
    },
    {
      "cell_type": "markdown",
      "metadata": {
        "colab_type": "text",
        "id": "TPZqMS_BAx-Y"
      },
      "source": [
        "However, we need to impute missing values differently for different channels for the training set."
      ]
    },
    {
      "cell_type": "code",
      "metadata": {
        "colab_type": "code",
        "id": "mCV4rYaB5DcD",
        "colab": {}
      },
      "source": [
        "train_df.loc[(train_df.Operation_Channel_Group == \"Counter\") & (train_df.Operation_Initials.isna()),\"Operation_Initials\"] = \"KS\"\n",
        "train_df.loc[(train_df.Operation_Channel_Group == \"Kiosks\") & (train_df.Operation_Initials.isna()),\"Operation_Initials\"] = \"SC\"\n",
        "train_df.loc[(train_df.Operation_Channel_Group != \"Kiosks\") & (train_df.Operation_Channel_Group != \"Counter\") & (train_df.Operation_Initials.isna()),\"Operation_Initials\"] = \"MK\""
      ],
      "execution_count": 0,
      "outputs": []
    },
    {
      "cell_type": "markdown",
      "metadata": {
        "colab_type": "text",
        "id": "vb0dM8WjcpJh"
      },
      "source": [
        "## Feature Generation"
      ]
    },
    {
      "cell_type": "markdown",
      "metadata": {
        "colab_type": "text",
        "id": "PUD2-XzlMggF"
      },
      "source": [
        "### Early Check-in\n",
        "\n",
        "We generate another variable to see if people checked in on-time or not. The date is given as days, so how many days there are between the flight and the check-in is added as a variable."
      ]
    },
    {
      "cell_type": "code",
      "metadata": {
        "colab_type": "code",
        "id": "oqeDf5HEMuP1",
        "outputId": "433cf2dc-9978-481c-d61a-207c5eb278d6",
        "colab": {
          "base_uri": "https://localhost:8080/",
          "height": 272
        }
      },
      "source": [
        "train_df['Early_Check_In'] = (train_df.Departure_YMD_LMT - train_df.Operation_YMD_LMT)\n",
        "train_df['Early_Check_In'] = (train_df['Early_Check_In']/86400000000000).astype(int)\n",
        "train_df['Early_Check_In'].unique()"
      ],
      "execution_count": 35,
      "outputs": [
        {
          "output_type": "execute_result",
          "data": {
            "text/plain": [
              "array([   0,    1,    2, 7033,    3,   -1, 7391, 7366, 7367, 7010, 7072,\n",
              "       7037, 7092, 7105, 7057, 7418, 7426, 7388, 7440, 7008, 7443, 7405,\n",
              "       7002, 7016, 7415, 7384, 7100, 7455, 7386, 7067, 7378, 7101, 7398,\n",
              "       7000, 7036, 7431, 7396, 7012, 7454, 7441, 7098, 7371, 7420, 7089,\n",
              "       7438, 7390, 7028, 7108, 7372, 7047, 7422, 7379, 7096, 7409, 7404,\n",
              "       7374, 7004, 7013, 7410, 7020, 7088, 7083, 7056, 7102, 7024, 7370,\n",
              "       7095, 7110, 7051, 7049, 7109, 7421, 7414, 7063, 7452, 7376, 7424,\n",
              "       7034, 7039, 7429, 6999, 7394, 7040, 7041, 7077, 7053, 7411, 7086,\n",
              "       7419, 7406, 7369, 7006, 7045, 7385, 7023, 7019, 7069, 7081, 7044,\n",
              "       7423, 7011, 7437, 7058, 7005, 7087, 7115, 7070, 7027, 7368, 7381,\n",
              "       7425, 7074, 7389, 7025, 7054, 7076, 7380, 7106, 7432, 7449, 7387,\n",
              "       7445, 7022, 7413, 7382, 7401, 7062, 7075, 7048, 7393, 7090, 7392,\n",
              "       7094, 7377, 7364, 7065, 7375, 7453, 7107, 7018, 7064, 7383, 7055,\n",
              "       7046, 7038, 7031, 7365, 7042, 7442, 7026, 7417, 7116, 7084, 7017,\n",
              "       7014, 7097, 7451])"
            ]
          },
          "metadata": {
            "tags": []
          },
          "execution_count": 35
        }
      ]
    },
    {
      "cell_type": "markdown",
      "metadata": {
        "colab_type": "text",
        "id": "2dtlQ7QNNq3b"
      },
      "source": [
        "There are some peculiar cases where check-in made 7000 days before in 1999!"
      ]
    },
    {
      "cell_type": "code",
      "metadata": {
        "colab_type": "code",
        "id": "sdapddLzOHO7",
        "outputId": "0d03685f-023e-4854-8f3e-180eb5f6fb81",
        "colab": {
          "base_uri": "https://localhost:8080/",
          "height": 1000
        }
      },
      "source": [
        "train_df[train_df['Early_Check_In']>100].sort_values('Operation_YMD_LMT')"
      ],
      "execution_count": 36,
      "outputs": [
        {
          "output_type": "execute_result",
          "data": {
            "text/html": [
              "<div>\n",
              "<style scoped>\n",
              "    .dataframe tbody tr th:only-of-type {\n",
              "        vertical-align: middle;\n",
              "    }\n",
              "\n",
              "    .dataframe tbody tr th {\n",
              "        vertical-align: top;\n",
              "    }\n",
              "\n",
              "    .dataframe thead th {\n",
              "        text-align: right;\n",
              "    }\n",
              "</style>\n",
              "<table border=\"1\" class=\"dataframe\">\n",
              "  <thead>\n",
              "    <tr style=\"text-align: right;\">\n",
              "      <th></th>\n",
              "      <th>Departure_YMD_LMT</th>\n",
              "      <th>Operation_YMD_LMT</th>\n",
              "      <th>Operation_Airport</th>\n",
              "      <th>Terminal_Name</th>\n",
              "      <th>Operation_Initials</th>\n",
              "      <th>Operation_Channel</th>\n",
              "      <th>Passenger_Title</th>\n",
              "      <th>Passenger_Gender</th>\n",
              "      <th>Inbound_Departure_Airport</th>\n",
              "      <th>Outbound_Arrival_Airport</th>\n",
              "      <th>SWC_FLY</th>\n",
              "      <th>Cabin_Class</th>\n",
              "      <th>SWC_FQTV_Member</th>\n",
              "      <th>Passenger_Baggage_Count</th>\n",
              "      <th>Passenger_Baggage_Weight</th>\n",
              "      <th>SWC_Staff</th>\n",
              "      <th>SWC_CIP_Passenger</th>\n",
              "      <th>SWC_VIP_Passenger</th>\n",
              "      <th>SWC_Has_Infant</th>\n",
              "      <th>Operation_Count</th>\n",
              "      <th>Operation_Channel_Group</th>\n",
              "      <th>Operation_Sonic_Code_Flag</th>\n",
              "      <th>Terminal_Number_Flag</th>\n",
              "      <th>Early_Check_In</th>\n",
              "    </tr>\n",
              "  </thead>\n",
              "  <tbody>\n",
              "    <tr>\n",
              "      <th>469</th>\n",
              "      <td>2018-04-04</td>\n",
              "      <td>1999-01-01</td>\n",
              "      <td>TJV</td>\n",
              "      <td>03F9C5</td>\n",
              "      <td>KS</td>\n",
              "      <td>QC</td>\n",
              "      <td>MISTER</td>\n",
              "      <td>M</td>\n",
              "      <td>EST</td>\n",
              "      <td>Unknown</td>\n",
              "      <td>1</td>\n",
              "      <td>Y</td>\n",
              "      <td>1</td>\n",
              "      <td>0</td>\n",
              "      <td>0</td>\n",
              "      <td>0</td>\n",
              "      <td>0</td>\n",
              "      <td>0</td>\n",
              "      <td>0</td>\n",
              "      <td>2</td>\n",
              "      <td>Counter</td>\n",
              "      <td>0</td>\n",
              "      <td>0</td>\n",
              "      <td>7033</td>\n",
              "    </tr>\n",
              "    <tr>\n",
              "      <th>555391</th>\n",
              "      <td>2019-04-21</td>\n",
              "      <td>1999-01-01</td>\n",
              "      <td>JED</td>\n",
              "      <td>096D33</td>\n",
              "      <td>AJ</td>\n",
              "      <td>TY</td>\n",
              "      <td>MISSES</td>\n",
              "      <td>F</td>\n",
              "      <td>JED</td>\n",
              "      <td>Unknown</td>\n",
              "      <td>1</td>\n",
              "      <td>Y</td>\n",
              "      <td>0</td>\n",
              "      <td>1</td>\n",
              "      <td>10</td>\n",
              "      <td>0</td>\n",
              "      <td>0</td>\n",
              "      <td>0</td>\n",
              "      <td>0</td>\n",
              "      <td>1</td>\n",
              "      <td>Counter</td>\n",
              "      <td>0</td>\n",
              "      <td>0</td>\n",
              "      <td>7415</td>\n",
              "    </tr>\n",
              "    <tr>\n",
              "      <th>553128</th>\n",
              "      <td>2019-04-16</td>\n",
              "      <td>1999-01-01</td>\n",
              "      <td>JED</td>\n",
              "      <td>095C12</td>\n",
              "      <td>AZ</td>\n",
              "      <td>TY</td>\n",
              "      <td>MISTER</td>\n",
              "      <td>M</td>\n",
              "      <td>JED</td>\n",
              "      <td>Unknown</td>\n",
              "      <td>1</td>\n",
              "      <td>Y</td>\n",
              "      <td>1</td>\n",
              "      <td>3</td>\n",
              "      <td>35</td>\n",
              "      <td>0</td>\n",
              "      <td>1</td>\n",
              "      <td>0</td>\n",
              "      <td>0</td>\n",
              "      <td>1</td>\n",
              "      <td>Counter</td>\n",
              "      <td>0</td>\n",
              "      <td>0</td>\n",
              "      <td>7410</td>\n",
              "    </tr>\n",
              "    <tr>\n",
              "      <th>551608</th>\n",
              "      <td>2019-03-17</td>\n",
              "      <td>1999-01-01</td>\n",
              "      <td>ISL</td>\n",
              "      <td>03293A</td>\n",
              "      <td>KS</td>\n",
              "      <td>QC</td>\n",
              "      <td>MISTER</td>\n",
              "      <td>M</td>\n",
              "      <td>Unknown</td>\n",
              "      <td>Unknown</td>\n",
              "      <td>1</td>\n",
              "      <td>Y</td>\n",
              "      <td>0</td>\n",
              "      <td>2</td>\n",
              "      <td>28</td>\n",
              "      <td>0</td>\n",
              "      <td>0</td>\n",
              "      <td>0</td>\n",
              "      <td>0</td>\n",
              "      <td>1</td>\n",
              "      <td>Counter</td>\n",
              "      <td>1</td>\n",
              "      <td>0</td>\n",
              "      <td>7380</td>\n",
              "    </tr>\n",
              "    <tr>\n",
              "      <th>551287</th>\n",
              "      <td>2019-03-14</td>\n",
              "      <td>1999-01-01</td>\n",
              "      <td>ISL</td>\n",
              "      <td>035443</td>\n",
              "      <td>MK</td>\n",
              "      <td>TS</td>\n",
              "      <td>MISTER</td>\n",
              "      <td>M</td>\n",
              "      <td>Unknown</td>\n",
              "      <td>Unknown</td>\n",
              "      <td>1</td>\n",
              "      <td>Y</td>\n",
              "      <td>0</td>\n",
              "      <td>0</td>\n",
              "      <td>0</td>\n",
              "      <td>0</td>\n",
              "      <td>0</td>\n",
              "      <td>0</td>\n",
              "      <td>0</td>\n",
              "      <td>1</td>\n",
              "      <td>Mobile</td>\n",
              "      <td>0</td>\n",
              "      <td>0</td>\n",
              "      <td>7377</td>\n",
              "    </tr>\n",
              "    <tr>\n",
              "      <th>550406</th>\n",
              "      <td>2018-03-29</td>\n",
              "      <td>1999-01-01</td>\n",
              "      <td>TJV</td>\n",
              "      <td>0B3F66</td>\n",
              "      <td>KS</td>\n",
              "      <td>TY</td>\n",
              "      <td>MISS</td>\n",
              "      <td>F</td>\n",
              "      <td>Unknown</td>\n",
              "      <td>Unknown</td>\n",
              "      <td>1</td>\n",
              "      <td>Y</td>\n",
              "      <td>0</td>\n",
              "      <td>1</td>\n",
              "      <td>13</td>\n",
              "      <td>1</td>\n",
              "      <td>0</td>\n",
              "      <td>0</td>\n",
              "      <td>0</td>\n",
              "      <td>1</td>\n",
              "      <td>Counter</td>\n",
              "      <td>0</td>\n",
              "      <td>0</td>\n",
              "      <td>7027</td>\n",
              "    </tr>\n",
              "    <tr>\n",
              "      <th>549936</th>\n",
              "      <td>2019-05-31</td>\n",
              "      <td>1999-01-01</td>\n",
              "      <td>KWI</td>\n",
              "      <td>03237P</td>\n",
              "      <td>LK</td>\n",
              "      <td>QC</td>\n",
              "      <td>MISS</td>\n",
              "      <td>F</td>\n",
              "      <td>KWI</td>\n",
              "      <td>Unknown</td>\n",
              "      <td>1</td>\n",
              "      <td>Y</td>\n",
              "      <td>0</td>\n",
              "      <td>0</td>\n",
              "      <td>0</td>\n",
              "      <td>0</td>\n",
              "      <td>0</td>\n",
              "      <td>0</td>\n",
              "      <td>0</td>\n",
              "      <td>2</td>\n",
              "      <td>Counter</td>\n",
              "      <td>0</td>\n",
              "      <td>0</td>\n",
              "      <td>7455</td>\n",
              "    </tr>\n",
              "    <tr>\n",
              "      <th>547407</th>\n",
              "      <td>2018-06-04</td>\n",
              "      <td>1999-01-01</td>\n",
              "      <td>VKO</td>\n",
              "      <td>03543P</td>\n",
              "      <td>MK</td>\n",
              "      <td>TS</td>\n",
              "      <td>MISTER</td>\n",
              "      <td>M</td>\n",
              "      <td>EST</td>\n",
              "      <td>Unknown</td>\n",
              "      <td>1</td>\n",
              "      <td>Y</td>\n",
              "      <td>1</td>\n",
              "      <td>1</td>\n",
              "      <td>8</td>\n",
              "      <td>0</td>\n",
              "      <td>0</td>\n",
              "      <td>0</td>\n",
              "      <td>0</td>\n",
              "      <td>1</td>\n",
              "      <td>Mobile</td>\n",
              "      <td>0</td>\n",
              "      <td>0</td>\n",
              "      <td>7094</td>\n",
              "    </tr>\n",
              "    <tr>\n",
              "      <th>543253</th>\n",
              "      <td>2019-04-10</td>\n",
              "      <td>1999-01-01</td>\n",
              "      <td>TJV</td>\n",
              "      <td>03F901</td>\n",
              "      <td>KS</td>\n",
              "      <td>QC</td>\n",
              "      <td>MISTER</td>\n",
              "      <td>M</td>\n",
              "      <td>Unknown</td>\n",
              "      <td>NKV</td>\n",
              "      <td>1</td>\n",
              "      <td>Y</td>\n",
              "      <td>0</td>\n",
              "      <td>1</td>\n",
              "      <td>7</td>\n",
              "      <td>0</td>\n",
              "      <td>0</td>\n",
              "      <td>0</td>\n",
              "      <td>0</td>\n",
              "      <td>1</td>\n",
              "      <td>Counter</td>\n",
              "      <td>1</td>\n",
              "      <td>1</td>\n",
              "      <td>7404</td>\n",
              "    </tr>\n",
              "    <tr>\n",
              "      <th>541138</th>\n",
              "      <td>2018-03-12</td>\n",
              "      <td>1999-01-01</td>\n",
              "      <td>TTS</td>\n",
              "      <td>03294D</td>\n",
              "      <td>NU</td>\n",
              "      <td>QC</td>\n",
              "      <td>MISTER</td>\n",
              "      <td>M</td>\n",
              "      <td>IST</td>\n",
              "      <td>KSY</td>\n",
              "      <td>0</td>\n",
              "      <td>Y</td>\n",
              "      <td>0</td>\n",
              "      <td>0</td>\n",
              "      <td>0</td>\n",
              "      <td>0</td>\n",
              "      <td>0</td>\n",
              "      <td>0</td>\n",
              "      <td>0</td>\n",
              "      <td>1</td>\n",
              "      <td>Counter</td>\n",
              "      <td>0</td>\n",
              "      <td>1</td>\n",
              "      <td>7010</td>\n",
              "    </tr>\n",
              "    <tr>\n",
              "      <th>536708</th>\n",
              "      <td>2018-03-18</td>\n",
              "      <td>1999-01-01</td>\n",
              "      <td>MED</td>\n",
              "      <td>0329PC</td>\n",
              "      <td>WA</td>\n",
              "      <td>QC</td>\n",
              "      <td>MISTER</td>\n",
              "      <td>M</td>\n",
              "      <td>MED</td>\n",
              "      <td>Unknown</td>\n",
              "      <td>1</td>\n",
              "      <td>Y</td>\n",
              "      <td>0</td>\n",
              "      <td>0</td>\n",
              "      <td>0</td>\n",
              "      <td>0</td>\n",
              "      <td>0</td>\n",
              "      <td>0</td>\n",
              "      <td>0</td>\n",
              "      <td>1</td>\n",
              "      <td>Counter</td>\n",
              "      <td>0</td>\n",
              "      <td>0</td>\n",
              "      <td>7016</td>\n",
              "    </tr>\n",
              "    <tr>\n",
              "      <th>535795</th>\n",
              "      <td>2018-03-15</td>\n",
              "      <td>1999-01-01</td>\n",
              "      <td>OGU</td>\n",
              "      <td>0323B2</td>\n",
              "      <td>HV</td>\n",
              "      <td>QC</td>\n",
              "      <td>MISTER</td>\n",
              "      <td>M</td>\n",
              "      <td>EST</td>\n",
              "      <td>OGU</td>\n",
              "      <td>1</td>\n",
              "      <td>Y</td>\n",
              "      <td>1</td>\n",
              "      <td>0</td>\n",
              "      <td>0</td>\n",
              "      <td>0</td>\n",
              "      <td>0</td>\n",
              "      <td>0</td>\n",
              "      <td>0</td>\n",
              "      <td>1</td>\n",
              "      <td>Counter</td>\n",
              "      <td>1</td>\n",
              "      <td>1</td>\n",
              "      <td>7013</td>\n",
              "    </tr>\n",
              "    <tr>\n",
              "      <th>533869</th>\n",
              "      <td>2019-03-29</td>\n",
              "      <td>1999-01-01</td>\n",
              "      <td>ISL</td>\n",
              "      <td>032962</td>\n",
              "      <td>KS</td>\n",
              "      <td>QC</td>\n",
              "      <td>MISTER</td>\n",
              "      <td>M</td>\n",
              "      <td>Unknown</td>\n",
              "      <td>Unknown</td>\n",
              "      <td>1</td>\n",
              "      <td>Y</td>\n",
              "      <td>0</td>\n",
              "      <td>1</td>\n",
              "      <td>16</td>\n",
              "      <td>0</td>\n",
              "      <td>0</td>\n",
              "      <td>0</td>\n",
              "      <td>0</td>\n",
              "      <td>1</td>\n",
              "      <td>Counter</td>\n",
              "      <td>1</td>\n",
              "      <td>0</td>\n",
              "      <td>7392</td>\n",
              "    </tr>\n",
              "    <tr>\n",
              "      <th>531810</th>\n",
              "      <td>2018-03-21</td>\n",
              "      <td>1999-01-01</td>\n",
              "      <td>DUS</td>\n",
              "      <td>03F95A</td>\n",
              "      <td>JM</td>\n",
              "      <td>QC</td>\n",
              "      <td>MISTER</td>\n",
              "      <td>M</td>\n",
              "      <td>IST</td>\n",
              "      <td>DUS</td>\n",
              "      <td>1</td>\n",
              "      <td>Y</td>\n",
              "      <td>0</td>\n",
              "      <td>0</td>\n",
              "      <td>0</td>\n",
              "      <td>0</td>\n",
              "      <td>0</td>\n",
              "      <td>0</td>\n",
              "      <td>0</td>\n",
              "      <td>1</td>\n",
              "      <td>Counter</td>\n",
              "      <td>0</td>\n",
              "      <td>0</td>\n",
              "      <td>7019</td>\n",
              "    </tr>\n",
              "    <tr>\n",
              "      <th>530144</th>\n",
              "      <td>2019-04-15</td>\n",
              "      <td>1999-01-01</td>\n",
              "      <td>VIE</td>\n",
              "      <td>0302F3</td>\n",
              "      <td>MK</td>\n",
              "      <td>TW</td>\n",
              "      <td>MISTER</td>\n",
              "      <td>M</td>\n",
              "      <td>SKW</td>\n",
              "      <td>GVK</td>\n",
              "      <td>1</td>\n",
              "      <td>Y</td>\n",
              "      <td>0</td>\n",
              "      <td>0</td>\n",
              "      <td>0</td>\n",
              "      <td>0</td>\n",
              "      <td>0</td>\n",
              "      <td>0</td>\n",
              "      <td>0</td>\n",
              "      <td>1</td>\n",
              "      <td>Online</td>\n",
              "      <td>0</td>\n",
              "      <td>0</td>\n",
              "      <td>7409</td>\n",
              "    </tr>\n",
              "    <tr>\n",
              "      <th>528408</th>\n",
              "      <td>2019-03-24</td>\n",
              "      <td>1999-01-01</td>\n",
              "      <td>ISL</td>\n",
              "      <td>03F9AD</td>\n",
              "      <td>KS</td>\n",
              "      <td>QC</td>\n",
              "      <td>MISTER</td>\n",
              "      <td>M</td>\n",
              "      <td>SKW</td>\n",
              "      <td>Unknown</td>\n",
              "      <td>1</td>\n",
              "      <td>Y</td>\n",
              "      <td>0</td>\n",
              "      <td>0</td>\n",
              "      <td>0</td>\n",
              "      <td>0</td>\n",
              "      <td>0</td>\n",
              "      <td>0</td>\n",
              "      <td>0</td>\n",
              "      <td>1</td>\n",
              "      <td>Counter</td>\n",
              "      <td>1</td>\n",
              "      <td>0</td>\n",
              "      <td>7387</td>\n",
              "    </tr>\n",
              "    <tr>\n",
              "      <th>527719</th>\n",
              "      <td>2019-03-23</td>\n",
              "      <td>1999-01-01</td>\n",
              "      <td>JED</td>\n",
              "      <td>095C13</td>\n",
              "      <td>JS</td>\n",
              "      <td>TY</td>\n",
              "      <td>MISSES</td>\n",
              "      <td>F</td>\n",
              "      <td>JED</td>\n",
              "      <td>Unknown</td>\n",
              "      <td>1</td>\n",
              "      <td>Y</td>\n",
              "      <td>0</td>\n",
              "      <td>0</td>\n",
              "      <td>0</td>\n",
              "      <td>0</td>\n",
              "      <td>0</td>\n",
              "      <td>0</td>\n",
              "      <td>0</td>\n",
              "      <td>1</td>\n",
              "      <td>Counter</td>\n",
              "      <td>0</td>\n",
              "      <td>0</td>\n",
              "      <td>7386</td>\n",
              "    </tr>\n",
              "    <tr>\n",
              "      <th>527384</th>\n",
              "      <td>2018-06-06</td>\n",
              "      <td>1999-01-01</td>\n",
              "      <td>GVK</td>\n",
              "      <td>03F39C</td>\n",
              "      <td>KO</td>\n",
              "      <td>QC</td>\n",
              "      <td>MISTER</td>\n",
              "      <td>M</td>\n",
              "      <td>IST</td>\n",
              "      <td>Unknown</td>\n",
              "      <td>0</td>\n",
              "      <td>Y</td>\n",
              "      <td>1</td>\n",
              "      <td>0</td>\n",
              "      <td>0</td>\n",
              "      <td>0</td>\n",
              "      <td>0</td>\n",
              "      <td>0</td>\n",
              "      <td>0</td>\n",
              "      <td>1</td>\n",
              "      <td>Counter</td>\n",
              "      <td>0</td>\n",
              "      <td>1</td>\n",
              "      <td>7096</td>\n",
              "    </tr>\n",
              "    <tr>\n",
              "      <th>524905</th>\n",
              "      <td>2018-05-16</td>\n",
              "      <td>1999-01-01</td>\n",
              "      <td>DXT</td>\n",
              "      <td>000000</td>\n",
              "      <td>||</td>\n",
              "      <td>IA</td>\n",
              "      <td>MISTER</td>\n",
              "      <td>M</td>\n",
              "      <td>IST</td>\n",
              "      <td>DXT</td>\n",
              "      <td>1</td>\n",
              "      <td>Y</td>\n",
              "      <td>0</td>\n",
              "      <td>0</td>\n",
              "      <td>0</td>\n",
              "      <td>0</td>\n",
              "      <td>0</td>\n",
              "      <td>0</td>\n",
              "      <td>0</td>\n",
              "      <td>1</td>\n",
              "      <td>Other</td>\n",
              "      <td>0</td>\n",
              "      <td>0</td>\n",
              "      <td>7075</td>\n",
              "    </tr>\n",
              "    <tr>\n",
              "      <th>522922</th>\n",
              "      <td>2018-06-16</td>\n",
              "      <td>1999-01-01</td>\n",
              "      <td>NPH</td>\n",
              "      <td>0323P1</td>\n",
              "      <td>3W</td>\n",
              "      <td>QC</td>\n",
              "      <td>MISS</td>\n",
              "      <td>F</td>\n",
              "      <td>IST</td>\n",
              "      <td>Unknown</td>\n",
              "      <td>1</td>\n",
              "      <td>Y</td>\n",
              "      <td>0</td>\n",
              "      <td>1</td>\n",
              "      <td>15</td>\n",
              "      <td>0</td>\n",
              "      <td>0</td>\n",
              "      <td>0</td>\n",
              "      <td>0</td>\n",
              "      <td>1</td>\n",
              "      <td>Counter</td>\n",
              "      <td>0</td>\n",
              "      <td>0</td>\n",
              "      <td>7106</td>\n",
              "    </tr>\n",
              "    <tr>\n",
              "      <th>522899</th>\n",
              "      <td>2019-04-19</td>\n",
              "      <td>1999-01-01</td>\n",
              "      <td>OGU</td>\n",
              "      <td>032927</td>\n",
              "      <td>HV</td>\n",
              "      <td>QC</td>\n",
              "      <td>MISTER</td>\n",
              "      <td>M</td>\n",
              "      <td>IST</td>\n",
              "      <td>OGU</td>\n",
              "      <td>1</td>\n",
              "      <td>Y</td>\n",
              "      <td>0</td>\n",
              "      <td>0</td>\n",
              "      <td>0</td>\n",
              "      <td>0</td>\n",
              "      <td>0</td>\n",
              "      <td>0</td>\n",
              "      <td>0</td>\n",
              "      <td>1</td>\n",
              "      <td>Counter</td>\n",
              "      <td>1</td>\n",
              "      <td>0</td>\n",
              "      <td>7413</td>\n",
              "    </tr>\n",
              "    <tr>\n",
              "      <th>519394</th>\n",
              "      <td>2018-04-04</td>\n",
              "      <td>1999-01-01</td>\n",
              "      <td>VNE</td>\n",
              "      <td>03FD7A</td>\n",
              "      <td>FK</td>\n",
              "      <td>QC</td>\n",
              "      <td>MISTER</td>\n",
              "      <td>M</td>\n",
              "      <td>IST</td>\n",
              "      <td>GZT</td>\n",
              "      <td>1</td>\n",
              "      <td>Y</td>\n",
              "      <td>1</td>\n",
              "      <td>1</td>\n",
              "      <td>19</td>\n",
              "      <td>0</td>\n",
              "      <td>1</td>\n",
              "      <td>0</td>\n",
              "      <td>0</td>\n",
              "      <td>1</td>\n",
              "      <td>Counter</td>\n",
              "      <td>0</td>\n",
              "      <td>0</td>\n",
              "      <td>7033</td>\n",
              "    </tr>\n",
              "    <tr>\n",
              "      <th>515578</th>\n",
              "      <td>2018-05-31</td>\n",
              "      <td>1999-01-01</td>\n",
              "      <td>VKR</td>\n",
              "      <td>0302F6</td>\n",
              "      <td>MK</td>\n",
              "      <td>TW</td>\n",
              "      <td>MISTER</td>\n",
              "      <td>M</td>\n",
              "      <td>IST</td>\n",
              "      <td>Unknown</td>\n",
              "      <td>1</td>\n",
              "      <td>Y</td>\n",
              "      <td>1</td>\n",
              "      <td>1</td>\n",
              "      <td>14</td>\n",
              "      <td>0</td>\n",
              "      <td>0</td>\n",
              "      <td>0</td>\n",
              "      <td>0</td>\n",
              "      <td>1</td>\n",
              "      <td>Online</td>\n",
              "      <td>0</td>\n",
              "      <td>0</td>\n",
              "      <td>7090</td>\n",
              "    </tr>\n",
              "    <tr>\n",
              "      <th>514514</th>\n",
              "      <td>2018-03-18</td>\n",
              "      <td>1999-01-01</td>\n",
              "      <td>MED</td>\n",
              "      <td>0323FB</td>\n",
              "      <td>RM</td>\n",
              "      <td>QC</td>\n",
              "      <td>MISTER</td>\n",
              "      <td>M</td>\n",
              "      <td>MED</td>\n",
              "      <td>Unknown</td>\n",
              "      <td>1</td>\n",
              "      <td>Y</td>\n",
              "      <td>0</td>\n",
              "      <td>5</td>\n",
              "      <td>76</td>\n",
              "      <td>0</td>\n",
              "      <td>0</td>\n",
              "      <td>0</td>\n",
              "      <td>0</td>\n",
              "      <td>1</td>\n",
              "      <td>Counter</td>\n",
              "      <td>0</td>\n",
              "      <td>0</td>\n",
              "      <td>7016</td>\n",
              "    </tr>\n",
              "    <tr>\n",
              "      <th>513878</th>\n",
              "      <td>2018-03-18</td>\n",
              "      <td>1999-01-01</td>\n",
              "      <td>MED</td>\n",
              "      <td>032A04</td>\n",
              "      <td>AL</td>\n",
              "      <td>QC</td>\n",
              "      <td>MISTER</td>\n",
              "      <td>M</td>\n",
              "      <td>MED</td>\n",
              "      <td>Unknown</td>\n",
              "      <td>1</td>\n",
              "      <td>Y</td>\n",
              "      <td>0</td>\n",
              "      <td>5</td>\n",
              "      <td>71</td>\n",
              "      <td>0</td>\n",
              "      <td>0</td>\n",
              "      <td>0</td>\n",
              "      <td>0</td>\n",
              "      <td>1</td>\n",
              "      <td>Counter</td>\n",
              "      <td>0</td>\n",
              "      <td>0</td>\n",
              "      <td>7016</td>\n",
              "    </tr>\n",
              "    <tr>\n",
              "      <th>513569</th>\n",
              "      <td>2018-06-05</td>\n",
              "      <td>1999-01-01</td>\n",
              "      <td>NPH</td>\n",
              "      <td>0302F9</td>\n",
              "      <td>MK</td>\n",
              "      <td>TW</td>\n",
              "      <td>MISTER</td>\n",
              "      <td>M</td>\n",
              "      <td>IST</td>\n",
              "      <td>NPH</td>\n",
              "      <td>1</td>\n",
              "      <td>C</td>\n",
              "      <td>1</td>\n",
              "      <td>0</td>\n",
              "      <td>0</td>\n",
              "      <td>0</td>\n",
              "      <td>1</td>\n",
              "      <td>0</td>\n",
              "      <td>0</td>\n",
              "      <td>1</td>\n",
              "      <td>Online</td>\n",
              "      <td>0</td>\n",
              "      <td>0</td>\n",
              "      <td>7095</td>\n",
              "    </tr>\n",
              "    <tr>\n",
              "      <th>557084</th>\n",
              "      <td>2018-03-15</td>\n",
              "      <td>1999-01-01</td>\n",
              "      <td>OGU</td>\n",
              "      <td>0323B2</td>\n",
              "      <td>HV</td>\n",
              "      <td>QC</td>\n",
              "      <td>MISTER</td>\n",
              "      <td>M</td>\n",
              "      <td>EST</td>\n",
              "      <td>OGU</td>\n",
              "      <td>1</td>\n",
              "      <td>Y</td>\n",
              "      <td>1</td>\n",
              "      <td>1</td>\n",
              "      <td>10</td>\n",
              "      <td>0</td>\n",
              "      <td>0</td>\n",
              "      <td>0</td>\n",
              "      <td>0</td>\n",
              "      <td>1</td>\n",
              "      <td>Counter</td>\n",
              "      <td>0</td>\n",
              "      <td>0</td>\n",
              "      <td>7013</td>\n",
              "    </tr>\n",
              "    <tr>\n",
              "      <th>557351</th>\n",
              "      <td>2018-06-05</td>\n",
              "      <td>1999-01-01</td>\n",
              "      <td>KRN</td>\n",
              "      <td>0329CC</td>\n",
              "      <td>RY</td>\n",
              "      <td>QC</td>\n",
              "      <td>MISTER</td>\n",
              "      <td>M</td>\n",
              "      <td>IST</td>\n",
              "      <td>Unknown</td>\n",
              "      <td>0</td>\n",
              "      <td>Y</td>\n",
              "      <td>1</td>\n",
              "      <td>0</td>\n",
              "      <td>0</td>\n",
              "      <td>0</td>\n",
              "      <td>0</td>\n",
              "      <td>0</td>\n",
              "      <td>0</td>\n",
              "      <td>1</td>\n",
              "      <td>Counter</td>\n",
              "      <td>0</td>\n",
              "      <td>1</td>\n",
              "      <td>7095</td>\n",
              "    </tr>\n",
              "    <tr>\n",
              "      <th>563037</th>\n",
              "      <td>2019-03-17</td>\n",
              "      <td>1999-01-01</td>\n",
              "      <td>ISL</td>\n",
              "      <td>032A4A</td>\n",
              "      <td>KS</td>\n",
              "      <td>QC</td>\n",
              "      <td>MISSES</td>\n",
              "      <td>F</td>\n",
              "      <td>ISL</td>\n",
              "      <td>Unknown</td>\n",
              "      <td>0</td>\n",
              "      <td>Y</td>\n",
              "      <td>0</td>\n",
              "      <td>0</td>\n",
              "      <td>0</td>\n",
              "      <td>0</td>\n",
              "      <td>0</td>\n",
              "      <td>0</td>\n",
              "      <td>0</td>\n",
              "      <td>1</td>\n",
              "      <td>Counter</td>\n",
              "      <td>1</td>\n",
              "      <td>1</td>\n",
              "      <td>7380</td>\n",
              "    </tr>\n",
              "    <tr>\n",
              "      <th>564697</th>\n",
              "      <td>2019-04-02</td>\n",
              "      <td>1999-01-01</td>\n",
              "      <td>NDG</td>\n",
              "      <td>03FD4C</td>\n",
              "      <td>DY</td>\n",
              "      <td>QC</td>\n",
              "      <td>MISTER</td>\n",
              "      <td>M</td>\n",
              "      <td>IST</td>\n",
              "      <td>IST</td>\n",
              "      <td>1</td>\n",
              "      <td>Y</td>\n",
              "      <td>0</td>\n",
              "      <td>0</td>\n",
              "      <td>0</td>\n",
              "      <td>0</td>\n",
              "      <td>0</td>\n",
              "      <td>0</td>\n",
              "      <td>0</td>\n",
              "      <td>1</td>\n",
              "      <td>Counter</td>\n",
              "      <td>0</td>\n",
              "      <td>0</td>\n",
              "      <td>7396</td>\n",
              "    </tr>\n",
              "    <tr>\n",
              "      <th>...</th>\n",
              "      <td>...</td>\n",
              "      <td>...</td>\n",
              "      <td>...</td>\n",
              "      <td>...</td>\n",
              "      <td>...</td>\n",
              "      <td>...</td>\n",
              "      <td>...</td>\n",
              "      <td>...</td>\n",
              "      <td>...</td>\n",
              "      <td>...</td>\n",
              "      <td>...</td>\n",
              "      <td>...</td>\n",
              "      <td>...</td>\n",
              "      <td>...</td>\n",
              "      <td>...</td>\n",
              "      <td>...</td>\n",
              "      <td>...</td>\n",
              "      <td>...</td>\n",
              "      <td>...</td>\n",
              "      <td>...</td>\n",
              "      <td>...</td>\n",
              "      <td>...</td>\n",
              "      <td>...</td>\n",
              "      <td>...</td>\n",
              "    </tr>\n",
              "    <tr>\n",
              "      <th>243798</th>\n",
              "      <td>2019-05-31</td>\n",
              "      <td>1999-01-01</td>\n",
              "      <td>KWI</td>\n",
              "      <td>0323BP</td>\n",
              "      <td>LK</td>\n",
              "      <td>QC</td>\n",
              "      <td>MISTER</td>\n",
              "      <td>M</td>\n",
              "      <td>KWI</td>\n",
              "      <td>Unknown</td>\n",
              "      <td>1</td>\n",
              "      <td>Y</td>\n",
              "      <td>0</td>\n",
              "      <td>1</td>\n",
              "      <td>32</td>\n",
              "      <td>0</td>\n",
              "      <td>0</td>\n",
              "      <td>0</td>\n",
              "      <td>0</td>\n",
              "      <td>1</td>\n",
              "      <td>Counter</td>\n",
              "      <td>0</td>\n",
              "      <td>0</td>\n",
              "      <td>7455</td>\n",
              "    </tr>\n",
              "    <tr>\n",
              "      <th>248149</th>\n",
              "      <td>2018-03-22</td>\n",
              "      <td>1999-01-01</td>\n",
              "      <td>MUN</td>\n",
              "      <td>03233C</td>\n",
              "      <td>WA</td>\n",
              "      <td>QC</td>\n",
              "      <td>MISTER</td>\n",
              "      <td>M</td>\n",
              "      <td>IST</td>\n",
              "      <td>MUN</td>\n",
              "      <td>1</td>\n",
              "      <td>Y</td>\n",
              "      <td>1</td>\n",
              "      <td>0</td>\n",
              "      <td>0</td>\n",
              "      <td>0</td>\n",
              "      <td>0</td>\n",
              "      <td>0</td>\n",
              "      <td>0</td>\n",
              "      <td>2</td>\n",
              "      <td>Counter</td>\n",
              "      <td>0</td>\n",
              "      <td>0</td>\n",
              "      <td>7020</td>\n",
              "    </tr>\n",
              "    <tr>\n",
              "      <th>302115</th>\n",
              "      <td>2018-04-05</td>\n",
              "      <td>1999-01-01</td>\n",
              "      <td>MXP</td>\n",
              "      <td>0323A7</td>\n",
              "      <td>KM</td>\n",
              "      <td>QC</td>\n",
              "      <td>MISTER</td>\n",
              "      <td>M</td>\n",
              "      <td>IST</td>\n",
              "      <td>MXP</td>\n",
              "      <td>1</td>\n",
              "      <td>Y</td>\n",
              "      <td>1</td>\n",
              "      <td>0</td>\n",
              "      <td>0</td>\n",
              "      <td>0</td>\n",
              "      <td>0</td>\n",
              "      <td>0</td>\n",
              "      <td>0</td>\n",
              "      <td>1</td>\n",
              "      <td>Counter</td>\n",
              "      <td>0</td>\n",
              "      <td>0</td>\n",
              "      <td>7034</td>\n",
              "    </tr>\n",
              "    <tr>\n",
              "      <th>301086</th>\n",
              "      <td>2019-04-16</td>\n",
              "      <td>1999-01-01</td>\n",
              "      <td>JED</td>\n",
              "      <td>095513</td>\n",
              "      <td>9A</td>\n",
              "      <td>TY</td>\n",
              "      <td>MISTER</td>\n",
              "      <td>M</td>\n",
              "      <td>JED</td>\n",
              "      <td>Unknown</td>\n",
              "      <td>0</td>\n",
              "      <td>Y</td>\n",
              "      <td>1</td>\n",
              "      <td>0</td>\n",
              "      <td>0</td>\n",
              "      <td>0</td>\n",
              "      <td>0</td>\n",
              "      <td>0</td>\n",
              "      <td>0</td>\n",
              "      <td>1</td>\n",
              "      <td>Counter</td>\n",
              "      <td>0</td>\n",
              "      <td>1</td>\n",
              "      <td>7410</td>\n",
              "    </tr>\n",
              "    <tr>\n",
              "      <th>298210</th>\n",
              "      <td>2018-06-15</td>\n",
              "      <td>1999-01-01</td>\n",
              "      <td>KWI</td>\n",
              "      <td>032A23</td>\n",
              "      <td>JN</td>\n",
              "      <td>QC</td>\n",
              "      <td>MISS</td>\n",
              "      <td>F</td>\n",
              "      <td>KWI</td>\n",
              "      <td>Unknown</td>\n",
              "      <td>1</td>\n",
              "      <td>Y</td>\n",
              "      <td>0</td>\n",
              "      <td>2</td>\n",
              "      <td>26</td>\n",
              "      <td>0</td>\n",
              "      <td>0</td>\n",
              "      <td>0</td>\n",
              "      <td>0</td>\n",
              "      <td>1</td>\n",
              "      <td>Counter</td>\n",
              "      <td>0</td>\n",
              "      <td>0</td>\n",
              "      <td>7105</td>\n",
              "    </tr>\n",
              "    <tr>\n",
              "      <th>295500</th>\n",
              "      <td>2019-05-19</td>\n",
              "      <td>1999-01-01</td>\n",
              "      <td>GYD</td>\n",
              "      <td>0B129B</td>\n",
              "      <td>OS</td>\n",
              "      <td>TY</td>\n",
              "      <td>MISTER</td>\n",
              "      <td>M</td>\n",
              "      <td>Unknown</td>\n",
              "      <td>GYD</td>\n",
              "      <td>1</td>\n",
              "      <td>Y</td>\n",
              "      <td>0</td>\n",
              "      <td>1</td>\n",
              "      <td>13</td>\n",
              "      <td>0</td>\n",
              "      <td>0</td>\n",
              "      <td>0</td>\n",
              "      <td>0</td>\n",
              "      <td>1</td>\n",
              "      <td>Counter</td>\n",
              "      <td>0</td>\n",
              "      <td>0</td>\n",
              "      <td>7443</td>\n",
              "    </tr>\n",
              "    <tr>\n",
              "      <th>292299</th>\n",
              "      <td>2019-03-22</td>\n",
              "      <td>1999-01-01</td>\n",
              "      <td>OGU</td>\n",
              "      <td>03FD49</td>\n",
              "      <td>HV</td>\n",
              "      <td>QC</td>\n",
              "      <td>MISTER</td>\n",
              "      <td>M</td>\n",
              "      <td>SKW</td>\n",
              "      <td>OGU</td>\n",
              "      <td>1</td>\n",
              "      <td>Y</td>\n",
              "      <td>0</td>\n",
              "      <td>1</td>\n",
              "      <td>2</td>\n",
              "      <td>0</td>\n",
              "      <td>0</td>\n",
              "      <td>0</td>\n",
              "      <td>0</td>\n",
              "      <td>1</td>\n",
              "      <td>Counter</td>\n",
              "      <td>1</td>\n",
              "      <td>0</td>\n",
              "      <td>7385</td>\n",
              "    </tr>\n",
              "    <tr>\n",
              "      <th>284685</th>\n",
              "      <td>2019-05-31</td>\n",
              "      <td>1999-01-01</td>\n",
              "      <td>KWI</td>\n",
              "      <td>032A06</td>\n",
              "      <td>ND</td>\n",
              "      <td>QC</td>\n",
              "      <td>MISTER</td>\n",
              "      <td>M</td>\n",
              "      <td>KWI</td>\n",
              "      <td>TZX</td>\n",
              "      <td>1</td>\n",
              "      <td>Y</td>\n",
              "      <td>0</td>\n",
              "      <td>0</td>\n",
              "      <td>0</td>\n",
              "      <td>0</td>\n",
              "      <td>0</td>\n",
              "      <td>0</td>\n",
              "      <td>0</td>\n",
              "      <td>3</td>\n",
              "      <td>Counter</td>\n",
              "      <td>0</td>\n",
              "      <td>0</td>\n",
              "      <td>7455</td>\n",
              "    </tr>\n",
              "    <tr>\n",
              "      <th>283996</th>\n",
              "      <td>2018-04-11</td>\n",
              "      <td>1999-01-01</td>\n",
              "      <td>VIE</td>\n",
              "      <td>032A64</td>\n",
              "      <td>AM</td>\n",
              "      <td>QC</td>\n",
              "      <td>MISTER</td>\n",
              "      <td>M</td>\n",
              "      <td>IST</td>\n",
              "      <td>VIE</td>\n",
              "      <td>0</td>\n",
              "      <td>Y</td>\n",
              "      <td>1</td>\n",
              "      <td>0</td>\n",
              "      <td>0</td>\n",
              "      <td>0</td>\n",
              "      <td>0</td>\n",
              "      <td>0</td>\n",
              "      <td>0</td>\n",
              "      <td>1</td>\n",
              "      <td>Counter</td>\n",
              "      <td>0</td>\n",
              "      <td>1</td>\n",
              "      <td>7040</td>\n",
              "    </tr>\n",
              "    <tr>\n",
              "      <th>281868</th>\n",
              "      <td>2018-03-01</td>\n",
              "      <td>1999-01-01</td>\n",
              "      <td>OGU</td>\n",
              "      <td>035447</td>\n",
              "      <td>MK</td>\n",
              "      <td>TS</td>\n",
              "      <td>MISTER</td>\n",
              "      <td>M</td>\n",
              "      <td>EST</td>\n",
              "      <td>OGU</td>\n",
              "      <td>1</td>\n",
              "      <td>Y</td>\n",
              "      <td>0</td>\n",
              "      <td>0</td>\n",
              "      <td>0</td>\n",
              "      <td>0</td>\n",
              "      <td>0</td>\n",
              "      <td>0</td>\n",
              "      <td>0</td>\n",
              "      <td>1</td>\n",
              "      <td>Mobile</td>\n",
              "      <td>0</td>\n",
              "      <td>0</td>\n",
              "      <td>6999</td>\n",
              "    </tr>\n",
              "    <tr>\n",
              "      <th>281847</th>\n",
              "      <td>2018-04-16</td>\n",
              "      <td>1999-01-01</td>\n",
              "      <td>KUH</td>\n",
              "      <td>03023P</td>\n",
              "      <td>MK</td>\n",
              "      <td>TW</td>\n",
              "      <td>MISTER</td>\n",
              "      <td>M</td>\n",
              "      <td>IST</td>\n",
              "      <td>Unknown</td>\n",
              "      <td>0</td>\n",
              "      <td>Y</td>\n",
              "      <td>1</td>\n",
              "      <td>0</td>\n",
              "      <td>0</td>\n",
              "      <td>0</td>\n",
              "      <td>0</td>\n",
              "      <td>0</td>\n",
              "      <td>0</td>\n",
              "      <td>1</td>\n",
              "      <td>Online</td>\n",
              "      <td>0</td>\n",
              "      <td>1</td>\n",
              "      <td>7045</td>\n",
              "    </tr>\n",
              "    <tr>\n",
              "      <th>280297</th>\n",
              "      <td>2019-04-10</td>\n",
              "      <td>1999-01-01</td>\n",
              "      <td>ISL</td>\n",
              "      <td>0D0411</td>\n",
              "      <td>FC</td>\n",
              "      <td>?</td>\n",
              "      <td>MISSES</td>\n",
              "      <td>F</td>\n",
              "      <td>Unknown</td>\n",
              "      <td>Unknown</td>\n",
              "      <td>1</td>\n",
              "      <td>Y</td>\n",
              "      <td>1</td>\n",
              "      <td>0</td>\n",
              "      <td>0</td>\n",
              "      <td>0</td>\n",
              "      <td>0</td>\n",
              "      <td>0</td>\n",
              "      <td>0</td>\n",
              "      <td>1</td>\n",
              "      <td>Other</td>\n",
              "      <td>1</td>\n",
              "      <td>0</td>\n",
              "      <td>7404</td>\n",
              "    </tr>\n",
              "    <tr>\n",
              "      <th>279551</th>\n",
              "      <td>2018-03-08</td>\n",
              "      <td>1999-01-01</td>\n",
              "      <td>DUS</td>\n",
              "      <td>035443</td>\n",
              "      <td>MK</td>\n",
              "      <td>TS</td>\n",
              "      <td>MISTER</td>\n",
              "      <td>M</td>\n",
              "      <td>IST</td>\n",
              "      <td>SZF</td>\n",
              "      <td>1</td>\n",
              "      <td>Y</td>\n",
              "      <td>1</td>\n",
              "      <td>1</td>\n",
              "      <td>7</td>\n",
              "      <td>0</td>\n",
              "      <td>0</td>\n",
              "      <td>0</td>\n",
              "      <td>0</td>\n",
              "      <td>1</td>\n",
              "      <td>Mobile</td>\n",
              "      <td>0</td>\n",
              "      <td>0</td>\n",
              "      <td>7006</td>\n",
              "    </tr>\n",
              "    <tr>\n",
              "      <th>279139</th>\n",
              "      <td>2018-05-13</td>\n",
              "      <td>1999-01-01</td>\n",
              "      <td>DTV</td>\n",
              "      <td>000000</td>\n",
              "      <td>||</td>\n",
              "      <td>IA</td>\n",
              "      <td>MISTER</td>\n",
              "      <td>M</td>\n",
              "      <td>IST</td>\n",
              "      <td>DTV</td>\n",
              "      <td>1</td>\n",
              "      <td>Y</td>\n",
              "      <td>0</td>\n",
              "      <td>1</td>\n",
              "      <td>17</td>\n",
              "      <td>0</td>\n",
              "      <td>0</td>\n",
              "      <td>0</td>\n",
              "      <td>0</td>\n",
              "      <td>1</td>\n",
              "      <td>Other</td>\n",
              "      <td>0</td>\n",
              "      <td>0</td>\n",
              "      <td>7072</td>\n",
              "    </tr>\n",
              "    <tr>\n",
              "      <th>245970</th>\n",
              "      <td>2019-03-21</td>\n",
              "      <td>1999-01-01</td>\n",
              "      <td>NDG</td>\n",
              "      <td>03539P</td>\n",
              "      <td>MK</td>\n",
              "      <td>TS</td>\n",
              "      <td>MISTER</td>\n",
              "      <td>M</td>\n",
              "      <td>SKW</td>\n",
              "      <td>NDG</td>\n",
              "      <td>1</td>\n",
              "      <td>Y</td>\n",
              "      <td>0</td>\n",
              "      <td>0</td>\n",
              "      <td>0</td>\n",
              "      <td>0</td>\n",
              "      <td>0</td>\n",
              "      <td>0</td>\n",
              "      <td>0</td>\n",
              "      <td>1</td>\n",
              "      <td>Mobile</td>\n",
              "      <td>0</td>\n",
              "      <td>0</td>\n",
              "      <td>7384</td>\n",
              "    </tr>\n",
              "    <tr>\n",
              "      <th>271244</th>\n",
              "      <td>2019-03-07</td>\n",
              "      <td>1999-01-01</td>\n",
              "      <td>TJV</td>\n",
              "      <td>0B6C1P</td>\n",
              "      <td>KS</td>\n",
              "      <td>TY</td>\n",
              "      <td>MISTER</td>\n",
              "      <td>M</td>\n",
              "      <td>Unknown</td>\n",
              "      <td>Unknown</td>\n",
              "      <td>1</td>\n",
              "      <td>Y</td>\n",
              "      <td>1</td>\n",
              "      <td>1</td>\n",
              "      <td>2</td>\n",
              "      <td>0</td>\n",
              "      <td>0</td>\n",
              "      <td>0</td>\n",
              "      <td>0</td>\n",
              "      <td>1</td>\n",
              "      <td>Counter</td>\n",
              "      <td>1</td>\n",
              "      <td>0</td>\n",
              "      <td>7370</td>\n",
              "    </tr>\n",
              "    <tr>\n",
              "      <th>267573</th>\n",
              "      <td>2019-03-07</td>\n",
              "      <td>1999-01-01</td>\n",
              "      <td>VKO</td>\n",
              "      <td>03F39P</td>\n",
              "      <td>RQ</td>\n",
              "      <td>QC</td>\n",
              "      <td>MISTER</td>\n",
              "      <td>M</td>\n",
              "      <td>ISL</td>\n",
              "      <td>Unknown</td>\n",
              "      <td>1</td>\n",
              "      <td>Y</td>\n",
              "      <td>0</td>\n",
              "      <td>0</td>\n",
              "      <td>0</td>\n",
              "      <td>0</td>\n",
              "      <td>0</td>\n",
              "      <td>0</td>\n",
              "      <td>0</td>\n",
              "      <td>1</td>\n",
              "      <td>Counter</td>\n",
              "      <td>0</td>\n",
              "      <td>0</td>\n",
              "      <td>7370</td>\n",
              "    </tr>\n",
              "    <tr>\n",
              "      <th>266021</th>\n",
              "      <td>2019-03-06</td>\n",
              "      <td>1999-01-01</td>\n",
              "      <td>ISL</td>\n",
              "      <td>035443</td>\n",
              "      <td>MK</td>\n",
              "      <td>TS</td>\n",
              "      <td>MISTER</td>\n",
              "      <td>M</td>\n",
              "      <td>ISL</td>\n",
              "      <td>Unknown</td>\n",
              "      <td>1</td>\n",
              "      <td>Y</td>\n",
              "      <td>1</td>\n",
              "      <td>0</td>\n",
              "      <td>0</td>\n",
              "      <td>0</td>\n",
              "      <td>0</td>\n",
              "      <td>0</td>\n",
              "      <td>0</td>\n",
              "      <td>1</td>\n",
              "      <td>Mobile</td>\n",
              "      <td>0</td>\n",
              "      <td>0</td>\n",
              "      <td>7369</td>\n",
              "    </tr>\n",
              "    <tr>\n",
              "      <th>261604</th>\n",
              "      <td>2018-05-30</td>\n",
              "      <td>1999-01-01</td>\n",
              "      <td>TLQ</td>\n",
              "      <td>03F932</td>\n",
              "      <td>FV</td>\n",
              "      <td>QC</td>\n",
              "      <td>MISTER</td>\n",
              "      <td>M</td>\n",
              "      <td>IST</td>\n",
              "      <td>Unknown</td>\n",
              "      <td>1</td>\n",
              "      <td>Y</td>\n",
              "      <td>1</td>\n",
              "      <td>1</td>\n",
              "      <td>16</td>\n",
              "      <td>0</td>\n",
              "      <td>0</td>\n",
              "      <td>0</td>\n",
              "      <td>0</td>\n",
              "      <td>1</td>\n",
              "      <td>Counter</td>\n",
              "      <td>0</td>\n",
              "      <td>0</td>\n",
              "      <td>7089</td>\n",
              "    </tr>\n",
              "    <tr>\n",
              "      <th>261581</th>\n",
              "      <td>2019-04-12</td>\n",
              "      <td>1999-01-01</td>\n",
              "      <td>GYD</td>\n",
              "      <td>03FDP1</td>\n",
              "      <td>VY</td>\n",
              "      <td>QC</td>\n",
              "      <td>MISSES</td>\n",
              "      <td>F</td>\n",
              "      <td>IST</td>\n",
              "      <td>GYD</td>\n",
              "      <td>1</td>\n",
              "      <td>Y</td>\n",
              "      <td>0</td>\n",
              "      <td>0</td>\n",
              "      <td>0</td>\n",
              "      <td>0</td>\n",
              "      <td>0</td>\n",
              "      <td>0</td>\n",
              "      <td>0</td>\n",
              "      <td>1</td>\n",
              "      <td>Counter</td>\n",
              "      <td>0</td>\n",
              "      <td>0</td>\n",
              "      <td>7406</td>\n",
              "    </tr>\n",
              "    <tr>\n",
              "      <th>259651</th>\n",
              "      <td>2018-05-30</td>\n",
              "      <td>1999-01-01</td>\n",
              "      <td>OGU</td>\n",
              "      <td>03F39C</td>\n",
              "      <td>HV</td>\n",
              "      <td>QC</td>\n",
              "      <td>MISTER</td>\n",
              "      <td>M</td>\n",
              "      <td>SKW</td>\n",
              "      <td>OGU</td>\n",
              "      <td>1</td>\n",
              "      <td>Y</td>\n",
              "      <td>0</td>\n",
              "      <td>0</td>\n",
              "      <td>0</td>\n",
              "      <td>0</td>\n",
              "      <td>0</td>\n",
              "      <td>0</td>\n",
              "      <td>0</td>\n",
              "      <td>1</td>\n",
              "      <td>Counter</td>\n",
              "      <td>0</td>\n",
              "      <td>0</td>\n",
              "      <td>7089</td>\n",
              "    </tr>\n",
              "    <tr>\n",
              "      <th>258235</th>\n",
              "      <td>2019-03-27</td>\n",
              "      <td>1999-01-01</td>\n",
              "      <td>NDG</td>\n",
              "      <td>03523F</td>\n",
              "      <td>SC</td>\n",
              "      <td>SC</td>\n",
              "      <td>MISTER</td>\n",
              "      <td>M</td>\n",
              "      <td>IST</td>\n",
              "      <td>Unknown</td>\n",
              "      <td>1</td>\n",
              "      <td>Y</td>\n",
              "      <td>0</td>\n",
              "      <td>0</td>\n",
              "      <td>0</td>\n",
              "      <td>0</td>\n",
              "      <td>0</td>\n",
              "      <td>0</td>\n",
              "      <td>0</td>\n",
              "      <td>1</td>\n",
              "      <td>Kiosks</td>\n",
              "      <td>0</td>\n",
              "      <td>0</td>\n",
              "      <td>7390</td>\n",
              "    </tr>\n",
              "    <tr>\n",
              "      <th>257975</th>\n",
              "      <td>2018-06-19</td>\n",
              "      <td>1999-01-01</td>\n",
              "      <td>VIE</td>\n",
              "      <td>035414</td>\n",
              "      <td>MK</td>\n",
              "      <td>TS</td>\n",
              "      <td>MISTER</td>\n",
              "      <td>M</td>\n",
              "      <td>IST</td>\n",
              "      <td>IST</td>\n",
              "      <td>0</td>\n",
              "      <td>Y</td>\n",
              "      <td>1</td>\n",
              "      <td>2</td>\n",
              "      <td>13</td>\n",
              "      <td>0</td>\n",
              "      <td>0</td>\n",
              "      <td>0</td>\n",
              "      <td>0</td>\n",
              "      <td>1</td>\n",
              "      <td>Mobile</td>\n",
              "      <td>0</td>\n",
              "      <td>1</td>\n",
              "      <td>7109</td>\n",
              "    </tr>\n",
              "    <tr>\n",
              "      <th>257870</th>\n",
              "      <td>2019-03-16</td>\n",
              "      <td>1999-01-01</td>\n",
              "      <td>ISL</td>\n",
              "      <td>03523F</td>\n",
              "      <td>SC</td>\n",
              "      <td>SC</td>\n",
              "      <td>MISTER</td>\n",
              "      <td>M</td>\n",
              "      <td>ISL</td>\n",
              "      <td>Unknown</td>\n",
              "      <td>1</td>\n",
              "      <td>Y</td>\n",
              "      <td>1</td>\n",
              "      <td>0</td>\n",
              "      <td>0</td>\n",
              "      <td>0</td>\n",
              "      <td>0</td>\n",
              "      <td>0</td>\n",
              "      <td>0</td>\n",
              "      <td>1</td>\n",
              "      <td>Kiosks</td>\n",
              "      <td>0</td>\n",
              "      <td>0</td>\n",
              "      <td>7379</td>\n",
              "    </tr>\n",
              "    <tr>\n",
              "      <th>254816</th>\n",
              "      <td>2018-06-20</td>\n",
              "      <td>1999-01-01</td>\n",
              "      <td>MED</td>\n",
              "      <td>03FD3F</td>\n",
              "      <td>KA</td>\n",
              "      <td>QC</td>\n",
              "      <td>MISSES</td>\n",
              "      <td>F</td>\n",
              "      <td>MED</td>\n",
              "      <td>KDK</td>\n",
              "      <td>1</td>\n",
              "      <td>Y</td>\n",
              "      <td>0</td>\n",
              "      <td>4</td>\n",
              "      <td>55</td>\n",
              "      <td>0</td>\n",
              "      <td>0</td>\n",
              "      <td>0</td>\n",
              "      <td>0</td>\n",
              "      <td>1</td>\n",
              "      <td>Counter</td>\n",
              "      <td>0</td>\n",
              "      <td>0</td>\n",
              "      <td>7110</td>\n",
              "    </tr>\n",
              "    <tr>\n",
              "      <th>253816</th>\n",
              "      <td>2018-06-15</td>\n",
              "      <td>1999-01-01</td>\n",
              "      <td>KWI</td>\n",
              "      <td>03F3AF</td>\n",
              "      <td>AN</td>\n",
              "      <td>QC</td>\n",
              "      <td>MISS</td>\n",
              "      <td>F</td>\n",
              "      <td>KWI</td>\n",
              "      <td>TZX</td>\n",
              "      <td>1</td>\n",
              "      <td>Y</td>\n",
              "      <td>0</td>\n",
              "      <td>0</td>\n",
              "      <td>0</td>\n",
              "      <td>0</td>\n",
              "      <td>0</td>\n",
              "      <td>0</td>\n",
              "      <td>0</td>\n",
              "      <td>1</td>\n",
              "      <td>Counter</td>\n",
              "      <td>0</td>\n",
              "      <td>0</td>\n",
              "      <td>7105</td>\n",
              "    </tr>\n",
              "    <tr>\n",
              "      <th>252809</th>\n",
              "      <td>2019-03-21</td>\n",
              "      <td>1999-01-01</td>\n",
              "      <td>TJV</td>\n",
              "      <td>032931</td>\n",
              "      <td>KS</td>\n",
              "      <td>QC</td>\n",
              "      <td>MISTER</td>\n",
              "      <td>M</td>\n",
              "      <td>Unknown</td>\n",
              "      <td>TJV</td>\n",
              "      <td>1</td>\n",
              "      <td>Y</td>\n",
              "      <td>1</td>\n",
              "      <td>0</td>\n",
              "      <td>0</td>\n",
              "      <td>0</td>\n",
              "      <td>1</td>\n",
              "      <td>0</td>\n",
              "      <td>0</td>\n",
              "      <td>1</td>\n",
              "      <td>Counter</td>\n",
              "      <td>1</td>\n",
              "      <td>0</td>\n",
              "      <td>7384</td>\n",
              "    </tr>\n",
              "    <tr>\n",
              "      <th>251237</th>\n",
              "      <td>2019-04-15</td>\n",
              "      <td>1999-01-01</td>\n",
              "      <td>PRG</td>\n",
              "      <td>03FDDF</td>\n",
              "      <td>NK</td>\n",
              "      <td>QC</td>\n",
              "      <td>MISTER</td>\n",
              "      <td>M</td>\n",
              "      <td>IST</td>\n",
              "      <td>Unknown</td>\n",
              "      <td>1</td>\n",
              "      <td>Y</td>\n",
              "      <td>1</td>\n",
              "      <td>1</td>\n",
              "      <td>15</td>\n",
              "      <td>0</td>\n",
              "      <td>0</td>\n",
              "      <td>0</td>\n",
              "      <td>0</td>\n",
              "      <td>1</td>\n",
              "      <td>Counter</td>\n",
              "      <td>0</td>\n",
              "      <td>1</td>\n",
              "      <td>7409</td>\n",
              "    </tr>\n",
              "    <tr>\n",
              "      <th>269293</th>\n",
              "      <td>2018-03-26</td>\n",
              "      <td>1999-01-01</td>\n",
              "      <td>MUN</td>\n",
              "      <td>000000</td>\n",
              "      <td>||</td>\n",
              "      <td>IA</td>\n",
              "      <td>MISTER</td>\n",
              "      <td>M</td>\n",
              "      <td>MUN</td>\n",
              "      <td>IKD</td>\n",
              "      <td>1</td>\n",
              "      <td>C</td>\n",
              "      <td>0</td>\n",
              "      <td>0</td>\n",
              "      <td>0</td>\n",
              "      <td>0</td>\n",
              "      <td>0</td>\n",
              "      <td>1</td>\n",
              "      <td>0</td>\n",
              "      <td>1</td>\n",
              "      <td>Other</td>\n",
              "      <td>0</td>\n",
              "      <td>0</td>\n",
              "      <td>7024</td>\n",
              "    </tr>\n",
              "    <tr>\n",
              "      <th>808162</th>\n",
              "      <td>2018-03-10</td>\n",
              "      <td>1999-01-01</td>\n",
              "      <td>VIE</td>\n",
              "      <td>09553C</td>\n",
              "      <td>EM</td>\n",
              "      <td>TY</td>\n",
              "      <td>MISTER</td>\n",
              "      <td>M</td>\n",
              "      <td>IST</td>\n",
              "      <td>Unknown</td>\n",
              "      <td>0</td>\n",
              "      <td>Y</td>\n",
              "      <td>0</td>\n",
              "      <td>0</td>\n",
              "      <td>0</td>\n",
              "      <td>0</td>\n",
              "      <td>0</td>\n",
              "      <td>0</td>\n",
              "      <td>0</td>\n",
              "      <td>1</td>\n",
              "      <td>Counter</td>\n",
              "      <td>0</td>\n",
              "      <td>1</td>\n",
              "      <td>7008</td>\n",
              "    </tr>\n",
              "  </tbody>\n",
              "</table>\n",
              "<p>477 rows × 24 columns</p>\n",
              "</div>"
            ],
            "text/plain": [
              "       Departure_YMD_LMT  ... Early_Check_In\n",
              "469           2018-04-04  ...           7033\n",
              "555391        2019-04-21  ...           7415\n",
              "553128        2019-04-16  ...           7410\n",
              "551608        2019-03-17  ...           7380\n",
              "551287        2019-03-14  ...           7377\n",
              "550406        2018-03-29  ...           7027\n",
              "549936        2019-05-31  ...           7455\n",
              "547407        2018-06-04  ...           7094\n",
              "543253        2019-04-10  ...           7404\n",
              "541138        2018-03-12  ...           7010\n",
              "536708        2018-03-18  ...           7016\n",
              "535795        2018-03-15  ...           7013\n",
              "533869        2019-03-29  ...           7392\n",
              "531810        2018-03-21  ...           7019\n",
              "530144        2019-04-15  ...           7409\n",
              "528408        2019-03-24  ...           7387\n",
              "527719        2019-03-23  ...           7386\n",
              "527384        2018-06-06  ...           7096\n",
              "524905        2018-05-16  ...           7075\n",
              "522922        2018-06-16  ...           7106\n",
              "522899        2019-04-19  ...           7413\n",
              "519394        2018-04-04  ...           7033\n",
              "515578        2018-05-31  ...           7090\n",
              "514514        2018-03-18  ...           7016\n",
              "513878        2018-03-18  ...           7016\n",
              "513569        2018-06-05  ...           7095\n",
              "557084        2018-03-15  ...           7013\n",
              "557351        2018-06-05  ...           7095\n",
              "563037        2019-03-17  ...           7380\n",
              "564697        2019-04-02  ...           7396\n",
              "...                  ...  ...            ...\n",
              "243798        2019-05-31  ...           7455\n",
              "248149        2018-03-22  ...           7020\n",
              "302115        2018-04-05  ...           7034\n",
              "301086        2019-04-16  ...           7410\n",
              "298210        2018-06-15  ...           7105\n",
              "295500        2019-05-19  ...           7443\n",
              "292299        2019-03-22  ...           7385\n",
              "284685        2019-05-31  ...           7455\n",
              "283996        2018-04-11  ...           7040\n",
              "281868        2018-03-01  ...           6999\n",
              "281847        2018-04-16  ...           7045\n",
              "280297        2019-04-10  ...           7404\n",
              "279551        2018-03-08  ...           7006\n",
              "279139        2018-05-13  ...           7072\n",
              "245970        2019-03-21  ...           7384\n",
              "271244        2019-03-07  ...           7370\n",
              "267573        2019-03-07  ...           7370\n",
              "266021        2019-03-06  ...           7369\n",
              "261604        2018-05-30  ...           7089\n",
              "261581        2019-04-12  ...           7406\n",
              "259651        2018-05-30  ...           7089\n",
              "258235        2019-03-27  ...           7390\n",
              "257975        2018-06-19  ...           7109\n",
              "257870        2019-03-16  ...           7379\n",
              "254816        2018-06-20  ...           7110\n",
              "253816        2018-06-15  ...           7105\n",
              "252809        2019-03-21  ...           7384\n",
              "251237        2019-04-15  ...           7409\n",
              "269293        2018-03-26  ...           7024\n",
              "808162        2018-03-10  ...           7008\n",
              "\n",
              "[477 rows x 24 columns]"
            ]
          },
          "metadata": {
            "tags": []
          },
          "execution_count": 36
        }
      ]
    },
    {
      "cell_type": "markdown",
      "metadata": {
        "colab_type": "text",
        "id": "WorjhS29RZlo"
      },
      "source": [
        "We replaced the check-in day as early, on-time and peculiar."
      ]
    },
    {
      "cell_type": "code",
      "metadata": {
        "colab_type": "code",
        "id": "v_zaLveCRqjl",
        "colab": {}
      },
      "source": [
        "train_df.loc[train_df.Early_Check_In > 100, 'Early_Check_In_Status'] = 'Peculiar'\n",
        "train_df.loc[(train_df.Early_Check_In == 0) | (train_df.Early_Check_In == -1), 'Early_Check_In_Status'] = 'On-time'\n",
        "train_df.loc[(train_df.Early_Check_In == 1) | (train_df.Early_Check_In == 2) | (train_df.Early_Check_In == 3), 'Early_Check_In_Status'] = 'Early'"
      ],
      "execution_count": 0,
      "outputs": []
    },
    {
      "cell_type": "markdown",
      "metadata": {
        "colab_type": "text",
        "id": "1HYwYqwVSWbM"
      },
      "source": [
        "Do the same for the result set."
      ]
    },
    {
      "cell_type": "code",
      "metadata": {
        "colab_type": "code",
        "id": "HtHSktQbScqJ",
        "colab": {}
      },
      "source": [
        "result_df['Early_Check_In'] = (result_df.Departure_YMD_LMT - result_df.Operation_YMD_LMT)\n",
        "result_df['Early_Check_In'] = (result_df['Early_Check_In']/86400000000000).astype(int)\n",
        "result_df.loc[result_df.Early_Check_In > 100, 'Early_Check_In_Status'] = 'Peculiar'\n",
        "result_df.loc[(result_df.Early_Check_In == 0) | (result_df.Early_Check_In == -1), 'Early_Check_In_Status'] = 'On-time'\n",
        "result_df.loc[(result_df.Early_Check_In == 1) | (result_df.Early_Check_In == 2) | (result_df.Early_Check_In == 3), 'Early_Check_In_Status'] = 'Early'"
      ],
      "execution_count": 0,
      "outputs": []
    },
    {
      "cell_type": "markdown",
      "metadata": {
        "colab_type": "text",
        "id": "wtCU50W6Wf-F"
      },
      "source": [
        "The flights with no inbound and no outbound terminal are direct flights so we generated a new colum to label those flights"
      ]
    },
    {
      "cell_type": "code",
      "metadata": {
        "colab_type": "code",
        "id": "TAxU-lnlVd3d",
        "colab": {}
      },
      "source": [
        "train_df['Direct_Flight'] = np.where((train_df.Inbound_Departure_Airport == 'Unknown') & (train_df.Outbound_Arrival_Airport == 'Unknown'), 1, 0)\n",
        "result_df['Direct_Flight'] = np.where((result_df.Inbound_Departure_Airport == 'Unknown') & (result_df.Outbound_Arrival_Airport == 'Unknown'), 1, 0)"
      ],
      "execution_count": 0,
      "outputs": []
    },
    {
      "cell_type": "markdown",
      "metadata": {
        "colab_type": "text",
        "id": "XysO0DT6NlHl"
      },
      "source": [
        "### Check-in Inbound & Check-in Outbound\n",
        "\n",
        "The number of different values in Operation_Airport is very high. We think that, whether the Operation_Airport is the same airport with the Inbound_Departure_Airport or the Outbound_Arrival_Airport, is an important feature. So Checkin_Outbound and Operation_Outbound variables indicate if the check-in operation is done at either the Inbound_Departure_Airport or the Outbound_Arrival_Airport. \n",
        "\n"
      ]
    },
    {
      "cell_type": "code",
      "metadata": {
        "colab_type": "code",
        "id": "J7oJsUC-NXWF",
        "colab": {}
      },
      "source": [
        "train_df.loc[(train_df.Operation_Airport == train_df.Inbound_Departure_Airport), 'Checkin_Inbound'] = 1\n",
        "train_df['Checkin_Inbound'] = train_df['Checkin_Inbound'].replace(np.nan, 0)\n",
        "\n",
        "result_df.loc[(result_df.Operation_Airport == result_df.Inbound_Departure_Airport), 'Checkin_Inbound'] = 1\n",
        "result_df['Checkin_Inbound'] = result_df['Checkin_Inbound'].replace(np.nan, 0)\n",
        "\n",
        "\n",
        "\n",
        "train_df.loc[(train_df.Operation_Airport == train_df.Outbound_Arrival_Airport), 'Checkin_Outbound'] = 1\n",
        "train_df['Checkin_Outbound'] = train_df['Checkin_Outbound'].replace(np.nan, 0)\n",
        "\n",
        "result_df.loc[(result_df.Operation_Airport == result_df.Outbound_Arrival_Airport), 'Checkin_Outbound'] = 1\n",
        "result_df['Checkin_Outbound'] = result_df['Checkin_Outbound'].replace(np.nan, 0)\n"
      ],
      "execution_count": 0,
      "outputs": []
    },
    {
      "cell_type": "markdown",
      "metadata": {
        "colab_type": "text",
        "id": "9Aa6_RLeWzGb"
      },
      "source": [
        "### Operation Airport Reduced\n",
        "We now reduce the number of different values in Operation_Airport variable for the most frequent ones since there is a huge drop after *EST* airport."
      ]
    },
    {
      "cell_type": "code",
      "metadata": {
        "colab_type": "code",
        "id": "284WPAQnW0dw",
        "outputId": "a602c8ad-1169-4a9e-8653-27e7f299ab1a",
        "colab": {
          "base_uri": "https://localhost:8080/",
          "height": 410
        }
      },
      "source": [
        "train_df.groupby('Operation_Airport').count().sort_values('Operation_Initials', ascending=False).head(10)\n"
      ],
      "execution_count": 41,
      "outputs": [
        {
          "output_type": "execute_result",
          "data": {
            "text/html": [
              "<div>\n",
              "<style scoped>\n",
              "    .dataframe tbody tr th:only-of-type {\n",
              "        vertical-align: middle;\n",
              "    }\n",
              "\n",
              "    .dataframe tbody tr th {\n",
              "        vertical-align: top;\n",
              "    }\n",
              "\n",
              "    .dataframe thead th {\n",
              "        text-align: right;\n",
              "    }\n",
              "</style>\n",
              "<table border=\"1\" class=\"dataframe\">\n",
              "  <thead>\n",
              "    <tr style=\"text-align: right;\">\n",
              "      <th></th>\n",
              "      <th>Departure_YMD_LMT</th>\n",
              "      <th>Operation_YMD_LMT</th>\n",
              "      <th>Terminal_Name</th>\n",
              "      <th>Operation_Initials</th>\n",
              "      <th>Operation_Channel</th>\n",
              "      <th>Passenger_Title</th>\n",
              "      <th>Passenger_Gender</th>\n",
              "      <th>Inbound_Departure_Airport</th>\n",
              "      <th>Outbound_Arrival_Airport</th>\n",
              "      <th>SWC_FLY</th>\n",
              "      <th>Cabin_Class</th>\n",
              "      <th>SWC_FQTV_Member</th>\n",
              "      <th>Passenger_Baggage_Count</th>\n",
              "      <th>Passenger_Baggage_Weight</th>\n",
              "      <th>SWC_Staff</th>\n",
              "      <th>SWC_CIP_Passenger</th>\n",
              "      <th>SWC_VIP_Passenger</th>\n",
              "      <th>SWC_Has_Infant</th>\n",
              "      <th>Operation_Count</th>\n",
              "      <th>Operation_Channel_Group</th>\n",
              "      <th>Operation_Sonic_Code_Flag</th>\n",
              "      <th>Terminal_Number_Flag</th>\n",
              "      <th>Early_Check_In</th>\n",
              "      <th>Early_Check_In_Status</th>\n",
              "      <th>Direct_Flight</th>\n",
              "      <th>Checkin_Inbound</th>\n",
              "      <th>Checkin_Outbound</th>\n",
              "    </tr>\n",
              "    <tr>\n",
              "      <th>Operation_Airport</th>\n",
              "      <th></th>\n",
              "      <th></th>\n",
              "      <th></th>\n",
              "      <th></th>\n",
              "      <th></th>\n",
              "      <th></th>\n",
              "      <th></th>\n",
              "      <th></th>\n",
              "      <th></th>\n",
              "      <th></th>\n",
              "      <th></th>\n",
              "      <th></th>\n",
              "      <th></th>\n",
              "      <th></th>\n",
              "      <th></th>\n",
              "      <th></th>\n",
              "      <th></th>\n",
              "      <th></th>\n",
              "      <th></th>\n",
              "      <th></th>\n",
              "      <th></th>\n",
              "      <th></th>\n",
              "      <th></th>\n",
              "      <th></th>\n",
              "      <th></th>\n",
              "      <th></th>\n",
              "      <th></th>\n",
              "    </tr>\n",
              "  </thead>\n",
              "  <tbody>\n",
              "    <tr>\n",
              "      <th>KDT</th>\n",
              "      <td>785903</td>\n",
              "      <td>785903</td>\n",
              "      <td>785903</td>\n",
              "      <td>785903</td>\n",
              "      <td>785903</td>\n",
              "      <td>785903</td>\n",
              "      <td>785903</td>\n",
              "      <td>785903</td>\n",
              "      <td>785903</td>\n",
              "      <td>785903</td>\n",
              "      <td>785903</td>\n",
              "      <td>785903</td>\n",
              "      <td>785903</td>\n",
              "      <td>785903</td>\n",
              "      <td>785903</td>\n",
              "      <td>785903</td>\n",
              "      <td>785903</td>\n",
              "      <td>785903</td>\n",
              "      <td>785903</td>\n",
              "      <td>785903</td>\n",
              "      <td>785903</td>\n",
              "      <td>785903</td>\n",
              "      <td>785903</td>\n",
              "      <td>785903</td>\n",
              "      <td>785903</td>\n",
              "      <td>785903</td>\n",
              "      <td>785903</td>\n",
              "    </tr>\n",
              "    <tr>\n",
              "      <th>IST</th>\n",
              "      <td>10621</td>\n",
              "      <td>10621</td>\n",
              "      <td>10621</td>\n",
              "      <td>10621</td>\n",
              "      <td>10621</td>\n",
              "      <td>10621</td>\n",
              "      <td>10621</td>\n",
              "      <td>10621</td>\n",
              "      <td>10621</td>\n",
              "      <td>10621</td>\n",
              "      <td>10621</td>\n",
              "      <td>10621</td>\n",
              "      <td>10621</td>\n",
              "      <td>10621</td>\n",
              "      <td>10621</td>\n",
              "      <td>10621</td>\n",
              "      <td>10621</td>\n",
              "      <td>10621</td>\n",
              "      <td>10621</td>\n",
              "      <td>10621</td>\n",
              "      <td>10621</td>\n",
              "      <td>10621</td>\n",
              "      <td>10621</td>\n",
              "      <td>10621</td>\n",
              "      <td>10621</td>\n",
              "      <td>10621</td>\n",
              "      <td>10621</td>\n",
              "    </tr>\n",
              "    <tr>\n",
              "      <th>SKW</th>\n",
              "      <td>5647</td>\n",
              "      <td>5647</td>\n",
              "      <td>5647</td>\n",
              "      <td>5647</td>\n",
              "      <td>5647</td>\n",
              "      <td>5647</td>\n",
              "      <td>5647</td>\n",
              "      <td>5647</td>\n",
              "      <td>5647</td>\n",
              "      <td>5647</td>\n",
              "      <td>5647</td>\n",
              "      <td>5647</td>\n",
              "      <td>5647</td>\n",
              "      <td>5647</td>\n",
              "      <td>5647</td>\n",
              "      <td>5647</td>\n",
              "      <td>5647</td>\n",
              "      <td>5647</td>\n",
              "      <td>5647</td>\n",
              "      <td>5647</td>\n",
              "      <td>5647</td>\n",
              "      <td>5647</td>\n",
              "      <td>5647</td>\n",
              "      <td>5647</td>\n",
              "      <td>5647</td>\n",
              "      <td>5647</td>\n",
              "      <td>5647</td>\n",
              "    </tr>\n",
              "    <tr>\n",
              "      <th>EST</th>\n",
              "      <td>4697</td>\n",
              "      <td>4697</td>\n",
              "      <td>4697</td>\n",
              "      <td>4697</td>\n",
              "      <td>4697</td>\n",
              "      <td>4697</td>\n",
              "      <td>4697</td>\n",
              "      <td>4697</td>\n",
              "      <td>4697</td>\n",
              "      <td>4697</td>\n",
              "      <td>4697</td>\n",
              "      <td>4697</td>\n",
              "      <td>4697</td>\n",
              "      <td>4697</td>\n",
              "      <td>4697</td>\n",
              "      <td>4697</td>\n",
              "      <td>4697</td>\n",
              "      <td>4697</td>\n",
              "      <td>4697</td>\n",
              "      <td>4697</td>\n",
              "      <td>4697</td>\n",
              "      <td>4697</td>\n",
              "      <td>4697</td>\n",
              "      <td>4697</td>\n",
              "      <td>4697</td>\n",
              "      <td>4697</td>\n",
              "      <td>4697</td>\n",
              "    </tr>\n",
              "    <tr>\n",
              "      <th>TZX</th>\n",
              "      <td>114</td>\n",
              "      <td>114</td>\n",
              "      <td>114</td>\n",
              "      <td>114</td>\n",
              "      <td>114</td>\n",
              "      <td>114</td>\n",
              "      <td>114</td>\n",
              "      <td>114</td>\n",
              "      <td>114</td>\n",
              "      <td>114</td>\n",
              "      <td>114</td>\n",
              "      <td>114</td>\n",
              "      <td>114</td>\n",
              "      <td>114</td>\n",
              "      <td>114</td>\n",
              "      <td>114</td>\n",
              "      <td>114</td>\n",
              "      <td>114</td>\n",
              "      <td>114</td>\n",
              "      <td>114</td>\n",
              "      <td>114</td>\n",
              "      <td>114</td>\n",
              "      <td>114</td>\n",
              "      <td>114</td>\n",
              "      <td>114</td>\n",
              "      <td>114</td>\n",
              "      <td>114</td>\n",
              "    </tr>\n",
              "    <tr>\n",
              "      <th>GZT</th>\n",
              "      <td>89</td>\n",
              "      <td>89</td>\n",
              "      <td>89</td>\n",
              "      <td>89</td>\n",
              "      <td>89</td>\n",
              "      <td>89</td>\n",
              "      <td>89</td>\n",
              "      <td>89</td>\n",
              "      <td>89</td>\n",
              "      <td>89</td>\n",
              "      <td>89</td>\n",
              "      <td>89</td>\n",
              "      <td>89</td>\n",
              "      <td>89</td>\n",
              "      <td>89</td>\n",
              "      <td>89</td>\n",
              "      <td>89</td>\n",
              "      <td>89</td>\n",
              "      <td>89</td>\n",
              "      <td>89</td>\n",
              "      <td>89</td>\n",
              "      <td>89</td>\n",
              "      <td>89</td>\n",
              "      <td>89</td>\n",
              "      <td>89</td>\n",
              "      <td>89</td>\n",
              "      <td>89</td>\n",
              "    </tr>\n",
              "    <tr>\n",
              "      <th>ERZ</th>\n",
              "      <td>88</td>\n",
              "      <td>88</td>\n",
              "      <td>88</td>\n",
              "      <td>88</td>\n",
              "      <td>88</td>\n",
              "      <td>88</td>\n",
              "      <td>88</td>\n",
              "      <td>88</td>\n",
              "      <td>88</td>\n",
              "      <td>88</td>\n",
              "      <td>88</td>\n",
              "      <td>88</td>\n",
              "      <td>88</td>\n",
              "      <td>88</td>\n",
              "      <td>88</td>\n",
              "      <td>88</td>\n",
              "      <td>88</td>\n",
              "      <td>88</td>\n",
              "      <td>88</td>\n",
              "      <td>88</td>\n",
              "      <td>88</td>\n",
              "      <td>88</td>\n",
              "      <td>88</td>\n",
              "      <td>88</td>\n",
              "      <td>88</td>\n",
              "      <td>88</td>\n",
              "      <td>88</td>\n",
              "    </tr>\n",
              "    <tr>\n",
              "      <th>KYT</th>\n",
              "      <td>69</td>\n",
              "      <td>69</td>\n",
              "      <td>69</td>\n",
              "      <td>69</td>\n",
              "      <td>69</td>\n",
              "      <td>69</td>\n",
              "      <td>69</td>\n",
              "      <td>69</td>\n",
              "      <td>69</td>\n",
              "      <td>69</td>\n",
              "      <td>69</td>\n",
              "      <td>69</td>\n",
              "      <td>69</td>\n",
              "      <td>69</td>\n",
              "      <td>69</td>\n",
              "      <td>69</td>\n",
              "      <td>69</td>\n",
              "      <td>69</td>\n",
              "      <td>69</td>\n",
              "      <td>69</td>\n",
              "      <td>69</td>\n",
              "      <td>69</td>\n",
              "      <td>69</td>\n",
              "      <td>69</td>\n",
              "      <td>69</td>\n",
              "      <td>69</td>\n",
              "      <td>69</td>\n",
              "    </tr>\n",
              "    <tr>\n",
              "      <th>TLV</th>\n",
              "      <td>61</td>\n",
              "      <td>61</td>\n",
              "      <td>61</td>\n",
              "      <td>61</td>\n",
              "      <td>61</td>\n",
              "      <td>61</td>\n",
              "      <td>61</td>\n",
              "      <td>61</td>\n",
              "      <td>61</td>\n",
              "      <td>61</td>\n",
              "      <td>61</td>\n",
              "      <td>61</td>\n",
              "      <td>61</td>\n",
              "      <td>61</td>\n",
              "      <td>61</td>\n",
              "      <td>61</td>\n",
              "      <td>61</td>\n",
              "      <td>61</td>\n",
              "      <td>61</td>\n",
              "      <td>61</td>\n",
              "      <td>61</td>\n",
              "      <td>61</td>\n",
              "      <td>61</td>\n",
              "      <td>61</td>\n",
              "      <td>61</td>\n",
              "      <td>61</td>\n",
              "      <td>61</td>\n",
              "    </tr>\n",
              "    <tr>\n",
              "      <th>KSR</th>\n",
              "      <td>60</td>\n",
              "      <td>60</td>\n",
              "      <td>60</td>\n",
              "      <td>60</td>\n",
              "      <td>60</td>\n",
              "      <td>60</td>\n",
              "      <td>60</td>\n",
              "      <td>60</td>\n",
              "      <td>60</td>\n",
              "      <td>60</td>\n",
              "      <td>60</td>\n",
              "      <td>60</td>\n",
              "      <td>60</td>\n",
              "      <td>60</td>\n",
              "      <td>60</td>\n",
              "      <td>60</td>\n",
              "      <td>60</td>\n",
              "      <td>60</td>\n",
              "      <td>60</td>\n",
              "      <td>60</td>\n",
              "      <td>60</td>\n",
              "      <td>60</td>\n",
              "      <td>60</td>\n",
              "      <td>60</td>\n",
              "      <td>60</td>\n",
              "      <td>60</td>\n",
              "      <td>60</td>\n",
              "    </tr>\n",
              "  </tbody>\n",
              "</table>\n",
              "</div>"
            ],
            "text/plain": [
              "                   Departure_YMD_LMT  ...  Checkin_Outbound\n",
              "Operation_Airport                     ...                  \n",
              "KDT                           785903  ...            785903\n",
              "IST                            10621  ...             10621\n",
              "SKW                             5647  ...              5647\n",
              "EST                             4697  ...              4697\n",
              "TZX                              114  ...               114\n",
              "GZT                               89  ...                89\n",
              "ERZ                               88  ...                88\n",
              "KYT                               69  ...                69\n",
              "TLV                               61  ...                61\n",
              "KSR                               60  ...                60\n",
              "\n",
              "[10 rows x 27 columns]"
            ]
          },
          "metadata": {
            "tags": []
          },
          "execution_count": 41
        }
      ]
    },
    {
      "cell_type": "markdown",
      "metadata": {
        "colab_type": "text",
        "id": "fDjyJK3YXWPJ"
      },
      "source": [
        "The same most frequent 4 airports (KDT, IST, SKW, EST) found in the test set."
      ]
    },
    {
      "cell_type": "code",
      "metadata": {
        "colab_type": "code",
        "id": "pjyeKekDXW2T",
        "outputId": "3b60d47f-f876-4f21-ac5f-22dc41856bc8",
        "colab": {
          "base_uri": "https://localhost:8080/",
          "height": 410
        }
      },
      "source": [
        "result_df.groupby('Operation_Airport').count().sort_values('Operation_Initials', ascending=False).head(10)\n"
      ],
      "execution_count": 42,
      "outputs": [
        {
          "output_type": "execute_result",
          "data": {
            "text/html": [
              "<div>\n",
              "<style scoped>\n",
              "    .dataframe tbody tr th:only-of-type {\n",
              "        vertical-align: middle;\n",
              "    }\n",
              "\n",
              "    .dataframe tbody tr th {\n",
              "        vertical-align: top;\n",
              "    }\n",
              "\n",
              "    .dataframe thead th {\n",
              "        text-align: right;\n",
              "    }\n",
              "</style>\n",
              "<table border=\"1\" class=\"dataframe\">\n",
              "  <thead>\n",
              "    <tr style=\"text-align: right;\">\n",
              "      <th></th>\n",
              "      <th>Departure_YMD_LMT</th>\n",
              "      <th>Operation_YMD_LMT</th>\n",
              "      <th>Terminal_Name</th>\n",
              "      <th>Operation_Initials</th>\n",
              "      <th>Operation_Channel</th>\n",
              "      <th>Passenger_Title</th>\n",
              "      <th>Passenger_Gender</th>\n",
              "      <th>Inbound_Departure_Airport</th>\n",
              "      <th>Outbound_Arrival_Airport</th>\n",
              "      <th>SWC_FLY</th>\n",
              "      <th>Cabin_Class</th>\n",
              "      <th>SWC_FQTV_Member</th>\n",
              "      <th>Passenger_Baggage_Count</th>\n",
              "      <th>Passenger_Baggage_Weight</th>\n",
              "      <th>SWC_Staff</th>\n",
              "      <th>SWC_CIP_Passenger</th>\n",
              "      <th>SWC_VIP_Passenger</th>\n",
              "      <th>SWC_Has_Infant</th>\n",
              "      <th>Operation_Count</th>\n",
              "      <th>Operation_Channel_Group</th>\n",
              "      <th>Operation_Sonic_Code_Flag</th>\n",
              "      <th>Terminal_Number_Flag</th>\n",
              "      <th>Early_Check_In</th>\n",
              "      <th>Early_Check_In_Status</th>\n",
              "      <th>Direct_Flight</th>\n",
              "      <th>Checkin_Inbound</th>\n",
              "      <th>Checkin_Outbound</th>\n",
              "    </tr>\n",
              "    <tr>\n",
              "      <th>Operation_Airport</th>\n",
              "      <th></th>\n",
              "      <th></th>\n",
              "      <th></th>\n",
              "      <th></th>\n",
              "      <th></th>\n",
              "      <th></th>\n",
              "      <th></th>\n",
              "      <th></th>\n",
              "      <th></th>\n",
              "      <th></th>\n",
              "      <th></th>\n",
              "      <th></th>\n",
              "      <th></th>\n",
              "      <th></th>\n",
              "      <th></th>\n",
              "      <th></th>\n",
              "      <th></th>\n",
              "      <th></th>\n",
              "      <th></th>\n",
              "      <th></th>\n",
              "      <th></th>\n",
              "      <th></th>\n",
              "      <th></th>\n",
              "      <th></th>\n",
              "      <th></th>\n",
              "      <th></th>\n",
              "      <th></th>\n",
              "    </tr>\n",
              "  </thead>\n",
              "  <tbody>\n",
              "    <tr>\n",
              "      <th>KDT</th>\n",
              "      <td>119390</td>\n",
              "      <td>119390</td>\n",
              "      <td>119390</td>\n",
              "      <td>119390</td>\n",
              "      <td>119390</td>\n",
              "      <td>119390</td>\n",
              "      <td>119390</td>\n",
              "      <td>119390</td>\n",
              "      <td>119390</td>\n",
              "      <td>119390</td>\n",
              "      <td>119390</td>\n",
              "      <td>119390</td>\n",
              "      <td>119390</td>\n",
              "      <td>119390</td>\n",
              "      <td>119390</td>\n",
              "      <td>119390</td>\n",
              "      <td>119390</td>\n",
              "      <td>119390</td>\n",
              "      <td>119390</td>\n",
              "      <td>119390</td>\n",
              "      <td>119390</td>\n",
              "      <td>119390</td>\n",
              "      <td>119390</td>\n",
              "      <td>119390</td>\n",
              "      <td>119390</td>\n",
              "      <td>119390</td>\n",
              "      <td>119390</td>\n",
              "    </tr>\n",
              "    <tr>\n",
              "      <th>IST</th>\n",
              "      <td>1144</td>\n",
              "      <td>1144</td>\n",
              "      <td>1144</td>\n",
              "      <td>1144</td>\n",
              "      <td>1144</td>\n",
              "      <td>1144</td>\n",
              "      <td>1144</td>\n",
              "      <td>1144</td>\n",
              "      <td>1144</td>\n",
              "      <td>1144</td>\n",
              "      <td>1144</td>\n",
              "      <td>1144</td>\n",
              "      <td>1144</td>\n",
              "      <td>1144</td>\n",
              "      <td>1144</td>\n",
              "      <td>1144</td>\n",
              "      <td>1144</td>\n",
              "      <td>1144</td>\n",
              "      <td>1144</td>\n",
              "      <td>1144</td>\n",
              "      <td>1144</td>\n",
              "      <td>1144</td>\n",
              "      <td>1144</td>\n",
              "      <td>1144</td>\n",
              "      <td>1144</td>\n",
              "      <td>1144</td>\n",
              "      <td>1144</td>\n",
              "    </tr>\n",
              "    <tr>\n",
              "      <th>SKW</th>\n",
              "      <td>565</td>\n",
              "      <td>565</td>\n",
              "      <td>565</td>\n",
              "      <td>565</td>\n",
              "      <td>565</td>\n",
              "      <td>565</td>\n",
              "      <td>565</td>\n",
              "      <td>565</td>\n",
              "      <td>565</td>\n",
              "      <td>565</td>\n",
              "      <td>565</td>\n",
              "      <td>565</td>\n",
              "      <td>565</td>\n",
              "      <td>565</td>\n",
              "      <td>565</td>\n",
              "      <td>565</td>\n",
              "      <td>565</td>\n",
              "      <td>565</td>\n",
              "      <td>565</td>\n",
              "      <td>565</td>\n",
              "      <td>565</td>\n",
              "      <td>565</td>\n",
              "      <td>565</td>\n",
              "      <td>565</td>\n",
              "      <td>565</td>\n",
              "      <td>565</td>\n",
              "      <td>565</td>\n",
              "    </tr>\n",
              "    <tr>\n",
              "      <th>EST</th>\n",
              "      <td>326</td>\n",
              "      <td>326</td>\n",
              "      <td>326</td>\n",
              "      <td>326</td>\n",
              "      <td>326</td>\n",
              "      <td>326</td>\n",
              "      <td>326</td>\n",
              "      <td>326</td>\n",
              "      <td>326</td>\n",
              "      <td>326</td>\n",
              "      <td>326</td>\n",
              "      <td>326</td>\n",
              "      <td>326</td>\n",
              "      <td>326</td>\n",
              "      <td>326</td>\n",
              "      <td>326</td>\n",
              "      <td>326</td>\n",
              "      <td>326</td>\n",
              "      <td>326</td>\n",
              "      <td>326</td>\n",
              "      <td>326</td>\n",
              "      <td>326</td>\n",
              "      <td>326</td>\n",
              "      <td>326</td>\n",
              "      <td>326</td>\n",
              "      <td>326</td>\n",
              "      <td>326</td>\n",
              "    </tr>\n",
              "    <tr>\n",
              "      <th>ENN</th>\n",
              "      <td>89</td>\n",
              "      <td>89</td>\n",
              "      <td>89</td>\n",
              "      <td>89</td>\n",
              "      <td>89</td>\n",
              "      <td>89</td>\n",
              "      <td>89</td>\n",
              "      <td>89</td>\n",
              "      <td>89</td>\n",
              "      <td>89</td>\n",
              "      <td>89</td>\n",
              "      <td>89</td>\n",
              "      <td>89</td>\n",
              "      <td>89</td>\n",
              "      <td>89</td>\n",
              "      <td>89</td>\n",
              "      <td>89</td>\n",
              "      <td>89</td>\n",
              "      <td>89</td>\n",
              "      <td>89</td>\n",
              "      <td>89</td>\n",
              "      <td>89</td>\n",
              "      <td>89</td>\n",
              "      <td>89</td>\n",
              "      <td>89</td>\n",
              "      <td>89</td>\n",
              "      <td>89</td>\n",
              "    </tr>\n",
              "    <tr>\n",
              "      <th>MED</th>\n",
              "      <td>77</td>\n",
              "      <td>77</td>\n",
              "      <td>77</td>\n",
              "      <td>77</td>\n",
              "      <td>77</td>\n",
              "      <td>77</td>\n",
              "      <td>77</td>\n",
              "      <td>77</td>\n",
              "      <td>77</td>\n",
              "      <td>77</td>\n",
              "      <td>77</td>\n",
              "      <td>77</td>\n",
              "      <td>77</td>\n",
              "      <td>77</td>\n",
              "      <td>77</td>\n",
              "      <td>77</td>\n",
              "      <td>77</td>\n",
              "      <td>77</td>\n",
              "      <td>77</td>\n",
              "      <td>77</td>\n",
              "      <td>77</td>\n",
              "      <td>77</td>\n",
              "      <td>77</td>\n",
              "      <td>77</td>\n",
              "      <td>77</td>\n",
              "      <td>77</td>\n",
              "      <td>77</td>\n",
              "    </tr>\n",
              "    <tr>\n",
              "      <th>TLV</th>\n",
              "      <td>70</td>\n",
              "      <td>70</td>\n",
              "      <td>70</td>\n",
              "      <td>70</td>\n",
              "      <td>70</td>\n",
              "      <td>70</td>\n",
              "      <td>70</td>\n",
              "      <td>70</td>\n",
              "      <td>70</td>\n",
              "      <td>70</td>\n",
              "      <td>70</td>\n",
              "      <td>70</td>\n",
              "      <td>70</td>\n",
              "      <td>70</td>\n",
              "      <td>70</td>\n",
              "      <td>70</td>\n",
              "      <td>70</td>\n",
              "      <td>70</td>\n",
              "      <td>70</td>\n",
              "      <td>70</td>\n",
              "      <td>70</td>\n",
              "      <td>70</td>\n",
              "      <td>70</td>\n",
              "      <td>70</td>\n",
              "      <td>70</td>\n",
              "      <td>70</td>\n",
              "      <td>70</td>\n",
              "    </tr>\n",
              "    <tr>\n",
              "      <th>KWI</th>\n",
              "      <td>39</td>\n",
              "      <td>39</td>\n",
              "      <td>39</td>\n",
              "      <td>39</td>\n",
              "      <td>39</td>\n",
              "      <td>39</td>\n",
              "      <td>39</td>\n",
              "      <td>39</td>\n",
              "      <td>39</td>\n",
              "      <td>39</td>\n",
              "      <td>39</td>\n",
              "      <td>39</td>\n",
              "      <td>39</td>\n",
              "      <td>39</td>\n",
              "      <td>39</td>\n",
              "      <td>39</td>\n",
              "      <td>39</td>\n",
              "      <td>39</td>\n",
              "      <td>39</td>\n",
              "      <td>39</td>\n",
              "      <td>39</td>\n",
              "      <td>39</td>\n",
              "      <td>39</td>\n",
              "      <td>39</td>\n",
              "      <td>39</td>\n",
              "      <td>39</td>\n",
              "      <td>39</td>\n",
              "    </tr>\n",
              "    <tr>\n",
              "      <th>HKM</th>\n",
              "      <td>31</td>\n",
              "      <td>31</td>\n",
              "      <td>31</td>\n",
              "      <td>31</td>\n",
              "      <td>31</td>\n",
              "      <td>31</td>\n",
              "      <td>31</td>\n",
              "      <td>31</td>\n",
              "      <td>31</td>\n",
              "      <td>31</td>\n",
              "      <td>31</td>\n",
              "      <td>31</td>\n",
              "      <td>31</td>\n",
              "      <td>31</td>\n",
              "      <td>31</td>\n",
              "      <td>31</td>\n",
              "      <td>31</td>\n",
              "      <td>31</td>\n",
              "      <td>31</td>\n",
              "      <td>31</td>\n",
              "      <td>31</td>\n",
              "      <td>31</td>\n",
              "      <td>31</td>\n",
              "      <td>31</td>\n",
              "      <td>31</td>\n",
              "      <td>31</td>\n",
              "      <td>31</td>\n",
              "    </tr>\n",
              "    <tr>\n",
              "      <th>TZX</th>\n",
              "      <td>20</td>\n",
              "      <td>20</td>\n",
              "      <td>20</td>\n",
              "      <td>20</td>\n",
              "      <td>20</td>\n",
              "      <td>20</td>\n",
              "      <td>20</td>\n",
              "      <td>20</td>\n",
              "      <td>20</td>\n",
              "      <td>20</td>\n",
              "      <td>20</td>\n",
              "      <td>20</td>\n",
              "      <td>20</td>\n",
              "      <td>20</td>\n",
              "      <td>20</td>\n",
              "      <td>20</td>\n",
              "      <td>20</td>\n",
              "      <td>20</td>\n",
              "      <td>20</td>\n",
              "      <td>20</td>\n",
              "      <td>20</td>\n",
              "      <td>20</td>\n",
              "      <td>20</td>\n",
              "      <td>20</td>\n",
              "      <td>20</td>\n",
              "      <td>20</td>\n",
              "      <td>20</td>\n",
              "    </tr>\n",
              "  </tbody>\n",
              "</table>\n",
              "</div>"
            ],
            "text/plain": [
              "                   Departure_YMD_LMT  ...  Checkin_Outbound\n",
              "Operation_Airport                     ...                  \n",
              "KDT                           119390  ...            119390\n",
              "IST                             1144  ...              1144\n",
              "SKW                              565  ...               565\n",
              "EST                              326  ...               326\n",
              "ENN                               89  ...                89\n",
              "MED                               77  ...                77\n",
              "TLV                               70  ...                70\n",
              "KWI                               39  ...                39\n",
              "HKM                               31  ...                31\n",
              "TZX                               20  ...                20\n",
              "\n",
              "[10 rows x 27 columns]"
            ]
          },
          "metadata": {
            "tags": []
          },
          "execution_count": 42
        }
      ]
    },
    {
      "cell_type": "markdown",
      "metadata": {
        "colab_type": "text",
        "id": "cMbnF6IaX3Uf"
      },
      "source": [
        "The occurences of most frequent values are far different for the first 4 values. They are the same airport for both train and test data. So, any airport other than these 4 is replaced with \"OTHERS\"."
      ]
    },
    {
      "cell_type": "code",
      "metadata": {
        "colab_type": "code",
        "id": "EOtz21cwX5IR",
        "colab": {}
      },
      "source": [
        "train_df['Operation_Airport_Reduced'] = np.where((train_df.Operation_Airport == 'KDT') | (train_df.Operation_Airport == 'IST') | (train_df.Operation_Airport == 'SKW') | (train_df.Operation_Airport == 'EST'), train_df.Operation_Airport, 'OTHERS')\n",
        "result_df['Operation_Airport_Reduced'] = np.where((result_df.Operation_Airport == 'KDT') | (result_df.Operation_Airport == 'IST') | (result_df.Operation_Airport == 'SKW') | (result_df.Operation_Airport == 'EST'), result_df.Operation_Airport, 'OTHERS')"
      ],
      "execution_count": 0,
      "outputs": []
    },
    {
      "cell_type": "markdown",
      "metadata": {
        "colab_type": "text",
        "id": "LvlPttUSYTNY"
      },
      "source": [
        "### Operation Initials Reduced\n",
        "\n",
        "We followed the same grouping scheme for the Operation_Initials column. There is a huge drop after LK airport is observed in terms of count."
      ]
    },
    {
      "cell_type": "code",
      "metadata": {
        "colab_type": "code",
        "id": "x-53u2rlYnOD",
        "outputId": "1f117e23-17bc-4eda-ad3c-b453ce96b2c8",
        "colab": {
          "base_uri": "https://localhost:8080/",
          "height": 410
        }
      },
      "source": [
        "train_df.groupby('Operation_Initials').count().sort_values('Operation_Airport', ascending=False).head(10)"
      ],
      "execution_count": 44,
      "outputs": [
        {
          "output_type": "execute_result",
          "data": {
            "text/html": [
              "<div>\n",
              "<style scoped>\n",
              "    .dataframe tbody tr th:only-of-type {\n",
              "        vertical-align: middle;\n",
              "    }\n",
              "\n",
              "    .dataframe tbody tr th {\n",
              "        vertical-align: top;\n",
              "    }\n",
              "\n",
              "    .dataframe thead th {\n",
              "        text-align: right;\n",
              "    }\n",
              "</style>\n",
              "<table border=\"1\" class=\"dataframe\">\n",
              "  <thead>\n",
              "    <tr style=\"text-align: right;\">\n",
              "      <th></th>\n",
              "      <th>Departure_YMD_LMT</th>\n",
              "      <th>Operation_YMD_LMT</th>\n",
              "      <th>Operation_Airport</th>\n",
              "      <th>Terminal_Name</th>\n",
              "      <th>Operation_Channel</th>\n",
              "      <th>Passenger_Title</th>\n",
              "      <th>Passenger_Gender</th>\n",
              "      <th>Inbound_Departure_Airport</th>\n",
              "      <th>Outbound_Arrival_Airport</th>\n",
              "      <th>SWC_FLY</th>\n",
              "      <th>Cabin_Class</th>\n",
              "      <th>SWC_FQTV_Member</th>\n",
              "      <th>Passenger_Baggage_Count</th>\n",
              "      <th>Passenger_Baggage_Weight</th>\n",
              "      <th>SWC_Staff</th>\n",
              "      <th>SWC_CIP_Passenger</th>\n",
              "      <th>SWC_VIP_Passenger</th>\n",
              "      <th>SWC_Has_Infant</th>\n",
              "      <th>Operation_Count</th>\n",
              "      <th>Operation_Channel_Group</th>\n",
              "      <th>Operation_Sonic_Code_Flag</th>\n",
              "      <th>Terminal_Number_Flag</th>\n",
              "      <th>Early_Check_In</th>\n",
              "      <th>Early_Check_In_Status</th>\n",
              "      <th>Direct_Flight</th>\n",
              "      <th>Checkin_Inbound</th>\n",
              "      <th>Checkin_Outbound</th>\n",
              "      <th>Operation_Airport_Reduced</th>\n",
              "    </tr>\n",
              "    <tr>\n",
              "      <th>Operation_Initials</th>\n",
              "      <th></th>\n",
              "      <th></th>\n",
              "      <th></th>\n",
              "      <th></th>\n",
              "      <th></th>\n",
              "      <th></th>\n",
              "      <th></th>\n",
              "      <th></th>\n",
              "      <th></th>\n",
              "      <th></th>\n",
              "      <th></th>\n",
              "      <th></th>\n",
              "      <th></th>\n",
              "      <th></th>\n",
              "      <th></th>\n",
              "      <th></th>\n",
              "      <th></th>\n",
              "      <th></th>\n",
              "      <th></th>\n",
              "      <th></th>\n",
              "      <th></th>\n",
              "      <th></th>\n",
              "      <th></th>\n",
              "      <th></th>\n",
              "      <th></th>\n",
              "      <th></th>\n",
              "      <th></th>\n",
              "      <th></th>\n",
              "    </tr>\n",
              "  </thead>\n",
              "  <tbody>\n",
              "    <tr>\n",
              "      <th>KS</th>\n",
              "      <td>390596</td>\n",
              "      <td>390596</td>\n",
              "      <td>390596</td>\n",
              "      <td>390596</td>\n",
              "      <td>390596</td>\n",
              "      <td>390596</td>\n",
              "      <td>390596</td>\n",
              "      <td>390596</td>\n",
              "      <td>390596</td>\n",
              "      <td>390596</td>\n",
              "      <td>390596</td>\n",
              "      <td>390596</td>\n",
              "      <td>390596</td>\n",
              "      <td>390596</td>\n",
              "      <td>390596</td>\n",
              "      <td>390596</td>\n",
              "      <td>390596</td>\n",
              "      <td>390596</td>\n",
              "      <td>390596</td>\n",
              "      <td>390596</td>\n",
              "      <td>390596</td>\n",
              "      <td>390596</td>\n",
              "      <td>390596</td>\n",
              "      <td>390596</td>\n",
              "      <td>390596</td>\n",
              "      <td>390596</td>\n",
              "      <td>390596</td>\n",
              "      <td>390596</td>\n",
              "    </tr>\n",
              "    <tr>\n",
              "      <th>MK</th>\n",
              "      <td>360434</td>\n",
              "      <td>360434</td>\n",
              "      <td>360434</td>\n",
              "      <td>360434</td>\n",
              "      <td>360434</td>\n",
              "      <td>360434</td>\n",
              "      <td>360434</td>\n",
              "      <td>360434</td>\n",
              "      <td>360434</td>\n",
              "      <td>360434</td>\n",
              "      <td>360434</td>\n",
              "      <td>360434</td>\n",
              "      <td>360434</td>\n",
              "      <td>360434</td>\n",
              "      <td>360434</td>\n",
              "      <td>360434</td>\n",
              "      <td>360434</td>\n",
              "      <td>360434</td>\n",
              "      <td>360434</td>\n",
              "      <td>360434</td>\n",
              "      <td>360434</td>\n",
              "      <td>360434</td>\n",
              "      <td>360434</td>\n",
              "      <td>360434</td>\n",
              "      <td>360434</td>\n",
              "      <td>360434</td>\n",
              "      <td>360434</td>\n",
              "      <td>360434</td>\n",
              "    </tr>\n",
              "    <tr>\n",
              "      <th>SC</th>\n",
              "      <td>42707</td>\n",
              "      <td>42707</td>\n",
              "      <td>42707</td>\n",
              "      <td>42707</td>\n",
              "      <td>42707</td>\n",
              "      <td>42707</td>\n",
              "      <td>42707</td>\n",
              "      <td>42707</td>\n",
              "      <td>42707</td>\n",
              "      <td>42707</td>\n",
              "      <td>42707</td>\n",
              "      <td>42707</td>\n",
              "      <td>42707</td>\n",
              "      <td>42707</td>\n",
              "      <td>42707</td>\n",
              "      <td>42707</td>\n",
              "      <td>42707</td>\n",
              "      <td>42707</td>\n",
              "      <td>42707</td>\n",
              "      <td>42707</td>\n",
              "      <td>42707</td>\n",
              "      <td>42707</td>\n",
              "      <td>42707</td>\n",
              "      <td>42707</td>\n",
              "      <td>42707</td>\n",
              "      <td>42707</td>\n",
              "      <td>42707</td>\n",
              "      <td>42707</td>\n",
              "    </tr>\n",
              "    <tr>\n",
              "      <th>Q7</th>\n",
              "      <td>7559</td>\n",
              "      <td>7559</td>\n",
              "      <td>7559</td>\n",
              "      <td>7559</td>\n",
              "      <td>7559</td>\n",
              "      <td>7559</td>\n",
              "      <td>7559</td>\n",
              "      <td>7559</td>\n",
              "      <td>7559</td>\n",
              "      <td>7559</td>\n",
              "      <td>7559</td>\n",
              "      <td>7559</td>\n",
              "      <td>7559</td>\n",
              "      <td>7559</td>\n",
              "      <td>7559</td>\n",
              "      <td>7559</td>\n",
              "      <td>7559</td>\n",
              "      <td>7559</td>\n",
              "      <td>7559</td>\n",
              "      <td>7559</td>\n",
              "      <td>7559</td>\n",
              "      <td>7559</td>\n",
              "      <td>7559</td>\n",
              "      <td>7559</td>\n",
              "      <td>7559</td>\n",
              "      <td>7559</td>\n",
              "      <td>7559</td>\n",
              "      <td>7559</td>\n",
              "    </tr>\n",
              "    <tr>\n",
              "      <th>EY</th>\n",
              "      <td>1780</td>\n",
              "      <td>1780</td>\n",
              "      <td>1780</td>\n",
              "      <td>1780</td>\n",
              "      <td>1780</td>\n",
              "      <td>1780</td>\n",
              "      <td>1780</td>\n",
              "      <td>1780</td>\n",
              "      <td>1780</td>\n",
              "      <td>1780</td>\n",
              "      <td>1780</td>\n",
              "      <td>1780</td>\n",
              "      <td>1780</td>\n",
              "      <td>1780</td>\n",
              "      <td>1780</td>\n",
              "      <td>1780</td>\n",
              "      <td>1780</td>\n",
              "      <td>1780</td>\n",
              "      <td>1780</td>\n",
              "      <td>1780</td>\n",
              "      <td>1780</td>\n",
              "      <td>1780</td>\n",
              "      <td>1780</td>\n",
              "      <td>1780</td>\n",
              "      <td>1780</td>\n",
              "      <td>1780</td>\n",
              "      <td>1780</td>\n",
              "      <td>1780</td>\n",
              "    </tr>\n",
              "    <tr>\n",
              "      <th>LK</th>\n",
              "      <td>1239</td>\n",
              "      <td>1239</td>\n",
              "      <td>1239</td>\n",
              "      <td>1239</td>\n",
              "      <td>1239</td>\n",
              "      <td>1239</td>\n",
              "      <td>1239</td>\n",
              "      <td>1239</td>\n",
              "      <td>1239</td>\n",
              "      <td>1239</td>\n",
              "      <td>1239</td>\n",
              "      <td>1239</td>\n",
              "      <td>1239</td>\n",
              "      <td>1239</td>\n",
              "      <td>1239</td>\n",
              "      <td>1239</td>\n",
              "      <td>1239</td>\n",
              "      <td>1239</td>\n",
              "      <td>1239</td>\n",
              "      <td>1239</td>\n",
              "      <td>1239</td>\n",
              "      <td>1239</td>\n",
              "      <td>1239</td>\n",
              "      <td>1239</td>\n",
              "      <td>1239</td>\n",
              "      <td>1239</td>\n",
              "      <td>1239</td>\n",
              "      <td>1239</td>\n",
              "    </tr>\n",
              "    <tr>\n",
              "      <th>YM</th>\n",
              "      <td>481</td>\n",
              "      <td>481</td>\n",
              "      <td>481</td>\n",
              "      <td>481</td>\n",
              "      <td>481</td>\n",
              "      <td>481</td>\n",
              "      <td>481</td>\n",
              "      <td>481</td>\n",
              "      <td>481</td>\n",
              "      <td>481</td>\n",
              "      <td>481</td>\n",
              "      <td>481</td>\n",
              "      <td>481</td>\n",
              "      <td>481</td>\n",
              "      <td>481</td>\n",
              "      <td>481</td>\n",
              "      <td>481</td>\n",
              "      <td>481</td>\n",
              "      <td>481</td>\n",
              "      <td>481</td>\n",
              "      <td>481</td>\n",
              "      <td>481</td>\n",
              "      <td>481</td>\n",
              "      <td>481</td>\n",
              "      <td>481</td>\n",
              "      <td>481</td>\n",
              "      <td>481</td>\n",
              "      <td>481</td>\n",
              "    </tr>\n",
              "    <tr>\n",
              "      <th>CB</th>\n",
              "      <td>336</td>\n",
              "      <td>336</td>\n",
              "      <td>336</td>\n",
              "      <td>336</td>\n",
              "      <td>336</td>\n",
              "      <td>336</td>\n",
              "      <td>336</td>\n",
              "      <td>336</td>\n",
              "      <td>336</td>\n",
              "      <td>336</td>\n",
              "      <td>336</td>\n",
              "      <td>336</td>\n",
              "      <td>336</td>\n",
              "      <td>336</td>\n",
              "      <td>336</td>\n",
              "      <td>336</td>\n",
              "      <td>336</td>\n",
              "      <td>336</td>\n",
              "      <td>336</td>\n",
              "      <td>336</td>\n",
              "      <td>336</td>\n",
              "      <td>336</td>\n",
              "      <td>336</td>\n",
              "      <td>336</td>\n",
              "      <td>336</td>\n",
              "      <td>336</td>\n",
              "      <td>336</td>\n",
              "      <td>336</td>\n",
              "    </tr>\n",
              "    <tr>\n",
              "      <th>FY</th>\n",
              "      <td>317</td>\n",
              "      <td>317</td>\n",
              "      <td>317</td>\n",
              "      <td>317</td>\n",
              "      <td>317</td>\n",
              "      <td>317</td>\n",
              "      <td>317</td>\n",
              "      <td>317</td>\n",
              "      <td>317</td>\n",
              "      <td>317</td>\n",
              "      <td>317</td>\n",
              "      <td>317</td>\n",
              "      <td>317</td>\n",
              "      <td>317</td>\n",
              "      <td>317</td>\n",
              "      <td>317</td>\n",
              "      <td>317</td>\n",
              "      <td>317</td>\n",
              "      <td>317</td>\n",
              "      <td>317</td>\n",
              "      <td>317</td>\n",
              "      <td>317</td>\n",
              "      <td>317</td>\n",
              "      <td>317</td>\n",
              "      <td>317</td>\n",
              "      <td>317</td>\n",
              "      <td>317</td>\n",
              "      <td>317</td>\n",
              "    </tr>\n",
              "    <tr>\n",
              "      <th>HV</th>\n",
              "      <td>277</td>\n",
              "      <td>277</td>\n",
              "      <td>277</td>\n",
              "      <td>277</td>\n",
              "      <td>277</td>\n",
              "      <td>277</td>\n",
              "      <td>277</td>\n",
              "      <td>277</td>\n",
              "      <td>277</td>\n",
              "      <td>277</td>\n",
              "      <td>277</td>\n",
              "      <td>277</td>\n",
              "      <td>277</td>\n",
              "      <td>277</td>\n",
              "      <td>277</td>\n",
              "      <td>277</td>\n",
              "      <td>277</td>\n",
              "      <td>277</td>\n",
              "      <td>277</td>\n",
              "      <td>277</td>\n",
              "      <td>277</td>\n",
              "      <td>277</td>\n",
              "      <td>277</td>\n",
              "      <td>277</td>\n",
              "      <td>277</td>\n",
              "      <td>277</td>\n",
              "      <td>277</td>\n",
              "      <td>277</td>\n",
              "    </tr>\n",
              "  </tbody>\n",
              "</table>\n",
              "</div>"
            ],
            "text/plain": [
              "                    Departure_YMD_LMT  ...  Operation_Airport_Reduced\n",
              "Operation_Initials                     ...                           \n",
              "KS                             390596  ...                     390596\n",
              "MK                             360434  ...                     360434\n",
              "SC                              42707  ...                      42707\n",
              "Q7                               7559  ...                       7559\n",
              "EY                               1780  ...                       1780\n",
              "LK                               1239  ...                       1239\n",
              "YM                                481  ...                        481\n",
              "CB                                336  ...                        336\n",
              "FY                                317  ...                        317\n",
              "HV                                277  ...                        277\n",
              "\n",
              "[10 rows x 28 columns]"
            ]
          },
          "metadata": {
            "tags": []
          },
          "execution_count": 44
        }
      ]
    },
    {
      "cell_type": "code",
      "metadata": {
        "colab_type": "code",
        "id": "tHhekB0ma5K5",
        "outputId": "95869eb7-4d5b-4106-9d1b-09d636a44c93",
        "colab": {
          "base_uri": "https://localhost:8080/",
          "height": 410
        }
      },
      "source": [
        "result_df.groupby('Operation_Initials').count().sort_values('Operation_Airport', ascending=False).head(10)\n"
      ],
      "execution_count": 45,
      "outputs": [
        {
          "output_type": "execute_result",
          "data": {
            "text/html": [
              "<div>\n",
              "<style scoped>\n",
              "    .dataframe tbody tr th:only-of-type {\n",
              "        vertical-align: middle;\n",
              "    }\n",
              "\n",
              "    .dataframe tbody tr th {\n",
              "        vertical-align: top;\n",
              "    }\n",
              "\n",
              "    .dataframe thead th {\n",
              "        text-align: right;\n",
              "    }\n",
              "</style>\n",
              "<table border=\"1\" class=\"dataframe\">\n",
              "  <thead>\n",
              "    <tr style=\"text-align: right;\">\n",
              "      <th></th>\n",
              "      <th>Departure_YMD_LMT</th>\n",
              "      <th>Operation_YMD_LMT</th>\n",
              "      <th>Operation_Airport</th>\n",
              "      <th>Terminal_Name</th>\n",
              "      <th>Operation_Channel</th>\n",
              "      <th>Passenger_Title</th>\n",
              "      <th>Passenger_Gender</th>\n",
              "      <th>Inbound_Departure_Airport</th>\n",
              "      <th>Outbound_Arrival_Airport</th>\n",
              "      <th>SWC_FLY</th>\n",
              "      <th>Cabin_Class</th>\n",
              "      <th>SWC_FQTV_Member</th>\n",
              "      <th>Passenger_Baggage_Count</th>\n",
              "      <th>Passenger_Baggage_Weight</th>\n",
              "      <th>SWC_Staff</th>\n",
              "      <th>SWC_CIP_Passenger</th>\n",
              "      <th>SWC_VIP_Passenger</th>\n",
              "      <th>SWC_Has_Infant</th>\n",
              "      <th>Operation_Count</th>\n",
              "      <th>Operation_Channel_Group</th>\n",
              "      <th>Operation_Sonic_Code_Flag</th>\n",
              "      <th>Terminal_Number_Flag</th>\n",
              "      <th>Early_Check_In</th>\n",
              "      <th>Early_Check_In_Status</th>\n",
              "      <th>Direct_Flight</th>\n",
              "      <th>Checkin_Inbound</th>\n",
              "      <th>Checkin_Outbound</th>\n",
              "      <th>Operation_Airport_Reduced</th>\n",
              "    </tr>\n",
              "    <tr>\n",
              "      <th>Operation_Initials</th>\n",
              "      <th></th>\n",
              "      <th></th>\n",
              "      <th></th>\n",
              "      <th></th>\n",
              "      <th></th>\n",
              "      <th></th>\n",
              "      <th></th>\n",
              "      <th></th>\n",
              "      <th></th>\n",
              "      <th></th>\n",
              "      <th></th>\n",
              "      <th></th>\n",
              "      <th></th>\n",
              "      <th></th>\n",
              "      <th></th>\n",
              "      <th></th>\n",
              "      <th></th>\n",
              "      <th></th>\n",
              "      <th></th>\n",
              "      <th></th>\n",
              "      <th></th>\n",
              "      <th></th>\n",
              "      <th></th>\n",
              "      <th></th>\n",
              "      <th></th>\n",
              "      <th></th>\n",
              "      <th></th>\n",
              "      <th></th>\n",
              "    </tr>\n",
              "  </thead>\n",
              "  <tbody>\n",
              "    <tr>\n",
              "      <th>KS</th>\n",
              "      <td>59017</td>\n",
              "      <td>59017</td>\n",
              "      <td>59017</td>\n",
              "      <td>59017</td>\n",
              "      <td>59017</td>\n",
              "      <td>59017</td>\n",
              "      <td>59017</td>\n",
              "      <td>59017</td>\n",
              "      <td>59017</td>\n",
              "      <td>59017</td>\n",
              "      <td>59017</td>\n",
              "      <td>59017</td>\n",
              "      <td>59017</td>\n",
              "      <td>59017</td>\n",
              "      <td>59017</td>\n",
              "      <td>59017</td>\n",
              "      <td>59017</td>\n",
              "      <td>59017</td>\n",
              "      <td>59017</td>\n",
              "      <td>59017</td>\n",
              "      <td>59017</td>\n",
              "      <td>59017</td>\n",
              "      <td>59017</td>\n",
              "      <td>59017</td>\n",
              "      <td>59017</td>\n",
              "      <td>59017</td>\n",
              "      <td>59017</td>\n",
              "      <td>59017</td>\n",
              "    </tr>\n",
              "    <tr>\n",
              "      <th>MK</th>\n",
              "      <td>54227</td>\n",
              "      <td>54227</td>\n",
              "      <td>54227</td>\n",
              "      <td>54227</td>\n",
              "      <td>54227</td>\n",
              "      <td>54227</td>\n",
              "      <td>54227</td>\n",
              "      <td>54227</td>\n",
              "      <td>54227</td>\n",
              "      <td>54227</td>\n",
              "      <td>54227</td>\n",
              "      <td>54227</td>\n",
              "      <td>54227</td>\n",
              "      <td>54227</td>\n",
              "      <td>54227</td>\n",
              "      <td>54227</td>\n",
              "      <td>54227</td>\n",
              "      <td>54227</td>\n",
              "      <td>54227</td>\n",
              "      <td>54227</td>\n",
              "      <td>54227</td>\n",
              "      <td>54227</td>\n",
              "      <td>54227</td>\n",
              "      <td>54227</td>\n",
              "      <td>54227</td>\n",
              "      <td>54227</td>\n",
              "      <td>54227</td>\n",
              "      <td>54227</td>\n",
              "    </tr>\n",
              "    <tr>\n",
              "      <th>SC</th>\n",
              "      <td>6449</td>\n",
              "      <td>6449</td>\n",
              "      <td>6449</td>\n",
              "      <td>6449</td>\n",
              "      <td>6449</td>\n",
              "      <td>6449</td>\n",
              "      <td>6449</td>\n",
              "      <td>6449</td>\n",
              "      <td>6449</td>\n",
              "      <td>6449</td>\n",
              "      <td>6449</td>\n",
              "      <td>6449</td>\n",
              "      <td>6449</td>\n",
              "      <td>6449</td>\n",
              "      <td>6449</td>\n",
              "      <td>6449</td>\n",
              "      <td>6449</td>\n",
              "      <td>6449</td>\n",
              "      <td>6449</td>\n",
              "      <td>6449</td>\n",
              "      <td>6449</td>\n",
              "      <td>6449</td>\n",
              "      <td>6449</td>\n",
              "      <td>6449</td>\n",
              "      <td>6449</td>\n",
              "      <td>6449</td>\n",
              "      <td>6449</td>\n",
              "      <td>6449</td>\n",
              "    </tr>\n",
              "    <tr>\n",
              "      <th>Q7</th>\n",
              "      <td>1148</td>\n",
              "      <td>1148</td>\n",
              "      <td>1148</td>\n",
              "      <td>1148</td>\n",
              "      <td>1148</td>\n",
              "      <td>1148</td>\n",
              "      <td>1148</td>\n",
              "      <td>1148</td>\n",
              "      <td>1148</td>\n",
              "      <td>1148</td>\n",
              "      <td>1148</td>\n",
              "      <td>1148</td>\n",
              "      <td>1148</td>\n",
              "      <td>1148</td>\n",
              "      <td>1148</td>\n",
              "      <td>1148</td>\n",
              "      <td>1148</td>\n",
              "      <td>1148</td>\n",
              "      <td>1148</td>\n",
              "      <td>1148</td>\n",
              "      <td>1148</td>\n",
              "      <td>1148</td>\n",
              "      <td>1148</td>\n",
              "      <td>1148</td>\n",
              "      <td>1148</td>\n",
              "      <td>1148</td>\n",
              "      <td>1148</td>\n",
              "      <td>1148</td>\n",
              "    </tr>\n",
              "    <tr>\n",
              "      <th>EY</th>\n",
              "      <td>255</td>\n",
              "      <td>255</td>\n",
              "      <td>255</td>\n",
              "      <td>255</td>\n",
              "      <td>255</td>\n",
              "      <td>255</td>\n",
              "      <td>255</td>\n",
              "      <td>255</td>\n",
              "      <td>255</td>\n",
              "      <td>255</td>\n",
              "      <td>255</td>\n",
              "      <td>255</td>\n",
              "      <td>255</td>\n",
              "      <td>255</td>\n",
              "      <td>255</td>\n",
              "      <td>255</td>\n",
              "      <td>255</td>\n",
              "      <td>255</td>\n",
              "      <td>255</td>\n",
              "      <td>255</td>\n",
              "      <td>255</td>\n",
              "      <td>255</td>\n",
              "      <td>255</td>\n",
              "      <td>255</td>\n",
              "      <td>255</td>\n",
              "      <td>255</td>\n",
              "      <td>255</td>\n",
              "      <td>255</td>\n",
              "    </tr>\n",
              "    <tr>\n",
              "      <th>LK</th>\n",
              "      <td>175</td>\n",
              "      <td>175</td>\n",
              "      <td>175</td>\n",
              "      <td>175</td>\n",
              "      <td>175</td>\n",
              "      <td>175</td>\n",
              "      <td>175</td>\n",
              "      <td>175</td>\n",
              "      <td>175</td>\n",
              "      <td>175</td>\n",
              "      <td>175</td>\n",
              "      <td>175</td>\n",
              "      <td>175</td>\n",
              "      <td>175</td>\n",
              "      <td>175</td>\n",
              "      <td>175</td>\n",
              "      <td>175</td>\n",
              "      <td>175</td>\n",
              "      <td>175</td>\n",
              "      <td>175</td>\n",
              "      <td>175</td>\n",
              "      <td>175</td>\n",
              "      <td>175</td>\n",
              "      <td>175</td>\n",
              "      <td>175</td>\n",
              "      <td>175</td>\n",
              "      <td>175</td>\n",
              "      <td>175</td>\n",
              "    </tr>\n",
              "    <tr>\n",
              "      <th>YM</th>\n",
              "      <td>72</td>\n",
              "      <td>72</td>\n",
              "      <td>72</td>\n",
              "      <td>72</td>\n",
              "      <td>72</td>\n",
              "      <td>72</td>\n",
              "      <td>72</td>\n",
              "      <td>72</td>\n",
              "      <td>72</td>\n",
              "      <td>72</td>\n",
              "      <td>72</td>\n",
              "      <td>72</td>\n",
              "      <td>72</td>\n",
              "      <td>72</td>\n",
              "      <td>72</td>\n",
              "      <td>72</td>\n",
              "      <td>72</td>\n",
              "      <td>72</td>\n",
              "      <td>72</td>\n",
              "      <td>72</td>\n",
              "      <td>72</td>\n",
              "      <td>72</td>\n",
              "      <td>72</td>\n",
              "      <td>72</td>\n",
              "      <td>72</td>\n",
              "      <td>72</td>\n",
              "      <td>72</td>\n",
              "      <td>72</td>\n",
              "    </tr>\n",
              "    <tr>\n",
              "      <th>FY</th>\n",
              "      <td>53</td>\n",
              "      <td>53</td>\n",
              "      <td>53</td>\n",
              "      <td>53</td>\n",
              "      <td>53</td>\n",
              "      <td>53</td>\n",
              "      <td>53</td>\n",
              "      <td>53</td>\n",
              "      <td>53</td>\n",
              "      <td>53</td>\n",
              "      <td>53</td>\n",
              "      <td>53</td>\n",
              "      <td>53</td>\n",
              "      <td>53</td>\n",
              "      <td>53</td>\n",
              "      <td>53</td>\n",
              "      <td>53</td>\n",
              "      <td>53</td>\n",
              "      <td>53</td>\n",
              "      <td>53</td>\n",
              "      <td>53</td>\n",
              "      <td>53</td>\n",
              "      <td>53</td>\n",
              "      <td>53</td>\n",
              "      <td>53</td>\n",
              "      <td>53</td>\n",
              "      <td>53</td>\n",
              "      <td>53</td>\n",
              "    </tr>\n",
              "    <tr>\n",
              "      <th>BO</th>\n",
              "      <td>50</td>\n",
              "      <td>50</td>\n",
              "      <td>50</td>\n",
              "      <td>50</td>\n",
              "      <td>50</td>\n",
              "      <td>50</td>\n",
              "      <td>50</td>\n",
              "      <td>50</td>\n",
              "      <td>50</td>\n",
              "      <td>50</td>\n",
              "      <td>50</td>\n",
              "      <td>50</td>\n",
              "      <td>50</td>\n",
              "      <td>50</td>\n",
              "      <td>50</td>\n",
              "      <td>50</td>\n",
              "      <td>50</td>\n",
              "      <td>50</td>\n",
              "      <td>50</td>\n",
              "      <td>50</td>\n",
              "      <td>50</td>\n",
              "      <td>50</td>\n",
              "      <td>50</td>\n",
              "      <td>50</td>\n",
              "      <td>50</td>\n",
              "      <td>50</td>\n",
              "      <td>50</td>\n",
              "      <td>50</td>\n",
              "    </tr>\n",
              "    <tr>\n",
              "      <th>CB</th>\n",
              "      <td>50</td>\n",
              "      <td>50</td>\n",
              "      <td>50</td>\n",
              "      <td>50</td>\n",
              "      <td>50</td>\n",
              "      <td>50</td>\n",
              "      <td>50</td>\n",
              "      <td>50</td>\n",
              "      <td>50</td>\n",
              "      <td>50</td>\n",
              "      <td>50</td>\n",
              "      <td>50</td>\n",
              "      <td>50</td>\n",
              "      <td>50</td>\n",
              "      <td>50</td>\n",
              "      <td>50</td>\n",
              "      <td>50</td>\n",
              "      <td>50</td>\n",
              "      <td>50</td>\n",
              "      <td>50</td>\n",
              "      <td>50</td>\n",
              "      <td>50</td>\n",
              "      <td>50</td>\n",
              "      <td>50</td>\n",
              "      <td>50</td>\n",
              "      <td>50</td>\n",
              "      <td>50</td>\n",
              "      <td>50</td>\n",
              "    </tr>\n",
              "  </tbody>\n",
              "</table>\n",
              "</div>"
            ],
            "text/plain": [
              "                    Departure_YMD_LMT  ...  Operation_Airport_Reduced\n",
              "Operation_Initials                     ...                           \n",
              "KS                              59017  ...                      59017\n",
              "MK                              54227  ...                      54227\n",
              "SC                               6449  ...                       6449\n",
              "Q7                               1148  ...                       1148\n",
              "EY                                255  ...                        255\n",
              "LK                                175  ...                        175\n",
              "YM                                 72  ...                         72\n",
              "FY                                 53  ...                         53\n",
              "BO                                 50  ...                         50\n",
              "CB                                 50  ...                         50\n",
              "\n",
              "[10 rows x 28 columns]"
            ]
          },
          "metadata": {
            "tags": []
          },
          "execution_count": 45
        }
      ]
    },
    {
      "cell_type": "markdown",
      "metadata": {
        "colab_type": "text",
        "id": "uONxfEgsaxuN"
      },
      "source": [
        "The 6 most frequent values differ significantly from the others. We replace the others with \"OTHERS\"."
      ]
    },
    {
      "cell_type": "code",
      "metadata": {
        "colab_type": "code",
        "id": "lXeLYNIubT05",
        "colab": {}
      },
      "source": [
        "train_df['Operation_Initials_Reduced'] = np.where((train_df.Operation_Initials == 'KS') | (train_df.Operation_Initials == 'MK') | (train_df.Operation_Initials == 'SC') | (train_df.Operation_Initials == 'Q7') | (train_df.Operation_Initials == 'EY') | (train_df.Operation_Initials == 'LK'), train_df.Operation_Initials, 'OTHERS')\n",
        "result_df['Operation_Initials_Reduced'] = np.where((result_df.Operation_Initials == 'KS') | (result_df.Operation_Initials == 'MK') | (result_df.Operation_Initials == 'SC') | (result_df.Operation_Initials == 'Q7') | (result_df.Operation_Initials == 'EY') | (result_df.Operation_Initials == 'LK'), result_df.Operation_Initials, 'OTHERS')\n"
      ],
      "execution_count": 0,
      "outputs": []
    },
    {
      "cell_type": "code",
      "metadata": {
        "colab_type": "code",
        "id": "hpEvN1Z-bxHz",
        "outputId": "1c892a15-e20c-4563-c269-76d5f658775a",
        "colab": {
          "base_uri": "https://localhost:8080/",
          "height": 317
        }
      },
      "source": [
        "train_df.groupby('Operation_Initials_Reduced').count().sort_values('Operation_Airport', ascending=False).head(10)"
      ],
      "execution_count": 47,
      "outputs": [
        {
          "output_type": "execute_result",
          "data": {
            "text/html": [
              "<div>\n",
              "<style scoped>\n",
              "    .dataframe tbody tr th:only-of-type {\n",
              "        vertical-align: middle;\n",
              "    }\n",
              "\n",
              "    .dataframe tbody tr th {\n",
              "        vertical-align: top;\n",
              "    }\n",
              "\n",
              "    .dataframe thead th {\n",
              "        text-align: right;\n",
              "    }\n",
              "</style>\n",
              "<table border=\"1\" class=\"dataframe\">\n",
              "  <thead>\n",
              "    <tr style=\"text-align: right;\">\n",
              "      <th></th>\n",
              "      <th>Departure_YMD_LMT</th>\n",
              "      <th>Operation_YMD_LMT</th>\n",
              "      <th>Operation_Airport</th>\n",
              "      <th>Terminal_Name</th>\n",
              "      <th>Operation_Initials</th>\n",
              "      <th>Operation_Channel</th>\n",
              "      <th>Passenger_Title</th>\n",
              "      <th>Passenger_Gender</th>\n",
              "      <th>Inbound_Departure_Airport</th>\n",
              "      <th>Outbound_Arrival_Airport</th>\n",
              "      <th>SWC_FLY</th>\n",
              "      <th>Cabin_Class</th>\n",
              "      <th>SWC_FQTV_Member</th>\n",
              "      <th>Passenger_Baggage_Count</th>\n",
              "      <th>Passenger_Baggage_Weight</th>\n",
              "      <th>SWC_Staff</th>\n",
              "      <th>SWC_CIP_Passenger</th>\n",
              "      <th>SWC_VIP_Passenger</th>\n",
              "      <th>SWC_Has_Infant</th>\n",
              "      <th>Operation_Count</th>\n",
              "      <th>Operation_Channel_Group</th>\n",
              "      <th>Operation_Sonic_Code_Flag</th>\n",
              "      <th>Terminal_Number_Flag</th>\n",
              "      <th>Early_Check_In</th>\n",
              "      <th>Early_Check_In_Status</th>\n",
              "      <th>Direct_Flight</th>\n",
              "      <th>Checkin_Inbound</th>\n",
              "      <th>Checkin_Outbound</th>\n",
              "      <th>Operation_Airport_Reduced</th>\n",
              "    </tr>\n",
              "    <tr>\n",
              "      <th>Operation_Initials_Reduced</th>\n",
              "      <th></th>\n",
              "      <th></th>\n",
              "      <th></th>\n",
              "      <th></th>\n",
              "      <th></th>\n",
              "      <th></th>\n",
              "      <th></th>\n",
              "      <th></th>\n",
              "      <th></th>\n",
              "      <th></th>\n",
              "      <th></th>\n",
              "      <th></th>\n",
              "      <th></th>\n",
              "      <th></th>\n",
              "      <th></th>\n",
              "      <th></th>\n",
              "      <th></th>\n",
              "      <th></th>\n",
              "      <th></th>\n",
              "      <th></th>\n",
              "      <th></th>\n",
              "      <th></th>\n",
              "      <th></th>\n",
              "      <th></th>\n",
              "      <th></th>\n",
              "      <th></th>\n",
              "      <th></th>\n",
              "      <th></th>\n",
              "      <th></th>\n",
              "    </tr>\n",
              "  </thead>\n",
              "  <tbody>\n",
              "    <tr>\n",
              "      <th>KS</th>\n",
              "      <td>390596</td>\n",
              "      <td>390596</td>\n",
              "      <td>390596</td>\n",
              "      <td>390596</td>\n",
              "      <td>390596</td>\n",
              "      <td>390596</td>\n",
              "      <td>390596</td>\n",
              "      <td>390596</td>\n",
              "      <td>390596</td>\n",
              "      <td>390596</td>\n",
              "      <td>390596</td>\n",
              "      <td>390596</td>\n",
              "      <td>390596</td>\n",
              "      <td>390596</td>\n",
              "      <td>390596</td>\n",
              "      <td>390596</td>\n",
              "      <td>390596</td>\n",
              "      <td>390596</td>\n",
              "      <td>390596</td>\n",
              "      <td>390596</td>\n",
              "      <td>390596</td>\n",
              "      <td>390596</td>\n",
              "      <td>390596</td>\n",
              "      <td>390596</td>\n",
              "      <td>390596</td>\n",
              "      <td>390596</td>\n",
              "      <td>390596</td>\n",
              "      <td>390596</td>\n",
              "      <td>390596</td>\n",
              "    </tr>\n",
              "    <tr>\n",
              "      <th>MK</th>\n",
              "      <td>360434</td>\n",
              "      <td>360434</td>\n",
              "      <td>360434</td>\n",
              "      <td>360434</td>\n",
              "      <td>360434</td>\n",
              "      <td>360434</td>\n",
              "      <td>360434</td>\n",
              "      <td>360434</td>\n",
              "      <td>360434</td>\n",
              "      <td>360434</td>\n",
              "      <td>360434</td>\n",
              "      <td>360434</td>\n",
              "      <td>360434</td>\n",
              "      <td>360434</td>\n",
              "      <td>360434</td>\n",
              "      <td>360434</td>\n",
              "      <td>360434</td>\n",
              "      <td>360434</td>\n",
              "      <td>360434</td>\n",
              "      <td>360434</td>\n",
              "      <td>360434</td>\n",
              "      <td>360434</td>\n",
              "      <td>360434</td>\n",
              "      <td>360434</td>\n",
              "      <td>360434</td>\n",
              "      <td>360434</td>\n",
              "      <td>360434</td>\n",
              "      <td>360434</td>\n",
              "      <td>360434</td>\n",
              "    </tr>\n",
              "    <tr>\n",
              "      <th>SC</th>\n",
              "      <td>42707</td>\n",
              "      <td>42707</td>\n",
              "      <td>42707</td>\n",
              "      <td>42707</td>\n",
              "      <td>42707</td>\n",
              "      <td>42707</td>\n",
              "      <td>42707</td>\n",
              "      <td>42707</td>\n",
              "      <td>42707</td>\n",
              "      <td>42707</td>\n",
              "      <td>42707</td>\n",
              "      <td>42707</td>\n",
              "      <td>42707</td>\n",
              "      <td>42707</td>\n",
              "      <td>42707</td>\n",
              "      <td>42707</td>\n",
              "      <td>42707</td>\n",
              "      <td>42707</td>\n",
              "      <td>42707</td>\n",
              "      <td>42707</td>\n",
              "      <td>42707</td>\n",
              "      <td>42707</td>\n",
              "      <td>42707</td>\n",
              "      <td>42707</td>\n",
              "      <td>42707</td>\n",
              "      <td>42707</td>\n",
              "      <td>42707</td>\n",
              "      <td>42707</td>\n",
              "      <td>42707</td>\n",
              "    </tr>\n",
              "    <tr>\n",
              "      <th>Q7</th>\n",
              "      <td>7559</td>\n",
              "      <td>7559</td>\n",
              "      <td>7559</td>\n",
              "      <td>7559</td>\n",
              "      <td>7559</td>\n",
              "      <td>7559</td>\n",
              "      <td>7559</td>\n",
              "      <td>7559</td>\n",
              "      <td>7559</td>\n",
              "      <td>7559</td>\n",
              "      <td>7559</td>\n",
              "      <td>7559</td>\n",
              "      <td>7559</td>\n",
              "      <td>7559</td>\n",
              "      <td>7559</td>\n",
              "      <td>7559</td>\n",
              "      <td>7559</td>\n",
              "      <td>7559</td>\n",
              "      <td>7559</td>\n",
              "      <td>7559</td>\n",
              "      <td>7559</td>\n",
              "      <td>7559</td>\n",
              "      <td>7559</td>\n",
              "      <td>7559</td>\n",
              "      <td>7559</td>\n",
              "      <td>7559</td>\n",
              "      <td>7559</td>\n",
              "      <td>7559</td>\n",
              "      <td>7559</td>\n",
              "    </tr>\n",
              "    <tr>\n",
              "      <th>OTHERS</th>\n",
              "      <td>4381</td>\n",
              "      <td>4381</td>\n",
              "      <td>4381</td>\n",
              "      <td>4381</td>\n",
              "      <td>4381</td>\n",
              "      <td>4381</td>\n",
              "      <td>4381</td>\n",
              "      <td>4381</td>\n",
              "      <td>4381</td>\n",
              "      <td>4381</td>\n",
              "      <td>4381</td>\n",
              "      <td>4381</td>\n",
              "      <td>4381</td>\n",
              "      <td>4381</td>\n",
              "      <td>4381</td>\n",
              "      <td>4381</td>\n",
              "      <td>4381</td>\n",
              "      <td>4381</td>\n",
              "      <td>4381</td>\n",
              "      <td>4381</td>\n",
              "      <td>4381</td>\n",
              "      <td>4381</td>\n",
              "      <td>4381</td>\n",
              "      <td>4381</td>\n",
              "      <td>4381</td>\n",
              "      <td>4381</td>\n",
              "      <td>4381</td>\n",
              "      <td>4381</td>\n",
              "      <td>4381</td>\n",
              "    </tr>\n",
              "    <tr>\n",
              "      <th>EY</th>\n",
              "      <td>1780</td>\n",
              "      <td>1780</td>\n",
              "      <td>1780</td>\n",
              "      <td>1780</td>\n",
              "      <td>1780</td>\n",
              "      <td>1780</td>\n",
              "      <td>1780</td>\n",
              "      <td>1780</td>\n",
              "      <td>1780</td>\n",
              "      <td>1780</td>\n",
              "      <td>1780</td>\n",
              "      <td>1780</td>\n",
              "      <td>1780</td>\n",
              "      <td>1780</td>\n",
              "      <td>1780</td>\n",
              "      <td>1780</td>\n",
              "      <td>1780</td>\n",
              "      <td>1780</td>\n",
              "      <td>1780</td>\n",
              "      <td>1780</td>\n",
              "      <td>1780</td>\n",
              "      <td>1780</td>\n",
              "      <td>1780</td>\n",
              "      <td>1780</td>\n",
              "      <td>1780</td>\n",
              "      <td>1780</td>\n",
              "      <td>1780</td>\n",
              "      <td>1780</td>\n",
              "      <td>1780</td>\n",
              "    </tr>\n",
              "    <tr>\n",
              "      <th>LK</th>\n",
              "      <td>1239</td>\n",
              "      <td>1239</td>\n",
              "      <td>1239</td>\n",
              "      <td>1239</td>\n",
              "      <td>1239</td>\n",
              "      <td>1239</td>\n",
              "      <td>1239</td>\n",
              "      <td>1239</td>\n",
              "      <td>1239</td>\n",
              "      <td>1239</td>\n",
              "      <td>1239</td>\n",
              "      <td>1239</td>\n",
              "      <td>1239</td>\n",
              "      <td>1239</td>\n",
              "      <td>1239</td>\n",
              "      <td>1239</td>\n",
              "      <td>1239</td>\n",
              "      <td>1239</td>\n",
              "      <td>1239</td>\n",
              "      <td>1239</td>\n",
              "      <td>1239</td>\n",
              "      <td>1239</td>\n",
              "      <td>1239</td>\n",
              "      <td>1239</td>\n",
              "      <td>1239</td>\n",
              "      <td>1239</td>\n",
              "      <td>1239</td>\n",
              "      <td>1239</td>\n",
              "      <td>1239</td>\n",
              "    </tr>\n",
              "  </tbody>\n",
              "</table>\n",
              "</div>"
            ],
            "text/plain": [
              "                            Departure_YMD_LMT  ...  Operation_Airport_Reduced\n",
              "Operation_Initials_Reduced                     ...                           \n",
              "KS                                     390596  ...                     390596\n",
              "MK                                     360434  ...                     360434\n",
              "SC                                      42707  ...                      42707\n",
              "Q7                                       7559  ...                       7559\n",
              "OTHERS                                   4381  ...                       4381\n",
              "EY                                       1780  ...                       1780\n",
              "LK                                       1239  ...                       1239\n",
              "\n",
              "[7 rows x 29 columns]"
            ]
          },
          "metadata": {
            "tags": []
          },
          "execution_count": 47
        }
      ]
    },
    {
      "cell_type": "markdown",
      "metadata": {
        "colab_type": "text",
        "id": "CywhuSD1Zxg-"
      },
      "source": [
        "### Weekend\n",
        "\n",
        "We thought that may be week of day, weekend/weekday information might be usefull. Weekend days are encoded as 1 in the *Weekend* column."
      ]
    },
    {
      "cell_type": "code",
      "metadata": {
        "colab_type": "code",
        "id": "akDymq3AeIfj",
        "colab": {}
      },
      "source": [
        "import datetime\n",
        "train_df['Weekend'] = [x in [5,6] for x in train_df.Departure_YMD_LMT.dt.weekday]\n",
        "train_df['Weekend'] = train_df['Weekend'].replace(True, int(1))\n",
        "train_df['Weekend'] = train_df['Weekend'].replace(False, int(0))\n",
        "result_df['Weekend'] = [x in [5,6] for x in result_df.Departure_YMD_LMT.dt.weekday]\n",
        "result_df['Weekend'] = result_df['Weekend'].replace(True, int(1))\n",
        "result_df['Weekend'] = result_df['Weekend'].replace(False, int(0))"
      ],
      "execution_count": 0,
      "outputs": []
    },
    {
      "cell_type": "code",
      "metadata": {
        "colab_type": "code",
        "id": "HKKUix3-EWJi",
        "outputId": "330f3d58-5589-4526-9bf8-c6ff3f6746cf",
        "colab": {
          "base_uri": "https://localhost:8080/",
          "height": 119
        }
      },
      "source": [
        "train_df.Weekend.head()"
      ],
      "execution_count": 49,
      "outputs": [
        {
          "output_type": "execute_result",
          "data": {
            "text/plain": [
              "0    0.0\n",
              "1    0.0\n",
              "2    0.0\n",
              "3    0.0\n",
              "4    1.0\n",
              "Name: Weekend, dtype: float64"
            ]
          },
          "metadata": {
            "tags": []
          },
          "execution_count": 49
        }
      ]
    },
    {
      "cell_type": "markdown",
      "metadata": {
        "colab_type": "text",
        "id": "LWXVCZVQB00s"
      },
      "source": [
        "### Departure Day\n",
        "\n",
        "Generate *Departure Day* column:"
      ]
    },
    {
      "cell_type": "code",
      "metadata": {
        "colab_type": "code",
        "id": "L4JvhincBJ5c",
        "outputId": "cff3e88d-bfeb-4031-dbd2-4ca171476abd",
        "colab": {
          "base_uri": "https://localhost:8080/",
          "height": 119
        }
      },
      "source": [
        "train_df.insert(1,'Departure Day','foo')\n",
        "train_df['Departure Day'] = train_df['Departure_YMD_LMT'].dt.weekday_name\n",
        "\n",
        "result_df.insert(1,'Departure Day','foo')\n",
        "result_df['Departure Day'] = train_df['Departure_YMD_LMT'].dt.weekday_name\n",
        "\n",
        "train_df['Departure Day'].head()"
      ],
      "execution_count": 50,
      "outputs": [
        {
          "output_type": "execute_result",
          "data": {
            "text/plain": [
              "0      Tuesday\n",
              "1    Wednesday\n",
              "2       Friday\n",
              "3      Tuesday\n",
              "4     Saturday\n",
              "Name: Departure Day, dtype: object"
            ]
          },
          "metadata": {
            "tags": []
          },
          "execution_count": 50
        }
      ]
    },
    {
      "cell_type": "markdown",
      "metadata": {
        "colab_type": "text",
        "id": "tLlVcAyPe2GB"
      },
      "source": [
        "### Week of Month"
      ]
    },
    {
      "cell_type": "markdown",
      "metadata": {
        "colab_type": "text",
        "id": "ltshc6kDIQJy"
      },
      "source": [
        "### Economy Class\n",
        "\n",
        "Transform categorical *Cabin Class* column to binary variable."
      ]
    },
    {
      "cell_type": "code",
      "metadata": {
        "colab_type": "code",
        "id": "MO6IJgPmIaD5",
        "outputId": "4632dff6-19c6-4140-af7f-811c40e4287b",
        "colab": {
          "base_uri": "https://localhost:8080/",
          "height": 34
        }
      },
      "source": [
        "dict = {\"Y\": 1,\n",
        "        \"C\": 0\n",
        "        }\n",
        "train_df['Economy_Class'] = train_df['Cabin_Class'].map(dict)\n",
        "train_df = train_df.drop(\"Cabin_Class\", axis = 1)\n",
        "result_df['Economy_Class'] = result_df['Cabin_Class'].map(dict)\n",
        "result_df = result_df.drop(\"Cabin_Class\", axis = 1)\n",
        "train_df['Economy_Class'].unique()"
      ],
      "execution_count": 51,
      "outputs": [
        {
          "output_type": "execute_result",
          "data": {
            "text/plain": [
              "array([1, 0])"
            ]
          },
          "metadata": {
            "tags": []
          },
          "execution_count": 51
        }
      ]
    },
    {
      "cell_type": "markdown",
      "metadata": {
        "colab_type": "text",
        "id": "xXQYc2l4kjxX"
      },
      "source": [
        "### Drop Unnecessary Columns"
      ]
    },
    {
      "cell_type": "code",
      "metadata": {
        "colab_type": "code",
        "id": "rDInMBCqkqXa",
        "colab": {}
      },
      "source": [
        "train_df = train_df.drop(columns = [\"Departure_YMD_LMT\", \n",
        "                                    \"Operation_YMD_LMT\", \n",
        "                                    \"Operation_Initials\", \n",
        "                                    \"Operation_Airport\",\n",
        "                                    \"Inbound_Departure_Airport\",\n",
        "                                    \"Outbound_Arrival_Airport\",\n",
        "                                    \"Early_Check_In\"], axis =1)"
      ],
      "execution_count": 0,
      "outputs": []
    },
    {
      "cell_type": "markdown",
      "metadata": {
        "colab_type": "text",
        "id": "PRVOF_Xhunel"
      },
      "source": [
        "## Encoding Categorical Features"
      ]
    },
    {
      "cell_type": "markdown",
      "metadata": {
        "colab_type": "text",
        "id": "9PJeh-H0oyMw"
      },
      "source": [
        "Convert objects to category"
      ]
    },
    {
      "cell_type": "code",
      "metadata": {
        "colab_type": "code",
        "id": "ClYRXhuDhri_",
        "colab": {}
      },
      "source": [
        "for col_name in train_df.columns:\n",
        "    if train_df[col_name].dtype.name == 'object':\n",
        "        train_df[col_name] = train_df[col_name].astype('category')\n",
        "        result_df[col_name] = result_df[col_name].astype('category')"
      ],
      "execution_count": 0,
      "outputs": []
    },
    {
      "cell_type": "code",
      "metadata": {
        "colab_type": "code",
        "id": "lS4UMDYIumpJ",
        "outputId": "72f0daa2-088a-4e78-e212-e3a3a3e6907a",
        "colab": {
          "base_uri": "https://localhost:8080/",
          "height": 459
        }
      },
      "source": [
        "train_df.dtypes"
      ],
      "execution_count": 56,
      "outputs": [
        {
          "output_type": "execute_result",
          "data": {
            "text/plain": [
              "Departure Day                 category\n",
              "Terminal_Name                 category\n",
              "Operation_Channel             category\n",
              "Passenger_Title               category\n",
              "Passenger_Gender              category\n",
              "SWC_FLY                          int64\n",
              "SWC_FQTV_Member                  int64\n",
              "Passenger_Baggage_Count          int64\n",
              "Passenger_Baggage_Weight         int64\n",
              "SWC_Staff                        int64\n",
              "SWC_CIP_Passenger                int64\n",
              "SWC_VIP_Passenger                int64\n",
              "SWC_Has_Infant                   int64\n",
              "Operation_Count                  int64\n",
              "Operation_Channel_Group       category\n",
              "Operation_Sonic_Code_Flag        int64\n",
              "Terminal_Number_Flag             int64\n",
              "Early_Check_In_Status         category\n",
              "Direct_Flight                    int64\n",
              "Checkin_Inbound                float64\n",
              "Checkin_Outbound               float64\n",
              "Operation_Airport_Reduced     category\n",
              "Operation_Initials_Reduced    category\n",
              "Weekend                        float64\n",
              "Economy_Class                    int64\n",
              "dtype: object"
            ]
          },
          "metadata": {
            "tags": []
          },
          "execution_count": 56
        }
      ]
    },
    {
      "cell_type": "markdown",
      "metadata": {
        "colab_type": "text",
        "id": "jTCZbJCUxdWX"
      },
      "source": [
        "Encode categorical columns"
      ]
    },
    {
      "cell_type": "code",
      "metadata": {
        "colab_type": "code",
        "id": "Bn7AH7VXwQbm",
        "outputId": "15dec785-787e-40e4-bac3-b6a572341c01",
        "colab": {
          "base_uri": "https://localhost:8080/",
          "height": 170
        }
      },
      "source": [
        "train_onehot = train_df.copy()\n",
        "#train_onehot.drop(columns = [\"Operation_Initials\", \"Terminal_Name\"], axis =1)\n",
        "result_onehot = result_df.copy()\n",
        "for cols in train_df.columns: #leave as traidf!!!\n",
        "  if train_onehot[cols].dtype.name == 'category':\n",
        "    print(cols)\n",
        "    one_hot = pd.get_dummies(train_df[cols], prefix = cols)\n",
        "    train_onehot = train_onehot.drop(cols,axis = 1)\n",
        "    train_onehot = train_onehot.join(one_hot)\n",
        "  "
      ],
      "execution_count": 54,
      "outputs": [
        {
          "output_type": "stream",
          "text": [
            "Departure Day\n",
            "Terminal_Name\n",
            "Operation_Channel\n",
            "Passenger_Title\n",
            "Passenger_Gender\n",
            "Operation_Channel_Group\n",
            "Early_Check_In_Status\n",
            "Operation_Airport_Reduced\n",
            "Operation_Initials_Reduced\n"
          ],
          "name": "stdout"
        }
      ]
    },
    {
      "cell_type": "code",
      "metadata": {
        "colab_type": "code",
        "id": "EZkxjtnb1vEm",
        "colab": {
          "base_uri": "https://localhost:8080/",
          "height": 204
        },
        "outputId": "92ab9b0c-0f23-42cb-9654-6b712a6d45fb"
      },
      "source": [
        "train_onehot.columns"
      ],
      "execution_count": 58,
      "outputs": [
        {
          "output_type": "execute_result",
          "data": {
            "text/plain": [
              "Index(['SWC_FLY', 'SWC_FQTV_Member', 'Passenger_Baggage_Count',\n",
              "       'Passenger_Baggage_Weight', 'SWC_Staff', 'SWC_CIP_Passenger',\n",
              "       'SWC_VIP_Passenger', 'SWC_Has_Infant', 'Operation_Count',\n",
              "       'Operation_Sonic_Code_Flag',\n",
              "       ...\n",
              "       'Operation_Airport_Reduced_KDT', 'Operation_Airport_Reduced_OTHERS',\n",
              "       'Operation_Airport_Reduced_SKW', 'Operation_Initials_Reduced_EY',\n",
              "       'Operation_Initials_Reduced_KS', 'Operation_Initials_Reduced_LK',\n",
              "       'Operation_Initials_Reduced_MK', 'Operation_Initials_Reduced_OTHERS',\n",
              "       'Operation_Initials_Reduced_Q7', 'Operation_Initials_Reduced_SC'],\n",
              "      dtype='object', length=2754)"
            ]
          },
          "metadata": {
            "tags": []
          },
          "execution_count": 58
        }
      ]
    },
    {
      "cell_type": "markdown",
      "metadata": {
        "colab_type": "text",
        "id": "i_yP2l6mMJ08"
      },
      "source": [
        "## Correlation Matrix"
      ]
    },
    {
      "cell_type": "code",
      "metadata": {
        "colab_type": "code",
        "id": "35cGI-2CNamg",
        "outputId": "146c2030-8dee-4c67-fb70-af9d6b2e5ca3",
        "colab": {
          "base_uri": "https://localhost:8080/",
          "height": 417
        }
      },
      "source": [
        "import seaborn as sns\n",
        "corr = train_df.corr()\n",
        "sns.heatmap(corr, \n",
        "            xticklabels=corr.columns.values,\n",
        "            yticklabels=corr.columns.values)"
      ],
      "execution_count": 62,
      "outputs": [
        {
          "output_type": "execute_result",
          "data": {
            "text/plain": [
              "<matplotlib.axes._subplots.AxesSubplot at 0x7f42c0a7c2e8>"
            ]
          },
          "metadata": {
            "tags": []
          },
          "execution_count": 62
        },
        {
          "output_type": "display_data",
          "data": {
            "image/png": "[encoded data removed]",
            "text/plain": [
              "<Figure size 432x288 with 2 Axes>"
            ]
          },
          "metadata": {
            "tags": []
          }
        }
      ]
    },
    {
      "cell_type": "markdown",
      "metadata": {
        "colab_type": "text",
        "id": "jlb4JUGrW70Q"
      },
      "source": [
        "## Visualization"
      ]
    },
    {
      "cell_type": "markdown",
      "metadata": {
        "colab_type": "text",
        "id": "TMogDZ-haAyU"
      },
      "source": [
        "Curious behavior of the operation count."
      ]
    },
    {
      "cell_type": "code",
      "metadata": {
        "colab_type": "code",
        "id": "tcA_A05Fh_MR",
        "colab": {
          "base_uri": "https://localhost:8080/",
          "height": 503
        },
        "outputId": "f47d7c5b-da19-479a-c682-54ca0447f2c7"
      },
      "source": [
        "import matplotlib.pyplot as plt\n",
        "fig, ax = plt.subplots(1, 1,figsize=(10, 8))\n",
        "train_df[\"Operation_Count\"].hist(bins=500, color=\"blue\", ax=ax)\n"
      ],
      "execution_count": 63,
      "outputs": [
        {
          "output_type": "execute_result",
          "data": {
            "text/plain": [
              "<matplotlib.axes._subplots.AxesSubplot at 0x7f42c09b9f98>"
            ]
          },
          "metadata": {
            "tags": []
          },
          "execution_count": 63
        },
        {
          "output_type": "display_data",
          "data": {
            "image/png": "[encoded data removed]",
            "text/plain": [
              "<Figure size 720x576 with 1 Axes>"
            ]
          },
          "metadata": {
            "tags": []
          }
        }
      ]
    },
    {
      "cell_type": "markdown",
      "metadata": {
        "colab_type": "text",
        "id": "3Vr9h6rAZcnJ"
      },
      "source": [
        "Operation count distributed uniformly over days of the week. Fridays are slightly a little busier than the others (?)."
      ]
    },
    {
      "cell_type": "code",
      "metadata": {
        "colab_type": "code",
        "id": "3LXVhjPTY10a",
        "colab": {
          "base_uri": "https://localhost:8080/",
          "height": 300
        },
        "outputId": "b71aaf5a-51dc-45fb-bace-c983ecd037b0"
      },
      "source": [
        "import seaborn as sns\n",
        "sns.barplot(x='Departure Day',y='Operation_Count',data=train_df)"
      ],
      "execution_count": 64,
      "outputs": [
        {
          "output_type": "execute_result",
          "data": {
            "text/plain": [
              "<matplotlib.axes._subplots.AxesSubplot at 0x7f42bcd35390>"
            ]
          },
          "metadata": {
            "tags": []
          },
          "execution_count": 64
        },
        {
          "output_type": "display_data",
          "data": {
            "image/png": "[encoded data removed]",
            "text/plain": [
              "<Figure size 432x288 with 1 Axes>"
            ]
          },
          "metadata": {
            "tags": []
          }
        }
      ]
    },
    {
      "cell_type": "markdown",
      "metadata": {
        "colab_type": "text",
        "id": "MaDi7cGxaSQx"
      },
      "source": [
        "Uniform distribution "
      ]
    },
    {
      "cell_type": "code",
      "metadata": {
        "colab_type": "code",
        "id": "hlYCsTtnaTHt",
        "colab": {
          "base_uri": "https://localhost:8080/",
          "height": 300
        },
        "outputId": "df4240f5-2966-4bff-eb94-a59aa831f4a3"
      },
      "source": [
        "sns.barplot(x='Weekend',y='Operation_Count',data=train_df)"
      ],
      "execution_count": 65,
      "outputs": [
        {
          "output_type": "execute_result",
          "data": {
            "text/plain": [
              "<matplotlib.axes._subplots.AxesSubplot at 0x7f42bcc59160>"
            ]
          },
          "metadata": {
            "tags": []
          },
          "execution_count": 65
        },
        {
          "output_type": "display_data",
          "data": {
            "image/png": "[encoded data removed]",
            "text/plain": [
              "<Figure size 432x288 with 1 Axes>"
            ]
          },
          "metadata": {
            "tags": []
          }
        }
      ]
    },
    {
      "cell_type": "markdown",
      "metadata": {
        "colab_type": "text",
        "id": "TxVlEE5dbK-3"
      },
      "source": [
        "Dırect flıght"
      ]
    },
    {
      "cell_type": "code",
      "metadata": {
        "colab_type": "code",
        "id": "QPzr0Gu5bKWc",
        "colab": {
          "base_uri": "https://localhost:8080/",
          "height": 301
        },
        "outputId": "65a00e96-8c70-4f16-a74c-22a753b310e6"
      },
      "source": [
        "sns.barplot(x='Direct_Flight',y='Operation_Count',data=train_df)"
      ],
      "execution_count": 66,
      "outputs": [
        {
          "output_type": "execute_result",
          "data": {
            "text/plain": [
              "<matplotlib.axes._subplots.AxesSubplot at 0x7f42bcbc5ba8>"
            ]
          },
          "metadata": {
            "tags": []
          },
          "execution_count": 66
        },
        {
          "output_type": "display_data",
          "data": {
            "image/png": "[encoded data removed]",
            "text/plain": [
              "<Figure size 432x288 with 1 Axes>"
            ]
          },
          "metadata": {
            "tags": []
          }
        }
      ]
    },
    {
      "cell_type": "markdown",
      "metadata": {
        "colab_type": "text",
        "id": "QKB8DDXAbks-"
      },
      "source": [
        "Passenger_Baggage_Count"
      ]
    },
    {
      "cell_type": "code",
      "metadata": {
        "colab_type": "code",
        "id": "Lvz2rSdObn9j",
        "colab": {
          "base_uri": "https://localhost:8080/",
          "height": 301
        },
        "outputId": "aca16b40-4723-40f2-8a74-1a8de74d0377"
      },
      "source": [
        "sns.barplot(x='Passenger_Baggage_Count',y='Operation_Count',data=train_df)"
      ],
      "execution_count": 67,
      "outputs": [
        {
          "output_type": "execute_result",
          "data": {
            "text/plain": [
              "<matplotlib.axes._subplots.AxesSubplot at 0x7f42bcb85e80>"
            ]
          },
          "metadata": {
            "tags": []
          },
          "execution_count": 67
        },
        {
          "output_type": "display_data",
          "data": {
            "image/png": "[encoded data removed]",
            "text/plain": [
              "<Figure size 432x288 with 1 Axes>"
            ]
          },
          "metadata": {
            "tags": []
          }
        }
      ]
    },
    {
      "cell_type": "markdown",
      "metadata": {
        "colab_type": "text",
        "id": "RkUq0XfqewHD"
      },
      "source": [
        "New feature is generated for lightly flying passengers since this case seems like a predictor for the operation count."
      ]
    },
    {
      "cell_type": "code",
      "metadata": {
        "colab_type": "code",
        "id": "i2-fQZQSeH-w",
        "colab": {
          "base_uri": "https://localhost:8080/",
          "height": 301
        },
        "outputId": "890e7636-d39c-4860-ca7a-956b7367ee05"
      },
      "source": [
        "train_df['Fly_Light'] = np.where(train_df['Passenger_Baggage_Count']==0, 1, 0)\n",
        "result_df['Fly_Light'] = np.where(result_df['Passenger_Baggage_Count']==0, 1, 0)\n",
        "sns.barplot(x='Fly_Light',y='Operation_Count',data=train_df)"
      ],
      "execution_count": 68,
      "outputs": [
        {
          "output_type": "execute_result",
          "data": {
            "text/plain": [
              "<matplotlib.axes._subplots.AxesSubplot at 0x7f42bcb30358>"
            ]
          },
          "metadata": {
            "tags": []
          },
          "execution_count": 68
        },
        {
          "output_type": "display_data",
          "data": {
            "image/png": "[encoded data removed]",
            "text/plain": [
              "<Figure size 432x288 with 1 Axes>"
            ]
          },
          "metadata": {
            "tags": []
          }
        }
      ]
    },
    {
      "cell_type": "code",
      "metadata": {
        "id": "NV9vzvZ_ycDT",
        "colab_type": "code",
        "colab": {}
      },
      "source": [
        "plt.scatter(train_df['Fly_Light'], train_df['Passenger_Baggage_Count'])"
      ],
      "execution_count": 0,
      "outputs": []
    },
    {
      "cell_type": "code",
      "metadata": {
        "colab_type": "code",
        "id": "HhFEa_YTctDg",
        "colab": {
          "base_uri": "https://localhost:8080/",
          "height": 301
        },
        "outputId": "ce0f6484-70b2-40ea-c19f-e6f8e04d21c6"
      },
      "source": [
        "sns.distplot(train_df['Passenger_Baggage_Weight'])"
      ],
      "execution_count": 69,
      "outputs": [
        {
          "output_type": "execute_result",
          "data": {
            "text/plain": [
              "<matplotlib.axes._subplots.AxesSubplot at 0x7f42cf5c5a20>"
            ]
          },
          "metadata": {
            "tags": []
          },
          "execution_count": 69
        },
        {
          "output_type": "display_data",
          "data": {
            "image/png": "[encoded data removed]",
            "text/plain": [
              "<Figure size 432x288 with 1 Axes>"
            ]
          },
          "metadata": {
            "tags": []
          }
        }
      ]
    },
    {
      "cell_type": "markdown",
      "metadata": {
        "colab_type": "text",
        "id": "ljbwi0pUiLYp"
      },
      "source": [
        "## Feature Importance\n",
        "\n",
        "Since no strong correlation with the target is found within the data, an automatic feature selection method is employed. Light GBM, is a greadient boosted tree based algorithm. Differing from other three based algorithms, it grows the trees vertically, i.e. it chooses the leaf with maximum loss and grows the tree from there. Details of this algorithm can be found in references."
      ]
    },
    {
      "cell_type": "code",
      "metadata": {
        "colab_type": "code",
        "id": "5C723jIGnITf",
        "colab": {}
      },
      "source": [
        "import lightgbm as lgb\n",
        "\n",
        "#train_onehot = train_onehot.drop(columns = [\"Departure_YMD_LMT\", \"Operation_YMD_LMT\", \"Operation_Initials\", \"Operation_Airport\"], axis =1)\n",
        "target = train_onehot[\"Operation_Count\"]\n",
        "train = train_onehot.drop([\"Operation_Count\"], axis = 1)\n",
        "#lightGBM model fit\n",
        "gbm = lgb.LGBMRegressor()\n",
        "gbm.fit(train, target)\n",
        "gbm.booster_.feature_importance()\n",
        "\n",
        "# importance of each attribute\n",
        "fea_imp_ = pd.DataFrame({'cols':train.columns, 'fea_imp':gbm.feature_importances_})\n",
        "fea_imp_.loc[fea_imp_.fea_imp > 0].sort_values(by=['fea_imp'], ascending = False)"
      ],
      "execution_count": 0,
      "outputs": []
    },
    {
      "cell_type": "markdown",
      "metadata": {
        "colab_type": "text",
        "id": "5SfWVU9Vm568"
      },
      "source": [
        "Feature Scaling of Numerical Columns"
      ]
    },
    {
      "cell_type": "markdown",
      "metadata": {
        "colab_type": "text",
        "id": "JO2xXD7aF3Rs"
      },
      "source": [
        "## References\n",
        "\n",
        "\n",
        "1.   [Impute Missing Values](https://jamesrledoux.com/code/imputation)\n",
        "2.   [Is it better to drop or impute values from data sets when applying ML, or would it be better to label them as 'missing' for categorical variables?](https://www.quora.com/Is-it-better-to-drop-or-impute-values-from-data-sets-when-applying-ML-or-would-it-be-better-to-label-them-as-missing-for-categorical-variables)\n",
        "\n"
      ]
    },
    {
      "cell_type": "code",
      "metadata": {
        "id": "KY4CPcyvy-8l",
        "colab_type": "code",
        "colab": {}
      },
      "source": [
        ""
      ],
      "execution_count": 0,
      "outputs": []
    },
    {
      "cell_type": "code",
      "metadata": {
        "id": "M5YMG0aSx8FV",
        "colab_type": "code",
        "colab": {}
      },
      "source": [
        "import pandas as pd\n",
        "import numpy as np\n",
        "from scipy import stats\n",
        "from datetime import datetime\n",
        "from sklearn import preprocessing\n",
        "from sklearn.model_selection import KFold\n",
        "from sklearn.linear_model import LinearRegression\n",
        "import matplotlib.pyplot as plt"
      ],
      "execution_count": 0,
      "outputs": []
    },
    {
      "cell_type": "code",
      "metadata": {
        "id": "cYgmtJel2GzN",
        "colab_type": "code",
        "colab": {
          "base_uri": "https://localhost:8080/",
          "height": 700
        },
        "outputId": "32ce58d8-b113-4785-b6a4-574d989c753b"
      },
      "source": [
        "from sklearn import linear_model\n",
        "import statsmodels.api as sm\n",
        "\n",
        "\n",
        "# with sklearn\n",
        "X = train_onehot[['Passenger_Baggage_Count','SWC_FQTV_Member', 'Direct_Flight','Terminal_Number_Flag','SWC_CIP_Passenger','Economy_Class','Early_Check_In_Status_Early','Operation_Initials_Reduced_MK']] # here we have 24variables for multiple regression. If you just want to use one variable for simple linear regression, then use X = df['Interest_Rate'] for example.Alternatively, you may add additional variables within the brackets\n",
        "Y = train_onehot['Operation_Count']\n",
        "\n",
        "\n",
        "regr = linear_model.LinearRegression()\n",
        "regr.fit(X, Y)\n",
        "\n",
        "print('Intercept: \\n', regr.intercept_)\n",
        "print('Coefficients: \\n', regr.coef_)\n",
        "\n",
        "\n",
        "# with statsmodels\n",
        "X = sm.add_constant(X) # adding a constant\n",
        " \n",
        "model = sm.OLS(Y, X).fit()\n",
        "predictions = model.predict(X) \n",
        " \n",
        "print_model = model.summary()\n",
        "print(print_model)\n"
      ],
      "execution_count": 61,
      "outputs": [
        {
          "output_type": "stream",
          "text": [
            "Intercept: \n",
            " 1.1139093548949943\n",
            "Coefficients: \n",
            " [-0.37960778 -0.18604632  0.65824883 -0.54033497 -0.21394783  0.32121028\n",
            "  0.05093326  0.29166834]\n"
          ],
          "name": "stdout"
        },
        {
          "output_type": "stream",
          "text": [
            "/usr/local/lib/python3.6/dist-packages/numpy/core/fromnumeric.py:2389: FutureWarning: Method .ptp is deprecated and will be removed in a future version. Use numpy.ptp instead.\n",
            "  return ptp(axis=axis, out=out, **kwargs)\n"
          ],
          "name": "stderr"
        },
        {
          "output_type": "stream",
          "text": [
            "                            OLS Regression Results                            \n",
            "==============================================================================\n",
            "Dep. Variable:        Operation_Count   R-squared:                       0.059\n",
            "Model:                            OLS   Adj. R-squared:                  0.059\n",
            "Method:                 Least Squares   F-statistic:                     6393.\n",
            "Date:                Sun, 25 Aug 2019   Prob (F-statistic):               0.00\n",
            "Time:                        08:25:21   Log-Likelihood:            -1.7690e+06\n",
            "No. Observations:              808696   AIC:                         3.538e+06\n",
            "Df Residuals:                  808687   BIC:                         3.538e+06\n",
            "Df Model:                           8                                         \n",
            "Covariance Type:            nonrobust                                         \n",
            "=================================================================================================\n",
            "                                    coef    std err          t      P>|t|      [0.025      0.975]\n",
            "-------------------------------------------------------------------------------------------------\n",
            "const                             1.1139      0.012     92.524      0.000       1.090       1.138\n",
            "Passenger_Baggage_Count          -0.3796      0.003   -149.407      0.000      -0.385      -0.375\n",
            "SWC_FQTV_Member                  -0.1860      0.006    -33.026      0.000      -0.197      -0.175\n",
            "Direct_Flight                     0.6582      0.005    134.962      0.000       0.649       0.668\n",
            "Terminal_Number_Flag             -0.5403      0.008    -64.437      0.000      -0.557      -0.524\n",
            "SWC_CIP_Passenger                -0.2139      0.008    -26.751      0.000      -0.230      -0.198\n",
            "Economy_Class                     0.3212      0.011     28.525      0.000       0.299       0.343\n",
            "Early_Check_In_Status_Early       0.0509      0.007      7.304      0.000       0.037       0.065\n",
            "Operation_Initials_Reduced_MK     0.2917      0.007     43.988      0.000       0.279       0.305\n",
            "==============================================================================\n",
            "Omnibus:                  1335553.936   Durbin-Watson:                   2.002\n",
            "Prob(Omnibus):                  0.000   Jarque-Bera (JB):       1646079117.753\n",
            "Skew:                          10.983   Prob(JB):                         0.00\n",
            "Kurtosis:                     222.929   Cond. No.                         12.5\n",
            "==============================================================================\n",
            "\n",
            "Warnings:\n",
            "[1] Standard Errors assume that the covariance matrix of the errors is correctly specified.\n"
          ],
          "name": "stdout"
        }
      ]
    }
  ]
}