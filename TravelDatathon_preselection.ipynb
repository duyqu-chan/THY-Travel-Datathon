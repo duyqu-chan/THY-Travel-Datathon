{
  "nbformat": 4,
  "nbformat_minor": 0,
  "metadata": {
    "colab": {
      "name": "TravelDatathon_preselection.ipynb",
      "version": "0.3.2",
      "provenance": [],
      "collapsed_sections": [],
      "machine_shape": "hm",
      "include_colab_link": true
    },
    "kernelspec": {
      "name": "python3",
      "display_name": "Python 3"
    }
  },
  "cells": [
    {
      "cell_type": "markdown",
      "metadata": {
        "id": "view-in-github",
        "colab_type": "text"
      },
      "source": [
        "<a href=\"https://colab.research.google.com/github/duyqu-chan/THY-Travel-Datathon/blob/master/TravelDatathon_preselection.ipynb\" target=\"_parent\"><img src=\"https://colab.research.google.com/assets/colab-badge.svg\" alt=\"Open In Colab\"/></a>"
      ]
    },
    {
      "cell_type": "markdown",
      "metadata": {
        "id": "d6umBn88WlMy",
        "colab_type": "text"
      },
      "source": [
        "#THY Travel Datathon Preselection Case Study\n",
        "\n",
        "by Duygu Can, Meriç Pakkan, Neslihan Oflaz, Ahad Khaleghi Ardabili, Akın Erdem\n",
        "\n",
        "\n",
        "Flying passengers can check-in through the web site, applications, kiosks and counters. In this case study content, the train data including the number of seven-month passenger check-in operations is provided. We want you to estimate the number of channels (column Operation_Count) in the csv file attached."
      ]
    },
    {
      "cell_type": "markdown",
      "metadata": {
        "id": "eG0UfrxPXz_H",
        "colab_type": "text"
      },
      "source": [
        "Mount drive to load the data:"
      ]
    },
    {
      "cell_type": "code",
      "metadata": {
        "id": "XsobMdDBWfjX",
        "colab_type": "code",
        "outputId": "b09b4860-08fa-4ef1-942a-a0252656f09e",
        "colab": {
          "base_uri": "https://localhost:8080/",
          "height": 34
        }
      },
      "source": [
        "# Run this cell to mount your Google Drive.\n",
        "from google.colab import drive\n",
        "drive.mount('/content/drive')"
      ],
      "execution_count": 1,
      "outputs": [
        {
          "output_type": "stream",
          "text": [
            "Drive already mounted at /content/drive; to attempt to forcibly remount, call drive.mount(\"/content/drive\", force_remount=True).\n"
          ],
          "name": "stdout"
        }
      ]
    },
    {
      "cell_type": "markdown",
      "metadata": {
        "id": "0kLlbk20ZyIq",
        "colab_type": "text"
      },
      "source": [
        "## Dataset Expolaration"
      ]
    },
    {
      "cell_type": "markdown",
      "metadata": {
        "id": "SCQudbprX5pl",
        "colab_type": "text"
      },
      "source": [
        "Upload the data by reading provided .csv files from Google Drive (change path if needed). There are 808696 samples in the training and 121921 instances in the test sets. Each has 23 features."
      ]
    },
    {
      "cell_type": "code",
      "metadata": {
        "id": "WmZbEAnwYJj6",
        "colab_type": "code",
        "outputId": "d03588c5-70e3-4699-debb-2b6dc58cca4a",
        "colab": {
          "base_uri": "https://localhost:8080/",
          "height": 258
        }
      },
      "source": [
        "import pandas as pd\n",
        "train_df = pd.read_csv(\"/content/drive/My Drive/Travel Datathon/Assessment Data/Assessment Train Data.csv\")\n",
        "result_df = pd.read_csv(\"/content/drive/My Drive/Travel Datathon/Assessment Data/Assessment Result File.csv\")\n",
        "print(train_df.shape)\n",
        "print(result_df.shape)\n",
        "train_df.head()"
      ],
      "execution_count": 2,
      "outputs": [
        {
          "output_type": "stream",
          "text": [
            "(808696, 23)\n",
            "(121921, 23)\n"
          ],
          "name": "stdout"
        },
        {
          "output_type": "execute_result",
          "data": {
            "text/html": [
              "<div>\n",
              "<style scoped>\n",
              "    .dataframe tbody tr th:only-of-type {\n",
              "        vertical-align: middle;\n",
              "    }\n",
              "\n",
              "    .dataframe tbody tr th {\n",
              "        vertical-align: top;\n",
              "    }\n",
              "\n",
              "    .dataframe thead th {\n",
              "        text-align: right;\n",
              "    }\n",
              "</style>\n",
              "<table border=\"1\" class=\"dataframe\">\n",
              "  <thead>\n",
              "    <tr style=\"text-align: right;\">\n",
              "      <th></th>\n",
              "      <th>Departure_YMD_LMT</th>\n",
              "      <th>Operation_YMD_LMT</th>\n",
              "      <th>Departure_Airport</th>\n",
              "      <th>Operation_Airport</th>\n",
              "      <th>Terminal_Number</th>\n",
              "      <th>Terminal_Name</th>\n",
              "      <th>Operation_Initials</th>\n",
              "      <th>Operation_Sonic_Code</th>\n",
              "      <th>Operation_Channel</th>\n",
              "      <th>Passenger_Title</th>\n",
              "      <th>Passenger_Gender</th>\n",
              "      <th>Inbound_Departure_Airport</th>\n",
              "      <th>Outbound_Arrival_Airport</th>\n",
              "      <th>SWC_FLY</th>\n",
              "      <th>Cabin_Class</th>\n",
              "      <th>SWC_FQTV_Member</th>\n",
              "      <th>Passenger_Baggage_Count</th>\n",
              "      <th>Passenger_Baggage_Weight</th>\n",
              "      <th>SWC_Staff</th>\n",
              "      <th>SWC_CIP_Passenger</th>\n",
              "      <th>SWC_VIP_Passenger</th>\n",
              "      <th>SWC_Has_Infant</th>\n",
              "      <th>Operation_Count</th>\n",
              "    </tr>\n",
              "  </thead>\n",
              "  <tbody>\n",
              "    <tr>\n",
              "      <th>0</th>\n",
              "      <td>20190326</td>\n",
              "      <td>20190326</td>\n",
              "      <td>KDT</td>\n",
              "      <td>KDT</td>\n",
              "      <td>?</td>\n",
              "      <td>032363</td>\n",
              "      <td>KS</td>\n",
              "      <td>?</td>\n",
              "      <td>QC</td>\n",
              "      <td>MISTER</td>\n",
              "      <td>M</td>\n",
              "      <td>IST</td>\n",
              "      <td>?</td>\n",
              "      <td>1</td>\n",
              "      <td>Y</td>\n",
              "      <td>1</td>\n",
              "      <td>0</td>\n",
              "      <td>0</td>\n",
              "      <td>0</td>\n",
              "      <td>1</td>\n",
              "      <td>0</td>\n",
              "      <td>0</td>\n",
              "      <td>1</td>\n",
              "    </tr>\n",
              "    <tr>\n",
              "      <th>1</th>\n",
              "      <td>20180321</td>\n",
              "      <td>20180321</td>\n",
              "      <td>KDT</td>\n",
              "      <td>KDT</td>\n",
              "      <td>?</td>\n",
              "      <td>03F960</td>\n",
              "      <td>KS</td>\n",
              "      <td>?</td>\n",
              "      <td>QC</td>\n",
              "      <td>MISTER</td>\n",
              "      <td>M</td>\n",
              "      <td>?</td>\n",
              "      <td>KDT</td>\n",
              "      <td>1</td>\n",
              "      <td>Y</td>\n",
              "      <td>1</td>\n",
              "      <td>0</td>\n",
              "      <td>0</td>\n",
              "      <td>0</td>\n",
              "      <td>1</td>\n",
              "      <td>0</td>\n",
              "      <td>0</td>\n",
              "      <td>1</td>\n",
              "    </tr>\n",
              "    <tr>\n",
              "      <th>2</th>\n",
              "      <td>20190322</td>\n",
              "      <td>20190322</td>\n",
              "      <td>KDT</td>\n",
              "      <td>KDT</td>\n",
              "      <td>?</td>\n",
              "      <td>03AA2P</td>\n",
              "      <td>KS</td>\n",
              "      <td>Y011161</td>\n",
              "      <td>QC</td>\n",
              "      <td>MISTER</td>\n",
              "      <td>M</td>\n",
              "      <td>?</td>\n",
              "      <td>?</td>\n",
              "      <td>1</td>\n",
              "      <td>Y</td>\n",
              "      <td>0</td>\n",
              "      <td>0</td>\n",
              "      <td>0</td>\n",
              "      <td>0</td>\n",
              "      <td>0</td>\n",
              "      <td>0</td>\n",
              "      <td>0</td>\n",
              "      <td>1</td>\n",
              "    </tr>\n",
              "    <tr>\n",
              "      <th>3</th>\n",
              "      <td>20180515</td>\n",
              "      <td>20180515</td>\n",
              "      <td>KDT</td>\n",
              "      <td>KDT</td>\n",
              "      <td>?</td>\n",
              "      <td>0353D0</td>\n",
              "      <td>MK</td>\n",
              "      <td>?</td>\n",
              "      <td>TS</td>\n",
              "      <td>MISTER</td>\n",
              "      <td>M</td>\n",
              "      <td>?</td>\n",
              "      <td>?</td>\n",
              "      <td>1</td>\n",
              "      <td>Y</td>\n",
              "      <td>1</td>\n",
              "      <td>0</td>\n",
              "      <td>0</td>\n",
              "      <td>0</td>\n",
              "      <td>1</td>\n",
              "      <td>0</td>\n",
              "      <td>0</td>\n",
              "      <td>2</td>\n",
              "    </tr>\n",
              "    <tr>\n",
              "      <th>4</th>\n",
              "      <td>20190420</td>\n",
              "      <td>20190420</td>\n",
              "      <td>KDT</td>\n",
              "      <td>KDT</td>\n",
              "      <td>?</td>\n",
              "      <td>03F902</td>\n",
              "      <td>KS</td>\n",
              "      <td>Y013437</td>\n",
              "      <td>QC</td>\n",
              "      <td>MISTER</td>\n",
              "      <td>M</td>\n",
              "      <td>?</td>\n",
              "      <td>?</td>\n",
              "      <td>1</td>\n",
              "      <td>Y</td>\n",
              "      <td>0</td>\n",
              "      <td>0</td>\n",
              "      <td>0</td>\n",
              "      <td>1</td>\n",
              "      <td>0</td>\n",
              "      <td>0</td>\n",
              "      <td>0</td>\n",
              "      <td>1</td>\n",
              "    </tr>\n",
              "  </tbody>\n",
              "</table>\n",
              "</div>"
            ],
            "text/plain": [
              "   Departure_YMD_LMT  Operation_YMD_LMT  ... SWC_Has_Infant Operation_Count\n",
              "0           20190326           20190326  ...              0               1\n",
              "1           20180321           20180321  ...              0               1\n",
              "2           20190322           20190322  ...              0               1\n",
              "3           20180515           20180515  ...              0               2\n",
              "4           20190420           20190420  ...              0               1\n",
              "\n",
              "[5 rows x 23 columns]"
            ]
          },
          "metadata": {
            "tags": []
          },
          "execution_count": 2
        }
      ]
    },
    {
      "cell_type": "markdown",
      "metadata": {
        "id": "4ZY-nm_npgp3",
        "colab_type": "text"
      },
      "source": [
        "Check what data types we have:"
      ]
    },
    {
      "cell_type": "code",
      "metadata": {
        "id": "GLxegNa1pd8G",
        "colab_type": "code",
        "outputId": "59e1aca7-de48-4496-ec0f-f315b3409feb",
        "colab": {
          "base_uri": "https://localhost:8080/",
          "height": 425
        }
      },
      "source": [
        "train_df.dtypes"
      ],
      "execution_count": 3,
      "outputs": [
        {
          "output_type": "execute_result",
          "data": {
            "text/plain": [
              "Departure_YMD_LMT             int64\n",
              "Operation_YMD_LMT             int64\n",
              "Departure_Airport            object\n",
              "Operation_Airport            object\n",
              "Terminal_Number              object\n",
              "Terminal_Name                object\n",
              "Operation_Initials           object\n",
              "Operation_Sonic_Code         object\n",
              "Operation_Channel            object\n",
              "Passenger_Title              object\n",
              "Passenger_Gender             object\n",
              "Inbound_Departure_Airport    object\n",
              "Outbound_Arrival_Airport     object\n",
              "SWC_FLY                       int64\n",
              "Cabin_Class                  object\n",
              "SWC_FQTV_Member               int64\n",
              "Passenger_Baggage_Count       int64\n",
              "Passenger_Baggage_Weight      int64\n",
              "SWC_Staff                     int64\n",
              "SWC_CIP_Passenger             int64\n",
              "SWC_VIP_Passenger             int64\n",
              "SWC_Has_Infant                int64\n",
              "Operation_Count               int64\n",
              "dtype: object"
            ]
          },
          "metadata": {
            "tags": []
          },
          "execution_count": 3
        }
      ]
    },
    {
      "cell_type": "markdown",
      "metadata": {
        "id": "l4_01rsyCmlL",
        "colab_type": "text"
      },
      "source": [
        "In the *Departure_YMD_LMT* and the *Operation_YMD_LMT* colums, date of departure and date of check is stored so it is convenient to convert them to date time objects."
      ]
    },
    {
      "cell_type": "code",
      "metadata": {
        "id": "JU_XBMXRDqOZ",
        "colab_type": "code",
        "colab": {}
      },
      "source": [
        "train_df['Departure_YMD_LMT'] = pd.to_datetime(train_df['Departure_YMD_LMT'], format='%Y%m%d')\n",
        "train_df['Operation_YMD_LMT'] = pd.to_datetime(train_df['Operation_YMD_LMT'], format='%Y%m%d')\n",
        "result_df['Departure_YMD_LMT'] = pd.to_datetime(result_df['Departure_YMD_LMT'], format='%Y%m%d')\n",
        "result_df['Operation_YMD_LMT'] = pd.to_datetime(result_df['Operation_YMD_LMT'], format='%Y%m%d')"
      ],
      "execution_count": 0,
      "outputs": []
    },
    {
      "cell_type": "code",
      "metadata": {
        "id": "Gul7qn8ZEW4Y",
        "colab_type": "code",
        "outputId": "b41be0c9-b318-42ea-d462-966cb68a8d16",
        "colab": {
          "base_uri": "https://localhost:8080/",
          "height": 425
        }
      },
      "source": [
        "train_df.dtypes"
      ],
      "execution_count": 5,
      "outputs": [
        {
          "output_type": "execute_result",
          "data": {
            "text/plain": [
              "Departure_YMD_LMT            datetime64[ns]\n",
              "Operation_YMD_LMT            datetime64[ns]\n",
              "Departure_Airport                    object\n",
              "Operation_Airport                    object\n",
              "Terminal_Number                      object\n",
              "Terminal_Name                        object\n",
              "Operation_Initials                   object\n",
              "Operation_Sonic_Code                 object\n",
              "Operation_Channel                    object\n",
              "Passenger_Title                      object\n",
              "Passenger_Gender                     object\n",
              "Inbound_Departure_Airport            object\n",
              "Outbound_Arrival_Airport             object\n",
              "SWC_FLY                               int64\n",
              "Cabin_Class                          object\n",
              "SWC_FQTV_Member                       int64\n",
              "Passenger_Baggage_Count               int64\n",
              "Passenger_Baggage_Weight              int64\n",
              "SWC_Staff                             int64\n",
              "SWC_CIP_Passenger                     int64\n",
              "SWC_VIP_Passenger                     int64\n",
              "SWC_Has_Infant                        int64\n",
              "Operation_Count                       int64\n",
              "dtype: object"
            ]
          },
          "metadata": {
            "tags": []
          },
          "execution_count": 5
        }
      ]
    },
    {
      "cell_type": "code",
      "metadata": {
        "id": "OdDOiwuGFerU",
        "colab_type": "code",
        "outputId": "c61c9eaf-1ce9-4858-eac6-ca2f5c8af87a",
        "colab": {
          "base_uri": "https://localhost:8080/",
          "height": 317
        }
      },
      "source": [
        "train_df.describe()"
      ],
      "execution_count": 6,
      "outputs": [
        {
          "output_type": "execute_result",
          "data": {
            "text/html": [
              "<div>\n",
              "<style scoped>\n",
              "    .dataframe tbody tr th:only-of-type {\n",
              "        vertical-align: middle;\n",
              "    }\n",
              "\n",
              "    .dataframe tbody tr th {\n",
              "        vertical-align: top;\n",
              "    }\n",
              "\n",
              "    .dataframe thead th {\n",
              "        text-align: right;\n",
              "    }\n",
              "</style>\n",
              "<table border=\"1\" class=\"dataframe\">\n",
              "  <thead>\n",
              "    <tr style=\"text-align: right;\">\n",
              "      <th></th>\n",
              "      <th>SWC_FLY</th>\n",
              "      <th>SWC_FQTV_Member</th>\n",
              "      <th>Passenger_Baggage_Count</th>\n",
              "      <th>Passenger_Baggage_Weight</th>\n",
              "      <th>SWC_Staff</th>\n",
              "      <th>SWC_CIP_Passenger</th>\n",
              "      <th>SWC_VIP_Passenger</th>\n",
              "      <th>SWC_Has_Infant</th>\n",
              "      <th>Operation_Count</th>\n",
              "    </tr>\n",
              "  </thead>\n",
              "  <tbody>\n",
              "    <tr>\n",
              "      <th>count</th>\n",
              "      <td>808696.000000</td>\n",
              "      <td>808696.000000</td>\n",
              "      <td>808696.000000</td>\n",
              "      <td>808696.000000</td>\n",
              "      <td>808696.000000</td>\n",
              "      <td>808696.000000</td>\n",
              "      <td>808696.000000</td>\n",
              "      <td>808696.000000</td>\n",
              "      <td>808696.000000</td>\n",
              "    </tr>\n",
              "    <tr>\n",
              "      <th>mean</th>\n",
              "      <td>0.939140</td>\n",
              "      <td>0.359679</td>\n",
              "      <td>0.655413</td>\n",
              "      <td>8.560313</td>\n",
              "      <td>0.029989</td>\n",
              "      <td>0.148156</td>\n",
              "      <td>0.008257</td>\n",
              "      <td>0.011681</td>\n",
              "      <td>1.534792</td>\n",
              "    </tr>\n",
              "    <tr>\n",
              "      <th>std</th>\n",
              "      <td>0.239073</td>\n",
              "      <td>0.479907</td>\n",
              "      <td>0.963677</td>\n",
              "      <td>13.667213</td>\n",
              "      <td>0.170557</td>\n",
              "      <td>0.355255</td>\n",
              "      <td>0.090489</td>\n",
              "      <td>0.107444</td>\n",
              "      <td>2.223746</td>\n",
              "    </tr>\n",
              "    <tr>\n",
              "      <th>min</th>\n",
              "      <td>0.000000</td>\n",
              "      <td>0.000000</td>\n",
              "      <td>0.000000</td>\n",
              "      <td>0.000000</td>\n",
              "      <td>0.000000</td>\n",
              "      <td>0.000000</td>\n",
              "      <td>0.000000</td>\n",
              "      <td>0.000000</td>\n",
              "      <td>1.000000</td>\n",
              "    </tr>\n",
              "    <tr>\n",
              "      <th>25%</th>\n",
              "      <td>1.000000</td>\n",
              "      <td>0.000000</td>\n",
              "      <td>0.000000</td>\n",
              "      <td>0.000000</td>\n",
              "      <td>0.000000</td>\n",
              "      <td>0.000000</td>\n",
              "      <td>0.000000</td>\n",
              "      <td>0.000000</td>\n",
              "      <td>1.000000</td>\n",
              "    </tr>\n",
              "    <tr>\n",
              "      <th>50%</th>\n",
              "      <td>1.000000</td>\n",
              "      <td>0.000000</td>\n",
              "      <td>0.000000</td>\n",
              "      <td>0.000000</td>\n",
              "      <td>0.000000</td>\n",
              "      <td>0.000000</td>\n",
              "      <td>0.000000</td>\n",
              "      <td>0.000000</td>\n",
              "      <td>1.000000</td>\n",
              "    </tr>\n",
              "    <tr>\n",
              "      <th>75%</th>\n",
              "      <td>1.000000</td>\n",
              "      <td>1.000000</td>\n",
              "      <td>1.000000</td>\n",
              "      <td>15.000000</td>\n",
              "      <td>0.000000</td>\n",
              "      <td>0.000000</td>\n",
              "      <td>0.000000</td>\n",
              "      <td>0.000000</td>\n",
              "      <td>1.000000</td>\n",
              "    </tr>\n",
              "    <tr>\n",
              "      <th>max</th>\n",
              "      <td>1.000000</td>\n",
              "      <td>1.000000</td>\n",
              "      <td>54.000000</td>\n",
              "      <td>970.000000</td>\n",
              "      <td>1.000000</td>\n",
              "      <td>1.000000</td>\n",
              "      <td>1.000000</td>\n",
              "      <td>1.000000</td>\n",
              "      <td>129.000000</td>\n",
              "    </tr>\n",
              "  </tbody>\n",
              "</table>\n",
              "</div>"
            ],
            "text/plain": [
              "             SWC_FLY  SWC_FQTV_Member  ...  SWC_Has_Infant  Operation_Count\n",
              "count  808696.000000    808696.000000  ...   808696.000000    808696.000000\n",
              "mean        0.939140         0.359679  ...        0.011681         1.534792\n",
              "std         0.239073         0.479907  ...        0.107444         2.223746\n",
              "min         0.000000         0.000000  ...        0.000000         1.000000\n",
              "25%         1.000000         0.000000  ...        0.000000         1.000000\n",
              "50%         1.000000         0.000000  ...        0.000000         1.000000\n",
              "75%         1.000000         1.000000  ...        0.000000         1.000000\n",
              "max         1.000000         1.000000  ...        1.000000       129.000000\n",
              "\n",
              "[8 rows x 9 columns]"
            ]
          },
          "metadata": {
            "tags": []
          },
          "execution_count": 6
        }
      ]
    },
    {
      "cell_type": "markdown",
      "metadata": {
        "id": "3gnER73WQam2",
        "colab_type": "text"
      },
      "source": [
        "Convert *object* datatype to category when needed."
      ]
    },
    {
      "cell_type": "code",
      "metadata": {
        "id": "5e52srsIdGMK",
        "colab_type": "code",
        "colab": {}
      },
      "source": [
        "for col_name in train_df.columns:\n",
        "    if train_df[col_name].dtype.name == 'object':\n",
        "        train_df[col_name] = train_df[col_name].astype('category')\n",
        "        result_df[col_name] = result_df[col_name].astype('category')"
      ],
      "execution_count": 0,
      "outputs": []
    },
    {
      "cell_type": "code",
      "metadata": {
        "id": "oPj0AJ3UdmfQ",
        "colab_type": "code",
        "outputId": "e63bad5c-c11e-4ee9-de08-0679b37079d8",
        "colab": {
          "base_uri": "https://localhost:8080/",
          "height": 425
        }
      },
      "source": [
        "train_df.dtypes"
      ],
      "execution_count": 8,
      "outputs": [
        {
          "output_type": "execute_result",
          "data": {
            "text/plain": [
              "Departure_YMD_LMT            datetime64[ns]\n",
              "Operation_YMD_LMT            datetime64[ns]\n",
              "Departure_Airport                  category\n",
              "Operation_Airport                  category\n",
              "Terminal_Number                    category\n",
              "Terminal_Name                      category\n",
              "Operation_Initials                 category\n",
              "Operation_Sonic_Code               category\n",
              "Operation_Channel                  category\n",
              "Passenger_Title                    category\n",
              "Passenger_Gender                   category\n",
              "Inbound_Departure_Airport          category\n",
              "Outbound_Arrival_Airport           category\n",
              "SWC_FLY                               int64\n",
              "Cabin_Class                        category\n",
              "SWC_FQTV_Member                       int64\n",
              "Passenger_Baggage_Count               int64\n",
              "Passenger_Baggage_Weight              int64\n",
              "SWC_Staff                             int64\n",
              "SWC_CIP_Passenger                     int64\n",
              "SWC_VIP_Passenger                     int64\n",
              "SWC_Has_Infant                        int64\n",
              "Operation_Count                       int64\n",
              "dtype: object"
            ]
          },
          "metadata": {
            "tags": []
          },
          "execution_count": 8
        }
      ]
    },
    {
      "cell_type": "markdown",
      "metadata": {
        "id": "O5J9up0-d8bR",
        "colab_type": "text"
      },
      "source": [
        "See the unique levels of the categorical columns. *Departure Airport* has only one value called \"KDT\". So, it is not informative and should be dropped."
      ]
    },
    {
      "cell_type": "code",
      "metadata": {
        "id": "kEzqrNWEYlL-",
        "colab_type": "code",
        "outputId": "f407984c-0eec-4cdd-916e-e336e598c0f3",
        "colab": {
          "base_uri": "https://localhost:8080/",
          "height": 561
        }
      },
      "source": [
        "for col_name in train_df.columns:\n",
        "    if train_df[col_name].dtype.name == 'category':\n",
        "        print(col_name, \":\", train_df[col_name].unique())"
      ],
      "execution_count": 9,
      "outputs": [
        {
          "output_type": "stream",
          "text": [
            "Departure_Airport : [KDT]\n",
            "Categories (1, object): [KDT]\n",
            "Operation_Airport : [KDT, IST, ZKG, EST, GZT, ..., HRK, ODS, SOF, KNN, MNL]\n",
            "Length: 143\n",
            "Categories (143, object): [KDT, IST, ZKG, EST, ..., ODS, SOF, KNN, MNL]\n",
            "Terminal_Number : [?, P1, P2]\n",
            "Categories (3, object): [?, P1, P2]\n",
            "Terminal_Name : [032363, 03F960, 03AA2P, 0353D0, 03F902, ..., 0B19C9, 03554A, 0302CA, 035316, 03550B]\n",
            "Length: 2685\n",
            "Categories (2685, object): [032363, 03F960, 03AA2P, 0353D0, ..., 03554A, 0302CA, 035316, 03550B]\n",
            "Operation_Initials : [KS, MK, SC, EY, Q7, ..., NB, YK, RW, OA, JF]\n",
            "Length: 273\n",
            "Categories (272, object): [KS, MK, SC, EY, ..., YK, RW, OA, JF]\n",
            "Operation_Sonic_Code : [?, Y011161, Y013437, Y027434, Y013171, ..., M025037, Y019509, Y036439, Y015916, Y039203]\n",
            "Length: 1614\n",
            "Categories (1614, object): [?, Y011161, Y013437, Y027434, ..., Y019509, Y036439, Y015916,\n",
            "                            Y039203]\n",
            "Operation_Channel : [QC, TS, JW, TW, TY, ..., CC, BD, IR, IA, QR]\n",
            "Length: 13\n",
            "Categories (13, object): [QC, TS, JW, TW, ..., BD, IR, IA, QR]\n",
            "Passenger_Title : [MISTER, MISS, MISSES, ?, DOCTOR, PROFFESOR]\n",
            "Categories (6, object): [MISTER, MISS, MISSES, ?, DOCTOR, PROFFESOR]\n",
            "Passenger_Gender : [M, F, ?, F/INF, M/INF, C, C/INF]\n",
            "Categories (7, object): [M, F, ?, F/INF, M/INF, C, C/INF]\n",
            "Inbound_Departure_Airport : [IST, ?, EST, SKW, HKM, ..., NDG, VKS, VIE, STY, TRU]\n",
            "Length: 27\n",
            "Categories (27, object): [IST, ?, EST, SKW, ..., VKS, VIE, STY, TRU]\n",
            "Outbound_Arrival_Airport : [?, KDT, KMS, KGP, KJI, ..., SPU, PHX, MKK, KKE, YYN]\n",
            "Length: 363\n",
            "Categories (363, object): [?, KDT, KMS, KGP, ..., PHX, MKK, KKE, YYN]\n",
            "Cabin_Class : [Y, ?, C]\n",
            "Categories (3, object): [Y, ?, C]\n"
          ],
          "name": "stdout"
        }
      ]
    },
    {
      "cell_type": "markdown",
      "metadata": {
        "id": "RMErP_yZRG1y",
        "colab_type": "text"
      },
      "source": [
        "Generate *Operation_Channel_Group* as defined in the pdf file."
      ]
    },
    {
      "cell_type": "code",
      "metadata": {
        "id": "M3l1GzRXF3tu",
        "colab_type": "code",
        "outputId": "2833255e-881c-4638-98e9-321613d2be42",
        "colab": {
          "base_uri": "https://localhost:8080/",
          "height": 34
        }
      },
      "source": [
        "dict = {\"JW\": 'Online',\n",
        "        \"TW\": 'Online',\n",
        "        \"TS\": 'Mobile',\n",
        "        \"JM\": 'Mobile',\n",
        "        \"TY\":\"Counter\",\n",
        "        \"QC\":\"Counter\",\n",
        "        \"SC\":\"Kiosks\",\n",
        "        \"IR\":\"Other\",\n",
        "        \"?\":\"Other\",\n",
        "        \"IA\":\"Other\",\n",
        "        \"BD\":\"Other\",\n",
        "        \"CC\":\"Other\",\n",
        "        \"QR\":\"Other\",\n",
        "        \"QP\":\"Other\",\n",
        "        \"QA\":\"Other\"\n",
        "        }\n",
        "train_df['Operation_Channel_Group'] = train_df['Operation_Channel'].map(dict)\n",
        "train_df['Operation_Channel_Group'].unique()"
      ],
      "execution_count": 10,
      "outputs": [
        {
          "output_type": "execute_result",
          "data": {
            "text/plain": [
              "array(['Counter', 'Mobile', 'Online', 'Kiosks', 'Other'], dtype=object)"
            ]
          },
          "metadata": {
            "tags": []
          },
          "execution_count": 10
        }
      ]
    },
    {
      "cell_type": "markdown",
      "metadata": {
        "id": "d-dpsfiZ0F0B",
        "colab_type": "text"
      },
      "source": [
        "Do the same for the test set."
      ]
    },
    {
      "cell_type": "code",
      "metadata": {
        "id": "NM2QHVLm0Lh8",
        "colab_type": "code",
        "outputId": "ff12fde2-87bf-4655-bf35-8cddb79282c5",
        "colab": {
          "base_uri": "https://localhost:8080/",
          "height": 34
        }
      },
      "source": [
        "result_df['Operation_Channel_Group'] = result_df['Operation_Channel'].map(dict)\n",
        "result_df['Operation_Channel_Group'].unique()"
      ],
      "execution_count": 11,
      "outputs": [
        {
          "output_type": "execute_result",
          "data": {
            "text/plain": [
              "array(['Mobile', 'Counter', 'Online', 'Kiosks', 'Other'], dtype=object)"
            ]
          },
          "metadata": {
            "tags": []
          },
          "execution_count": 11
        }
      ]
    },
    {
      "cell_type": "markdown",
      "metadata": {
        "id": "unO5SdRzycc_",
        "colab_type": "text"
      },
      "source": [
        "### Missing Value Handling\n",
        "\n",
        "Column percentage of null values in the training and test sets are printed below. At first glance,there are only null values in the *Operation Initials* column, however some unknown values are encoded as \"?\" in the datasets."
      ]
    },
    {
      "cell_type": "code",
      "metadata": {
        "id": "uAipyZEz4-sw",
        "colab_type": "code",
        "outputId": "b2c97a72-d009-4894-a2fd-fc0ae42893ea",
        "colab": {
          "base_uri": "https://localhost:8080/",
          "height": 442
        }
      },
      "source": [
        "(train_df.isnull().mean()*100).round(4)"
      ],
      "execution_count": 12,
      "outputs": [
        {
          "output_type": "execute_result",
          "data": {
            "text/plain": [
              "Departure_YMD_LMT            0.0000\n",
              "Operation_YMD_LMT            0.0000\n",
              "Departure_Airport            0.0000\n",
              "Operation_Airport            0.0000\n",
              "Terminal_Number              0.0000\n",
              "Terminal_Name                0.0000\n",
              "Operation_Initials           0.0156\n",
              "Operation_Sonic_Code         0.0000\n",
              "Operation_Channel            0.0000\n",
              "Passenger_Title              0.0000\n",
              "Passenger_Gender             0.0000\n",
              "Inbound_Departure_Airport    0.0000\n",
              "Outbound_Arrival_Airport     0.0000\n",
              "SWC_FLY                      0.0000\n",
              "Cabin_Class                  0.0000\n",
              "SWC_FQTV_Member              0.0000\n",
              "Passenger_Baggage_Count      0.0000\n",
              "Passenger_Baggage_Weight     0.0000\n",
              "SWC_Staff                    0.0000\n",
              "SWC_CIP_Passenger            0.0000\n",
              "SWC_VIP_Passenger            0.0000\n",
              "SWC_Has_Infant               0.0000\n",
              "Operation_Count              0.0000\n",
              "Operation_Channel_Group      0.0000\n",
              "dtype: float64"
            ]
          },
          "metadata": {
            "tags": []
          },
          "execution_count": 12
        }
      ]
    },
    {
      "cell_type": "code",
      "metadata": {
        "id": "Z9h6GsY65I5L",
        "colab_type": "code",
        "outputId": "8f99f610-fd84-4754-d319-105153421892",
        "colab": {
          "base_uri": "https://localhost:8080/",
          "height": 442
        }
      },
      "source": [
        "(result_df.isnull().mean()*100).round(4)"
      ],
      "execution_count": 13,
      "outputs": [
        {
          "output_type": "execute_result",
          "data": {
            "text/plain": [
              "Departure_YMD_LMT            0.0000\n",
              "Operation_YMD_LMT            0.0000\n",
              "Departure_Airport            0.0000\n",
              "Operation_Airport            0.0000\n",
              "Terminal_Number              0.0000\n",
              "Terminal_Name                0.0000\n",
              "Operation_Initials           0.0033\n",
              "Operation_Sonic_Code         0.0000\n",
              "Operation_Channel            0.0000\n",
              "Passenger_Title              0.0000\n",
              "Passenger_Gender             0.0000\n",
              "Inbound_Departure_Airport    0.0000\n",
              "Outbound_Arrival_Airport     0.0000\n",
              "SWC_FLY                      0.0000\n",
              "Cabin_Class                  0.0000\n",
              "SWC_FQTV_Member              0.0000\n",
              "Passenger_Baggage_Count      0.0000\n",
              "Passenger_Baggage_Weight     0.0000\n",
              "SWC_Staff                    0.0000\n",
              "SWC_CIP_Passenger            0.0000\n",
              "SWC_VIP_Passenger            0.0000\n",
              "SWC_Has_Infant               0.0000\n",
              "Operation_Count              0.0000\n",
              "Operation_Channel_Group      0.0000\n",
              "dtype: float64"
            ]
          },
          "metadata": {
            "tags": []
          },
          "execution_count": 13
        }
      ]
    },
    {
      "cell_type": "markdown",
      "metadata": {
        "id": "jLbD741tyefs",
        "colab_type": "text"
      },
      "source": [
        "Column based \"?\" occurance percentages in the training set:"
      ]
    },
    {
      "cell_type": "code",
      "metadata": {
        "id": "7CHS7T5Q6k_a",
        "colab_type": "code",
        "outputId": "a0fa41cb-bb6b-40bc-95d1-3891ff61ec71",
        "colab": {
          "base_uri": "https://localhost:8080/",
          "height": 170
        }
      },
      "source": [
        "import numpy as np\n",
        "def unknown_perc(df):\n",
        "  print(\"Column Name\\t Percentage\")\n",
        "  for col_name in df.columns:\n",
        "        if df[col_name].dtype.name == 'category' and (df[col_name] == \"?\").any():\n",
        "          count = df[col_name].value_counts(dropna=False)['?']\n",
        "          percentage = (count/len(df)*100).round(3)\n",
        "          print(col_name,\"\\t\", percentage)\n",
        "  return\n",
        "        \n",
        "unknown_perc(train_df)"
      ],
      "execution_count": 14,
      "outputs": [
        {
          "output_type": "stream",
          "text": [
            "Column Name\t Percentage\n",
            "Terminal_Number \t 90.618\n",
            "Operation_Sonic_Code \t 78.927\n",
            "Operation_Channel \t 2.112\n",
            "Passenger_Title \t 2.331\n",
            "Passenger_Gender \t 3.902\n",
            "Inbound_Departure_Airport \t 91.338\n",
            "Outbound_Arrival_Airport \t 64.422\n",
            "Cabin_Class \t 3.409\n"
          ],
          "name": "stdout"
        }
      ]
    },
    {
      "cell_type": "markdown",
      "metadata": {
        "id": "6AM6L2Bpyw-G",
        "colab_type": "text"
      },
      "source": [
        "Column based \"?\" occurance percentages in the test set:"
      ]
    },
    {
      "cell_type": "code",
      "metadata": {
        "id": "2UDEAA0LxKfX",
        "colab_type": "code",
        "outputId": "aa513ebc-72af-4e2c-f9d8-f9e261960cd6",
        "colab": {
          "base_uri": "https://localhost:8080/",
          "height": 153
        }
      },
      "source": [
        "unknown_perc(result_df)"
      ],
      "execution_count": 15,
      "outputs": [
        {
          "output_type": "stream",
          "text": [
            "Column Name\t Percentage\n",
            "Terminal_Number \t 91.39\n",
            "Operation_Sonic_Code \t 54.39\n",
            "Operation_Channel \t 0.871\n",
            "Passenger_Title \t 2.762\n",
            "Passenger_Gender \t 0.076\n",
            "Inbound_Departure_Airport \t 94.52\n",
            "Outbound_Arrival_Airport \t 65.008\n"
          ],
          "name": "stdout"
        }
      ]
    },
    {
      "cell_type": "markdown",
      "metadata": {
        "id": "fkRjgKgzCFbu",
        "colab_type": "text"
      },
      "source": [
        "#### Generating Flags\n",
        "\n",
        "\n",
        "Let's transform Operation_Sonic_Code to Operation_Sonic_Code_Flag and Terminal_Name to Terminal_Name_Flag in order to see if these variables are null or not. We choose to do this since there are so many different classes for these variables."
      ]
    },
    {
      "cell_type": "code",
      "metadata": {
        "id": "b4PaXdgyEfUX",
        "colab_type": "code",
        "colab": {}
      },
      "source": [
        "train_df['Operation_Sonic_Code_Flag'] = np.where(train_df['Operation_Sonic_Code']=='?', '0', '1')\n",
        "train_df['Operation_Sonic_Code_Flag'] = train_df['Operation_Sonic_Code_Flag'].astype(int)\n",
        "train_df['Terminal_Number_Flag'] = np.where(train_df['Terminal_Number']=='?', '0', '1')\n",
        "train_df['Terminal_Number_Flag'] = train_df['Terminal_Number_Flag'].astype(int)\n",
        "result_df['Operation_Sonic_Code_Flag'] = np.where(result_df['Operation_Sonic_Code']=='?', '0', '1')\n",
        "result_df['Operation_Sonic_Code_Flag'] = result_df['Operation_Sonic_Code_Flag'].astype(int)\n",
        "result_df['Terminal_Number_Flag'] = np.where(result_df['Terminal_Number']=='?', '0', '1')\n",
        "result_df['Terminal_Number_Flag'] = result_df['Terminal_Number_Flag'].astype(int)"
      ],
      "execution_count": 0,
      "outputs": []
    },
    {
      "cell_type": "markdown",
      "metadata": {
        "id": "FFsQhdoCmip7",
        "colab_type": "text"
      },
      "source": [
        "Convert \"?\" to NA when needed. Apart from *Inbound_Departure_Airport* and *Outbound_Arrival_Airport*, \"?\" is printed for unknown values (missing). For those specific columns \"?\" means that there is no inbound or outbound flight (direct flight), so they are encoded as a seperate class called *Unknown*."
      ]
    },
    {
      "cell_type": "code",
      "metadata": {
        "id": "_f4FdP8Ymaxw",
        "colab_type": "code",
        "colab": {}
      },
      "source": [
        "import numpy as np\n",
        "train_df['Terminal_Number'] = train_df['Terminal_Number'].replace('?', np.nan)\n",
        "train_df['Operation_Channel'] = train_df['Operation_Channel'].replace('?', np.nan)\n",
        "train_df['Passenger_Title'] = train_df['Passenger_Title'].replace('?', np.nan)\n",
        "train_df['Passenger_Gender'] = train_df['Passenger_Gender'].replace('?', np.nan)\n",
        "train_df['Inbound_Departure_Airport'] = train_df['Inbound_Departure_Airport'].replace('?', \"Unknown\")\n",
        "train_df['Outbound_Arrival_Airport'] = train_df['Outbound_Arrival_Airport'].replace('?', \"Unknown\")\n",
        "train_df['Cabin_Class'] = train_df['Cabin_Class'].replace('?', np.nan)\n",
        "train_df[\"Operation_Initials\"] = train_df[\"Operation_Initials\"].replace(\"?\",np.nan)\n",
        "train_df[\"Operation_Sonic_Code\"] = train_df[\"Operation_Sonic_Code\"].replace(\"?\",np.nan)\n",
        "\n",
        "result_df['Terminal_Number'] = result_df['Terminal_Number'].replace('?', np.nan)\n",
        "result_df['Operation_Channel'] = result_df['Operation_Channel'].replace('?', np.nan)\n",
        "result_df['Passenger_Title'] = result_df['Passenger_Title'].replace('?', np.nan)\n",
        "result_df['Passenger_Gender'] = result_df['Passenger_Gender'].replace('?', np.nan)\n",
        "result_df['Inbound_Departure_Airport'] = result_df['Inbound_Departure_Airport'].replace('?', \"Unknown\")\n",
        "result_df['Outbound_Arrival_Airport'] = result_df['Outbound_Arrival_Airport'].replace('?', \"Unknown\")\n",
        "result_df['Cabin_Class'] = result_df['Cabin_Class'].replace('?', np.nan)\n",
        "result_df[\"Operation_Initials\"] = train_df[\"Operation_Initials\"].replace(\"?\",np.nan)\n",
        "result_df[\"Operation_Sonic_Code\"] = result_df[\"Operation_Sonic_Code\"].replace(\"?\",np.nan)"
      ],
      "execution_count": 0,
      "outputs": []
    },
    {
      "cell_type": "markdown",
      "metadata": {
        "id": "nplxsMXMAnXY",
        "colab_type": "text"
      },
      "source": [
        "Now, the new missing value percentages for the training set becomes:"
      ]
    },
    {
      "cell_type": "code",
      "metadata": {
        "id": "CwmBM3TkrjrK",
        "colab_type": "code",
        "outputId": "5d31b64f-71aa-496a-d24a-e71dd2385394",
        "colab": {
          "base_uri": "https://localhost:8080/",
          "height": 476
        }
      },
      "source": [
        "(train_df.isnull().mean()*100).round(4)"
      ],
      "execution_count": 18,
      "outputs": [
        {
          "output_type": "execute_result",
          "data": {
            "text/plain": [
              "Departure_YMD_LMT             0.0000\n",
              "Operation_YMD_LMT             0.0000\n",
              "Departure_Airport             0.0000\n",
              "Operation_Airport             0.0000\n",
              "Terminal_Number              90.6176\n",
              "Terminal_Name                 0.0000\n",
              "Operation_Initials            0.0156\n",
              "Operation_Sonic_Code         78.9266\n",
              "Operation_Channel             2.1123\n",
              "Passenger_Title               2.3307\n",
              "Passenger_Gender              3.9025\n",
              "Inbound_Departure_Airport     0.0000\n",
              "Outbound_Arrival_Airport      0.0000\n",
              "SWC_FLY                       0.0000\n",
              "Cabin_Class                   3.4093\n",
              "SWC_FQTV_Member               0.0000\n",
              "Passenger_Baggage_Count       0.0000\n",
              "Passenger_Baggage_Weight      0.0000\n",
              "SWC_Staff                     0.0000\n",
              "SWC_CIP_Passenger             0.0000\n",
              "SWC_VIP_Passenger             0.0000\n",
              "SWC_Has_Infant                0.0000\n",
              "Operation_Count               0.0000\n",
              "Operation_Channel_Group       0.0000\n",
              "Operation_Sonic_Code_Flag     0.0000\n",
              "Terminal_Number_Flag          0.0000\n",
              "dtype: float64"
            ]
          },
          "metadata": {
            "tags": []
          },
          "execution_count": 18
        }
      ]
    },
    {
      "cell_type": "markdown",
      "metadata": {
        "id": "aSMbF8qEA4M7",
        "colab_type": "text"
      },
      "source": [
        "and for the test set the result is:"
      ]
    },
    {
      "cell_type": "code",
      "metadata": {
        "id": "CINMBpV7A8pG",
        "colab_type": "code",
        "outputId": "9745cbb5-ea26-4df7-fd27-fe647e34651f",
        "colab": {
          "base_uri": "https://localhost:8080/",
          "height": 476
        }
      },
      "source": [
        "(result_df.isnull().mean()*100).round(4)"
      ],
      "execution_count": 19,
      "outputs": [
        {
          "output_type": "execute_result",
          "data": {
            "text/plain": [
              "Departure_YMD_LMT             0.0000\n",
              "Operation_YMD_LMT             0.0000\n",
              "Departure_Airport             0.0000\n",
              "Operation_Airport             0.0000\n",
              "Terminal_Number              91.3903\n",
              "Terminal_Name                 0.0000\n",
              "Operation_Initials            0.0180\n",
              "Operation_Sonic_Code         54.3901\n",
              "Operation_Channel             0.8711\n",
              "Passenger_Title               2.7616\n",
              "Passenger_Gender              0.0763\n",
              "Inbound_Departure_Airport     0.0000\n",
              "Outbound_Arrival_Airport      0.0000\n",
              "SWC_FLY                       0.0000\n",
              "Cabin_Class                   0.0000\n",
              "SWC_FQTV_Member               0.0000\n",
              "Passenger_Baggage_Count       0.0000\n",
              "Passenger_Baggage_Weight      0.0000\n",
              "SWC_Staff                     0.0000\n",
              "SWC_CIP_Passenger             0.0000\n",
              "SWC_VIP_Passenger             0.0000\n",
              "SWC_Has_Infant                0.0000\n",
              "Operation_Count               0.0000\n",
              "Operation_Channel_Group       0.0000\n",
              "Operation_Sonic_Code_Flag     0.0000\n",
              "Terminal_Number_Flag          0.0000\n",
              "dtype: float64"
            ]
          },
          "metadata": {
            "tags": []
          },
          "execution_count": 19
        }
      ]
    },
    {
      "cell_type": "markdown",
      "metadata": {
        "id": "2rroaK2-3ruv",
        "colab_type": "text"
      },
      "source": [
        "### Dropping Uninformative Features"
      ]
    },
    {
      "cell_type": "markdown",
      "metadata": {
        "id": "Pe1XXORnVqGy",
        "colab_type": "text"
      },
      "source": [
        "Notice that *Operation Sonic Code*  has a missing value ratio of 79% and for *Terminal Number* column this ratio is even higher (>90%). With a ratio this high, we cannot impute missing values correctly. These columns should be dropped, along with the *Departure_Airport* column.\n"
      ]
    },
    {
      "cell_type": "code",
      "metadata": {
        "id": "w843hKQbB9Bs",
        "colab_type": "code",
        "colab": {}
      },
      "source": [
        "#train_df2 = train_df.copy()\n",
        "#result_df2 = result_df.copy()\n",
        "train_df = train_df.drop(columns = [\"Terminal_Number\", \"Departure_Airport\", \"Operation_Sonic_Code\"])\n",
        "result_df = result_df.drop(columns = [\"Terminal_Number\", \"Departure_Airport\", \"Operation_Sonic_Code\"])"
      ],
      "execution_count": 0,
      "outputs": []
    },
    {
      "cell_type": "markdown",
      "metadata": {
        "id": "egMg7CVHWqy-",
        "colab_type": "text"
      },
      "source": [
        "#### Imputing Passenger Gender\n",
        "\n",
        "First, we used *Passenger Title* to impute missing values in the gender column. We replaced unknown genders whose titles are *MISTER*, *MISS* and *MISSES* with male and females, respectively. Later, we decided *Operation Channel Group* based imputation for the rest. So we grouped the dataframe by this column and found most frequent observations for the *Passenger Gender* column."
      ]
    },
    {
      "cell_type": "code",
      "metadata": {
        "id": "2aqNrg2SCFM7",
        "colab_type": "code",
        "outputId": "706e4940-5640-49db-e78f-ca406f2a93cd",
        "colab": {
          "base_uri": "https://localhost:8080/",
          "height": 34
        }
      },
      "source": [
        "# Replace missing values whose titles are MISTER with M\n",
        "train_df.loc[(train_df.Passenger_Gender.isna() ) & (train_df.Passenger_Title=='MISTER'),\"Passenger_Gender\"] = \"M\"\n",
        "result_df.loc[(result_df.Passenger_Gender.isna() ) & (result_df.Passenger_Title=='MISTER'),\"Passenger_Gender\"] = \"M\"\n",
        "\n",
        "# Replace missing values whose titles are MISS or MISSES with F\n",
        "train_df.loc[(train_df.Passenger_Gender.isna() ) & ((train_df.Passenger_Title=='MISS') | (train_df.Passenger_Title=='MISSES')) ,\"Passenger_Gender\"] = \"F\"\n",
        "result_df.loc[(result_df.Passenger_Gender.isna() ) & ((result_df.Passenger_Title=='MISS') | (result_df.Passenger_Title=='MISSES')) ,\"Passenger_Gender\"] = \"F\"\n",
        "\n",
        "sum(train_df[\"Passenger_Gender\"].isnull())"
      ],
      "execution_count": 21,
      "outputs": [
        {
          "output_type": "execute_result",
          "data": {
            "text/plain": [
              "981"
            ]
          },
          "metadata": {
            "tags": []
          },
          "execution_count": 21
        }
      ]
    },
    {
      "cell_type": "markdown",
      "metadata": {
        "id": "ycXeXhyjIUoL",
        "colab_type": "text"
      },
      "source": [
        "There are 981 missing values left in the gender column. We checked channel group based gender distribution and found that the most frequent gender is male for every channel"
      ]
    },
    {
      "cell_type": "code",
      "metadata": {
        "id": "RO2DoYwAW564",
        "colab_type": "code",
        "outputId": "4bee8660-37bb-42d0-ddfb-4641579f1148",
        "colab": {
          "base_uri": "https://localhost:8080/",
          "height": 136
        }
      },
      "source": [
        "train_df.groupby(\"Operation_Channel_Group\")['Passenger_Gender'].apply(lambda x: x.value_counts().index[0])#.reset_index()"
      ],
      "execution_count": 22,
      "outputs": [
        {
          "output_type": "execute_result",
          "data": {
            "text/plain": [
              "Operation_Channel_Group\n",
              "Counter    M\n",
              "Kiosks     M\n",
              "Mobile     M\n",
              "Online     M\n",
              "Other      M\n",
              "Name: Passenger_Gender, dtype: object"
            ]
          },
          "metadata": {
            "tags": []
          },
          "execution_count": 22
        }
      ]
    },
    {
      "cell_type": "code",
      "metadata": {
        "id": "S038IZzsZeP_",
        "colab_type": "code",
        "outputId": "a5b0288f-995e-4e0e-ba17-983f4544b16f",
        "colab": {
          "base_uri": "https://localhost:8080/",
          "height": 646
        }
      },
      "source": [
        "train_df.groupby(\"Operation_Channel_Group\")['Passenger_Gender'].apply(lambda x: x.value_counts())"
      ],
      "execution_count": 23,
      "outputs": [
        {
          "output_type": "execute_result",
          "data": {
            "text/plain": [
              "Operation_Channel_Group       \n",
              "Counter                  M        237238\n",
              "                         F        140313\n",
              "                         C         11334\n",
              "                         F/INF      1984\n",
              "                         M/INF      1187\n",
              "                         C/INF         6\n",
              "                         ?             0\n",
              "Kiosks                   M         27454\n",
              "                         F         13975\n",
              "                         C          1143\n",
              "                         F/INF       139\n",
              "                         M/INF        99\n",
              "                         C/INF         0\n",
              "                         ?             0\n",
              "Mobile                   M         91209\n",
              "                         F         62979\n",
              "                         C          4621\n",
              "                         F/INF       548\n",
              "                         M/INF       380\n",
              "                         C/INF         0\n",
              "                         ?             0\n",
              "Online                   M        104584\n",
              "                         F         82430\n",
              "                         C          6055\n",
              "                         F/INF       692\n",
              "                         M/INF       408\n",
              "                         C/INF         0\n",
              "                         ?             0\n",
              "Other                    M         10206\n",
              "                         F          8093\n",
              "                         C           487\n",
              "                         F/INF       101\n",
              "                         M/INF        50\n",
              "                         C/INF         0\n",
              "                         ?             0\n",
              "Name: Passenger_Gender, dtype: int64"
            ]
          },
          "metadata": {
            "tags": []
          },
          "execution_count": 23
        }
      ]
    },
    {
      "cell_type": "code",
      "metadata": {
        "id": "NbFrmcungJex",
        "colab_type": "code",
        "outputId": "051663f3-471a-4057-cab4-f2795ad2f6d2",
        "colab": {
          "base_uri": "https://localhost:8080/",
          "height": 391
        }
      },
      "source": [
        "result_df.groupby(\"Operation_Channel_Group\")['Passenger_Gender'].apply(lambda x: x.value_counts())"
      ],
      "execution_count": 24,
      "outputs": [
        {
          "output_type": "execute_result",
          "data": {
            "text/plain": [
              "Operation_Channel_Group   \n",
              "Counter                  M    32131\n",
              "                         F    23568\n",
              "                         C     3107\n",
              "                         ?        0\n",
              "Kiosks                   M     4364\n",
              "                         F     2458\n",
              "                         C      275\n",
              "                         ?        0\n",
              "Mobile                   M    13059\n",
              "                         F    10883\n",
              "                         C     1129\n",
              "                         ?        0\n",
              "Online                   M    14682\n",
              "                         F    13371\n",
              "                         C     1445\n",
              "                         ?        0\n",
              "Other                    M      679\n",
              "                         F      585\n",
              "                         C       92\n",
              "                         ?        0\n",
              "Name: Passenger_Gender, dtype: int64"
            ]
          },
          "metadata": {
            "tags": []
          },
          "execution_count": 24
        }
      ]
    },
    {
      "cell_type": "markdown",
      "metadata": {
        "id": "4_NAbcajX7S_",
        "colab_type": "text"
      },
      "source": [
        "Since most common gender for all channel groups is male, we imputed missing gender values with \"M\"."
      ]
    },
    {
      "cell_type": "code",
      "metadata": {
        "id": "mthkiXm6YOMQ",
        "colab_type": "code",
        "outputId": "3dc814be-7ba5-4357-f3be-00a6e44dab94",
        "colab": {
          "base_uri": "https://localhost:8080/",
          "height": 51
        }
      },
      "source": [
        "train_df['Passenger_Gender'] = train_df['Passenger_Gender'].replace(np.nan, \"M\")\n",
        "train_df['Passenger_Gender'].unique()"
      ],
      "execution_count": 25,
      "outputs": [
        {
          "output_type": "execute_result",
          "data": {
            "text/plain": [
              "[M, F, F/INF, M/INF, C, C/INF]\n",
              "Categories (6, object): [M, F, F/INF, M/INF, C, C/INF]"
            ]
          },
          "metadata": {
            "tags": []
          },
          "execution_count": 25
        }
      ]
    },
    {
      "cell_type": "code",
      "metadata": {
        "id": "UcXgdApsgRJn",
        "colab_type": "code",
        "outputId": "9dede2bf-9d7c-497c-c8a3-306f3ea030e0",
        "colab": {
          "base_uri": "https://localhost:8080/",
          "height": 51
        }
      },
      "source": [
        "result_df['Passenger_Gender'] = train_df['Passenger_Gender'].replace(np.nan, \"M\")\n",
        "result_df['Passenger_Gender'].unique()"
      ],
      "execution_count": 26,
      "outputs": [
        {
          "output_type": "execute_result",
          "data": {
            "text/plain": [
              "[M, F, F/INF, M/INF, C, C/INF]\n",
              "Categories (6, object): [M, F, F/INF, M/INF, C, C/INF]"
            ]
          },
          "metadata": {
            "tags": []
          },
          "execution_count": 26
        }
      ]
    },
    {
      "cell_type": "markdown",
      "metadata": {
        "id": "GsGg4v3wbntJ",
        "colab_type": "text"
      },
      "source": [
        "#### Imputing Passenger Title\n",
        "\n",
        "Again, Operation Channel Group based imputation is employed. \"MISTER\" is most common tittle so we employed all the missin values with that."
      ]
    },
    {
      "cell_type": "code",
      "metadata": {
        "id": "KVG7j7b8eMzB",
        "colab_type": "code",
        "outputId": "9ce5c6a4-4500-4772-d8f1-feb1e6396250",
        "colab": {
          "base_uri": "https://localhost:8080/",
          "height": 561
        }
      },
      "source": [
        "train_df.groupby(\"Operation_Channel_Group\")['Passenger_Title'].apply(lambda x: x.value_counts())"
      ],
      "execution_count": 27,
      "outputs": [
        {
          "output_type": "execute_result",
          "data": {
            "text/plain": [
              "Operation_Channel_Group           \n",
              "Counter                  MISTER       230324\n",
              "                         MISS         107506\n",
              "                         MISSES        42584\n",
              "                         DOCTOR          157\n",
              "                         PROFFESOR        10\n",
              "                         ?                 0\n",
              "Kiosks                   MISTER        26821\n",
              "                         MISS          10749\n",
              "                         MISSES         3910\n",
              "                         DOCTOR            9\n",
              "                         PROFFESOR         1\n",
              "                         ?                 0\n",
              "Mobile                   MISTER        92083\n",
              "                         MISS          48132\n",
              "                         MISSES        17537\n",
              "                         DOCTOR           62\n",
              "                         PROFFESOR         3\n",
              "                         ?                 0\n",
              "Online                   MISTER       105085\n",
              "                         MISS          63692\n",
              "                         MISSES        22288\n",
              "                         DOCTOR           91\n",
              "                         PROFFESOR         5\n",
              "                         ?                 0\n",
              "Other                    MISTER        10353\n",
              "                         MISS           6110\n",
              "                         MISSES         2329\n",
              "                         DOCTOR            6\n",
              "                         PROFFESOR         1\n",
              "                         ?                 0\n",
              "Name: Passenger_Title, dtype: int64"
            ]
          },
          "metadata": {
            "tags": []
          },
          "execution_count": 27
        }
      ]
    },
    {
      "cell_type": "code",
      "metadata": {
        "id": "aEL6pDtTghn-",
        "colab_type": "code",
        "outputId": "663fc7d3-0550-4f34-ecc5-15b83a58ff92",
        "colab": {
          "base_uri": "https://localhost:8080/",
          "height": 561
        }
      },
      "source": [
        "result_df.groupby(\"Operation_Channel_Group\")['Passenger_Title'].apply(lambda x: x.value_counts())"
      ],
      "execution_count": 28,
      "outputs": [
        {
          "output_type": "execute_result",
          "data": {
            "text/plain": [
              "Operation_Channel_Group           \n",
              "Counter                  MISTER       31512\n",
              "                         MISS         20004\n",
              "                         MISSES        5053\n",
              "                         DOCTOR          22\n",
              "                         PROFFESOR        6\n",
              "                         ?                0\n",
              "Kiosks                   MISTER        4260\n",
              "                         MISS          2087\n",
              "                         MISSES         502\n",
              "                         DOCTOR           2\n",
              "                         PROFFESOR        0\n",
              "                         ?                0\n",
              "Mobile                   MISTER       13275\n",
              "                         MISS          9310\n",
              "                         MISSES        2116\n",
              "                         DOCTOR           6\n",
              "                         PROFFESOR        0\n",
              "                         ?                0\n",
              "Online                   MISTER       14972\n",
              "                         MISS         11525\n",
              "                         MISSES        2535\n",
              "                         DOCTOR          11\n",
              "                         PROFFESOR        1\n",
              "                         ?                0\n",
              "Other                    MISTER         724\n",
              "                         MISS           626\n",
              "                         MISSES           5\n",
              "                         PROFFESOR        0\n",
              "                         DOCTOR           0\n",
              "                         ?                0\n",
              "Name: Passenger_Title, dtype: int64"
            ]
          },
          "metadata": {
            "tags": []
          },
          "execution_count": 28
        }
      ]
    },
    {
      "cell_type": "code",
      "metadata": {
        "id": "ZN7ATCdElSgI",
        "colab_type": "code",
        "outputId": "0ae73d65-4a87-4140-afda-8829271dec05",
        "colab": {
          "base_uri": "https://localhost:8080/",
          "height": 51
        }
      },
      "source": [
        "train_df['Passenger_Title'] = train_df['Passenger_Title'].replace(np.nan, \"MISTER\")\n",
        "train_df['Passenger_Title'].unique()"
      ],
      "execution_count": 29,
      "outputs": [
        {
          "output_type": "execute_result",
          "data": {
            "text/plain": [
              "[MISTER, MISS, MISSES, DOCTOR, PROFFESOR]\n",
              "Categories (5, object): [MISTER, MISS, MISSES, DOCTOR, PROFFESOR]"
            ]
          },
          "metadata": {
            "tags": []
          },
          "execution_count": 29
        }
      ]
    },
    {
      "cell_type": "code",
      "metadata": {
        "id": "ZbPfQGIulcFK",
        "colab_type": "code",
        "outputId": "f94ae47f-7111-471f-d6af-2b49887bb20b",
        "colab": {
          "base_uri": "https://localhost:8080/",
          "height": 51
        }
      },
      "source": [
        "result_df['Passenger_Title'] = result_df['Passenger_Title'].replace(np.nan, \"MISTER\")\n",
        "result_df['Passenger_Title'].unique()"
      ],
      "execution_count": 30,
      "outputs": [
        {
          "output_type": "execute_result",
          "data": {
            "text/plain": [
              "[MISS, MISTER, MISSES, DOCTOR, PROFFESOR]\n",
              "Categories (5, object): [MISS, MISTER, MISSES, DOCTOR, PROFFESOR]"
            ]
          },
          "metadata": {
            "tags": []
          },
          "execution_count": 30
        }
      ]
    },
    {
      "cell_type": "markdown",
      "metadata": {
        "id": "cwp0gNe6oc0D",
        "colab_type": "text"
      },
      "source": [
        "#### Imputing Cabin Class\n",
        "Most common class is economy class for all channel groups so we imputed missing values with it."
      ]
    },
    {
      "cell_type": "code",
      "metadata": {
        "id": "IVFNYI92qPs9",
        "colab_type": "code",
        "outputId": "9ceba97a-fca6-4a20-b8b9-ed5872ff40db",
        "colab": {
          "base_uri": "https://localhost:8080/",
          "height": 306
        }
      },
      "source": [
        "train_df.groupby(\"Operation_Channel_Group\")['Cabin_Class'].apply(lambda x: x.value_counts())"
      ],
      "execution_count": 31,
      "outputs": [
        {
          "output_type": "execute_result",
          "data": {
            "text/plain": [
              "Operation_Channel_Group   \n",
              "Counter                  Y    359878\n",
              "                         C     24154\n",
              "                         ?         0\n",
              "Kiosks                   Y     40963\n",
              "                         C       784\n",
              "                         ?         0\n",
              "Mobile                   Y    141832\n",
              "                         C     10066\n",
              "                         ?         0\n",
              "Online                   Y    177436\n",
              "                         C      8563\n",
              "                         ?         0\n",
              "Other                    Y     15258\n",
              "                         C      2191\n",
              "                         ?         0\n",
              "Name: Cabin_Class, dtype: int64"
            ]
          },
          "metadata": {
            "tags": []
          },
          "execution_count": 31
        }
      ]
    },
    {
      "cell_type": "code",
      "metadata": {
        "id": "UxmTIOb9pm_V",
        "colab_type": "code",
        "outputId": "d446731b-a239-4589-a66e-d7dcacb155d6",
        "colab": {
          "base_uri": "https://localhost:8080/",
          "height": 221
        }
      },
      "source": [
        "result_df.groupby(\"Operation_Channel_Group\")['Cabin_Class'].apply(lambda x: x.value_counts())"
      ],
      "execution_count": 32,
      "outputs": [
        {
          "output_type": "execute_result",
          "data": {
            "text/plain": [
              "Operation_Channel_Group   \n",
              "Counter                  Y    55315\n",
              "                         C     3506\n",
              "Kiosks                   Y     6964\n",
              "                         C      136\n",
              "Mobile                   Y    23169\n",
              "                         C     1912\n",
              "Online                   Y    28342\n",
              "                         C     1165\n",
              "Other                    Y     1029\n",
              "                         C      383\n",
              "Name: Cabin_Class, dtype: int64"
            ]
          },
          "metadata": {
            "tags": []
          },
          "execution_count": 32
        }
      ]
    },
    {
      "cell_type": "code",
      "metadata": {
        "id": "-vksq8jTwPMG",
        "colab_type": "code",
        "outputId": "09d157be-50e8-44ae-d078-931a0fdd6786",
        "colab": {
          "base_uri": "https://localhost:8080/",
          "height": 51
        }
      },
      "source": [
        "train_df['Cabin_Class'] = train_df['Cabin_Class'].replace(np.nan, \"Y\")\n",
        "train_df['Cabin_Class'].unique()"
      ],
      "execution_count": 33,
      "outputs": [
        {
          "output_type": "execute_result",
          "data": {
            "text/plain": [
              "[Y, C]\n",
              "Categories (2, object): [Y, C]"
            ]
          },
          "metadata": {
            "tags": []
          },
          "execution_count": 33
        }
      ]
    },
    {
      "cell_type": "code",
      "metadata": {
        "id": "4YTu787QwPBr",
        "colab_type": "code",
        "outputId": "0489a9ee-74b2-4180-fe53-3f147a7df0bd",
        "colab": {
          "base_uri": "https://localhost:8080/",
          "height": 51
        }
      },
      "source": [
        "result_df['Cabin_Class'] = result_df['Cabin_Class'].replace(np.nan, \"Y\")\n",
        "result_df['Cabin_Class'].unique()"
      ],
      "execution_count": 34,
      "outputs": [
        {
          "output_type": "execute_result",
          "data": {
            "text/plain": [
              "[Y, C]\n",
              "Categories (2, object): [Y, C]"
            ]
          },
          "metadata": {
            "tags": []
          },
          "execution_count": 34
        }
      ]
    },
    {
      "cell_type": "markdown",
      "metadata": {
        "id": "l5Ym3TE5xX2y",
        "colab_type": "text"
      },
      "source": [
        "#### Imputing Operation Initials\n",
        "\n",
        "The most frequent *Operation Initials* observed in different channel groups for the training and the test set are given below."
      ]
    },
    {
      "cell_type": "code",
      "metadata": {
        "id": "Pnvv-Qavxfje",
        "colab_type": "code",
        "outputId": "e080fbed-4921-4402-f5e4-29e0aae9c510",
        "colab": {
          "base_uri": "https://localhost:8080/",
          "height": 136
        }
      },
      "source": [
        "train_df.groupby(\"Operation_Channel_Group\")['Operation_Initials'].apply(lambda x: x.value_counts().index[0])"
      ],
      "execution_count": 35,
      "outputs": [
        {
          "output_type": "execute_result",
          "data": {
            "text/plain": [
              "Operation_Channel_Group\n",
              "Counter    KS\n",
              "Kiosks     SC\n",
              "Mobile     MK\n",
              "Online     MK\n",
              "Other      MK\n",
              "Name: Operation_Initials, dtype: object"
            ]
          },
          "metadata": {
            "tags": []
          },
          "execution_count": 35
        }
      ]
    },
    {
      "cell_type": "code",
      "metadata": {
        "id": "gzCXzTUvALKC",
        "colab_type": "code",
        "outputId": "ea6b5bf4-10f3-4b2d-a3d8-f0fc43f95b9e",
        "colab": {
          "base_uri": "https://localhost:8080/",
          "height": 136
        }
      },
      "source": [
        "result_df.groupby(\"Operation_Channel_Group\")['Operation_Initials'].apply(lambda x: x.value_counts().index[0])"
      ],
      "execution_count": 36,
      "outputs": [
        {
          "output_type": "execute_result",
          "data": {
            "text/plain": [
              "Operation_Channel_Group\n",
              "Counter    KS\n",
              "Kiosks     KS\n",
              "Mobile     KS\n",
              "Online     KS\n",
              "Other      KS\n",
              "Name: Operation_Initials, dtype: object"
            ]
          },
          "metadata": {
            "tags": []
          },
          "execution_count": 36
        }
      ]
    },
    {
      "cell_type": "markdown",
      "metadata": {
        "id": "ibhXNfsaAUFu",
        "colab_type": "text"
      },
      "source": [
        "The most frequent initials observed in each channel group is \"KS\" for test set so we replaced NA values with it."
      ]
    },
    {
      "cell_type": "code",
      "metadata": {
        "id": "4NApKi8rAkix",
        "colab_type": "code",
        "outputId": "fa2dc697-1e80-47fc-b622-fc51665ab88a",
        "colab": {
          "base_uri": "https://localhost:8080/",
          "height": 68
        }
      },
      "source": [
        "result_df['Operation_Initials'] = result_df['Operation_Initials'].replace(np.nan, \"KS\")\n",
        "result_df['Operation_Initials'].unique()"
      ],
      "execution_count": 37,
      "outputs": [
        {
          "output_type": "execute_result",
          "data": {
            "text/plain": [
              "[KS, MK, SC, EY, Q7, ..., SA, O3, VO, ZF, AX]\n",
              "Length: 123\n",
              "Categories (123, object): [KS, MK, SC, EY, ..., O3, VO, ZF, AX]"
            ]
          },
          "metadata": {
            "tags": []
          },
          "execution_count": 37
        }
      ]
    },
    {
      "cell_type": "markdown",
      "metadata": {
        "id": "TPZqMS_BAx-Y",
        "colab_type": "text"
      },
      "source": [
        "However, we need to impute missing values differently for different channels for the training set."
      ]
    },
    {
      "cell_type": "code",
      "metadata": {
        "id": "mCV4rYaB5DcD",
        "colab_type": "code",
        "colab": {}
      },
      "source": [
        "train_df.loc[(train_df.Operation_Channel_Group == \"Counter\") & (train_df.Operation_Initials.isna()),\"Operation_Initials\"] = \"KS\"\n",
        "train_df.loc[(train_df.Operation_Channel_Group == \"Kiosks\") & (train_df.Operation_Initials.isna()),\"Operation_Initials\"] = \"SC\"\n",
        "train_df.loc[(train_df.Operation_Channel_Group != \"Kiosks\") & (train_df.Operation_Channel_Group != \"Counter\") & (train_df.Operation_Initials.isna()),\"Operation_Initials\"] = \"MK\""
      ],
      "execution_count": 0,
      "outputs": []
    },
    {
      "cell_type": "markdown",
      "metadata": {
        "id": "PUD2-XzlMggF",
        "colab_type": "text"
      },
      "source": [
        "## Feature Generation\n",
        "\n",
        "We generate another variable to see if people checked in on-time or not. The date is given as days, so how many days there are between the flight and the check-in is added as a variable."
      ]
    },
    {
      "cell_type": "code",
      "metadata": {
        "id": "oqeDf5HEMuP1",
        "colab_type": "code",
        "colab": {
          "base_uri": "https://localhost:8080/",
          "height": 272
        },
        "outputId": "def96032-feb9-4ab6-dc60-cf36d73828a6"
      },
      "source": [
        "train_df['Early_Check_In'] = (train_df.Departure_YMD_LMT - train_df.Operation_YMD_LMT)\n",
        "train_df['Early_Check_In'] = (train_df['Early_Check_In']/86400000000000).astype(int)\n",
        "train_df['Early_Check_In'].unique()"
      ],
      "execution_count": 39,
      "outputs": [
        {
          "output_type": "execute_result",
          "data": {
            "text/plain": [
              "array([   0,    1,    2, 7033,    3,   -1, 7391, 7366, 7367, 7010, 7072,\n",
              "       7037, 7092, 7105, 7057, 7418, 7426, 7388, 7440, 7008, 7443, 7405,\n",
              "       7002, 7016, 7415, 7384, 7100, 7455, 7386, 7067, 7378, 7101, 7398,\n",
              "       7000, 7036, 7431, 7396, 7012, 7454, 7441, 7098, 7371, 7420, 7089,\n",
              "       7438, 7390, 7028, 7108, 7372, 7047, 7422, 7379, 7096, 7409, 7404,\n",
              "       7374, 7004, 7013, 7410, 7020, 7088, 7083, 7056, 7102, 7024, 7370,\n",
              "       7095, 7110, 7051, 7049, 7109, 7421, 7414, 7063, 7452, 7376, 7424,\n",
              "       7034, 7039, 7429, 6999, 7394, 7040, 7041, 7077, 7053, 7411, 7086,\n",
              "       7419, 7406, 7369, 7006, 7045, 7385, 7023, 7019, 7069, 7081, 7044,\n",
              "       7423, 7011, 7437, 7058, 7005, 7087, 7115, 7070, 7027, 7368, 7381,\n",
              "       7425, 7074, 7389, 7025, 7054, 7076, 7380, 7106, 7432, 7449, 7387,\n",
              "       7445, 7022, 7413, 7382, 7401, 7062, 7075, 7048, 7393, 7090, 7392,\n",
              "       7094, 7377, 7364, 7065, 7375, 7453, 7107, 7018, 7064, 7383, 7055,\n",
              "       7046, 7038, 7031, 7365, 7042, 7442, 7026, 7417, 7116, 7084, 7017,\n",
              "       7014, 7097, 7451])"
            ]
          },
          "metadata": {
            "tags": []
          },
          "execution_count": 39
        }
      ]
    },
    {
      "cell_type": "markdown",
      "metadata": {
        "id": "2dtlQ7QNNq3b",
        "colab_type": "text"
      },
      "source": [
        "There are some peculiar cases where check-in made 7000 days before in 1999!"
      ]
    },
    {
      "cell_type": "code",
      "metadata": {
        "id": "sdapddLzOHO7",
        "colab_type": "code",
        "colab": {
          "base_uri": "https://localhost:8080/",
          "height": 1000
        },
        "outputId": "8fdd52c4-be71-4c85-ec06-b66416b0d292"
      },
      "source": [
        "train_df[train_df['Early_Check_In']>100].sort_values('Operation_YMD_LMT')"
      ],
      "execution_count": 40,
      "outputs": [
        {
          "output_type": "execute_result",
          "data": {
            "text/html": [
              "<div>\n",
              "<style scoped>\n",
              "    .dataframe tbody tr th:only-of-type {\n",
              "        vertical-align: middle;\n",
              "    }\n",
              "\n",
              "    .dataframe tbody tr th {\n",
              "        vertical-align: top;\n",
              "    }\n",
              "\n",
              "    .dataframe thead th {\n",
              "        text-align: right;\n",
              "    }\n",
              "</style>\n",
              "<table border=\"1\" class=\"dataframe\">\n",
              "  <thead>\n",
              "    <tr style=\"text-align: right;\">\n",
              "      <th></th>\n",
              "      <th>Departure_YMD_LMT</th>\n",
              "      <th>Operation_YMD_LMT</th>\n",
              "      <th>Operation_Airport</th>\n",
              "      <th>Terminal_Name</th>\n",
              "      <th>Operation_Initials</th>\n",
              "      <th>Operation_Channel</th>\n",
              "      <th>Passenger_Title</th>\n",
              "      <th>Passenger_Gender</th>\n",
              "      <th>Inbound_Departure_Airport</th>\n",
              "      <th>Outbound_Arrival_Airport</th>\n",
              "      <th>SWC_FLY</th>\n",
              "      <th>Cabin_Class</th>\n",
              "      <th>SWC_FQTV_Member</th>\n",
              "      <th>Passenger_Baggage_Count</th>\n",
              "      <th>Passenger_Baggage_Weight</th>\n",
              "      <th>SWC_Staff</th>\n",
              "      <th>SWC_CIP_Passenger</th>\n",
              "      <th>SWC_VIP_Passenger</th>\n",
              "      <th>SWC_Has_Infant</th>\n",
              "      <th>Operation_Count</th>\n",
              "      <th>Operation_Channel_Group</th>\n",
              "      <th>Operation_Sonic_Code_Flag</th>\n",
              "      <th>Terminal_Number_Flag</th>\n",
              "      <th>Early_Check_In</th>\n",
              "    </tr>\n",
              "  </thead>\n",
              "  <tbody>\n",
              "    <tr>\n",
              "      <th>469</th>\n",
              "      <td>2018-04-04</td>\n",
              "      <td>1999-01-01</td>\n",
              "      <td>TJV</td>\n",
              "      <td>03F9C5</td>\n",
              "      <td>KS</td>\n",
              "      <td>QC</td>\n",
              "      <td>MISTER</td>\n",
              "      <td>M</td>\n",
              "      <td>EST</td>\n",
              "      <td>Unknown</td>\n",
              "      <td>1</td>\n",
              "      <td>Y</td>\n",
              "      <td>1</td>\n",
              "      <td>0</td>\n",
              "      <td>0</td>\n",
              "      <td>0</td>\n",
              "      <td>0</td>\n",
              "      <td>0</td>\n",
              "      <td>0</td>\n",
              "      <td>2</td>\n",
              "      <td>Counter</td>\n",
              "      <td>0</td>\n",
              "      <td>0</td>\n",
              "      <td>7033</td>\n",
              "    </tr>\n",
              "    <tr>\n",
              "      <th>555391</th>\n",
              "      <td>2019-04-21</td>\n",
              "      <td>1999-01-01</td>\n",
              "      <td>JED</td>\n",
              "      <td>096D33</td>\n",
              "      <td>AJ</td>\n",
              "      <td>TY</td>\n",
              "      <td>MISSES</td>\n",
              "      <td>F</td>\n",
              "      <td>JED</td>\n",
              "      <td>Unknown</td>\n",
              "      <td>1</td>\n",
              "      <td>Y</td>\n",
              "      <td>0</td>\n",
              "      <td>1</td>\n",
              "      <td>10</td>\n",
              "      <td>0</td>\n",
              "      <td>0</td>\n",
              "      <td>0</td>\n",
              "      <td>0</td>\n",
              "      <td>1</td>\n",
              "      <td>Counter</td>\n",
              "      <td>0</td>\n",
              "      <td>0</td>\n",
              "      <td>7415</td>\n",
              "    </tr>\n",
              "    <tr>\n",
              "      <th>553128</th>\n",
              "      <td>2019-04-16</td>\n",
              "      <td>1999-01-01</td>\n",
              "      <td>JED</td>\n",
              "      <td>095C12</td>\n",
              "      <td>AZ</td>\n",
              "      <td>TY</td>\n",
              "      <td>MISTER</td>\n",
              "      <td>M</td>\n",
              "      <td>JED</td>\n",
              "      <td>Unknown</td>\n",
              "      <td>1</td>\n",
              "      <td>Y</td>\n",
              "      <td>1</td>\n",
              "      <td>3</td>\n",
              "      <td>35</td>\n",
              "      <td>0</td>\n",
              "      <td>1</td>\n",
              "      <td>0</td>\n",
              "      <td>0</td>\n",
              "      <td>1</td>\n",
              "      <td>Counter</td>\n",
              "      <td>0</td>\n",
              "      <td>0</td>\n",
              "      <td>7410</td>\n",
              "    </tr>\n",
              "    <tr>\n",
              "      <th>551608</th>\n",
              "      <td>2019-03-17</td>\n",
              "      <td>1999-01-01</td>\n",
              "      <td>ISL</td>\n",
              "      <td>03293A</td>\n",
              "      <td>KS</td>\n",
              "      <td>QC</td>\n",
              "      <td>MISTER</td>\n",
              "      <td>M</td>\n",
              "      <td>Unknown</td>\n",
              "      <td>Unknown</td>\n",
              "      <td>1</td>\n",
              "      <td>Y</td>\n",
              "      <td>0</td>\n",
              "      <td>2</td>\n",
              "      <td>28</td>\n",
              "      <td>0</td>\n",
              "      <td>0</td>\n",
              "      <td>0</td>\n",
              "      <td>0</td>\n",
              "      <td>1</td>\n",
              "      <td>Counter</td>\n",
              "      <td>1</td>\n",
              "      <td>0</td>\n",
              "      <td>7380</td>\n",
              "    </tr>\n",
              "    <tr>\n",
              "      <th>551287</th>\n",
              "      <td>2019-03-14</td>\n",
              "      <td>1999-01-01</td>\n",
              "      <td>ISL</td>\n",
              "      <td>035443</td>\n",
              "      <td>MK</td>\n",
              "      <td>TS</td>\n",
              "      <td>MISTER</td>\n",
              "      <td>M</td>\n",
              "      <td>Unknown</td>\n",
              "      <td>Unknown</td>\n",
              "      <td>1</td>\n",
              "      <td>Y</td>\n",
              "      <td>0</td>\n",
              "      <td>0</td>\n",
              "      <td>0</td>\n",
              "      <td>0</td>\n",
              "      <td>0</td>\n",
              "      <td>0</td>\n",
              "      <td>0</td>\n",
              "      <td>1</td>\n",
              "      <td>Mobile</td>\n",
              "      <td>0</td>\n",
              "      <td>0</td>\n",
              "      <td>7377</td>\n",
              "    </tr>\n",
              "    <tr>\n",
              "      <th>550406</th>\n",
              "      <td>2018-03-29</td>\n",
              "      <td>1999-01-01</td>\n",
              "      <td>TJV</td>\n",
              "      <td>0B3F66</td>\n",
              "      <td>KS</td>\n",
              "      <td>TY</td>\n",
              "      <td>MISS</td>\n",
              "      <td>F</td>\n",
              "      <td>Unknown</td>\n",
              "      <td>Unknown</td>\n",
              "      <td>1</td>\n",
              "      <td>Y</td>\n",
              "      <td>0</td>\n",
              "      <td>1</td>\n",
              "      <td>13</td>\n",
              "      <td>1</td>\n",
              "      <td>0</td>\n",
              "      <td>0</td>\n",
              "      <td>0</td>\n",
              "      <td>1</td>\n",
              "      <td>Counter</td>\n",
              "      <td>0</td>\n",
              "      <td>0</td>\n",
              "      <td>7027</td>\n",
              "    </tr>\n",
              "    <tr>\n",
              "      <th>549936</th>\n",
              "      <td>2019-05-31</td>\n",
              "      <td>1999-01-01</td>\n",
              "      <td>KWI</td>\n",
              "      <td>03237P</td>\n",
              "      <td>LK</td>\n",
              "      <td>QC</td>\n",
              "      <td>MISS</td>\n",
              "      <td>F</td>\n",
              "      <td>KWI</td>\n",
              "      <td>Unknown</td>\n",
              "      <td>1</td>\n",
              "      <td>Y</td>\n",
              "      <td>0</td>\n",
              "      <td>0</td>\n",
              "      <td>0</td>\n",
              "      <td>0</td>\n",
              "      <td>0</td>\n",
              "      <td>0</td>\n",
              "      <td>0</td>\n",
              "      <td>2</td>\n",
              "      <td>Counter</td>\n",
              "      <td>0</td>\n",
              "      <td>0</td>\n",
              "      <td>7455</td>\n",
              "    </tr>\n",
              "    <tr>\n",
              "      <th>547407</th>\n",
              "      <td>2018-06-04</td>\n",
              "      <td>1999-01-01</td>\n",
              "      <td>VKO</td>\n",
              "      <td>03543P</td>\n",
              "      <td>MK</td>\n",
              "      <td>TS</td>\n",
              "      <td>MISTER</td>\n",
              "      <td>M</td>\n",
              "      <td>EST</td>\n",
              "      <td>Unknown</td>\n",
              "      <td>1</td>\n",
              "      <td>Y</td>\n",
              "      <td>1</td>\n",
              "      <td>1</td>\n",
              "      <td>8</td>\n",
              "      <td>0</td>\n",
              "      <td>0</td>\n",
              "      <td>0</td>\n",
              "      <td>0</td>\n",
              "      <td>1</td>\n",
              "      <td>Mobile</td>\n",
              "      <td>0</td>\n",
              "      <td>0</td>\n",
              "      <td>7094</td>\n",
              "    </tr>\n",
              "    <tr>\n",
              "      <th>543253</th>\n",
              "      <td>2019-04-10</td>\n",
              "      <td>1999-01-01</td>\n",
              "      <td>TJV</td>\n",
              "      <td>03F901</td>\n",
              "      <td>KS</td>\n",
              "      <td>QC</td>\n",
              "      <td>MISTER</td>\n",
              "      <td>M</td>\n",
              "      <td>Unknown</td>\n",
              "      <td>NKV</td>\n",
              "      <td>1</td>\n",
              "      <td>Y</td>\n",
              "      <td>0</td>\n",
              "      <td>1</td>\n",
              "      <td>7</td>\n",
              "      <td>0</td>\n",
              "      <td>0</td>\n",
              "      <td>0</td>\n",
              "      <td>0</td>\n",
              "      <td>1</td>\n",
              "      <td>Counter</td>\n",
              "      <td>1</td>\n",
              "      <td>1</td>\n",
              "      <td>7404</td>\n",
              "    </tr>\n",
              "    <tr>\n",
              "      <th>541138</th>\n",
              "      <td>2018-03-12</td>\n",
              "      <td>1999-01-01</td>\n",
              "      <td>TTS</td>\n",
              "      <td>03294D</td>\n",
              "      <td>NU</td>\n",
              "      <td>QC</td>\n",
              "      <td>MISTER</td>\n",
              "      <td>M</td>\n",
              "      <td>IST</td>\n",
              "      <td>KSY</td>\n",
              "      <td>0</td>\n",
              "      <td>Y</td>\n",
              "      <td>0</td>\n",
              "      <td>0</td>\n",
              "      <td>0</td>\n",
              "      <td>0</td>\n",
              "      <td>0</td>\n",
              "      <td>0</td>\n",
              "      <td>0</td>\n",
              "      <td>1</td>\n",
              "      <td>Counter</td>\n",
              "      <td>0</td>\n",
              "      <td>1</td>\n",
              "      <td>7010</td>\n",
              "    </tr>\n",
              "    <tr>\n",
              "      <th>536708</th>\n",
              "      <td>2018-03-18</td>\n",
              "      <td>1999-01-01</td>\n",
              "      <td>MED</td>\n",
              "      <td>0329PC</td>\n",
              "      <td>WA</td>\n",
              "      <td>QC</td>\n",
              "      <td>MISTER</td>\n",
              "      <td>M</td>\n",
              "      <td>MED</td>\n",
              "      <td>Unknown</td>\n",
              "      <td>1</td>\n",
              "      <td>Y</td>\n",
              "      <td>0</td>\n",
              "      <td>0</td>\n",
              "      <td>0</td>\n",
              "      <td>0</td>\n",
              "      <td>0</td>\n",
              "      <td>0</td>\n",
              "      <td>0</td>\n",
              "      <td>1</td>\n",
              "      <td>Counter</td>\n",
              "      <td>0</td>\n",
              "      <td>0</td>\n",
              "      <td>7016</td>\n",
              "    </tr>\n",
              "    <tr>\n",
              "      <th>535795</th>\n",
              "      <td>2018-03-15</td>\n",
              "      <td>1999-01-01</td>\n",
              "      <td>OGU</td>\n",
              "      <td>0323B2</td>\n",
              "      <td>HV</td>\n",
              "      <td>QC</td>\n",
              "      <td>MISTER</td>\n",
              "      <td>M</td>\n",
              "      <td>EST</td>\n",
              "      <td>OGU</td>\n",
              "      <td>1</td>\n",
              "      <td>Y</td>\n",
              "      <td>1</td>\n",
              "      <td>0</td>\n",
              "      <td>0</td>\n",
              "      <td>0</td>\n",
              "      <td>0</td>\n",
              "      <td>0</td>\n",
              "      <td>0</td>\n",
              "      <td>1</td>\n",
              "      <td>Counter</td>\n",
              "      <td>1</td>\n",
              "      <td>1</td>\n",
              "      <td>7013</td>\n",
              "    </tr>\n",
              "    <tr>\n",
              "      <th>533869</th>\n",
              "      <td>2019-03-29</td>\n",
              "      <td>1999-01-01</td>\n",
              "      <td>ISL</td>\n",
              "      <td>032962</td>\n",
              "      <td>KS</td>\n",
              "      <td>QC</td>\n",
              "      <td>MISTER</td>\n",
              "      <td>M</td>\n",
              "      <td>Unknown</td>\n",
              "      <td>Unknown</td>\n",
              "      <td>1</td>\n",
              "      <td>Y</td>\n",
              "      <td>0</td>\n",
              "      <td>1</td>\n",
              "      <td>16</td>\n",
              "      <td>0</td>\n",
              "      <td>0</td>\n",
              "      <td>0</td>\n",
              "      <td>0</td>\n",
              "      <td>1</td>\n",
              "      <td>Counter</td>\n",
              "      <td>1</td>\n",
              "      <td>0</td>\n",
              "      <td>7392</td>\n",
              "    </tr>\n",
              "    <tr>\n",
              "      <th>531810</th>\n",
              "      <td>2018-03-21</td>\n",
              "      <td>1999-01-01</td>\n",
              "      <td>DUS</td>\n",
              "      <td>03F95A</td>\n",
              "      <td>JM</td>\n",
              "      <td>QC</td>\n",
              "      <td>MISTER</td>\n",
              "      <td>M</td>\n",
              "      <td>IST</td>\n",
              "      <td>DUS</td>\n",
              "      <td>1</td>\n",
              "      <td>Y</td>\n",
              "      <td>0</td>\n",
              "      <td>0</td>\n",
              "      <td>0</td>\n",
              "      <td>0</td>\n",
              "      <td>0</td>\n",
              "      <td>0</td>\n",
              "      <td>0</td>\n",
              "      <td>1</td>\n",
              "      <td>Counter</td>\n",
              "      <td>0</td>\n",
              "      <td>0</td>\n",
              "      <td>7019</td>\n",
              "    </tr>\n",
              "    <tr>\n",
              "      <th>530144</th>\n",
              "      <td>2019-04-15</td>\n",
              "      <td>1999-01-01</td>\n",
              "      <td>VIE</td>\n",
              "      <td>0302F3</td>\n",
              "      <td>MK</td>\n",
              "      <td>TW</td>\n",
              "      <td>MISTER</td>\n",
              "      <td>M</td>\n",
              "      <td>SKW</td>\n",
              "      <td>GVK</td>\n",
              "      <td>1</td>\n",
              "      <td>Y</td>\n",
              "      <td>0</td>\n",
              "      <td>0</td>\n",
              "      <td>0</td>\n",
              "      <td>0</td>\n",
              "      <td>0</td>\n",
              "      <td>0</td>\n",
              "      <td>0</td>\n",
              "      <td>1</td>\n",
              "      <td>Online</td>\n",
              "      <td>0</td>\n",
              "      <td>0</td>\n",
              "      <td>7409</td>\n",
              "    </tr>\n",
              "    <tr>\n",
              "      <th>528408</th>\n",
              "      <td>2019-03-24</td>\n",
              "      <td>1999-01-01</td>\n",
              "      <td>ISL</td>\n",
              "      <td>03F9AD</td>\n",
              "      <td>KS</td>\n",
              "      <td>QC</td>\n",
              "      <td>MISTER</td>\n",
              "      <td>M</td>\n",
              "      <td>SKW</td>\n",
              "      <td>Unknown</td>\n",
              "      <td>1</td>\n",
              "      <td>Y</td>\n",
              "      <td>0</td>\n",
              "      <td>0</td>\n",
              "      <td>0</td>\n",
              "      <td>0</td>\n",
              "      <td>0</td>\n",
              "      <td>0</td>\n",
              "      <td>0</td>\n",
              "      <td>1</td>\n",
              "      <td>Counter</td>\n",
              "      <td>1</td>\n",
              "      <td>0</td>\n",
              "      <td>7387</td>\n",
              "    </tr>\n",
              "    <tr>\n",
              "      <th>527719</th>\n",
              "      <td>2019-03-23</td>\n",
              "      <td>1999-01-01</td>\n",
              "      <td>JED</td>\n",
              "      <td>095C13</td>\n",
              "      <td>JS</td>\n",
              "      <td>TY</td>\n",
              "      <td>MISSES</td>\n",
              "      <td>F</td>\n",
              "      <td>JED</td>\n",
              "      <td>Unknown</td>\n",
              "      <td>1</td>\n",
              "      <td>Y</td>\n",
              "      <td>0</td>\n",
              "      <td>0</td>\n",
              "      <td>0</td>\n",
              "      <td>0</td>\n",
              "      <td>0</td>\n",
              "      <td>0</td>\n",
              "      <td>0</td>\n",
              "      <td>1</td>\n",
              "      <td>Counter</td>\n",
              "      <td>0</td>\n",
              "      <td>0</td>\n",
              "      <td>7386</td>\n",
              "    </tr>\n",
              "    <tr>\n",
              "      <th>527384</th>\n",
              "      <td>2018-06-06</td>\n",
              "      <td>1999-01-01</td>\n",
              "      <td>GVK</td>\n",
              "      <td>03F39C</td>\n",
              "      <td>KO</td>\n",
              "      <td>QC</td>\n",
              "      <td>MISTER</td>\n",
              "      <td>M</td>\n",
              "      <td>IST</td>\n",
              "      <td>Unknown</td>\n",
              "      <td>0</td>\n",
              "      <td>Y</td>\n",
              "      <td>1</td>\n",
              "      <td>0</td>\n",
              "      <td>0</td>\n",
              "      <td>0</td>\n",
              "      <td>0</td>\n",
              "      <td>0</td>\n",
              "      <td>0</td>\n",
              "      <td>1</td>\n",
              "      <td>Counter</td>\n",
              "      <td>0</td>\n",
              "      <td>1</td>\n",
              "      <td>7096</td>\n",
              "    </tr>\n",
              "    <tr>\n",
              "      <th>524905</th>\n",
              "      <td>2018-05-16</td>\n",
              "      <td>1999-01-01</td>\n",
              "      <td>DXT</td>\n",
              "      <td>000000</td>\n",
              "      <td>||</td>\n",
              "      <td>IA</td>\n",
              "      <td>MISTER</td>\n",
              "      <td>M</td>\n",
              "      <td>IST</td>\n",
              "      <td>DXT</td>\n",
              "      <td>1</td>\n",
              "      <td>Y</td>\n",
              "      <td>0</td>\n",
              "      <td>0</td>\n",
              "      <td>0</td>\n",
              "      <td>0</td>\n",
              "      <td>0</td>\n",
              "      <td>0</td>\n",
              "      <td>0</td>\n",
              "      <td>1</td>\n",
              "      <td>Other</td>\n",
              "      <td>0</td>\n",
              "      <td>0</td>\n",
              "      <td>7075</td>\n",
              "    </tr>\n",
              "    <tr>\n",
              "      <th>522922</th>\n",
              "      <td>2018-06-16</td>\n",
              "      <td>1999-01-01</td>\n",
              "      <td>NPH</td>\n",
              "      <td>0323P1</td>\n",
              "      <td>3W</td>\n",
              "      <td>QC</td>\n",
              "      <td>MISS</td>\n",
              "      <td>F</td>\n",
              "      <td>IST</td>\n",
              "      <td>Unknown</td>\n",
              "      <td>1</td>\n",
              "      <td>Y</td>\n",
              "      <td>0</td>\n",
              "      <td>1</td>\n",
              "      <td>15</td>\n",
              "      <td>0</td>\n",
              "      <td>0</td>\n",
              "      <td>0</td>\n",
              "      <td>0</td>\n",
              "      <td>1</td>\n",
              "      <td>Counter</td>\n",
              "      <td>0</td>\n",
              "      <td>0</td>\n",
              "      <td>7106</td>\n",
              "    </tr>\n",
              "    <tr>\n",
              "      <th>522899</th>\n",
              "      <td>2019-04-19</td>\n",
              "      <td>1999-01-01</td>\n",
              "      <td>OGU</td>\n",
              "      <td>032927</td>\n",
              "      <td>HV</td>\n",
              "      <td>QC</td>\n",
              "      <td>MISTER</td>\n",
              "      <td>M</td>\n",
              "      <td>IST</td>\n",
              "      <td>OGU</td>\n",
              "      <td>1</td>\n",
              "      <td>Y</td>\n",
              "      <td>0</td>\n",
              "      <td>0</td>\n",
              "      <td>0</td>\n",
              "      <td>0</td>\n",
              "      <td>0</td>\n",
              "      <td>0</td>\n",
              "      <td>0</td>\n",
              "      <td>1</td>\n",
              "      <td>Counter</td>\n",
              "      <td>1</td>\n",
              "      <td>0</td>\n",
              "      <td>7413</td>\n",
              "    </tr>\n",
              "    <tr>\n",
              "      <th>519394</th>\n",
              "      <td>2018-04-04</td>\n",
              "      <td>1999-01-01</td>\n",
              "      <td>VNE</td>\n",
              "      <td>03FD7A</td>\n",
              "      <td>FK</td>\n",
              "      <td>QC</td>\n",
              "      <td>MISTER</td>\n",
              "      <td>M</td>\n",
              "      <td>IST</td>\n",
              "      <td>GZT</td>\n",
              "      <td>1</td>\n",
              "      <td>Y</td>\n",
              "      <td>1</td>\n",
              "      <td>1</td>\n",
              "      <td>19</td>\n",
              "      <td>0</td>\n",
              "      <td>1</td>\n",
              "      <td>0</td>\n",
              "      <td>0</td>\n",
              "      <td>1</td>\n",
              "      <td>Counter</td>\n",
              "      <td>0</td>\n",
              "      <td>0</td>\n",
              "      <td>7033</td>\n",
              "    </tr>\n",
              "    <tr>\n",
              "      <th>515578</th>\n",
              "      <td>2018-05-31</td>\n",
              "      <td>1999-01-01</td>\n",
              "      <td>VKR</td>\n",
              "      <td>0302F6</td>\n",
              "      <td>MK</td>\n",
              "      <td>TW</td>\n",
              "      <td>MISTER</td>\n",
              "      <td>M</td>\n",
              "      <td>IST</td>\n",
              "      <td>Unknown</td>\n",
              "      <td>1</td>\n",
              "      <td>Y</td>\n",
              "      <td>1</td>\n",
              "      <td>1</td>\n",
              "      <td>14</td>\n",
              "      <td>0</td>\n",
              "      <td>0</td>\n",
              "      <td>0</td>\n",
              "      <td>0</td>\n",
              "      <td>1</td>\n",
              "      <td>Online</td>\n",
              "      <td>0</td>\n",
              "      <td>0</td>\n",
              "      <td>7090</td>\n",
              "    </tr>\n",
              "    <tr>\n",
              "      <th>514514</th>\n",
              "      <td>2018-03-18</td>\n",
              "      <td>1999-01-01</td>\n",
              "      <td>MED</td>\n",
              "      <td>0323FB</td>\n",
              "      <td>RM</td>\n",
              "      <td>QC</td>\n",
              "      <td>MISTER</td>\n",
              "      <td>M</td>\n",
              "      <td>MED</td>\n",
              "      <td>Unknown</td>\n",
              "      <td>1</td>\n",
              "      <td>Y</td>\n",
              "      <td>0</td>\n",
              "      <td>5</td>\n",
              "      <td>76</td>\n",
              "      <td>0</td>\n",
              "      <td>0</td>\n",
              "      <td>0</td>\n",
              "      <td>0</td>\n",
              "      <td>1</td>\n",
              "      <td>Counter</td>\n",
              "      <td>0</td>\n",
              "      <td>0</td>\n",
              "      <td>7016</td>\n",
              "    </tr>\n",
              "    <tr>\n",
              "      <th>513878</th>\n",
              "      <td>2018-03-18</td>\n",
              "      <td>1999-01-01</td>\n",
              "      <td>MED</td>\n",
              "      <td>032A04</td>\n",
              "      <td>AL</td>\n",
              "      <td>QC</td>\n",
              "      <td>MISTER</td>\n",
              "      <td>M</td>\n",
              "      <td>MED</td>\n",
              "      <td>Unknown</td>\n",
              "      <td>1</td>\n",
              "      <td>Y</td>\n",
              "      <td>0</td>\n",
              "      <td>5</td>\n",
              "      <td>71</td>\n",
              "      <td>0</td>\n",
              "      <td>0</td>\n",
              "      <td>0</td>\n",
              "      <td>0</td>\n",
              "      <td>1</td>\n",
              "      <td>Counter</td>\n",
              "      <td>0</td>\n",
              "      <td>0</td>\n",
              "      <td>7016</td>\n",
              "    </tr>\n",
              "    <tr>\n",
              "      <th>513569</th>\n",
              "      <td>2018-06-05</td>\n",
              "      <td>1999-01-01</td>\n",
              "      <td>NPH</td>\n",
              "      <td>0302F9</td>\n",
              "      <td>MK</td>\n",
              "      <td>TW</td>\n",
              "      <td>MISTER</td>\n",
              "      <td>M</td>\n",
              "      <td>IST</td>\n",
              "      <td>NPH</td>\n",
              "      <td>1</td>\n",
              "      <td>C</td>\n",
              "      <td>1</td>\n",
              "      <td>0</td>\n",
              "      <td>0</td>\n",
              "      <td>0</td>\n",
              "      <td>1</td>\n",
              "      <td>0</td>\n",
              "      <td>0</td>\n",
              "      <td>1</td>\n",
              "      <td>Online</td>\n",
              "      <td>0</td>\n",
              "      <td>0</td>\n",
              "      <td>7095</td>\n",
              "    </tr>\n",
              "    <tr>\n",
              "      <th>557084</th>\n",
              "      <td>2018-03-15</td>\n",
              "      <td>1999-01-01</td>\n",
              "      <td>OGU</td>\n",
              "      <td>0323B2</td>\n",
              "      <td>HV</td>\n",
              "      <td>QC</td>\n",
              "      <td>MISTER</td>\n",
              "      <td>M</td>\n",
              "      <td>EST</td>\n",
              "      <td>OGU</td>\n",
              "      <td>1</td>\n",
              "      <td>Y</td>\n",
              "      <td>1</td>\n",
              "      <td>1</td>\n",
              "      <td>10</td>\n",
              "      <td>0</td>\n",
              "      <td>0</td>\n",
              "      <td>0</td>\n",
              "      <td>0</td>\n",
              "      <td>1</td>\n",
              "      <td>Counter</td>\n",
              "      <td>0</td>\n",
              "      <td>0</td>\n",
              "      <td>7013</td>\n",
              "    </tr>\n",
              "    <tr>\n",
              "      <th>557351</th>\n",
              "      <td>2018-06-05</td>\n",
              "      <td>1999-01-01</td>\n",
              "      <td>KRN</td>\n",
              "      <td>0329CC</td>\n",
              "      <td>RY</td>\n",
              "      <td>QC</td>\n",
              "      <td>MISTER</td>\n",
              "      <td>M</td>\n",
              "      <td>IST</td>\n",
              "      <td>Unknown</td>\n",
              "      <td>0</td>\n",
              "      <td>Y</td>\n",
              "      <td>1</td>\n",
              "      <td>0</td>\n",
              "      <td>0</td>\n",
              "      <td>0</td>\n",
              "      <td>0</td>\n",
              "      <td>0</td>\n",
              "      <td>0</td>\n",
              "      <td>1</td>\n",
              "      <td>Counter</td>\n",
              "      <td>0</td>\n",
              "      <td>1</td>\n",
              "      <td>7095</td>\n",
              "    </tr>\n",
              "    <tr>\n",
              "      <th>563037</th>\n",
              "      <td>2019-03-17</td>\n",
              "      <td>1999-01-01</td>\n",
              "      <td>ISL</td>\n",
              "      <td>032A4A</td>\n",
              "      <td>KS</td>\n",
              "      <td>QC</td>\n",
              "      <td>MISSES</td>\n",
              "      <td>F</td>\n",
              "      <td>ISL</td>\n",
              "      <td>Unknown</td>\n",
              "      <td>0</td>\n",
              "      <td>Y</td>\n",
              "      <td>0</td>\n",
              "      <td>0</td>\n",
              "      <td>0</td>\n",
              "      <td>0</td>\n",
              "      <td>0</td>\n",
              "      <td>0</td>\n",
              "      <td>0</td>\n",
              "      <td>1</td>\n",
              "      <td>Counter</td>\n",
              "      <td>1</td>\n",
              "      <td>1</td>\n",
              "      <td>7380</td>\n",
              "    </tr>\n",
              "    <tr>\n",
              "      <th>564697</th>\n",
              "      <td>2019-04-02</td>\n",
              "      <td>1999-01-01</td>\n",
              "      <td>NDG</td>\n",
              "      <td>03FD4C</td>\n",
              "      <td>DY</td>\n",
              "      <td>QC</td>\n",
              "      <td>MISTER</td>\n",
              "      <td>M</td>\n",
              "      <td>IST</td>\n",
              "      <td>IST</td>\n",
              "      <td>1</td>\n",
              "      <td>Y</td>\n",
              "      <td>0</td>\n",
              "      <td>0</td>\n",
              "      <td>0</td>\n",
              "      <td>0</td>\n",
              "      <td>0</td>\n",
              "      <td>0</td>\n",
              "      <td>0</td>\n",
              "      <td>1</td>\n",
              "      <td>Counter</td>\n",
              "      <td>0</td>\n",
              "      <td>0</td>\n",
              "      <td>7396</td>\n",
              "    </tr>\n",
              "    <tr>\n",
              "      <th>...</th>\n",
              "      <td>...</td>\n",
              "      <td>...</td>\n",
              "      <td>...</td>\n",
              "      <td>...</td>\n",
              "      <td>...</td>\n",
              "      <td>...</td>\n",
              "      <td>...</td>\n",
              "      <td>...</td>\n",
              "      <td>...</td>\n",
              "      <td>...</td>\n",
              "      <td>...</td>\n",
              "      <td>...</td>\n",
              "      <td>...</td>\n",
              "      <td>...</td>\n",
              "      <td>...</td>\n",
              "      <td>...</td>\n",
              "      <td>...</td>\n",
              "      <td>...</td>\n",
              "      <td>...</td>\n",
              "      <td>...</td>\n",
              "      <td>...</td>\n",
              "      <td>...</td>\n",
              "      <td>...</td>\n",
              "      <td>...</td>\n",
              "    </tr>\n",
              "    <tr>\n",
              "      <th>243798</th>\n",
              "      <td>2019-05-31</td>\n",
              "      <td>1999-01-01</td>\n",
              "      <td>KWI</td>\n",
              "      <td>0323BP</td>\n",
              "      <td>LK</td>\n",
              "      <td>QC</td>\n",
              "      <td>MISTER</td>\n",
              "      <td>M</td>\n",
              "      <td>KWI</td>\n",
              "      <td>Unknown</td>\n",
              "      <td>1</td>\n",
              "      <td>Y</td>\n",
              "      <td>0</td>\n",
              "      <td>1</td>\n",
              "      <td>32</td>\n",
              "      <td>0</td>\n",
              "      <td>0</td>\n",
              "      <td>0</td>\n",
              "      <td>0</td>\n",
              "      <td>1</td>\n",
              "      <td>Counter</td>\n",
              "      <td>0</td>\n",
              "      <td>0</td>\n",
              "      <td>7455</td>\n",
              "    </tr>\n",
              "    <tr>\n",
              "      <th>248149</th>\n",
              "      <td>2018-03-22</td>\n",
              "      <td>1999-01-01</td>\n",
              "      <td>MUN</td>\n",
              "      <td>03233C</td>\n",
              "      <td>WA</td>\n",
              "      <td>QC</td>\n",
              "      <td>MISTER</td>\n",
              "      <td>M</td>\n",
              "      <td>IST</td>\n",
              "      <td>MUN</td>\n",
              "      <td>1</td>\n",
              "      <td>Y</td>\n",
              "      <td>1</td>\n",
              "      <td>0</td>\n",
              "      <td>0</td>\n",
              "      <td>0</td>\n",
              "      <td>0</td>\n",
              "      <td>0</td>\n",
              "      <td>0</td>\n",
              "      <td>2</td>\n",
              "      <td>Counter</td>\n",
              "      <td>0</td>\n",
              "      <td>0</td>\n",
              "      <td>7020</td>\n",
              "    </tr>\n",
              "    <tr>\n",
              "      <th>302115</th>\n",
              "      <td>2018-04-05</td>\n",
              "      <td>1999-01-01</td>\n",
              "      <td>MXP</td>\n",
              "      <td>0323A7</td>\n",
              "      <td>KM</td>\n",
              "      <td>QC</td>\n",
              "      <td>MISTER</td>\n",
              "      <td>M</td>\n",
              "      <td>IST</td>\n",
              "      <td>MXP</td>\n",
              "      <td>1</td>\n",
              "      <td>Y</td>\n",
              "      <td>1</td>\n",
              "      <td>0</td>\n",
              "      <td>0</td>\n",
              "      <td>0</td>\n",
              "      <td>0</td>\n",
              "      <td>0</td>\n",
              "      <td>0</td>\n",
              "      <td>1</td>\n",
              "      <td>Counter</td>\n",
              "      <td>0</td>\n",
              "      <td>0</td>\n",
              "      <td>7034</td>\n",
              "    </tr>\n",
              "    <tr>\n",
              "      <th>301086</th>\n",
              "      <td>2019-04-16</td>\n",
              "      <td>1999-01-01</td>\n",
              "      <td>JED</td>\n",
              "      <td>095513</td>\n",
              "      <td>9A</td>\n",
              "      <td>TY</td>\n",
              "      <td>MISTER</td>\n",
              "      <td>M</td>\n",
              "      <td>JED</td>\n",
              "      <td>Unknown</td>\n",
              "      <td>0</td>\n",
              "      <td>Y</td>\n",
              "      <td>1</td>\n",
              "      <td>0</td>\n",
              "      <td>0</td>\n",
              "      <td>0</td>\n",
              "      <td>0</td>\n",
              "      <td>0</td>\n",
              "      <td>0</td>\n",
              "      <td>1</td>\n",
              "      <td>Counter</td>\n",
              "      <td>0</td>\n",
              "      <td>1</td>\n",
              "      <td>7410</td>\n",
              "    </tr>\n",
              "    <tr>\n",
              "      <th>298210</th>\n",
              "      <td>2018-06-15</td>\n",
              "      <td>1999-01-01</td>\n",
              "      <td>KWI</td>\n",
              "      <td>032A23</td>\n",
              "      <td>JN</td>\n",
              "      <td>QC</td>\n",
              "      <td>MISS</td>\n",
              "      <td>F</td>\n",
              "      <td>KWI</td>\n",
              "      <td>Unknown</td>\n",
              "      <td>1</td>\n",
              "      <td>Y</td>\n",
              "      <td>0</td>\n",
              "      <td>2</td>\n",
              "      <td>26</td>\n",
              "      <td>0</td>\n",
              "      <td>0</td>\n",
              "      <td>0</td>\n",
              "      <td>0</td>\n",
              "      <td>1</td>\n",
              "      <td>Counter</td>\n",
              "      <td>0</td>\n",
              "      <td>0</td>\n",
              "      <td>7105</td>\n",
              "    </tr>\n",
              "    <tr>\n",
              "      <th>295500</th>\n",
              "      <td>2019-05-19</td>\n",
              "      <td>1999-01-01</td>\n",
              "      <td>GYD</td>\n",
              "      <td>0B129B</td>\n",
              "      <td>OS</td>\n",
              "      <td>TY</td>\n",
              "      <td>MISTER</td>\n",
              "      <td>M</td>\n",
              "      <td>Unknown</td>\n",
              "      <td>GYD</td>\n",
              "      <td>1</td>\n",
              "      <td>Y</td>\n",
              "      <td>0</td>\n",
              "      <td>1</td>\n",
              "      <td>13</td>\n",
              "      <td>0</td>\n",
              "      <td>0</td>\n",
              "      <td>0</td>\n",
              "      <td>0</td>\n",
              "      <td>1</td>\n",
              "      <td>Counter</td>\n",
              "      <td>0</td>\n",
              "      <td>0</td>\n",
              "      <td>7443</td>\n",
              "    </tr>\n",
              "    <tr>\n",
              "      <th>292299</th>\n",
              "      <td>2019-03-22</td>\n",
              "      <td>1999-01-01</td>\n",
              "      <td>OGU</td>\n",
              "      <td>03FD49</td>\n",
              "      <td>HV</td>\n",
              "      <td>QC</td>\n",
              "      <td>MISTER</td>\n",
              "      <td>M</td>\n",
              "      <td>SKW</td>\n",
              "      <td>OGU</td>\n",
              "      <td>1</td>\n",
              "      <td>Y</td>\n",
              "      <td>0</td>\n",
              "      <td>1</td>\n",
              "      <td>2</td>\n",
              "      <td>0</td>\n",
              "      <td>0</td>\n",
              "      <td>0</td>\n",
              "      <td>0</td>\n",
              "      <td>1</td>\n",
              "      <td>Counter</td>\n",
              "      <td>1</td>\n",
              "      <td>0</td>\n",
              "      <td>7385</td>\n",
              "    </tr>\n",
              "    <tr>\n",
              "      <th>284685</th>\n",
              "      <td>2019-05-31</td>\n",
              "      <td>1999-01-01</td>\n",
              "      <td>KWI</td>\n",
              "      <td>032A06</td>\n",
              "      <td>ND</td>\n",
              "      <td>QC</td>\n",
              "      <td>MISTER</td>\n",
              "      <td>M</td>\n",
              "      <td>KWI</td>\n",
              "      <td>TZX</td>\n",
              "      <td>1</td>\n",
              "      <td>Y</td>\n",
              "      <td>0</td>\n",
              "      <td>0</td>\n",
              "      <td>0</td>\n",
              "      <td>0</td>\n",
              "      <td>0</td>\n",
              "      <td>0</td>\n",
              "      <td>0</td>\n",
              "      <td>3</td>\n",
              "      <td>Counter</td>\n",
              "      <td>0</td>\n",
              "      <td>0</td>\n",
              "      <td>7455</td>\n",
              "    </tr>\n",
              "    <tr>\n",
              "      <th>283996</th>\n",
              "      <td>2018-04-11</td>\n",
              "      <td>1999-01-01</td>\n",
              "      <td>VIE</td>\n",
              "      <td>032A64</td>\n",
              "      <td>AM</td>\n",
              "      <td>QC</td>\n",
              "      <td>MISTER</td>\n",
              "      <td>M</td>\n",
              "      <td>IST</td>\n",
              "      <td>VIE</td>\n",
              "      <td>0</td>\n",
              "      <td>Y</td>\n",
              "      <td>1</td>\n",
              "      <td>0</td>\n",
              "      <td>0</td>\n",
              "      <td>0</td>\n",
              "      <td>0</td>\n",
              "      <td>0</td>\n",
              "      <td>0</td>\n",
              "      <td>1</td>\n",
              "      <td>Counter</td>\n",
              "      <td>0</td>\n",
              "      <td>1</td>\n",
              "      <td>7040</td>\n",
              "    </tr>\n",
              "    <tr>\n",
              "      <th>281868</th>\n",
              "      <td>2018-03-01</td>\n",
              "      <td>1999-01-01</td>\n",
              "      <td>OGU</td>\n",
              "      <td>035447</td>\n",
              "      <td>MK</td>\n",
              "      <td>TS</td>\n",
              "      <td>MISTER</td>\n",
              "      <td>M</td>\n",
              "      <td>EST</td>\n",
              "      <td>OGU</td>\n",
              "      <td>1</td>\n",
              "      <td>Y</td>\n",
              "      <td>0</td>\n",
              "      <td>0</td>\n",
              "      <td>0</td>\n",
              "      <td>0</td>\n",
              "      <td>0</td>\n",
              "      <td>0</td>\n",
              "      <td>0</td>\n",
              "      <td>1</td>\n",
              "      <td>Mobile</td>\n",
              "      <td>0</td>\n",
              "      <td>0</td>\n",
              "      <td>6999</td>\n",
              "    </tr>\n",
              "    <tr>\n",
              "      <th>281847</th>\n",
              "      <td>2018-04-16</td>\n",
              "      <td>1999-01-01</td>\n",
              "      <td>KUH</td>\n",
              "      <td>03023P</td>\n",
              "      <td>MK</td>\n",
              "      <td>TW</td>\n",
              "      <td>MISTER</td>\n",
              "      <td>M</td>\n",
              "      <td>IST</td>\n",
              "      <td>Unknown</td>\n",
              "      <td>0</td>\n",
              "      <td>Y</td>\n",
              "      <td>1</td>\n",
              "      <td>0</td>\n",
              "      <td>0</td>\n",
              "      <td>0</td>\n",
              "      <td>0</td>\n",
              "      <td>0</td>\n",
              "      <td>0</td>\n",
              "      <td>1</td>\n",
              "      <td>Online</td>\n",
              "      <td>0</td>\n",
              "      <td>1</td>\n",
              "      <td>7045</td>\n",
              "    </tr>\n",
              "    <tr>\n",
              "      <th>280297</th>\n",
              "      <td>2019-04-10</td>\n",
              "      <td>1999-01-01</td>\n",
              "      <td>ISL</td>\n",
              "      <td>0D0411</td>\n",
              "      <td>FC</td>\n",
              "      <td>NaN</td>\n",
              "      <td>MISSES</td>\n",
              "      <td>F</td>\n",
              "      <td>Unknown</td>\n",
              "      <td>Unknown</td>\n",
              "      <td>1</td>\n",
              "      <td>Y</td>\n",
              "      <td>1</td>\n",
              "      <td>0</td>\n",
              "      <td>0</td>\n",
              "      <td>0</td>\n",
              "      <td>0</td>\n",
              "      <td>0</td>\n",
              "      <td>0</td>\n",
              "      <td>1</td>\n",
              "      <td>Other</td>\n",
              "      <td>1</td>\n",
              "      <td>0</td>\n",
              "      <td>7404</td>\n",
              "    </tr>\n",
              "    <tr>\n",
              "      <th>279551</th>\n",
              "      <td>2018-03-08</td>\n",
              "      <td>1999-01-01</td>\n",
              "      <td>DUS</td>\n",
              "      <td>035443</td>\n",
              "      <td>MK</td>\n",
              "      <td>TS</td>\n",
              "      <td>MISTER</td>\n",
              "      <td>M</td>\n",
              "      <td>IST</td>\n",
              "      <td>SZF</td>\n",
              "      <td>1</td>\n",
              "      <td>Y</td>\n",
              "      <td>1</td>\n",
              "      <td>1</td>\n",
              "      <td>7</td>\n",
              "      <td>0</td>\n",
              "      <td>0</td>\n",
              "      <td>0</td>\n",
              "      <td>0</td>\n",
              "      <td>1</td>\n",
              "      <td>Mobile</td>\n",
              "      <td>0</td>\n",
              "      <td>0</td>\n",
              "      <td>7006</td>\n",
              "    </tr>\n",
              "    <tr>\n",
              "      <th>279139</th>\n",
              "      <td>2018-05-13</td>\n",
              "      <td>1999-01-01</td>\n",
              "      <td>DTV</td>\n",
              "      <td>000000</td>\n",
              "      <td>||</td>\n",
              "      <td>IA</td>\n",
              "      <td>MISTER</td>\n",
              "      <td>M</td>\n",
              "      <td>IST</td>\n",
              "      <td>DTV</td>\n",
              "      <td>1</td>\n",
              "      <td>Y</td>\n",
              "      <td>0</td>\n",
              "      <td>1</td>\n",
              "      <td>17</td>\n",
              "      <td>0</td>\n",
              "      <td>0</td>\n",
              "      <td>0</td>\n",
              "      <td>0</td>\n",
              "      <td>1</td>\n",
              "      <td>Other</td>\n",
              "      <td>0</td>\n",
              "      <td>0</td>\n",
              "      <td>7072</td>\n",
              "    </tr>\n",
              "    <tr>\n",
              "      <th>245970</th>\n",
              "      <td>2019-03-21</td>\n",
              "      <td>1999-01-01</td>\n",
              "      <td>NDG</td>\n",
              "      <td>03539P</td>\n",
              "      <td>MK</td>\n",
              "      <td>TS</td>\n",
              "      <td>MISTER</td>\n",
              "      <td>M</td>\n",
              "      <td>SKW</td>\n",
              "      <td>NDG</td>\n",
              "      <td>1</td>\n",
              "      <td>Y</td>\n",
              "      <td>0</td>\n",
              "      <td>0</td>\n",
              "      <td>0</td>\n",
              "      <td>0</td>\n",
              "      <td>0</td>\n",
              "      <td>0</td>\n",
              "      <td>0</td>\n",
              "      <td>1</td>\n",
              "      <td>Mobile</td>\n",
              "      <td>0</td>\n",
              "      <td>0</td>\n",
              "      <td>7384</td>\n",
              "    </tr>\n",
              "    <tr>\n",
              "      <th>271244</th>\n",
              "      <td>2019-03-07</td>\n",
              "      <td>1999-01-01</td>\n",
              "      <td>TJV</td>\n",
              "      <td>0B6C1P</td>\n",
              "      <td>KS</td>\n",
              "      <td>TY</td>\n",
              "      <td>MISTER</td>\n",
              "      <td>M</td>\n",
              "      <td>Unknown</td>\n",
              "      <td>Unknown</td>\n",
              "      <td>1</td>\n",
              "      <td>Y</td>\n",
              "      <td>1</td>\n",
              "      <td>1</td>\n",
              "      <td>2</td>\n",
              "      <td>0</td>\n",
              "      <td>0</td>\n",
              "      <td>0</td>\n",
              "      <td>0</td>\n",
              "      <td>1</td>\n",
              "      <td>Counter</td>\n",
              "      <td>1</td>\n",
              "      <td>0</td>\n",
              "      <td>7370</td>\n",
              "    </tr>\n",
              "    <tr>\n",
              "      <th>267573</th>\n",
              "      <td>2019-03-07</td>\n",
              "      <td>1999-01-01</td>\n",
              "      <td>VKO</td>\n",
              "      <td>03F39P</td>\n",
              "      <td>RQ</td>\n",
              "      <td>QC</td>\n",
              "      <td>MISTER</td>\n",
              "      <td>M</td>\n",
              "      <td>ISL</td>\n",
              "      <td>Unknown</td>\n",
              "      <td>1</td>\n",
              "      <td>Y</td>\n",
              "      <td>0</td>\n",
              "      <td>0</td>\n",
              "      <td>0</td>\n",
              "      <td>0</td>\n",
              "      <td>0</td>\n",
              "      <td>0</td>\n",
              "      <td>0</td>\n",
              "      <td>1</td>\n",
              "      <td>Counter</td>\n",
              "      <td>0</td>\n",
              "      <td>0</td>\n",
              "      <td>7370</td>\n",
              "    </tr>\n",
              "    <tr>\n",
              "      <th>266021</th>\n",
              "      <td>2019-03-06</td>\n",
              "      <td>1999-01-01</td>\n",
              "      <td>ISL</td>\n",
              "      <td>035443</td>\n",
              "      <td>MK</td>\n",
              "      <td>TS</td>\n",
              "      <td>MISTER</td>\n",
              "      <td>M</td>\n",
              "      <td>ISL</td>\n",
              "      <td>Unknown</td>\n",
              "      <td>1</td>\n",
              "      <td>Y</td>\n",
              "      <td>1</td>\n",
              "      <td>0</td>\n",
              "      <td>0</td>\n",
              "      <td>0</td>\n",
              "      <td>0</td>\n",
              "      <td>0</td>\n",
              "      <td>0</td>\n",
              "      <td>1</td>\n",
              "      <td>Mobile</td>\n",
              "      <td>0</td>\n",
              "      <td>0</td>\n",
              "      <td>7369</td>\n",
              "    </tr>\n",
              "    <tr>\n",
              "      <th>261604</th>\n",
              "      <td>2018-05-30</td>\n",
              "      <td>1999-01-01</td>\n",
              "      <td>TLQ</td>\n",
              "      <td>03F932</td>\n",
              "      <td>FV</td>\n",
              "      <td>QC</td>\n",
              "      <td>MISTER</td>\n",
              "      <td>M</td>\n",
              "      <td>IST</td>\n",
              "      <td>Unknown</td>\n",
              "      <td>1</td>\n",
              "      <td>Y</td>\n",
              "      <td>1</td>\n",
              "      <td>1</td>\n",
              "      <td>16</td>\n",
              "      <td>0</td>\n",
              "      <td>0</td>\n",
              "      <td>0</td>\n",
              "      <td>0</td>\n",
              "      <td>1</td>\n",
              "      <td>Counter</td>\n",
              "      <td>0</td>\n",
              "      <td>0</td>\n",
              "      <td>7089</td>\n",
              "    </tr>\n",
              "    <tr>\n",
              "      <th>261581</th>\n",
              "      <td>2019-04-12</td>\n",
              "      <td>1999-01-01</td>\n",
              "      <td>GYD</td>\n",
              "      <td>03FDP1</td>\n",
              "      <td>VY</td>\n",
              "      <td>QC</td>\n",
              "      <td>MISSES</td>\n",
              "      <td>F</td>\n",
              "      <td>IST</td>\n",
              "      <td>GYD</td>\n",
              "      <td>1</td>\n",
              "      <td>Y</td>\n",
              "      <td>0</td>\n",
              "      <td>0</td>\n",
              "      <td>0</td>\n",
              "      <td>0</td>\n",
              "      <td>0</td>\n",
              "      <td>0</td>\n",
              "      <td>0</td>\n",
              "      <td>1</td>\n",
              "      <td>Counter</td>\n",
              "      <td>0</td>\n",
              "      <td>0</td>\n",
              "      <td>7406</td>\n",
              "    </tr>\n",
              "    <tr>\n",
              "      <th>259651</th>\n",
              "      <td>2018-05-30</td>\n",
              "      <td>1999-01-01</td>\n",
              "      <td>OGU</td>\n",
              "      <td>03F39C</td>\n",
              "      <td>HV</td>\n",
              "      <td>QC</td>\n",
              "      <td>MISTER</td>\n",
              "      <td>M</td>\n",
              "      <td>SKW</td>\n",
              "      <td>OGU</td>\n",
              "      <td>1</td>\n",
              "      <td>Y</td>\n",
              "      <td>0</td>\n",
              "      <td>0</td>\n",
              "      <td>0</td>\n",
              "      <td>0</td>\n",
              "      <td>0</td>\n",
              "      <td>0</td>\n",
              "      <td>0</td>\n",
              "      <td>1</td>\n",
              "      <td>Counter</td>\n",
              "      <td>0</td>\n",
              "      <td>0</td>\n",
              "      <td>7089</td>\n",
              "    </tr>\n",
              "    <tr>\n",
              "      <th>258235</th>\n",
              "      <td>2019-03-27</td>\n",
              "      <td>1999-01-01</td>\n",
              "      <td>NDG</td>\n",
              "      <td>03523F</td>\n",
              "      <td>SC</td>\n",
              "      <td>SC</td>\n",
              "      <td>MISTER</td>\n",
              "      <td>M</td>\n",
              "      <td>IST</td>\n",
              "      <td>Unknown</td>\n",
              "      <td>1</td>\n",
              "      <td>Y</td>\n",
              "      <td>0</td>\n",
              "      <td>0</td>\n",
              "      <td>0</td>\n",
              "      <td>0</td>\n",
              "      <td>0</td>\n",
              "      <td>0</td>\n",
              "      <td>0</td>\n",
              "      <td>1</td>\n",
              "      <td>Kiosks</td>\n",
              "      <td>0</td>\n",
              "      <td>0</td>\n",
              "      <td>7390</td>\n",
              "    </tr>\n",
              "    <tr>\n",
              "      <th>257975</th>\n",
              "      <td>2018-06-19</td>\n",
              "      <td>1999-01-01</td>\n",
              "      <td>VIE</td>\n",
              "      <td>035414</td>\n",
              "      <td>MK</td>\n",
              "      <td>TS</td>\n",
              "      <td>MISTER</td>\n",
              "      <td>M</td>\n",
              "      <td>IST</td>\n",
              "      <td>IST</td>\n",
              "      <td>0</td>\n",
              "      <td>Y</td>\n",
              "      <td>1</td>\n",
              "      <td>2</td>\n",
              "      <td>13</td>\n",
              "      <td>0</td>\n",
              "      <td>0</td>\n",
              "      <td>0</td>\n",
              "      <td>0</td>\n",
              "      <td>1</td>\n",
              "      <td>Mobile</td>\n",
              "      <td>0</td>\n",
              "      <td>1</td>\n",
              "      <td>7109</td>\n",
              "    </tr>\n",
              "    <tr>\n",
              "      <th>257870</th>\n",
              "      <td>2019-03-16</td>\n",
              "      <td>1999-01-01</td>\n",
              "      <td>ISL</td>\n",
              "      <td>03523F</td>\n",
              "      <td>SC</td>\n",
              "      <td>SC</td>\n",
              "      <td>MISTER</td>\n",
              "      <td>M</td>\n",
              "      <td>ISL</td>\n",
              "      <td>Unknown</td>\n",
              "      <td>1</td>\n",
              "      <td>Y</td>\n",
              "      <td>1</td>\n",
              "      <td>0</td>\n",
              "      <td>0</td>\n",
              "      <td>0</td>\n",
              "      <td>0</td>\n",
              "      <td>0</td>\n",
              "      <td>0</td>\n",
              "      <td>1</td>\n",
              "      <td>Kiosks</td>\n",
              "      <td>0</td>\n",
              "      <td>0</td>\n",
              "      <td>7379</td>\n",
              "    </tr>\n",
              "    <tr>\n",
              "      <th>254816</th>\n",
              "      <td>2018-06-20</td>\n",
              "      <td>1999-01-01</td>\n",
              "      <td>MED</td>\n",
              "      <td>03FD3F</td>\n",
              "      <td>KA</td>\n",
              "      <td>QC</td>\n",
              "      <td>MISSES</td>\n",
              "      <td>F</td>\n",
              "      <td>MED</td>\n",
              "      <td>KDK</td>\n",
              "      <td>1</td>\n",
              "      <td>Y</td>\n",
              "      <td>0</td>\n",
              "      <td>4</td>\n",
              "      <td>55</td>\n",
              "      <td>0</td>\n",
              "      <td>0</td>\n",
              "      <td>0</td>\n",
              "      <td>0</td>\n",
              "      <td>1</td>\n",
              "      <td>Counter</td>\n",
              "      <td>0</td>\n",
              "      <td>0</td>\n",
              "      <td>7110</td>\n",
              "    </tr>\n",
              "    <tr>\n",
              "      <th>253816</th>\n",
              "      <td>2018-06-15</td>\n",
              "      <td>1999-01-01</td>\n",
              "      <td>KWI</td>\n",
              "      <td>03F3AF</td>\n",
              "      <td>AN</td>\n",
              "      <td>QC</td>\n",
              "      <td>MISS</td>\n",
              "      <td>F</td>\n",
              "      <td>KWI</td>\n",
              "      <td>TZX</td>\n",
              "      <td>1</td>\n",
              "      <td>Y</td>\n",
              "      <td>0</td>\n",
              "      <td>0</td>\n",
              "      <td>0</td>\n",
              "      <td>0</td>\n",
              "      <td>0</td>\n",
              "      <td>0</td>\n",
              "      <td>0</td>\n",
              "      <td>1</td>\n",
              "      <td>Counter</td>\n",
              "      <td>0</td>\n",
              "      <td>0</td>\n",
              "      <td>7105</td>\n",
              "    </tr>\n",
              "    <tr>\n",
              "      <th>252809</th>\n",
              "      <td>2019-03-21</td>\n",
              "      <td>1999-01-01</td>\n",
              "      <td>TJV</td>\n",
              "      <td>032931</td>\n",
              "      <td>KS</td>\n",
              "      <td>QC</td>\n",
              "      <td>MISTER</td>\n",
              "      <td>M</td>\n",
              "      <td>Unknown</td>\n",
              "      <td>TJV</td>\n",
              "      <td>1</td>\n",
              "      <td>Y</td>\n",
              "      <td>1</td>\n",
              "      <td>0</td>\n",
              "      <td>0</td>\n",
              "      <td>0</td>\n",
              "      <td>1</td>\n",
              "      <td>0</td>\n",
              "      <td>0</td>\n",
              "      <td>1</td>\n",
              "      <td>Counter</td>\n",
              "      <td>1</td>\n",
              "      <td>0</td>\n",
              "      <td>7384</td>\n",
              "    </tr>\n",
              "    <tr>\n",
              "      <th>251237</th>\n",
              "      <td>2019-04-15</td>\n",
              "      <td>1999-01-01</td>\n",
              "      <td>PRG</td>\n",
              "      <td>03FDDF</td>\n",
              "      <td>NK</td>\n",
              "      <td>QC</td>\n",
              "      <td>MISTER</td>\n",
              "      <td>M</td>\n",
              "      <td>IST</td>\n",
              "      <td>Unknown</td>\n",
              "      <td>1</td>\n",
              "      <td>Y</td>\n",
              "      <td>1</td>\n",
              "      <td>1</td>\n",
              "      <td>15</td>\n",
              "      <td>0</td>\n",
              "      <td>0</td>\n",
              "      <td>0</td>\n",
              "      <td>0</td>\n",
              "      <td>1</td>\n",
              "      <td>Counter</td>\n",
              "      <td>0</td>\n",
              "      <td>1</td>\n",
              "      <td>7409</td>\n",
              "    </tr>\n",
              "    <tr>\n",
              "      <th>269293</th>\n",
              "      <td>2018-03-26</td>\n",
              "      <td>1999-01-01</td>\n",
              "      <td>MUN</td>\n",
              "      <td>000000</td>\n",
              "      <td>||</td>\n",
              "      <td>IA</td>\n",
              "      <td>MISTER</td>\n",
              "      <td>M</td>\n",
              "      <td>MUN</td>\n",
              "      <td>IKD</td>\n",
              "      <td>1</td>\n",
              "      <td>C</td>\n",
              "      <td>0</td>\n",
              "      <td>0</td>\n",
              "      <td>0</td>\n",
              "      <td>0</td>\n",
              "      <td>0</td>\n",
              "      <td>1</td>\n",
              "      <td>0</td>\n",
              "      <td>1</td>\n",
              "      <td>Other</td>\n",
              "      <td>0</td>\n",
              "      <td>0</td>\n",
              "      <td>7024</td>\n",
              "    </tr>\n",
              "    <tr>\n",
              "      <th>808162</th>\n",
              "      <td>2018-03-10</td>\n",
              "      <td>1999-01-01</td>\n",
              "      <td>VIE</td>\n",
              "      <td>09553C</td>\n",
              "      <td>EM</td>\n",
              "      <td>TY</td>\n",
              "      <td>MISTER</td>\n",
              "      <td>M</td>\n",
              "      <td>IST</td>\n",
              "      <td>Unknown</td>\n",
              "      <td>0</td>\n",
              "      <td>Y</td>\n",
              "      <td>0</td>\n",
              "      <td>0</td>\n",
              "      <td>0</td>\n",
              "      <td>0</td>\n",
              "      <td>0</td>\n",
              "      <td>0</td>\n",
              "      <td>0</td>\n",
              "      <td>1</td>\n",
              "      <td>Counter</td>\n",
              "      <td>0</td>\n",
              "      <td>1</td>\n",
              "      <td>7008</td>\n",
              "    </tr>\n",
              "  </tbody>\n",
              "</table>\n",
              "<p>477 rows × 24 columns</p>\n",
              "</div>"
            ],
            "text/plain": [
              "       Departure_YMD_LMT  ... Early_Check_In\n",
              "469           2018-04-04  ...           7033\n",
              "555391        2019-04-21  ...           7415\n",
              "553128        2019-04-16  ...           7410\n",
              "551608        2019-03-17  ...           7380\n",
              "551287        2019-03-14  ...           7377\n",
              "550406        2018-03-29  ...           7027\n",
              "549936        2019-05-31  ...           7455\n",
              "547407        2018-06-04  ...           7094\n",
              "543253        2019-04-10  ...           7404\n",
              "541138        2018-03-12  ...           7010\n",
              "536708        2018-03-18  ...           7016\n",
              "535795        2018-03-15  ...           7013\n",
              "533869        2019-03-29  ...           7392\n",
              "531810        2018-03-21  ...           7019\n",
              "530144        2019-04-15  ...           7409\n",
              "528408        2019-03-24  ...           7387\n",
              "527719        2019-03-23  ...           7386\n",
              "527384        2018-06-06  ...           7096\n",
              "524905        2018-05-16  ...           7075\n",
              "522922        2018-06-16  ...           7106\n",
              "522899        2019-04-19  ...           7413\n",
              "519394        2018-04-04  ...           7033\n",
              "515578        2018-05-31  ...           7090\n",
              "514514        2018-03-18  ...           7016\n",
              "513878        2018-03-18  ...           7016\n",
              "513569        2018-06-05  ...           7095\n",
              "557084        2018-03-15  ...           7013\n",
              "557351        2018-06-05  ...           7095\n",
              "563037        2019-03-17  ...           7380\n",
              "564697        2019-04-02  ...           7396\n",
              "...                  ...  ...            ...\n",
              "243798        2019-05-31  ...           7455\n",
              "248149        2018-03-22  ...           7020\n",
              "302115        2018-04-05  ...           7034\n",
              "301086        2019-04-16  ...           7410\n",
              "298210        2018-06-15  ...           7105\n",
              "295500        2019-05-19  ...           7443\n",
              "292299        2019-03-22  ...           7385\n",
              "284685        2019-05-31  ...           7455\n",
              "283996        2018-04-11  ...           7040\n",
              "281868        2018-03-01  ...           6999\n",
              "281847        2018-04-16  ...           7045\n",
              "280297        2019-04-10  ...           7404\n",
              "279551        2018-03-08  ...           7006\n",
              "279139        2018-05-13  ...           7072\n",
              "245970        2019-03-21  ...           7384\n",
              "271244        2019-03-07  ...           7370\n",
              "267573        2019-03-07  ...           7370\n",
              "266021        2019-03-06  ...           7369\n",
              "261604        2018-05-30  ...           7089\n",
              "261581        2019-04-12  ...           7406\n",
              "259651        2018-05-30  ...           7089\n",
              "258235        2019-03-27  ...           7390\n",
              "257975        2018-06-19  ...           7109\n",
              "257870        2019-03-16  ...           7379\n",
              "254816        2018-06-20  ...           7110\n",
              "253816        2018-06-15  ...           7105\n",
              "252809        2019-03-21  ...           7384\n",
              "251237        2019-04-15  ...           7409\n",
              "269293        2018-03-26  ...           7024\n",
              "808162        2018-03-10  ...           7008\n",
              "\n",
              "[477 rows x 24 columns]"
            ]
          },
          "metadata": {
            "tags": []
          },
          "execution_count": 40
        }
      ]
    },
    {
      "cell_type": "markdown",
      "metadata": {
        "id": "WorjhS29RZlo",
        "colab_type": "text"
      },
      "source": [
        "We replaced the check-in day as early, on-time and peculiar."
      ]
    },
    {
      "cell_type": "code",
      "metadata": {
        "id": "v_zaLveCRqjl",
        "colab_type": "code",
        "colab": {}
      },
      "source": [
        "train_df.loc[train_df.Early_Check_In > 100, 'Early_Check_In_Status'] = 'Peculiar'\n",
        "train_df.loc[(train_df.Early_Check_In == 0) | (train_df.Early_Check_In == -1), 'Early_Check_In_Status'] = 'On-time'\n",
        "train_df.loc[(train_df.Early_Check_In == 1) | (train_df.Early_Check_In == 2) | (train_df.Early_Check_In == 3), 'Early_Check_In_Status'] = 'Early'"
      ],
      "execution_count": 0,
      "outputs": []
    },
    {
      "cell_type": "markdown",
      "metadata": {
        "id": "1HYwYqwVSWbM",
        "colab_type": "text"
      },
      "source": [
        "Do the same for the result set."
      ]
    },
    {
      "cell_type": "code",
      "metadata": {
        "id": "HtHSktQbScqJ",
        "colab_type": "code",
        "colab": {}
      },
      "source": [
        "result_df['Early_Check_In'] = (result_df.Departure_YMD_LMT - result_df.Operation_YMD_LMT)\n",
        "result_df['Early_Check_In'] = (result_df['Early_Check_In']/86400000000000).astype(int)\n",
        "result_df.loc[result_df.Early_Check_In > 100, 'Early_Check_In_Status'] = 'Peculiar'\n",
        "result_df.loc[(result_df.Early_Check_In == 0) | (result_df.Early_Check_In == -1), 'Early_Check_In_Status'] = 'On-time'\n",
        "result_df.loc[(result_df.Early_Check_In == 1) | (result_df.Early_Check_In == 2) | (result_df.Early_Check_In == 3), 'Early_Check_In_Status'] = 'Early'"
      ],
      "execution_count": 0,
      "outputs": []
    },
    {
      "cell_type": "markdown",
      "metadata": {
        "id": "wtCU50W6Wf-F",
        "colab_type": "text"
      },
      "source": [
        "The flights with no inbound and no outbound terminal are direct flights so we generated a new colum to label those flights"
      ]
    },
    {
      "cell_type": "code",
      "metadata": {
        "id": "TAxU-lnlVd3d",
        "colab_type": "code",
        "colab": {}
      },
      "source": [
        "train_df['Direct_Flight'] = np.where((train_df.Inbound_Departure_Airport == 'Unknown') & (train_df.Outbound_Arrival_Airport == 'Unknown'), 1, 0)\n",
        "result_df['Direct_Flight'] = np.where((result_df.Inbound_Departure_Airport == 'Unknown') & (result_df.Outbound_Arrival_Airport == 'Unknown'), 1, 0)"
      ],
      "execution_count": 0,
      "outputs": []
    },
    {
      "cell_type": "markdown",
      "metadata": {
        "id": "CywhuSD1Zxg-",
        "colab_type": "text"
      },
      "source": [
        "We thought that may be week of day, weekend/weekday information might be usefull. Weekend days are encoded as 1 in the *Weekend* column."
      ]
    },
    {
      "cell_type": "code",
      "metadata": {
        "id": "akDymq3AeIfj",
        "colab_type": "code",
        "colab": {}
      },
      "source": [
        "import datetime\n",
        "train_df['Weekend'] = [x in [5,6] for x in train_df.Departure_YMD_LMT.dt.weekday]\n",
        "train_df['Weekend'] = train_df['Weekend'].replace(True, int(1))\n",
        "train_df['Weekend'] = train_df['Weekend'].replace(False, int(0))\n",
        "result_df['Weekend'] = [x in [5,6] for x in result_df.Departure_YMD_LMT.dt.weekday]\n",
        "result_df['Weekend'] = result_df['Weekend'].replace(True, int(1))\n",
        "result_df['Weekend'] = result_df['Weekend'].replace(False, int(0))"
      ],
      "execution_count": 0,
      "outputs": []
    },
    {
      "cell_type": "code",
      "metadata": {
        "id": "HKKUix3-EWJi",
        "colab_type": "code",
        "colab": {
          "base_uri": "https://localhost:8080/",
          "height": 119
        },
        "outputId": "d3e486df-f505-4657-fc1b-0a5e45a95b99"
      },
      "source": [
        "train_df.Weekend.head()"
      ],
      "execution_count": 45,
      "outputs": [
        {
          "output_type": "execute_result",
          "data": {
            "text/plain": [
              "0    0.0\n",
              "1    0.0\n",
              "2    0.0\n",
              "3    0.0\n",
              "4    1.0\n",
              "Name: Weekend, dtype: float64"
            ]
          },
          "metadata": {
            "tags": []
          },
          "execution_count": 45
        }
      ]
    },
    {
      "cell_type": "markdown",
      "metadata": {
        "id": "LWXVCZVQB00s",
        "colab_type": "text"
      },
      "source": [
        "Generate *Departure Day* column:"
      ]
    },
    {
      "cell_type": "code",
      "metadata": {
        "id": "L4JvhincBJ5c",
        "colab_type": "code",
        "colab": {
          "base_uri": "https://localhost:8080/",
          "height": 119
        },
        "outputId": "6d1c971f-077a-49b6-f0ca-72c314ab4cbb"
      },
      "source": [
        "train_df.insert(1,'Departure Day','foo')\n",
        "train_df['Departure Day'] = train_df['Departure_YMD_LMT'].dt.weekday_name\n",
        "\n",
        "result_df.insert(1,'Departure Day','foo')\n",
        "result_df['Departure Day'] = train_df['Departure_YMD_LMT'].dt.weekday_name\n",
        "\n",
        "train_df['Departure Day'].head()"
      ],
      "execution_count": 46,
      "outputs": [
        {
          "output_type": "execute_result",
          "data": {
            "text/plain": [
              "0      Tuesday\n",
              "1    Wednesday\n",
              "2       Friday\n",
              "3      Tuesday\n",
              "4     Saturday\n",
              "Name: Departure Day, dtype: object"
            ]
          },
          "metadata": {
            "tags": []
          },
          "execution_count": 46
        }
      ]
    },
    {
      "cell_type": "markdown",
      "metadata": {
        "id": "ltshc6kDIQJy",
        "colab_type": "text"
      },
      "source": [
        "Transform categorical *Cabin Class* column to binary variable."
      ]
    },
    {
      "cell_type": "code",
      "metadata": {
        "id": "MO6IJgPmIaD5",
        "colab_type": "code",
        "colab": {
          "base_uri": "https://localhost:8080/",
          "height": 35
        },
        "outputId": "cbbf81ed-a265-4349-e27f-35e3897c2f46"
      },
      "source": [
        "#result_df['Economy_Class'] = result_df['Cabin_Class'].replace(\"Y\", 1)\n",
        "#result_df['Economy_Class'] = result_df['Cabin_Class'].replace(\"C\", 0)\n",
        "#result_df.drop(\"Cabin_Class\", axis = 1)\n",
        "##result_df[\"Economy_Class\"].unique()\n",
        "dict = {\"Y\": 1,\n",
        "        \"C\": 0\n",
        "        }\n",
        "train_df['Economy_Class'] = train_df['Cabin_Class'].map(dict)\n",
        "train_df = train_df.drop(\"Cabin_Class\", axis = 1)\n",
        "result_df['Economy_Class'] = result_df['Cabin_Class'].map(dict)\n",
        "result_df = result_df.drop(\"Cabin_Class\", axis = 1)\n",
        "train_df['Economy_Class'].unique()"
      ],
      "execution_count": 47,
      "outputs": [
        {
          "output_type": "execute_result",
          "data": {
            "text/plain": [
              "array([1, 0])"
            ]
          },
          "metadata": {
            "tags": []
          },
          "execution_count": 47
        }
      ]
    },
    {
      "cell_type": "markdown",
      "metadata": {
        "id": "PRVOF_Xhunel",
        "colab_type": "text"
      },
      "source": [
        "## Encoding Categorical Features"
      ]
    },
    {
      "cell_type": "code",
      "metadata": {
        "id": "lS4UMDYIumpJ",
        "colab_type": "code",
        "colab": {
          "base_uri": "https://localhost:8080/",
          "height": 520
        },
        "outputId": "2ae347e5-1fa0-4dc0-ab6d-af83d435ab35"
      },
      "source": [
        "train_df.dtypes"
      ],
      "execution_count": 48,
      "outputs": [
        {
          "output_type": "execute_result",
          "data": {
            "text/plain": [
              "Departure_YMD_LMT            datetime64[ns]\n",
              "Departure Day                        object\n",
              "Operation_YMD_LMT            datetime64[ns]\n",
              "Operation_Airport                  category\n",
              "Terminal_Name                      category\n",
              "Operation_Initials                 category\n",
              "Operation_Channel                  category\n",
              "Passenger_Title                    category\n",
              "Passenger_Gender                   category\n",
              "Inbound_Departure_Airport            object\n",
              "Outbound_Arrival_Airport             object\n",
              "SWC_FLY                               int64\n",
              "SWC_FQTV_Member                       int64\n",
              "Passenger_Baggage_Count               int64\n",
              "Passenger_Baggage_Weight              int64\n",
              "SWC_Staff                             int64\n",
              "SWC_CIP_Passenger                     int64\n",
              "SWC_VIP_Passenger                     int64\n",
              "SWC_Has_Infant                        int64\n",
              "Operation_Count                       int64\n",
              "Operation_Channel_Group              object\n",
              "Operation_Sonic_Code_Flag             int64\n",
              "Terminal_Number_Flag                  int64\n",
              "Early_Check_In                        int64\n",
              "Early_Check_In_Status                object\n",
              "Direct_Flight                         int64\n",
              "Weekend                             float64\n",
              "Economy_Class                         int64\n",
              "dtype: object"
            ]
          },
          "metadata": {
            "tags": []
          },
          "execution_count": 48
        }
      ]
    },
    {
      "cell_type": "markdown",
      "metadata": {
        "id": "jTCZbJCUxdWX",
        "colab_type": "text"
      },
      "source": [
        "Encode categorical columns"
      ]
    },
    {
      "cell_type": "code",
      "metadata": {
        "id": "Bn7AH7VXwQbm",
        "colab_type": "code",
        "colab": {
          "base_uri": "https://localhost:8080/",
          "height": 121
        },
        "outputId": "85e188dc-81dc-4aba-8b1c-4aadee18cfea"
      },
      "source": [
        "train_onehot = train_df.copy()\n",
        "#train_onehot.drop(columns = [\"Operation_Initials\", \"Terminal_Name\"], axis =1)\n",
        "result_onehot = result_df.copy()\n",
        "for cols in train_df.columns: #leave as traidf!!!\n",
        "  if train_onehot[cols].dtype.name == 'category':\n",
        "    print(cols)\n",
        "    one_hot = pd.get_dummies(train_df[cols], prefix = cols)\n",
        "    train_onehot = train_onehot.drop(cols,axis = 1)\n",
        "    train_onehot = train_onehot.join(one_hot)\n",
        "  "
      ],
      "execution_count": 49,
      "outputs": [
        {
          "output_type": "stream",
          "text": [
            "Operation_Airport\n",
            "Terminal_Name\n",
            "Operation_Initials\n",
            "Operation_Channel\n",
            "Passenger_Title\n",
            "Passenger_Gender\n"
          ],
          "name": "stdout"
        }
      ]
    },
    {
      "cell_type": "code",
      "metadata": {
        "id": "EZkxjtnb1vEm",
        "colab_type": "code",
        "colab": {
          "base_uri": "https://localhost:8080/",
          "height": 208
        },
        "outputId": "f24391bb-6436-4328-ccf4-1eb7850adf4c"
      },
      "source": [
        "train_onehot.columns"
      ],
      "execution_count": 50,
      "outputs": [
        {
          "output_type": "execute_result",
          "data": {
            "text/plain": [
              "Index(['Departure_YMD_LMT', 'Departure Day', 'Operation_YMD_LMT',\n",
              "       'Inbound_Departure_Airport', 'Outbound_Arrival_Airport', 'SWC_FLY',\n",
              "       'SWC_FQTV_Member', 'Passenger_Baggage_Count',\n",
              "       'Passenger_Baggage_Weight', 'SWC_Staff',\n",
              "       ...\n",
              "       'Passenger_Title_MISSES', 'Passenger_Title_MISTER',\n",
              "       'Passenger_Title_PROFFESOR', 'Passenger_Gender_?', 'Passenger_Gender_C',\n",
              "       'Passenger_Gender_C/INF', 'Passenger_Gender_F',\n",
              "       'Passenger_Gender_F/INF', 'Passenger_Gender_M',\n",
              "       'Passenger_Gender_M/INF'],\n",
              "      dtype='object', length=3148)"
            ]
          },
          "metadata": {
            "tags": []
          },
          "execution_count": 50
        }
      ]
    },
    {
      "cell_type": "markdown",
      "metadata": {
        "id": "i_yP2l6mMJ08",
        "colab_type": "text"
      },
      "source": [
        "## Correlation Matrix"
      ]
    },
    {
      "cell_type": "code",
      "metadata": {
        "id": "35cGI-2CNamg",
        "colab_type": "code",
        "colab": {
          "base_uri": "https://localhost:8080/",
          "height": 418
        },
        "outputId": "c5cf332e-11dc-44b7-f4f6-6765f3e7fdcf"
      },
      "source": [
        "import seaborn as sns\n",
        "corr = train_df.corr()\n",
        "sns.heatmap(corr, \n",
        "            xticklabels=corr.columns.values,\n",
        "            yticklabels=corr.columns.values)"
      ],
      "execution_count": 51,
      "outputs": [
        {
          "output_type": "execute_result",
          "data": {
            "text/plain": [
              "<matplotlib.axes._subplots.AxesSubplot at 0x7fb360101898>"
            ]
          },
          "metadata": {
            "tags": []
          },
          "execution_count": 51
        },
        {
          "output_type": "display_data",
          "data": {
            "image/png": "[encoded data removed]",
            "text/plain": [
              "<Figure size 432x288 with 2 Axes>"
            ]
          },
          "metadata": {
            "tags": []
          }
        }
      ]
    },
    {
      "cell_type": "markdown",
      "metadata": {
        "id": "ljbwi0pUiLYp",
        "colab_type": "text"
      },
      "source": [
        "## Feature Importance"
      ]
    },
    {
      "cell_type": "code",
      "metadata": {
        "id": "EbGkK5vMM6-m",
        "colab_type": "code",
        "colab": {
          "base_uri": "https://localhost:8080/",
          "height": 54
        },
        "outputId": "1e101637-0b0c-4011-fb3d-b7e3ed8f4b77"
      },
      "source": [
        "'''#import seaborn as sns\n",
        "corr = train_onehot.corr()\n",
        "sns.heatmap(corr, \n",
        "            xticklabels=corr.columns.values,\n",
        "            yticklabels=corr.columns.values)'''"
      ],
      "execution_count": 52,
      "outputs": [
        {
          "output_type": "execute_result",
          "data": {
            "text/plain": [
              "'#import seaborn as sns\\ncorr = train_onehot.corr()\\nsns.heatmap(corr, \\n            xticklabels=corr.columns.values,\\n            yticklabels=corr.columns.values)'"
            ]
          },
          "metadata": {
            "tags": []
          },
          "execution_count": 52
        }
      ]
    },
    {
      "cell_type": "code",
      "metadata": {
        "id": "Pn7VPsszeXnJ",
        "colab_type": "code",
        "colab": {
          "base_uri": "https://localhost:8080/",
          "height": 206
        },
        "outputId": "421e2c40-edd4-44b9-f0ce-40a8d7da791f"
      },
      "source": [
        "train_df.columns"
      ],
      "execution_count": 53,
      "outputs": [
        {
          "output_type": "execute_result",
          "data": {
            "text/plain": [
              "Index(['Departure_YMD_LMT', 'Departure Day', 'Operation_YMD_LMT',\n",
              "       'Operation_Airport', 'Terminal_Name', 'Operation_Initials',\n",
              "       'Operation_Channel', 'Passenger_Title', 'Passenger_Gender',\n",
              "       'Inbound_Departure_Airport', 'Outbound_Arrival_Airport', 'SWC_FLY',\n",
              "       'SWC_FQTV_Member', 'Passenger_Baggage_Count',\n",
              "       'Passenger_Baggage_Weight', 'SWC_Staff', 'SWC_CIP_Passenger',\n",
              "       'SWC_VIP_Passenger', 'SWC_Has_Infant', 'Operation_Count',\n",
              "       'Operation_Channel_Group', 'Operation_Sonic_Code_Flag',\n",
              "       'Terminal_Number_Flag', 'Early_Check_In', 'Early_Check_In_Status',\n",
              "       'Direct_Flight', 'Weekend', 'Economy_Class'],\n",
              "      dtype='object')"
            ]
          },
          "metadata": {
            "tags": []
          },
          "execution_count": 53
        }
      ]
    },
    {
      "cell_type": "code",
      "metadata": {
        "id": "tcA_A05Fh_MR",
        "colab_type": "code",
        "outputId": "071c4850-cbfc-4a61-cda7-68cc16ac36e7",
        "colab": {
          "base_uri": "https://localhost:8080/",
          "height": 503
        }
      },
      "source": [
        "import matplotlib.pyplot as plt\n",
        "fig, ax = plt.subplots(1, 1,figsize=(10, 8))\n",
        "train_df[\"Operation_Count\"].hist(bins=500, color=\"blue\", ax=ax)\n"
      ],
      "execution_count": 54,
      "outputs": [
        {
          "output_type": "execute_result",
          "data": {
            "text/plain": [
              "<matplotlib.axes._subplots.AxesSubplot at 0x7fb35c0dfba8>"
            ]
          },
          "metadata": {
            "tags": []
          },
          "execution_count": 54
        },
        {
          "output_type": "display_data",
          "data": {
            "image/png": "[encoded data removed]",
            "text/plain": [
              "<Figure size 720x576 with 1 Axes>"
            ]
          },
          "metadata": {
            "tags": []
          }
        }
      ]
    },
    {
      "cell_type": "markdown",
      "metadata": {
        "id": "JO2xXD7aF3Rs",
        "colab_type": "text"
      },
      "source": [
        "## References\n",
        "\n",
        "\n",
        "1.   [Impute Missing Values](https://jamesrledoux.com/code/imputation)\n",
        "2.   [Is it better to drop or impute values from data sets when applying ML, or would it be better to label them as 'missing' for categorical variables?](https://www.quora.com/Is-it-better-to-drop-or-impute-values-from-data-sets-when-applying-ML-or-would-it-be-better-to-label-them-as-missing-for-categorical-variables)\n",
        "\n"
      ]
    }
  ]
}