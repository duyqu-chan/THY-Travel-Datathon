{
  "nbformat": 4,
  "nbformat_minor": 0,
  "metadata": {
    "colab": {
      "name": "TravelDatathon_preselection.ipynb",
      "version": "0.3.2",
      "provenance": [],
      "collapsed_sections": [],
      "machine_shape": "hm",
      "include_colab_link": true
    },
    "kernelspec": {
      "name": "python3",
      "display_name": "Python 3"
    }
  },
  "cells": [
    {
      "cell_type": "markdown",
      "metadata": {
        "id": "view-in-github",
        "colab_type": "text"
      },
      "source": [
        "<a href=\"https://colab.research.google.com/github/duyqu-chan/THY-Travel-Datathon/blob/master/TravelDatathon_preselection.ipynb\" target=\"_parent\"><img src=\"https://colab.research.google.com/assets/colab-badge.svg\" alt=\"Open In Colab\"/></a>"
      ]
    },
    {
      "cell_type": "markdown",
      "metadata": {
        "id": "d6umBn88WlMy",
        "colab_type": "text"
      },
      "source": [
        "#THY Travel Datathon Preselection Case Study\n",
        "\n",
        "by Duygu Can, Meriç Pakkan, Neslihan Oflaz, Ahad Khaleghi Ardabili, Akın Erdem\n",
        "\n",
        "\n",
        "Flying passengers can check-in through the web site, applications, kiosks and counters. In this case study content, the train data including the number of seven-month passenger check-in operations is provided. We want you to estimate the number of channels (column Operation_Count) in the csv file attached."
      ]
    },
    {
      "cell_type": "markdown",
      "metadata": {
        "id": "eG0UfrxPXz_H",
        "colab_type": "text"
      },
      "source": [
        "Mount drive to load the data:"
      ]
    },
    {
      "cell_type": "code",
      "metadata": {
        "id": "XsobMdDBWfjX",
        "colab_type": "code",
        "outputId": "4f682e2d-1f2b-45ec-ccac-cdd3b50f582a",
        "colab": {
          "base_uri": "https://localhost:8080/",
          "height": 34
        }
      },
      "source": [
        "# Run this cell to mount your Google Drive.\n",
        "from google.colab import drive\n",
        "drive.mount('/content/drive')"
      ],
      "execution_count": 169,
      "outputs": [
        {
          "output_type": "stream",
          "text": [
            "Drive already mounted at /content/drive; to attempt to forcibly remount, call drive.mount(\"/content/drive\", force_remount=True).\n"
          ],
          "name": "stdout"
        }
      ]
    },
    {
      "cell_type": "markdown",
      "metadata": {
        "id": "0kLlbk20ZyIq",
        "colab_type": "text"
      },
      "source": [
        "## Dataset Expolaration"
      ]
    },
    {
      "cell_type": "markdown",
      "metadata": {
        "id": "SCQudbprX5pl",
        "colab_type": "text"
      },
      "source": [
        "Upload the data by reading provided .csv files from Google Drive (change path if needed). There are 808696 samples in the training and 121921 instances in the test sets. Each has 23 features."
      ]
    },
    {
      "cell_type": "code",
      "metadata": {
        "id": "WmZbEAnwYJj6",
        "colab_type": "code",
        "outputId": "e6d5ca51-a504-4854-fb7a-038a51d4cc46",
        "colab": {
          "base_uri": "https://localhost:8080/",
          "height": 258
        }
      },
      "source": [
        "import pandas as pd\n",
        "train_df = pd.read_csv(\"/content/drive/My Drive/Travel Datathon/Assessment Data/Assessment Train Data.csv\")\n",
        "result_df = pd.read_csv(\"/content/drive/My Drive/Travel Datathon/Assessment Data/Assessment Result File.csv\")\n",
        "print(train_df.shape)\n",
        "print(result_df.shape)\n",
        "train_df.head()"
      ],
      "execution_count": 170,
      "outputs": [
        {
          "output_type": "stream",
          "text": [
            "(808696, 23)\n",
            "(121921, 23)\n"
          ],
          "name": "stdout"
        },
        {
          "output_type": "execute_result",
          "data": {
            "text/html": [
              "<div>\n",
              "<style scoped>\n",
              "    .dataframe tbody tr th:only-of-type {\n",
              "        vertical-align: middle;\n",
              "    }\n",
              "\n",
              "    .dataframe tbody tr th {\n",
              "        vertical-align: top;\n",
              "    }\n",
              "\n",
              "    .dataframe thead th {\n",
              "        text-align: right;\n",
              "    }\n",
              "</style>\n",
              "<table border=\"1\" class=\"dataframe\">\n",
              "  <thead>\n",
              "    <tr style=\"text-align: right;\">\n",
              "      <th></th>\n",
              "      <th>Departure_YMD_LMT</th>\n",
              "      <th>Operation_YMD_LMT</th>\n",
              "      <th>Departure_Airport</th>\n",
              "      <th>Operation_Airport</th>\n",
              "      <th>Terminal_Number</th>\n",
              "      <th>Terminal_Name</th>\n",
              "      <th>Operation_Initials</th>\n",
              "      <th>Operation_Sonic_Code</th>\n",
              "      <th>Operation_Channel</th>\n",
              "      <th>Passenger_Title</th>\n",
              "      <th>Passenger_Gender</th>\n",
              "      <th>Inbound_Departure_Airport</th>\n",
              "      <th>Outbound_Arrival_Airport</th>\n",
              "      <th>SWC_FLY</th>\n",
              "      <th>Cabin_Class</th>\n",
              "      <th>SWC_FQTV_Member</th>\n",
              "      <th>Passenger_Baggage_Count</th>\n",
              "      <th>Passenger_Baggage_Weight</th>\n",
              "      <th>SWC_Staff</th>\n",
              "      <th>SWC_CIP_Passenger</th>\n",
              "      <th>SWC_VIP_Passenger</th>\n",
              "      <th>SWC_Has_Infant</th>\n",
              "      <th>Operation_Count</th>\n",
              "    </tr>\n",
              "  </thead>\n",
              "  <tbody>\n",
              "    <tr>\n",
              "      <th>0</th>\n",
              "      <td>20190326</td>\n",
              "      <td>20190326</td>\n",
              "      <td>KDT</td>\n",
              "      <td>KDT</td>\n",
              "      <td>?</td>\n",
              "      <td>032363</td>\n",
              "      <td>KS</td>\n",
              "      <td>?</td>\n",
              "      <td>QC</td>\n",
              "      <td>MISTER</td>\n",
              "      <td>M</td>\n",
              "      <td>IST</td>\n",
              "      <td>?</td>\n",
              "      <td>1</td>\n",
              "      <td>Y</td>\n",
              "      <td>1</td>\n",
              "      <td>0</td>\n",
              "      <td>0</td>\n",
              "      <td>0</td>\n",
              "      <td>1</td>\n",
              "      <td>0</td>\n",
              "      <td>0</td>\n",
              "      <td>1</td>\n",
              "    </tr>\n",
              "    <tr>\n",
              "      <th>1</th>\n",
              "      <td>20180321</td>\n",
              "      <td>20180321</td>\n",
              "      <td>KDT</td>\n",
              "      <td>KDT</td>\n",
              "      <td>?</td>\n",
              "      <td>03F960</td>\n",
              "      <td>KS</td>\n",
              "      <td>?</td>\n",
              "      <td>QC</td>\n",
              "      <td>MISTER</td>\n",
              "      <td>M</td>\n",
              "      <td>?</td>\n",
              "      <td>KDT</td>\n",
              "      <td>1</td>\n",
              "      <td>Y</td>\n",
              "      <td>1</td>\n",
              "      <td>0</td>\n",
              "      <td>0</td>\n",
              "      <td>0</td>\n",
              "      <td>1</td>\n",
              "      <td>0</td>\n",
              "      <td>0</td>\n",
              "      <td>1</td>\n",
              "    </tr>\n",
              "    <tr>\n",
              "      <th>2</th>\n",
              "      <td>20190322</td>\n",
              "      <td>20190322</td>\n",
              "      <td>KDT</td>\n",
              "      <td>KDT</td>\n",
              "      <td>?</td>\n",
              "      <td>03AA2P</td>\n",
              "      <td>KS</td>\n",
              "      <td>Y011161</td>\n",
              "      <td>QC</td>\n",
              "      <td>MISTER</td>\n",
              "      <td>M</td>\n",
              "      <td>?</td>\n",
              "      <td>?</td>\n",
              "      <td>1</td>\n",
              "      <td>Y</td>\n",
              "      <td>0</td>\n",
              "      <td>0</td>\n",
              "      <td>0</td>\n",
              "      <td>0</td>\n",
              "      <td>0</td>\n",
              "      <td>0</td>\n",
              "      <td>0</td>\n",
              "      <td>1</td>\n",
              "    </tr>\n",
              "    <tr>\n",
              "      <th>3</th>\n",
              "      <td>20180515</td>\n",
              "      <td>20180515</td>\n",
              "      <td>KDT</td>\n",
              "      <td>KDT</td>\n",
              "      <td>?</td>\n",
              "      <td>0353D0</td>\n",
              "      <td>MK</td>\n",
              "      <td>?</td>\n",
              "      <td>TS</td>\n",
              "      <td>MISTER</td>\n",
              "      <td>M</td>\n",
              "      <td>?</td>\n",
              "      <td>?</td>\n",
              "      <td>1</td>\n",
              "      <td>Y</td>\n",
              "      <td>1</td>\n",
              "      <td>0</td>\n",
              "      <td>0</td>\n",
              "      <td>0</td>\n",
              "      <td>1</td>\n",
              "      <td>0</td>\n",
              "      <td>0</td>\n",
              "      <td>2</td>\n",
              "    </tr>\n",
              "    <tr>\n",
              "      <th>4</th>\n",
              "      <td>20190420</td>\n",
              "      <td>20190420</td>\n",
              "      <td>KDT</td>\n",
              "      <td>KDT</td>\n",
              "      <td>?</td>\n",
              "      <td>03F902</td>\n",
              "      <td>KS</td>\n",
              "      <td>Y013437</td>\n",
              "      <td>QC</td>\n",
              "      <td>MISTER</td>\n",
              "      <td>M</td>\n",
              "      <td>?</td>\n",
              "      <td>?</td>\n",
              "      <td>1</td>\n",
              "      <td>Y</td>\n",
              "      <td>0</td>\n",
              "      <td>0</td>\n",
              "      <td>0</td>\n",
              "      <td>1</td>\n",
              "      <td>0</td>\n",
              "      <td>0</td>\n",
              "      <td>0</td>\n",
              "      <td>1</td>\n",
              "    </tr>\n",
              "  </tbody>\n",
              "</table>\n",
              "</div>"
            ],
            "text/plain": [
              "   Departure_YMD_LMT  Operation_YMD_LMT  ... SWC_Has_Infant Operation_Count\n",
              "0           20190326           20190326  ...              0               1\n",
              "1           20180321           20180321  ...              0               1\n",
              "2           20190322           20190322  ...              0               1\n",
              "3           20180515           20180515  ...              0               2\n",
              "4           20190420           20190420  ...              0               1\n",
              "\n",
              "[5 rows x 23 columns]"
            ]
          },
          "metadata": {
            "tags": []
          },
          "execution_count": 170
        }
      ]
    },
    {
      "cell_type": "markdown",
      "metadata": {
        "id": "4ZY-nm_npgp3",
        "colab_type": "text"
      },
      "source": [
        "Check what data types we have:"
      ]
    },
    {
      "cell_type": "code",
      "metadata": {
        "id": "GLxegNa1pd8G",
        "colab_type": "code",
        "outputId": "1d896072-728d-4d0e-b257-0327d6058970",
        "colab": {
          "base_uri": "https://localhost:8080/",
          "height": 425
        }
      },
      "source": [
        "train_df.dtypes"
      ],
      "execution_count": 171,
      "outputs": [
        {
          "output_type": "execute_result",
          "data": {
            "text/plain": [
              "Departure_YMD_LMT             int64\n",
              "Operation_YMD_LMT             int64\n",
              "Departure_Airport            object\n",
              "Operation_Airport            object\n",
              "Terminal_Number              object\n",
              "Terminal_Name                object\n",
              "Operation_Initials           object\n",
              "Operation_Sonic_Code         object\n",
              "Operation_Channel            object\n",
              "Passenger_Title              object\n",
              "Passenger_Gender             object\n",
              "Inbound_Departure_Airport    object\n",
              "Outbound_Arrival_Airport     object\n",
              "SWC_FLY                       int64\n",
              "Cabin_Class                  object\n",
              "SWC_FQTV_Member               int64\n",
              "Passenger_Baggage_Count       int64\n",
              "Passenger_Baggage_Weight      int64\n",
              "SWC_Staff                     int64\n",
              "SWC_CIP_Passenger             int64\n",
              "SWC_VIP_Passenger             int64\n",
              "SWC_Has_Infant                int64\n",
              "Operation_Count               int64\n",
              "dtype: object"
            ]
          },
          "metadata": {
            "tags": []
          },
          "execution_count": 171
        }
      ]
    },
    {
      "cell_type": "markdown",
      "metadata": {
        "id": "l4_01rsyCmlL",
        "colab_type": "text"
      },
      "source": [
        "In the *Departure_YMD_LMT* and the *Operation_YMD_LMT* colums, date of departure and date of check is stored so it is convenient to convert them to date time objects."
      ]
    },
    {
      "cell_type": "code",
      "metadata": {
        "id": "JU_XBMXRDqOZ",
        "colab_type": "code",
        "colab": {}
      },
      "source": [
        "train_df['Departure_YMD_LMT'] = pd.to_datetime(train_df['Departure_YMD_LMT'], format='%Y%m%d')\n",
        "train_df['Operation_YMD_LMT'] = pd.to_datetime(train_df['Operation_YMD_LMT'], format='%Y%m%d')\n",
        "result_df['Departure_YMD_LMT'] = pd.to_datetime(result_df['Departure_YMD_LMT'], format='%Y%m%d')\n",
        "result_df['Operation_YMD_LMT'] = pd.to_datetime(result_df['Operation_YMD_LMT'], format='%Y%m%d')"
      ],
      "execution_count": 0,
      "outputs": []
    },
    {
      "cell_type": "code",
      "metadata": {
        "id": "Gul7qn8ZEW4Y",
        "colab_type": "code",
        "outputId": "b3d64f0b-3056-4a8c-83b9-4a09f6c6398b",
        "colab": {
          "base_uri": "https://localhost:8080/",
          "height": 425
        }
      },
      "source": [
        "train_df.dtypes"
      ],
      "execution_count": 173,
      "outputs": [
        {
          "output_type": "execute_result",
          "data": {
            "text/plain": [
              "Departure_YMD_LMT            datetime64[ns]\n",
              "Operation_YMD_LMT            datetime64[ns]\n",
              "Departure_Airport                    object\n",
              "Operation_Airport                    object\n",
              "Terminal_Number                      object\n",
              "Terminal_Name                        object\n",
              "Operation_Initials                   object\n",
              "Operation_Sonic_Code                 object\n",
              "Operation_Channel                    object\n",
              "Passenger_Title                      object\n",
              "Passenger_Gender                     object\n",
              "Inbound_Departure_Airport            object\n",
              "Outbound_Arrival_Airport             object\n",
              "SWC_FLY                               int64\n",
              "Cabin_Class                          object\n",
              "SWC_FQTV_Member                       int64\n",
              "Passenger_Baggage_Count               int64\n",
              "Passenger_Baggage_Weight              int64\n",
              "SWC_Staff                             int64\n",
              "SWC_CIP_Passenger                     int64\n",
              "SWC_VIP_Passenger                     int64\n",
              "SWC_Has_Infant                        int64\n",
              "Operation_Count                       int64\n",
              "dtype: object"
            ]
          },
          "metadata": {
            "tags": []
          },
          "execution_count": 173
        }
      ]
    },
    {
      "cell_type": "code",
      "metadata": {
        "id": "OdDOiwuGFerU",
        "colab_type": "code",
        "outputId": "f6cc87bc-41f1-462e-bddd-5dcdd1b44120",
        "colab": {
          "base_uri": "https://localhost:8080/",
          "height": 317
        }
      },
      "source": [
        "train_df.describe()"
      ],
      "execution_count": 174,
      "outputs": [
        {
          "output_type": "execute_result",
          "data": {
            "text/html": [
              "<div>\n",
              "<style scoped>\n",
              "    .dataframe tbody tr th:only-of-type {\n",
              "        vertical-align: middle;\n",
              "    }\n",
              "\n",
              "    .dataframe tbody tr th {\n",
              "        vertical-align: top;\n",
              "    }\n",
              "\n",
              "    .dataframe thead th {\n",
              "        text-align: right;\n",
              "    }\n",
              "</style>\n",
              "<table border=\"1\" class=\"dataframe\">\n",
              "  <thead>\n",
              "    <tr style=\"text-align: right;\">\n",
              "      <th></th>\n",
              "      <th>SWC_FLY</th>\n",
              "      <th>SWC_FQTV_Member</th>\n",
              "      <th>Passenger_Baggage_Count</th>\n",
              "      <th>Passenger_Baggage_Weight</th>\n",
              "      <th>SWC_Staff</th>\n",
              "      <th>SWC_CIP_Passenger</th>\n",
              "      <th>SWC_VIP_Passenger</th>\n",
              "      <th>SWC_Has_Infant</th>\n",
              "      <th>Operation_Count</th>\n",
              "    </tr>\n",
              "  </thead>\n",
              "  <tbody>\n",
              "    <tr>\n",
              "      <th>count</th>\n",
              "      <td>808696.000000</td>\n",
              "      <td>808696.000000</td>\n",
              "      <td>808696.000000</td>\n",
              "      <td>808696.000000</td>\n",
              "      <td>808696.000000</td>\n",
              "      <td>808696.000000</td>\n",
              "      <td>808696.000000</td>\n",
              "      <td>808696.000000</td>\n",
              "      <td>808696.000000</td>\n",
              "    </tr>\n",
              "    <tr>\n",
              "      <th>mean</th>\n",
              "      <td>0.939140</td>\n",
              "      <td>0.359679</td>\n",
              "      <td>0.655413</td>\n",
              "      <td>8.560313</td>\n",
              "      <td>0.029989</td>\n",
              "      <td>0.148156</td>\n",
              "      <td>0.008257</td>\n",
              "      <td>0.011681</td>\n",
              "      <td>1.534792</td>\n",
              "    </tr>\n",
              "    <tr>\n",
              "      <th>std</th>\n",
              "      <td>0.239073</td>\n",
              "      <td>0.479907</td>\n",
              "      <td>0.963677</td>\n",
              "      <td>13.667213</td>\n",
              "      <td>0.170557</td>\n",
              "      <td>0.355255</td>\n",
              "      <td>0.090489</td>\n",
              "      <td>0.107444</td>\n",
              "      <td>2.223746</td>\n",
              "    </tr>\n",
              "    <tr>\n",
              "      <th>min</th>\n",
              "      <td>0.000000</td>\n",
              "      <td>0.000000</td>\n",
              "      <td>0.000000</td>\n",
              "      <td>0.000000</td>\n",
              "      <td>0.000000</td>\n",
              "      <td>0.000000</td>\n",
              "      <td>0.000000</td>\n",
              "      <td>0.000000</td>\n",
              "      <td>1.000000</td>\n",
              "    </tr>\n",
              "    <tr>\n",
              "      <th>25%</th>\n",
              "      <td>1.000000</td>\n",
              "      <td>0.000000</td>\n",
              "      <td>0.000000</td>\n",
              "      <td>0.000000</td>\n",
              "      <td>0.000000</td>\n",
              "      <td>0.000000</td>\n",
              "      <td>0.000000</td>\n",
              "      <td>0.000000</td>\n",
              "      <td>1.000000</td>\n",
              "    </tr>\n",
              "    <tr>\n",
              "      <th>50%</th>\n",
              "      <td>1.000000</td>\n",
              "      <td>0.000000</td>\n",
              "      <td>0.000000</td>\n",
              "      <td>0.000000</td>\n",
              "      <td>0.000000</td>\n",
              "      <td>0.000000</td>\n",
              "      <td>0.000000</td>\n",
              "      <td>0.000000</td>\n",
              "      <td>1.000000</td>\n",
              "    </tr>\n",
              "    <tr>\n",
              "      <th>75%</th>\n",
              "      <td>1.000000</td>\n",
              "      <td>1.000000</td>\n",
              "      <td>1.000000</td>\n",
              "      <td>15.000000</td>\n",
              "      <td>0.000000</td>\n",
              "      <td>0.000000</td>\n",
              "      <td>0.000000</td>\n",
              "      <td>0.000000</td>\n",
              "      <td>1.000000</td>\n",
              "    </tr>\n",
              "    <tr>\n",
              "      <th>max</th>\n",
              "      <td>1.000000</td>\n",
              "      <td>1.000000</td>\n",
              "      <td>54.000000</td>\n",
              "      <td>970.000000</td>\n",
              "      <td>1.000000</td>\n",
              "      <td>1.000000</td>\n",
              "      <td>1.000000</td>\n",
              "      <td>1.000000</td>\n",
              "      <td>129.000000</td>\n",
              "    </tr>\n",
              "  </tbody>\n",
              "</table>\n",
              "</div>"
            ],
            "text/plain": [
              "             SWC_FLY  SWC_FQTV_Member  ...  SWC_Has_Infant  Operation_Count\n",
              "count  808696.000000    808696.000000  ...   808696.000000    808696.000000\n",
              "mean        0.939140         0.359679  ...        0.011681         1.534792\n",
              "std         0.239073         0.479907  ...        0.107444         2.223746\n",
              "min         0.000000         0.000000  ...        0.000000         1.000000\n",
              "25%         1.000000         0.000000  ...        0.000000         1.000000\n",
              "50%         1.000000         0.000000  ...        0.000000         1.000000\n",
              "75%         1.000000         1.000000  ...        0.000000         1.000000\n",
              "max         1.000000         1.000000  ...        1.000000       129.000000\n",
              "\n",
              "[8 rows x 9 columns]"
            ]
          },
          "metadata": {
            "tags": []
          },
          "execution_count": 174
        }
      ]
    },
    {
      "cell_type": "markdown",
      "metadata": {
        "id": "3gnER73WQam2",
        "colab_type": "text"
      },
      "source": [
        "Convert *object* datatype to category when needed."
      ]
    },
    {
      "cell_type": "code",
      "metadata": {
        "id": "5e52srsIdGMK",
        "colab_type": "code",
        "colab": {}
      },
      "source": [
        "for col_name in train_df.columns:\n",
        "    if train_df[col_name].dtype.name == 'object':\n",
        "        train_df[col_name] = train_df[col_name].astype('category')\n",
        "        result_df[col_name] = result_df[col_name].astype('category')"
      ],
      "execution_count": 0,
      "outputs": []
    },
    {
      "cell_type": "code",
      "metadata": {
        "id": "oPj0AJ3UdmfQ",
        "colab_type": "code",
        "outputId": "85e33fb8-28e5-4630-ffa2-34a5f5229ef8",
        "colab": {
          "base_uri": "https://localhost:8080/",
          "height": 425
        }
      },
      "source": [
        "train_df.dtypes"
      ],
      "execution_count": 176,
      "outputs": [
        {
          "output_type": "execute_result",
          "data": {
            "text/plain": [
              "Departure_YMD_LMT            datetime64[ns]\n",
              "Operation_YMD_LMT            datetime64[ns]\n",
              "Departure_Airport                  category\n",
              "Operation_Airport                  category\n",
              "Terminal_Number                    category\n",
              "Terminal_Name                      category\n",
              "Operation_Initials                 category\n",
              "Operation_Sonic_Code               category\n",
              "Operation_Channel                  category\n",
              "Passenger_Title                    category\n",
              "Passenger_Gender                   category\n",
              "Inbound_Departure_Airport          category\n",
              "Outbound_Arrival_Airport           category\n",
              "SWC_FLY                               int64\n",
              "Cabin_Class                        category\n",
              "SWC_FQTV_Member                       int64\n",
              "Passenger_Baggage_Count               int64\n",
              "Passenger_Baggage_Weight              int64\n",
              "SWC_Staff                             int64\n",
              "SWC_CIP_Passenger                     int64\n",
              "SWC_VIP_Passenger                     int64\n",
              "SWC_Has_Infant                        int64\n",
              "Operation_Count                       int64\n",
              "dtype: object"
            ]
          },
          "metadata": {
            "tags": []
          },
          "execution_count": 176
        }
      ]
    },
    {
      "cell_type": "markdown",
      "metadata": {
        "id": "O5J9up0-d8bR",
        "colab_type": "text"
      },
      "source": [
        "See the unique levels of the categorical columns. *Departure Airport* has only one value called \"KDT\". So, it is not informative and should be dropped."
      ]
    },
    {
      "cell_type": "code",
      "metadata": {
        "id": "kEzqrNWEYlL-",
        "colab_type": "code",
        "outputId": "ec6f0ff1-76b6-4839-e2a3-189dc3f920ce",
        "colab": {
          "base_uri": "https://localhost:8080/",
          "height": 561
        }
      },
      "source": [
        "for col_name in train_df.columns:\n",
        "    if train_df[col_name].dtype.name == 'category':\n",
        "        print(col_name, \":\", train_df[col_name].unique())"
      ],
      "execution_count": 177,
      "outputs": [
        {
          "output_type": "stream",
          "text": [
            "Departure_Airport : [KDT]\n",
            "Categories (1, object): [KDT]\n",
            "Operation_Airport : [KDT, IST, ZKG, EST, GZT, ..., HRK, ODS, SOF, KNN, MNL]\n",
            "Length: 143\n",
            "Categories (143, object): [KDT, IST, ZKG, EST, ..., ODS, SOF, KNN, MNL]\n",
            "Terminal_Number : [?, P1, P2]\n",
            "Categories (3, object): [?, P1, P2]\n",
            "Terminal_Name : [032363, 03F960, 03AA2P, 0353D0, 03F902, ..., 0B19C9, 03554A, 0302CA, 035316, 03550B]\n",
            "Length: 2685\n",
            "Categories (2685, object): [032363, 03F960, 03AA2P, 0353D0, ..., 03554A, 0302CA, 035316, 03550B]\n",
            "Operation_Initials : [KS, MK, SC, EY, Q7, ..., NB, YK, RW, OA, JF]\n",
            "Length: 273\n",
            "Categories (272, object): [KS, MK, SC, EY, ..., YK, RW, OA, JF]\n",
            "Operation_Sonic_Code : [?, Y011161, Y013437, Y027434, Y013171, ..., M025037, Y019509, Y036439, Y015916, Y039203]\n",
            "Length: 1614\n",
            "Categories (1614, object): [?, Y011161, Y013437, Y027434, ..., Y019509, Y036439, Y015916,\n",
            "                            Y039203]\n",
            "Operation_Channel : [QC, TS, JW, TW, TY, ..., CC, BD, IR, IA, QR]\n",
            "Length: 13\n",
            "Categories (13, object): [QC, TS, JW, TW, ..., BD, IR, IA, QR]\n",
            "Passenger_Title : [MISTER, MISS, MISSES, ?, DOCTOR, PROFFESOR]\n",
            "Categories (6, object): [MISTER, MISS, MISSES, ?, DOCTOR, PROFFESOR]\n",
            "Passenger_Gender : [M, F, ?, F/INF, M/INF, C, C/INF]\n",
            "Categories (7, object): [M, F, ?, F/INF, M/INF, C, C/INF]\n",
            "Inbound_Departure_Airport : [IST, ?, EST, SKW, HKM, ..., NDG, VKS, VIE, STY, TRU]\n",
            "Length: 27\n",
            "Categories (27, object): [IST, ?, EST, SKW, ..., VKS, VIE, STY, TRU]\n",
            "Outbound_Arrival_Airport : [?, KDT, KMS, KGP, KJI, ..., SPU, PHX, MKK, KKE, YYN]\n",
            "Length: 363\n",
            "Categories (363, object): [?, KDT, KMS, KGP, ..., PHX, MKK, KKE, YYN]\n",
            "Cabin_Class : [Y, ?, C]\n",
            "Categories (3, object): [Y, ?, C]\n"
          ],
          "name": "stdout"
        }
      ]
    },
    {
      "cell_type": "markdown",
      "metadata": {
        "id": "RMErP_yZRG1y",
        "colab_type": "text"
      },
      "source": [
        "Generate *Operation_Channel_Group* as defined in the pdf file."
      ]
    },
    {
      "cell_type": "code",
      "metadata": {
        "id": "M3l1GzRXF3tu",
        "colab_type": "code",
        "outputId": "73df2e97-7962-4243-8b29-8c5373a61672",
        "colab": {
          "base_uri": "https://localhost:8080/",
          "height": 34
        }
      },
      "source": [
        "dict = {\"JW\": 'Online',\n",
        "        \"TW\": 'Online',\n",
        "        \"TS\": 'Mobile',\n",
        "        \"JM\": 'Mobile',\n",
        "        \"TY\":\"Counter\",\n",
        "        \"QC\":\"Counter\",\n",
        "        \"SC\":\"Kiosks\",\n",
        "        \"IR\":\"Other\",\n",
        "        \"?\":\"Other\",\n",
        "        \"IA\":\"Other\",\n",
        "        \"BD\":\"Other\",\n",
        "        \"CC\":\"Other\",\n",
        "        \"QR\":\"Other\",\n",
        "        \"QP\":\"Other\",\n",
        "        \"QA\":\"Other\"\n",
        "        }\n",
        "train_df['Operation_Channel_Group'] = train_df['Operation_Channel'].map(dict)\n",
        "train_df['Operation_Channel_Group'].unique()"
      ],
      "execution_count": 178,
      "outputs": [
        {
          "output_type": "execute_result",
          "data": {
            "text/plain": [
              "array(['Counter', 'Mobile', 'Online', 'Kiosks', 'Other'], dtype=object)"
            ]
          },
          "metadata": {
            "tags": []
          },
          "execution_count": 178
        }
      ]
    },
    {
      "cell_type": "markdown",
      "metadata": {
        "id": "d-dpsfiZ0F0B",
        "colab_type": "text"
      },
      "source": [
        "Do the same for the test set."
      ]
    },
    {
      "cell_type": "code",
      "metadata": {
        "id": "NM2QHVLm0Lh8",
        "colab_type": "code",
        "outputId": "b40a568a-42f4-4514-d609-9d29a83a24cb",
        "colab": {
          "base_uri": "https://localhost:8080/",
          "height": 34
        }
      },
      "source": [
        "result_df['Operation_Channel_Group'] = result_df['Operation_Channel'].map(dict)\n",
        "result_df['Operation_Channel_Group'].unique()"
      ],
      "execution_count": 179,
      "outputs": [
        {
          "output_type": "execute_result",
          "data": {
            "text/plain": [
              "array(['Mobile', 'Counter', 'Online', 'Kiosks', 'Other'], dtype=object)"
            ]
          },
          "metadata": {
            "tags": []
          },
          "execution_count": 179
        }
      ]
    },
    {
      "cell_type": "markdown",
      "metadata": {
        "id": "unO5SdRzycc_",
        "colab_type": "text"
      },
      "source": [
        "### Missing Value Handling\n",
        "\n",
        "Column percentage of null values in the training and test sets are printed below. At first glance,there are only null values in the *Operation Initials* column, however some unknown values are encoded as \"?\" in the datasets."
      ]
    },
    {
      "cell_type": "code",
      "metadata": {
        "id": "uAipyZEz4-sw",
        "colab_type": "code",
        "outputId": "4b6fd457-c514-497f-baeb-14263d291bf5",
        "colab": {
          "base_uri": "https://localhost:8080/",
          "height": 442
        }
      },
      "source": [
        "(train_df.isnull().mean()*100).round(4)"
      ],
      "execution_count": 180,
      "outputs": [
        {
          "output_type": "execute_result",
          "data": {
            "text/plain": [
              "Departure_YMD_LMT            0.0000\n",
              "Operation_YMD_LMT            0.0000\n",
              "Departure_Airport            0.0000\n",
              "Operation_Airport            0.0000\n",
              "Terminal_Number              0.0000\n",
              "Terminal_Name                0.0000\n",
              "Operation_Initials           0.0156\n",
              "Operation_Sonic_Code         0.0000\n",
              "Operation_Channel            0.0000\n",
              "Passenger_Title              0.0000\n",
              "Passenger_Gender             0.0000\n",
              "Inbound_Departure_Airport    0.0000\n",
              "Outbound_Arrival_Airport     0.0000\n",
              "SWC_FLY                      0.0000\n",
              "Cabin_Class                  0.0000\n",
              "SWC_FQTV_Member              0.0000\n",
              "Passenger_Baggage_Count      0.0000\n",
              "Passenger_Baggage_Weight     0.0000\n",
              "SWC_Staff                    0.0000\n",
              "SWC_CIP_Passenger            0.0000\n",
              "SWC_VIP_Passenger            0.0000\n",
              "SWC_Has_Infant               0.0000\n",
              "Operation_Count              0.0000\n",
              "Operation_Channel_Group      0.0000\n",
              "dtype: float64"
            ]
          },
          "metadata": {
            "tags": []
          },
          "execution_count": 180
        }
      ]
    },
    {
      "cell_type": "code",
      "metadata": {
        "id": "Z9h6GsY65I5L",
        "colab_type": "code",
        "outputId": "4817cd23-8141-43a7-94ca-253166b0ff1d",
        "colab": {
          "base_uri": "https://localhost:8080/",
          "height": 442
        }
      },
      "source": [
        "(result_df.isnull().mean()*100).round(4)"
      ],
      "execution_count": 181,
      "outputs": [
        {
          "output_type": "execute_result",
          "data": {
            "text/plain": [
              "Departure_YMD_LMT            0.0000\n",
              "Operation_YMD_LMT            0.0000\n",
              "Departure_Airport            0.0000\n",
              "Operation_Airport            0.0000\n",
              "Terminal_Number              0.0000\n",
              "Terminal_Name                0.0000\n",
              "Operation_Initials           0.0033\n",
              "Operation_Sonic_Code         0.0000\n",
              "Operation_Channel            0.0000\n",
              "Passenger_Title              0.0000\n",
              "Passenger_Gender             0.0000\n",
              "Inbound_Departure_Airport    0.0000\n",
              "Outbound_Arrival_Airport     0.0000\n",
              "SWC_FLY                      0.0000\n",
              "Cabin_Class                  0.0000\n",
              "SWC_FQTV_Member              0.0000\n",
              "Passenger_Baggage_Count      0.0000\n",
              "Passenger_Baggage_Weight     0.0000\n",
              "SWC_Staff                    0.0000\n",
              "SWC_CIP_Passenger            0.0000\n",
              "SWC_VIP_Passenger            0.0000\n",
              "SWC_Has_Infant               0.0000\n",
              "Operation_Count              0.0000\n",
              "Operation_Channel_Group      0.0000\n",
              "dtype: float64"
            ]
          },
          "metadata": {
            "tags": []
          },
          "execution_count": 181
        }
      ]
    },
    {
      "cell_type": "markdown",
      "metadata": {
        "id": "jLbD741tyefs",
        "colab_type": "text"
      },
      "source": [
        "Column based \"?\" occurance percentages in the training set:"
      ]
    },
    {
      "cell_type": "code",
      "metadata": {
        "id": "7CHS7T5Q6k_a",
        "colab_type": "code",
        "outputId": "d461a47d-81a0-4984-c708-74e7abdb9b4e",
        "colab": {
          "base_uri": "https://localhost:8080/",
          "height": 170
        }
      },
      "source": [
        "import numpy as np\n",
        "def unknown_perc(df):\n",
        "  print(\"Column Name\\t Percentage\")\n",
        "  for col_name in df.columns:\n",
        "        if df[col_name].dtype.name == 'category' and (df[col_name] == \"?\").any():\n",
        "          count = df[col_name].value_counts(dropna=False)['?']\n",
        "          percentage = (count/len(df)*100).round(3)\n",
        "          print(col_name,\"\\t\", percentage)\n",
        "  return\n",
        "        \n",
        "unknown_perc(train_df)"
      ],
      "execution_count": 182,
      "outputs": [
        {
          "output_type": "stream",
          "text": [
            "Column Name\t Percentage\n",
            "Terminal_Number \t 90.618\n",
            "Operation_Sonic_Code \t 78.927\n",
            "Operation_Channel \t 2.112\n",
            "Passenger_Title \t 2.331\n",
            "Passenger_Gender \t 3.902\n",
            "Inbound_Departure_Airport \t 91.338\n",
            "Outbound_Arrival_Airport \t 64.422\n",
            "Cabin_Class \t 3.409\n"
          ],
          "name": "stdout"
        }
      ]
    },
    {
      "cell_type": "markdown",
      "metadata": {
        "id": "6AM6L2Bpyw-G",
        "colab_type": "text"
      },
      "source": [
        "Column based \"?\" occurance percentages in the test set:"
      ]
    },
    {
      "cell_type": "code",
      "metadata": {
        "id": "2UDEAA0LxKfX",
        "colab_type": "code",
        "outputId": "5b6d5cfd-4368-4cff-acc0-59c443ebfafc",
        "colab": {
          "base_uri": "https://localhost:8080/",
          "height": 153
        }
      },
      "source": [
        "unknown_perc(result_df)"
      ],
      "execution_count": 183,
      "outputs": [
        {
          "output_type": "stream",
          "text": [
            "Column Name\t Percentage\n",
            "Terminal_Number \t 91.39\n",
            "Operation_Sonic_Code \t 54.39\n",
            "Operation_Channel \t 0.871\n",
            "Passenger_Title \t 2.762\n",
            "Passenger_Gender \t 0.076\n",
            "Inbound_Departure_Airport \t 94.52\n",
            "Outbound_Arrival_Airport \t 65.008\n"
          ],
          "name": "stdout"
        }
      ]
    },
    {
      "cell_type": "markdown",
      "metadata": {
        "id": "fkRjgKgzCFbu",
        "colab_type": "text"
      },
      "source": [
        "#### Generating Flags\n",
        "\n",
        "\n",
        "Let's transform Operation_Sonic_Code to Operation_Sonic_Code_Flag and Terminal_Name to Terminal_Name_Flag in order to see if these variables are null or not. We choose to do this since there are so many different classes for these variables."
      ]
    },
    {
      "cell_type": "code",
      "metadata": {
        "id": "b4PaXdgyEfUX",
        "colab_type": "code",
        "colab": {}
      },
      "source": [
        "train_df['Operation_Sonic_Code_Flag'] = np.where(train_df['Operation_Sonic_Code']=='?', '0', '1')\n",
        "train_df['Operation_Sonic_Code_Flag'] = train_df['Operation_Sonic_Code_Flag'].astype(int)\n",
        "train_df['Terminal_Number_Flag'] = np.where(train_df['Terminal_Number']=='?', '0', '1')\n",
        "train_df['Terminal_Number_Flag'] = train_df['Terminal_Number_Flag'].astype(int)\n",
        "result_df['Operation_Sonic_Code_Flag'] = np.where(result_df['Operation_Sonic_Code']=='?', '0', '1')\n",
        "result_df['Operation_Sonic_Code_Flag'] = result_df['Operation_Sonic_Code_Flag'].astype(int)\n",
        "result_df['Terminal_Number_Flag'] = np.where(result_df['Terminal_Number']=='?', '0', '1')\n",
        "result_df['Terminal_Number_Flag'] = result_df['Terminal_Number_Flag'].astype(int)"
      ],
      "execution_count": 0,
      "outputs": []
    },
    {
      "cell_type": "markdown",
      "metadata": {
        "id": "FFsQhdoCmip7",
        "colab_type": "text"
      },
      "source": [
        "Convert \"?\" to NA when needed. Apart from *Inbound_Departure_Airport* and *Outbound_Arrival_Airport*, \"?\" is printed for unknown values (missing). For those specific columns \"?\" means that there is no inbound or outbound flight (direct flight), so they are encoded as a seperate class called *Unknown*."
      ]
    },
    {
      "cell_type": "code",
      "metadata": {
        "id": "_f4FdP8Ymaxw",
        "colab_type": "code",
        "colab": {}
      },
      "source": [
        "import numpy as np\n",
        "train_df['Terminal_Number'] = train_df['Terminal_Number'].replace('?', np.nan)\n",
        "train_df['Operation_Channel'] = train_df['Operation_Channel'].replace('?', np.nan)\n",
        "train_df['Passenger_Title'] = train_df['Passenger_Title'].replace('?', np.nan)\n",
        "train_df['Passenger_Gender'] = train_df['Passenger_Gender'].replace('?', np.nan)\n",
        "train_df['Inbound_Departure_Airport'] = train_df['Inbound_Departure_Airport'].replace('?', \"Unknown\")\n",
        "train_df['Outbound_Arrival_Airport'] = train_df['Outbound_Arrival_Airport'].replace('?', \"Unknown\")\n",
        "train_df['Cabin_Class'] = train_df['Cabin_Class'].replace('?', np.nan)\n",
        "train_df[\"Operation_Initials\"] = train_df[\"Operation_Initials\"].replace(\"?\",np.nan)\n",
        "train_df[\"Operation_Sonic_Code\"] = train_df[\"Operation_Sonic_Code\"].replace(\"?\",np.nan)\n",
        "\n",
        "result_df['Terminal_Number'] = result_df['Terminal_Number'].replace('?', np.nan)\n",
        "result_df['Operation_Channel'] = result_df['Operation_Channel'].replace('?', np.nan)\n",
        "result_df['Passenger_Title'] = result_df['Passenger_Title'].replace('?', np.nan)\n",
        "result_df['Passenger_Gender'] = result_df['Passenger_Gender'].replace('?', np.nan)\n",
        "result_df['Inbound_Departure_Airport'] = result_df['Inbound_Departure_Airport'].replace('?', \"Unknown\")\n",
        "result_df['Outbound_Arrival_Airport'] = result_df['Outbound_Arrival_Airport'].replace('?', \"Unknown\")\n",
        "result_df['Cabin_Class'] = result_df['Cabin_Class'].replace('?', np.nan)\n",
        "result_df[\"Operation_Initials\"] = train_df[\"Operation_Initials\"].replace(\"?\",np.nan)\n",
        "result_df[\"Operation_Sonic_Code\"] = result_df[\"Operation_Sonic_Code\"].replace(\"?\",np.nan)"
      ],
      "execution_count": 0,
      "outputs": []
    },
    {
      "cell_type": "markdown",
      "metadata": {
        "id": "nplxsMXMAnXY",
        "colab_type": "text"
      },
      "source": [
        "Now, the new missing value percentages for the training set becomes:"
      ]
    },
    {
      "cell_type": "code",
      "metadata": {
        "id": "CwmBM3TkrjrK",
        "colab_type": "code",
        "outputId": "ae149da3-de5b-476d-b935-28760e96906f",
        "colab": {
          "base_uri": "https://localhost:8080/",
          "height": 476
        }
      },
      "source": [
        "(train_df.isnull().mean()*100).round(4)"
      ],
      "execution_count": 186,
      "outputs": [
        {
          "output_type": "execute_result",
          "data": {
            "text/plain": [
              "Departure_YMD_LMT             0.0000\n",
              "Operation_YMD_LMT             0.0000\n",
              "Departure_Airport             0.0000\n",
              "Operation_Airport             0.0000\n",
              "Terminal_Number              90.6176\n",
              "Terminal_Name                 0.0000\n",
              "Operation_Initials            0.0156\n",
              "Operation_Sonic_Code         78.9266\n",
              "Operation_Channel             2.1123\n",
              "Passenger_Title               2.3307\n",
              "Passenger_Gender              3.9025\n",
              "Inbound_Departure_Airport     0.0000\n",
              "Outbound_Arrival_Airport      0.0000\n",
              "SWC_FLY                       0.0000\n",
              "Cabin_Class                   3.4093\n",
              "SWC_FQTV_Member               0.0000\n",
              "Passenger_Baggage_Count       0.0000\n",
              "Passenger_Baggage_Weight      0.0000\n",
              "SWC_Staff                     0.0000\n",
              "SWC_CIP_Passenger             0.0000\n",
              "SWC_VIP_Passenger             0.0000\n",
              "SWC_Has_Infant                0.0000\n",
              "Operation_Count               0.0000\n",
              "Operation_Channel_Group       0.0000\n",
              "Operation_Sonic_Code_Flag     0.0000\n",
              "Terminal_Number_Flag          0.0000\n",
              "dtype: float64"
            ]
          },
          "metadata": {
            "tags": []
          },
          "execution_count": 186
        }
      ]
    },
    {
      "cell_type": "markdown",
      "metadata": {
        "id": "aSMbF8qEA4M7",
        "colab_type": "text"
      },
      "source": [
        "and for the test set the result is:"
      ]
    },
    {
      "cell_type": "code",
      "metadata": {
        "id": "CINMBpV7A8pG",
        "colab_type": "code",
        "outputId": "766bf645-7376-472e-9e21-14ea5d18cec3",
        "colab": {
          "base_uri": "https://localhost:8080/",
          "height": 476
        }
      },
      "source": [
        "(result_df.isnull().mean()*100).round(4)"
      ],
      "execution_count": 187,
      "outputs": [
        {
          "output_type": "execute_result",
          "data": {
            "text/plain": [
              "Departure_YMD_LMT             0.0000\n",
              "Operation_YMD_LMT             0.0000\n",
              "Departure_Airport             0.0000\n",
              "Operation_Airport             0.0000\n",
              "Terminal_Number              91.3903\n",
              "Terminal_Name                 0.0000\n",
              "Operation_Initials            0.0180\n",
              "Operation_Sonic_Code         54.3901\n",
              "Operation_Channel             0.8711\n",
              "Passenger_Title               2.7616\n",
              "Passenger_Gender              0.0763\n",
              "Inbound_Departure_Airport     0.0000\n",
              "Outbound_Arrival_Airport      0.0000\n",
              "SWC_FLY                       0.0000\n",
              "Cabin_Class                   0.0000\n",
              "SWC_FQTV_Member               0.0000\n",
              "Passenger_Baggage_Count       0.0000\n",
              "Passenger_Baggage_Weight      0.0000\n",
              "SWC_Staff                     0.0000\n",
              "SWC_CIP_Passenger             0.0000\n",
              "SWC_VIP_Passenger             0.0000\n",
              "SWC_Has_Infant                0.0000\n",
              "Operation_Count               0.0000\n",
              "Operation_Channel_Group       0.0000\n",
              "Operation_Sonic_Code_Flag     0.0000\n",
              "Terminal_Number_Flag          0.0000\n",
              "dtype: float64"
            ]
          },
          "metadata": {
            "tags": []
          },
          "execution_count": 187
        }
      ]
    },
    {
      "cell_type": "markdown",
      "metadata": {
        "id": "2rroaK2-3ruv",
        "colab_type": "text"
      },
      "source": [
        "### Dropping Uninformative Features"
      ]
    },
    {
      "cell_type": "markdown",
      "metadata": {
        "id": "Pe1XXORnVqGy",
        "colab_type": "text"
      },
      "source": [
        "Notice that *Operation Sonic Code*  has a missing value ratio of 79% and for *Terminal Number* column this ratio is even higher (>90%). With a ratio this high, we cannot impute missing values correctly. These columns should be dropped, along with the *Departure_Airport* column.\n"
      ]
    },
    {
      "cell_type": "code",
      "metadata": {
        "id": "w843hKQbB9Bs",
        "colab_type": "code",
        "colab": {}
      },
      "source": [
        "#train_df2 = train_df.copy()\n",
        "#result_df2 = result_df.copy()\n",
        "train_df = train_df.drop(columns = [\"Terminal_Number\", \"Departure_Airport\", \"Operation_Sonic_Code\"])\n",
        "result_df = result_df.drop(columns = [\"Terminal_Number\", \"Departure_Airport\", \"Operation_Sonic_Code\"])"
      ],
      "execution_count": 0,
      "outputs": []
    },
    {
      "cell_type": "markdown",
      "metadata": {
        "id": "egMg7CVHWqy-",
        "colab_type": "text"
      },
      "source": [
        "#### Imputing Passenger Gender\n",
        "\n",
        "First, we used *Passenger Title* to impute missing values in the gender column. We replaced unknown genders whose titles are *MISTER*, *MISS* and *MISSES* with male and females, respectively. Later, we decided *Operation Channel Group* based imputation for the rest. So we grouped the dataframe by this column and found most frequent observations for the *Passenger Gender* column."
      ]
    },
    {
      "cell_type": "code",
      "metadata": {
        "id": "2aqNrg2SCFM7",
        "colab_type": "code",
        "outputId": "08bff152-23d2-4e40-f7b1-83ebbf20223b",
        "colab": {
          "base_uri": "https://localhost:8080/",
          "height": 34
        }
      },
      "source": [
        "# Replace missing values whose titles are MISTER with M\n",
        "train_df.loc[(train_df.Passenger_Gender.isna() ) & (train_df.Passenger_Title=='MISTER'),\"Passenger_Gender\"] = \"M\"\n",
        "result_df.loc[(result_df.Passenger_Gender.isna() ) & (result_df.Passenger_Title=='MISTER'),\"Passenger_Gender\"] = \"M\"\n",
        "\n",
        "# Replace missing values whose titles are MISS or MISSES with F\n",
        "train_df.loc[(train_df.Passenger_Gender.isna() ) & ((train_df.Passenger_Title=='MISS') | (train_df.Passenger_Title=='MISSES')) ,\"Passenger_Gender\"] = \"F\"\n",
        "result_df.loc[(result_df.Passenger_Gender.isna() ) & ((result_df.Passenger_Title=='MISS') | (result_df.Passenger_Title=='MISSES')) ,\"Passenger_Gender\"] = \"F\"\n",
        "\n",
        "sum(train_df[\"Passenger_Gender\"].isnull())"
      ],
      "execution_count": 189,
      "outputs": [
        {
          "output_type": "execute_result",
          "data": {
            "text/plain": [
              "981"
            ]
          },
          "metadata": {
            "tags": []
          },
          "execution_count": 189
        }
      ]
    },
    {
      "cell_type": "markdown",
      "metadata": {
        "id": "ycXeXhyjIUoL",
        "colab_type": "text"
      },
      "source": [
        "There are 981 missing values left in the gender column. We checked channel group based gender distribution and found that the most frequent gender is male for every channel"
      ]
    },
    {
      "cell_type": "code",
      "metadata": {
        "id": "RO2DoYwAW564",
        "colab_type": "code",
        "outputId": "c2fa96ad-1c77-4afc-9c39-a7a2b53f5127",
        "colab": {
          "base_uri": "https://localhost:8080/",
          "height": 136
        }
      },
      "source": [
        "train_df.groupby(\"Operation_Channel_Group\")['Passenger_Gender'].apply(lambda x: x.value_counts().index[0])#.reset_index()"
      ],
      "execution_count": 190,
      "outputs": [
        {
          "output_type": "execute_result",
          "data": {
            "text/plain": [
              "Operation_Channel_Group\n",
              "Counter    M\n",
              "Kiosks     M\n",
              "Mobile     M\n",
              "Online     M\n",
              "Other      M\n",
              "Name: Passenger_Gender, dtype: object"
            ]
          },
          "metadata": {
            "tags": []
          },
          "execution_count": 190
        }
      ]
    },
    {
      "cell_type": "code",
      "metadata": {
        "id": "S038IZzsZeP_",
        "colab_type": "code",
        "outputId": "5a5aceef-55e2-4d90-96bb-c43f37798c03",
        "colab": {
          "base_uri": "https://localhost:8080/",
          "height": 646
        }
      },
      "source": [
        "train_df.groupby(\"Operation_Channel_Group\")['Passenger_Gender'].apply(lambda x: x.value_counts())"
      ],
      "execution_count": 191,
      "outputs": [
        {
          "output_type": "execute_result",
          "data": {
            "text/plain": [
              "Operation_Channel_Group       \n",
              "Counter                  M        237238\n",
              "                         F        140313\n",
              "                         C         11334\n",
              "                         F/INF      1984\n",
              "                         M/INF      1187\n",
              "                         C/INF         6\n",
              "                         ?             0\n",
              "Kiosks                   M         27454\n",
              "                         F         13975\n",
              "                         C          1143\n",
              "                         F/INF       139\n",
              "                         M/INF        99\n",
              "                         C/INF         0\n",
              "                         ?             0\n",
              "Mobile                   M         91209\n",
              "                         F         62979\n",
              "                         C          4621\n",
              "                         F/INF       548\n",
              "                         M/INF       380\n",
              "                         C/INF         0\n",
              "                         ?             0\n",
              "Online                   M        104584\n",
              "                         F         82430\n",
              "                         C          6055\n",
              "                         F/INF       692\n",
              "                         M/INF       408\n",
              "                         C/INF         0\n",
              "                         ?             0\n",
              "Other                    M         10206\n",
              "                         F          8093\n",
              "                         C           487\n",
              "                         F/INF       101\n",
              "                         M/INF        50\n",
              "                         C/INF         0\n",
              "                         ?             0\n",
              "Name: Passenger_Gender, dtype: int64"
            ]
          },
          "metadata": {
            "tags": []
          },
          "execution_count": 191
        }
      ]
    },
    {
      "cell_type": "code",
      "metadata": {
        "id": "NbFrmcungJex",
        "colab_type": "code",
        "outputId": "6680d4c8-fe19-41ab-9f32-66a532767a9c",
        "colab": {
          "base_uri": "https://localhost:8080/",
          "height": 391
        }
      },
      "source": [
        "result_df.groupby(\"Operation_Channel_Group\")['Passenger_Gender'].apply(lambda x: x.value_counts())"
      ],
      "execution_count": 192,
      "outputs": [
        {
          "output_type": "execute_result",
          "data": {
            "text/plain": [
              "Operation_Channel_Group   \n",
              "Counter                  M    32131\n",
              "                         F    23568\n",
              "                         C     3107\n",
              "                         ?        0\n",
              "Kiosks                   M     4364\n",
              "                         F     2458\n",
              "                         C      275\n",
              "                         ?        0\n",
              "Mobile                   M    13059\n",
              "                         F    10883\n",
              "                         C     1129\n",
              "                         ?        0\n",
              "Online                   M    14682\n",
              "                         F    13371\n",
              "                         C     1445\n",
              "                         ?        0\n",
              "Other                    M      679\n",
              "                         F      585\n",
              "                         C       92\n",
              "                         ?        0\n",
              "Name: Passenger_Gender, dtype: int64"
            ]
          },
          "metadata": {
            "tags": []
          },
          "execution_count": 192
        }
      ]
    },
    {
      "cell_type": "markdown",
      "metadata": {
        "id": "4_NAbcajX7S_",
        "colab_type": "text"
      },
      "source": [
        "Since most common gender for all channel groups is male, we imputed missing gender values with \"M\"."
      ]
    },
    {
      "cell_type": "code",
      "metadata": {
        "id": "mthkiXm6YOMQ",
        "colab_type": "code",
        "outputId": "99af9105-9415-47d7-d4f2-29fcb7fdc61b",
        "colab": {
          "base_uri": "https://localhost:8080/",
          "height": 51
        }
      },
      "source": [
        "train_df['Passenger_Gender'] = train_df['Passenger_Gender'].replace(np.nan, \"M\")\n",
        "train_df['Passenger_Gender'].unique()"
      ],
      "execution_count": 193,
      "outputs": [
        {
          "output_type": "execute_result",
          "data": {
            "text/plain": [
              "[M, F, F/INF, M/INF, C, C/INF]\n",
              "Categories (6, object): [M, F, F/INF, M/INF, C, C/INF]"
            ]
          },
          "metadata": {
            "tags": []
          },
          "execution_count": 193
        }
      ]
    },
    {
      "cell_type": "code",
      "metadata": {
        "id": "UcXgdApsgRJn",
        "colab_type": "code",
        "outputId": "ac1d1e3c-e62a-438b-8f40-3b5e507a396b",
        "colab": {
          "base_uri": "https://localhost:8080/",
          "height": 51
        }
      },
      "source": [
        "result_df['Passenger_Gender'] = train_df['Passenger_Gender'].replace(np.nan, \"M\")\n",
        "result_df['Passenger_Gender'].unique()"
      ],
      "execution_count": 194,
      "outputs": [
        {
          "output_type": "execute_result",
          "data": {
            "text/plain": [
              "[M, F, F/INF, M/INF, C, C/INF]\n",
              "Categories (6, object): [M, F, F/INF, M/INF, C, C/INF]"
            ]
          },
          "metadata": {
            "tags": []
          },
          "execution_count": 194
        }
      ]
    },
    {
      "cell_type": "markdown",
      "metadata": {
        "id": "GsGg4v3wbntJ",
        "colab_type": "text"
      },
      "source": [
        "#### Imputing Passenger Title\n",
        "\n",
        "Again, Operation Channel Group based imputation is employed. \"MISTER\" is most common tittle so we employed all the missin values with that."
      ]
    },
    {
      "cell_type": "code",
      "metadata": {
        "id": "KVG7j7b8eMzB",
        "colab_type": "code",
        "outputId": "56bebb4c-10cd-4e1a-f5a0-b4e2d83ba6c4",
        "colab": {
          "base_uri": "https://localhost:8080/",
          "height": 561
        }
      },
      "source": [
        "train_df.groupby(\"Operation_Channel_Group\")['Passenger_Title'].apply(lambda x: x.value_counts())"
      ],
      "execution_count": 195,
      "outputs": [
        {
          "output_type": "execute_result",
          "data": {
            "text/plain": [
              "Operation_Channel_Group           \n",
              "Counter                  MISTER       230324\n",
              "                         MISS         107506\n",
              "                         MISSES        42584\n",
              "                         DOCTOR          157\n",
              "                         PROFFESOR        10\n",
              "                         ?                 0\n",
              "Kiosks                   MISTER        26821\n",
              "                         MISS          10749\n",
              "                         MISSES         3910\n",
              "                         DOCTOR            9\n",
              "                         PROFFESOR         1\n",
              "                         ?                 0\n",
              "Mobile                   MISTER        92083\n",
              "                         MISS          48132\n",
              "                         MISSES        17537\n",
              "                         DOCTOR           62\n",
              "                         PROFFESOR         3\n",
              "                         ?                 0\n",
              "Online                   MISTER       105085\n",
              "                         MISS          63692\n",
              "                         MISSES        22288\n",
              "                         DOCTOR           91\n",
              "                         PROFFESOR         5\n",
              "                         ?                 0\n",
              "Other                    MISTER        10353\n",
              "                         MISS           6110\n",
              "                         MISSES         2329\n",
              "                         DOCTOR            6\n",
              "                         PROFFESOR         1\n",
              "                         ?                 0\n",
              "Name: Passenger_Title, dtype: int64"
            ]
          },
          "metadata": {
            "tags": []
          },
          "execution_count": 195
        }
      ]
    },
    {
      "cell_type": "code",
      "metadata": {
        "id": "aEL6pDtTghn-",
        "colab_type": "code",
        "outputId": "c9865881-5b4d-45a2-c120-5f00f13d9166",
        "colab": {
          "base_uri": "https://localhost:8080/",
          "height": 561
        }
      },
      "source": [
        "result_df.groupby(\"Operation_Channel_Group\")['Passenger_Title'].apply(lambda x: x.value_counts())"
      ],
      "execution_count": 196,
      "outputs": [
        {
          "output_type": "execute_result",
          "data": {
            "text/plain": [
              "Operation_Channel_Group           \n",
              "Counter                  MISTER       31512\n",
              "                         MISS         20004\n",
              "                         MISSES        5053\n",
              "                         DOCTOR          22\n",
              "                         PROFFESOR        6\n",
              "                         ?                0\n",
              "Kiosks                   MISTER        4260\n",
              "                         MISS          2087\n",
              "                         MISSES         502\n",
              "                         DOCTOR           2\n",
              "                         PROFFESOR        0\n",
              "                         ?                0\n",
              "Mobile                   MISTER       13275\n",
              "                         MISS          9310\n",
              "                         MISSES        2116\n",
              "                         DOCTOR           6\n",
              "                         PROFFESOR        0\n",
              "                         ?                0\n",
              "Online                   MISTER       14972\n",
              "                         MISS         11525\n",
              "                         MISSES        2535\n",
              "                         DOCTOR          11\n",
              "                         PROFFESOR        1\n",
              "                         ?                0\n",
              "Other                    MISTER         724\n",
              "                         MISS           626\n",
              "                         MISSES           5\n",
              "                         PROFFESOR        0\n",
              "                         DOCTOR           0\n",
              "                         ?                0\n",
              "Name: Passenger_Title, dtype: int64"
            ]
          },
          "metadata": {
            "tags": []
          },
          "execution_count": 196
        }
      ]
    },
    {
      "cell_type": "code",
      "metadata": {
        "id": "ZN7ATCdElSgI",
        "colab_type": "code",
        "outputId": "3060595a-f7d7-4e40-d059-be32187f8166",
        "colab": {
          "base_uri": "https://localhost:8080/",
          "height": 51
        }
      },
      "source": [
        "train_df['Passenger_Title'] = train_df['Passenger_Title'].replace(np.nan, \"MISTER\")\n",
        "train_df['Passenger_Title'].unique()"
      ],
      "execution_count": 197,
      "outputs": [
        {
          "output_type": "execute_result",
          "data": {
            "text/plain": [
              "[MISTER, MISS, MISSES, DOCTOR, PROFFESOR]\n",
              "Categories (5, object): [MISTER, MISS, MISSES, DOCTOR, PROFFESOR]"
            ]
          },
          "metadata": {
            "tags": []
          },
          "execution_count": 197
        }
      ]
    },
    {
      "cell_type": "code",
      "metadata": {
        "id": "ZbPfQGIulcFK",
        "colab_type": "code",
        "outputId": "583c2c31-524d-4ef1-f3fa-1affd7e99d4b",
        "colab": {
          "base_uri": "https://localhost:8080/",
          "height": 51
        }
      },
      "source": [
        "result_df['Passenger_Title'] = result_df['Passenger_Title'].replace(np.nan, \"MISTER\")\n",
        "result_df['Passenger_Title'].unique()"
      ],
      "execution_count": 198,
      "outputs": [
        {
          "output_type": "execute_result",
          "data": {
            "text/plain": [
              "[MISS, MISTER, MISSES, DOCTOR, PROFFESOR]\n",
              "Categories (5, object): [MISS, MISTER, MISSES, DOCTOR, PROFFESOR]"
            ]
          },
          "metadata": {
            "tags": []
          },
          "execution_count": 198
        }
      ]
    },
    {
      "cell_type": "markdown",
      "metadata": {
        "id": "cwp0gNe6oc0D",
        "colab_type": "text"
      },
      "source": [
        "#### Imputing Cabin Class\n",
        "Most common class is economy class for all channel groups so we imputed missing values with it."
      ]
    },
    {
      "cell_type": "code",
      "metadata": {
        "id": "IVFNYI92qPs9",
        "colab_type": "code",
        "outputId": "c7c3ed79-2e0c-40ef-fd10-bc4fce94cc87",
        "colab": {
          "base_uri": "https://localhost:8080/",
          "height": 306
        }
      },
      "source": [
        "train_df.groupby(\"Operation_Channel_Group\")['Cabin_Class'].apply(lambda x: x.value_counts())"
      ],
      "execution_count": 199,
      "outputs": [
        {
          "output_type": "execute_result",
          "data": {
            "text/plain": [
              "Operation_Channel_Group   \n",
              "Counter                  Y    359878\n",
              "                         C     24154\n",
              "                         ?         0\n",
              "Kiosks                   Y     40963\n",
              "                         C       784\n",
              "                         ?         0\n",
              "Mobile                   Y    141832\n",
              "                         C     10066\n",
              "                         ?         0\n",
              "Online                   Y    177436\n",
              "                         C      8563\n",
              "                         ?         0\n",
              "Other                    Y     15258\n",
              "                         C      2191\n",
              "                         ?         0\n",
              "Name: Cabin_Class, dtype: int64"
            ]
          },
          "metadata": {
            "tags": []
          },
          "execution_count": 199
        }
      ]
    },
    {
      "cell_type": "code",
      "metadata": {
        "id": "UxmTIOb9pm_V",
        "colab_type": "code",
        "outputId": "9db70d72-58ec-421f-f4f3-2af649b95a3e",
        "colab": {
          "base_uri": "https://localhost:8080/",
          "height": 221
        }
      },
      "source": [
        "result_df.groupby(\"Operation_Channel_Group\")['Cabin_Class'].apply(lambda x: x.value_counts())"
      ],
      "execution_count": 200,
      "outputs": [
        {
          "output_type": "execute_result",
          "data": {
            "text/plain": [
              "Operation_Channel_Group   \n",
              "Counter                  Y    55315\n",
              "                         C     3506\n",
              "Kiosks                   Y     6964\n",
              "                         C      136\n",
              "Mobile                   Y    23169\n",
              "                         C     1912\n",
              "Online                   Y    28342\n",
              "                         C     1165\n",
              "Other                    Y     1029\n",
              "                         C      383\n",
              "Name: Cabin_Class, dtype: int64"
            ]
          },
          "metadata": {
            "tags": []
          },
          "execution_count": 200
        }
      ]
    },
    {
      "cell_type": "code",
      "metadata": {
        "id": "-vksq8jTwPMG",
        "colab_type": "code",
        "outputId": "b55238f7-c684-42b1-8c57-2d2d85f3df39",
        "colab": {
          "base_uri": "https://localhost:8080/",
          "height": 51
        }
      },
      "source": [
        "train_df['Cabin_Class'] = train_df['Cabin_Class'].replace(np.nan, \"Y\")\n",
        "train_df['Cabin_Class'].unique()"
      ],
      "execution_count": 201,
      "outputs": [
        {
          "output_type": "execute_result",
          "data": {
            "text/plain": [
              "[Y, C]\n",
              "Categories (2, object): [Y, C]"
            ]
          },
          "metadata": {
            "tags": []
          },
          "execution_count": 201
        }
      ]
    },
    {
      "cell_type": "code",
      "metadata": {
        "id": "4YTu787QwPBr",
        "colab_type": "code",
        "outputId": "c7292514-a7d3-4659-cfb4-289cb1dadae2",
        "colab": {
          "base_uri": "https://localhost:8080/",
          "height": 51
        }
      },
      "source": [
        "result_df['Cabin_Class'] = result_df['Cabin_Class'].replace(np.nan, \"Y\")\n",
        "result_df['Cabin_Class'].unique()"
      ],
      "execution_count": 202,
      "outputs": [
        {
          "output_type": "execute_result",
          "data": {
            "text/plain": [
              "[Y, C]\n",
              "Categories (2, object): [Y, C]"
            ]
          },
          "metadata": {
            "tags": []
          },
          "execution_count": 202
        }
      ]
    },
    {
      "cell_type": "markdown",
      "metadata": {
        "id": "l5Ym3TE5xX2y",
        "colab_type": "text"
      },
      "source": [
        "#### Imputing Operation Initials\n",
        "\n",
        "The most frequent *Operation Initials* observed in different channel groups for the training and the test set are given below."
      ]
    },
    {
      "cell_type": "code",
      "metadata": {
        "id": "Pnvv-Qavxfje",
        "colab_type": "code",
        "outputId": "f20535d5-a0b1-4eea-a270-ab9591b51d63",
        "colab": {
          "base_uri": "https://localhost:8080/",
          "height": 136
        }
      },
      "source": [
        "train_df.groupby(\"Operation_Channel_Group\")['Operation_Initials'].apply(lambda x: x.value_counts().index[0])"
      ],
      "execution_count": 203,
      "outputs": [
        {
          "output_type": "execute_result",
          "data": {
            "text/plain": [
              "Operation_Channel_Group\n",
              "Counter    KS\n",
              "Kiosks     SC\n",
              "Mobile     MK\n",
              "Online     MK\n",
              "Other      MK\n",
              "Name: Operation_Initials, dtype: object"
            ]
          },
          "metadata": {
            "tags": []
          },
          "execution_count": 203
        }
      ]
    },
    {
      "cell_type": "code",
      "metadata": {
        "id": "gzCXzTUvALKC",
        "colab_type": "code",
        "outputId": "3b704ecf-fa82-4d54-f133-f1880a41a249",
        "colab": {
          "base_uri": "https://localhost:8080/",
          "height": 136
        }
      },
      "source": [
        "result_df.groupby(\"Operation_Channel_Group\")['Operation_Initials'].apply(lambda x: x.value_counts().index[0])"
      ],
      "execution_count": 204,
      "outputs": [
        {
          "output_type": "execute_result",
          "data": {
            "text/plain": [
              "Operation_Channel_Group\n",
              "Counter    KS\n",
              "Kiosks     KS\n",
              "Mobile     KS\n",
              "Online     KS\n",
              "Other      KS\n",
              "Name: Operation_Initials, dtype: object"
            ]
          },
          "metadata": {
            "tags": []
          },
          "execution_count": 204
        }
      ]
    },
    {
      "cell_type": "markdown",
      "metadata": {
        "id": "ibhXNfsaAUFu",
        "colab_type": "text"
      },
      "source": [
        "The most frequent initials observed in each channel group is \"KS\" for test set so we replaced NA values with it."
      ]
    },
    {
      "cell_type": "code",
      "metadata": {
        "id": "4NApKi8rAkix",
        "colab_type": "code",
        "outputId": "6af3a734-7208-4501-a632-54676761eb25",
        "colab": {
          "base_uri": "https://localhost:8080/",
          "height": 68
        }
      },
      "source": [
        "result_df['Operation_Initials'] = result_df['Operation_Initials'].replace(np.nan, \"KS\")\n",
        "result_df['Operation_Initials'].unique()"
      ],
      "execution_count": 205,
      "outputs": [
        {
          "output_type": "execute_result",
          "data": {
            "text/plain": [
              "[KS, MK, SC, EY, Q7, ..., SA, O3, VO, ZF, AX]\n",
              "Length: 123\n",
              "Categories (123, object): [KS, MK, SC, EY, ..., O3, VO, ZF, AX]"
            ]
          },
          "metadata": {
            "tags": []
          },
          "execution_count": 205
        }
      ]
    },
    {
      "cell_type": "markdown",
      "metadata": {
        "id": "TPZqMS_BAx-Y",
        "colab_type": "text"
      },
      "source": [
        "However, we need to impute missing values differently for different channels for the training set."
      ]
    },
    {
      "cell_type": "code",
      "metadata": {
        "id": "mCV4rYaB5DcD",
        "colab_type": "code",
        "colab": {}
      },
      "source": [
        "train_df.loc[(train_df.Operation_Channel_Group == \"Counter\") & (train_df.Operation_Initials.isna()),\"Operation_Initials\"] = \"KS\"\n",
        "train_df.loc[(train_df.Operation_Channel_Group == \"Kiosks\") & (train_df.Operation_Initials.isna()),\"Operation_Initials\"] = \"SC\"\n",
        "train_df.loc[(train_df.Operation_Channel_Group != \"Kiosks\") & (train_df.Operation_Channel_Group != \"Counter\") & (train_df.Operation_Initials.isna()),\"Operation_Initials\"] = \"MK\""
      ],
      "execution_count": 0,
      "outputs": []
    },
    {
      "cell_type": "markdown",
      "metadata": {
        "id": "PUD2-XzlMggF",
        "colab_type": "text"
      },
      "source": [
        "## Feature Generation\n",
        "\n",
        "We generate another variable to see if people checked in on-time or not. The date is given as days, so how many days there are between the flight and the check-in is added as a variable."
      ]
    },
    {
      "cell_type": "code",
      "metadata": {
        "id": "oqeDf5HEMuP1",
        "colab_type": "code",
        "colab": {
          "base_uri": "https://localhost:8080/",
          "height": 272
        },
        "outputId": "020709f1-4b7c-42ff-de06-2182491dd890"
      },
      "source": [
        "train_df['Early_Check_In'] = (train_df.Departure_YMD_LMT - train_df.Operation_YMD_LMT)\n",
        "train_df['Early_Check_In'] = (train_df['Early_Check_In']/86400000000000).astype(int)\n",
        "train_df['Early_Check_In'].unique()"
      ],
      "execution_count": 207,
      "outputs": [
        {
          "output_type": "execute_result",
          "data": {
            "text/plain": [
              "array([   0,    1,    2, 7033,    3,   -1, 7391, 7366, 7367, 7010, 7072,\n",
              "       7037, 7092, 7105, 7057, 7418, 7426, 7388, 7440, 7008, 7443, 7405,\n",
              "       7002, 7016, 7415, 7384, 7100, 7455, 7386, 7067, 7378, 7101, 7398,\n",
              "       7000, 7036, 7431, 7396, 7012, 7454, 7441, 7098, 7371, 7420, 7089,\n",
              "       7438, 7390, 7028, 7108, 7372, 7047, 7422, 7379, 7096, 7409, 7404,\n",
              "       7374, 7004, 7013, 7410, 7020, 7088, 7083, 7056, 7102, 7024, 7370,\n",
              "       7095, 7110, 7051, 7049, 7109, 7421, 7414, 7063, 7452, 7376, 7424,\n",
              "       7034, 7039, 7429, 6999, 7394, 7040, 7041, 7077, 7053, 7411, 7086,\n",
              "       7419, 7406, 7369, 7006, 7045, 7385, 7023, 7019, 7069, 7081, 7044,\n",
              "       7423, 7011, 7437, 7058, 7005, 7087, 7115, 7070, 7027, 7368, 7381,\n",
              "       7425, 7074, 7389, 7025, 7054, 7076, 7380, 7106, 7432, 7449, 7387,\n",
              "       7445, 7022, 7413, 7382, 7401, 7062, 7075, 7048, 7393, 7090, 7392,\n",
              "       7094, 7377, 7364, 7065, 7375, 7453, 7107, 7018, 7064, 7383, 7055,\n",
              "       7046, 7038, 7031, 7365, 7042, 7442, 7026, 7417, 7116, 7084, 7017,\n",
              "       7014, 7097, 7451])"
            ]
          },
          "metadata": {
            "tags": []
          },
          "execution_count": 207
        }
      ]
    },
    {
      "cell_type": "markdown",
      "metadata": {
        "id": "2dtlQ7QNNq3b",
        "colab_type": "text"
      },
      "source": [
        "There are some peculiar cases where check-in made 7000 days before in 1999!"
      ]
    },
    {
      "cell_type": "code",
      "metadata": {
        "id": "sdapddLzOHO7",
        "colab_type": "code",
        "colab": {
          "base_uri": "https://localhost:8080/",
          "height": 1000
        },
        "outputId": "255baf47-2a11-4545-b2ed-b25069334f4f"
      },
      "source": [
        "train_df[train_df['Early_Check_In']>100].sort_values('Operation_YMD_LMT')"
      ],
      "execution_count": 208,
      "outputs": [
        {
          "output_type": "execute_result",
          "data": {
            "text/html": [
              "<div>\n",
              "<style scoped>\n",
              "    .dataframe tbody tr th:only-of-type {\n",
              "        vertical-align: middle;\n",
              "    }\n",
              "\n",
              "    .dataframe tbody tr th {\n",
              "        vertical-align: top;\n",
              "    }\n",
              "\n",
              "    .dataframe thead th {\n",
              "        text-align: right;\n",
              "    }\n",
              "</style>\n",
              "<table border=\"1\" class=\"dataframe\">\n",
              "  <thead>\n",
              "    <tr style=\"text-align: right;\">\n",
              "      <th></th>\n",
              "      <th>Departure_YMD_LMT</th>\n",
              "      <th>Operation_YMD_LMT</th>\n",
              "      <th>Operation_Airport</th>\n",
              "      <th>Terminal_Name</th>\n",
              "      <th>Operation_Initials</th>\n",
              "      <th>Operation_Channel</th>\n",
              "      <th>Passenger_Title</th>\n",
              "      <th>Passenger_Gender</th>\n",
              "      <th>Inbound_Departure_Airport</th>\n",
              "      <th>Outbound_Arrival_Airport</th>\n",
              "      <th>SWC_FLY</th>\n",
              "      <th>Cabin_Class</th>\n",
              "      <th>SWC_FQTV_Member</th>\n",
              "      <th>Passenger_Baggage_Count</th>\n",
              "      <th>Passenger_Baggage_Weight</th>\n",
              "      <th>SWC_Staff</th>\n",
              "      <th>SWC_CIP_Passenger</th>\n",
              "      <th>SWC_VIP_Passenger</th>\n",
              "      <th>SWC_Has_Infant</th>\n",
              "      <th>Operation_Count</th>\n",
              "      <th>Operation_Channel_Group</th>\n",
              "      <th>Operation_Sonic_Code_Flag</th>\n",
              "      <th>Terminal_Number_Flag</th>\n",
              "      <th>Early_Check_In</th>\n",
              "    </tr>\n",
              "  </thead>\n",
              "  <tbody>\n",
              "    <tr>\n",
              "      <th>469</th>\n",
              "      <td>2018-04-04</td>\n",
              "      <td>1999-01-01</td>\n",
              "      <td>TJV</td>\n",
              "      <td>03F9C5</td>\n",
              "      <td>KS</td>\n",
              "      <td>QC</td>\n",
              "      <td>MISTER</td>\n",
              "      <td>M</td>\n",
              "      <td>EST</td>\n",
              "      <td>Unknown</td>\n",
              "      <td>1</td>\n",
              "      <td>Y</td>\n",
              "      <td>1</td>\n",
              "      <td>0</td>\n",
              "      <td>0</td>\n",
              "      <td>0</td>\n",
              "      <td>0</td>\n",
              "      <td>0</td>\n",
              "      <td>0</td>\n",
              "      <td>2</td>\n",
              "      <td>Counter</td>\n",
              "      <td>0</td>\n",
              "      <td>0</td>\n",
              "      <td>7033</td>\n",
              "    </tr>\n",
              "    <tr>\n",
              "      <th>555391</th>\n",
              "      <td>2019-04-21</td>\n",
              "      <td>1999-01-01</td>\n",
              "      <td>JED</td>\n",
              "      <td>096D33</td>\n",
              "      <td>AJ</td>\n",
              "      <td>TY</td>\n",
              "      <td>MISSES</td>\n",
              "      <td>F</td>\n",
              "      <td>JED</td>\n",
              "      <td>Unknown</td>\n",
              "      <td>1</td>\n",
              "      <td>Y</td>\n",
              "      <td>0</td>\n",
              "      <td>1</td>\n",
              "      <td>10</td>\n",
              "      <td>0</td>\n",
              "      <td>0</td>\n",
              "      <td>0</td>\n",
              "      <td>0</td>\n",
              "      <td>1</td>\n",
              "      <td>Counter</td>\n",
              "      <td>0</td>\n",
              "      <td>0</td>\n",
              "      <td>7415</td>\n",
              "    </tr>\n",
              "    <tr>\n",
              "      <th>553128</th>\n",
              "      <td>2019-04-16</td>\n",
              "      <td>1999-01-01</td>\n",
              "      <td>JED</td>\n",
              "      <td>095C12</td>\n",
              "      <td>AZ</td>\n",
              "      <td>TY</td>\n",
              "      <td>MISTER</td>\n",
              "      <td>M</td>\n",
              "      <td>JED</td>\n",
              "      <td>Unknown</td>\n",
              "      <td>1</td>\n",
              "      <td>Y</td>\n",
              "      <td>1</td>\n",
              "      <td>3</td>\n",
              "      <td>35</td>\n",
              "      <td>0</td>\n",
              "      <td>1</td>\n",
              "      <td>0</td>\n",
              "      <td>0</td>\n",
              "      <td>1</td>\n",
              "      <td>Counter</td>\n",
              "      <td>0</td>\n",
              "      <td>0</td>\n",
              "      <td>7410</td>\n",
              "    </tr>\n",
              "    <tr>\n",
              "      <th>551608</th>\n",
              "      <td>2019-03-17</td>\n",
              "      <td>1999-01-01</td>\n",
              "      <td>ISL</td>\n",
              "      <td>03293A</td>\n",
              "      <td>KS</td>\n",
              "      <td>QC</td>\n",
              "      <td>MISTER</td>\n",
              "      <td>M</td>\n",
              "      <td>Unknown</td>\n",
              "      <td>Unknown</td>\n",
              "      <td>1</td>\n",
              "      <td>Y</td>\n",
              "      <td>0</td>\n",
              "      <td>2</td>\n",
              "      <td>28</td>\n",
              "      <td>0</td>\n",
              "      <td>0</td>\n",
              "      <td>0</td>\n",
              "      <td>0</td>\n",
              "      <td>1</td>\n",
              "      <td>Counter</td>\n",
              "      <td>1</td>\n",
              "      <td>0</td>\n",
              "      <td>7380</td>\n",
              "    </tr>\n",
              "    <tr>\n",
              "      <th>551287</th>\n",
              "      <td>2019-03-14</td>\n",
              "      <td>1999-01-01</td>\n",
              "      <td>ISL</td>\n",
              "      <td>035443</td>\n",
              "      <td>MK</td>\n",
              "      <td>TS</td>\n",
              "      <td>MISTER</td>\n",
              "      <td>M</td>\n",
              "      <td>Unknown</td>\n",
              "      <td>Unknown</td>\n",
              "      <td>1</td>\n",
              "      <td>Y</td>\n",
              "      <td>0</td>\n",
              "      <td>0</td>\n",
              "      <td>0</td>\n",
              "      <td>0</td>\n",
              "      <td>0</td>\n",
              "      <td>0</td>\n",
              "      <td>0</td>\n",
              "      <td>1</td>\n",
              "      <td>Mobile</td>\n",
              "      <td>0</td>\n",
              "      <td>0</td>\n",
              "      <td>7377</td>\n",
              "    </tr>\n",
              "    <tr>\n",
              "      <th>550406</th>\n",
              "      <td>2018-03-29</td>\n",
              "      <td>1999-01-01</td>\n",
              "      <td>TJV</td>\n",
              "      <td>0B3F66</td>\n",
              "      <td>KS</td>\n",
              "      <td>TY</td>\n",
              "      <td>MISS</td>\n",
              "      <td>F</td>\n",
              "      <td>Unknown</td>\n",
              "      <td>Unknown</td>\n",
              "      <td>1</td>\n",
              "      <td>Y</td>\n",
              "      <td>0</td>\n",
              "      <td>1</td>\n",
              "      <td>13</td>\n",
              "      <td>1</td>\n",
              "      <td>0</td>\n",
              "      <td>0</td>\n",
              "      <td>0</td>\n",
              "      <td>1</td>\n",
              "      <td>Counter</td>\n",
              "      <td>0</td>\n",
              "      <td>0</td>\n",
              "      <td>7027</td>\n",
              "    </tr>\n",
              "    <tr>\n",
              "      <th>549936</th>\n",
              "      <td>2019-05-31</td>\n",
              "      <td>1999-01-01</td>\n",
              "      <td>KWI</td>\n",
              "      <td>03237P</td>\n",
              "      <td>LK</td>\n",
              "      <td>QC</td>\n",
              "      <td>MISS</td>\n",
              "      <td>F</td>\n",
              "      <td>KWI</td>\n",
              "      <td>Unknown</td>\n",
              "      <td>1</td>\n",
              "      <td>Y</td>\n",
              "      <td>0</td>\n",
              "      <td>0</td>\n",
              "      <td>0</td>\n",
              "      <td>0</td>\n",
              "      <td>0</td>\n",
              "      <td>0</td>\n",
              "      <td>0</td>\n",
              "      <td>2</td>\n",
              "      <td>Counter</td>\n",
              "      <td>0</td>\n",
              "      <td>0</td>\n",
              "      <td>7455</td>\n",
              "    </tr>\n",
              "    <tr>\n",
              "      <th>547407</th>\n",
              "      <td>2018-06-04</td>\n",
              "      <td>1999-01-01</td>\n",
              "      <td>VKO</td>\n",
              "      <td>03543P</td>\n",
              "      <td>MK</td>\n",
              "      <td>TS</td>\n",
              "      <td>MISTER</td>\n",
              "      <td>M</td>\n",
              "      <td>EST</td>\n",
              "      <td>Unknown</td>\n",
              "      <td>1</td>\n",
              "      <td>Y</td>\n",
              "      <td>1</td>\n",
              "      <td>1</td>\n",
              "      <td>8</td>\n",
              "      <td>0</td>\n",
              "      <td>0</td>\n",
              "      <td>0</td>\n",
              "      <td>0</td>\n",
              "      <td>1</td>\n",
              "      <td>Mobile</td>\n",
              "      <td>0</td>\n",
              "      <td>0</td>\n",
              "      <td>7094</td>\n",
              "    </tr>\n",
              "    <tr>\n",
              "      <th>543253</th>\n",
              "      <td>2019-04-10</td>\n",
              "      <td>1999-01-01</td>\n",
              "      <td>TJV</td>\n",
              "      <td>03F901</td>\n",
              "      <td>KS</td>\n",
              "      <td>QC</td>\n",
              "      <td>MISTER</td>\n",
              "      <td>M</td>\n",
              "      <td>Unknown</td>\n",
              "      <td>NKV</td>\n",
              "      <td>1</td>\n",
              "      <td>Y</td>\n",
              "      <td>0</td>\n",
              "      <td>1</td>\n",
              "      <td>7</td>\n",
              "      <td>0</td>\n",
              "      <td>0</td>\n",
              "      <td>0</td>\n",
              "      <td>0</td>\n",
              "      <td>1</td>\n",
              "      <td>Counter</td>\n",
              "      <td>1</td>\n",
              "      <td>1</td>\n",
              "      <td>7404</td>\n",
              "    </tr>\n",
              "    <tr>\n",
              "      <th>541138</th>\n",
              "      <td>2018-03-12</td>\n",
              "      <td>1999-01-01</td>\n",
              "      <td>TTS</td>\n",
              "      <td>03294D</td>\n",
              "      <td>NU</td>\n",
              "      <td>QC</td>\n",
              "      <td>MISTER</td>\n",
              "      <td>M</td>\n",
              "      <td>IST</td>\n",
              "      <td>KSY</td>\n",
              "      <td>0</td>\n",
              "      <td>Y</td>\n",
              "      <td>0</td>\n",
              "      <td>0</td>\n",
              "      <td>0</td>\n",
              "      <td>0</td>\n",
              "      <td>0</td>\n",
              "      <td>0</td>\n",
              "      <td>0</td>\n",
              "      <td>1</td>\n",
              "      <td>Counter</td>\n",
              "      <td>0</td>\n",
              "      <td>1</td>\n",
              "      <td>7010</td>\n",
              "    </tr>\n",
              "    <tr>\n",
              "      <th>536708</th>\n",
              "      <td>2018-03-18</td>\n",
              "      <td>1999-01-01</td>\n",
              "      <td>MED</td>\n",
              "      <td>0329PC</td>\n",
              "      <td>WA</td>\n",
              "      <td>QC</td>\n",
              "      <td>MISTER</td>\n",
              "      <td>M</td>\n",
              "      <td>MED</td>\n",
              "      <td>Unknown</td>\n",
              "      <td>1</td>\n",
              "      <td>Y</td>\n",
              "      <td>0</td>\n",
              "      <td>0</td>\n",
              "      <td>0</td>\n",
              "      <td>0</td>\n",
              "      <td>0</td>\n",
              "      <td>0</td>\n",
              "      <td>0</td>\n",
              "      <td>1</td>\n",
              "      <td>Counter</td>\n",
              "      <td>0</td>\n",
              "      <td>0</td>\n",
              "      <td>7016</td>\n",
              "    </tr>\n",
              "    <tr>\n",
              "      <th>535795</th>\n",
              "      <td>2018-03-15</td>\n",
              "      <td>1999-01-01</td>\n",
              "      <td>OGU</td>\n",
              "      <td>0323B2</td>\n",
              "      <td>HV</td>\n",
              "      <td>QC</td>\n",
              "      <td>MISTER</td>\n",
              "      <td>M</td>\n",
              "      <td>EST</td>\n",
              "      <td>OGU</td>\n",
              "      <td>1</td>\n",
              "      <td>Y</td>\n",
              "      <td>1</td>\n",
              "      <td>0</td>\n",
              "      <td>0</td>\n",
              "      <td>0</td>\n",
              "      <td>0</td>\n",
              "      <td>0</td>\n",
              "      <td>0</td>\n",
              "      <td>1</td>\n",
              "      <td>Counter</td>\n",
              "      <td>1</td>\n",
              "      <td>1</td>\n",
              "      <td>7013</td>\n",
              "    </tr>\n",
              "    <tr>\n",
              "      <th>533869</th>\n",
              "      <td>2019-03-29</td>\n",
              "      <td>1999-01-01</td>\n",
              "      <td>ISL</td>\n",
              "      <td>032962</td>\n",
              "      <td>KS</td>\n",
              "      <td>QC</td>\n",
              "      <td>MISTER</td>\n",
              "      <td>M</td>\n",
              "      <td>Unknown</td>\n",
              "      <td>Unknown</td>\n",
              "      <td>1</td>\n",
              "      <td>Y</td>\n",
              "      <td>0</td>\n",
              "      <td>1</td>\n",
              "      <td>16</td>\n",
              "      <td>0</td>\n",
              "      <td>0</td>\n",
              "      <td>0</td>\n",
              "      <td>0</td>\n",
              "      <td>1</td>\n",
              "      <td>Counter</td>\n",
              "      <td>1</td>\n",
              "      <td>0</td>\n",
              "      <td>7392</td>\n",
              "    </tr>\n",
              "    <tr>\n",
              "      <th>531810</th>\n",
              "      <td>2018-03-21</td>\n",
              "      <td>1999-01-01</td>\n",
              "      <td>DUS</td>\n",
              "      <td>03F95A</td>\n",
              "      <td>JM</td>\n",
              "      <td>QC</td>\n",
              "      <td>MISTER</td>\n",
              "      <td>M</td>\n",
              "      <td>IST</td>\n",
              "      <td>DUS</td>\n",
              "      <td>1</td>\n",
              "      <td>Y</td>\n",
              "      <td>0</td>\n",
              "      <td>0</td>\n",
              "      <td>0</td>\n",
              "      <td>0</td>\n",
              "      <td>0</td>\n",
              "      <td>0</td>\n",
              "      <td>0</td>\n",
              "      <td>1</td>\n",
              "      <td>Counter</td>\n",
              "      <td>0</td>\n",
              "      <td>0</td>\n",
              "      <td>7019</td>\n",
              "    </tr>\n",
              "    <tr>\n",
              "      <th>530144</th>\n",
              "      <td>2019-04-15</td>\n",
              "      <td>1999-01-01</td>\n",
              "      <td>VIE</td>\n",
              "      <td>0302F3</td>\n",
              "      <td>MK</td>\n",
              "      <td>TW</td>\n",
              "      <td>MISTER</td>\n",
              "      <td>M</td>\n",
              "      <td>SKW</td>\n",
              "      <td>GVK</td>\n",
              "      <td>1</td>\n",
              "      <td>Y</td>\n",
              "      <td>0</td>\n",
              "      <td>0</td>\n",
              "      <td>0</td>\n",
              "      <td>0</td>\n",
              "      <td>0</td>\n",
              "      <td>0</td>\n",
              "      <td>0</td>\n",
              "      <td>1</td>\n",
              "      <td>Online</td>\n",
              "      <td>0</td>\n",
              "      <td>0</td>\n",
              "      <td>7409</td>\n",
              "    </tr>\n",
              "    <tr>\n",
              "      <th>528408</th>\n",
              "      <td>2019-03-24</td>\n",
              "      <td>1999-01-01</td>\n",
              "      <td>ISL</td>\n",
              "      <td>03F9AD</td>\n",
              "      <td>KS</td>\n",
              "      <td>QC</td>\n",
              "      <td>MISTER</td>\n",
              "      <td>M</td>\n",
              "      <td>SKW</td>\n",
              "      <td>Unknown</td>\n",
              "      <td>1</td>\n",
              "      <td>Y</td>\n",
              "      <td>0</td>\n",
              "      <td>0</td>\n",
              "      <td>0</td>\n",
              "      <td>0</td>\n",
              "      <td>0</td>\n",
              "      <td>0</td>\n",
              "      <td>0</td>\n",
              "      <td>1</td>\n",
              "      <td>Counter</td>\n",
              "      <td>1</td>\n",
              "      <td>0</td>\n",
              "      <td>7387</td>\n",
              "    </tr>\n",
              "    <tr>\n",
              "      <th>527719</th>\n",
              "      <td>2019-03-23</td>\n",
              "      <td>1999-01-01</td>\n",
              "      <td>JED</td>\n",
              "      <td>095C13</td>\n",
              "      <td>JS</td>\n",
              "      <td>TY</td>\n",
              "      <td>MISSES</td>\n",
              "      <td>F</td>\n",
              "      <td>JED</td>\n",
              "      <td>Unknown</td>\n",
              "      <td>1</td>\n",
              "      <td>Y</td>\n",
              "      <td>0</td>\n",
              "      <td>0</td>\n",
              "      <td>0</td>\n",
              "      <td>0</td>\n",
              "      <td>0</td>\n",
              "      <td>0</td>\n",
              "      <td>0</td>\n",
              "      <td>1</td>\n",
              "      <td>Counter</td>\n",
              "      <td>0</td>\n",
              "      <td>0</td>\n",
              "      <td>7386</td>\n",
              "    </tr>\n",
              "    <tr>\n",
              "      <th>527384</th>\n",
              "      <td>2018-06-06</td>\n",
              "      <td>1999-01-01</td>\n",
              "      <td>GVK</td>\n",
              "      <td>03F39C</td>\n",
              "      <td>KO</td>\n",
              "      <td>QC</td>\n",
              "      <td>MISTER</td>\n",
              "      <td>M</td>\n",
              "      <td>IST</td>\n",
              "      <td>Unknown</td>\n",
              "      <td>0</td>\n",
              "      <td>Y</td>\n",
              "      <td>1</td>\n",
              "      <td>0</td>\n",
              "      <td>0</td>\n",
              "      <td>0</td>\n",
              "      <td>0</td>\n",
              "      <td>0</td>\n",
              "      <td>0</td>\n",
              "      <td>1</td>\n",
              "      <td>Counter</td>\n",
              "      <td>0</td>\n",
              "      <td>1</td>\n",
              "      <td>7096</td>\n",
              "    </tr>\n",
              "    <tr>\n",
              "      <th>524905</th>\n",
              "      <td>2018-05-16</td>\n",
              "      <td>1999-01-01</td>\n",
              "      <td>DXT</td>\n",
              "      <td>000000</td>\n",
              "      <td>||</td>\n",
              "      <td>IA</td>\n",
              "      <td>MISTER</td>\n",
              "      <td>M</td>\n",
              "      <td>IST</td>\n",
              "      <td>DXT</td>\n",
              "      <td>1</td>\n",
              "      <td>Y</td>\n",
              "      <td>0</td>\n",
              "      <td>0</td>\n",
              "      <td>0</td>\n",
              "      <td>0</td>\n",
              "      <td>0</td>\n",
              "      <td>0</td>\n",
              "      <td>0</td>\n",
              "      <td>1</td>\n",
              "      <td>Other</td>\n",
              "      <td>0</td>\n",
              "      <td>0</td>\n",
              "      <td>7075</td>\n",
              "    </tr>\n",
              "    <tr>\n",
              "      <th>522922</th>\n",
              "      <td>2018-06-16</td>\n",
              "      <td>1999-01-01</td>\n",
              "      <td>NPH</td>\n",
              "      <td>0323P1</td>\n",
              "      <td>3W</td>\n",
              "      <td>QC</td>\n",
              "      <td>MISS</td>\n",
              "      <td>F</td>\n",
              "      <td>IST</td>\n",
              "      <td>Unknown</td>\n",
              "      <td>1</td>\n",
              "      <td>Y</td>\n",
              "      <td>0</td>\n",
              "      <td>1</td>\n",
              "      <td>15</td>\n",
              "      <td>0</td>\n",
              "      <td>0</td>\n",
              "      <td>0</td>\n",
              "      <td>0</td>\n",
              "      <td>1</td>\n",
              "      <td>Counter</td>\n",
              "      <td>0</td>\n",
              "      <td>0</td>\n",
              "      <td>7106</td>\n",
              "    </tr>\n",
              "    <tr>\n",
              "      <th>522899</th>\n",
              "      <td>2019-04-19</td>\n",
              "      <td>1999-01-01</td>\n",
              "      <td>OGU</td>\n",
              "      <td>032927</td>\n",
              "      <td>HV</td>\n",
              "      <td>QC</td>\n",
              "      <td>MISTER</td>\n",
              "      <td>M</td>\n",
              "      <td>IST</td>\n",
              "      <td>OGU</td>\n",
              "      <td>1</td>\n",
              "      <td>Y</td>\n",
              "      <td>0</td>\n",
              "      <td>0</td>\n",
              "      <td>0</td>\n",
              "      <td>0</td>\n",
              "      <td>0</td>\n",
              "      <td>0</td>\n",
              "      <td>0</td>\n",
              "      <td>1</td>\n",
              "      <td>Counter</td>\n",
              "      <td>1</td>\n",
              "      <td>0</td>\n",
              "      <td>7413</td>\n",
              "    </tr>\n",
              "    <tr>\n",
              "      <th>519394</th>\n",
              "      <td>2018-04-04</td>\n",
              "      <td>1999-01-01</td>\n",
              "      <td>VNE</td>\n",
              "      <td>03FD7A</td>\n",
              "      <td>FK</td>\n",
              "      <td>QC</td>\n",
              "      <td>MISTER</td>\n",
              "      <td>M</td>\n",
              "      <td>IST</td>\n",
              "      <td>GZT</td>\n",
              "      <td>1</td>\n",
              "      <td>Y</td>\n",
              "      <td>1</td>\n",
              "      <td>1</td>\n",
              "      <td>19</td>\n",
              "      <td>0</td>\n",
              "      <td>1</td>\n",
              "      <td>0</td>\n",
              "      <td>0</td>\n",
              "      <td>1</td>\n",
              "      <td>Counter</td>\n",
              "      <td>0</td>\n",
              "      <td>0</td>\n",
              "      <td>7033</td>\n",
              "    </tr>\n",
              "    <tr>\n",
              "      <th>515578</th>\n",
              "      <td>2018-05-31</td>\n",
              "      <td>1999-01-01</td>\n",
              "      <td>VKR</td>\n",
              "      <td>0302F6</td>\n",
              "      <td>MK</td>\n",
              "      <td>TW</td>\n",
              "      <td>MISTER</td>\n",
              "      <td>M</td>\n",
              "      <td>IST</td>\n",
              "      <td>Unknown</td>\n",
              "      <td>1</td>\n",
              "      <td>Y</td>\n",
              "      <td>1</td>\n",
              "      <td>1</td>\n",
              "      <td>14</td>\n",
              "      <td>0</td>\n",
              "      <td>0</td>\n",
              "      <td>0</td>\n",
              "      <td>0</td>\n",
              "      <td>1</td>\n",
              "      <td>Online</td>\n",
              "      <td>0</td>\n",
              "      <td>0</td>\n",
              "      <td>7090</td>\n",
              "    </tr>\n",
              "    <tr>\n",
              "      <th>514514</th>\n",
              "      <td>2018-03-18</td>\n",
              "      <td>1999-01-01</td>\n",
              "      <td>MED</td>\n",
              "      <td>0323FB</td>\n",
              "      <td>RM</td>\n",
              "      <td>QC</td>\n",
              "      <td>MISTER</td>\n",
              "      <td>M</td>\n",
              "      <td>MED</td>\n",
              "      <td>Unknown</td>\n",
              "      <td>1</td>\n",
              "      <td>Y</td>\n",
              "      <td>0</td>\n",
              "      <td>5</td>\n",
              "      <td>76</td>\n",
              "      <td>0</td>\n",
              "      <td>0</td>\n",
              "      <td>0</td>\n",
              "      <td>0</td>\n",
              "      <td>1</td>\n",
              "      <td>Counter</td>\n",
              "      <td>0</td>\n",
              "      <td>0</td>\n",
              "      <td>7016</td>\n",
              "    </tr>\n",
              "    <tr>\n",
              "      <th>513878</th>\n",
              "      <td>2018-03-18</td>\n",
              "      <td>1999-01-01</td>\n",
              "      <td>MED</td>\n",
              "      <td>032A04</td>\n",
              "      <td>AL</td>\n",
              "      <td>QC</td>\n",
              "      <td>MISTER</td>\n",
              "      <td>M</td>\n",
              "      <td>MED</td>\n",
              "      <td>Unknown</td>\n",
              "      <td>1</td>\n",
              "      <td>Y</td>\n",
              "      <td>0</td>\n",
              "      <td>5</td>\n",
              "      <td>71</td>\n",
              "      <td>0</td>\n",
              "      <td>0</td>\n",
              "      <td>0</td>\n",
              "      <td>0</td>\n",
              "      <td>1</td>\n",
              "      <td>Counter</td>\n",
              "      <td>0</td>\n",
              "      <td>0</td>\n",
              "      <td>7016</td>\n",
              "    </tr>\n",
              "    <tr>\n",
              "      <th>513569</th>\n",
              "      <td>2018-06-05</td>\n",
              "      <td>1999-01-01</td>\n",
              "      <td>NPH</td>\n",
              "      <td>0302F9</td>\n",
              "      <td>MK</td>\n",
              "      <td>TW</td>\n",
              "      <td>MISTER</td>\n",
              "      <td>M</td>\n",
              "      <td>IST</td>\n",
              "      <td>NPH</td>\n",
              "      <td>1</td>\n",
              "      <td>C</td>\n",
              "      <td>1</td>\n",
              "      <td>0</td>\n",
              "      <td>0</td>\n",
              "      <td>0</td>\n",
              "      <td>1</td>\n",
              "      <td>0</td>\n",
              "      <td>0</td>\n",
              "      <td>1</td>\n",
              "      <td>Online</td>\n",
              "      <td>0</td>\n",
              "      <td>0</td>\n",
              "      <td>7095</td>\n",
              "    </tr>\n",
              "    <tr>\n",
              "      <th>557084</th>\n",
              "      <td>2018-03-15</td>\n",
              "      <td>1999-01-01</td>\n",
              "      <td>OGU</td>\n",
              "      <td>0323B2</td>\n",
              "      <td>HV</td>\n",
              "      <td>QC</td>\n",
              "      <td>MISTER</td>\n",
              "      <td>M</td>\n",
              "      <td>EST</td>\n",
              "      <td>OGU</td>\n",
              "      <td>1</td>\n",
              "      <td>Y</td>\n",
              "      <td>1</td>\n",
              "      <td>1</td>\n",
              "      <td>10</td>\n",
              "      <td>0</td>\n",
              "      <td>0</td>\n",
              "      <td>0</td>\n",
              "      <td>0</td>\n",
              "      <td>1</td>\n",
              "      <td>Counter</td>\n",
              "      <td>0</td>\n",
              "      <td>0</td>\n",
              "      <td>7013</td>\n",
              "    </tr>\n",
              "    <tr>\n",
              "      <th>557351</th>\n",
              "      <td>2018-06-05</td>\n",
              "      <td>1999-01-01</td>\n",
              "      <td>KRN</td>\n",
              "      <td>0329CC</td>\n",
              "      <td>RY</td>\n",
              "      <td>QC</td>\n",
              "      <td>MISTER</td>\n",
              "      <td>M</td>\n",
              "      <td>IST</td>\n",
              "      <td>Unknown</td>\n",
              "      <td>0</td>\n",
              "      <td>Y</td>\n",
              "      <td>1</td>\n",
              "      <td>0</td>\n",
              "      <td>0</td>\n",
              "      <td>0</td>\n",
              "      <td>0</td>\n",
              "      <td>0</td>\n",
              "      <td>0</td>\n",
              "      <td>1</td>\n",
              "      <td>Counter</td>\n",
              "      <td>0</td>\n",
              "      <td>1</td>\n",
              "      <td>7095</td>\n",
              "    </tr>\n",
              "    <tr>\n",
              "      <th>563037</th>\n",
              "      <td>2019-03-17</td>\n",
              "      <td>1999-01-01</td>\n",
              "      <td>ISL</td>\n",
              "      <td>032A4A</td>\n",
              "      <td>KS</td>\n",
              "      <td>QC</td>\n",
              "      <td>MISSES</td>\n",
              "      <td>F</td>\n",
              "      <td>ISL</td>\n",
              "      <td>Unknown</td>\n",
              "      <td>0</td>\n",
              "      <td>Y</td>\n",
              "      <td>0</td>\n",
              "      <td>0</td>\n",
              "      <td>0</td>\n",
              "      <td>0</td>\n",
              "      <td>0</td>\n",
              "      <td>0</td>\n",
              "      <td>0</td>\n",
              "      <td>1</td>\n",
              "      <td>Counter</td>\n",
              "      <td>1</td>\n",
              "      <td>1</td>\n",
              "      <td>7380</td>\n",
              "    </tr>\n",
              "    <tr>\n",
              "      <th>564697</th>\n",
              "      <td>2019-04-02</td>\n",
              "      <td>1999-01-01</td>\n",
              "      <td>NDG</td>\n",
              "      <td>03FD4C</td>\n",
              "      <td>DY</td>\n",
              "      <td>QC</td>\n",
              "      <td>MISTER</td>\n",
              "      <td>M</td>\n",
              "      <td>IST</td>\n",
              "      <td>IST</td>\n",
              "      <td>1</td>\n",
              "      <td>Y</td>\n",
              "      <td>0</td>\n",
              "      <td>0</td>\n",
              "      <td>0</td>\n",
              "      <td>0</td>\n",
              "      <td>0</td>\n",
              "      <td>0</td>\n",
              "      <td>0</td>\n",
              "      <td>1</td>\n",
              "      <td>Counter</td>\n",
              "      <td>0</td>\n",
              "      <td>0</td>\n",
              "      <td>7396</td>\n",
              "    </tr>\n",
              "    <tr>\n",
              "      <th>...</th>\n",
              "      <td>...</td>\n",
              "      <td>...</td>\n",
              "      <td>...</td>\n",
              "      <td>...</td>\n",
              "      <td>...</td>\n",
              "      <td>...</td>\n",
              "      <td>...</td>\n",
              "      <td>...</td>\n",
              "      <td>...</td>\n",
              "      <td>...</td>\n",
              "      <td>...</td>\n",
              "      <td>...</td>\n",
              "      <td>...</td>\n",
              "      <td>...</td>\n",
              "      <td>...</td>\n",
              "      <td>...</td>\n",
              "      <td>...</td>\n",
              "      <td>...</td>\n",
              "      <td>...</td>\n",
              "      <td>...</td>\n",
              "      <td>...</td>\n",
              "      <td>...</td>\n",
              "      <td>...</td>\n",
              "      <td>...</td>\n",
              "    </tr>\n",
              "    <tr>\n",
              "      <th>243798</th>\n",
              "      <td>2019-05-31</td>\n",
              "      <td>1999-01-01</td>\n",
              "      <td>KWI</td>\n",
              "      <td>0323BP</td>\n",
              "      <td>LK</td>\n",
              "      <td>QC</td>\n",
              "      <td>MISTER</td>\n",
              "      <td>M</td>\n",
              "      <td>KWI</td>\n",
              "      <td>Unknown</td>\n",
              "      <td>1</td>\n",
              "      <td>Y</td>\n",
              "      <td>0</td>\n",
              "      <td>1</td>\n",
              "      <td>32</td>\n",
              "      <td>0</td>\n",
              "      <td>0</td>\n",
              "      <td>0</td>\n",
              "      <td>0</td>\n",
              "      <td>1</td>\n",
              "      <td>Counter</td>\n",
              "      <td>0</td>\n",
              "      <td>0</td>\n",
              "      <td>7455</td>\n",
              "    </tr>\n",
              "    <tr>\n",
              "      <th>248149</th>\n",
              "      <td>2018-03-22</td>\n",
              "      <td>1999-01-01</td>\n",
              "      <td>MUN</td>\n",
              "      <td>03233C</td>\n",
              "      <td>WA</td>\n",
              "      <td>QC</td>\n",
              "      <td>MISTER</td>\n",
              "      <td>M</td>\n",
              "      <td>IST</td>\n",
              "      <td>MUN</td>\n",
              "      <td>1</td>\n",
              "      <td>Y</td>\n",
              "      <td>1</td>\n",
              "      <td>0</td>\n",
              "      <td>0</td>\n",
              "      <td>0</td>\n",
              "      <td>0</td>\n",
              "      <td>0</td>\n",
              "      <td>0</td>\n",
              "      <td>2</td>\n",
              "      <td>Counter</td>\n",
              "      <td>0</td>\n",
              "      <td>0</td>\n",
              "      <td>7020</td>\n",
              "    </tr>\n",
              "    <tr>\n",
              "      <th>302115</th>\n",
              "      <td>2018-04-05</td>\n",
              "      <td>1999-01-01</td>\n",
              "      <td>MXP</td>\n",
              "      <td>0323A7</td>\n",
              "      <td>KM</td>\n",
              "      <td>QC</td>\n",
              "      <td>MISTER</td>\n",
              "      <td>M</td>\n",
              "      <td>IST</td>\n",
              "      <td>MXP</td>\n",
              "      <td>1</td>\n",
              "      <td>Y</td>\n",
              "      <td>1</td>\n",
              "      <td>0</td>\n",
              "      <td>0</td>\n",
              "      <td>0</td>\n",
              "      <td>0</td>\n",
              "      <td>0</td>\n",
              "      <td>0</td>\n",
              "      <td>1</td>\n",
              "      <td>Counter</td>\n",
              "      <td>0</td>\n",
              "      <td>0</td>\n",
              "      <td>7034</td>\n",
              "    </tr>\n",
              "    <tr>\n",
              "      <th>301086</th>\n",
              "      <td>2019-04-16</td>\n",
              "      <td>1999-01-01</td>\n",
              "      <td>JED</td>\n",
              "      <td>095513</td>\n",
              "      <td>9A</td>\n",
              "      <td>TY</td>\n",
              "      <td>MISTER</td>\n",
              "      <td>M</td>\n",
              "      <td>JED</td>\n",
              "      <td>Unknown</td>\n",
              "      <td>0</td>\n",
              "      <td>Y</td>\n",
              "      <td>1</td>\n",
              "      <td>0</td>\n",
              "      <td>0</td>\n",
              "      <td>0</td>\n",
              "      <td>0</td>\n",
              "      <td>0</td>\n",
              "      <td>0</td>\n",
              "      <td>1</td>\n",
              "      <td>Counter</td>\n",
              "      <td>0</td>\n",
              "      <td>1</td>\n",
              "      <td>7410</td>\n",
              "    </tr>\n",
              "    <tr>\n",
              "      <th>298210</th>\n",
              "      <td>2018-06-15</td>\n",
              "      <td>1999-01-01</td>\n",
              "      <td>KWI</td>\n",
              "      <td>032A23</td>\n",
              "      <td>JN</td>\n",
              "      <td>QC</td>\n",
              "      <td>MISS</td>\n",
              "      <td>F</td>\n",
              "      <td>KWI</td>\n",
              "      <td>Unknown</td>\n",
              "      <td>1</td>\n",
              "      <td>Y</td>\n",
              "      <td>0</td>\n",
              "      <td>2</td>\n",
              "      <td>26</td>\n",
              "      <td>0</td>\n",
              "      <td>0</td>\n",
              "      <td>0</td>\n",
              "      <td>0</td>\n",
              "      <td>1</td>\n",
              "      <td>Counter</td>\n",
              "      <td>0</td>\n",
              "      <td>0</td>\n",
              "      <td>7105</td>\n",
              "    </tr>\n",
              "    <tr>\n",
              "      <th>295500</th>\n",
              "      <td>2019-05-19</td>\n",
              "      <td>1999-01-01</td>\n",
              "      <td>GYD</td>\n",
              "      <td>0B129B</td>\n",
              "      <td>OS</td>\n",
              "      <td>TY</td>\n",
              "      <td>MISTER</td>\n",
              "      <td>M</td>\n",
              "      <td>Unknown</td>\n",
              "      <td>GYD</td>\n",
              "      <td>1</td>\n",
              "      <td>Y</td>\n",
              "      <td>0</td>\n",
              "      <td>1</td>\n",
              "      <td>13</td>\n",
              "      <td>0</td>\n",
              "      <td>0</td>\n",
              "      <td>0</td>\n",
              "      <td>0</td>\n",
              "      <td>1</td>\n",
              "      <td>Counter</td>\n",
              "      <td>0</td>\n",
              "      <td>0</td>\n",
              "      <td>7443</td>\n",
              "    </tr>\n",
              "    <tr>\n",
              "      <th>292299</th>\n",
              "      <td>2019-03-22</td>\n",
              "      <td>1999-01-01</td>\n",
              "      <td>OGU</td>\n",
              "      <td>03FD49</td>\n",
              "      <td>HV</td>\n",
              "      <td>QC</td>\n",
              "      <td>MISTER</td>\n",
              "      <td>M</td>\n",
              "      <td>SKW</td>\n",
              "      <td>OGU</td>\n",
              "      <td>1</td>\n",
              "      <td>Y</td>\n",
              "      <td>0</td>\n",
              "      <td>1</td>\n",
              "      <td>2</td>\n",
              "      <td>0</td>\n",
              "      <td>0</td>\n",
              "      <td>0</td>\n",
              "      <td>0</td>\n",
              "      <td>1</td>\n",
              "      <td>Counter</td>\n",
              "      <td>1</td>\n",
              "      <td>0</td>\n",
              "      <td>7385</td>\n",
              "    </tr>\n",
              "    <tr>\n",
              "      <th>284685</th>\n",
              "      <td>2019-05-31</td>\n",
              "      <td>1999-01-01</td>\n",
              "      <td>KWI</td>\n",
              "      <td>032A06</td>\n",
              "      <td>ND</td>\n",
              "      <td>QC</td>\n",
              "      <td>MISTER</td>\n",
              "      <td>M</td>\n",
              "      <td>KWI</td>\n",
              "      <td>TZX</td>\n",
              "      <td>1</td>\n",
              "      <td>Y</td>\n",
              "      <td>0</td>\n",
              "      <td>0</td>\n",
              "      <td>0</td>\n",
              "      <td>0</td>\n",
              "      <td>0</td>\n",
              "      <td>0</td>\n",
              "      <td>0</td>\n",
              "      <td>3</td>\n",
              "      <td>Counter</td>\n",
              "      <td>0</td>\n",
              "      <td>0</td>\n",
              "      <td>7455</td>\n",
              "    </tr>\n",
              "    <tr>\n",
              "      <th>283996</th>\n",
              "      <td>2018-04-11</td>\n",
              "      <td>1999-01-01</td>\n",
              "      <td>VIE</td>\n",
              "      <td>032A64</td>\n",
              "      <td>AM</td>\n",
              "      <td>QC</td>\n",
              "      <td>MISTER</td>\n",
              "      <td>M</td>\n",
              "      <td>IST</td>\n",
              "      <td>VIE</td>\n",
              "      <td>0</td>\n",
              "      <td>Y</td>\n",
              "      <td>1</td>\n",
              "      <td>0</td>\n",
              "      <td>0</td>\n",
              "      <td>0</td>\n",
              "      <td>0</td>\n",
              "      <td>0</td>\n",
              "      <td>0</td>\n",
              "      <td>1</td>\n",
              "      <td>Counter</td>\n",
              "      <td>0</td>\n",
              "      <td>1</td>\n",
              "      <td>7040</td>\n",
              "    </tr>\n",
              "    <tr>\n",
              "      <th>281868</th>\n",
              "      <td>2018-03-01</td>\n",
              "      <td>1999-01-01</td>\n",
              "      <td>OGU</td>\n",
              "      <td>035447</td>\n",
              "      <td>MK</td>\n",
              "      <td>TS</td>\n",
              "      <td>MISTER</td>\n",
              "      <td>M</td>\n",
              "      <td>EST</td>\n",
              "      <td>OGU</td>\n",
              "      <td>1</td>\n",
              "      <td>Y</td>\n",
              "      <td>0</td>\n",
              "      <td>0</td>\n",
              "      <td>0</td>\n",
              "      <td>0</td>\n",
              "      <td>0</td>\n",
              "      <td>0</td>\n",
              "      <td>0</td>\n",
              "      <td>1</td>\n",
              "      <td>Mobile</td>\n",
              "      <td>0</td>\n",
              "      <td>0</td>\n",
              "      <td>6999</td>\n",
              "    </tr>\n",
              "    <tr>\n",
              "      <th>281847</th>\n",
              "      <td>2018-04-16</td>\n",
              "      <td>1999-01-01</td>\n",
              "      <td>KUH</td>\n",
              "      <td>03023P</td>\n",
              "      <td>MK</td>\n",
              "      <td>TW</td>\n",
              "      <td>MISTER</td>\n",
              "      <td>M</td>\n",
              "      <td>IST</td>\n",
              "      <td>Unknown</td>\n",
              "      <td>0</td>\n",
              "      <td>Y</td>\n",
              "      <td>1</td>\n",
              "      <td>0</td>\n",
              "      <td>0</td>\n",
              "      <td>0</td>\n",
              "      <td>0</td>\n",
              "      <td>0</td>\n",
              "      <td>0</td>\n",
              "      <td>1</td>\n",
              "      <td>Online</td>\n",
              "      <td>0</td>\n",
              "      <td>1</td>\n",
              "      <td>7045</td>\n",
              "    </tr>\n",
              "    <tr>\n",
              "      <th>280297</th>\n",
              "      <td>2019-04-10</td>\n",
              "      <td>1999-01-01</td>\n",
              "      <td>ISL</td>\n",
              "      <td>0D0411</td>\n",
              "      <td>FC</td>\n",
              "      <td>NaN</td>\n",
              "      <td>MISSES</td>\n",
              "      <td>F</td>\n",
              "      <td>Unknown</td>\n",
              "      <td>Unknown</td>\n",
              "      <td>1</td>\n",
              "      <td>Y</td>\n",
              "      <td>1</td>\n",
              "      <td>0</td>\n",
              "      <td>0</td>\n",
              "      <td>0</td>\n",
              "      <td>0</td>\n",
              "      <td>0</td>\n",
              "      <td>0</td>\n",
              "      <td>1</td>\n",
              "      <td>Other</td>\n",
              "      <td>1</td>\n",
              "      <td>0</td>\n",
              "      <td>7404</td>\n",
              "    </tr>\n",
              "    <tr>\n",
              "      <th>279551</th>\n",
              "      <td>2018-03-08</td>\n",
              "      <td>1999-01-01</td>\n",
              "      <td>DUS</td>\n",
              "      <td>035443</td>\n",
              "      <td>MK</td>\n",
              "      <td>TS</td>\n",
              "      <td>MISTER</td>\n",
              "      <td>M</td>\n",
              "      <td>IST</td>\n",
              "      <td>SZF</td>\n",
              "      <td>1</td>\n",
              "      <td>Y</td>\n",
              "      <td>1</td>\n",
              "      <td>1</td>\n",
              "      <td>7</td>\n",
              "      <td>0</td>\n",
              "      <td>0</td>\n",
              "      <td>0</td>\n",
              "      <td>0</td>\n",
              "      <td>1</td>\n",
              "      <td>Mobile</td>\n",
              "      <td>0</td>\n",
              "      <td>0</td>\n",
              "      <td>7006</td>\n",
              "    </tr>\n",
              "    <tr>\n",
              "      <th>279139</th>\n",
              "      <td>2018-05-13</td>\n",
              "      <td>1999-01-01</td>\n",
              "      <td>DTV</td>\n",
              "      <td>000000</td>\n",
              "      <td>||</td>\n",
              "      <td>IA</td>\n",
              "      <td>MISTER</td>\n",
              "      <td>M</td>\n",
              "      <td>IST</td>\n",
              "      <td>DTV</td>\n",
              "      <td>1</td>\n",
              "      <td>Y</td>\n",
              "      <td>0</td>\n",
              "      <td>1</td>\n",
              "      <td>17</td>\n",
              "      <td>0</td>\n",
              "      <td>0</td>\n",
              "      <td>0</td>\n",
              "      <td>0</td>\n",
              "      <td>1</td>\n",
              "      <td>Other</td>\n",
              "      <td>0</td>\n",
              "      <td>0</td>\n",
              "      <td>7072</td>\n",
              "    </tr>\n",
              "    <tr>\n",
              "      <th>245970</th>\n",
              "      <td>2019-03-21</td>\n",
              "      <td>1999-01-01</td>\n",
              "      <td>NDG</td>\n",
              "      <td>03539P</td>\n",
              "      <td>MK</td>\n",
              "      <td>TS</td>\n",
              "      <td>MISTER</td>\n",
              "      <td>M</td>\n",
              "      <td>SKW</td>\n",
              "      <td>NDG</td>\n",
              "      <td>1</td>\n",
              "      <td>Y</td>\n",
              "      <td>0</td>\n",
              "      <td>0</td>\n",
              "      <td>0</td>\n",
              "      <td>0</td>\n",
              "      <td>0</td>\n",
              "      <td>0</td>\n",
              "      <td>0</td>\n",
              "      <td>1</td>\n",
              "      <td>Mobile</td>\n",
              "      <td>0</td>\n",
              "      <td>0</td>\n",
              "      <td>7384</td>\n",
              "    </tr>\n",
              "    <tr>\n",
              "      <th>271244</th>\n",
              "      <td>2019-03-07</td>\n",
              "      <td>1999-01-01</td>\n",
              "      <td>TJV</td>\n",
              "      <td>0B6C1P</td>\n",
              "      <td>KS</td>\n",
              "      <td>TY</td>\n",
              "      <td>MISTER</td>\n",
              "      <td>M</td>\n",
              "      <td>Unknown</td>\n",
              "      <td>Unknown</td>\n",
              "      <td>1</td>\n",
              "      <td>Y</td>\n",
              "      <td>1</td>\n",
              "      <td>1</td>\n",
              "      <td>2</td>\n",
              "      <td>0</td>\n",
              "      <td>0</td>\n",
              "      <td>0</td>\n",
              "      <td>0</td>\n",
              "      <td>1</td>\n",
              "      <td>Counter</td>\n",
              "      <td>1</td>\n",
              "      <td>0</td>\n",
              "      <td>7370</td>\n",
              "    </tr>\n",
              "    <tr>\n",
              "      <th>267573</th>\n",
              "      <td>2019-03-07</td>\n",
              "      <td>1999-01-01</td>\n",
              "      <td>VKO</td>\n",
              "      <td>03F39P</td>\n",
              "      <td>RQ</td>\n",
              "      <td>QC</td>\n",
              "      <td>MISTER</td>\n",
              "      <td>M</td>\n",
              "      <td>ISL</td>\n",
              "      <td>Unknown</td>\n",
              "      <td>1</td>\n",
              "      <td>Y</td>\n",
              "      <td>0</td>\n",
              "      <td>0</td>\n",
              "      <td>0</td>\n",
              "      <td>0</td>\n",
              "      <td>0</td>\n",
              "      <td>0</td>\n",
              "      <td>0</td>\n",
              "      <td>1</td>\n",
              "      <td>Counter</td>\n",
              "      <td>0</td>\n",
              "      <td>0</td>\n",
              "      <td>7370</td>\n",
              "    </tr>\n",
              "    <tr>\n",
              "      <th>266021</th>\n",
              "      <td>2019-03-06</td>\n",
              "      <td>1999-01-01</td>\n",
              "      <td>ISL</td>\n",
              "      <td>035443</td>\n",
              "      <td>MK</td>\n",
              "      <td>TS</td>\n",
              "      <td>MISTER</td>\n",
              "      <td>M</td>\n",
              "      <td>ISL</td>\n",
              "      <td>Unknown</td>\n",
              "      <td>1</td>\n",
              "      <td>Y</td>\n",
              "      <td>1</td>\n",
              "      <td>0</td>\n",
              "      <td>0</td>\n",
              "      <td>0</td>\n",
              "      <td>0</td>\n",
              "      <td>0</td>\n",
              "      <td>0</td>\n",
              "      <td>1</td>\n",
              "      <td>Mobile</td>\n",
              "      <td>0</td>\n",
              "      <td>0</td>\n",
              "      <td>7369</td>\n",
              "    </tr>\n",
              "    <tr>\n",
              "      <th>261604</th>\n",
              "      <td>2018-05-30</td>\n",
              "      <td>1999-01-01</td>\n",
              "      <td>TLQ</td>\n",
              "      <td>03F932</td>\n",
              "      <td>FV</td>\n",
              "      <td>QC</td>\n",
              "      <td>MISTER</td>\n",
              "      <td>M</td>\n",
              "      <td>IST</td>\n",
              "      <td>Unknown</td>\n",
              "      <td>1</td>\n",
              "      <td>Y</td>\n",
              "      <td>1</td>\n",
              "      <td>1</td>\n",
              "      <td>16</td>\n",
              "      <td>0</td>\n",
              "      <td>0</td>\n",
              "      <td>0</td>\n",
              "      <td>0</td>\n",
              "      <td>1</td>\n",
              "      <td>Counter</td>\n",
              "      <td>0</td>\n",
              "      <td>0</td>\n",
              "      <td>7089</td>\n",
              "    </tr>\n",
              "    <tr>\n",
              "      <th>261581</th>\n",
              "      <td>2019-04-12</td>\n",
              "      <td>1999-01-01</td>\n",
              "      <td>GYD</td>\n",
              "      <td>03FDP1</td>\n",
              "      <td>VY</td>\n",
              "      <td>QC</td>\n",
              "      <td>MISSES</td>\n",
              "      <td>F</td>\n",
              "      <td>IST</td>\n",
              "      <td>GYD</td>\n",
              "      <td>1</td>\n",
              "      <td>Y</td>\n",
              "      <td>0</td>\n",
              "      <td>0</td>\n",
              "      <td>0</td>\n",
              "      <td>0</td>\n",
              "      <td>0</td>\n",
              "      <td>0</td>\n",
              "      <td>0</td>\n",
              "      <td>1</td>\n",
              "      <td>Counter</td>\n",
              "      <td>0</td>\n",
              "      <td>0</td>\n",
              "      <td>7406</td>\n",
              "    </tr>\n",
              "    <tr>\n",
              "      <th>259651</th>\n",
              "      <td>2018-05-30</td>\n",
              "      <td>1999-01-01</td>\n",
              "      <td>OGU</td>\n",
              "      <td>03F39C</td>\n",
              "      <td>HV</td>\n",
              "      <td>QC</td>\n",
              "      <td>MISTER</td>\n",
              "      <td>M</td>\n",
              "      <td>SKW</td>\n",
              "      <td>OGU</td>\n",
              "      <td>1</td>\n",
              "      <td>Y</td>\n",
              "      <td>0</td>\n",
              "      <td>0</td>\n",
              "      <td>0</td>\n",
              "      <td>0</td>\n",
              "      <td>0</td>\n",
              "      <td>0</td>\n",
              "      <td>0</td>\n",
              "      <td>1</td>\n",
              "      <td>Counter</td>\n",
              "      <td>0</td>\n",
              "      <td>0</td>\n",
              "      <td>7089</td>\n",
              "    </tr>\n",
              "    <tr>\n",
              "      <th>258235</th>\n",
              "      <td>2019-03-27</td>\n",
              "      <td>1999-01-01</td>\n",
              "      <td>NDG</td>\n",
              "      <td>03523F</td>\n",
              "      <td>SC</td>\n",
              "      <td>SC</td>\n",
              "      <td>MISTER</td>\n",
              "      <td>M</td>\n",
              "      <td>IST</td>\n",
              "      <td>Unknown</td>\n",
              "      <td>1</td>\n",
              "      <td>Y</td>\n",
              "      <td>0</td>\n",
              "      <td>0</td>\n",
              "      <td>0</td>\n",
              "      <td>0</td>\n",
              "      <td>0</td>\n",
              "      <td>0</td>\n",
              "      <td>0</td>\n",
              "      <td>1</td>\n",
              "      <td>Kiosks</td>\n",
              "      <td>0</td>\n",
              "      <td>0</td>\n",
              "      <td>7390</td>\n",
              "    </tr>\n",
              "    <tr>\n",
              "      <th>257975</th>\n",
              "      <td>2018-06-19</td>\n",
              "      <td>1999-01-01</td>\n",
              "      <td>VIE</td>\n",
              "      <td>035414</td>\n",
              "      <td>MK</td>\n",
              "      <td>TS</td>\n",
              "      <td>MISTER</td>\n",
              "      <td>M</td>\n",
              "      <td>IST</td>\n",
              "      <td>IST</td>\n",
              "      <td>0</td>\n",
              "      <td>Y</td>\n",
              "      <td>1</td>\n",
              "      <td>2</td>\n",
              "      <td>13</td>\n",
              "      <td>0</td>\n",
              "      <td>0</td>\n",
              "      <td>0</td>\n",
              "      <td>0</td>\n",
              "      <td>1</td>\n",
              "      <td>Mobile</td>\n",
              "      <td>0</td>\n",
              "      <td>1</td>\n",
              "      <td>7109</td>\n",
              "    </tr>\n",
              "    <tr>\n",
              "      <th>257870</th>\n",
              "      <td>2019-03-16</td>\n",
              "      <td>1999-01-01</td>\n",
              "      <td>ISL</td>\n",
              "      <td>03523F</td>\n",
              "      <td>SC</td>\n",
              "      <td>SC</td>\n",
              "      <td>MISTER</td>\n",
              "      <td>M</td>\n",
              "      <td>ISL</td>\n",
              "      <td>Unknown</td>\n",
              "      <td>1</td>\n",
              "      <td>Y</td>\n",
              "      <td>1</td>\n",
              "      <td>0</td>\n",
              "      <td>0</td>\n",
              "      <td>0</td>\n",
              "      <td>0</td>\n",
              "      <td>0</td>\n",
              "      <td>0</td>\n",
              "      <td>1</td>\n",
              "      <td>Kiosks</td>\n",
              "      <td>0</td>\n",
              "      <td>0</td>\n",
              "      <td>7379</td>\n",
              "    </tr>\n",
              "    <tr>\n",
              "      <th>254816</th>\n",
              "      <td>2018-06-20</td>\n",
              "      <td>1999-01-01</td>\n",
              "      <td>MED</td>\n",
              "      <td>03FD3F</td>\n",
              "      <td>KA</td>\n",
              "      <td>QC</td>\n",
              "      <td>MISSES</td>\n",
              "      <td>F</td>\n",
              "      <td>MED</td>\n",
              "      <td>KDK</td>\n",
              "      <td>1</td>\n",
              "      <td>Y</td>\n",
              "      <td>0</td>\n",
              "      <td>4</td>\n",
              "      <td>55</td>\n",
              "      <td>0</td>\n",
              "      <td>0</td>\n",
              "      <td>0</td>\n",
              "      <td>0</td>\n",
              "      <td>1</td>\n",
              "      <td>Counter</td>\n",
              "      <td>0</td>\n",
              "      <td>0</td>\n",
              "      <td>7110</td>\n",
              "    </tr>\n",
              "    <tr>\n",
              "      <th>253816</th>\n",
              "      <td>2018-06-15</td>\n",
              "      <td>1999-01-01</td>\n",
              "      <td>KWI</td>\n",
              "      <td>03F3AF</td>\n",
              "      <td>AN</td>\n",
              "      <td>QC</td>\n",
              "      <td>MISS</td>\n",
              "      <td>F</td>\n",
              "      <td>KWI</td>\n",
              "      <td>TZX</td>\n",
              "      <td>1</td>\n",
              "      <td>Y</td>\n",
              "      <td>0</td>\n",
              "      <td>0</td>\n",
              "      <td>0</td>\n",
              "      <td>0</td>\n",
              "      <td>0</td>\n",
              "      <td>0</td>\n",
              "      <td>0</td>\n",
              "      <td>1</td>\n",
              "      <td>Counter</td>\n",
              "      <td>0</td>\n",
              "      <td>0</td>\n",
              "      <td>7105</td>\n",
              "    </tr>\n",
              "    <tr>\n",
              "      <th>252809</th>\n",
              "      <td>2019-03-21</td>\n",
              "      <td>1999-01-01</td>\n",
              "      <td>TJV</td>\n",
              "      <td>032931</td>\n",
              "      <td>KS</td>\n",
              "      <td>QC</td>\n",
              "      <td>MISTER</td>\n",
              "      <td>M</td>\n",
              "      <td>Unknown</td>\n",
              "      <td>TJV</td>\n",
              "      <td>1</td>\n",
              "      <td>Y</td>\n",
              "      <td>1</td>\n",
              "      <td>0</td>\n",
              "      <td>0</td>\n",
              "      <td>0</td>\n",
              "      <td>1</td>\n",
              "      <td>0</td>\n",
              "      <td>0</td>\n",
              "      <td>1</td>\n",
              "      <td>Counter</td>\n",
              "      <td>1</td>\n",
              "      <td>0</td>\n",
              "      <td>7384</td>\n",
              "    </tr>\n",
              "    <tr>\n",
              "      <th>251237</th>\n",
              "      <td>2019-04-15</td>\n",
              "      <td>1999-01-01</td>\n",
              "      <td>PRG</td>\n",
              "      <td>03FDDF</td>\n",
              "      <td>NK</td>\n",
              "      <td>QC</td>\n",
              "      <td>MISTER</td>\n",
              "      <td>M</td>\n",
              "      <td>IST</td>\n",
              "      <td>Unknown</td>\n",
              "      <td>1</td>\n",
              "      <td>Y</td>\n",
              "      <td>1</td>\n",
              "      <td>1</td>\n",
              "      <td>15</td>\n",
              "      <td>0</td>\n",
              "      <td>0</td>\n",
              "      <td>0</td>\n",
              "      <td>0</td>\n",
              "      <td>1</td>\n",
              "      <td>Counter</td>\n",
              "      <td>0</td>\n",
              "      <td>1</td>\n",
              "      <td>7409</td>\n",
              "    </tr>\n",
              "    <tr>\n",
              "      <th>269293</th>\n",
              "      <td>2018-03-26</td>\n",
              "      <td>1999-01-01</td>\n",
              "      <td>MUN</td>\n",
              "      <td>000000</td>\n",
              "      <td>||</td>\n",
              "      <td>IA</td>\n",
              "      <td>MISTER</td>\n",
              "      <td>M</td>\n",
              "      <td>MUN</td>\n",
              "      <td>IKD</td>\n",
              "      <td>1</td>\n",
              "      <td>C</td>\n",
              "      <td>0</td>\n",
              "      <td>0</td>\n",
              "      <td>0</td>\n",
              "      <td>0</td>\n",
              "      <td>0</td>\n",
              "      <td>1</td>\n",
              "      <td>0</td>\n",
              "      <td>1</td>\n",
              "      <td>Other</td>\n",
              "      <td>0</td>\n",
              "      <td>0</td>\n",
              "      <td>7024</td>\n",
              "    </tr>\n",
              "    <tr>\n",
              "      <th>808162</th>\n",
              "      <td>2018-03-10</td>\n",
              "      <td>1999-01-01</td>\n",
              "      <td>VIE</td>\n",
              "      <td>09553C</td>\n",
              "      <td>EM</td>\n",
              "      <td>TY</td>\n",
              "      <td>MISTER</td>\n",
              "      <td>M</td>\n",
              "      <td>IST</td>\n",
              "      <td>Unknown</td>\n",
              "      <td>0</td>\n",
              "      <td>Y</td>\n",
              "      <td>0</td>\n",
              "      <td>0</td>\n",
              "      <td>0</td>\n",
              "      <td>0</td>\n",
              "      <td>0</td>\n",
              "      <td>0</td>\n",
              "      <td>0</td>\n",
              "      <td>1</td>\n",
              "      <td>Counter</td>\n",
              "      <td>0</td>\n",
              "      <td>1</td>\n",
              "      <td>7008</td>\n",
              "    </tr>\n",
              "  </tbody>\n",
              "</table>\n",
              "<p>477 rows × 24 columns</p>\n",
              "</div>"
            ],
            "text/plain": [
              "       Departure_YMD_LMT  ... Early_Check_In\n",
              "469           2018-04-04  ...           7033\n",
              "555391        2019-04-21  ...           7415\n",
              "553128        2019-04-16  ...           7410\n",
              "551608        2019-03-17  ...           7380\n",
              "551287        2019-03-14  ...           7377\n",
              "550406        2018-03-29  ...           7027\n",
              "549936        2019-05-31  ...           7455\n",
              "547407        2018-06-04  ...           7094\n",
              "543253        2019-04-10  ...           7404\n",
              "541138        2018-03-12  ...           7010\n",
              "536708        2018-03-18  ...           7016\n",
              "535795        2018-03-15  ...           7013\n",
              "533869        2019-03-29  ...           7392\n",
              "531810        2018-03-21  ...           7019\n",
              "530144        2019-04-15  ...           7409\n",
              "528408        2019-03-24  ...           7387\n",
              "527719        2019-03-23  ...           7386\n",
              "527384        2018-06-06  ...           7096\n",
              "524905        2018-05-16  ...           7075\n",
              "522922        2018-06-16  ...           7106\n",
              "522899        2019-04-19  ...           7413\n",
              "519394        2018-04-04  ...           7033\n",
              "515578        2018-05-31  ...           7090\n",
              "514514        2018-03-18  ...           7016\n",
              "513878        2018-03-18  ...           7016\n",
              "513569        2018-06-05  ...           7095\n",
              "557084        2018-03-15  ...           7013\n",
              "557351        2018-06-05  ...           7095\n",
              "563037        2019-03-17  ...           7380\n",
              "564697        2019-04-02  ...           7396\n",
              "...                  ...  ...            ...\n",
              "243798        2019-05-31  ...           7455\n",
              "248149        2018-03-22  ...           7020\n",
              "302115        2018-04-05  ...           7034\n",
              "301086        2019-04-16  ...           7410\n",
              "298210        2018-06-15  ...           7105\n",
              "295500        2019-05-19  ...           7443\n",
              "292299        2019-03-22  ...           7385\n",
              "284685        2019-05-31  ...           7455\n",
              "283996        2018-04-11  ...           7040\n",
              "281868        2018-03-01  ...           6999\n",
              "281847        2018-04-16  ...           7045\n",
              "280297        2019-04-10  ...           7404\n",
              "279551        2018-03-08  ...           7006\n",
              "279139        2018-05-13  ...           7072\n",
              "245970        2019-03-21  ...           7384\n",
              "271244        2019-03-07  ...           7370\n",
              "267573        2019-03-07  ...           7370\n",
              "266021        2019-03-06  ...           7369\n",
              "261604        2018-05-30  ...           7089\n",
              "261581        2019-04-12  ...           7406\n",
              "259651        2018-05-30  ...           7089\n",
              "258235        2019-03-27  ...           7390\n",
              "257975        2018-06-19  ...           7109\n",
              "257870        2019-03-16  ...           7379\n",
              "254816        2018-06-20  ...           7110\n",
              "253816        2018-06-15  ...           7105\n",
              "252809        2019-03-21  ...           7384\n",
              "251237        2019-04-15  ...           7409\n",
              "269293        2018-03-26  ...           7024\n",
              "808162        2018-03-10  ...           7008\n",
              "\n",
              "[477 rows x 24 columns]"
            ]
          },
          "metadata": {
            "tags": []
          },
          "execution_count": 208
        }
      ]
    },
    {
      "cell_type": "markdown",
      "metadata": {
        "id": "WorjhS29RZlo",
        "colab_type": "text"
      },
      "source": [
        "We replaced the check-in day as early, on-time and peculiar."
      ]
    },
    {
      "cell_type": "code",
      "metadata": {
        "id": "v_zaLveCRqjl",
        "colab_type": "code",
        "colab": {}
      },
      "source": [
        "train_df.loc[train_df.Early_Check_In > 100, 'Early_Check_In_Status'] = 'Peculiar'\n",
        "train_df.loc[(train_df.Early_Check_In == 0) | (train_df.Early_Check_In == -1), 'Early_Check_In_Status'] = 'On-time'\n",
        "train_df.loc[(train_df.Early_Check_In == 1) | (train_df.Early_Check_In == 2) | (train_df.Early_Check_In == 3), 'Early_Check_In_Status'] = 'Early'"
      ],
      "execution_count": 0,
      "outputs": []
    },
    {
      "cell_type": "markdown",
      "metadata": {
        "id": "1HYwYqwVSWbM",
        "colab_type": "text"
      },
      "source": [
        "Do the same for the result set."
      ]
    },
    {
      "cell_type": "code",
      "metadata": {
        "id": "HtHSktQbScqJ",
        "colab_type": "code",
        "colab": {}
      },
      "source": [
        "result_df['Early_Check_In'] = (result_df.Departure_YMD_LMT - result_df.Operation_YMD_LMT)\n",
        "result_df['Early_Check_In'] = (result_df['Early_Check_In']/86400000000000).astype(int)\n",
        "result_df.loc[result_df.Early_Check_In > 100, 'Early_Check_In_Status'] = 'Peculiar'\n",
        "result_df.loc[(result_df.Early_Check_In == 0) | (result_df.Early_Check_In == -1), 'Early_Check_In_Status'] = 'On-time'\n",
        "result_df.loc[(result_df.Early_Check_In == 1) | (result_df.Early_Check_In == 2) | (result_df.Early_Check_In == 3), 'Early_Check_In_Status'] = 'Early'"
      ],
      "execution_count": 0,
      "outputs": []
    },
    {
      "cell_type": "markdown",
      "metadata": {
        "id": "wtCU50W6Wf-F",
        "colab_type": "text"
      },
      "source": [
        "The flights with no inbound and no outbound terminal are direct flights so we generated a new colum to label those flights"
      ]
    },
    {
      "cell_type": "code",
      "metadata": {
        "id": "TAxU-lnlVd3d",
        "colab_type": "code",
        "colab": {}
      },
      "source": [
        "train_df['Direct_Flight'] = np.where((train_df.Inbound_Departure_Airport == 'Unknown') & (train_df.Outbound_Arrival_Airport == 'Unknown'), 1, 0)\n",
        "result_df['Direct_Flight'] = np.where((result_df.Inbound_Departure_Airport == 'Unknown') & (result_df.Outbound_Arrival_Airport == 'Unknown'), 1, 0)"
      ],
      "execution_count": 0,
      "outputs": []
    },
    {
      "cell_type": "markdown",
      "metadata": {
        "id": "CywhuSD1Zxg-",
        "colab_type": "text"
      },
      "source": [
        "We thought that may be week of day, weekend/weekday information might be usefull. Weekend days are encoded as 1 in the *Weekend* column."
      ]
    },
    {
      "cell_type": "code",
      "metadata": {
        "id": "akDymq3AeIfj",
        "colab_type": "code",
        "colab": {}
      },
      "source": [
        "import datetime\n",
        "train_df['Weekend'] = [x in [5,6] for x in train_df.Departure_YMD_LMT.dt.weekday]\n",
        "train_df['Weekend'] = train_df['Weekend'].replace(True, int(1))\n",
        "train_df['Weekend'] = train_df['Weekend'].replace(False, int(0))\n",
        "result_df['Weekend'] = [x in [5,6] for x in result_df.Departure_YMD_LMT.dt.weekday]\n",
        "result_df['Weekend'] = result_df['Weekend'].replace(True, int(1))\n",
        "result_df['Weekend'] = result_df['Weekend'].replace(False, int(0))"
      ],
      "execution_count": 0,
      "outputs": []
    },
    {
      "cell_type": "code",
      "metadata": {
        "id": "HKKUix3-EWJi",
        "colab_type": "code",
        "colab": {
          "base_uri": "https://localhost:8080/",
          "height": 119
        },
        "outputId": "a850311f-7516-412d-e246-84da998e843a"
      },
      "source": [
        "train_df.Weekend.head()"
      ],
      "execution_count": 233,
      "outputs": [
        {
          "output_type": "execute_result",
          "data": {
            "text/plain": [
              "0    0.0\n",
              "1    0.0\n",
              "2    0.0\n",
              "3    0.0\n",
              "4    1.0\n",
              "Name: Weekend, dtype: float64"
            ]
          },
          "metadata": {
            "tags": []
          },
          "execution_count": 233
        }
      ]
    },
    {
      "cell_type": "markdown",
      "metadata": {
        "id": "LWXVCZVQB00s",
        "colab_type": "text"
      },
      "source": [
        "Generate *Departure Day* column:"
      ]
    },
    {
      "cell_type": "code",
      "metadata": {
        "id": "L4JvhincBJ5c",
        "colab_type": "code",
        "colab": {
          "base_uri": "https://localhost:8080/",
          "height": 119
        },
        "outputId": "8d21e303-bdbe-4ceb-8596-f8434473a9e4"
      },
      "source": [
        "train_df.insert(1,'Departure Day','foo')\n",
        "train_df['Departure Day'] = train_df['Departure_YMD_LMT'].dt.weekday_name\n",
        "\n",
        "result_df.insert(1,'Departure Day','foo')\n",
        "result_df['Departure Day'] = train_df['Departure_YMD_LMT'].dt.weekday_name\n",
        "\n",
        "train_df['Departure Day'].head()"
      ],
      "execution_count": 214,
      "outputs": [
        {
          "output_type": "execute_result",
          "data": {
            "text/plain": [
              "0      Tuesday\n",
              "1    Wednesday\n",
              "2       Friday\n",
              "3      Tuesday\n",
              "4     Saturday\n",
              "Name: Departure Day, dtype: object"
            ]
          },
          "metadata": {
            "tags": []
          },
          "execution_count": 214
        }
      ]
    },
    {
      "cell_type": "markdown",
      "metadata": {
        "id": "ltshc6kDIQJy",
        "colab_type": "text"
      },
      "source": [
        "Transform categorical *Cabin Class* column to binary variable."
      ]
    },
    {
      "cell_type": "code",
      "metadata": {
        "id": "MO6IJgPmIaD5",
        "colab_type": "code",
        "colab": {
          "base_uri": "https://localhost:8080/",
          "height": 34
        },
        "outputId": "e22290ea-52bd-4b0d-8ed8-c1cc95af0518"
      },
      "source": [
        "#result_df['Economy_Class'] = result_df['Cabin_Class'].replace(\"Y\", 1)\n",
        "#result_df['Economy_Class'] = result_df['Cabin_Class'].replace(\"C\", 0)\n",
        "#result_df.drop(\"Cabin_Class\", axis = 1)\n",
        "##result_df[\"Economy_Class\"].unique()\n",
        "dict = {\"Y\": 1,\n",
        "        \"C\": 0\n",
        "        }\n",
        "train_df['Economy_Class'] = train_df['Cabin_Class'].map(dict)\n",
        "train_df = train_df.drop(\"Cabin_Class\", axis = 1)\n",
        "result_df['Economy_Class'] = result_df['Cabin_Class'].map(dict)\n",
        "result_df = result_df.drop(\"Cabin_Class\", axis = 1)\n",
        "train_df['Economy_Class'].unique()"
      ],
      "execution_count": 226,
      "outputs": [
        {
          "output_type": "execute_result",
          "data": {
            "text/plain": [
              "array([1, 0])"
            ]
          },
          "metadata": {
            "tags": []
          },
          "execution_count": 226
        }
      ]
    },
    {
      "cell_type": "markdown",
      "metadata": {
        "id": "PRVOF_Xhunel",
        "colab_type": "text"
      },
      "source": [
        "## Encoding Categorical Features"
      ]
    },
    {
      "cell_type": "code",
      "metadata": {
        "id": "lS4UMDYIumpJ",
        "colab_type": "code",
        "colab": {
          "base_uri": "https://localhost:8080/",
          "height": 510
        },
        "outputId": "5423216d-a1f0-422b-a733-0fbaf84b6827"
      },
      "source": [
        "train_df.dtypes"
      ],
      "execution_count": 234,
      "outputs": [
        {
          "output_type": "execute_result",
          "data": {
            "text/plain": [
              "Departure_YMD_LMT            datetime64[ns]\n",
              "Departure Day                      category\n",
              "Operation_YMD_LMT            datetime64[ns]\n",
              "Operation_Airport                  category\n",
              "Terminal_Name                      category\n",
              "Operation_Initials                 category\n",
              "Operation_Channel                  category\n",
              "Passenger_Title                    category\n",
              "Passenger_Gender                   category\n",
              "Inbound_Departure_Airport          category\n",
              "Outbound_Arrival_Airport           category\n",
              "SWC_FLY                               int64\n",
              "SWC_FQTV_Member                       int64\n",
              "Passenger_Baggage_Count               int64\n",
              "Passenger_Baggage_Weight              int64\n",
              "SWC_Staff                             int64\n",
              "SWC_CIP_Passenger                     int64\n",
              "SWC_VIP_Passenger                     int64\n",
              "SWC_Has_Infant                        int64\n",
              "Operation_Count                       int64\n",
              "Operation_Channel_Group            category\n",
              "Operation_Sonic_Code_Flag             int64\n",
              "Terminal_Number_Flag                  int64\n",
              "Early_Check_In                        int64\n",
              "Early_Check_In_Status              category\n",
              "Direct_Flight                         int64\n",
              "Weekend                             float64\n",
              "Economy_Class                         int64\n",
              "dtype: object"
            ]
          },
          "metadata": {
            "tags": []
          },
          "execution_count": 234
        }
      ]
    },
    {
      "cell_type": "markdown",
      "metadata": {
        "id": "jTCZbJCUxdWX",
        "colab_type": "text"
      },
      "source": [
        "Encode categorical columns"
      ]
    },
    {
      "cell_type": "code",
      "metadata": {
        "id": "Bn7AH7VXwQbm",
        "colab_type": "code",
        "colab": {
          "base_uri": "https://localhost:8080/",
          "height": 204
        },
        "outputId": "d86c274a-f879-4d70-cb42-00f03d55e3b2"
      },
      "source": [
        "train_onehot = train_df.copy()\n",
        "#train_onehot.drop(columns = [\"Operation_Initials\", \"Terminal_Name\"], axis =1)\n",
        "result_onehot = result_df.copy()\n",
        "for cols in train_df.columns: #leave as traidf!!!\n",
        "  if train_onehot[cols].dtype.name == 'category':\n",
        "    print(cols)\n",
        "    one_hot = pd.get_dummies(train_df[cols], prefix = cols)\n",
        "    train_onehot = train_onehot.drop(cols,axis = 1)\n",
        "    train_onehot = train_onehot.join(one_hot)\n",
        "  "
      ],
      "execution_count": 235,
      "outputs": [
        {
          "output_type": "stream",
          "text": [
            "Departure Day\n",
            "Operation_Airport\n",
            "Terminal_Name\n",
            "Operation_Initials\n",
            "Operation_Channel\n",
            "Passenger_Title\n",
            "Passenger_Gender\n",
            "Inbound_Departure_Airport\n",
            "Outbound_Arrival_Airport\n",
            "Operation_Channel_Group\n",
            "Early_Check_In_Status\n"
          ],
          "name": "stdout"
        }
      ]
    },
    {
      "cell_type": "markdown",
      "metadata": {
        "id": "i_yP2l6mMJ08",
        "colab_type": "text"
      },
      "source": [
        "## Correlation Matrix"
      ]
    },
    {
      "cell_type": "code",
      "metadata": {
        "id": "35cGI-2CNamg",
        "colab_type": "code",
        "colab": {}
      },
      "source": [
        "import seaborn as sns\n",
        "corr = train_df.corr()\n",
        "sns.heatmap(corr, \n",
        "            xticklabels=corr.columns.values,\n",
        "            yticklabels=corr.columns.values)"
      ],
      "execution_count": 0,
      "outputs": []
    },
    {
      "cell_type": "code",
      "metadata": {
        "id": "EbGkK5vMM6-m",
        "colab_type": "code",
        "colab": {}
      },
      "source": [
        "import seaborn as sns\n",
        "corr = train_onehot.corr()\n",
        "sns.heatmap(corr, \n",
        "            xticklabels=corr.columns.values,\n",
        "            yticklabels=corr.columns.values)"
      ],
      "execution_count": 0,
      "outputs": []
    },
    {
      "cell_type": "code",
      "metadata": {
        "id": "EZkxjtnb1vEm",
        "colab_type": "code",
        "colab": {
          "base_uri": "https://localhost:8080/",
          "height": 187
        },
        "outputId": "db879450-40fb-4180-b54e-01ed7b022bef"
      },
      "source": [
        "train_onehot.columns"
      ],
      "execution_count": 219,
      "outputs": [
        {
          "output_type": "execute_result",
          "data": {
            "text/plain": [
              "Index(['Departure_YMD_LMT', 'Operation_YMD_LMT', 'SWC_FLY', 'SWC_FQTV_Member',\n",
              "       'Passenger_Baggage_Count', 'Passenger_Baggage_Weight', 'SWC_Staff',\n",
              "       'SWC_CIP_Passenger', 'SWC_VIP_Passenger', 'SWC_Has_Infant',\n",
              "       ...\n",
              "       'Cabin_Class_C', 'Cabin_Class_Y', 'Operation_Channel_Group_Counter',\n",
              "       'Operation_Channel_Group_Kiosks', 'Operation_Channel_Group_Mobile',\n",
              "       'Operation_Channel_Group_Online', 'Operation_Channel_Group_Other',\n",
              "       'Early_Check_In_Status_Early', 'Early_Check_In_Status_On-time',\n",
              "       'Early_Check_In_Status_Peculiar'],\n",
              "      dtype='object', length=3550)"
            ]
          },
          "metadata": {
            "tags": []
          },
          "execution_count": 219
        }
      ]
    },
    {
      "cell_type": "markdown",
      "metadata": {
        "id": "ljbwi0pUiLYp",
        "colab_type": "text"
      },
      "source": [
        "## Feature Importance"
      ]
    },
    {
      "cell_type": "code",
      "metadata": {
        "id": "Pn7VPsszeXnJ",
        "colab_type": "code",
        "colab": {
          "base_uri": "https://localhost:8080/",
          "height": 204
        },
        "outputId": "1965c2d9-43a0-4758-9151-5850fe76193e"
      },
      "source": [
        "train_df.columns"
      ],
      "execution_count": 220,
      "outputs": [
        {
          "output_type": "execute_result",
          "data": {
            "text/plain": [
              "Index(['Departure_YMD_LMT', 'Departure Day', 'Operation_YMD_LMT',\n",
              "       'Operation_Airport', 'Terminal_Name', 'Operation_Initials',\n",
              "       'Operation_Channel', 'Passenger_Title', 'Passenger_Gender',\n",
              "       'Inbound_Departure_Airport', 'Outbound_Arrival_Airport', 'SWC_FLY',\n",
              "       'Cabin_Class', 'SWC_FQTV_Member', 'Passenger_Baggage_Count',\n",
              "       'Passenger_Baggage_Weight', 'SWC_Staff', 'SWC_CIP_Passenger',\n",
              "       'SWC_VIP_Passenger', 'SWC_Has_Infant', 'Operation_Count',\n",
              "       'Operation_Channel_Group', 'Operation_Sonic_Code_Flag',\n",
              "       'Terminal_Number_Flag', 'Early_Check_In', 'Early_Check_In_Status',\n",
              "       'Direct_Flight', 'Weekend'],\n",
              "      dtype='object')"
            ]
          },
          "metadata": {
            "tags": []
          },
          "execution_count": 220
        }
      ]
    },
    {
      "cell_type": "code",
      "metadata": {
        "id": "tcA_A05Fh_MR",
        "colab_type": "code",
        "outputId": "ce07b517-4c84-498b-b340-aeb45d23cf6b",
        "colab": {
          "base_uri": "https://localhost:8080/",
          "height": 503
        }
      },
      "source": [
        "import matplotlib.pyplot as plt\n",
        "fig, ax = plt.subplots(1, 1,figsize=(10, 8))\n",
        "train_df[\"Operation_Count\"].hist(bins=500, color=\"blue\", ax=ax)\n"
      ],
      "execution_count": 221,
      "outputs": [
        {
          "output_type": "execute_result",
          "data": {
            "text/plain": [
              "<matplotlib.axes._subplots.AxesSubplot at 0x7f242142ae10>"
            ]
          },
          "metadata": {
            "tags": []
          },
          "execution_count": 221
        },
        {
          "output_type": "display_data",
          "data": {
            "image/png": "[encoded data removed]",
            "text/plain": [
              "<Figure size 720x576 with 1 Axes>"
            ]
          },
          "metadata": {
            "tags": []
          }
        }
      ]
    },
    {
      "cell_type": "markdown",
      "metadata": {
        "id": "JO2xXD7aF3Rs",
        "colab_type": "text"
      },
      "source": [
        "## References\n",
        "\n",
        "\n",
        "1.   [Impute Missing Values](https://jamesrledoux.com/code/imputation)\n",
        "2.   [Is it better to drop or impute values from data sets when applying ML, or would it be better to label them as 'missing' for categorical variables?](https://www.quora.com/Is-it-better-to-drop-or-impute-values-from-data-sets-when-applying-ML-or-would-it-be-better-to-label-them-as-missing-for-categorical-variables)\n",
        "\n"
      ]
    }
  ]
}