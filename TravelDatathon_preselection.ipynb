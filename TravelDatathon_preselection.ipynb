{
  "nbformat": 4,
  "nbformat_minor": 0,
  "metadata": {
    "colab": {
      "name": "TravelDatathon_preselection.ipynb",
      "version": "0.3.2",
      "provenance": [],
      "collapsed_sections": [],
      "toc_visible": true,
      "include_colab_link": true
    },
    "kernelspec": {
      "name": "python3",
      "display_name": "Python 3"
    }
  },
  "cells": [
    {
      "cell_type": "markdown",
      "metadata": {
        "id": "view-in-github",
        "colab_type": "text"
      },
      "source": [
        "<a href=\"https://colab.research.google.com/github/duyqu-chan/THY-Travel-Datathon/blob/master/TravelDatathon_preselection.ipynb\" target=\"_parent\"><img src=\"https://colab.research.google.com/assets/colab-badge.svg\" alt=\"Open In Colab\"/></a>"
      ]
    },
    {
      "cell_type": "markdown",
      "metadata": {
        "id": "d6umBn88WlMy",
        "colab_type": "text"
      },
      "source": [
        "#THY Travel Datathon Preselection Case Study\n",
        "\n",
        "by Duygu Can, Meriç Pakkan, Şule Kütükde, Neslihan Oflaz\n",
        "\n",
        "\n",
        "Flying passengers can check-in through the web site, applications, kiosks and counters. In this case study content, the train data including the number of seven-month passenger check-in operations is provided. We want you to estimate the number of channels (column Operation_Count) in the csv file attached."
      ]
    },
    {
      "cell_type": "markdown",
      "metadata": {
        "id": "eG0UfrxPXz_H",
        "colab_type": "text"
      },
      "source": [
        "Mount drive to load the data:"
      ]
    },
    {
      "cell_type": "code",
      "metadata": {
        "id": "XsobMdDBWfjX",
        "colab_type": "code",
        "outputId": "25cc927e-9776-4a30-c771-f917ec1fa942",
        "colab": {
          "base_uri": "https://localhost:8080/",
          "height": 54
        }
      },
      "source": [
        "# Run this cell to mount your Google Drive.\n",
        "from google.colab import drive\n",
        "drive.mount('/content/drive')"
      ],
      "execution_count": 0,
      "outputs": [
        {
          "output_type": "stream",
          "text": [
            "Drive already mounted at /content/drive; to attempt to forcibly remount, call drive.mount(\"/content/drive\", force_remount=True).\n"
          ],
          "name": "stdout"
        }
      ]
    },
    {
      "cell_type": "markdown",
      "metadata": {
        "id": "SCQudbprX5pl",
        "colab_type": "text"
      },
      "source": [
        "Upload the data by reading provided .csv files from Google Drive (change path if needed). There are 808696 samples in the training and 121921 instances in the test sets. Each has 23 features."
      ]
    },
    {
      "cell_type": "code",
      "metadata": {
        "id": "WmZbEAnwYJj6",
        "colab_type": "code",
        "outputId": "d067a9b0-8331-448c-a643-4bba230a9936",
        "colab": {
          "base_uri": "https://localhost:8080/",
          "height": 258
        }
      },
      "source": [
        "import pandas as pd\n",
        "train_df = pd.read_csv(\"/content/drive/My Drive/Travel Datathon/Assessment Data/Assessment Train Data.csv\")\n",
        "result_df = pd.read_csv(\"/content/drive/My Drive/Travel Datathon/Assessment Data/Assessment Result File.csv\")\n",
        "print(train_df.shape)\n",
        "print(result_df.shape)\n",
        "train_df.head()"
      ],
      "execution_count": 0,
      "outputs": [
        {
          "output_type": "stream",
          "text": [
            "(808696, 23)\n",
            "(121921, 23)\n"
          ],
          "name": "stdout"
        },
        {
          "output_type": "execute_result",
          "data": {
            "text/html": [
              "<div>\n",
              "<style scoped>\n",
              "    .dataframe tbody tr th:only-of-type {\n",
              "        vertical-align: middle;\n",
              "    }\n",
              "\n",
              "    .dataframe tbody tr th {\n",
              "        vertical-align: top;\n",
              "    }\n",
              "\n",
              "    .dataframe thead th {\n",
              "        text-align: right;\n",
              "    }\n",
              "</style>\n",
              "<table border=\"1\" class=\"dataframe\">\n",
              "  <thead>\n",
              "    <tr style=\"text-align: right;\">\n",
              "      <th></th>\n",
              "      <th>Departure_YMD_LMT</th>\n",
              "      <th>Operation_YMD_LMT</th>\n",
              "      <th>Departure_Airport</th>\n",
              "      <th>Operation_Airport</th>\n",
              "      <th>Terminal_Number</th>\n",
              "      <th>Terminal_Name</th>\n",
              "      <th>Operation_Initials</th>\n",
              "      <th>Operation_Sonic_Code</th>\n",
              "      <th>Operation_Channel</th>\n",
              "      <th>Passenger_Title</th>\n",
              "      <th>Passenger_Gender</th>\n",
              "      <th>Inbound_Departure_Airport</th>\n",
              "      <th>Outbound_Arrival_Airport</th>\n",
              "      <th>SWC_FLY</th>\n",
              "      <th>Cabin_Class</th>\n",
              "      <th>SWC_FQTV_Member</th>\n",
              "      <th>Passenger_Baggage_Count</th>\n",
              "      <th>Passenger_Baggage_Weight</th>\n",
              "      <th>SWC_Staff</th>\n",
              "      <th>SWC_CIP_Passenger</th>\n",
              "      <th>SWC_VIP_Passenger</th>\n",
              "      <th>SWC_Has_Infant</th>\n",
              "      <th>Operation_Count</th>\n",
              "    </tr>\n",
              "  </thead>\n",
              "  <tbody>\n",
              "    <tr>\n",
              "      <th>0</th>\n",
              "      <td>20190326</td>\n",
              "      <td>20190326</td>\n",
              "      <td>KDT</td>\n",
              "      <td>KDT</td>\n",
              "      <td>?</td>\n",
              "      <td>032363</td>\n",
              "      <td>KS</td>\n",
              "      <td>?</td>\n",
              "      <td>QC</td>\n",
              "      <td>MISTER</td>\n",
              "      <td>M</td>\n",
              "      <td>IST</td>\n",
              "      <td>?</td>\n",
              "      <td>1</td>\n",
              "      <td>Y</td>\n",
              "      <td>1</td>\n",
              "      <td>0</td>\n",
              "      <td>0</td>\n",
              "      <td>0</td>\n",
              "      <td>1</td>\n",
              "      <td>0</td>\n",
              "      <td>0</td>\n",
              "      <td>1</td>\n",
              "    </tr>\n",
              "    <tr>\n",
              "      <th>1</th>\n",
              "      <td>20180321</td>\n",
              "      <td>20180321</td>\n",
              "      <td>KDT</td>\n",
              "      <td>KDT</td>\n",
              "      <td>?</td>\n",
              "      <td>03F960</td>\n",
              "      <td>KS</td>\n",
              "      <td>?</td>\n",
              "      <td>QC</td>\n",
              "      <td>MISTER</td>\n",
              "      <td>M</td>\n",
              "      <td>?</td>\n",
              "      <td>KDT</td>\n",
              "      <td>1</td>\n",
              "      <td>Y</td>\n",
              "      <td>1</td>\n",
              "      <td>0</td>\n",
              "      <td>0</td>\n",
              "      <td>0</td>\n",
              "      <td>1</td>\n",
              "      <td>0</td>\n",
              "      <td>0</td>\n",
              "      <td>1</td>\n",
              "    </tr>\n",
              "    <tr>\n",
              "      <th>2</th>\n",
              "      <td>20190322</td>\n",
              "      <td>20190322</td>\n",
              "      <td>KDT</td>\n",
              "      <td>KDT</td>\n",
              "      <td>?</td>\n",
              "      <td>03AA2P</td>\n",
              "      <td>KS</td>\n",
              "      <td>Y011161</td>\n",
              "      <td>QC</td>\n",
              "      <td>MISTER</td>\n",
              "      <td>M</td>\n",
              "      <td>?</td>\n",
              "      <td>?</td>\n",
              "      <td>1</td>\n",
              "      <td>Y</td>\n",
              "      <td>0</td>\n",
              "      <td>0</td>\n",
              "      <td>0</td>\n",
              "      <td>0</td>\n",
              "      <td>0</td>\n",
              "      <td>0</td>\n",
              "      <td>0</td>\n",
              "      <td>1</td>\n",
              "    </tr>\n",
              "    <tr>\n",
              "      <th>3</th>\n",
              "      <td>20180515</td>\n",
              "      <td>20180515</td>\n",
              "      <td>KDT</td>\n",
              "      <td>KDT</td>\n",
              "      <td>?</td>\n",
              "      <td>0353D0</td>\n",
              "      <td>MK</td>\n",
              "      <td>?</td>\n",
              "      <td>TS</td>\n",
              "      <td>MISTER</td>\n",
              "      <td>M</td>\n",
              "      <td>?</td>\n",
              "      <td>?</td>\n",
              "      <td>1</td>\n",
              "      <td>Y</td>\n",
              "      <td>1</td>\n",
              "      <td>0</td>\n",
              "      <td>0</td>\n",
              "      <td>0</td>\n",
              "      <td>1</td>\n",
              "      <td>0</td>\n",
              "      <td>0</td>\n",
              "      <td>2</td>\n",
              "    </tr>\n",
              "    <tr>\n",
              "      <th>4</th>\n",
              "      <td>20190420</td>\n",
              "      <td>20190420</td>\n",
              "      <td>KDT</td>\n",
              "      <td>KDT</td>\n",
              "      <td>?</td>\n",
              "      <td>03F902</td>\n",
              "      <td>KS</td>\n",
              "      <td>Y013437</td>\n",
              "      <td>QC</td>\n",
              "      <td>MISTER</td>\n",
              "      <td>M</td>\n",
              "      <td>?</td>\n",
              "      <td>?</td>\n",
              "      <td>1</td>\n",
              "      <td>Y</td>\n",
              "      <td>0</td>\n",
              "      <td>0</td>\n",
              "      <td>0</td>\n",
              "      <td>1</td>\n",
              "      <td>0</td>\n",
              "      <td>0</td>\n",
              "      <td>0</td>\n",
              "      <td>1</td>\n",
              "    </tr>\n",
              "  </tbody>\n",
              "</table>\n",
              "</div>"
            ],
            "text/plain": [
              "   Departure_YMD_LMT  Operation_YMD_LMT  ... SWC_Has_Infant Operation_Count\n",
              "0           20190326           20190326  ...              0               1\n",
              "1           20180321           20180321  ...              0               1\n",
              "2           20190322           20190322  ...              0               1\n",
              "3           20180515           20180515  ...              0               2\n",
              "4           20190420           20190420  ...              0               1\n",
              "\n",
              "[5 rows x 23 columns]"
            ]
          },
          "metadata": {
            "tags": []
          },
          "execution_count": 7
        }
      ]
    },
    {
      "cell_type": "code",
      "metadata": {
        "id": "xvXuuqg_YwJx",
        "colab_type": "code",
        "outputId": "13e733eb-1851-4c58-824b-4c2142a15f30",
        "colab": {
          "base_uri": "https://localhost:8080/",
          "height": 224
        }
      },
      "source": [
        "result_df.head()"
      ],
      "execution_count": 9,
      "outputs": [
        {
          "output_type": "execute_result",
          "data": {
            "text/html": [
              "<div>\n",
              "<style scoped>\n",
              "    .dataframe tbody tr th:only-of-type {\n",
              "        vertical-align: middle;\n",
              "    }\n",
              "\n",
              "    .dataframe tbody tr th {\n",
              "        vertical-align: top;\n",
              "    }\n",
              "\n",
              "    .dataframe thead th {\n",
              "        text-align: right;\n",
              "    }\n",
              "</style>\n",
              "<table border=\"1\" class=\"dataframe\">\n",
              "  <thead>\n",
              "    <tr style=\"text-align: right;\">\n",
              "      <th></th>\n",
              "      <th>Departure_YMD_LMT</th>\n",
              "      <th>Operation_YMD_LMT</th>\n",
              "      <th>Departure_Airport</th>\n",
              "      <th>Operation_Airport</th>\n",
              "      <th>Terminal_Number</th>\n",
              "      <th>Terminal_Name</th>\n",
              "      <th>Operation_Initials</th>\n",
              "      <th>Operation_Sonic_Code</th>\n",
              "      <th>Operation_Channel</th>\n",
              "      <th>Passenger_Title</th>\n",
              "      <th>Passenger_Gender</th>\n",
              "      <th>Inbound_Departure_Airport</th>\n",
              "      <th>Outbound_Arrival_Airport</th>\n",
              "      <th>SWC_FLY</th>\n",
              "      <th>Cabin_Class</th>\n",
              "      <th>SWC_FQTV_Member</th>\n",
              "      <th>Passenger_Baggage_Count</th>\n",
              "      <th>Passenger_Baggage_Weight</th>\n",
              "      <th>SWC_Staff</th>\n",
              "      <th>SWC_CIP_Passenger</th>\n",
              "      <th>SWC_VIP_Passenger</th>\n",
              "      <th>SWC_Has_Infant</th>\n",
              "      <th>Operation_Count</th>\n",
              "    </tr>\n",
              "  </thead>\n",
              "  <tbody>\n",
              "    <tr>\n",
              "      <th>0</th>\n",
              "      <td>20190608</td>\n",
              "      <td>20190607</td>\n",
              "      <td>KDT</td>\n",
              "      <td>KDT</td>\n",
              "      <td>?</td>\n",
              "      <td>03539F</td>\n",
              "      <td>MK</td>\n",
              "      <td>?</td>\n",
              "      <td>TS</td>\n",
              "      <td>MISS</td>\n",
              "      <td>F</td>\n",
              "      <td>?</td>\n",
              "      <td>?</td>\n",
              "      <td>1</td>\n",
              "      <td>Y</td>\n",
              "      <td>1</td>\n",
              "      <td>1</td>\n",
              "      <td>17</td>\n",
              "      <td>0</td>\n",
              "      <td>0</td>\n",
              "      <td>0</td>\n",
              "      <td>0</td>\n",
              "      <td></td>\n",
              "    </tr>\n",
              "    <tr>\n",
              "      <th>1</th>\n",
              "      <td>20190609</td>\n",
              "      <td>20190609</td>\n",
              "      <td>KDT</td>\n",
              "      <td>KDT</td>\n",
              "      <td>?</td>\n",
              "      <td>03F39C</td>\n",
              "      <td>KS</td>\n",
              "      <td>Y013171</td>\n",
              "      <td>QC</td>\n",
              "      <td>MISTER</td>\n",
              "      <td>M</td>\n",
              "      <td>?</td>\n",
              "      <td>?</td>\n",
              "      <td>1</td>\n",
              "      <td>Y</td>\n",
              "      <td>0</td>\n",
              "      <td>1</td>\n",
              "      <td>7</td>\n",
              "      <td>0</td>\n",
              "      <td>0</td>\n",
              "      <td>0</td>\n",
              "      <td>0</td>\n",
              "      <td></td>\n",
              "    </tr>\n",
              "    <tr>\n",
              "      <th>2</th>\n",
              "      <td>20190612</td>\n",
              "      <td>20190612</td>\n",
              "      <td>KDT</td>\n",
              "      <td>KDT</td>\n",
              "      <td>?</td>\n",
              "      <td>032A72</td>\n",
              "      <td>KS</td>\n",
              "      <td>Y013347</td>\n",
              "      <td>QC</td>\n",
              "      <td>MISTER</td>\n",
              "      <td>M</td>\n",
              "      <td>?</td>\n",
              "      <td>KDT</td>\n",
              "      <td>1</td>\n",
              "      <td>Y</td>\n",
              "      <td>1</td>\n",
              "      <td>0</td>\n",
              "      <td>0</td>\n",
              "      <td>0</td>\n",
              "      <td>0</td>\n",
              "      <td>0</td>\n",
              "      <td>0</td>\n",
              "      <td></td>\n",
              "    </tr>\n",
              "    <tr>\n",
              "      <th>3</th>\n",
              "      <td>20190613</td>\n",
              "      <td>20190612</td>\n",
              "      <td>KDT</td>\n",
              "      <td>KDT</td>\n",
              "      <td>?</td>\n",
              "      <td>0302F9</td>\n",
              "      <td>Q7</td>\n",
              "      <td>?</td>\n",
              "      <td>TW</td>\n",
              "      <td>MISTER</td>\n",
              "      <td>M</td>\n",
              "      <td>IST</td>\n",
              "      <td>?</td>\n",
              "      <td>1</td>\n",
              "      <td>Y</td>\n",
              "      <td>1</td>\n",
              "      <td>0</td>\n",
              "      <td>0</td>\n",
              "      <td>0</td>\n",
              "      <td>1</td>\n",
              "      <td>0</td>\n",
              "      <td>0</td>\n",
              "      <td></td>\n",
              "    </tr>\n",
              "    <tr>\n",
              "      <th>4</th>\n",
              "      <td>20190602</td>\n",
              "      <td>20190601</td>\n",
              "      <td>KDT</td>\n",
              "      <td>KDT</td>\n",
              "      <td>?</td>\n",
              "      <td>03023B</td>\n",
              "      <td>MK</td>\n",
              "      <td>?</td>\n",
              "      <td>TW</td>\n",
              "      <td>MISS</td>\n",
              "      <td>F</td>\n",
              "      <td>?</td>\n",
              "      <td>?</td>\n",
              "      <td>1</td>\n",
              "      <td>Y</td>\n",
              "      <td>0</td>\n",
              "      <td>1</td>\n",
              "      <td>18</td>\n",
              "      <td>0</td>\n",
              "      <td>0</td>\n",
              "      <td>0</td>\n",
              "      <td>0</td>\n",
              "      <td></td>\n",
              "    </tr>\n",
              "  </tbody>\n",
              "</table>\n",
              "</div>"
            ],
            "text/plain": [
              "   Departure_YMD_LMT  Operation_YMD_LMT  ... SWC_Has_Infant Operation_Count\n",
              "0           20190608           20190607  ...              0                \n",
              "1           20190609           20190609  ...              0                \n",
              "2           20190612           20190612  ...              0                \n",
              "3           20190613           20190612  ...              0                \n",
              "4           20190602           20190601  ...              0                \n",
              "\n",
              "[5 rows x 23 columns]"
            ]
          },
          "metadata": {
            "tags": []
          },
          "execution_count": 9
        }
      ]
    },
    {
      "cell_type": "markdown",
      "metadata": {
        "id": "4ZY-nm_npgp3",
        "colab_type": "text"
      },
      "source": [
        "Check what data types we have:"
      ]
    },
    {
      "cell_type": "code",
      "metadata": {
        "id": "GLxegNa1pd8G",
        "colab_type": "code",
        "outputId": "67ef8793-c30d-483c-ea3c-ec49ad9fe0de",
        "colab": {
          "base_uri": "https://localhost:8080/",
          "height": 425
        }
      },
      "source": [
        "train_df.dtypes"
      ],
      "execution_count": 0,
      "outputs": [
        {
          "output_type": "execute_result",
          "data": {
            "text/plain": [
              "Departure_YMD_LMT             int64\n",
              "Operation_YMD_LMT             int64\n",
              "Departure_Airport            object\n",
              "Operation_Airport            object\n",
              "Terminal_Number              object\n",
              "Terminal_Name                object\n",
              "Operation_Initials           object\n",
              "Operation_Sonic_Code         object\n",
              "Operation_Channel            object\n",
              "Passenger_Title              object\n",
              "Passenger_Gender             object\n",
              "Inbound_Departure_Airport    object\n",
              "Outbound_Arrival_Airport     object\n",
              "SWC_FLY                       int64\n",
              "Cabin_Class                  object\n",
              "SWC_FQTV_Member               int64\n",
              "Passenger_Baggage_Count       int64\n",
              "Passenger_Baggage_Weight      int64\n",
              "SWC_Staff                     int64\n",
              "SWC_CIP_Passenger             int64\n",
              "SWC_VIP_Passenger             int64\n",
              "SWC_Has_Infant                int64\n",
              "Operation_Count               int64\n",
              "dtype: object"
            ]
          },
          "metadata": {
            "tags": []
          },
          "execution_count": 6
        }
      ]
    },
    {
      "cell_type": "markdown",
      "metadata": {
        "id": "l4_01rsyCmlL",
        "colab_type": "text"
      },
      "source": [
        "In the *Departure_YMD_LMT* and the *Operation_YMD_LMT* colums, date of departure and date of check is stored so it is convenient to convert them to date time objects."
      ]
    },
    {
      "cell_type": "code",
      "metadata": {
        "id": "JU_XBMXRDqOZ",
        "colab_type": "code",
        "colab": {}
      },
      "source": [
        "train_df['Departure_YMD_LMT'] = pd.to_datetime(train_df['Departure_YMD_LMT'])\n",
        "train_df['Operation_YMD_LMT'] = pd.to_datetime(train_df['Operation_YMD_LMT'])\n",
        "result_df['Departure_YMD_LMT'] = pd.to_datetime(result_df['Departure_YMD_LMT'])\n",
        "result_df['Operation_YMD_LMT'] = pd.to_datetime(result_df['Operation_YMD_LMT'])"
      ],
      "execution_count": 0,
      "outputs": []
    },
    {
      "cell_type": "code",
      "metadata": {
        "id": "Gul7qn8ZEW4Y",
        "colab_type": "code",
        "colab": {
          "base_uri": "https://localhost:8080/",
          "height": 425
        },
        "outputId": "adcf567c-7af4-49c1-9a81-ddfe16cf0e19"
      },
      "source": [
        "train_df.dtypes"
      ],
      "execution_count": 11,
      "outputs": [
        {
          "output_type": "execute_result",
          "data": {
            "text/plain": [
              "Departure_YMD_LMT            datetime64[ns]\n",
              "Operation_YMD_LMT            datetime64[ns]\n",
              "Departure_Airport                    object\n",
              "Operation_Airport                    object\n",
              "Terminal_Number                      object\n",
              "Terminal_Name                        object\n",
              "Operation_Initials                   object\n",
              "Operation_Sonic_Code                 object\n",
              "Operation_Channel                    object\n",
              "Passenger_Title                      object\n",
              "Passenger_Gender                     object\n",
              "Inbound_Departure_Airport            object\n",
              "Outbound_Arrival_Airport             object\n",
              "SWC_FLY                               int64\n",
              "Cabin_Class                          object\n",
              "SWC_FQTV_Member                       int64\n",
              "Passenger_Baggage_Count               int64\n",
              "Passenger_Baggage_Weight              int64\n",
              "SWC_Staff                             int64\n",
              "SWC_CIP_Passenger                     int64\n",
              "SWC_VIP_Passenger                     int64\n",
              "SWC_Has_Infant                        int64\n",
              "Operation_Count                       int64\n",
              "dtype: object"
            ]
          },
          "metadata": {
            "tags": []
          },
          "execution_count": 11
        }
      ]
    }
  ]
}